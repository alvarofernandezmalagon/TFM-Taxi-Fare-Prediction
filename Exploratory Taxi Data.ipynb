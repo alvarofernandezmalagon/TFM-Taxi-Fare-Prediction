{
 "cells": [
  {
   "cell_type": "markdown",
   "metadata": {},
   "source": [
    "# Cleaning the Data"
   ]
  },
  {
   "cell_type": "markdown",
   "metadata": {},
   "source": [
    "41.8755616,-87.6244212 lat,long"
   ]
  },
  {
   "cell_type": "markdown",
   "metadata": {},
   "source": [
    "## 1 Create our environment"
   ]
  },
  {
   "cell_type": "markdown",
   "metadata": {},
   "source": [
    "#### Create the Spark Session"
   ]
  },
  {
   "cell_type": "code",
   "execution_count": 1,
   "metadata": {},
   "outputs": [],
   "source": [
    "import findspark\n",
    "findspark.init()"
   ]
  },
  {
   "cell_type": "code",
   "execution_count": 2,
   "metadata": {},
   "outputs": [],
   "source": [
    "from pyspark.sql import SparkSession, SQLContext\n",
    "from pyspark import SparkConf, SparkContext"
   ]
  },
  {
   "cell_type": "code",
   "execution_count": 3,
   "metadata": {},
   "outputs": [],
   "source": [
    "sc_conf = SparkConf()"
   ]
  },
  {
   "cell_type": "code",
   "execution_count": 4,
   "metadata": {},
   "outputs": [
    {
     "data": {
      "text/plain": [
       "<pyspark.conf.SparkConf at 0x10858e7f0>"
      ]
     },
     "execution_count": 4,
     "metadata": {},
     "output_type": "execute_result"
    }
   ],
   "source": [
    "sc_conf.set('spark.driver.port', '62678')\n",
    "sc_conf.set('spark.rdd.compress', 'True')\n",
    "sc_conf.set('spark.driver.host', '127.0.0.1')\n",
    "sc_conf.set('spark.serializer.objectStreamReset', '100')\n",
    "sc_conf.set('spark.master', 'local[*]')\n",
    "sc_conf.set('spark.executor.id', 'driver')\n",
    "sc_conf.set('spark.submit.deployMode', 'client')\n",
    "sc_conf.set('spark.ui.showConsoleProgress', 'true')\n",
    "sc_conf.set('spark.app.name', 'pyspark-shell')\n",
    "sc_conf.set(\"spark.executor.memory\",\"1g\")\n",
    "sc_conf.set(\"spark.driver.memory\",\"6g\")"
   ]
  },
  {
   "cell_type": "code",
   "execution_count": 5,
   "metadata": {},
   "outputs": [
    {
     "data": {
      "text/plain": [
       "dict_items([('spark.driver.port', '62678'), ('spark.rdd.compress', 'True'), ('spark.driver.host', '127.0.0.1'), ('spark.serializer.objectStreamReset', '100'), ('spark.master', 'local[*]'), ('spark.executor.id', 'driver'), ('spark.submit.deployMode', 'client'), ('spark.ui.showConsoleProgress', 'true'), ('spark.app.name', 'pyspark-shell'), ('spark.executor.memory', '1g'), ('spark.driver.memory', '6g')])"
      ]
     },
     "execution_count": 5,
     "metadata": {},
     "output_type": "execute_result"
    }
   ],
   "source": [
    "sc_conf.getAll()"
   ]
  },
  {
   "cell_type": "code",
   "execution_count": 6,
   "metadata": {},
   "outputs": [],
   "source": [
    "sc = SparkContext(conf=sc_conf)"
   ]
  },
  {
   "cell_type": "code",
   "execution_count": 7,
   "metadata": {},
   "outputs": [],
   "source": [
    "sql = SQLContext(sc)"
   ]
  },
  {
   "cell_type": "code",
   "execution_count": 8,
   "metadata": {},
   "outputs": [
    {
     "data": {
      "text/html": [
       "\n",
       "            <div>\n",
       "                <p><b>SparkSession - in-memory</b></p>\n",
       "                \n",
       "        <div>\n",
       "            <p><b>SparkContext</b></p>\n",
       "\n",
       "            <p><a href=\"http://127.0.0.1:4041\">Spark UI</a></p>\n",
       "\n",
       "            <dl>\n",
       "              <dt>Version</dt>\n",
       "                <dd><code>v2.4.0</code></dd>\n",
       "              <dt>Master</dt>\n",
       "                <dd><code>local[*]</code></dd>\n",
       "              <dt>AppName</dt>\n",
       "                <dd><code>pyspark-shell</code></dd>\n",
       "            </dl>\n",
       "        </div>\n",
       "        \n",
       "            </div>\n",
       "        "
      ],
      "text/plain": [
       "<pyspark.sql.session.SparkSession at 0x1084b1710>"
      ]
     },
     "execution_count": 8,
     "metadata": {},
     "output_type": "execute_result"
    }
   ],
   "source": [
    "session = sql.sparkSession\n",
    "session"
   ]
  },
  {
   "cell_type": "code",
   "execution_count": 9,
   "metadata": {},
   "outputs": [
    {
     "data": {
      "text/plain": [
       "[('spark.driver.port', '62679'),\n",
       " ('spark.driver.host', '127.0.0.1'),\n",
       " ('spark.driver.memory', '6g'),\n",
       " ('spark.executor.memory', '1g'),\n",
       " ('spark.rdd.compress', 'True'),\n",
       " ('spark.serializer.objectStreamReset', '100'),\n",
       " ('spark.master', 'local[*]'),\n",
       " ('spark.executor.id', 'driver'),\n",
       " ('spark.submit.deployMode', 'client'),\n",
       " ('spark.ui.showConsoleProgress', 'true'),\n",
       " ('spark.app.name', 'pyspark-shell'),\n",
       " ('spark.app.id', 'local-1554561986358')]"
      ]
     },
     "execution_count": 9,
     "metadata": {},
     "output_type": "execute_result"
    }
   ],
   "source": [
    "session.sparkContext.getConf().getAll()"
   ]
  },
  {
   "cell_type": "markdown",
   "metadata": {},
   "source": [
    "#### Load the libraries, we´re going to use "
   ]
  },
  {
   "cell_type": "code",
   "execution_count": 10,
   "metadata": {},
   "outputs": [],
   "source": [
    "%matplotlib inline\n",
    "\n",
    "from pyspark.sql import SparkSession\n",
    "from pyspark.sql import functions as F\n",
    "from pyspark.sql import types as T\n",
    "from pyspark.mllib.stat import Statistics\n",
    "from pyspark.mllib.linalg import Vectors\n",
    "import pandas as pd\n",
    "import numpy as np\n",
    "import matplotlib.pyplot as plt\n",
    "import webbrowser\n",
    "import seaborn as sns\n",
    "from tqdm import tqdm_notebook\n",
    "pd.options.display.max_columns = None"
   ]
  },
  {
   "cell_type": "markdown",
   "metadata": {},
   "source": [
    "#### Read the data"
   ]
  },
  {
   "cell_type": "code",
   "execution_count": 53,
   "metadata": {},
   "outputs": [
    {
     "name": "stdout",
     "output_type": "stream",
     "text": [
      "+--------------------+--------------------+--------------------+--------------------+------------+----------+-------------------+--------------------+---------------------+----------------------+----+----+-----+------+----------+------------+--------------------+------------------------+-------------------------+------------------------+-------------------------+--------------------------+--------------------------+---------------+\n",
      "|             Trip ID|             Taxi ID|Trip Start Timestamp|  Trip End Timestamp|Trip Seconds|Trip Miles|Pickup Census Tract|Dropoff Census Tract|Pickup Community Area|Dropoff Community Area|Fare|Tips|Tolls|Extras|Trip Total|Payment Type|             Company|Pickup Centroid Latitude|Pickup Centroid Longitude|Pickup Centroid Location|Dropoff Centroid Latitude|Dropoff Centroid Longitude|Dropoff Centroid  Location|Community Areas|\n",
      "+--------------------+--------------------+--------------------+--------------------+------------+----------+-------------------+--------------------+---------------------+----------------------+----+----+-----+------+----------+------------+--------------------+------------------------+-------------------------+------------------------+-------------------------+--------------------------+--------------------------+---------------+\n",
      "|2014a7f89716c3ccc...|9492b268e840fcd19...|09/22/2015 05:30:...|09/22/2015 05:45:...|         420|       1.1|        17031839100|         17031081100|                   32|                     8|6.25| 0.0|  0.0|   0.0|      6.25|        Cash|                null|            41.880994471|            -87.632746489|    POINT (-87.632746...|             41.900221297|             -87.629105186|      POINT (-87.629105...|             38|\n",
      "|2014a81cdb5b71886...|d552bd52346c36f10...|09/17/2013 06:45:...|09/17/2013 07:00:...|         540|       3.2|               null|                null|                    8|                    24|9.65| 0.0|  0.0|   0.0|      9.65|        Cash|                null|            41.899602111|            -87.633308037|    POINT (-87.633308...|             41.901206994|             -87.676355989|      POINT (-87.676355...|             37|\n",
      "|2014a8218f8d69bb6...|1df52fc60f8edec54...|01/02/2016 10:30:...|01/02/2016 10:30:...|         180|       0.8|        17031081700|         17031081000|                    8|                     8|5.25| 0.0|  0.0|   0.0|      5.25|        Cash|                null|            41.892042136|             -87.63186395|    POINT (-87.631863...|             41.900265687|              -87.63210922|      POINT (-87.632109...|             37|\n",
      "|2014a86b8e1e98a86...|d96279b9f0d9e121d...|12/15/2015 11:45:...|12/15/2015 11:45:...|         360|       0.0|               null|                null|                    7|                     7|6.05| 0.0|  0.0|   0.0|      6.05|        Cash|Taxi Affiliation ...|            41.922686284|            -87.649488729|    POINT (-87.649488...|             41.922686284|             -87.649488729|      POINT (-87.649488...|             68|\n",
      "|2014a8724a96df31e...|a485350f36958a278...|06/03/2013 07:00:...|06/03/2013 07:15:...|         480|       0.9|        17031839100|         17031320100|                   32|                    32|6.45| 0.0|  0.0|   0.0|      6.45|        Cash|                null|            41.880994471|            -87.632746489|    POINT (-87.632746...|             41.884987192|             -87.620992913|      POINT (-87.620992...|             38|\n",
      "+--------------------+--------------------+--------------------+--------------------+------------+----------+-------------------+--------------------+---------------------+----------------------+----+----+-----+------+----------+------------+--------------------+------------------------+-------------------------+------------------------+-------------------------+--------------------------+--------------------------+---------------+\n",
      "only showing top 5 rows\n",
      "\n"
     ]
    }
   ],
   "source": [
    "taxi_df = session.read.csv('Data/Taxi_Trips.csv',\n",
    "                              header=True,\n",
    "                              inferSchema=True)\n",
    "taxi_df.show(5)"
   ]
  },
  {
   "cell_type": "code",
   "execution_count": 54,
   "metadata": {},
   "outputs": [],
   "source": [
    "taxi_df = taxi_df.sample(0.004)"
   ]
  },
  {
   "cell_type": "markdown",
   "metadata": {},
   "source": [
    "## 2 Quick data analysis "
   ]
  },
  {
   "cell_type": "markdown",
   "metadata": {},
   "source": [
    "#### Get some trips to check the data"
   ]
  },
  {
   "cell_type": "code",
   "execution_count": 14,
   "metadata": {},
   "outputs": [
    {
     "data": {
      "text/html": [
       "<div>\n",
       "<style scoped>\n",
       "    .dataframe tbody tr th:only-of-type {\n",
       "        vertical-align: middle;\n",
       "    }\n",
       "\n",
       "    .dataframe tbody tr th {\n",
       "        vertical-align: top;\n",
       "    }\n",
       "\n",
       "    .dataframe thead th {\n",
       "        text-align: right;\n",
       "    }\n",
       "</style>\n",
       "<table border=\"1\" class=\"dataframe\">\n",
       "  <thead>\n",
       "    <tr style=\"text-align: right;\">\n",
       "      <th></th>\n",
       "      <th>Trip ID</th>\n",
       "      <th>Taxi ID</th>\n",
       "      <th>Trip Start Timestamp</th>\n",
       "      <th>Trip End Timestamp</th>\n",
       "      <th>Trip Seconds</th>\n",
       "      <th>Trip Miles</th>\n",
       "      <th>Pickup Census Tract</th>\n",
       "      <th>Dropoff Census Tract</th>\n",
       "      <th>Pickup Community Area</th>\n",
       "      <th>Dropoff Community Area</th>\n",
       "      <th>Fare</th>\n",
       "      <th>Tips</th>\n",
       "      <th>Tolls</th>\n",
       "      <th>Extras</th>\n",
       "      <th>Trip Total</th>\n",
       "      <th>Payment Type</th>\n",
       "      <th>Company</th>\n",
       "      <th>Pickup Centroid Latitude</th>\n",
       "      <th>Pickup Centroid Longitude</th>\n",
       "      <th>Pickup Centroid Location</th>\n",
       "      <th>Dropoff Centroid Latitude</th>\n",
       "      <th>Dropoff Centroid Longitude</th>\n",
       "      <th>Dropoff Centroid  Location</th>\n",
       "      <th>Community Areas</th>\n",
       "    </tr>\n",
       "  </thead>\n",
       "  <tbody>\n",
       "    <tr>\n",
       "      <th>0</th>\n",
       "      <td>2014bdb2508757f9fd8b5cd1a33cf24e67a421d8</td>\n",
       "      <td>296cddcb1099b802d5ed3f470e180bd12feb786b93dd9f...</td>\n",
       "      <td>05/23/2016 10:30:00 AM</td>\n",
       "      <td>05/23/2016 11:15:00 AM</td>\n",
       "      <td>2700</td>\n",
       "      <td>18.4</td>\n",
       "      <td>1.703198e+10</td>\n",
       "      <td>1.703184e+10</td>\n",
       "      <td>76</td>\n",
       "      <td>32</td>\n",
       "      <td>44.50</td>\n",
       "      <td>12.12</td>\n",
       "      <td>0.0</td>\n",
       "      <td>4.0</td>\n",
       "      <td>61.12</td>\n",
       "      <td>Credit Card</td>\n",
       "      <td>None</td>\n",
       "      <td>41.979071</td>\n",
       "      <td>-87.903040</td>\n",
       "      <td>POINT (-87.9030396611 41.9790708201)</td>\n",
       "      <td>41.880994</td>\n",
       "      <td>-87.632746</td>\n",
       "      <td>POINT (-87.6327464887 41.8809944707)</td>\n",
       "      <td>75</td>\n",
       "    </tr>\n",
       "    <tr>\n",
       "      <th>1</th>\n",
       "      <td>2014dbbd8537e4cd805eedf4d90535014f99caf8</td>\n",
       "      <td>e3cc7912da1547a0c5970e1d365c985a29523406e5ea47...</td>\n",
       "      <td>03/17/2016 01:45:00 PM</td>\n",
       "      <td>03/17/2016 02:00:00 PM</td>\n",
       "      <td>720</td>\n",
       "      <td>2.0</td>\n",
       "      <td>1.703184e+10</td>\n",
       "      <td>1.703133e+10</td>\n",
       "      <td>32</td>\n",
       "      <td>33</td>\n",
       "      <td>9.50</td>\n",
       "      <td>2.00</td>\n",
       "      <td>0.0</td>\n",
       "      <td>0.0</td>\n",
       "      <td>11.50</td>\n",
       "      <td>Credit Card</td>\n",
       "      <td>Top Cab Affiliation</td>\n",
       "      <td>41.880994</td>\n",
       "      <td>-87.632746</td>\n",
       "      <td>POINT (-87.6327464887 41.8809944707)</td>\n",
       "      <td>41.859350</td>\n",
       "      <td>-87.617358</td>\n",
       "      <td>POINT (-87.6173580061 41.859349715)</td>\n",
       "      <td>38</td>\n",
       "    </tr>\n",
       "    <tr>\n",
       "      <th>2</th>\n",
       "      <td>2014dc31431cedbaee280d47329d27896fea0102</td>\n",
       "      <td>d461dc72b7a599bfba3f33fae867f5530e0c5aa5c200d8...</td>\n",
       "      <td>09/01/2015 07:15:00 AM</td>\n",
       "      <td>09/01/2015 07:30:00 AM</td>\n",
       "      <td>300</td>\n",
       "      <td>0.0</td>\n",
       "      <td>1.703108e+10</td>\n",
       "      <td>1.703128e+10</td>\n",
       "      <td>8</td>\n",
       "      <td>28</td>\n",
       "      <td>5.85</td>\n",
       "      <td>1.00</td>\n",
       "      <td>0.0</td>\n",
       "      <td>0.0</td>\n",
       "      <td>6.85</td>\n",
       "      <td>Credit Card</td>\n",
       "      <td>Taxi Affiliation Services</td>\n",
       "      <td>41.892508</td>\n",
       "      <td>-87.626215</td>\n",
       "      <td>POINT (-87.6262149064 41.8925077809)</td>\n",
       "      <td>41.879255</td>\n",
       "      <td>-87.642649</td>\n",
       "      <td>POINT (-87.642648998 41.8792550844)</td>\n",
       "      <td>37</td>\n",
       "    </tr>\n",
       "    <tr>\n",
       "      <th>3</th>\n",
       "      <td>2014ee275cdabe4bca02007aa25ab617701054a2</td>\n",
       "      <td>d8238dd38b47fc0268e0bd92bba094676752dfefeafea9...</td>\n",
       "      <td>01/05/2013 01:30:00 AM</td>\n",
       "      <td>01/05/2013 01:45:00 AM</td>\n",
       "      <td>480</td>\n",
       "      <td>2.2</td>\n",
       "      <td>NaN</td>\n",
       "      <td>NaN</td>\n",
       "      <td>8</td>\n",
       "      <td>28</td>\n",
       "      <td>7.85</td>\n",
       "      <td>0.00</td>\n",
       "      <td>0.0</td>\n",
       "      <td>0.0</td>\n",
       "      <td>7.85</td>\n",
       "      <td>Cash</td>\n",
       "      <td>Dispatch Taxi Affiliation</td>\n",
       "      <td>41.899602</td>\n",
       "      <td>-87.633308</td>\n",
       "      <td>POINT (-87.6333080367 41.899602111)</td>\n",
       "      <td>41.874005</td>\n",
       "      <td>-87.663518</td>\n",
       "      <td>POINT (-87.6635175498 41.874005383)</td>\n",
       "      <td>37</td>\n",
       "    </tr>\n",
       "    <tr>\n",
       "      <th>4</th>\n",
       "      <td>2014fcebeef117fe030ad568347f34bcc33a8466</td>\n",
       "      <td>d2ec583d8a9dc229ced98812a8f7645bfc2588dfbd4192...</td>\n",
       "      <td>04/01/2016 02:15:00 PM</td>\n",
       "      <td>04/01/2016 02:15:00 PM</td>\n",
       "      <td>300</td>\n",
       "      <td>0.0</td>\n",
       "      <td>1.703128e+10</td>\n",
       "      <td>1.703128e+10</td>\n",
       "      <td>28</td>\n",
       "      <td>28</td>\n",
       "      <td>5.50</td>\n",
       "      <td>4.00</td>\n",
       "      <td>0.0</td>\n",
       "      <td>0.0</td>\n",
       "      <td>9.50</td>\n",
       "      <td>Credit Card</td>\n",
       "      <td>Taxi Affiliation Services</td>\n",
       "      <td>41.879255</td>\n",
       "      <td>-87.642649</td>\n",
       "      <td>POINT (-87.642648998 41.8792550844)</td>\n",
       "      <td>41.879255</td>\n",
       "      <td>-87.642649</td>\n",
       "      <td>POINT (-87.642648998 41.8792550844)</td>\n",
       "      <td>29</td>\n",
       "    </tr>\n",
       "  </tbody>\n",
       "</table>\n",
       "</div>"
      ],
      "text/plain": [
       "                                    Trip ID  \\\n",
       "0  2014bdb2508757f9fd8b5cd1a33cf24e67a421d8   \n",
       "1  2014dbbd8537e4cd805eedf4d90535014f99caf8   \n",
       "2  2014dc31431cedbaee280d47329d27896fea0102   \n",
       "3  2014ee275cdabe4bca02007aa25ab617701054a2   \n",
       "4  2014fcebeef117fe030ad568347f34bcc33a8466   \n",
       "\n",
       "                                             Taxi ID    Trip Start Timestamp  \\\n",
       "0  296cddcb1099b802d5ed3f470e180bd12feb786b93dd9f...  05/23/2016 10:30:00 AM   \n",
       "1  e3cc7912da1547a0c5970e1d365c985a29523406e5ea47...  03/17/2016 01:45:00 PM   \n",
       "2  d461dc72b7a599bfba3f33fae867f5530e0c5aa5c200d8...  09/01/2015 07:15:00 AM   \n",
       "3  d8238dd38b47fc0268e0bd92bba094676752dfefeafea9...  01/05/2013 01:30:00 AM   \n",
       "4  d2ec583d8a9dc229ced98812a8f7645bfc2588dfbd4192...  04/01/2016 02:15:00 PM   \n",
       "\n",
       "       Trip End Timestamp  Trip Seconds  Trip Miles  Pickup Census Tract  \\\n",
       "0  05/23/2016 11:15:00 AM          2700        18.4         1.703198e+10   \n",
       "1  03/17/2016 02:00:00 PM           720         2.0         1.703184e+10   \n",
       "2  09/01/2015 07:30:00 AM           300         0.0         1.703108e+10   \n",
       "3  01/05/2013 01:45:00 AM           480         2.2                  NaN   \n",
       "4  04/01/2016 02:15:00 PM           300         0.0         1.703128e+10   \n",
       "\n",
       "   Dropoff Census Tract  Pickup Community Area  Dropoff Community Area   Fare  \\\n",
       "0          1.703184e+10                     76                      32  44.50   \n",
       "1          1.703133e+10                     32                      33   9.50   \n",
       "2          1.703128e+10                      8                      28   5.85   \n",
       "3                   NaN                      8                      28   7.85   \n",
       "4          1.703128e+10                     28                      28   5.50   \n",
       "\n",
       "    Tips  Tolls  Extras  Trip Total Payment Type                    Company  \\\n",
       "0  12.12    0.0     4.0       61.12  Credit Card                       None   \n",
       "1   2.00    0.0     0.0       11.50  Credit Card        Top Cab Affiliation   \n",
       "2   1.00    0.0     0.0        6.85  Credit Card  Taxi Affiliation Services   \n",
       "3   0.00    0.0     0.0        7.85         Cash  Dispatch Taxi Affiliation   \n",
       "4   4.00    0.0     0.0        9.50  Credit Card  Taxi Affiliation Services   \n",
       "\n",
       "   Pickup Centroid Latitude  Pickup Centroid Longitude  \\\n",
       "0                 41.979071                 -87.903040   \n",
       "1                 41.880994                 -87.632746   \n",
       "2                 41.892508                 -87.626215   \n",
       "3                 41.899602                 -87.633308   \n",
       "4                 41.879255                 -87.642649   \n",
       "\n",
       "               Pickup Centroid Location  Dropoff Centroid Latitude  \\\n",
       "0  POINT (-87.9030396611 41.9790708201)                  41.880994   \n",
       "1  POINT (-87.6327464887 41.8809944707)                  41.859350   \n",
       "2  POINT (-87.6262149064 41.8925077809)                  41.879255   \n",
       "3   POINT (-87.6333080367 41.899602111)                  41.874005   \n",
       "4   POINT (-87.642648998 41.8792550844)                  41.879255   \n",
       "\n",
       "   Dropoff Centroid Longitude            Dropoff Centroid  Location  \\\n",
       "0                  -87.632746  POINT (-87.6327464887 41.8809944707)   \n",
       "1                  -87.617358   POINT (-87.6173580061 41.859349715)   \n",
       "2                  -87.642649   POINT (-87.642648998 41.8792550844)   \n",
       "3                  -87.663518   POINT (-87.6635175498 41.874005383)   \n",
       "4                  -87.642649   POINT (-87.642648998 41.8792550844)   \n",
       "\n",
       "   Community Areas  \n",
       "0               75  \n",
       "1               38  \n",
       "2               37  \n",
       "3               37  \n",
       "4               29  "
      ]
     },
     "execution_count": 14,
     "metadata": {},
     "output_type": "execute_result"
    }
   ],
   "source": [
    "taxi_obs=taxi_df.limit(5)\n",
    "taxi_obs.toPandas()"
   ]
  },
  {
   "cell_type": "markdown",
   "metadata": {},
   "source": [
    "The following columns can be deleted because they do not add value as a result of which they are unions or repetitions of other columns:\n",
    "\n",
    "    - Pickup Census Tract\t\n",
    "    - Dropoff Census Tract\n",
    "    - Pickup Centroid Location\n",
    "    - Dropoff Centroid Location\n",
    "    - Community Areas\n"
   ]
  },
  {
   "cell_type": "markdown",
   "metadata": {},
   "source": [
    "#### Study the dimensions of the dataset"
   ]
  },
  {
   "cell_type": "code",
   "execution_count": 15,
   "metadata": {},
   "outputs": [
    {
     "data": {
      "text/plain": [
       "451682"
      ]
     },
     "execution_count": 15,
     "metadata": {},
     "output_type": "execute_result"
    }
   ],
   "source": [
    "taxi_df.count()"
   ]
  },
  {
   "cell_type": "code",
   "execution_count": 16,
   "metadata": {},
   "outputs": [
    {
     "data": {
      "text/plain": [
       "24"
      ]
     },
     "execution_count": 16,
     "metadata": {},
     "output_type": "execute_result"
    }
   ],
   "source": [
    "len(taxi_df.columns)"
   ]
  },
  {
   "cell_type": "markdown",
   "metadata": {},
   "source": [
    "#### Check the names and types of the variables"
   ]
  },
  {
   "cell_type": "code",
   "execution_count": 55,
   "metadata": {},
   "outputs": [
    {
     "name": "stdout",
     "output_type": "stream",
     "text": [
      "root\n",
      " |-- Trip ID: string (nullable = true)\n",
      " |-- Taxi ID: string (nullable = true)\n",
      " |-- Trip Start Timestamp: string (nullable = true)\n",
      " |-- Trip End Timestamp: string (nullable = true)\n",
      " |-- Trip Seconds: integer (nullable = true)\n",
      " |-- Trip Miles: double (nullable = true)\n",
      " |-- Pickup Census Tract: long (nullable = true)\n",
      " |-- Dropoff Census Tract: long (nullable = true)\n",
      " |-- Pickup Community Area: integer (nullable = true)\n",
      " |-- Dropoff Community Area: integer (nullable = true)\n",
      " |-- Fare: double (nullable = true)\n",
      " |-- Tips: double (nullable = true)\n",
      " |-- Tolls: double (nullable = true)\n",
      " |-- Extras: double (nullable = true)\n",
      " |-- Trip Total: double (nullable = true)\n",
      " |-- Payment Type: string (nullable = true)\n",
      " |-- Company: string (nullable = true)\n",
      " |-- Pickup Centroid Latitude: double (nullable = true)\n",
      " |-- Pickup Centroid Longitude: double (nullable = true)\n",
      " |-- Pickup Centroid Location: string (nullable = true)\n",
      " |-- Dropoff Centroid Latitude: double (nullable = true)\n",
      " |-- Dropoff Centroid Longitude: double (nullable = true)\n",
      " |-- Dropoff Centroid  Location: string (nullable = true)\n",
      " |-- Community Areas: integer (nullable = true)\n",
      "\n"
     ]
    }
   ],
   "source": [
    "taxi_df.printSchema()"
   ]
  },
  {
   "cell_type": "markdown",
   "metadata": {},
   "source": [
    "## 3 Data Wrangling"
   ]
  },
  {
   "cell_type": "markdown",
   "metadata": {},
   "source": [
    "### Change the name of the variables to comply with good practices"
   ]
  },
  {
   "cell_type": "code",
   "execution_count": 56,
   "metadata": {},
   "outputs": [
    {
     "name": "stdout",
     "output_type": "stream",
     "text": [
      "root\n",
      " |-- trip_id: string (nullable = true)\n",
      " |-- taxi_id: string (nullable = true)\n",
      " |-- trip_start_timestamp: string (nullable = true)\n",
      " |-- trip_end_timestamp: string (nullable = true)\n",
      " |-- trip_seconds: integer (nullable = true)\n",
      " |-- trip_miles: double (nullable = true)\n",
      " |-- pickup_census_tract: long (nullable = true)\n",
      " |-- dropoff_census_tract: long (nullable = true)\n",
      " |-- pickup_community_area: integer (nullable = true)\n",
      " |-- dropoff_community_area: integer (nullable = true)\n",
      " |-- fare: double (nullable = true)\n",
      " |-- tips: double (nullable = true)\n",
      " |-- tolls: double (nullable = true)\n",
      " |-- extras: double (nullable = true)\n",
      " |-- trip_total: double (nullable = true)\n",
      " |-- payment_type: string (nullable = true)\n",
      " |-- company: string (nullable = true)\n",
      " |-- pickup_centroid_latitude: double (nullable = true)\n",
      " |-- pickup_centroid_longitude: double (nullable = true)\n",
      " |-- pickup_centroid_location: string (nullable = true)\n",
      " |-- dropoff_centroid_latitude: double (nullable = true)\n",
      " |-- dropoff_centroid_longitude: double (nullable = true)\n",
      " |-- dropoff_centroid__location: string (nullable = true)\n",
      " |-- community_areas: integer (nullable = true)\n",
      "\n"
     ]
    }
   ],
   "source": [
    "for col in taxi_df.columns:\n",
    "    new_col=col.lower().replace(\" \",\"_\")\n",
    "    taxi_df = taxi_df.withColumnRenamed(col,new_col)\n",
    "taxi_df.printSchema()"
   ]
  },
  {
   "cell_type": "markdown",
   "metadata": {},
   "source": [
    "### Delete fields that do not add value"
   ]
  },
  {
   "cell_type": "code",
   "execution_count": 26,
   "metadata": {},
   "outputs": [],
   "source": [
    "#The following columns can be deleted because they do not add value as a result of which they are unions or \n",
    "#repetitions of other columns\n",
    "taxi_df = taxi_df.drop('pickup_census_tract',\n",
    "                       'dropoff_census_tract',\n",
    "                       'pickup_centroid_location',\n",
    "                       'dropoff_centroid__location',\n",
    "                       'community_areas')"
   ]
  },
  {
   "cell_type": "code",
   "execution_count": 29,
   "metadata": {},
   "outputs": [
    {
     "name": "stdout",
     "output_type": "stream",
     "text": [
      "root\n",
      " |-- trip_id: string (nullable = true)\n",
      " |-- taxi_id: string (nullable = true)\n",
      " |-- trip_start_timestamp: string (nullable = true)\n",
      " |-- trip_end_timestamp: string (nullable = true)\n",
      " |-- trip_seconds: integer (nullable = true)\n",
      " |-- trip_miles: double (nullable = true)\n",
      " |-- pickup_community_area: integer (nullable = true)\n",
      " |-- dropoff_community_area: integer (nullable = true)\n",
      " |-- fare: double (nullable = true)\n",
      " |-- tips: double (nullable = true)\n",
      " |-- tolls: double (nullable = true)\n",
      " |-- extras: double (nullable = true)\n",
      " |-- trip_total: double (nullable = true)\n",
      " |-- payment_type: string (nullable = true)\n",
      " |-- company: string (nullable = true)\n",
      " |-- pickup_centroid_latitude: double (nullable = true)\n",
      " |-- pickup_centroid_longitude: double (nullable = true)\n",
      " |-- dropoff_centroid_latitude: double (nullable = true)\n",
      " |-- dropoff_centroid_longitude: double (nullable = true)\n",
      "\n"
     ]
    }
   ],
   "source": [
    "taxi_df.printSchema()"
   ]
  },
  {
   "cell_type": "markdown",
   "metadata": {},
   "source": [
    "### Manage the dates"
   ]
  },
  {
   "cell_type": "markdown",
   "metadata": {},
   "source": [
    "#### Convert the dates from string format to date format"
   ]
  },
  {
   "cell_type": "code",
   "execution_count": 19,
   "metadata": {},
   "outputs": [
    {
     "name": "stdout",
     "output_type": "stream",
     "text": [
      "+----------------------+----------------------+\n",
      "|trip_start_timestamp  |trip_end_timestamp    |\n",
      "+----------------------+----------------------+\n",
      "|05/23/2016 10:30:00 AM|05/23/2016 11:15:00 AM|\n",
      "|03/17/2016 01:45:00 PM|03/17/2016 02:00:00 PM|\n",
      "|09/01/2015 07:15:00 AM|09/01/2015 07:30:00 AM|\n",
      "|01/05/2013 01:30:00 AM|01/05/2013 01:45:00 AM|\n",
      "|04/01/2016 02:15:00 PM|04/01/2016 02:15:00 PM|\n",
      "|11/15/2015 10:15:00 PM|11/15/2015 10:30:00 PM|\n",
      "|03/14/2013 10:15:00 AM|03/14/2013 10:30:00 AM|\n",
      "|10/19/2013 11:30:00 PM|10/19/2013 11:30:00 PM|\n",
      "|05/31/2017 01:00:00 PM|05/31/2017 01:00:00 PM|\n",
      "|05/27/2014 11:00:00 AM|05/27/2014 11:00:00 AM|\n",
      "|09/25/2014 01:45:00 PM|09/25/2014 02:00:00 PM|\n",
      "|11/16/2015 01:00:00 AM|11/16/2015 01:00:00 AM|\n",
      "|11/19/2014 03:15:00 PM|11/19/2014 03:30:00 PM|\n",
      "|02/09/2014 01:15:00 AM|02/09/2014 01:30:00 AM|\n",
      "|04/29/2016 01:00:00 PM|04/29/2016 01:00:00 PM|\n",
      "|01/30/2015 09:30:00 PM|01/30/2015 09:45:00 PM|\n",
      "|03/21/2013 09:45:00 PM|03/21/2013 10:00:00 PM|\n",
      "|04/11/2013 11:45:00 AM|04/11/2013 12:00:00 PM|\n",
      "|04/13/2014 12:15:00 AM|04/13/2014 12:15:00 AM|\n",
      "|09/03/2015 12:15:00 AM|09/03/2015 12:30:00 AM|\n",
      "+----------------------+----------------------+\n",
      "only showing top 20 rows\n",
      "\n"
     ]
    }
   ],
   "source": [
    "# Check the start trip and the end trip before change the format\n",
    "taxi_df.select(['trip_start_timestamp', 'trip_end_timestamp']).show(truncate=False)"
   ]
  },
  {
   "cell_type": "code",
   "execution_count": 20,
   "metadata": {},
   "outputs": [],
   "source": [
    "#Convert to date format ()\n",
    "taxi_df = taxi_df.withColumn(\"trip_start_timestamp\",\n",
    "                             F.from_unixtime(F.unix_timestamp(F.col(\"trip_start_timestamp\"),\n",
    "                                                           format=\"MM/dd/yyyy hh:mm:ss aa\")))\n",
    "taxi_df = taxi_df.withColumn(\"trip_end_timestamp\",\n",
    "                             F.from_unixtime(F.unix_timestamp(F.col(\"trip_end_timestamp\"),\n",
    "                                                           format=\"MM/dd/yyyy hh:mm:ss aa\")))"
   ]
  },
  {
   "cell_type": "code",
   "execution_count": 21,
   "metadata": {},
   "outputs": [
    {
     "name": "stdout",
     "output_type": "stream",
     "text": [
      "+--------------------+-------------------+\n",
      "|trip_start_timestamp|trip_end_timestamp |\n",
      "+--------------------+-------------------+\n",
      "|2016-05-23 10:30:00 |2016-05-23 11:15:00|\n",
      "|2016-03-17 13:45:00 |2016-03-17 14:00:00|\n",
      "|2015-09-01 07:15:00 |2015-09-01 07:30:00|\n",
      "|2013-01-05 01:30:00 |2013-01-05 01:45:00|\n",
      "|2016-04-01 14:15:00 |2016-04-01 14:15:00|\n",
      "|2015-11-15 22:15:00 |2015-11-15 22:30:00|\n",
      "|2013-03-14 10:15:00 |2013-03-14 10:30:00|\n",
      "|2013-10-19 23:30:00 |2013-10-19 23:30:00|\n",
      "|2017-05-31 13:00:00 |2017-05-31 13:00:00|\n",
      "|2014-05-27 11:00:00 |2014-05-27 11:00:00|\n",
      "|2014-09-25 13:45:00 |2014-09-25 14:00:00|\n",
      "|2015-11-16 01:00:00 |2015-11-16 01:00:00|\n",
      "|2014-11-19 15:15:00 |2014-11-19 15:30:00|\n",
      "|2014-02-09 01:15:00 |2014-02-09 01:30:00|\n",
      "|2016-04-29 13:00:00 |2016-04-29 13:00:00|\n",
      "|2015-01-30 21:30:00 |2015-01-30 21:45:00|\n",
      "|2013-03-21 21:45:00 |2013-03-21 22:00:00|\n",
      "|2013-04-11 11:45:00 |2013-04-11 12:00:00|\n",
      "|2014-04-13 00:15:00 |2014-04-13 00:15:00|\n",
      "|2015-09-03 00:15:00 |2015-09-03 00:30:00|\n",
      "+--------------------+-------------------+\n",
      "only showing top 20 rows\n",
      "\n"
     ]
    }
   ],
   "source": [
    "#Check the result\n",
    "taxi_df.select(['trip_start_timestamp', 'trip_end_timestamp']).show(truncate=False)"
   ]
  },
  {
   "cell_type": "markdown",
   "metadata": {},
   "source": [
    "#### Check the extreme values of the dates"
   ]
  },
  {
   "cell_type": "code",
   "execution_count": 22,
   "metadata": {},
   "outputs": [
    {
     "name": "stdout",
     "output_type": "stream",
     "text": [
      "+-------------------------+-------------------------+\n",
      "|max(trip_start_timestamp)|min(trip_start_timestamp)|\n",
      "+-------------------------+-------------------------+\n",
      "|      2017-07-31 23:45:00|      2013-01-01 00:00:00|\n",
      "+-------------------------+-------------------------+\n",
      "\n"
     ]
    }
   ],
   "source": [
    "taxi_df.select(F.max('trip_start_timestamp'),F.min('trip_start_timestamp')).show()"
   ]
  },
  {
   "cell_type": "code",
   "execution_count": 23,
   "metadata": {},
   "outputs": [
    {
     "name": "stdout",
     "output_type": "stream",
     "text": [
      "+-----------------------+-----------------------+\n",
      "|max(trip_end_timestamp)|min(trip_end_timestamp)|\n",
      "+-----------------------+-----------------------+\n",
      "|    2017-08-01 00:00:00|    2013-01-01 00:15:00|\n",
      "+-----------------------+-----------------------+\n",
      "\n"
     ]
    }
   ],
   "source": [
    "taxi_df.select(F.max('trip_end_timestamp'),F.min('trip_end_timestamp')).show()"
   ]
  },
  {
   "cell_type": "markdown",
   "metadata": {},
   "source": [
    "### Check duplicates"
   ]
  },
  {
   "cell_type": "code",
   "execution_count": 25,
   "metadata": {},
   "outputs": [
    {
     "data": {
      "text/plain": [
       "451682"
      ]
     },
     "execution_count": 25,
     "metadata": {},
     "output_type": "execute_result"
    }
   ],
   "source": [
    "taxi_df.dropDuplicates(['trip_id', 'taxi_id']).count()"
   ]
  },
  {
   "cell_type": "markdown",
   "metadata": {},
   "source": [
    "There is not duplicates"
   ]
  },
  {
   "cell_type": "markdown",
   "metadata": {},
   "source": [
    "### Study if there are variables that always or practically always have the same value"
   ]
  },
  {
   "cell_type": "markdown",
   "metadata": {},
   "source": [
    "Separate the dataframe in two to realize our analysis:\n",
    "    \n",
    "    - One dataframe with numeric columns\n",
    "    - One dataframe with categorical columns"
   ]
  },
  {
   "cell_type": "code",
   "execution_count": 65,
   "metadata": {},
   "outputs": [],
   "source": [
    "n_rows = taxi_df.count()\n",
    "numeric_vars = []\n",
    "categoric_vars = []\n",
    "\n",
    "for col, tipo in taxi_df.dtypes:\n",
    "    if tipo!=\"string\":\n",
    "        numeric_vars.append(col)\n",
    "    else:\n",
    "        categoric_vars.append(col)     "
   ]
  },
  {
   "cell_type": "code",
   "execution_count": 66,
   "metadata": {},
   "outputs": [
    {
     "data": {
      "text/plain": [
       "['trip_id',\n",
       " 'taxi_id',\n",
       " 'trip_start_timestamp',\n",
       " 'trip_end_timestamp',\n",
       " 'payment_type',\n",
       " 'company',\n",
       " 'pickup_centroid_location',\n",
       " 'dropoff_centroid__location']"
      ]
     },
     "execution_count": 66,
     "metadata": {},
     "output_type": "execute_result"
    }
   ],
   "source": [
    "categoric_vars"
   ]
  },
  {
   "cell_type": "code",
   "execution_count": 67,
   "metadata": {},
   "outputs": [
    {
     "data": {
      "text/plain": [
       "['trip_seconds',\n",
       " 'trip_miles',\n",
       " 'pickup_census_tract',\n",
       " 'dropoff_census_tract',\n",
       " 'pickup_community_area',\n",
       " 'dropoff_community_area',\n",
       " 'fare',\n",
       " 'tips',\n",
       " 'tolls',\n",
       " 'extras',\n",
       " 'trip_total',\n",
       " 'pickup_centroid_latitude',\n",
       " 'pickup_centroid_longitude',\n",
       " 'dropoff_centroid_latitude',\n",
       " 'dropoff_centroid_longitude',\n",
       " 'community_areas']"
      ]
     },
     "execution_count": 67,
     "metadata": {},
     "output_type": "execute_result"
    }
   ],
   "source": [
    "numeric_vars"
   ]
  },
  {
   "cell_type": "code",
   "execution_count": 32,
   "metadata": {},
   "outputs": [],
   "source": [
    "# We delete trip_id from our analysis because it is the only value that allows us to identify travel and we know it´s\n",
    "# an unique value (it has not duplicates)\n",
    "categoric_vars.remove('trip_id')"
   ]
  },
  {
   "cell_type": "markdown",
   "metadata": {},
   "source": [
    "#### Categoric columns"
   ]
  },
  {
   "cell_type": "code",
   "execution_count": 33,
   "metadata": {},
   "outputs": [
    {
     "name": "stdout",
     "output_type": "stream",
     "text": [
      "taxi_id\n",
      "+--------------------+-----+-------------+\n",
      "|             taxi_id|count|frecuencia(%)|\n",
      "+--------------------+-----+-------------+\n",
      "|f68eb3233f3e33e98...|  248|         0.05|\n",
      "|d3a5f1452b4a1db2a...|  235|         0.05|\n",
      "|89bfd3f9c1a6014be...|  231|         0.05|\n",
      "|aebf720288b80a8ee...|  224|         0.05|\n",
      "|774c16d2c0c72290e...|  223|         0.05|\n",
      "|4f189764b8d9b6f71...|  218|         0.05|\n",
      "|842e2b1cd011fab01...|  216|         0.05|\n",
      "|53f28dea0e1172c28...|  214|         0.05|\n",
      "|b2a007b1410c7208a...|  213|         0.05|\n",
      "|9eb860ce5cb7ff8e3...|  212|         0.05|\n",
      "|a21e9e59e7c6a55f3...|  212|         0.05|\n",
      "|ef7488a67b3bdf0ea...|  211|         0.05|\n",
      "|1158f25979ad78fd3...|  210|         0.05|\n",
      "|fc861e3e571512d61...|  208|         0.05|\n",
      "|61abb47c5869d156b...|  206|         0.05|\n",
      "|ffc2a618ad19a63fa...|  205|         0.05|\n",
      "|4f1e94982e6851725...|  204|         0.05|\n",
      "|e1aff5afebc38449d...|  204|         0.05|\n",
      "|5ba3a19b228cd79e8...|  203|         0.04|\n",
      "|567c4d46516a4e135...|  202|         0.04|\n",
      "+--------------------+-----+-------------+\n",
      "only showing top 20 rows\n",
      "\n",
      "trip_start_timestamp\n",
      "+--------------------+-----+-------------+\n",
      "|trip_start_timestamp|count|frecuencia(%)|\n",
      "+--------------------+-----+-------------+\n",
      "|                null|   86|         0.02|\n",
      "| 2014-11-06 19:00:00|   23|         0.01|\n",
      "| 2013-11-10 01:45:00|   19|          0.0|\n",
      "| 2013-12-31 20:30:00|   18|          0.0|\n",
      "| 2014-04-04 19:00:00|   18|          0.0|\n",
      "| 2013-03-16 21:15:00|   18|          0.0|\n",
      "| 2014-12-19 19:00:00|   17|          0.0|\n",
      "| 2013-08-18 01:15:00|   17|          0.0|\n",
      "| 2014-03-15 18:45:00|   17|          0.0|\n",
      "| 2014-06-13 19:45:00|   17|          0.0|\n",
      "| 2016-03-12 18:30:00|   17|          0.0|\n",
      "| 2014-04-06 01:45:00|   17|          0.0|\n",
      "| 2014-03-15 19:45:00|   17|          0.0|\n",
      "| 2014-10-01 19:45:00|   16|          0.0|\n",
      "| 2013-11-09 23:45:00|   16|          0.0|\n",
      "| 2014-03-08 23:00:00|   16|          0.0|\n",
      "| 2015-05-29 19:00:00|   16|          0.0|\n",
      "| 2014-12-12 19:15:00|   16|          0.0|\n",
      "| 2013-08-14 17:15:00|   16|          0.0|\n",
      "| 2014-08-02 19:45:00|   16|          0.0|\n",
      "+--------------------+-----+-------------+\n",
      "only showing top 20 rows\n",
      "\n",
      "trip_end_timestamp\n",
      "+-------------------+-----+-------------+\n",
      "| trip_end_timestamp|count|frecuencia(%)|\n",
      "+-------------------+-----+-------------+\n",
      "|               null|  157|         0.03|\n",
      "|2014-11-06 19:00:00|   23|         0.01|\n",
      "|2014-03-15 19:30:00|   20|          0.0|\n",
      "|2014-03-15 23:30:00|   19|          0.0|\n",
      "|2014-02-22 20:45:00|   17|          0.0|\n",
      "|2015-05-30 20:15:00|   17|          0.0|\n",
      "|2014-03-15 17:00:00|   16|          0.0|\n",
      "|2014-08-10 00:45:00|   16|          0.0|\n",
      "|2014-03-29 20:15:00|   16|          0.0|\n",
      "|2014-11-14 19:15:00|   16|          0.0|\n",
      "|2014-09-19 19:00:00|   16|          0.0|\n",
      "|2014-06-13 19:45:00|   16|          0.0|\n",
      "|2015-11-01 01:15:00|   16|          0.0|\n",
      "|2013-12-05 19:00:00|   16|          0.0|\n",
      "|2013-12-12 20:45:00|   16|          0.0|\n",
      "|2014-02-09 00:45:00|   16|          0.0|\n",
      "|2014-03-15 20:00:00|   15|          0.0|\n",
      "|2014-02-07 19:15:00|   15|          0.0|\n",
      "|2013-06-22 23:15:00|   15|          0.0|\n",
      "|2013-12-07 20:15:00|   15|          0.0|\n",
      "+-------------------+-----+-------------+\n",
      "only showing top 20 rows\n",
      "\n",
      "payment_type\n",
      "+------------+------+-------------+\n",
      "|payment_type| count|frecuencia(%)|\n",
      "+------------+------+-------------+\n",
      "|        Cash|271520|        60.11|\n",
      "| Credit Card|175917|        38.95|\n",
      "|   No Charge|  2859|         0.63|\n",
      "|     Unknown|   970|         0.21|\n",
      "|     Dispute|   257|         0.06|\n",
      "|       Pcard|   106|         0.02|\n",
      "|      Prcard|    53|         0.01|\n",
      "+------------+------+-------------+\n",
      "\n",
      "company\n",
      "+--------------------+------+-------------+\n",
      "|             company| count|frecuencia(%)|\n",
      "+--------------------+------+-------------+\n",
      "|                null|165133|        36.56|\n",
      "|Taxi Affiliation ...|130495|        28.89|\n",
      "|Dispatch Taxi Aff...| 40900|         9.06|\n",
      "|Blue Ribbon Taxi ...| 30974|         6.86|\n",
      "|Choice Taxi Assoc...| 24056|         5.33|\n",
      "|Chicago Elite Cab...| 20923|         4.63|\n",
      "|Northwest Managem...| 14740|         3.26|\n",
      "|KOAM Taxi Associa...|  6177|         1.37|\n",
      "| Top Cab Affiliation|  4095|         0.91|\n",
      "|Chicago Elite Cab...|  4026|         0.89|\n",
      "|T.A.S. - Payment ...|  3022|         0.67|\n",
      "|Chicago Medallion...|  1699|         0.38|\n",
      "|Suburban Dispatch...|  1642|         0.36|\n",
      "|Chicago Medallion...|  1414|         0.31|\n",
      "|3201 - C&D Cab Co...|    90|         0.02|\n",
      "|Park Ridge Taxi a...|    74|         0.02|\n",
      "|6743 - 78771 Luha...|    73|         0.02|\n",
      "|0118 - 42111 Godf...|    72|         0.02|\n",
      "|3011 - 66308 JBL ...|    69|         0.02|\n",
      "|1085 - 72312 N an...|    65|         0.01|\n",
      "+--------------------+------+-------------+\n",
      "only showing top 20 rows\n",
      "\n"
     ]
    }
   ],
   "source": [
    "for col in categoric_vars:\n",
    "    print(col)\n",
    "    taxi_df.groupby(col).count().sort(F.col(\"count\").desc()).withColumn(\"frecuencia(%)\",\n",
    "                  F.round((100*F.col(\"count\")/n_rows),2)).show()"
   ]
  },
  {
   "cell_type": "markdown",
   "metadata": {},
   "source": [
    "We have observed that in the column 'payment_type' there is the value 'Unknown', so we are going to convert it to null"
   ]
  },
  {
   "cell_type": "code",
   "execution_count": 36,
   "metadata": {},
   "outputs": [],
   "source": [
    "taxi_df = taxi_df.withColumn('payment_type',\n",
    "                            F.when(F.col('payment_type')=='Unknown',None).otherwise(F.col('payment_type')))"
   ]
  },
  {
   "cell_type": "code",
   "execution_count": 37,
   "metadata": {},
   "outputs": [
    {
     "name": "stdout",
     "output_type": "stream",
     "text": [
      "payment_type\n",
      "+------------+------+-------------+\n",
      "|payment_type| count|frecuencia(%)|\n",
      "+------------+------+-------------+\n",
      "|        Cash|271520|        60.11|\n",
      "| Credit Card|175917|        38.95|\n",
      "|   No Charge|  2859|         0.63|\n",
      "|        null|   970|         0.21|\n",
      "|     Dispute|   257|         0.06|\n",
      "|       Pcard|   106|         0.02|\n",
      "|      Prcard|    53|         0.01|\n",
      "+------------+------+-------------+\n",
      "\n"
     ]
    }
   ],
   "source": [
    "#Check that 'Unknown' value has been converted to null\n",
    "print('payment_type')\n",
    "taxi_df.groupby('payment_type').count().sort(F.col(\"count\").desc()).withColumn(\"frecuencia(%)\",\n",
    "                                                                    F.round((100*F.col(\"count\")/n_rows),2)).show()"
   ]
  },
  {
   "cell_type": "markdown",
   "metadata": {},
   "source": [
    "#### Numeric columns"
   ]
  },
  {
   "cell_type": "code",
   "execution_count": 34,
   "metadata": {
    "scrolled": false
   },
   "outputs": [
    {
     "name": "stdout",
     "output_type": "stream",
     "text": [
      "trip_seconds\n",
      "+------------+-----+-------------+\n",
      "|trip_seconds|count|frecuencia(%)|\n",
      "+------------+-----+-------------+\n",
      "|           0|36813|         8.15|\n",
      "|         360|30918|         6.85|\n",
      "|         420|30045|         6.65|\n",
      "|         300|28922|          6.4|\n",
      "|         480|28293|         6.26|\n",
      "|         540|25920|         5.74|\n",
      "|         240|24385|          5.4|\n",
      "|         600|23106|         5.12|\n",
      "|         660|20522|         4.54|\n",
      "|         720|17669|         3.91|\n",
      "|         180|16783|         3.72|\n",
      "|         780|15243|         3.37|\n",
      "|         840|13059|         2.89|\n",
      "|         900|11063|         2.45|\n",
      "|         960| 9412|         2.08|\n",
      "|         120| 8651|         1.92|\n",
      "|        1020| 8196|         1.81|\n",
      "|        1080| 7027|         1.56|\n",
      "|        1140| 6365|         1.41|\n",
      "|          60| 5694|         1.26|\n",
      "+------------+-----+-------------+\n",
      "only showing top 20 rows\n",
      "\n",
      "trip_miles\n",
      "+----------+------+-------------+\n",
      "|trip_miles| count|frecuencia(%)|\n",
      "+----------+------+-------------+\n",
      "|       0.0|133594|        29.58|\n",
      "|       0.1| 15706|         3.48|\n",
      "|       1.0| 12442|         2.75|\n",
      "|       0.8| 11948|         2.65|\n",
      "|       1.1| 11879|         2.63|\n",
      "|       0.9| 11772|         2.61|\n",
      "|       0.7| 11245|         2.49|\n",
      "|       1.2|  9971|         2.21|\n",
      "|       0.6|  9520|         2.11|\n",
      "|       1.3|  9018|          2.0|\n",
      "|       1.4|  8159|         1.81|\n",
      "|       0.5|  8018|         1.78|\n",
      "|       1.5|  7675|          1.7|\n",
      "|       0.2|  7054|         1.56|\n",
      "|       1.6|  7008|         1.55|\n",
      "|       1.7|  6643|         1.47|\n",
      "|       0.4|  6171|         1.37|\n",
      "|       1.8|  5927|         1.31|\n",
      "|       0.3|  5694|         1.26|\n",
      "|       1.9|  5405|          1.2|\n",
      "+----------+------+-------------+\n",
      "only showing top 20 rows\n",
      "\n",
      "pickup_community_area\n",
      "+---------------------+------+-------------+\n",
      "|pickup_community_area| count|frecuencia(%)|\n",
      "+---------------------+------+-------------+\n",
      "|                    8|128228|        28.39|\n",
      "|                   32| 85924|        19.02|\n",
      "|                 null| 67012|        14.84|\n",
      "|                   28| 34165|         7.56|\n",
      "|                    6| 27411|         6.07|\n",
      "|                   76| 23356|         5.17|\n",
      "|                    7| 22192|         4.91|\n",
      "|                   24| 14075|         3.12|\n",
      "|                   33|  8835|         1.96|\n",
      "|                    3|  6686|         1.48|\n",
      "|                   56|  6408|         1.42|\n",
      "|                   22|  4740|         1.05|\n",
      "|                   77|  4334|         0.96|\n",
      "|                    5|  2695|          0.6|\n",
      "|                    4|  1950|         0.43|\n",
      "|                   16|  1540|         0.34|\n",
      "|                    1|  1539|         0.34|\n",
      "|                   41|  1438|         0.32|\n",
      "|                    2|  1403|         0.31|\n",
      "|                   21|  1154|         0.26|\n",
      "+---------------------+------+-------------+\n",
      "only showing top 20 rows\n",
      "\n",
      "dropoff_community_area\n",
      "+----------------------+------+-------------+\n",
      "|dropoff_community_area| count|frecuencia(%)|\n",
      "+----------------------+------+-------------+\n",
      "|                     8|113257|        25.07|\n",
      "|                  null| 76182|        16.87|\n",
      "|                    32| 73890|        16.36|\n",
      "|                    28| 37060|          8.2|\n",
      "|                     6| 28155|         6.23|\n",
      "|                     7| 25029|         5.54|\n",
      "|                    24| 18157|         4.02|\n",
      "|                    76| 14140|         3.13|\n",
      "|                    33| 11316|         2.51|\n",
      "|                     3|  7704|         1.71|\n",
      "|                    22|  7094|         1.57|\n",
      "|                    56|  4867|         1.08|\n",
      "|                    77|  4827|         1.07|\n",
      "|                     5|  3999|         0.89|\n",
      "|                     4|  3012|         0.67|\n",
      "|                    16|  2221|         0.49|\n",
      "|                     1|  2188|         0.48|\n",
      "|                     2|  1960|         0.43|\n",
      "|                    41|  1951|         0.43|\n",
      "|                    21|  1806|          0.4|\n",
      "+----------------------+------+-------------+\n",
      "only showing top 20 rows\n",
      "\n",
      "fare\n",
      "+----+-----+-------------+\n",
      "|fare|count|frecuencia(%)|\n",
      "+----+-----+-------------+\n",
      "|6.25|13164|         2.91|\n",
      "|5.25|12443|         2.75|\n",
      "|3.25|12357|         2.74|\n",
      "|7.25|10805|         2.39|\n",
      "|5.65| 9953|          2.2|\n",
      "|5.85| 9911|         2.19|\n",
      "|6.05| 9728|         2.15|\n",
      "|5.45| 9641|         2.13|\n",
      "|6.45| 9037|          2.0|\n",
      "|6.65| 8850|         1.96|\n",
      "|5.05| 8777|         1.94|\n",
      "|6.85| 8443|         1.87|\n",
      "|8.25| 8240|         1.82|\n",
      "|7.05| 7987|         1.77|\n",
      "|7.45| 7070|         1.57|\n",
      "|7.65| 6567|         1.45|\n",
      "|7.85| 6499|         1.44|\n",
      "|4.65| 6431|         1.42|\n",
      "|8.05| 6098|         1.35|\n",
      "|9.25| 5983|         1.32|\n",
      "+----+-----+-------------+\n",
      "only showing top 20 rows\n",
      "\n",
      "tips\n",
      "+----+------+-------------+\n",
      "|tips| count|frecuencia(%)|\n",
      "+----+------+-------------+\n",
      "| 0.0|285580|        63.23|\n",
      "| 2.0| 49431|        10.94|\n",
      "| 3.0| 17590|         3.89|\n",
      "| 1.0| 14117|         3.13|\n",
      "| 5.0|  4673|         1.03|\n",
      "| 4.0|  4566|         1.01|\n",
      "| 1.5|  3192|         0.71|\n",
      "| 6.0|  1422|         0.31|\n",
      "|10.0|  1164|         0.26|\n",
      "|2.05|  1028|         0.23|\n",
      "| 2.5|  1012|         0.22|\n",
      "| 8.0|  1010|         0.22|\n",
      "|2.25|   972|         0.22|\n",
      "| 7.0|   896|          0.2|\n",
      "|2.65|   755|         0.17|\n",
      "|2.45|   749|         0.17|\n",
      "|1.25|   690|         0.15|\n",
      "|2.15|   689|         0.15|\n",
      "|3.05|   677|         0.15|\n",
      "|2.55|   649|         0.14|\n",
      "+----+------+-------------+\n",
      "only showing top 20 rows\n",
      "\n",
      "tolls\n",
      "+-----+------+-------------+\n",
      "|tolls| count|frecuencia(%)|\n",
      "+-----+------+-------------+\n",
      "|  0.0|451410|        99.94|\n",
      "|  1.5|    48|         0.01|\n",
      "|  1.9|    46|         0.01|\n",
      "|  2.0|    35|         0.01|\n",
      "| 50.0|    33|         0.01|\n",
      "|  3.0|    28|         0.01|\n",
      "|  4.0|    11|          0.0|\n",
      "| 85.0|     7|          0.0|\n",
      "|  5.0|     7|          0.0|\n",
      "|  1.0|     7|          0.0|\n",
      "|  6.0|     4|          0.0|\n",
      "|  3.6|     4|          0.0|\n",
      "| 25.0|     4|          0.0|\n",
      "| 45.0|     3|          0.0|\n",
      "|  3.8|     2|          0.0|\n",
      "|  3.5|     2|          0.0|\n",
      "| 65.0|     2|          0.0|\n",
      "| null|     2|          0.0|\n",
      "|  4.5|     2|          0.0|\n",
      "| 0.95|     2|          0.0|\n",
      "+-----+------+-------------+\n",
      "only showing top 20 rows\n",
      "\n",
      "extras\n",
      "+------+------+-------------+\n",
      "|extras| count|frecuencia(%)|\n",
      "+------+------+-------------+\n",
      "|   0.0|281100|        62.23|\n",
      "|   1.0| 82635|        18.29|\n",
      "|   2.0| 37108|         8.22|\n",
      "|   1.5| 20543|         4.55|\n",
      "|   3.0|  8551|         1.89|\n",
      "|   4.0|  7680|          1.7|\n",
      "|   2.5|  3058|         0.68|\n",
      "|   5.0|  2168|         0.48|\n",
      "|   0.5|  1684|         0.37|\n",
      "|   3.5|  1463|         0.32|\n",
      "|   6.0|   528|         0.12|\n",
      "|   5.5|   423|         0.09|\n",
      "|   4.5|   372|         0.08|\n",
      "|   7.0|   226|         0.05|\n",
      "|   8.0|   194|         0.04|\n",
      "|  10.0|   138|         0.03|\n",
      "|  0.75|   132|         0.03|\n",
      "|   6.5|   130|         0.03|\n",
      "|  25.0|   122|         0.03|\n",
      "|  20.0|   112|         0.02|\n",
      "+------+------+-------------+\n",
      "only showing top 20 rows\n",
      "\n",
      "trip_total\n",
      "+----------+-----+-------------+\n",
      "|trip_total|count|frecuencia(%)|\n",
      "+----------+-----+-------------+\n",
      "|      7.25| 9119|         2.02|\n",
      "|      3.25| 8931|         1.98|\n",
      "|      6.25| 8728|         1.93|\n",
      "|      8.25| 8443|         1.87|\n",
      "|      5.25| 7124|         1.58|\n",
      "|      9.25| 6965|         1.54|\n",
      "|      7.05| 6702|         1.48|\n",
      "|      6.65| 6679|         1.48|\n",
      "|      6.05| 6592|         1.46|\n",
      "|      6.85| 6506|         1.44|\n",
      "|      7.45| 6405|         1.42|\n",
      "|      6.45| 6379|         1.41|\n",
      "|      7.65| 6289|         1.39|\n",
      "|      8.05| 6092|         1.35|\n",
      "|      7.85| 6071|         1.34|\n",
      "|      5.65| 6033|         1.34|\n",
      "|      5.85| 5660|         1.25|\n",
      "|     10.25| 5623|         1.24|\n",
      "|      5.45| 5617|         1.24|\n",
      "|      8.65| 5384|         1.19|\n",
      "+----------+-----+-------------+\n",
      "only showing top 20 rows\n",
      "\n",
      "pickup_centroid_latitude\n",
      "+------------------------+-----+-------------+\n",
      "|pickup_centroid_latitude|count|frecuencia(%)|\n",
      "+------------------------+-----+-------------+\n",
      "|                    null|67007|        14.83|\n",
      "|            41.880994471|40028|         8.86|\n",
      "|            41.884987192|23332|         5.17|\n",
      "|            41.899602111|18875|         4.18|\n",
      "|            41.892507781|17960|         3.98|\n",
      "|            41.892042136|16265|          3.6|\n",
      "|             41.97907082|16211|         3.59|\n",
      "|            41.944226601|14421|         3.19|\n",
      "|            41.879255084|13098|          2.9|\n",
      "|            41.890922026|10792|         2.39|\n",
      "|            41.878865584|10175|         2.25|\n",
      "|             41.89321636| 9893|         2.19|\n",
      "|            41.899155613| 9429|         2.09|\n",
      "|            41.922686284| 8850|         1.96|\n",
      "|            41.892072635| 7899|         1.75|\n",
      "|            41.885300022| 7840|         1.74|\n",
      "|            41.901206994| 7570|         1.68|\n",
      "|            41.877406123| 7479|         1.66|\n",
      "|            41.898331794| 7164|         1.59|\n",
      "|            41.980264315| 7137|         1.58|\n",
      "+------------------------+-----+-------------+\n",
      "only showing top 20 rows\n",
      "\n",
      "pickup_centroid_longitude\n"
     ]
    },
    {
     "name": "stdout",
     "output_type": "stream",
     "text": [
      "+-------------------------+-----+-------------+\n",
      "|pickup_centroid_longitude|count|frecuencia(%)|\n",
      "+-------------------------+-----+-------------+\n",
      "|                     null|67007|        14.83|\n",
      "|            -87.632746489|40028|         8.86|\n",
      "|            -87.620992913|23332|         5.17|\n",
      "|            -87.633308037|18875|         4.18|\n",
      "|            -87.626214906|17960|         3.98|\n",
      "|             -87.63186395|16265|          3.6|\n",
      "|            -87.903039661|16211|         3.59|\n",
      "|            -87.655998182|14421|         3.19|\n",
      "|            -87.642648998|13098|          2.9|\n",
      "|            -87.618868355|10792|         2.39|\n",
      "|            -87.625192142|10175|         2.25|\n",
      "|             -87.63784421| 9893|         2.19|\n",
      "|            -87.626210532| 9429|         2.09|\n",
      "|            -87.649488729| 8850|         1.96|\n",
      "|            -87.628874157| 7899|         1.75|\n",
      "|            -87.642808466| 7840|         1.74|\n",
      "|            -87.676355989| 7570|         1.68|\n",
      "|            -87.621971652| 7479|         1.66|\n",
      "|            -87.620762865| 7164|         1.59|\n",
      "|            -87.913624596| 7137|         1.58|\n",
      "+-------------------------+-----+-------------+\n",
      "only showing top 20 rows\n",
      "\n",
      "dropoff_centroid_latitude\n",
      "+-------------------------+-----+-------------+\n",
      "|dropoff_centroid_latitude|count|frecuencia(%)|\n",
      "+-------------------------+-----+-------------+\n",
      "|                     null|75492|        16.71|\n",
      "|             41.880994471|34962|         7.74|\n",
      "|             41.884987192|20286|         4.49|\n",
      "|             41.892507781|14330|         3.17|\n",
      "|             41.892042136|13876|         3.07|\n",
      "|             41.944226601|13550|          3.0|\n",
      "|             41.879255084|11924|         2.64|\n",
      "|             41.899602111|11839|         2.62|\n",
      "|              41.97907082|11177|         2.47|\n",
      "|             41.890922026|10899|         2.41|\n",
      "|              41.89321636|10699|         2.37|\n",
      "|             41.901206994| 8808|         1.95|\n",
      "|             41.899155613| 8634|         1.91|\n",
      "|             41.922686284| 8458|         1.87|\n",
      "|             41.885300022| 7676|          1.7|\n",
      "|             41.859349715| 7453|         1.65|\n",
      "|             41.877406123| 7365|         1.63|\n",
      "|              41.89503345| 7357|         1.63|\n",
      "|             41.898331794| 6390|         1.41|\n",
      "|             41.892072635| 5951|         1.32|\n",
      "+-------------------------+-----+-------------+\n",
      "only showing top 20 rows\n",
      "\n",
      "dropoff_centroid_longitude\n",
      "+--------------------------+-----+-------------+\n",
      "|dropoff_centroid_longitude|count|frecuencia(%)|\n",
      "+--------------------------+-----+-------------+\n",
      "|                      null|75492|        16.71|\n",
      "|             -87.632746489|34962|         7.74|\n",
      "|             -87.620992913|20286|         4.49|\n",
      "|             -87.626214906|14330|         3.17|\n",
      "|              -87.63186395|13876|         3.07|\n",
      "|             -87.655998182|13550|          3.0|\n",
      "|             -87.642648998|11924|         2.64|\n",
      "|             -87.633308037|11839|         2.62|\n",
      "|             -87.903039661|11177|         2.47|\n",
      "|             -87.618868355|10899|         2.41|\n",
      "|              -87.63784421|10699|         2.37|\n",
      "|             -87.676355989| 8808|         1.95|\n",
      "|             -87.626210532| 8634|         1.91|\n",
      "|             -87.649488729| 8458|         1.87|\n",
      "|             -87.642808466| 7676|          1.7|\n",
      "|             -87.617358006| 7453|         1.65|\n",
      "|             -87.621971652| 7365|         1.63|\n",
      "|             -87.619710672| 7357|         1.63|\n",
      "|             -87.620762865| 6390|         1.41|\n",
      "|             -87.628874157| 5951|         1.32|\n",
      "+--------------------------+-----+-------------+\n",
      "only showing top 20 rows\n",
      "\n"
     ]
    }
   ],
   "source": [
    "for col in numeric_vars:\n",
    "    print(col)\n",
    "    taxi_df.groupby(col).count().sort(F.col(\"count\").desc()).withColumn(\"frecuencia(%)\",\n",
    "                  F.round((100*F.col(\"count\")/n_rows),2)).show()"
   ]
  },
  {
   "cell_type": "markdown",
   "metadata": {},
   "source": [
    "### Study the null values "
   ]
  },
  {
   "cell_type": "code",
   "execution_count": 38,
   "metadata": {},
   "outputs": [
    {
     "data": {
      "text/html": [
       "<div>\n",
       "<style scoped>\n",
       "    .dataframe tbody tr th:only-of-type {\n",
       "        vertical-align: middle;\n",
       "    }\n",
       "\n",
       "    .dataframe tbody tr th {\n",
       "        vertical-align: top;\n",
       "    }\n",
       "\n",
       "    .dataframe thead th {\n",
       "        text-align: right;\n",
       "    }\n",
       "</style>\n",
       "<table border=\"1\" class=\"dataframe\">\n",
       "  <thead>\n",
       "    <tr style=\"text-align: right;\">\n",
       "      <th></th>\n",
       "      <th>nulos</th>\n",
       "      <th>% nulos</th>\n",
       "    </tr>\n",
       "  </thead>\n",
       "  <tbody>\n",
       "    <tr>\n",
       "      <th>trip_id</th>\n",
       "      <td>0.0</td>\n",
       "      <td>0.00</td>\n",
       "    </tr>\n",
       "    <tr>\n",
       "      <th>taxi_id</th>\n",
       "      <td>0.0</td>\n",
       "      <td>0.00</td>\n",
       "    </tr>\n",
       "    <tr>\n",
       "      <th>trip_start_timestamp</th>\n",
       "      <td>86.0</td>\n",
       "      <td>0.02</td>\n",
       "    </tr>\n",
       "    <tr>\n",
       "      <th>trip_end_timestamp</th>\n",
       "      <td>157.0</td>\n",
       "      <td>0.03</td>\n",
       "    </tr>\n",
       "    <tr>\n",
       "      <th>trip_seconds</th>\n",
       "      <td>5119.0</td>\n",
       "      <td>1.13</td>\n",
       "    </tr>\n",
       "    <tr>\n",
       "      <th>trip_miles</th>\n",
       "      <td>2.0</td>\n",
       "      <td>0.00</td>\n",
       "    </tr>\n",
       "    <tr>\n",
       "      <th>pickup_community_area</th>\n",
       "      <td>67012.0</td>\n",
       "      <td>14.84</td>\n",
       "    </tr>\n",
       "    <tr>\n",
       "      <th>dropoff_community_area</th>\n",
       "      <td>76182.0</td>\n",
       "      <td>16.87</td>\n",
       "    </tr>\n",
       "    <tr>\n",
       "      <th>fare</th>\n",
       "      <td>2.0</td>\n",
       "      <td>0.00</td>\n",
       "    </tr>\n",
       "    <tr>\n",
       "      <th>tips</th>\n",
       "      <td>2.0</td>\n",
       "      <td>0.00</td>\n",
       "    </tr>\n",
       "    <tr>\n",
       "      <th>tolls</th>\n",
       "      <td>2.0</td>\n",
       "      <td>0.00</td>\n",
       "    </tr>\n",
       "    <tr>\n",
       "      <th>extras</th>\n",
       "      <td>2.0</td>\n",
       "      <td>0.00</td>\n",
       "    </tr>\n",
       "    <tr>\n",
       "      <th>trip_total</th>\n",
       "      <td>2.0</td>\n",
       "      <td>0.00</td>\n",
       "    </tr>\n",
       "    <tr>\n",
       "      <th>payment_type</th>\n",
       "      <td>970.0</td>\n",
       "      <td>0.21</td>\n",
       "    </tr>\n",
       "    <tr>\n",
       "      <th>company</th>\n",
       "      <td>165133.0</td>\n",
       "      <td>36.56</td>\n",
       "    </tr>\n",
       "    <tr>\n",
       "      <th>pickup_centroid_latitude</th>\n",
       "      <td>67007.0</td>\n",
       "      <td>14.83</td>\n",
       "    </tr>\n",
       "    <tr>\n",
       "      <th>pickup_centroid_longitude</th>\n",
       "      <td>67007.0</td>\n",
       "      <td>14.83</td>\n",
       "    </tr>\n",
       "    <tr>\n",
       "      <th>dropoff_centroid_latitude</th>\n",
       "      <td>75492.0</td>\n",
       "      <td>16.71</td>\n",
       "    </tr>\n",
       "    <tr>\n",
       "      <th>dropoff_centroid_longitude</th>\n",
       "      <td>75492.0</td>\n",
       "      <td>16.71</td>\n",
       "    </tr>\n",
       "  </tbody>\n",
       "</table>\n",
       "</div>"
      ],
      "text/plain": [
       "                               nulos  % nulos\n",
       "trip_id                          0.0     0.00\n",
       "taxi_id                          0.0     0.00\n",
       "trip_start_timestamp            86.0     0.02\n",
       "trip_end_timestamp             157.0     0.03\n",
       "trip_seconds                  5119.0     1.13\n",
       "trip_miles                       2.0     0.00\n",
       "pickup_community_area        67012.0    14.84\n",
       "dropoff_community_area       76182.0    16.87\n",
       "fare                             2.0     0.00\n",
       "tips                             2.0     0.00\n",
       "tolls                            2.0     0.00\n",
       "extras                           2.0     0.00\n",
       "trip_total                       2.0     0.00\n",
       "payment_type                   970.0     0.21\n",
       "company                     165133.0    36.56\n",
       "pickup_centroid_latitude     67007.0    14.83\n",
       "pickup_centroid_longitude    67007.0    14.83\n",
       "dropoff_centroid_latitude    75492.0    16.71\n",
       "dropoff_centroid_longitude   75492.0    16.71"
      ]
     },
     "execution_count": 38,
     "metadata": {},
     "output_type": "execute_result"
    }
   ],
   "source": [
    "nulos = {}\n",
    "for column in taxi_df.columns:\n",
    "    n_nulls = taxi_df.filter(F.col(column).isNull()).count()\n",
    "    perc_nulls = 100 * n_nulls / n_rows\n",
    "    nulos[column]=[n_nulls,round(perc_nulls,2)]\n",
    "\n",
    "nulos_df = pd.DataFrame(nulos).T\n",
    "nulos_df.columns = ['nulos','% nulos']\n",
    "nulos_df"
   ]
  },
  {
   "cell_type": "markdown",
   "metadata": {},
   "source": [
    "# DIBUJAR"
   ]
  },
  {
   "cell_type": "code",
   "execution_count": null,
   "metadata": {},
   "outputs": [],
   "source": [
    "nulos_df.plot.bar(x='lab', y='val', rot=0)"
   ]
  },
  {
   "cell_type": "code",
   "execution_count": 51,
   "metadata": {},
   "outputs": [
    {
     "data": {
      "text/plain": [
       "<matplotlib.axes._subplots.AxesSubplot at 0x1a1bafe048>"
      ]
     },
     "execution_count": 51,
     "metadata": {},
     "output_type": "execute_result"
    },
    {
     "data": {
      "image/png": "[encoded data removed]",
      "text/plain": [
       "<Figure size 720x720 with 1 Axes>"
      ]
     },
     "metadata": {
      "needs_background": "light"
     },
     "output_type": "display_data"
    }
   ],
   "source": [
    "nulos_df.sort_values('% nulos').plot.barh(y='% nulos',figsize=(10,10))"
   ]
  },
  {
   "cell_type": "markdown",
   "metadata": {},
   "source": [
    "### Study outliers"
   ]
  },
  {
   "cell_type": "code",
   "execution_count": 41,
   "metadata": {},
   "outputs": [
    {
     "data": {
      "text/plain": [
       "['trip_seconds',\n",
       " 'trip_miles',\n",
       " 'pickup_community_area',\n",
       " 'dropoff_community_area',\n",
       " 'fare',\n",
       " 'tips',\n",
       " 'tolls',\n",
       " 'extras',\n",
       " 'trip_total',\n",
       " 'pickup_centroid_latitude',\n",
       " 'pickup_centroid_longitude',\n",
       " 'dropoff_centroid_latitude',\n",
       " 'dropoff_centroid_longitude']"
      ]
     },
     "execution_count": 41,
     "metadata": {},
     "output_type": "execute_result"
    }
   ],
   "source": [
    "numeric_vars"
   ]
  },
  {
   "cell_type": "code",
   "execution_count": 42,
   "metadata": {},
   "outputs": [
    {
     "name": "stdout",
     "output_type": "stream",
     "text": [
      "trip_seconds\n",
      "+------+---+-----+-------+-----+------+-----+-----+\n",
      "|  mean|min|  max|  stddv|   q1|median|   q3|  iqr|\n",
      "+------+---+-----+-------+-----+------+-----+-----+\n",
      "|748.14|  0|80400|1133.06|300.0| 540.0|900.0|600.0|\n",
      "+------+---+-----+-------+-----+------+-----+-----+\n",
      "\n",
      "trip_miles\n",
      "+----+---+------+-----+---+------+---+---+\n",
      "|mean|min|   max|stddv| q1|median| q3|iqr|\n",
      "+----+---+------+-----+---+------+---+---+\n",
      "|2.79|0.0|2210.0|13.85|0.0|   0.9|2.4|2.4|\n",
      "+----+---+------+-----+---+------+---+---+\n",
      "\n",
      "pickup_community_area\n",
      "+-----+---+---+-----+---+------+----+----+\n",
      "| mean|min|max|stddv| q1|median|  q3| iqr|\n",
      "+-----+---+---+-----+---+------+----+----+\n",
      "|22.37|  1| 77|19.39|8.0|  10.0|32.0|24.0|\n",
      "+-----+---+---+-----+---+------+----+----+\n",
      "\n",
      "dropoff_community_area\n",
      "+-----+---+---+-----+---+------+----+----+\n",
      "| mean|min|max|stddv| q1|median|  q3| iqr|\n",
      "+-----+---+---+-----+---+------+----+----+\n",
      "|21.18|  1| 77|17.77|8.0|  14.0|32.0|24.0|\n",
      "+-----+---+---+-----+---+------+----+----+\n",
      "\n",
      "fare\n",
      "+-----+---+-------+-----+---+------+-----+-----------------+\n",
      "| mean|min|    max|stddv| q1|median|   q3|              iqr|\n",
      "+-----+---+-------+-----+---+------+-----+-----------------+\n",
      "|12.83|0.0|9000.42|46.97|6.0|  8.05|13.05|7.050000000000001|\n",
      "+-----+---+-------+-----+---+------+-----+-----------------+\n",
      "\n",
      "tips\n",
      "+----+---+-----+-----+---+------+---+---+\n",
      "|mean|min|  max|stddv| q1|median| q3|iqr|\n",
      "+----+---+-----+-----+---+------+---+---+\n",
      "|1.29|0.0|296.0| 2.49|0.0|   0.0|2.0|2.0|\n",
      "+----+---+-----+-----+---+------+---+---+\n",
      "\n",
      "tolls\n",
      "+----+---+----+-----+---+------+---+---+\n",
      "|mean|min| max|stddv| q1|median| q3|iqr|\n",
      "+----+---+----+-----+---+------+---+---+\n",
      "|0.01|0.0|85.0| 0.62|0.0|   0.0|0.0|0.0|\n",
      "+----+---+----+-----+---+------+---+---+\n",
      "\n",
      "extras\n",
      "+----+---+-------+-----+---+------+---+---+\n",
      "|mean|min|    max|stddv| q1|median| q3|iqr|\n",
      "+----+---+-------+-----+---+------+---+---+\n",
      "|0.91|0.0|8895.66|25.39|0.0|   0.0|1.0|1.0|\n",
      "+----+---+-------+-----+---+------+---+---+\n",
      "\n",
      "trip_total\n",
      "+-----+---+------+-----+----+------+-----+----+\n",
      "| mean|min|   max|stddv|  q1|median|   q3| iqr|\n",
      "+-----+---+------+-----+----+------+-----+----+\n",
      "|15.05|0.0|9055.6|54.27|6.85|  9.45|14.94|8.09|\n",
      "+-----+---+------+-----+----+------+-----+----+\n",
      "\n",
      "pickup_centroid_latitude\n",
      "+----+------------+------------+-----+------------+------------+------------+-------------------+\n",
      "|mean|         min|         max|stddv|          q1|      median|          q3|                iqr|\n",
      "+----+------------+------------+-----+------------+------------+------------+-------------------+\n",
      "|41.9|41.660136051|42.016046492| 0.04|41.880994471|41.892507781|41.920451512|0.03945704099999858|\n",
      "+----+------------+------------+-----+------------+------------+------------+-------------------+\n",
      "\n",
      "pickup_centroid_longitude\n",
      "+------+-------------+-------------+-----+-------------+-------------+-------------+-------------------+\n",
      "|  mean|          min|          max|stddv|           q1|       median|           q3|                iqr|\n",
      "+------+-------------+-------------+-----+-------------+-------------+-------------+-------------------+\n",
      "|-87.66|-87.913624596|-87.534902901| 0.07|-87.655998182|-87.632746489|-87.626210532|0.02978765000000294|\n",
      "+------+-------------+-------------+-----+-------------+-------------+-------------+-------------------+\n",
      "\n",
      "dropoff_centroid_latitude\n",
      "+----+------------+------------+-----+------------+-----------+------------+-------------------+\n",
      "|mean|         min|         max|stddv|          q1|     median|          q3|                iqr|\n",
      "+----+------------+------------+-----+------------+-----------+------------+-------------------+\n",
      "|41.9|41.660136051|42.021223593| 0.04|41.880994471|41.89321636|41.922686284|0.04169181299999991|\n",
      "+----+------------+------------+-----+------------+-----------+------------+-------------------+\n",
      "\n",
      "dropoff_centroid_longitude\n",
      "+------+-------------+-------------+-----+-------------+-------------+-------------+-------------------+\n",
      "|  mean|          min|          max|stddv|           q1|       median|           q3|                iqr|\n",
      "+------+-------------+-------------+-----+-------------+-------------+-------------+-------------------+\n",
      "|-87.65|-87.913624596|-87.534902901| 0.06|-87.655998182|-87.633308037|-87.626214906|0.02978327600000341|\n",
      "+------+-------------+-------------+-----+-------------+-------------+-------------+-------------------+\n",
      "\n"
     ]
    }
   ],
   "source": [
    "for num_var in numeric_vars:\n",
    "    print(num_var)\n",
    "    describe = taxi_df.select(F.round(F.mean(num_var), 2).alias(\"mean\"),\n",
    "                                F.min(num_var).alias(\"min\"),\n",
    "                                F.max(num_var).alias(\"max\"),\n",
    "                                F.round(F.stddev(num_var), 2).alias(\"stddv\"))\n",
    "    q1, median, q3 = taxi_df.approxQuantile(num_var, [0.25, 0.5, 0.75], 0)\n",
    "    describe = describe.withColumn(\"q1\", F.lit(q1))\n",
    "    describe = describe.withColumn(\"median\", F.lit(median))\n",
    "    describe = describe.withColumn(\"q3\", F.lit(q3))\n",
    "    describe = describe.withColumn(\"iqr\", F.lit(q3-q1))\n",
    "    describe.show()"
   ]
  },
  {
   "cell_type": "code",
   "execution_count": null,
   "metadata": {},
   "outputs": [],
   "source": []
  },
  {
   "cell_type": "code",
   "execution_count": null,
   "metadata": {},
   "outputs": [],
   "source": []
  },
  {
   "cell_type": "code",
   "execution_count": null,
   "metadata": {},
   "outputs": [],
   "source": []
  },
  {
   "cell_type": "code",
   "execution_count": null,
   "metadata": {},
   "outputs": [],
   "source": []
  },
  {
   "cell_type": "code",
   "execution_count": null,
   "metadata": {},
   "outputs": [],
   "source": []
  },
  {
   "cell_type": "code",
   "execution_count": null,
   "metadata": {},
   "outputs": [],
   "source": []
  },
  {
   "cell_type": "markdown",
   "metadata": {},
   "source": [
    "#### Delete the null values in the columns"
   ]
  },
  {
   "cell_type": "code",
   "execution_count": 21,
   "metadata": {},
   "outputs": [],
   "source": [
    "taxi_df = taxi_df.dropna(how='any',\n",
    "                         subset=['trip_id',\n",
    "                                  'taxi_id',\n",
    "                                  'trip_start_timestamp',\n",
    "                                  'trip_end_timestamp',\n",
    "                                  'trip_seconds',\n",
    "                                  'trip_miles',\n",
    "                                  'pickup_community_area',\n",
    "                                  'dropoff_community_area',\n",
    "                                  'fare',\n",
    "                                  'tips',\n",
    "                                  'tolls',\n",
    "                                  'extras',\n",
    "                                  'trip_total',\n",
    "                                  'payment_type',\n",
    "                                  'company',\n",
    "                                  'pickup_centroid_latitude',\n",
    "                                  'pickup_centroid_longitude',\n",
    "                                  'dropoff_centroid_latitude',\n",
    "                                  'dropoff_centroid_longitude'])"
   ]
  },
  {
   "cell_type": "code",
   "execution_count": 22,
   "metadata": {},
   "outputs": [
    {
     "data": {
      "text/plain": [
       "60522966"
      ]
     },
     "execution_count": 22,
     "metadata": {},
     "output_type": "execute_result"
    }
   ],
   "source": [
    "# Check the the reduce of trips because null values in the columns except 'company'\n",
    "taxi_df.count()"
   ]
  },
  {
   "cell_type": "code",
   "execution_count": 24,
   "metadata": {
    "collapsed": true
   },
   "outputs": [
    {
     "ename": "KeyboardInterrupt",
     "evalue": "",
     "output_type": "error",
     "traceback": [
      "\u001b[0;31m---------------------------------------------------------------------------\u001b[0m",
      "\u001b[0;31mKeyboardInterrupt\u001b[0m                         Traceback (most recent call last)",
      "\u001b[0;32m<ipython-input-24-c4970bece123>\u001b[0m in \u001b[0;36m<module>\u001b[0;34m\u001b[0m\n\u001b[1;32m      1\u001b[0m \u001b[0;31m# Check that all the nulls values are delete\u001b[0m\u001b[0;34m\u001b[0m\u001b[0;34m\u001b[0m\u001b[0;34m\u001b[0m\u001b[0m\n\u001b[0;32m----> 2\u001b[0;31m \u001b[0mn_rows\u001b[0m \u001b[0;34m=\u001b[0m \u001b[0mtaxi_df\u001b[0m\u001b[0;34m.\u001b[0m\u001b[0mcount\u001b[0m\u001b[0;34m(\u001b[0m\u001b[0;34m)\u001b[0m\u001b[0;34m\u001b[0m\u001b[0;34m\u001b[0m\u001b[0m\n\u001b[0m\u001b[1;32m      3\u001b[0m \u001b[0;32mfor\u001b[0m \u001b[0mcolumn\u001b[0m \u001b[0;32min\u001b[0m \u001b[0mtaxi_df\u001b[0m\u001b[0;34m.\u001b[0m\u001b[0mcolumns\u001b[0m\u001b[0;34m:\u001b[0m\u001b[0;34m\u001b[0m\u001b[0;34m\u001b[0m\u001b[0m\n\u001b[1;32m      4\u001b[0m     \u001b[0mn_nulls\u001b[0m\u001b[0;34m=\u001b[0m\u001b[0mtaxi_df\u001b[0m\u001b[0;34m.\u001b[0m\u001b[0mfilter\u001b[0m\u001b[0;34m(\u001b[0m\u001b[0mF\u001b[0m\u001b[0;34m.\u001b[0m\u001b[0mcol\u001b[0m\u001b[0;34m(\u001b[0m\u001b[0mcolumn\u001b[0m\u001b[0;34m)\u001b[0m\u001b[0;34m.\u001b[0m\u001b[0misNull\u001b[0m\u001b[0;34m(\u001b[0m\u001b[0;34m)\u001b[0m\u001b[0;34m)\u001b[0m\u001b[0;34m.\u001b[0m\u001b[0mcount\u001b[0m\u001b[0;34m(\u001b[0m\u001b[0;34m)\u001b[0m\u001b[0;34m\u001b[0m\u001b[0;34m\u001b[0m\u001b[0m\n\u001b[1;32m      5\u001b[0m     \u001b[0mperc_nulls\u001b[0m \u001b[0;34m=\u001b[0m \u001b[0;36m100\u001b[0m \u001b[0;34m*\u001b[0m \u001b[0mn_nulls\u001b[0m \u001b[0;34m/\u001b[0m \u001b[0mn_rows\u001b[0m\u001b[0;34m\u001b[0m\u001b[0;34m\u001b[0m\u001b[0m\n",
      "\u001b[0;32m/anaconda3/lib/python3.6/site-packages/pyspark/sql/dataframe.py\u001b[0m in \u001b[0;36mcount\u001b[0;34m(self)\u001b[0m\n\u001b[1;32m    520\u001b[0m         \u001b[0;36m2\u001b[0m\u001b[0;34m\u001b[0m\u001b[0;34m\u001b[0m\u001b[0m\n\u001b[1;32m    521\u001b[0m         \"\"\"\n\u001b[0;32m--> 522\u001b[0;31m         \u001b[0;32mreturn\u001b[0m \u001b[0mint\u001b[0m\u001b[0;34m(\u001b[0m\u001b[0mself\u001b[0m\u001b[0;34m.\u001b[0m\u001b[0m_jdf\u001b[0m\u001b[0;34m.\u001b[0m\u001b[0mcount\u001b[0m\u001b[0;34m(\u001b[0m\u001b[0;34m)\u001b[0m\u001b[0;34m)\u001b[0m\u001b[0;34m\u001b[0m\u001b[0;34m\u001b[0m\u001b[0m\n\u001b[0m\u001b[1;32m    523\u001b[0m \u001b[0;34m\u001b[0m\u001b[0m\n\u001b[1;32m    524\u001b[0m     \u001b[0;34m@\u001b[0m\u001b[0mignore_unicode_prefix\u001b[0m\u001b[0;34m\u001b[0m\u001b[0;34m\u001b[0m\u001b[0m\n",
      "\u001b[0;32m/anaconda3/lib/python3.6/site-packages/pyspark/python/lib/py4j-0.10.7-src.zip/py4j/java_gateway.py\u001b[0m in \u001b[0;36m__call__\u001b[0;34m(self, *args)\u001b[0m\n\u001b[1;32m   1253\u001b[0m             \u001b[0mproto\u001b[0m\u001b[0;34m.\u001b[0m\u001b[0mEND_COMMAND_PART\u001b[0m\u001b[0;34m\u001b[0m\u001b[0;34m\u001b[0m\u001b[0m\n\u001b[1;32m   1254\u001b[0m \u001b[0;34m\u001b[0m\u001b[0m\n\u001b[0;32m-> 1255\u001b[0;31m         \u001b[0manswer\u001b[0m \u001b[0;34m=\u001b[0m \u001b[0mself\u001b[0m\u001b[0;34m.\u001b[0m\u001b[0mgateway_client\u001b[0m\u001b[0;34m.\u001b[0m\u001b[0msend_command\u001b[0m\u001b[0;34m(\u001b[0m\u001b[0mcommand\u001b[0m\u001b[0;34m)\u001b[0m\u001b[0;34m\u001b[0m\u001b[0;34m\u001b[0m\u001b[0m\n\u001b[0m\u001b[1;32m   1256\u001b[0m         return_value = get_return_value(\n\u001b[1;32m   1257\u001b[0m             answer, self.gateway_client, self.target_id, self.name)\n",
      "\u001b[0;32m/anaconda3/lib/python3.6/site-packages/pyspark/python/lib/py4j-0.10.7-src.zip/py4j/java_gateway.py\u001b[0m in \u001b[0;36msend_command\u001b[0;34m(self, command, retry, binary)\u001b[0m\n\u001b[1;32m    983\u001b[0m         \u001b[0mconnection\u001b[0m \u001b[0;34m=\u001b[0m \u001b[0mself\u001b[0m\u001b[0;34m.\u001b[0m\u001b[0m_get_connection\u001b[0m\u001b[0;34m(\u001b[0m\u001b[0;34m)\u001b[0m\u001b[0;34m\u001b[0m\u001b[0;34m\u001b[0m\u001b[0m\n\u001b[1;32m    984\u001b[0m         \u001b[0;32mtry\u001b[0m\u001b[0;34m:\u001b[0m\u001b[0;34m\u001b[0m\u001b[0;34m\u001b[0m\u001b[0m\n\u001b[0;32m--> 985\u001b[0;31m             \u001b[0mresponse\u001b[0m \u001b[0;34m=\u001b[0m \u001b[0mconnection\u001b[0m\u001b[0;34m.\u001b[0m\u001b[0msend_command\u001b[0m\u001b[0;34m(\u001b[0m\u001b[0mcommand\u001b[0m\u001b[0;34m)\u001b[0m\u001b[0;34m\u001b[0m\u001b[0;34m\u001b[0m\u001b[0m\n\u001b[0m\u001b[1;32m    986\u001b[0m             \u001b[0;32mif\u001b[0m \u001b[0mbinary\u001b[0m\u001b[0;34m:\u001b[0m\u001b[0;34m\u001b[0m\u001b[0;34m\u001b[0m\u001b[0m\n\u001b[1;32m    987\u001b[0m                 \u001b[0;32mreturn\u001b[0m \u001b[0mresponse\u001b[0m\u001b[0;34m,\u001b[0m \u001b[0mself\u001b[0m\u001b[0;34m.\u001b[0m\u001b[0m_create_connection_guard\u001b[0m\u001b[0;34m(\u001b[0m\u001b[0mconnection\u001b[0m\u001b[0;34m)\u001b[0m\u001b[0;34m\u001b[0m\u001b[0;34m\u001b[0m\u001b[0m\n",
      "\u001b[0;32m/anaconda3/lib/python3.6/site-packages/pyspark/python/lib/py4j-0.10.7-src.zip/py4j/java_gateway.py\u001b[0m in \u001b[0;36msend_command\u001b[0;34m(self, command)\u001b[0m\n\u001b[1;32m   1150\u001b[0m \u001b[0;34m\u001b[0m\u001b[0m\n\u001b[1;32m   1151\u001b[0m         \u001b[0;32mtry\u001b[0m\u001b[0;34m:\u001b[0m\u001b[0;34m\u001b[0m\u001b[0;34m\u001b[0m\u001b[0m\n\u001b[0;32m-> 1152\u001b[0;31m             \u001b[0manswer\u001b[0m \u001b[0;34m=\u001b[0m \u001b[0msmart_decode\u001b[0m\u001b[0;34m(\u001b[0m\u001b[0mself\u001b[0m\u001b[0;34m.\u001b[0m\u001b[0mstream\u001b[0m\u001b[0;34m.\u001b[0m\u001b[0mreadline\u001b[0m\u001b[0;34m(\u001b[0m\u001b[0;34m)\u001b[0m\u001b[0;34m[\u001b[0m\u001b[0;34m:\u001b[0m\u001b[0;34m-\u001b[0m\u001b[0;36m1\u001b[0m\u001b[0;34m]\u001b[0m\u001b[0;34m)\u001b[0m\u001b[0;34m\u001b[0m\u001b[0;34m\u001b[0m\u001b[0m\n\u001b[0m\u001b[1;32m   1153\u001b[0m             \u001b[0mlogger\u001b[0m\u001b[0;34m.\u001b[0m\u001b[0mdebug\u001b[0m\u001b[0;34m(\u001b[0m\u001b[0;34m\"Answer received: {0}\"\u001b[0m\u001b[0;34m.\u001b[0m\u001b[0mformat\u001b[0m\u001b[0;34m(\u001b[0m\u001b[0manswer\u001b[0m\u001b[0;34m)\u001b[0m\u001b[0;34m)\u001b[0m\u001b[0;34m\u001b[0m\u001b[0;34m\u001b[0m\u001b[0m\n\u001b[1;32m   1154\u001b[0m             \u001b[0;32mif\u001b[0m \u001b[0manswer\u001b[0m\u001b[0;34m.\u001b[0m\u001b[0mstartswith\u001b[0m\u001b[0;34m(\u001b[0m\u001b[0mproto\u001b[0m\u001b[0;34m.\u001b[0m\u001b[0mRETURN_MESSAGE\u001b[0m\u001b[0;34m)\u001b[0m\u001b[0;34m:\u001b[0m\u001b[0;34m\u001b[0m\u001b[0;34m\u001b[0m\u001b[0m\n",
      "\u001b[0;32m/anaconda3/lib/python3.6/socket.py\u001b[0m in \u001b[0;36mreadinto\u001b[0;34m(self, b)\u001b[0m\n\u001b[1;32m    584\u001b[0m         \u001b[0;32mwhile\u001b[0m \u001b[0;32mTrue\u001b[0m\u001b[0;34m:\u001b[0m\u001b[0;34m\u001b[0m\u001b[0;34m\u001b[0m\u001b[0m\n\u001b[1;32m    585\u001b[0m             \u001b[0;32mtry\u001b[0m\u001b[0;34m:\u001b[0m\u001b[0;34m\u001b[0m\u001b[0;34m\u001b[0m\u001b[0m\n\u001b[0;32m--> 586\u001b[0;31m                 \u001b[0;32mreturn\u001b[0m \u001b[0mself\u001b[0m\u001b[0;34m.\u001b[0m\u001b[0m_sock\u001b[0m\u001b[0;34m.\u001b[0m\u001b[0mrecv_into\u001b[0m\u001b[0;34m(\u001b[0m\u001b[0mb\u001b[0m\u001b[0;34m)\u001b[0m\u001b[0;34m\u001b[0m\u001b[0;34m\u001b[0m\u001b[0m\n\u001b[0m\u001b[1;32m    587\u001b[0m             \u001b[0;32mexcept\u001b[0m \u001b[0mtimeout\u001b[0m\u001b[0;34m:\u001b[0m\u001b[0;34m\u001b[0m\u001b[0;34m\u001b[0m\u001b[0m\n\u001b[1;32m    588\u001b[0m                 \u001b[0mself\u001b[0m\u001b[0;34m.\u001b[0m\u001b[0m_timeout_occurred\u001b[0m \u001b[0;34m=\u001b[0m \u001b[0;32mTrue\u001b[0m\u001b[0;34m\u001b[0m\u001b[0;34m\u001b[0m\u001b[0m\n",
      "\u001b[0;31mKeyboardInterrupt\u001b[0m: "
     ]
    }
   ],
   "source": [
    "# Check that all the nulls values are delete\n",
    "n_rows = taxi_df.count()\n",
    "for column in taxi_df.columns:\n",
    "    n_nulls=taxi_df.filter(F.col(column).isNull()).count()\n",
    "    perc_nulls = 100 * n_nulls / n_rows\n",
    "    print(column, n_nulls, round(perc_nulls,2))"
   ]
  },
  {
   "cell_type": "markdown",
   "metadata": {},
   "source": [
    "### Eliminate the trips with wrong values like fare<=0, trip_total<=0, .... "
   ]
  },
  {
   "cell_type": "code",
   "execution_count": 26,
   "metadata": {},
   "outputs": [],
   "source": [
    "taxi_df = taxi_df.filter((F.col(\"trip_seconds\") <= 0) |\n",
    "                         (F.col(\"trip_miles\") <= 0) |\n",
    "                         (F.col(\"fare\") <= 0) |\n",
    "                         (F.col(\"tips\") < 0) |\n",
    "                         (F.col(\"tolls\") < 0) |\n",
    "                         (F.col(\"extras\") < 0) |\n",
    "                         (F.col(\"trip_total\") <= 0))"
   ]
  },
  {
   "cell_type": "code",
   "execution_count": 28,
   "metadata": {},
   "outputs": [
    {
     "data": {
      "text/plain": [
       "22792581"
      ]
     },
     "execution_count": 28,
     "metadata": {},
     "output_type": "execute_result"
    }
   ],
   "source": [
    "taxi_df.count()"
   ]
  },
  {
   "cell_type": "code",
   "execution_count": 35,
   "metadata": {
    "collapsed": true
   },
   "outputs": [
    {
     "ename": "KeyboardInterrupt",
     "evalue": "",
     "output_type": "error",
     "traceback": [
      "\u001b[0;31m---------------------------------------------------------------------------\u001b[0m",
      "\u001b[0;31mIndexError\u001b[0m                                Traceback (most recent call last)",
      "\u001b[0;32m/anaconda3/lib/python3.6/site-packages/pyspark/python/lib/py4j-0.10.7-src.zip/py4j/java_gateway.py\u001b[0m in \u001b[0;36m_get_connection\u001b[0;34m(self)\u001b[0m\n\u001b[1;32m    928\u001b[0m         \u001b[0;32mtry\u001b[0m\u001b[0;34m:\u001b[0m\u001b[0;34m\u001b[0m\u001b[0;34m\u001b[0m\u001b[0m\n\u001b[0;32m--> 929\u001b[0;31m             \u001b[0mconnection\u001b[0m \u001b[0;34m=\u001b[0m \u001b[0mself\u001b[0m\u001b[0;34m.\u001b[0m\u001b[0mdeque\u001b[0m\u001b[0;34m.\u001b[0m\u001b[0mpop\u001b[0m\u001b[0;34m(\u001b[0m\u001b[0;34m)\u001b[0m\u001b[0;34m\u001b[0m\u001b[0;34m\u001b[0m\u001b[0m\n\u001b[0m\u001b[1;32m    930\u001b[0m         \u001b[0;32mexcept\u001b[0m \u001b[0mIndexError\u001b[0m\u001b[0;34m:\u001b[0m\u001b[0;34m\u001b[0m\u001b[0;34m\u001b[0m\u001b[0m\n",
      "\u001b[0;31mIndexError\u001b[0m: pop from an empty deque",
      "\nDuring handling of the above exception, another exception occurred:\n",
      "\u001b[0;31mKeyboardInterrupt\u001b[0m                         Traceback (most recent call last)",
      "\u001b[0;32m<ipython-input-35-4d1011e7b4b1>\u001b[0m in \u001b[0;36m<module>\u001b[0;34m\u001b[0m\n\u001b[0;32m----> 1\u001b[0;31m \u001b[0mtaxi_df\u001b[0m\u001b[0;34m.\u001b[0m\u001b[0mselect\u001b[0m\u001b[0;34m(\u001b[0m\u001b[0mF\u001b[0m\u001b[0;34m.\u001b[0m\u001b[0mmax\u001b[0m\u001b[0;34m(\u001b[0m\u001b[0;34m'pickup_centroid_latitude'\u001b[0m\u001b[0;34m)\u001b[0m\u001b[0;34m,\u001b[0m\u001b[0mF\u001b[0m\u001b[0;34m.\u001b[0m\u001b[0mmin\u001b[0m\u001b[0;34m(\u001b[0m\u001b[0;34m'pickup_centroid_latitude'\u001b[0m\u001b[0;34m)\u001b[0m\u001b[0;34m)\u001b[0m\u001b[0;34m.\u001b[0m\u001b[0mshow\u001b[0m\u001b[0;34m(\u001b[0m\u001b[0;34m)\u001b[0m\u001b[0;34m\u001b[0m\u001b[0;34m\u001b[0m\u001b[0m\n\u001b[0m",
      "\u001b[0;32m/anaconda3/lib/python3.6/site-packages/pyspark/sql/functions.py\u001b[0m in \u001b[0;36m_\u001b[0;34m(col)\u001b[0m\n\u001b[1;32m     42\u001b[0m     \u001b[0;32mdef\u001b[0m \u001b[0m_\u001b[0m\u001b[0;34m(\u001b[0m\u001b[0mcol\u001b[0m\u001b[0;34m)\u001b[0m\u001b[0;34m:\u001b[0m\u001b[0;34m\u001b[0m\u001b[0;34m\u001b[0m\u001b[0m\n\u001b[1;32m     43\u001b[0m         \u001b[0msc\u001b[0m \u001b[0;34m=\u001b[0m \u001b[0mSparkContext\u001b[0m\u001b[0;34m.\u001b[0m\u001b[0m_active_spark_context\u001b[0m\u001b[0;34m\u001b[0m\u001b[0;34m\u001b[0m\u001b[0m\n\u001b[0;32m---> 44\u001b[0;31m         \u001b[0mjc\u001b[0m \u001b[0;34m=\u001b[0m \u001b[0mgetattr\u001b[0m\u001b[0;34m(\u001b[0m\u001b[0msc\u001b[0m\u001b[0;34m.\u001b[0m\u001b[0m_jvm\u001b[0m\u001b[0;34m.\u001b[0m\u001b[0mfunctions\u001b[0m\u001b[0;34m,\u001b[0m \u001b[0mname\u001b[0m\u001b[0;34m)\u001b[0m\u001b[0;34m(\u001b[0m\u001b[0mcol\u001b[0m\u001b[0;34m.\u001b[0m\u001b[0m_jc\u001b[0m \u001b[0;32mif\u001b[0m \u001b[0misinstance\u001b[0m\u001b[0;34m(\u001b[0m\u001b[0mcol\u001b[0m\u001b[0;34m,\u001b[0m \u001b[0mColumn\u001b[0m\u001b[0;34m)\u001b[0m \u001b[0;32melse\u001b[0m \u001b[0mcol\u001b[0m\u001b[0;34m)\u001b[0m\u001b[0;34m\u001b[0m\u001b[0;34m\u001b[0m\u001b[0m\n\u001b[0m\u001b[1;32m     45\u001b[0m         \u001b[0;32mreturn\u001b[0m \u001b[0mColumn\u001b[0m\u001b[0;34m(\u001b[0m\u001b[0mjc\u001b[0m\u001b[0;34m)\u001b[0m\u001b[0;34m\u001b[0m\u001b[0;34m\u001b[0m\u001b[0m\n\u001b[1;32m     46\u001b[0m     \u001b[0m_\u001b[0m\u001b[0;34m.\u001b[0m\u001b[0m__name__\u001b[0m \u001b[0;34m=\u001b[0m \u001b[0mname\u001b[0m\u001b[0;34m\u001b[0m\u001b[0;34m\u001b[0m\u001b[0m\n",
      "\u001b[0;32m/anaconda3/lib/python3.6/site-packages/pyspark/python/lib/py4j-0.10.7-src.zip/py4j/java_gateway.py\u001b[0m in \u001b[0;36m__getattr__\u001b[0;34m(self, name)\u001b[0m\n\u001b[1;32m   1647\u001b[0m             \u001b[0mproto\u001b[0m\u001b[0;34m.\u001b[0m\u001b[0mREFLECTION_COMMAND_NAME\u001b[0m \u001b[0;34m+\u001b[0m\u001b[0;34m\u001b[0m\u001b[0;34m\u001b[0m\u001b[0m\n\u001b[1;32m   1648\u001b[0m             \u001b[0mproto\u001b[0m\u001b[0;34m.\u001b[0m\u001b[0mREFL_GET_UNKNOWN_SUB_COMMAND_NAME\u001b[0m \u001b[0;34m+\u001b[0m \u001b[0mname\u001b[0m \u001b[0;34m+\u001b[0m \u001b[0;34m\"\\n\"\u001b[0m \u001b[0;34m+\u001b[0m \u001b[0mself\u001b[0m\u001b[0;34m.\u001b[0m\u001b[0m_id\u001b[0m \u001b[0;34m+\u001b[0m\u001b[0;34m\u001b[0m\u001b[0;34m\u001b[0m\u001b[0m\n\u001b[0;32m-> 1649\u001b[0;31m             \"\\n\" + proto.END_COMMAND_PART)\n\u001b[0m\u001b[1;32m   1650\u001b[0m         \u001b[0;32mif\u001b[0m \u001b[0manswer\u001b[0m \u001b[0;34m==\u001b[0m \u001b[0mproto\u001b[0m\u001b[0;34m.\u001b[0m\u001b[0mSUCCESS_PACKAGE\u001b[0m\u001b[0;34m:\u001b[0m\u001b[0;34m\u001b[0m\u001b[0;34m\u001b[0m\u001b[0m\n\u001b[1;32m   1651\u001b[0m             \u001b[0;32mreturn\u001b[0m \u001b[0mJavaPackage\u001b[0m\u001b[0;34m(\u001b[0m\u001b[0mname\u001b[0m\u001b[0;34m,\u001b[0m \u001b[0mself\u001b[0m\u001b[0;34m.\u001b[0m\u001b[0m_gateway_client\u001b[0m\u001b[0;34m,\u001b[0m \u001b[0mjvm_id\u001b[0m\u001b[0;34m=\u001b[0m\u001b[0mself\u001b[0m\u001b[0;34m.\u001b[0m\u001b[0m_id\u001b[0m\u001b[0;34m)\u001b[0m\u001b[0;34m\u001b[0m\u001b[0;34m\u001b[0m\u001b[0m\n",
      "\u001b[0;32m/anaconda3/lib/python3.6/site-packages/pyspark/python/lib/py4j-0.10.7-src.zip/py4j/java_gateway.py\u001b[0m in \u001b[0;36msend_command\u001b[0;34m(self, command, retry, binary)\u001b[0m\n\u001b[1;32m    981\u001b[0m          \u001b[0;32mif\u001b[0m\u001b[0;31m \u001b[0m\u001b[0;31m`\u001b[0m\u001b[0mbinary\u001b[0m\u001b[0;31m`\u001b[0m \u001b[0;32mis\u001b[0m\u001b[0;31m \u001b[0m\u001b[0;31m`\u001b[0m\u001b[0;32mTrue\u001b[0m\u001b[0;31m`\u001b[0m\u001b[0;34m.\u001b[0m\u001b[0;34m\u001b[0m\u001b[0;34m\u001b[0m\u001b[0m\n\u001b[1;32m    982\u001b[0m         \"\"\"\n\u001b[0;32m--> 983\u001b[0;31m         \u001b[0mconnection\u001b[0m \u001b[0;34m=\u001b[0m \u001b[0mself\u001b[0m\u001b[0;34m.\u001b[0m\u001b[0m_get_connection\u001b[0m\u001b[0;34m(\u001b[0m\u001b[0;34m)\u001b[0m\u001b[0;34m\u001b[0m\u001b[0;34m\u001b[0m\u001b[0m\n\u001b[0m\u001b[1;32m    984\u001b[0m         \u001b[0;32mtry\u001b[0m\u001b[0;34m:\u001b[0m\u001b[0;34m\u001b[0m\u001b[0;34m\u001b[0m\u001b[0m\n\u001b[1;32m    985\u001b[0m             \u001b[0mresponse\u001b[0m \u001b[0;34m=\u001b[0m \u001b[0mconnection\u001b[0m\u001b[0;34m.\u001b[0m\u001b[0msend_command\u001b[0m\u001b[0;34m(\u001b[0m\u001b[0mcommand\u001b[0m\u001b[0;34m)\u001b[0m\u001b[0;34m\u001b[0m\u001b[0;34m\u001b[0m\u001b[0m\n",
      "\u001b[0;32m/anaconda3/lib/python3.6/site-packages/pyspark/python/lib/py4j-0.10.7-src.zip/py4j/java_gateway.py\u001b[0m in \u001b[0;36m_get_connection\u001b[0;34m(self)\u001b[0m\n\u001b[1;32m    929\u001b[0m             \u001b[0mconnection\u001b[0m \u001b[0;34m=\u001b[0m \u001b[0mself\u001b[0m\u001b[0;34m.\u001b[0m\u001b[0mdeque\u001b[0m\u001b[0;34m.\u001b[0m\u001b[0mpop\u001b[0m\u001b[0;34m(\u001b[0m\u001b[0;34m)\u001b[0m\u001b[0;34m\u001b[0m\u001b[0;34m\u001b[0m\u001b[0m\n\u001b[1;32m    930\u001b[0m         \u001b[0;32mexcept\u001b[0m \u001b[0mIndexError\u001b[0m\u001b[0;34m:\u001b[0m\u001b[0;34m\u001b[0m\u001b[0;34m\u001b[0m\u001b[0m\n\u001b[0;32m--> 931\u001b[0;31m             \u001b[0mconnection\u001b[0m \u001b[0;34m=\u001b[0m \u001b[0mself\u001b[0m\u001b[0;34m.\u001b[0m\u001b[0m_create_connection\u001b[0m\u001b[0;34m(\u001b[0m\u001b[0;34m)\u001b[0m\u001b[0;34m\u001b[0m\u001b[0;34m\u001b[0m\u001b[0m\n\u001b[0m\u001b[1;32m    932\u001b[0m         \u001b[0;32mreturn\u001b[0m \u001b[0mconnection\u001b[0m\u001b[0;34m\u001b[0m\u001b[0;34m\u001b[0m\u001b[0m\n\u001b[1;32m    933\u001b[0m \u001b[0;34m\u001b[0m\u001b[0m\n",
      "\u001b[0;32m/anaconda3/lib/python3.6/site-packages/pyspark/python/lib/py4j-0.10.7-src.zip/py4j/java_gateway.py\u001b[0m in \u001b[0;36m_create_connection\u001b[0;34m(self)\u001b[0m\n\u001b[1;32m    935\u001b[0m         connection = GatewayConnection(\n\u001b[1;32m    936\u001b[0m             self.gateway_parameters, self.gateway_property)\n\u001b[0;32m--> 937\u001b[0;31m         \u001b[0mconnection\u001b[0m\u001b[0;34m.\u001b[0m\u001b[0mstart\u001b[0m\u001b[0;34m(\u001b[0m\u001b[0;34m)\u001b[0m\u001b[0;34m\u001b[0m\u001b[0;34m\u001b[0m\u001b[0m\n\u001b[0m\u001b[1;32m    938\u001b[0m         \u001b[0;32mreturn\u001b[0m \u001b[0mconnection\u001b[0m\u001b[0;34m\u001b[0m\u001b[0;34m\u001b[0m\u001b[0m\n\u001b[1;32m    939\u001b[0m \u001b[0;34m\u001b[0m\u001b[0m\n",
      "\u001b[0;32m/anaconda3/lib/python3.6/site-packages/pyspark/python/lib/py4j-0.10.7-src.zip/py4j/java_gateway.py\u001b[0m in \u001b[0;36mstart\u001b[0;34m(self)\u001b[0m\n\u001b[1;32m   1069\u001b[0m             \u001b[0mself\u001b[0m\u001b[0;34m.\u001b[0m\u001b[0mis_connected\u001b[0m \u001b[0;34m=\u001b[0m \u001b[0;32mTrue\u001b[0m\u001b[0;34m\u001b[0m\u001b[0;34m\u001b[0m\u001b[0m\n\u001b[1;32m   1070\u001b[0m \u001b[0;34m\u001b[0m\u001b[0m\n\u001b[0;32m-> 1071\u001b[0;31m             \u001b[0mself\u001b[0m\u001b[0;34m.\u001b[0m\u001b[0m_authenticate_connection\u001b[0m\u001b[0;34m(\u001b[0m\u001b[0;34m)\u001b[0m\u001b[0;34m\u001b[0m\u001b[0;34m\u001b[0m\u001b[0m\n\u001b[0m\u001b[1;32m   1072\u001b[0m         \u001b[0;32mexcept\u001b[0m \u001b[0mPy4JAuthenticationError\u001b[0m\u001b[0;34m:\u001b[0m\u001b[0;34m\u001b[0m\u001b[0;34m\u001b[0m\u001b[0m\n\u001b[1;32m   1073\u001b[0m             \u001b[0mlogger\u001b[0m\u001b[0;34m.\u001b[0m\u001b[0mexception\u001b[0m\u001b[0;34m(\u001b[0m\u001b[0;34m\"Cannot authenticate with gateway server.\"\u001b[0m\u001b[0;34m)\u001b[0m\u001b[0;34m\u001b[0m\u001b[0;34m\u001b[0m\u001b[0m\n",
      "\u001b[0;32m/anaconda3/lib/python3.6/site-packages/pyspark/python/lib/py4j-0.10.7-src.zip/py4j/java_gateway.py\u001b[0m in \u001b[0;36m_authenticate_connection\u001b[0;34m(self)\u001b[0m\n\u001b[1;32m   1085\u001b[0m                 \u001b[0mself\u001b[0m\u001b[0;34m.\u001b[0m\u001b[0mgateway_parameters\u001b[0m\u001b[0;34m.\u001b[0m\u001b[0mauth_token\u001b[0m\u001b[0;34m\u001b[0m\u001b[0;34m\u001b[0m\u001b[0m\n\u001b[1;32m   1086\u001b[0m             )\n\u001b[0;32m-> 1087\u001b[0;31m             \u001b[0manswer\u001b[0m \u001b[0;34m=\u001b[0m \u001b[0mself\u001b[0m\u001b[0;34m.\u001b[0m\u001b[0msend_command\u001b[0m\u001b[0;34m(\u001b[0m\u001b[0mcmd\u001b[0m\u001b[0;34m)\u001b[0m\u001b[0;34m\u001b[0m\u001b[0;34m\u001b[0m\u001b[0m\n\u001b[0m\u001b[1;32m   1088\u001b[0m             \u001b[0merror\u001b[0m\u001b[0;34m,\u001b[0m \u001b[0m_\u001b[0m \u001b[0;34m=\u001b[0m \u001b[0mproto\u001b[0m\u001b[0;34m.\u001b[0m\u001b[0mis_error\u001b[0m\u001b[0;34m(\u001b[0m\u001b[0manswer\u001b[0m\u001b[0;34m)\u001b[0m\u001b[0;34m\u001b[0m\u001b[0;34m\u001b[0m\u001b[0m\n\u001b[1;32m   1089\u001b[0m             \u001b[0;32mif\u001b[0m \u001b[0merror\u001b[0m\u001b[0;34m:\u001b[0m\u001b[0;34m\u001b[0m\u001b[0;34m\u001b[0m\u001b[0m\n",
      "\u001b[0;32m/anaconda3/lib/python3.6/site-packages/pyspark/python/lib/py4j-0.10.7-src.zip/py4j/java_gateway.py\u001b[0m in \u001b[0;36msend_command\u001b[0;34m(self, command)\u001b[0m\n\u001b[1;32m   1150\u001b[0m \u001b[0;34m\u001b[0m\u001b[0m\n\u001b[1;32m   1151\u001b[0m         \u001b[0;32mtry\u001b[0m\u001b[0;34m:\u001b[0m\u001b[0;34m\u001b[0m\u001b[0;34m\u001b[0m\u001b[0m\n\u001b[0;32m-> 1152\u001b[0;31m             \u001b[0manswer\u001b[0m \u001b[0;34m=\u001b[0m \u001b[0msmart_decode\u001b[0m\u001b[0;34m(\u001b[0m\u001b[0mself\u001b[0m\u001b[0;34m.\u001b[0m\u001b[0mstream\u001b[0m\u001b[0;34m.\u001b[0m\u001b[0mreadline\u001b[0m\u001b[0;34m(\u001b[0m\u001b[0;34m)\u001b[0m\u001b[0;34m[\u001b[0m\u001b[0;34m:\u001b[0m\u001b[0;34m-\u001b[0m\u001b[0;36m1\u001b[0m\u001b[0;34m]\u001b[0m\u001b[0;34m)\u001b[0m\u001b[0;34m\u001b[0m\u001b[0;34m\u001b[0m\u001b[0m\n\u001b[0m\u001b[1;32m   1153\u001b[0m             \u001b[0mlogger\u001b[0m\u001b[0;34m.\u001b[0m\u001b[0mdebug\u001b[0m\u001b[0;34m(\u001b[0m\u001b[0;34m\"Answer received: {0}\"\u001b[0m\u001b[0;34m.\u001b[0m\u001b[0mformat\u001b[0m\u001b[0;34m(\u001b[0m\u001b[0manswer\u001b[0m\u001b[0;34m)\u001b[0m\u001b[0;34m)\u001b[0m\u001b[0;34m\u001b[0m\u001b[0;34m\u001b[0m\u001b[0m\n\u001b[1;32m   1154\u001b[0m             \u001b[0;32mif\u001b[0m \u001b[0manswer\u001b[0m\u001b[0;34m.\u001b[0m\u001b[0mstartswith\u001b[0m\u001b[0;34m(\u001b[0m\u001b[0mproto\u001b[0m\u001b[0;34m.\u001b[0m\u001b[0mRETURN_MESSAGE\u001b[0m\u001b[0;34m)\u001b[0m\u001b[0;34m:\u001b[0m\u001b[0;34m\u001b[0m\u001b[0;34m\u001b[0m\u001b[0m\n",
      "\u001b[0;32m/anaconda3/lib/python3.6/socket.py\u001b[0m in \u001b[0;36mreadinto\u001b[0;34m(self, b)\u001b[0m\n\u001b[1;32m    584\u001b[0m         \u001b[0;32mwhile\u001b[0m \u001b[0;32mTrue\u001b[0m\u001b[0;34m:\u001b[0m\u001b[0;34m\u001b[0m\u001b[0;34m\u001b[0m\u001b[0m\n\u001b[1;32m    585\u001b[0m             \u001b[0;32mtry\u001b[0m\u001b[0;34m:\u001b[0m\u001b[0;34m\u001b[0m\u001b[0;34m\u001b[0m\u001b[0m\n\u001b[0;32m--> 586\u001b[0;31m                 \u001b[0;32mreturn\u001b[0m \u001b[0mself\u001b[0m\u001b[0;34m.\u001b[0m\u001b[0m_sock\u001b[0m\u001b[0;34m.\u001b[0m\u001b[0mrecv_into\u001b[0m\u001b[0;34m(\u001b[0m\u001b[0mb\u001b[0m\u001b[0;34m)\u001b[0m\u001b[0;34m\u001b[0m\u001b[0;34m\u001b[0m\u001b[0m\n\u001b[0m\u001b[1;32m    587\u001b[0m             \u001b[0;32mexcept\u001b[0m \u001b[0mtimeout\u001b[0m\u001b[0;34m:\u001b[0m\u001b[0;34m\u001b[0m\u001b[0;34m\u001b[0m\u001b[0m\n\u001b[1;32m    588\u001b[0m                 \u001b[0mself\u001b[0m\u001b[0;34m.\u001b[0m\u001b[0m_timeout_occurred\u001b[0m \u001b[0;34m=\u001b[0m \u001b[0;32mTrue\u001b[0m\u001b[0;34m\u001b[0m\u001b[0;34m\u001b[0m\u001b[0m\n",
      "\u001b[0;31mKeyboardInterrupt\u001b[0m: "
     ]
    }
   ],
   "source": [
    "taxi_df.select(F.max('pickup_centroid_latitude'),F.min('pickup_centroid_latitude')).show()"
   ]
  },
  {
   "cell_type": "code",
   "execution_count": null,
   "metadata": {},
   "outputs": [],
   "source": [
    "taxi_df.select(F.max('dropoff_centroid_latitude'),F.min('dropoff_centroid_latitude')).show()"
   ]
  },
  {
   "cell_type": "code",
   "execution_count": null,
   "metadata": {},
   "outputs": [],
   "source": [
    "taxi_df.select(F.max('pickup_centroid_longitude'),F.min('pickup_centroid_longitude')).show()"
   ]
  },
  {
   "cell_type": "code",
   "execution_count": null,
   "metadata": {},
   "outputs": [],
   "source": [
    "taxi_df.select(F.max('dropoff_centroid_longitude'),F.min('dropoff_centroid_longitude')).show()"
   ]
  },
  {
   "cell_type": "code",
   "execution_count": null,
   "metadata": {},
   "outputs": [],
   "source": []
  },
  {
   "cell_type": "code",
   "execution_count": null,
   "metadata": {},
   "outputs": [],
   "source": []
  },
  {
   "cell_type": "code",
   "execution_count": null,
   "metadata": {},
   "outputs": [],
   "source": []
  },
  {
   "cell_type": "code",
   "execution_count": null,
   "metadata": {},
   "outputs": [],
   "source": []
  },
  {
   "cell_type": "code",
   "execution_count": null,
   "metadata": {},
   "outputs": [],
   "source": []
  },
  {
   "cell_type": "code",
   "execution_count": null,
   "metadata": {},
   "outputs": [],
   "source": []
  },
  {
   "cell_type": "code",
   "execution_count": null,
   "metadata": {},
   "outputs": [],
   "source": []
  },
  {
   "cell_type": "code",
   "execution_count": null,
   "metadata": {},
   "outputs": [],
   "source": []
  },
  {
   "cell_type": "code",
   "execution_count": null,
   "metadata": {},
   "outputs": [],
   "source": []
  },
  {
   "cell_type": "code",
   "execution_count": null,
   "metadata": {},
   "outputs": [],
   "source": [
    "taxi_df.groupBy(\"Pickup Community Area\").count().sort('count',ascending=False).show(80)"
   ]
  },
  {
   "cell_type": "code",
   "execution_count": null,
   "metadata": {},
   "outputs": [],
   "source": [
    "taxi_df.groupBy(\"Dropoff Community Area\").count().sort('count',ascending=False).show(80)"
   ]
  },
  {
   "cell_type": "code",
   "execution_count": 52,
   "metadata": {},
   "outputs": [
    {
     "name": "stdout",
     "output_type": "stream",
     "text": [
      "+-------+------------------+\n",
      "|summary|              Fare|\n",
      "+-------+------------------+\n",
      "|  count|            451680|\n",
      "|   mean|12.825415515409153|\n",
      "| stddev| 46.96985976074341|\n",
      "|    min|               0.0|\n",
      "|    max|           9000.42|\n",
      "+-------+------------------+\n",
      "\n"
     ]
    }
   ],
   "source": [
    "taxi_df.describe(['Fare']).show()"
   ]
  }
 ],
 "metadata": {
  "kernelspec": {
   "display_name": "Python 3",
   "language": "python",
   "name": "python3"
  },
  "language_info": {
   "codemirror_mode": {
    "name": "ipython",
    "version": 3
   },
   "file_extension": ".py",
   "mimetype": "text/x-python",
   "name": "python",
   "nbconvert_exporter": "python",
   "pygments_lexer": "ipython3",
   "version": "3.6.8"
  }
 },
 "nbformat": 4,
 "nbformat_minor": 2
}
