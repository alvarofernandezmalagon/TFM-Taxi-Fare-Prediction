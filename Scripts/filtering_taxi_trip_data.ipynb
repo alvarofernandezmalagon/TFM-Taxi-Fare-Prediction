{
 "cells": [
  {
   "cell_type": "markdown",
   "metadata": {},
   "source": [
    "# Cleaning The Taxi Trip DataSet\n",
    "The objective of this notebook is to carry out a first filtering of the dataset of the trips in taxi of Chicago based on the analysis made in the notebook `exploratory_taxi_data.ipynb`"
   ]
  },
  {
   "cell_type": "markdown",
   "metadata": {},
   "source": [
    "## 1 Create our environment"
   ]
  },
  {
   "cell_type": "markdown",
   "metadata": {},
   "source": [
    "#### Create the Spark Session"
   ]
  },
  {
   "cell_type": "code",
   "execution_count": 1,
   "metadata": {},
   "outputs": [],
   "source": [
    "import findspark\n",
    "findspark.init()"
   ]
  },
  {
   "cell_type": "code",
   "execution_count": 2,
   "metadata": {},
   "outputs": [],
   "source": [
    "from pyspark.sql import SparkSession, SQLContext\n",
    "from pyspark import SparkConf, SparkContext"
   ]
  },
  {
   "cell_type": "code",
   "execution_count": 3,
   "metadata": {},
   "outputs": [],
   "source": [
    "sc_conf = SparkConf()"
   ]
  },
  {
   "cell_type": "code",
   "execution_count": 4,
   "metadata": {},
   "outputs": [
    {
     "data": {
      "text/plain": [
       "<pyspark.conf.SparkConf at 0x10dad6ac8>"
      ]
     },
     "execution_count": 4,
     "metadata": {},
     "output_type": "execute_result"
    }
   ],
   "source": [
    "sc_conf.set('spark.driver.port', '62678')\n",
    "sc_conf.set('spark.rdd.compress', 'True')\n",
    "sc_conf.set('spark.driver.host', '127.0.0.1')\n",
    "sc_conf.set('spark.serializer.objectStreamReset', '100')\n",
    "sc_conf.set('spark.master', 'local[*]')\n",
    "sc_conf.set('spark.executor.id', 'driver')\n",
    "sc_conf.set('spark.submit.deployMode', 'client')\n",
    "sc_conf.set('spark.ui.showConsoleProgress', 'true')\n",
    "sc_conf.set('spark.app.name', 'pyspark-shell')\n",
    "sc_conf.set(\"spark.executor.memory\",\"6g\")\n",
    "sc_conf.set(\"spark.driver.memory\",\"6g\")"
   ]
  },
  {
   "cell_type": "code",
   "execution_count": 5,
   "metadata": {},
   "outputs": [
    {
     "data": {
      "text/plain": [
       "dict_items([('spark.driver.port', '62678'), ('spark.rdd.compress', 'True'), ('spark.driver.host', '127.0.0.1'), ('spark.serializer.objectStreamReset', '100'), ('spark.master', 'local[*]'), ('spark.executor.id', 'driver'), ('spark.submit.deployMode', 'client'), ('spark.ui.showConsoleProgress', 'true'), ('spark.app.name', 'pyspark-shell'), ('spark.executor.memory', '6g'), ('spark.driver.memory', '6g')])"
      ]
     },
     "execution_count": 5,
     "metadata": {},
     "output_type": "execute_result"
    }
   ],
   "source": [
    "sc_conf.getAll()"
   ]
  },
  {
   "cell_type": "code",
   "execution_count": 6,
   "metadata": {},
   "outputs": [
    {
     "data": {
      "text/html": [
       "\n",
       "            <div>\n",
       "                <p><b>SparkSession - in-memory</b></p>\n",
       "                \n",
       "        <div>\n",
       "            <p><b>SparkContext</b></p>\n",
       "\n",
       "            <p><a href=\"http://127.0.0.1:4040\">Spark UI</a></p>\n",
       "\n",
       "            <dl>\n",
       "              <dt>Version</dt>\n",
       "                <dd><code>v2.4.0</code></dd>\n",
       "              <dt>Master</dt>\n",
       "                <dd><code>local[*]</code></dd>\n",
       "              <dt>AppName</dt>\n",
       "                <dd><code>pyspark-shell</code></dd>\n",
       "            </dl>\n",
       "        </div>\n",
       "        \n",
       "            </div>\n",
       "        "
      ],
      "text/plain": [
       "<pyspark.sql.session.SparkSession at 0x1170d5a90>"
      ]
     },
     "execution_count": 6,
     "metadata": {},
     "output_type": "execute_result"
    }
   ],
   "source": [
    "sc = SparkContext(conf=sc_conf)\n",
    "sql = SQLContext(sc)\n",
    "session = sql.sparkSession\n",
    "session"
   ]
  },
  {
   "cell_type": "code",
   "execution_count": 7,
   "metadata": {},
   "outputs": [
    {
     "data": {
      "text/plain": [
       "[('spark.executor.memory', '6g'),\n",
       " ('spark.driver.port', '62678'),\n",
       " ('spark.driver.host', '127.0.0.1'),\n",
       " ('spark.driver.memory', '6g'),\n",
       " ('spark.rdd.compress', 'True'),\n",
       " ('spark.app.id', 'local-1557511777630'),\n",
       " ('spark.serializer.objectStreamReset', '100'),\n",
       " ('spark.master', 'local[*]'),\n",
       " ('spark.executor.id', 'driver'),\n",
       " ('spark.submit.deployMode', 'client'),\n",
       " ('spark.ui.showConsoleProgress', 'true'),\n",
       " ('spark.app.name', 'pyspark-shell')]"
      ]
     },
     "execution_count": 7,
     "metadata": {},
     "output_type": "execute_result"
    }
   ],
   "source": [
    "session.sparkContext.getConf().getAll()"
   ]
  },
  {
   "cell_type": "code",
   "execution_count": 8,
   "metadata": {},
   "outputs": [],
   "source": [
    "import os\n",
    "import shutil\n",
    "from pyspark.sql import SparkSession\n",
    "from pyspark.sql.types import *\n",
    "from pyspark.sql import functions as F\n",
    "from pyspark.sql import types as T\n",
    "import pandas as pd\n",
    "pd.options.display.max_columns = None"
   ]
  },
  {
   "cell_type": "markdown",
   "metadata": {},
   "source": [
    "## 2 Read the data"
   ]
  },
  {
   "cell_type": "code",
   "execution_count": 9,
   "metadata": {},
   "outputs": [],
   "source": [
    "taxi_schema = StructType([\n",
    "    StructField(\"Trip ID\", StringType(), nullable = True),\n",
    "    StructField(\"Taxi ID\", StringType(), nullable = True),\n",
    "    StructField(\"Trip Start Timestamp\", StringType(), nullable = True),\n",
    "    StructField(\"Trip End Timestamp\", StringType(), nullable = True),\n",
    "    StructField(\"Trip Seconds\", IntegerType(), nullable = True),\n",
    "    StructField(\"trip_miles\", DoubleType(), nullable = True),\n",
    "    StructField(\"Pickup Census Tract\", LongType(), nullable = True),\n",
    "    StructField(\"Dropoff Census Tract\", LongType(), nullable = True),\n",
    "    StructField(\"Pickup Community Area\", IntegerType(), nullable = True),\n",
    "    StructField(\"Dropoff Community Area\", IntegerType(), nullable = True),\n",
    "    StructField(\"Fare\", DoubleType(), nullable = True),\n",
    "    StructField(\"Tips\", DoubleType(), nullable = True),\n",
    "    StructField(\"Tolls\", DoubleType(), nullable = True),\n",
    "    StructField(\"Extras\", DoubleType(), nullable = True),\n",
    "    StructField(\"Trip Total\", DoubleType(), nullable = True),\n",
    "    StructField(\"Payment Type\", StringType(), nullable = True),\n",
    "    StructField(\"Company\", StringType(), nullable = True),\n",
    "    StructField(\"Pickup Centroid Latitude\", DoubleType(), nullable = True),\n",
    "    StructField(\"Pickup Centroid Longitude\", DoubleType(), nullable = True),\n",
    "    StructField(\"Pickup Centroid Location\", StringType(), nullable = True),\n",
    "    StructField(\"Dropoff Centroid Latitude\", DoubleType(), nullable = True),\n",
    "    StructField(\"Dropoff Centroid Longitude\", DoubleType(), nullable = True),\n",
    "    StructField(\"Dropoff Centroid  Location\", StringType(), nullable = True),\n",
    "    StructField(\"Community Areas\", IntegerType(), nullable = True)])"
   ]
  },
  {
   "cell_type": "code",
   "execution_count": 10,
   "metadata": {},
   "outputs": [],
   "source": [
    "taxi_df = session.read.csv('../Data/Taxi_Trips.csv.gz',\n",
    "                              header=True,\n",
    "                              schema = taxi_schema)"
   ]
  },
  {
   "cell_type": "markdown",
   "metadata": {},
   "source": [
    "## 3 Change the columns names"
   ]
  },
  {
   "cell_type": "code",
   "execution_count": 11,
   "metadata": {},
   "outputs": [
    {
     "name": "stdout",
     "output_type": "stream",
     "text": [
      "root\n",
      " |-- trip_id: string (nullable = true)\n",
      " |-- taxi_id: string (nullable = true)\n",
      " |-- trip_start_timestamp: string (nullable = true)\n",
      " |-- trip_end_timestamp: string (nullable = true)\n",
      " |-- trip_seconds: integer (nullable = true)\n",
      " |-- trip_miles: double (nullable = true)\n",
      " |-- pickup_census_tract: long (nullable = true)\n",
      " |-- dropoff_census_tract: long (nullable = true)\n",
      " |-- pickup_community_area: integer (nullable = true)\n",
      " |-- dropoff_community_area: integer (nullable = true)\n",
      " |-- fare: double (nullable = true)\n",
      " |-- tips: double (nullable = true)\n",
      " |-- tolls: double (nullable = true)\n",
      " |-- extras: double (nullable = true)\n",
      " |-- trip_total: double (nullable = true)\n",
      " |-- payment_type: string (nullable = true)\n",
      " |-- company: string (nullable = true)\n",
      " |-- pickup_centroid_latitude: double (nullable = true)\n",
      " |-- pickup_centroid_longitude: double (nullable = true)\n",
      " |-- pickup_centroid_location: string (nullable = true)\n",
      " |-- dropoff_centroid_latitude: double (nullable = true)\n",
      " |-- dropoff_centroid_longitude: double (nullable = true)\n",
      " |-- dropoff_centroid__location: string (nullable = true)\n",
      " |-- community_areas: integer (nullable = true)\n",
      "\n"
     ]
    }
   ],
   "source": [
    "# We change the columns names\n",
    "for col in taxi_df.columns:\n",
    "    new_col=col.lower().replace(\" \",\"_\")\n",
    "    taxi_df = taxi_df.withColumnRenamed(col,new_col)\n",
    "taxi_df.printSchema()"
   ]
  },
  {
   "cell_type": "markdown",
   "metadata": {},
   "source": [
    "## 4 Convert the date from string format to datetime"
   ]
  },
  {
   "cell_type": "code",
   "execution_count": 12,
   "metadata": {},
   "outputs": [],
   "source": [
    "# We convert the trip start timestamp and the trip end timestamp from string format to datetim\n",
    "taxi_df = taxi_df.withColumn(\"trip_start_timestamp\",\n",
    "                             F.from_unixtime(F.unix_timestamp(F.col(\"trip_start_timestamp\"),\n",
    "                                                           format=\"MM/dd/yyyy hh:mm:ss aa\")))\n",
    "taxi_df = taxi_df.withColumn(\"trip_end_timestamp\",\n",
    "                             F.from_unixtime(F.unix_timestamp(F.col(\"trip_end_timestamp\"),\n",
    "                                                           format=\"MM/dd/yyyy hh:mm:ss aa\")))"
   ]
  },
  {
   "cell_type": "markdown",
   "metadata": {},
   "source": [
    "## 5 Filter and save the dataset in a csv"
   ]
  },
  {
   "cell_type": "code",
   "execution_count": 13,
   "metadata": {},
   "outputs": [],
   "source": [
    "# We convert the value 'Unknown' in the column 'payment_type' to null\n",
    "taxi_df = taxi_df.withColumn('payment_type',\n",
    "                            F.when(F.col('payment_type')=='Unknown',None).otherwise(F.col('payment_type')))"
   ]
  },
  {
   "cell_type": "code",
   "execution_count": 14,
   "metadata": {},
   "outputs": [],
   "source": [
    "# We drop the useless columns, trips that have some null value in the defined axes or those with strange values\n",
    "taxi_df.drop('pickup_census_tract',\n",
    "             'dropoff_census_tract',\n",
    "             'pickup_centroid_location',\n",
    "             'dropoff_centroid__location',\n",
    "             'community_areas')\\\n",
    "       .dropna(how='any',\n",
    "               subset=['trip_id',\n",
    "                       'taxi_id',\n",
    "                       'trip_start_timestamp',\n",
    "                       'trip_end_timestamp',\n",
    "                       'trip_seconds',\n",
    "                       'trip_miles',\n",
    "                       'pickup_community_area',\n",
    "                       'dropoff_community_area',\n",
    "                       'fare',\n",
    "                       'tips',\n",
    "                       'tolls',\n",
    "                       'extras',\n",
    "                       'trip_total',\n",
    "                       'payment_type',\n",
    "                       'company',\n",
    "                       'pickup_centroid_latitude',\n",
    "                       'pickup_centroid_longitude',\n",
    "                       'dropoff_centroid_latitude',\n",
    "                       'dropoff_centroid_longitude'])\\\n",
    "        .filter((F.col(\"trip_start_timestamp\") <= (F.col(\"trip_end_timestamp\"))) &\n",
    "                (F.col(\"trip_seconds\") > 60) &\n",
    "                (F.col(\"trip_miles\") > 0.5) &\n",
    "                (F.col(\"fare\") > 0) &\n",
    "                (F.col(\"tips\") >= 0) &\n",
    "                (F.col(\"tolls\") >= 0) &\n",
    "                (F.col(\"extras\") >= 0) &\n",
    "                (F.col(\"trip_total\") > 0)).repartition(1).write.save(\"../Data/taxi_chicago_filter\",\n",
    "                                                                      format=\"csv\",header=True)"
   ]
  },
  {
   "cell_type": "code",
   "execution_count": 15,
   "metadata": {},
   "outputs": [],
   "source": [
    "# We change the name of the csv\n",
    "path = \"../Data/taxi_chicago_filter/\"\n",
    "extension = \".csv\"\n",
    "\n",
    "result = os.listdir(path)\n",
    "\n",
    "file = list(filter(lambda x: x.endswith(extension), result))\n",
    "\n",
    "old_path = path + file[0]\n",
    "new_path = path[:-1] + extension\n",
    "\n",
    "os.rename(old_path, new_path)"
   ]
  },
  {
   "cell_type": "markdown",
   "metadata": {},
   "source": [
    "# 6 Delete the folder taxi_chicago_filter"
   ]
  },
  {
   "cell_type": "code",
   "execution_count": 16,
   "metadata": {},
   "outputs": [],
   "source": [
    "shutil.rmtree('../Data/taxi_chicago_filter')"
   ]
  },
  {
   "cell_type": "markdown",
   "metadata": {},
   "source": [
    "## 7 Conclusion"
   ]
  },
  {
   "cell_type": "markdown",
   "metadata": {},
   "source": [
    "Once a first filtering of the dataset of the taxi trips has been carried out, what we are going to do is to eliminate those trips that have a point of departure or arrival in the water. This will be done in the notebook `delete_location_water.ipynb`"
   ]
  }
 ],
 "metadata": {
  "kernelspec": {
   "display_name": "Python 3",
   "language": "python",
   "name": "python3"
  },
  "language_info": {
   "codemirror_mode": {
    "name": "ipython",
    "version": 3
   },
   "file_extension": ".py",
   "mimetype": "text/x-python",
   "name": "python",
   "nbconvert_exporter": "python",
   "pygments_lexer": "ipython3",
   "version": "3.6.8"
  }
 },
 "nbformat": 4,
 "nbformat_minor": 2
}
