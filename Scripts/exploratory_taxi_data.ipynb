{
 "cells": [
  {
   "cell_type": "markdown",
   "metadata": {},
   "source": [
    "# Initial Exploratory Taxi Trip DataSet\n",
    "The objective of this notebook is to carry out an initial analysis of the taxi trips in Chicago and then on the basis of this analysis carry out a filtering of the erroneous trips."
   ]
  },
  {
   "cell_type": "markdown",
   "metadata": {},
   "source": [
    "## Chicago Coordinates \n",
    "-87.6244212, 41.8755616"
   ]
  },
  {
   "cell_type": "markdown",
   "metadata": {},
   "source": [
    "## 1 Create our environment"
   ]
  },
  {
   "cell_type": "markdown",
   "metadata": {},
   "source": [
    "### 1.1 Create the Spark Session"
   ]
  },
  {
   "cell_type": "code",
   "execution_count": 1,
   "metadata": {},
   "outputs": [],
   "source": [
    "import findspark\n",
    "findspark.init()"
   ]
  },
  {
   "cell_type": "code",
   "execution_count": 2,
   "metadata": {},
   "outputs": [],
   "source": [
    "from pyspark.sql import SparkSession, SQLContext\n",
    "from pyspark import SparkConf, SparkContext"
   ]
  },
  {
   "cell_type": "code",
   "execution_count": 3,
   "metadata": {},
   "outputs": [],
   "source": [
    "sc_conf = SparkConf()"
   ]
  },
  {
   "cell_type": "code",
   "execution_count": 4,
   "metadata": {},
   "outputs": [
    {
     "data": {
      "text/plain": [
       "<pyspark.conf.SparkConf at 0x10b53cb70>"
      ]
     },
     "execution_count": 4,
     "metadata": {},
     "output_type": "execute_result"
    }
   ],
   "source": [
    "sc_conf.set('spark.driver.port', '62678')\n",
    "sc_conf.set('spark.rdd.compress', 'True')\n",
    "sc_conf.set('spark.driver.host', '127.0.0.1')\n",
    "sc_conf.set('spark.serializer.objectStreamReset', '100')\n",
    "sc_conf.set('spark.master', 'local[*]')\n",
    "sc_conf.set('spark.executor.id', 'driver')\n",
    "sc_conf.set('spark.submit.deployMode', 'client')\n",
    "sc_conf.set('spark.ui.showConsoleProgress', 'true')\n",
    "sc_conf.set('spark.app.name', 'pyspark-shell')\n",
    "sc_conf.set(\"spark.executor.memory\",\"6g\")\n",
    "sc_conf.set(\"spark.driver.memory\",\"1g\")"
   ]
  },
  {
   "cell_type": "code",
   "execution_count": 5,
   "metadata": {},
   "outputs": [
    {
     "data": {
      "text/plain": [
       "dict_items([('spark.driver.port', '62678'), ('spark.rdd.compress', 'True'), ('spark.driver.host', '127.0.0.1'), ('spark.serializer.objectStreamReset', '100'), ('spark.master', 'local[*]'), ('spark.executor.id', 'driver'), ('spark.submit.deployMode', 'client'), ('spark.ui.showConsoleProgress', 'true'), ('spark.app.name', 'pyspark-shell'), ('spark.executor.memory', '6g'), ('spark.driver.memory', '1g')])"
      ]
     },
     "execution_count": 5,
     "metadata": {},
     "output_type": "execute_result"
    }
   ],
   "source": [
    "sc_conf.getAll()"
   ]
  },
  {
   "cell_type": "code",
   "execution_count": 6,
   "metadata": {},
   "outputs": [],
   "source": [
    "sc = SparkContext(conf=sc_conf)"
   ]
  },
  {
   "cell_type": "code",
   "execution_count": 7,
   "metadata": {},
   "outputs": [],
   "source": [
    "sql = SQLContext(sc)"
   ]
  },
  {
   "cell_type": "code",
   "execution_count": 8,
   "metadata": {},
   "outputs": [
    {
     "data": {
      "text/html": [
       "\n",
       "            <div>\n",
       "                <p><b>SparkSession - in-memory</b></p>\n",
       "                \n",
       "        <div>\n",
       "            <p><b>SparkContext</b></p>\n",
       "\n",
       "            <p><a href=\"http://127.0.0.1:4040\">Spark UI</a></p>\n",
       "\n",
       "            <dl>\n",
       "              <dt>Version</dt>\n",
       "                <dd><code>v2.4.0</code></dd>\n",
       "              <dt>Master</dt>\n",
       "                <dd><code>local[*]</code></dd>\n",
       "              <dt>AppName</dt>\n",
       "                <dd><code>pyspark-shell</code></dd>\n",
       "            </dl>\n",
       "        </div>\n",
       "        \n",
       "            </div>\n",
       "        "
      ],
      "text/plain": [
       "<pyspark.sql.session.SparkSession at 0x11851d7f0>"
      ]
     },
     "execution_count": 8,
     "metadata": {},
     "output_type": "execute_result"
    }
   ],
   "source": [
    "session = sql.sparkSession\n",
    "session"
   ]
  },
  {
   "cell_type": "code",
   "execution_count": 9,
   "metadata": {},
   "outputs": [
    {
     "data": {
      "text/plain": [
       "[('spark.executor.memory', '6g'),\n",
       " ('spark.driver.port', '62678'),\n",
       " ('spark.driver.host', '127.0.0.1'),\n",
       " ('spark.rdd.compress', 'True'),\n",
       " ('spark.serializer.objectStreamReset', '100'),\n",
       " ('spark.master', 'local[*]'),\n",
       " ('spark.executor.id', 'driver'),\n",
       " ('spark.submit.deployMode', 'client'),\n",
       " ('spark.driver.memory', '1g'),\n",
       " ('spark.ui.showConsoleProgress', 'true'),\n",
       " ('spark.app.name', 'pyspark-shell'),\n",
       " ('spark.app.id', 'local-1556728644481')]"
      ]
     },
     "execution_count": 9,
     "metadata": {},
     "output_type": "execute_result"
    }
   ],
   "source": [
    "session.sparkContext.getConf().getAll()"
   ]
  },
  {
   "cell_type": "markdown",
   "metadata": {},
   "source": [
    "## 2 Load the libraries"
   ]
  },
  {
   "cell_type": "code",
   "execution_count": 10,
   "metadata": {},
   "outputs": [],
   "source": [
    "%matplotlib inline\n",
    "\n",
    "from pyspark.sql import SparkSession\n",
    "from pyspark.sql.types import *\n",
    "from pyspark.sql import functions as F\n",
    "from pyspark.sql import types as T\n",
    "import pandas as pd\n",
    "import numpy as np\n",
    "import matplotlib.pyplot as plt\n",
    "pd.options.display.max_columns = None"
   ]
  },
  {
   "cell_type": "markdown",
   "metadata": {},
   "source": [
    "## 3 Read the data"
   ]
  },
  {
   "cell_type": "code",
   "execution_count": 11,
   "metadata": {},
   "outputs": [],
   "source": [
    "taxi_schema = StructType([\n",
    "    StructField(\"Trip ID\", StringType(), nullable = True),\n",
    "    StructField(\"Taxi ID\", StringType(), nullable = True),\n",
    "    StructField(\"Trip Start Timestamp\", StringType(), nullable = True),\n",
    "    StructField(\"Trip End Timestamp\", StringType(), nullable = True),\n",
    "    StructField(\"Trip Seconds\", IntegerType(), nullable = True),\n",
    "    StructField(\"trip_miles\", DoubleType(), nullable = True),\n",
    "    StructField(\"Pickup Census Tract\", LongType(), nullable = True),\n",
    "    StructField(\"Dropoff Census Tract\", LongType(), nullable = True),\n",
    "    StructField(\"Pickup Community Area\", IntegerType(), nullable = True),\n",
    "    StructField(\"Dropoff Community Area\", IntegerType(), nullable = True),\n",
    "    StructField(\"Fare\", DoubleType(), nullable = True),\n",
    "    StructField(\"Tips\", DoubleType(), nullable = True),\n",
    "    StructField(\"Tolls\", DoubleType(), nullable = True),\n",
    "    StructField(\"Extras\", DoubleType(), nullable = True),\n",
    "    StructField(\"Trip Total\", DoubleType(), nullable = True),\n",
    "    StructField(\"Payment Type\", StringType(), nullable = True),\n",
    "    StructField(\"Company\", StringType(), nullable = True),\n",
    "    StructField(\"Pickup Centroid Latitude\", DoubleType(), nullable = True),\n",
    "    StructField(\"Pickup Centroid Longitude\", DoubleType(), nullable = True),\n",
    "    StructField(\"Pickup Centroid Location\", StringType(), nullable = True),\n",
    "    StructField(\"Dropoff Centroid Latitude\", DoubleType(), nullable = True),\n",
    "    StructField(\"Dropoff Centroid Longitude\", DoubleType(), nullable = True),\n",
    "    StructField(\"Dropoff Centroid  Location\", StringType(), nullable = True),\n",
    "    StructField(\"Community Areas\", IntegerType(), nullable = True)])"
   ]
  },
  {
   "cell_type": "code",
   "execution_count": 12,
   "metadata": {},
   "outputs": [
    {
     "name": "stdout",
     "output_type": "stream",
     "text": [
      "+--------------------+--------------------+--------------------+--------------------+------------+----------+-------------------+--------------------+---------------------+----------------------+----+----+-----+------+----------+------------+--------------------+------------------------+-------------------------+------------------------+-------------------------+--------------------------+--------------------------+---------------+\n",
      "|             Trip ID|             Taxi ID|Trip Start Timestamp|  Trip End Timestamp|Trip Seconds|trip_miles|Pickup Census Tract|Dropoff Census Tract|Pickup Community Area|Dropoff Community Area|Fare|Tips|Tolls|Extras|Trip Total|Payment Type|             Company|Pickup Centroid Latitude|Pickup Centroid Longitude|Pickup Centroid Location|Dropoff Centroid Latitude|Dropoff Centroid Longitude|Dropoff Centroid  Location|Community Areas|\n",
      "+--------------------+--------------------+--------------------+--------------------+------------+----------+-------------------+--------------------+---------------------+----------------------+----+----+-----+------+----------+------------+--------------------+------------------------+-------------------------+------------------------+-------------------------+--------------------------+--------------------------+---------------+\n",
      "|2014a7f89716c3ccc...|9492b268e840fcd19...|09/22/2015 05:30:...|09/22/2015 05:45:...|         420|       1.1|        17031839100|         17031081100|                   32|                     8|6.25| 0.0|  0.0|   0.0|      6.25|        Cash|                null|            41.880994471|            -87.632746489|    POINT (-87.632746...|             41.900221297|             -87.629105186|      POINT (-87.629105...|             38|\n",
      "|2014a81cdb5b71886...|d552bd52346c36f10...|09/17/2013 06:45:...|09/17/2013 07:00:...|         540|       3.2|               null|                null|                    8|                    24|9.65| 0.0|  0.0|   0.0|      9.65|        Cash|                null|            41.899602111|            -87.633308037|    POINT (-87.633308...|             41.901206994|             -87.676355989|      POINT (-87.676355...|             37|\n",
      "|2014a8218f8d69bb6...|1df52fc60f8edec54...|01/02/2016 10:30:...|01/02/2016 10:30:...|         180|       0.8|        17031081700|         17031081000|                    8|                     8|5.25| 0.0|  0.0|   0.0|      5.25|        Cash|                null|            41.892042136|             -87.63186395|    POINT (-87.631863...|             41.900265687|              -87.63210922|      POINT (-87.632109...|             37|\n",
      "|2014a86b8e1e98a86...|d96279b9f0d9e121d...|12/15/2015 11:45:...|12/15/2015 11:45:...|         360|       0.0|               null|                null|                    7|                     7|6.05| 0.0|  0.0|   0.0|      6.05|        Cash|Taxi Affiliation ...|            41.922686284|            -87.649488729|    POINT (-87.649488...|             41.922686284|             -87.649488729|      POINT (-87.649488...|             68|\n",
      "|2014a8724a96df31e...|a485350f36958a278...|06/03/2013 07:00:...|06/03/2013 07:15:...|         480|       0.9|        17031839100|         17031320100|                   32|                    32|6.45| 0.0|  0.0|   0.0|      6.45|        Cash|                null|            41.880994471|            -87.632746489|    POINT (-87.632746...|             41.884987192|             -87.620992913|      POINT (-87.620992...|             38|\n",
      "+--------------------+--------------------+--------------------+--------------------+------------+----------+-------------------+--------------------+---------------------+----------------------+----+----+-----+------+----------+------------+--------------------+------------------------+-------------------------+------------------------+-------------------------+--------------------------+--------------------------+---------------+\n",
      "only showing top 5 rows\n",
      "\n"
     ]
    }
   ],
   "source": [
    "taxi_df = session.read.csv('../Data/Taxi_Trips.csv',\n",
    "                              header=True,\n",
    "                              schema = taxi_schema)\n",
    "taxi_df.show(5)"
   ]
  },
  {
   "cell_type": "markdown",
   "metadata": {},
   "source": [
    "## 4 Initial Data analysis "
   ]
  },
  {
   "cell_type": "markdown",
   "metadata": {},
   "source": [
    "### 4.1 Get some trips to check the data"
   ]
  },
  {
   "cell_type": "code",
   "execution_count": 13,
   "metadata": {},
   "outputs": [
    {
     "data": {
      "text/html": [
       "<div>\n",
       "<style scoped>\n",
       "    .dataframe tbody tr th:only-of-type {\n",
       "        vertical-align: middle;\n",
       "    }\n",
       "\n",
       "    .dataframe tbody tr th {\n",
       "        vertical-align: top;\n",
       "    }\n",
       "\n",
       "    .dataframe thead th {\n",
       "        text-align: right;\n",
       "    }\n",
       "</style>\n",
       "<table border=\"1\" class=\"dataframe\">\n",
       "  <thead>\n",
       "    <tr style=\"text-align: right;\">\n",
       "      <th></th>\n",
       "      <th>Trip ID</th>\n",
       "      <th>Taxi ID</th>\n",
       "      <th>Trip Start Timestamp</th>\n",
       "      <th>Trip End Timestamp</th>\n",
       "      <th>Trip Seconds</th>\n",
       "      <th>trip_miles</th>\n",
       "      <th>Pickup Census Tract</th>\n",
       "      <th>Dropoff Census Tract</th>\n",
       "      <th>Pickup Community Area</th>\n",
       "      <th>Dropoff Community Area</th>\n",
       "      <th>Fare</th>\n",
       "      <th>Tips</th>\n",
       "      <th>Tolls</th>\n",
       "      <th>Extras</th>\n",
       "      <th>Trip Total</th>\n",
       "      <th>Payment Type</th>\n",
       "      <th>Company</th>\n",
       "      <th>Pickup Centroid Latitude</th>\n",
       "      <th>Pickup Centroid Longitude</th>\n",
       "      <th>Pickup Centroid Location</th>\n",
       "      <th>Dropoff Centroid Latitude</th>\n",
       "      <th>Dropoff Centroid Longitude</th>\n",
       "      <th>Dropoff Centroid  Location</th>\n",
       "      <th>Community Areas</th>\n",
       "    </tr>\n",
       "  </thead>\n",
       "  <tbody>\n",
       "    <tr>\n",
       "      <th>0</th>\n",
       "      <td>2014a7f89716c3cccc7d7935a3dfd16d8908f33c</td>\n",
       "      <td>9492b268e840fcd19b554ae0d61ab86a48eee56b7fba98...</td>\n",
       "      <td>09/22/2015 05:30:00 PM</td>\n",
       "      <td>09/22/2015 05:45:00 PM</td>\n",
       "      <td>420</td>\n",
       "      <td>1.1</td>\n",
       "      <td>1.703184e+10</td>\n",
       "      <td>1.703108e+10</td>\n",
       "      <td>32</td>\n",
       "      <td>8</td>\n",
       "      <td>6.25</td>\n",
       "      <td>0.0</td>\n",
       "      <td>0.0</td>\n",
       "      <td>0.0</td>\n",
       "      <td>6.25</td>\n",
       "      <td>Cash</td>\n",
       "      <td>None</td>\n",
       "      <td>41.880994</td>\n",
       "      <td>-87.632746</td>\n",
       "      <td>POINT (-87.6327464887 41.8809944707)</td>\n",
       "      <td>41.900221</td>\n",
       "      <td>-87.629105</td>\n",
       "      <td>POINT (-87.6291051864 41.9002212967)</td>\n",
       "      <td>38</td>\n",
       "    </tr>\n",
       "    <tr>\n",
       "      <th>1</th>\n",
       "      <td>2014a81cdb5b71886837612c5e53d59c72f11b2d</td>\n",
       "      <td>d552bd52346c36f10ea828d1f770cf358278f7beecf08a...</td>\n",
       "      <td>09/17/2013 06:45:00 PM</td>\n",
       "      <td>09/17/2013 07:00:00 PM</td>\n",
       "      <td>540</td>\n",
       "      <td>3.2</td>\n",
       "      <td>NaN</td>\n",
       "      <td>NaN</td>\n",
       "      <td>8</td>\n",
       "      <td>24</td>\n",
       "      <td>9.65</td>\n",
       "      <td>0.0</td>\n",
       "      <td>0.0</td>\n",
       "      <td>0.0</td>\n",
       "      <td>9.65</td>\n",
       "      <td>Cash</td>\n",
       "      <td>None</td>\n",
       "      <td>41.899602</td>\n",
       "      <td>-87.633308</td>\n",
       "      <td>POINT (-87.6333080367 41.899602111)</td>\n",
       "      <td>41.901207</td>\n",
       "      <td>-87.676356</td>\n",
       "      <td>POINT (-87.6763559892 41.9012069941)</td>\n",
       "      <td>37</td>\n",
       "    </tr>\n",
       "    <tr>\n",
       "      <th>2</th>\n",
       "      <td>2014a8218f8d69bb62b838f31f3f59bf98ff9478</td>\n",
       "      <td>1df52fc60f8edec541c9a014b8ecf83c86f471b328635c...</td>\n",
       "      <td>01/02/2016 10:30:00 PM</td>\n",
       "      <td>01/02/2016 10:30:00 PM</td>\n",
       "      <td>180</td>\n",
       "      <td>0.8</td>\n",
       "      <td>1.703108e+10</td>\n",
       "      <td>1.703108e+10</td>\n",
       "      <td>8</td>\n",
       "      <td>8</td>\n",
       "      <td>5.25</td>\n",
       "      <td>0.0</td>\n",
       "      <td>0.0</td>\n",
       "      <td>0.0</td>\n",
       "      <td>5.25</td>\n",
       "      <td>Cash</td>\n",
       "      <td>None</td>\n",
       "      <td>41.892042</td>\n",
       "      <td>-87.631864</td>\n",
       "      <td>POINT (-87.6318639497 41.8920421365)</td>\n",
       "      <td>41.900266</td>\n",
       "      <td>-87.632109</td>\n",
       "      <td>POINT (-87.6321092196 41.9002656868)</td>\n",
       "      <td>37</td>\n",
       "    </tr>\n",
       "    <tr>\n",
       "      <th>3</th>\n",
       "      <td>2014a86b8e1e98a8647e0dc815cac0537ab5c40e</td>\n",
       "      <td>d96279b9f0d9e121dca78282e8ead29d8a7aa18dc89d78...</td>\n",
       "      <td>12/15/2015 11:45:00 AM</td>\n",
       "      <td>12/15/2015 11:45:00 AM</td>\n",
       "      <td>360</td>\n",
       "      <td>0.0</td>\n",
       "      <td>NaN</td>\n",
       "      <td>NaN</td>\n",
       "      <td>7</td>\n",
       "      <td>7</td>\n",
       "      <td>6.05</td>\n",
       "      <td>0.0</td>\n",
       "      <td>0.0</td>\n",
       "      <td>0.0</td>\n",
       "      <td>6.05</td>\n",
       "      <td>Cash</td>\n",
       "      <td>Taxi Affiliation Services</td>\n",
       "      <td>41.922686</td>\n",
       "      <td>-87.649489</td>\n",
       "      <td>POINT (-87.6494887289 41.9226862843)</td>\n",
       "      <td>41.922686</td>\n",
       "      <td>-87.649489</td>\n",
       "      <td>POINT (-87.6494887289 41.9226862843)</td>\n",
       "      <td>68</td>\n",
       "    </tr>\n",
       "    <tr>\n",
       "      <th>4</th>\n",
       "      <td>2014a8724a96df31e968f45925101c31d2e6ea31</td>\n",
       "      <td>a485350f36958a2783d154ee7562f7809254058189b91d...</td>\n",
       "      <td>06/03/2013 07:00:00 AM</td>\n",
       "      <td>06/03/2013 07:15:00 AM</td>\n",
       "      <td>480</td>\n",
       "      <td>0.9</td>\n",
       "      <td>1.703184e+10</td>\n",
       "      <td>1.703132e+10</td>\n",
       "      <td>32</td>\n",
       "      <td>32</td>\n",
       "      <td>6.45</td>\n",
       "      <td>0.0</td>\n",
       "      <td>0.0</td>\n",
       "      <td>0.0</td>\n",
       "      <td>6.45</td>\n",
       "      <td>Cash</td>\n",
       "      <td>None</td>\n",
       "      <td>41.880994</td>\n",
       "      <td>-87.632746</td>\n",
       "      <td>POINT (-87.6327464887 41.8809944707)</td>\n",
       "      <td>41.884987</td>\n",
       "      <td>-87.620993</td>\n",
       "      <td>POINT (-87.6209929134 41.8849871918)</td>\n",
       "      <td>38</td>\n",
       "    </tr>\n",
       "  </tbody>\n",
       "</table>\n",
       "</div>"
      ],
      "text/plain": [
       "                                    Trip ID  \\\n",
       "0  2014a7f89716c3cccc7d7935a3dfd16d8908f33c   \n",
       "1  2014a81cdb5b71886837612c5e53d59c72f11b2d   \n",
       "2  2014a8218f8d69bb62b838f31f3f59bf98ff9478   \n",
       "3  2014a86b8e1e98a8647e0dc815cac0537ab5c40e   \n",
       "4  2014a8724a96df31e968f45925101c31d2e6ea31   \n",
       "\n",
       "                                             Taxi ID    Trip Start Timestamp  \\\n",
       "0  9492b268e840fcd19b554ae0d61ab86a48eee56b7fba98...  09/22/2015 05:30:00 PM   \n",
       "1  d552bd52346c36f10ea828d1f770cf358278f7beecf08a...  09/17/2013 06:45:00 PM   \n",
       "2  1df52fc60f8edec541c9a014b8ecf83c86f471b328635c...  01/02/2016 10:30:00 PM   \n",
       "3  d96279b9f0d9e121dca78282e8ead29d8a7aa18dc89d78...  12/15/2015 11:45:00 AM   \n",
       "4  a485350f36958a2783d154ee7562f7809254058189b91d...  06/03/2013 07:00:00 AM   \n",
       "\n",
       "       Trip End Timestamp  Trip Seconds  trip_miles  Pickup Census Tract  \\\n",
       "0  09/22/2015 05:45:00 PM           420         1.1         1.703184e+10   \n",
       "1  09/17/2013 07:00:00 PM           540         3.2                  NaN   \n",
       "2  01/02/2016 10:30:00 PM           180         0.8         1.703108e+10   \n",
       "3  12/15/2015 11:45:00 AM           360         0.0                  NaN   \n",
       "4  06/03/2013 07:15:00 AM           480         0.9         1.703184e+10   \n",
       "\n",
       "   Dropoff Census Tract  Pickup Community Area  Dropoff Community Area  Fare  \\\n",
       "0          1.703108e+10                     32                       8  6.25   \n",
       "1                   NaN                      8                      24  9.65   \n",
       "2          1.703108e+10                      8                       8  5.25   \n",
       "3                   NaN                      7                       7  6.05   \n",
       "4          1.703132e+10                     32                      32  6.45   \n",
       "\n",
       "   Tips  Tolls  Extras  Trip Total Payment Type                    Company  \\\n",
       "0   0.0    0.0     0.0        6.25         Cash                       None   \n",
       "1   0.0    0.0     0.0        9.65         Cash                       None   \n",
       "2   0.0    0.0     0.0        5.25         Cash                       None   \n",
       "3   0.0    0.0     0.0        6.05         Cash  Taxi Affiliation Services   \n",
       "4   0.0    0.0     0.0        6.45         Cash                       None   \n",
       "\n",
       "   Pickup Centroid Latitude  Pickup Centroid Longitude  \\\n",
       "0                 41.880994                 -87.632746   \n",
       "1                 41.899602                 -87.633308   \n",
       "2                 41.892042                 -87.631864   \n",
       "3                 41.922686                 -87.649489   \n",
       "4                 41.880994                 -87.632746   \n",
       "\n",
       "               Pickup Centroid Location  Dropoff Centroid Latitude  \\\n",
       "0  POINT (-87.6327464887 41.8809944707)                  41.900221   \n",
       "1   POINT (-87.6333080367 41.899602111)                  41.901207   \n",
       "2  POINT (-87.6318639497 41.8920421365)                  41.900266   \n",
       "3  POINT (-87.6494887289 41.9226862843)                  41.922686   \n",
       "4  POINT (-87.6327464887 41.8809944707)                  41.884987   \n",
       "\n",
       "   Dropoff Centroid Longitude            Dropoff Centroid  Location  \\\n",
       "0                  -87.629105  POINT (-87.6291051864 41.9002212967)   \n",
       "1                  -87.676356  POINT (-87.6763559892 41.9012069941)   \n",
       "2                  -87.632109  POINT (-87.6321092196 41.9002656868)   \n",
       "3                  -87.649489  POINT (-87.6494887289 41.9226862843)   \n",
       "4                  -87.620993  POINT (-87.6209929134 41.8849871918)   \n",
       "\n",
       "   Community Areas  \n",
       "0               38  \n",
       "1               37  \n",
       "2               37  \n",
       "3               68  \n",
       "4               38  "
      ]
     },
     "execution_count": 13,
     "metadata": {},
     "output_type": "execute_result"
    }
   ],
   "source": [
    "taxi_df.limit(5).toPandas()"
   ]
  },
  {
   "cell_type": "markdown",
   "metadata": {},
   "source": [
    "The following columns can be deleted because they do not add value as a result of which they are unions or repetitions of other columns:\n",
    "\n",
    "    - Pickup Census Tract\t\n",
    "    - Dropoff Census Tract\n",
    "    - Pickup Centroid Location\n",
    "    - Dropoff Centroid Location\n",
    "    - Community Areas\n"
   ]
  },
  {
   "cell_type": "markdown",
   "metadata": {},
   "source": [
    "### 4.2 Study the dimensions of the dataset"
   ]
  },
  {
   "cell_type": "code",
   "execution_count": 14,
   "metadata": {},
   "outputs": [
    {
     "data": {
      "text/plain": [
       "112860054"
      ]
     },
     "execution_count": 14,
     "metadata": {},
     "output_type": "execute_result"
    }
   ],
   "source": [
    "taxi_df.count()"
   ]
  },
  {
   "cell_type": "code",
   "execution_count": 15,
   "metadata": {},
   "outputs": [
    {
     "data": {
      "text/plain": [
       "24"
      ]
     },
     "execution_count": 15,
     "metadata": {},
     "output_type": "execute_result"
    }
   ],
   "source": [
    "len(taxi_df.columns)"
   ]
  },
  {
   "cell_type": "markdown",
   "metadata": {},
   "source": [
    "### 4.3 Check the names and types of the variables"
   ]
  },
  {
   "cell_type": "code",
   "execution_count": 16,
   "metadata": {},
   "outputs": [
    {
     "name": "stdout",
     "output_type": "stream",
     "text": [
      "root\n",
      " |-- Trip ID: string (nullable = true)\n",
      " |-- Taxi ID: string (nullable = true)\n",
      " |-- Trip Start Timestamp: string (nullable = true)\n",
      " |-- Trip End Timestamp: string (nullable = true)\n",
      " |-- Trip Seconds: integer (nullable = true)\n",
      " |-- trip_miles: double (nullable = true)\n",
      " |-- Pickup Census Tract: long (nullable = true)\n",
      " |-- Dropoff Census Tract: long (nullable = true)\n",
      " |-- Pickup Community Area: integer (nullable = true)\n",
      " |-- Dropoff Community Area: integer (nullable = true)\n",
      " |-- Fare: double (nullable = true)\n",
      " |-- Tips: double (nullable = true)\n",
      " |-- Tolls: double (nullable = true)\n",
      " |-- Extras: double (nullable = true)\n",
      " |-- Trip Total: double (nullable = true)\n",
      " |-- Payment Type: string (nullable = true)\n",
      " |-- Company: string (nullable = true)\n",
      " |-- Pickup Centroid Latitude: double (nullable = true)\n",
      " |-- Pickup Centroid Longitude: double (nullable = true)\n",
      " |-- Pickup Centroid Location: string (nullable = true)\n",
      " |-- Dropoff Centroid Latitude: double (nullable = true)\n",
      " |-- Dropoff Centroid Longitude: double (nullable = true)\n",
      " |-- Dropoff Centroid  Location: string (nullable = true)\n",
      " |-- Community Areas: integer (nullable = true)\n",
      "\n"
     ]
    }
   ],
   "source": [
    "taxi_df.printSchema()"
   ]
  },
  {
   "cell_type": "markdown",
   "metadata": {},
   "source": [
    "### 4.4 Change the name of the variables to comply with good practices"
   ]
  },
  {
   "cell_type": "code",
   "execution_count": 17,
   "metadata": {},
   "outputs": [
    {
     "name": "stdout",
     "output_type": "stream",
     "text": [
      "root\n",
      " |-- trip_id: string (nullable = true)\n",
      " |-- taxi_id: string (nullable = true)\n",
      " |-- trip_start_timestamp: string (nullable = true)\n",
      " |-- trip_end_timestamp: string (nullable = true)\n",
      " |-- trip_seconds: integer (nullable = true)\n",
      " |-- trip_miles: double (nullable = true)\n",
      " |-- pickup_census_tract: long (nullable = true)\n",
      " |-- dropoff_census_tract: long (nullable = true)\n",
      " |-- pickup_community_area: integer (nullable = true)\n",
      " |-- dropoff_community_area: integer (nullable = true)\n",
      " |-- fare: double (nullable = true)\n",
      " |-- tips: double (nullable = true)\n",
      " |-- tolls: double (nullable = true)\n",
      " |-- extras: double (nullable = true)\n",
      " |-- trip_total: double (nullable = true)\n",
      " |-- payment_type: string (nullable = true)\n",
      " |-- company: string (nullable = true)\n",
      " |-- pickup_centroid_latitude: double (nullable = true)\n",
      " |-- pickup_centroid_longitude: double (nullable = true)\n",
      " |-- pickup_centroid_location: string (nullable = true)\n",
      " |-- dropoff_centroid_latitude: double (nullable = true)\n",
      " |-- dropoff_centroid_longitude: double (nullable = true)\n",
      " |-- dropoff_centroid__location: string (nullable = true)\n",
      " |-- community_areas: integer (nullable = true)\n",
      "\n"
     ]
    }
   ],
   "source": [
    "for col in taxi_df.columns:\n",
    "    new_col=col.lower().replace(\" \",\"_\")\n",
    "    taxi_df = taxi_df.withColumnRenamed(col,new_col)\n",
    "taxi_df.printSchema()"
   ]
  },
  {
   "cell_type": "markdown",
   "metadata": {},
   "source": [
    "### 4.5 Delete fields that do not add value"
   ]
  },
  {
   "cell_type": "code",
   "execution_count": 18,
   "metadata": {},
   "outputs": [],
   "source": [
    "#The following columns can be deleted because they do not add value as a result of which they are unions or \n",
    "#repetitions of other columns\n",
    "taxi_df = taxi_df.drop('pickup_census_tract',\n",
    "                       'dropoff_census_tract',\n",
    "                       'pickup_centroid_location',\n",
    "                       'dropoff_centroid__location',\n",
    "                       'community_areas')"
   ]
  },
  {
   "cell_type": "code",
   "execution_count": 19,
   "metadata": {},
   "outputs": [
    {
     "name": "stdout",
     "output_type": "stream",
     "text": [
      "root\n",
      " |-- trip_id: string (nullable = true)\n",
      " |-- taxi_id: string (nullable = true)\n",
      " |-- trip_start_timestamp: string (nullable = true)\n",
      " |-- trip_end_timestamp: string (nullable = true)\n",
      " |-- trip_seconds: integer (nullable = true)\n",
      " |-- trip_miles: double (nullable = true)\n",
      " |-- pickup_community_area: integer (nullable = true)\n",
      " |-- dropoff_community_area: integer (nullable = true)\n",
      " |-- fare: double (nullable = true)\n",
      " |-- tips: double (nullable = true)\n",
      " |-- tolls: double (nullable = true)\n",
      " |-- extras: double (nullable = true)\n",
      " |-- trip_total: double (nullable = true)\n",
      " |-- payment_type: string (nullable = true)\n",
      " |-- company: string (nullable = true)\n",
      " |-- pickup_centroid_latitude: double (nullable = true)\n",
      " |-- pickup_centroid_longitude: double (nullable = true)\n",
      " |-- dropoff_centroid_latitude: double (nullable = true)\n",
      " |-- dropoff_centroid_longitude: double (nullable = true)\n",
      "\n"
     ]
    }
   ],
   "source": [
    "taxi_df.printSchema()"
   ]
  },
  {
   "cell_type": "code",
   "execution_count": 20,
   "metadata": {},
   "outputs": [],
   "source": [
    "# We save it in a temporal folder \n",
    "taxi_df.write.parquet(\"../Data/temp/taxi_trips_initial.parquet\")\n",
    "taxi_df = session.read.parquet(\"../Data/temp/taxi_trips_initial.parquet\")"
   ]
  },
  {
   "cell_type": "markdown",
   "metadata": {},
   "source": [
    "### 4.6 Manage the dates"
   ]
  },
  {
   "cell_type": "markdown",
   "metadata": {},
   "source": [
    "#### 4.6.1 Convert the dates from string format to date format"
   ]
  },
  {
   "cell_type": "code",
   "execution_count": null,
   "metadata": {},
   "outputs": [],
   "source": [
    "# Check the start trip and the end trip before change the format\n",
    "taxi_df.select(['trip_start_timestamp', 'trip_end_timestamp']).show(truncate=False)"
   ]
  },
  {
   "cell_type": "code",
   "execution_count": null,
   "metadata": {},
   "outputs": [],
   "source": [
    "#Convert to date format ()\n",
    "taxi_df = taxi_df.withColumn(\"trip_start_timestamp\",\n",
    "                             F.from_unixtime(F.unix_timestamp(F.col(\"trip_start_timestamp\"),\n",
    "                                                           format=\"MM/dd/yyyy hh:mm:ss aa\")))\n",
    "taxi_df = taxi_df.withColumn(\"trip_end_timestamp\",\n",
    "                             F.from_unixtime(F.unix_timestamp(F.col(\"trip_end_timestamp\"),\n",
    "                                                           format=\"MM/dd/yyyy hh:mm:ss aa\")))"
   ]
  },
  {
   "cell_type": "code",
   "execution_count": null,
   "metadata": {},
   "outputs": [],
   "source": [
    "#Check the result\n",
    "taxi_df.select(['trip_start_timestamp', 'trip_end_timestamp']).show(truncate=False)"
   ]
  },
  {
   "cell_type": "markdown",
   "metadata": {},
   "source": [
    "#### 4.6.2 Check the extreme values of the dates"
   ]
  },
  {
   "cell_type": "code",
   "execution_count": null,
   "metadata": {},
   "outputs": [],
   "source": [
    "taxi_df.select(F.max('trip_start_timestamp'),F.min('trip_start_timestamp')).show()"
   ]
  },
  {
   "cell_type": "code",
   "execution_count": null,
   "metadata": {},
   "outputs": [],
   "source": [
    "taxi_df.select(F.max('trip_end_timestamp'),F.min('trip_end_timestamp')).show()"
   ]
  },
  {
   "cell_type": "markdown",
   "metadata": {},
   "source": [
    "### 4.7 Study if there are variables that always or practically always have the same value"
   ]
  },
  {
   "cell_type": "markdown",
   "metadata": {},
   "source": [
    "Separate the dataframe in two to realize our analysis:\n",
    "    \n",
    "    - One dataframe with numeric columns\n",
    "    - One dataframe with categorical columns"
   ]
  },
  {
   "cell_type": "code",
   "execution_count": 22,
   "metadata": {},
   "outputs": [],
   "source": [
    "n_rows = taxi_df.count()\n",
    "numeric_vars = []\n",
    "categoric_vars = []\n",
    "\n",
    "for col, tipo in taxi_df.dtypes:\n",
    "    if tipo!=\"string\":\n",
    "        numeric_vars.append(col)\n",
    "    else:\n",
    "        categoric_vars.append(col)     "
   ]
  },
  {
   "cell_type": "code",
   "execution_count": null,
   "metadata": {},
   "outputs": [],
   "source": [
    "# We delete trip_id from our analysis because it is the only value that allows us to identify travel and we know it´s\n",
    "# an unique value (it has not duplicates)\n",
    "categoric_vars.remove('trip_id')"
   ]
  },
  {
   "cell_type": "markdown",
   "metadata": {},
   "source": [
    "#### 4.7.1 Categoric columns"
   ]
  },
  {
   "cell_type": "code",
   "execution_count": null,
   "metadata": {
    "scrolled": false
   },
   "outputs": [],
   "source": [
    "for col in categoric_vars:\n",
    "    print(col)\n",
    "    taxi_df.groupby(col).count().sort(F.col(\"count\").desc()).withColumn(\"frecuencia(%)\",\n",
    "                  F.round((100*F.col(\"count\")/n_rows),2)).show()"
   ]
  },
  {
   "cell_type": "markdown",
   "metadata": {},
   "source": [
    "We have observed that in the column 'payment_type' there is the value 'Unknown', so we are going to convert it to null"
   ]
  },
  {
   "cell_type": "code",
   "execution_count": null,
   "metadata": {},
   "outputs": [],
   "source": [
    "taxi_df = taxi_df.withColumn('payment_type',\n",
    "                            F.when(F.col('payment_type')=='Unknown',None).otherwise(F.col('payment_type')))"
   ]
  },
  {
   "cell_type": "code",
   "execution_count": null,
   "metadata": {},
   "outputs": [],
   "source": [
    "#Check that 'Unknown' value has been converted to null\n",
    "print('payment_type')\n",
    "taxi_df.groupby('payment_type').count().sort(F.col(\"count\").desc()).withColumn(\"frecuencia(%)\",\n",
    "                                                                    F.round((100*F.col(\"count\")/n_rows),2)).show()"
   ]
  },
  {
   "cell_type": "markdown",
   "metadata": {},
   "source": [
    "#### 4.7.2 Numeric columns"
   ]
  },
  {
   "cell_type": "code",
   "execution_count": null,
   "metadata": {
    "scrolled": false
   },
   "outputs": [],
   "source": [
    "for col in numeric_vars:\n",
    "    print(col)\n",
    "    taxi_df.groupby(col).count().sort(F.col(\"count\").desc()).withColumn(\"frecuencia(%)\",\n",
    "                  F.round((100*F.col(\"count\")/n_rows),2)).show()"
   ]
  },
  {
   "cell_type": "markdown",
   "metadata": {},
   "source": [
    "### 4.8 Study the null values "
   ]
  },
  {
   "cell_type": "markdown",
   "metadata": {},
   "source": [
    "### 4.8.1 Get the number of nulls"
   ]
  },
  {
   "cell_type": "code",
   "execution_count": 23,
   "metadata": {},
   "outputs": [
    {
     "data": {
      "text/html": [
       "<div>\n",
       "<style scoped>\n",
       "    .dataframe tbody tr th:only-of-type {\n",
       "        vertical-align: middle;\n",
       "    }\n",
       "\n",
       "    .dataframe tbody tr th {\n",
       "        vertical-align: top;\n",
       "    }\n",
       "\n",
       "    .dataframe thead th {\n",
       "        text-align: right;\n",
       "    }\n",
       "</style>\n",
       "<table border=\"1\" class=\"dataframe\">\n",
       "  <thead>\n",
       "    <tr style=\"text-align: right;\">\n",
       "      <th></th>\n",
       "      <th>nulls</th>\n",
       "      <th>% nulls</th>\n",
       "    </tr>\n",
       "  </thead>\n",
       "  <tbody>\n",
       "    <tr>\n",
       "      <th>trip_id</th>\n",
       "      <td>0.0</td>\n",
       "      <td>0.00</td>\n",
       "    </tr>\n",
       "    <tr>\n",
       "      <th>taxi_id</th>\n",
       "      <td>0.0</td>\n",
       "      <td>0.00</td>\n",
       "    </tr>\n",
       "    <tr>\n",
       "      <th>trip_start_timestamp</th>\n",
       "      <td>0.0</td>\n",
       "      <td>0.00</td>\n",
       "    </tr>\n",
       "    <tr>\n",
       "      <th>trip_end_timestamp</th>\n",
       "      <td>15868.0</td>\n",
       "      <td>0.01</td>\n",
       "    </tr>\n",
       "    <tr>\n",
       "      <th>trip_seconds</th>\n",
       "      <td>1289707.0</td>\n",
       "      <td>1.14</td>\n",
       "    </tr>\n",
       "    <tr>\n",
       "      <th>trip_miles</th>\n",
       "      <td>633.0</td>\n",
       "      <td>0.00</td>\n",
       "    </tr>\n",
       "    <tr>\n",
       "      <th>pickup_community_area</th>\n",
       "      <td>16782342.0</td>\n",
       "      <td>14.87</td>\n",
       "    </tr>\n",
       "    <tr>\n",
       "      <th>dropoff_community_area</th>\n",
       "      <td>19095838.0</td>\n",
       "      <td>16.92</td>\n",
       "    </tr>\n",
       "    <tr>\n",
       "      <th>fare</th>\n",
       "      <td>1076.0</td>\n",
       "      <td>0.00</td>\n",
       "    </tr>\n",
       "    <tr>\n",
       "      <th>tips</th>\n",
       "      <td>1076.0</td>\n",
       "      <td>0.00</td>\n",
       "    </tr>\n",
       "    <tr>\n",
       "      <th>tolls</th>\n",
       "      <td>1076.0</td>\n",
       "      <td>0.00</td>\n",
       "    </tr>\n",
       "    <tr>\n",
       "      <th>extras</th>\n",
       "      <td>1076.0</td>\n",
       "      <td>0.00</td>\n",
       "    </tr>\n",
       "    <tr>\n",
       "      <th>trip_total</th>\n",
       "      <td>1076.0</td>\n",
       "      <td>0.00</td>\n",
       "    </tr>\n",
       "    <tr>\n",
       "      <th>payment_type</th>\n",
       "      <td>0.0</td>\n",
       "      <td>0.00</td>\n",
       "    </tr>\n",
       "    <tr>\n",
       "      <th>company</th>\n",
       "      <td>41205229.0</td>\n",
       "      <td>36.51</td>\n",
       "    </tr>\n",
       "    <tr>\n",
       "      <th>pickup_centroid_latitude</th>\n",
       "      <td>16780361.0</td>\n",
       "      <td>14.87</td>\n",
       "    </tr>\n",
       "    <tr>\n",
       "      <th>pickup_centroid_longitude</th>\n",
       "      <td>16780361.0</td>\n",
       "      <td>14.87</td>\n",
       "    </tr>\n",
       "    <tr>\n",
       "      <th>dropoff_centroid_latitude</th>\n",
       "      <td>18912561.0</td>\n",
       "      <td>16.76</td>\n",
       "    </tr>\n",
       "    <tr>\n",
       "      <th>dropoff_centroid_longitude</th>\n",
       "      <td>18912561.0</td>\n",
       "      <td>16.76</td>\n",
       "    </tr>\n",
       "  </tbody>\n",
       "</table>\n",
       "</div>"
      ],
      "text/plain": [
       "                                 nulls  % nulls\n",
       "trip_id                            0.0     0.00\n",
       "taxi_id                            0.0     0.00\n",
       "trip_start_timestamp               0.0     0.00\n",
       "trip_end_timestamp             15868.0     0.01\n",
       "trip_seconds                 1289707.0     1.14\n",
       "trip_miles                       633.0     0.00\n",
       "pickup_community_area       16782342.0    14.87\n",
       "dropoff_community_area      19095838.0    16.92\n",
       "fare                            1076.0     0.00\n",
       "tips                            1076.0     0.00\n",
       "tolls                           1076.0     0.00\n",
       "extras                          1076.0     0.00\n",
       "trip_total                      1076.0     0.00\n",
       "payment_type                       0.0     0.00\n",
       "company                     41205229.0    36.51\n",
       "pickup_centroid_latitude    16780361.0    14.87\n",
       "pickup_centroid_longitude   16780361.0    14.87\n",
       "dropoff_centroid_latitude   18912561.0    16.76\n",
       "dropoff_centroid_longitude  18912561.0    16.76"
      ]
     },
     "execution_count": 23,
     "metadata": {},
     "output_type": "execute_result"
    }
   ],
   "source": [
    "nulls = {}\n",
    "for column in taxi_df.columns:\n",
    "    n_nulls = taxi_df.filter(F.col(column).isNull()).count()\n",
    "    perc_nulls = 100 * n_nulls / n_rows\n",
    "    nulls[column]=[n_nulls,round(perc_nulls,2)]\n",
    "\n",
    "nulls_df = pd.DataFrame(nulls).T\n",
    "nulls_df.columns = ['nulls','% nulls']\n",
    "nulls_df"
   ]
  },
  {
   "cell_type": "markdown",
   "metadata": {},
   "source": [
    "### 4.8.2 Plot the number of nulls"
   ]
  },
  {
   "cell_type": "code",
   "execution_count": null,
   "metadata": {},
   "outputs": [],
   "source": [
    "nulls_df.sort_values('% nulls').plot.barh(y='% nulls',figsize=(10,10))"
   ]
  },
  {
   "cell_type": "markdown",
   "metadata": {},
   "source": [
    "### 4.9 Check duplicates"
   ]
  },
  {
   "cell_type": "code",
   "execution_count": null,
   "metadata": {},
   "outputs": [],
   "source": [
    "taxi_df.dropDuplicates(['trip_id', 'taxi_id']).count()"
   ]
  },
  {
   "cell_type": "markdown",
   "metadata": {},
   "source": [
    "There is not duplicates"
   ]
  },
  {
   "cell_type": "markdown",
   "metadata": {},
   "source": [
    "## 5 Clean the dataset"
   ]
  },
  {
   "cell_type": "markdown",
   "metadata": {},
   "source": [
    "### 5.1 Drop the trips with null values"
   ]
  },
  {
   "cell_type": "code",
   "execution_count": 24,
   "metadata": {},
   "outputs": [],
   "source": [
    "taxi_df = taxi_df.dropna(how='any',\n",
    "                         subset=['trip_id',\n",
    "                                  'taxi_id',\n",
    "                                  'trip_start_timestamp',\n",
    "                                  'trip_end_timestamp',\n",
    "                                  'trip_seconds',\n",
    "                                  'trip_miles',\n",
    "                                  'pickup_community_area',\n",
    "                                  'dropoff_community_area',\n",
    "                                  'fare',\n",
    "                                  'tips',\n",
    "                                  'tolls',\n",
    "                                  'extras',\n",
    "                                  'trip_total',\n",
    "                                  'payment_type',\n",
    "                                  'company',\n",
    "                                  'pickup_centroid_latitude',\n",
    "                                  'pickup_centroid_longitude',\n",
    "                                  'dropoff_centroid_latitude',\n",
    "                                  'dropoff_centroid_longitude'])"
   ]
  },
  {
   "cell_type": "code",
   "execution_count": 25,
   "metadata": {},
   "outputs": [
    {
     "data": {
      "text/plain": [
       "60535858"
      ]
     },
     "execution_count": 25,
     "metadata": {},
     "output_type": "execute_result"
    }
   ],
   "source": [
    "taxi_df.count()"
   ]
  },
  {
   "cell_type": "markdown",
   "metadata": {},
   "source": [
    "### 5.2 Drop the trips with extrange values"
   ]
  },
  {
   "cell_type": "code",
   "execution_count": 26,
   "metadata": {},
   "outputs": [],
   "source": [
    "taxi_df = taxi_df.filter((F.col(\"trip_start_timestamp\") <= (F.col(\"trip_end_timestamp\"))) &\n",
    "                (F.col(\"trip_seconds\") > 60) &\n",
    "                (F.col(\"trip_miles\") > 0.5) &\n",
    "                (F.col(\"fare\") > 0) &\n",
    "                (F.col(\"tips\") >= 0) &\n",
    "                (F.col(\"tolls\") >= 0) &\n",
    "                (F.col(\"extras\") >= 0) &\n",
    "                (F.col(\"trip_total\") > 0))"
   ]
  },
  {
   "cell_type": "code",
   "execution_count": 27,
   "metadata": {},
   "outputs": [
    {
     "data": {
      "text/plain": [
       "29210670"
      ]
     },
     "execution_count": 27,
     "metadata": {},
     "output_type": "execute_result"
    }
   ],
   "source": [
    "taxi_df.count()"
   ]
  },
  {
   "cell_type": "markdown",
   "metadata": {},
   "source": [
    "### 5.3 Check that all the null values have been deleted"
   ]
  },
  {
   "cell_type": "code",
   "execution_count": 28,
   "metadata": {},
   "outputs": [
    {
     "data": {
      "text/html": [
       "<div>\n",
       "<style scoped>\n",
       "    .dataframe tbody tr th:only-of-type {\n",
       "        vertical-align: middle;\n",
       "    }\n",
       "\n",
       "    .dataframe tbody tr th {\n",
       "        vertical-align: top;\n",
       "    }\n",
       "\n",
       "    .dataframe thead th {\n",
       "        text-align: right;\n",
       "    }\n",
       "</style>\n",
       "<table border=\"1\" class=\"dataframe\">\n",
       "  <thead>\n",
       "    <tr style=\"text-align: right;\">\n",
       "      <th></th>\n",
       "      <th>nulls</th>\n",
       "      <th>% nulls</th>\n",
       "    </tr>\n",
       "  </thead>\n",
       "  <tbody>\n",
       "    <tr>\n",
       "      <th>trip_id</th>\n",
       "      <td>0.0</td>\n",
       "      <td>0.0</td>\n",
       "    </tr>\n",
       "    <tr>\n",
       "      <th>taxi_id</th>\n",
       "      <td>0.0</td>\n",
       "      <td>0.0</td>\n",
       "    </tr>\n",
       "    <tr>\n",
       "      <th>trip_start_timestamp</th>\n",
       "      <td>0.0</td>\n",
       "      <td>0.0</td>\n",
       "    </tr>\n",
       "    <tr>\n",
       "      <th>trip_end_timestamp</th>\n",
       "      <td>0.0</td>\n",
       "      <td>0.0</td>\n",
       "    </tr>\n",
       "    <tr>\n",
       "      <th>trip_seconds</th>\n",
       "      <td>0.0</td>\n",
       "      <td>0.0</td>\n",
       "    </tr>\n",
       "    <tr>\n",
       "      <th>trip_miles</th>\n",
       "      <td>0.0</td>\n",
       "      <td>0.0</td>\n",
       "    </tr>\n",
       "    <tr>\n",
       "      <th>pickup_community_area</th>\n",
       "      <td>0.0</td>\n",
       "      <td>0.0</td>\n",
       "    </tr>\n",
       "    <tr>\n",
       "      <th>dropoff_community_area</th>\n",
       "      <td>0.0</td>\n",
       "      <td>0.0</td>\n",
       "    </tr>\n",
       "    <tr>\n",
       "      <th>fare</th>\n",
       "      <td>0.0</td>\n",
       "      <td>0.0</td>\n",
       "    </tr>\n",
       "    <tr>\n",
       "      <th>tips</th>\n",
       "      <td>0.0</td>\n",
       "      <td>0.0</td>\n",
       "    </tr>\n",
       "    <tr>\n",
       "      <th>tolls</th>\n",
       "      <td>0.0</td>\n",
       "      <td>0.0</td>\n",
       "    </tr>\n",
       "    <tr>\n",
       "      <th>extras</th>\n",
       "      <td>0.0</td>\n",
       "      <td>0.0</td>\n",
       "    </tr>\n",
       "    <tr>\n",
       "      <th>trip_total</th>\n",
       "      <td>0.0</td>\n",
       "      <td>0.0</td>\n",
       "    </tr>\n",
       "    <tr>\n",
       "      <th>payment_type</th>\n",
       "      <td>0.0</td>\n",
       "      <td>0.0</td>\n",
       "    </tr>\n",
       "    <tr>\n",
       "      <th>company</th>\n",
       "      <td>0.0</td>\n",
       "      <td>0.0</td>\n",
       "    </tr>\n",
       "    <tr>\n",
       "      <th>pickup_centroid_latitude</th>\n",
       "      <td>0.0</td>\n",
       "      <td>0.0</td>\n",
       "    </tr>\n",
       "    <tr>\n",
       "      <th>pickup_centroid_longitude</th>\n",
       "      <td>0.0</td>\n",
       "      <td>0.0</td>\n",
       "    </tr>\n",
       "    <tr>\n",
       "      <th>dropoff_centroid_latitude</th>\n",
       "      <td>0.0</td>\n",
       "      <td>0.0</td>\n",
       "    </tr>\n",
       "    <tr>\n",
       "      <th>dropoff_centroid_longitude</th>\n",
       "      <td>0.0</td>\n",
       "      <td>0.0</td>\n",
       "    </tr>\n",
       "  </tbody>\n",
       "</table>\n",
       "</div>"
      ],
      "text/plain": [
       "                            nulls  % nulls\n",
       "trip_id                       0.0      0.0\n",
       "taxi_id                       0.0      0.0\n",
       "trip_start_timestamp          0.0      0.0\n",
       "trip_end_timestamp            0.0      0.0\n",
       "trip_seconds                  0.0      0.0\n",
       "trip_miles                    0.0      0.0\n",
       "pickup_community_area         0.0      0.0\n",
       "dropoff_community_area        0.0      0.0\n",
       "fare                          0.0      0.0\n",
       "tips                          0.0      0.0\n",
       "tolls                         0.0      0.0\n",
       "extras                        0.0      0.0\n",
       "trip_total                    0.0      0.0\n",
       "payment_type                  0.0      0.0\n",
       "company                       0.0      0.0\n",
       "pickup_centroid_latitude      0.0      0.0\n",
       "pickup_centroid_longitude     0.0      0.0\n",
       "dropoff_centroid_latitude     0.0      0.0\n",
       "dropoff_centroid_longitude    0.0      0.0"
      ]
     },
     "execution_count": 28,
     "metadata": {},
     "output_type": "execute_result"
    }
   ],
   "source": [
    "n_rows = taxi_df.count()\n",
    "nulls = {}\n",
    "for column in taxi_df.columns:\n",
    "    n_nulls = taxi_df.filter(F.col(column).isNull()).count()\n",
    "    perc_nulls = 100 * n_nulls / n_rows\n",
    "    nulls[column]=[n_nulls,round(perc_nulls,2)]\n",
    "\n",
    "nulls_df = pd.DataFrame(nulls).T\n",
    "nulls_df.columns = ['nulls','% nulls']\n",
    "nulls_df"
   ]
  }
 ],
 "metadata": {
  "kernelspec": {
   "display_name": "Python 3",
   "language": "python",
   "name": "python3"
  },
  "language_info": {
   "codemirror_mode": {
    "name": "ipython",
    "version": 3
   },
   "file_extension": ".py",
   "mimetype": "text/x-python",
   "name": "python",
   "nbconvert_exporter": "python",
   "pygments_lexer": "ipython3",
   "version": "3.6.8"
  }
 },
 "nbformat": 4,
 "nbformat_minor": 2
}
