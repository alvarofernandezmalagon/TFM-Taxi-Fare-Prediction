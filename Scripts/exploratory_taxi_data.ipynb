{
 "cells": [
  {
   "cell_type": "markdown",
   "metadata": {},
   "source": [
    "# Initial Exploratory Taxi Trip DataSet\n",
    "The objective of this notebook is to carry out an initial analysis of the taxi trips in Chicago and then on the basis of this analysis carry out a filtering of the erroneous trips."
   ]
  },
  {
   "cell_type": "markdown",
   "metadata": {},
   "source": [
    "## Chicago Coordinates \n",
    "-87.6244212, 41.8755616"
   ]
  },
  {
   "cell_type": "markdown",
   "metadata": {},
   "source": [
    "## 1 Create our environment"
   ]
  },
  {
   "cell_type": "markdown",
   "metadata": {},
   "source": [
    "### 1.1 Create the Spark Session"
   ]
  },
  {
   "cell_type": "code",
   "execution_count": 1,
   "metadata": {},
   "outputs": [],
   "source": [
    "import findspark\n",
    "findspark.init()"
   ]
  },
  {
   "cell_type": "code",
   "execution_count": 2,
   "metadata": {},
   "outputs": [],
   "source": [
    "from pyspark.sql import SparkSession, SQLContext\n",
    "from pyspark import SparkConf, SparkContext"
   ]
  },
  {
   "cell_type": "code",
   "execution_count": 3,
   "metadata": {},
   "outputs": [],
   "source": [
    "sc_conf = SparkConf()"
   ]
  },
  {
   "cell_type": "code",
   "execution_count": 4,
   "metadata": {},
   "outputs": [
    {
     "data": {
      "text/plain": [
       "<pyspark.conf.SparkConf at 0x10a245b00>"
      ]
     },
     "execution_count": 4,
     "metadata": {},
     "output_type": "execute_result"
    }
   ],
   "source": [
    "sc_conf.set('spark.driver.port', '62678')\n",
    "sc_conf.set('spark.rdd.compress', 'True')\n",
    "sc_conf.set('spark.driver.host', '127.0.0.1')\n",
    "sc_conf.set('spark.serializer.objectStreamReset', '100')\n",
    "sc_conf.set('spark.master', 'local[*]')\n",
    "sc_conf.set('spark.executor.id', 'driver')\n",
    "sc_conf.set('spark.submit.deployMode', 'client')\n",
    "sc_conf.set('spark.ui.showConsoleProgress', 'true')\n",
    "sc_conf.set('spark.app.name', 'pyspark-shell')\n",
    "sc_conf.set(\"spark.executor.memory\",\"1g\")\n",
    "sc_conf.set(\"spark.driver.memory\",\"6g\")"
   ]
  },
  {
   "cell_type": "code",
   "execution_count": 5,
   "metadata": {},
   "outputs": [
    {
     "data": {
      "text/plain": [
       "dict_items([('spark.driver.port', '62678'), ('spark.rdd.compress', 'True'), ('spark.driver.host', '127.0.0.1'), ('spark.serializer.objectStreamReset', '100'), ('spark.master', 'local[*]'), ('spark.executor.id', 'driver'), ('spark.submit.deployMode', 'client'), ('spark.ui.showConsoleProgress', 'true'), ('spark.app.name', 'pyspark-shell'), ('spark.executor.memory', '1g'), ('spark.driver.memory', '6g')])"
      ]
     },
     "execution_count": 5,
     "metadata": {},
     "output_type": "execute_result"
    }
   ],
   "source": [
    "sc_conf.getAll()"
   ]
  },
  {
   "cell_type": "code",
   "execution_count": 6,
   "metadata": {},
   "outputs": [],
   "source": [
    "sc = SparkContext(conf=sc_conf)"
   ]
  },
  {
   "cell_type": "code",
   "execution_count": 7,
   "metadata": {},
   "outputs": [],
   "source": [
    "sql = SQLContext(sc)"
   ]
  },
  {
   "cell_type": "code",
   "execution_count": 8,
   "metadata": {},
   "outputs": [
    {
     "data": {
      "text/html": [
       "\n",
       "            <div>\n",
       "                <p><b>SparkSession - in-memory</b></p>\n",
       "                \n",
       "        <div>\n",
       "            <p><b>SparkContext</b></p>\n",
       "\n",
       "            <p><a href=\"http://127.0.0.1:4040\">Spark UI</a></p>\n",
       "\n",
       "            <dl>\n",
       "              <dt>Version</dt>\n",
       "                <dd><code>v2.4.0</code></dd>\n",
       "              <dt>Master</dt>\n",
       "                <dd><code>local[*]</code></dd>\n",
       "              <dt>AppName</dt>\n",
       "                <dd><code>pyspark-shell</code></dd>\n",
       "            </dl>\n",
       "        </div>\n",
       "        \n",
       "            </div>\n",
       "        "
      ],
      "text/plain": [
       "<pyspark.sql.session.SparkSession at 0x110d79898>"
      ]
     },
     "execution_count": 8,
     "metadata": {},
     "output_type": "execute_result"
    }
   ],
   "source": [
    "session = sql.sparkSession\n",
    "session"
   ]
  },
  {
   "cell_type": "code",
   "execution_count": 9,
   "metadata": {},
   "outputs": [
    {
     "data": {
      "text/plain": [
       "[('spark.driver.port', '62678'),\n",
       " ('spark.driver.host', '127.0.0.1'),\n",
       " ('spark.driver.memory', '6g'),\n",
       " ('spark.executor.memory', '1g'),\n",
       " ('spark.rdd.compress', 'True'),\n",
       " ('spark.serializer.objectStreamReset', '100'),\n",
       " ('spark.app.id', 'local-1555677531332'),\n",
       " ('spark.master', 'local[*]'),\n",
       " ('spark.executor.id', 'driver'),\n",
       " ('spark.submit.deployMode', 'client'),\n",
       " ('spark.ui.showConsoleProgress', 'true'),\n",
       " ('spark.app.name', 'pyspark-shell')]"
      ]
     },
     "execution_count": 9,
     "metadata": {},
     "output_type": "execute_result"
    }
   ],
   "source": [
    "session.sparkContext.getConf().getAll()"
   ]
  },
  {
   "cell_type": "markdown",
   "metadata": {},
   "source": [
    "## 2 Load the libraries"
   ]
  },
  {
   "cell_type": "code",
   "execution_count": 10,
   "metadata": {},
   "outputs": [],
   "source": [
    "%matplotlib inline\n",
    "\n",
    "from pyspark.sql import SparkSession\n",
    "from pyspark.sql import functions as F\n",
    "from pyspark.sql import types as T\n",
    "from pyspark.mllib.stat import Statistics\n",
    "from pyspark.mllib.linalg import Vectors\n",
    "import pandas as pd\n",
    "import numpy as np\n",
    "import matplotlib.pyplot as plt\n",
    "import webbrowser\n",
    "import seaborn as sns\n",
    "from tqdm import tqdm_notebook\n",
    "pd.options.display.max_columns = None"
   ]
  },
  {
   "cell_type": "markdown",
   "metadata": {},
   "source": [
    "## 3 Read the data"
   ]
  },
  {
   "cell_type": "code",
   "execution_count": 11,
   "metadata": {},
   "outputs": [
    {
     "name": "stdout",
     "output_type": "stream",
     "text": [
      "+--------------------+--------------------+--------------------+--------------------+------------+----------+-------------------+--------------------+---------------------+----------------------+----+----+-----+------+----------+------------+--------------------+------------------------+-------------------------+------------------------+-------------------------+--------------------------+--------------------------+---------------+\n",
      "|             Trip ID|             Taxi ID|Trip Start Timestamp|  Trip End Timestamp|Trip Seconds|Trip Miles|Pickup Census Tract|Dropoff Census Tract|Pickup Community Area|Dropoff Community Area|Fare|Tips|Tolls|Extras|Trip Total|Payment Type|             Company|Pickup Centroid Latitude|Pickup Centroid Longitude|Pickup Centroid Location|Dropoff Centroid Latitude|Dropoff Centroid Longitude|Dropoff Centroid  Location|Community Areas|\n",
      "+--------------------+--------------------+--------------------+--------------------+------------+----------+-------------------+--------------------+---------------------+----------------------+----+----+-----+------+----------+------------+--------------------+------------------------+-------------------------+------------------------+-------------------------+--------------------------+--------------------------+---------------+\n",
      "|2014a7f89716c3ccc...|9492b268e840fcd19...|09/22/2015 05:30:...|09/22/2015 05:45:...|         420|       1.1|        17031839100|         17031081100|                   32|                     8|6.25| 0.0|  0.0|   0.0|      6.25|        Cash|                null|            41.880994471|            -87.632746489|    POINT (-87.632746...|             41.900221297|             -87.629105186|      POINT (-87.629105...|             38|\n",
      "|2014a81cdb5b71886...|d552bd52346c36f10...|09/17/2013 06:45:...|09/17/2013 07:00:...|         540|       3.2|               null|                null|                    8|                    24|9.65| 0.0|  0.0|   0.0|      9.65|        Cash|                null|            41.899602111|            -87.633308037|    POINT (-87.633308...|             41.901206994|             -87.676355989|      POINT (-87.676355...|             37|\n",
      "|2014a8218f8d69bb6...|1df52fc60f8edec54...|01/02/2016 10:30:...|01/02/2016 10:30:...|         180|       0.8|        17031081700|         17031081000|                    8|                     8|5.25| 0.0|  0.0|   0.0|      5.25|        Cash|                null|            41.892042136|             -87.63186395|    POINT (-87.631863...|             41.900265687|              -87.63210922|      POINT (-87.632109...|             37|\n",
      "|2014a86b8e1e98a86...|d96279b9f0d9e121d...|12/15/2015 11:45:...|12/15/2015 11:45:...|         360|       0.0|               null|                null|                    7|                     7|6.05| 0.0|  0.0|   0.0|      6.05|        Cash|Taxi Affiliation ...|            41.922686284|            -87.649488729|    POINT (-87.649488...|             41.922686284|             -87.649488729|      POINT (-87.649488...|             68|\n",
      "|2014a8724a96df31e...|a485350f36958a278...|06/03/2013 07:00:...|06/03/2013 07:15:...|         480|       0.9|        17031839100|         17031320100|                   32|                    32|6.45| 0.0|  0.0|   0.0|      6.45|        Cash|                null|            41.880994471|            -87.632746489|    POINT (-87.632746...|             41.884987192|             -87.620992913|      POINT (-87.620992...|             38|\n",
      "+--------------------+--------------------+--------------------+--------------------+------------+----------+-------------------+--------------------+---------------------+----------------------+----+----+-----+------+----------+------------+--------------------+------------------------+-------------------------+------------------------+-------------------------+--------------------------+--------------------------+---------------+\n",
      "only showing top 5 rows\n",
      "\n"
     ]
    }
   ],
   "source": [
    "taxi_df = session.read.csv('../Data/Taxi_Trips.csv.gz',\n",
    "                              header=True,\n",
    "                              inferSchema=True)\n",
    "taxi_df.show(5)"
   ]
  },
  {
   "cell_type": "markdown",
   "metadata": {},
   "source": [
    "## 4 Initial Data analysis "
   ]
  },
  {
   "cell_type": "markdown",
   "metadata": {},
   "source": [
    "### 4.1 Get some trips to check the data"
   ]
  },
  {
   "cell_type": "code",
   "execution_count": 12,
   "metadata": {},
   "outputs": [
    {
     "data": {
      "text/html": [
       "<div>\n",
       "<style scoped>\n",
       "    .dataframe tbody tr th:only-of-type {\n",
       "        vertical-align: middle;\n",
       "    }\n",
       "\n",
       "    .dataframe tbody tr th {\n",
       "        vertical-align: top;\n",
       "    }\n",
       "\n",
       "    .dataframe thead th {\n",
       "        text-align: right;\n",
       "    }\n",
       "</style>\n",
       "<table border=\"1\" class=\"dataframe\">\n",
       "  <thead>\n",
       "    <tr style=\"text-align: right;\">\n",
       "      <th></th>\n",
       "      <th>Trip ID</th>\n",
       "      <th>Taxi ID</th>\n",
       "      <th>Trip Start Timestamp</th>\n",
       "      <th>Trip End Timestamp</th>\n",
       "      <th>Trip Seconds</th>\n",
       "      <th>Trip Miles</th>\n",
       "      <th>Pickup Census Tract</th>\n",
       "      <th>Dropoff Census Tract</th>\n",
       "      <th>Pickup Community Area</th>\n",
       "      <th>Dropoff Community Area</th>\n",
       "      <th>Fare</th>\n",
       "      <th>Tips</th>\n",
       "      <th>Tolls</th>\n",
       "      <th>Extras</th>\n",
       "      <th>Trip Total</th>\n",
       "      <th>Payment Type</th>\n",
       "      <th>Company</th>\n",
       "      <th>Pickup Centroid Latitude</th>\n",
       "      <th>Pickup Centroid Longitude</th>\n",
       "      <th>Pickup Centroid Location</th>\n",
       "      <th>Dropoff Centroid Latitude</th>\n",
       "      <th>Dropoff Centroid Longitude</th>\n",
       "      <th>Dropoff Centroid  Location</th>\n",
       "      <th>Community Areas</th>\n",
       "    </tr>\n",
       "  </thead>\n",
       "  <tbody>\n",
       "    <tr>\n",
       "      <th>0</th>\n",
       "      <td>2014a7f89716c3cccc7d7935a3dfd16d8908f33c</td>\n",
       "      <td>9492b268e840fcd19b554ae0d61ab86a48eee56b7fba98...</td>\n",
       "      <td>09/22/2015 05:30:00 PM</td>\n",
       "      <td>09/22/2015 05:45:00 PM</td>\n",
       "      <td>420</td>\n",
       "      <td>1.1</td>\n",
       "      <td>1.703184e+10</td>\n",
       "      <td>1.703108e+10</td>\n",
       "      <td>32</td>\n",
       "      <td>8</td>\n",
       "      <td>6.25</td>\n",
       "      <td>0.0</td>\n",
       "      <td>0.0</td>\n",
       "      <td>0.0</td>\n",
       "      <td>6.25</td>\n",
       "      <td>Cash</td>\n",
       "      <td>None</td>\n",
       "      <td>41.880994</td>\n",
       "      <td>-87.632746</td>\n",
       "      <td>POINT (-87.6327464887 41.8809944707)</td>\n",
       "      <td>41.900221</td>\n",
       "      <td>-87.629105</td>\n",
       "      <td>POINT (-87.6291051864 41.9002212967)</td>\n",
       "      <td>38</td>\n",
       "    </tr>\n",
       "    <tr>\n",
       "      <th>1</th>\n",
       "      <td>2014a81cdb5b71886837612c5e53d59c72f11b2d</td>\n",
       "      <td>d552bd52346c36f10ea828d1f770cf358278f7beecf08a...</td>\n",
       "      <td>09/17/2013 06:45:00 PM</td>\n",
       "      <td>09/17/2013 07:00:00 PM</td>\n",
       "      <td>540</td>\n",
       "      <td>3.2</td>\n",
       "      <td>NaN</td>\n",
       "      <td>NaN</td>\n",
       "      <td>8</td>\n",
       "      <td>24</td>\n",
       "      <td>9.65</td>\n",
       "      <td>0.0</td>\n",
       "      <td>0.0</td>\n",
       "      <td>0.0</td>\n",
       "      <td>9.65</td>\n",
       "      <td>Cash</td>\n",
       "      <td>None</td>\n",
       "      <td>41.899602</td>\n",
       "      <td>-87.633308</td>\n",
       "      <td>POINT (-87.6333080367 41.899602111)</td>\n",
       "      <td>41.901207</td>\n",
       "      <td>-87.676356</td>\n",
       "      <td>POINT (-87.6763559892 41.9012069941)</td>\n",
       "      <td>37</td>\n",
       "    </tr>\n",
       "    <tr>\n",
       "      <th>2</th>\n",
       "      <td>2014a8218f8d69bb62b838f31f3f59bf98ff9478</td>\n",
       "      <td>1df52fc60f8edec541c9a014b8ecf83c86f471b328635c...</td>\n",
       "      <td>01/02/2016 10:30:00 PM</td>\n",
       "      <td>01/02/2016 10:30:00 PM</td>\n",
       "      <td>180</td>\n",
       "      <td>0.8</td>\n",
       "      <td>1.703108e+10</td>\n",
       "      <td>1.703108e+10</td>\n",
       "      <td>8</td>\n",
       "      <td>8</td>\n",
       "      <td>5.25</td>\n",
       "      <td>0.0</td>\n",
       "      <td>0.0</td>\n",
       "      <td>0.0</td>\n",
       "      <td>5.25</td>\n",
       "      <td>Cash</td>\n",
       "      <td>None</td>\n",
       "      <td>41.892042</td>\n",
       "      <td>-87.631864</td>\n",
       "      <td>POINT (-87.6318639497 41.8920421365)</td>\n",
       "      <td>41.900266</td>\n",
       "      <td>-87.632109</td>\n",
       "      <td>POINT (-87.6321092196 41.9002656868)</td>\n",
       "      <td>37</td>\n",
       "    </tr>\n",
       "    <tr>\n",
       "      <th>3</th>\n",
       "      <td>2014a86b8e1e98a8647e0dc815cac0537ab5c40e</td>\n",
       "      <td>d96279b9f0d9e121dca78282e8ead29d8a7aa18dc89d78...</td>\n",
       "      <td>12/15/2015 11:45:00 AM</td>\n",
       "      <td>12/15/2015 11:45:00 AM</td>\n",
       "      <td>360</td>\n",
       "      <td>0.0</td>\n",
       "      <td>NaN</td>\n",
       "      <td>NaN</td>\n",
       "      <td>7</td>\n",
       "      <td>7</td>\n",
       "      <td>6.05</td>\n",
       "      <td>0.0</td>\n",
       "      <td>0.0</td>\n",
       "      <td>0.0</td>\n",
       "      <td>6.05</td>\n",
       "      <td>Cash</td>\n",
       "      <td>Taxi Affiliation Services</td>\n",
       "      <td>41.922686</td>\n",
       "      <td>-87.649489</td>\n",
       "      <td>POINT (-87.6494887289 41.9226862843)</td>\n",
       "      <td>41.922686</td>\n",
       "      <td>-87.649489</td>\n",
       "      <td>POINT (-87.6494887289 41.9226862843)</td>\n",
       "      <td>68</td>\n",
       "    </tr>\n",
       "    <tr>\n",
       "      <th>4</th>\n",
       "      <td>2014a8724a96df31e968f45925101c31d2e6ea31</td>\n",
       "      <td>a485350f36958a2783d154ee7562f7809254058189b91d...</td>\n",
       "      <td>06/03/2013 07:00:00 AM</td>\n",
       "      <td>06/03/2013 07:15:00 AM</td>\n",
       "      <td>480</td>\n",
       "      <td>0.9</td>\n",
       "      <td>1.703184e+10</td>\n",
       "      <td>1.703132e+10</td>\n",
       "      <td>32</td>\n",
       "      <td>32</td>\n",
       "      <td>6.45</td>\n",
       "      <td>0.0</td>\n",
       "      <td>0.0</td>\n",
       "      <td>0.0</td>\n",
       "      <td>6.45</td>\n",
       "      <td>Cash</td>\n",
       "      <td>None</td>\n",
       "      <td>41.880994</td>\n",
       "      <td>-87.632746</td>\n",
       "      <td>POINT (-87.6327464887 41.8809944707)</td>\n",
       "      <td>41.884987</td>\n",
       "      <td>-87.620993</td>\n",
       "      <td>POINT (-87.6209929134 41.8849871918)</td>\n",
       "      <td>38</td>\n",
       "    </tr>\n",
       "  </tbody>\n",
       "</table>\n",
       "</div>"
      ],
      "text/plain": [
       "                                    Trip ID  \\\n",
       "0  2014a7f89716c3cccc7d7935a3dfd16d8908f33c   \n",
       "1  2014a81cdb5b71886837612c5e53d59c72f11b2d   \n",
       "2  2014a8218f8d69bb62b838f31f3f59bf98ff9478   \n",
       "3  2014a86b8e1e98a8647e0dc815cac0537ab5c40e   \n",
       "4  2014a8724a96df31e968f45925101c31d2e6ea31   \n",
       "\n",
       "                                             Taxi ID    Trip Start Timestamp  \\\n",
       "0  9492b268e840fcd19b554ae0d61ab86a48eee56b7fba98...  09/22/2015 05:30:00 PM   \n",
       "1  d552bd52346c36f10ea828d1f770cf358278f7beecf08a...  09/17/2013 06:45:00 PM   \n",
       "2  1df52fc60f8edec541c9a014b8ecf83c86f471b328635c...  01/02/2016 10:30:00 PM   \n",
       "3  d96279b9f0d9e121dca78282e8ead29d8a7aa18dc89d78...  12/15/2015 11:45:00 AM   \n",
       "4  a485350f36958a2783d154ee7562f7809254058189b91d...  06/03/2013 07:00:00 AM   \n",
       "\n",
       "       Trip End Timestamp  Trip Seconds  Trip Miles  Pickup Census Tract  \\\n",
       "0  09/22/2015 05:45:00 PM           420         1.1         1.703184e+10   \n",
       "1  09/17/2013 07:00:00 PM           540         3.2                  NaN   \n",
       "2  01/02/2016 10:30:00 PM           180         0.8         1.703108e+10   \n",
       "3  12/15/2015 11:45:00 AM           360         0.0                  NaN   \n",
       "4  06/03/2013 07:15:00 AM           480         0.9         1.703184e+10   \n",
       "\n",
       "   Dropoff Census Tract  Pickup Community Area  Dropoff Community Area  Fare  \\\n",
       "0          1.703108e+10                     32                       8  6.25   \n",
       "1                   NaN                      8                      24  9.65   \n",
       "2          1.703108e+10                      8                       8  5.25   \n",
       "3                   NaN                      7                       7  6.05   \n",
       "4          1.703132e+10                     32                      32  6.45   \n",
       "\n",
       "   Tips  Tolls  Extras  Trip Total Payment Type                    Company  \\\n",
       "0   0.0    0.0     0.0        6.25         Cash                       None   \n",
       "1   0.0    0.0     0.0        9.65         Cash                       None   \n",
       "2   0.0    0.0     0.0        5.25         Cash                       None   \n",
       "3   0.0    0.0     0.0        6.05         Cash  Taxi Affiliation Services   \n",
       "4   0.0    0.0     0.0        6.45         Cash                       None   \n",
       "\n",
       "   Pickup Centroid Latitude  Pickup Centroid Longitude  \\\n",
       "0                 41.880994                 -87.632746   \n",
       "1                 41.899602                 -87.633308   \n",
       "2                 41.892042                 -87.631864   \n",
       "3                 41.922686                 -87.649489   \n",
       "4                 41.880994                 -87.632746   \n",
       "\n",
       "               Pickup Centroid Location  Dropoff Centroid Latitude  \\\n",
       "0  POINT (-87.6327464887 41.8809944707)                  41.900221   \n",
       "1   POINT (-87.6333080367 41.899602111)                  41.901207   \n",
       "2  POINT (-87.6318639497 41.8920421365)                  41.900266   \n",
       "3  POINT (-87.6494887289 41.9226862843)                  41.922686   \n",
       "4  POINT (-87.6327464887 41.8809944707)                  41.884987   \n",
       "\n",
       "   Dropoff Centroid Longitude            Dropoff Centroid  Location  \\\n",
       "0                  -87.629105  POINT (-87.6291051864 41.9002212967)   \n",
       "1                  -87.676356  POINT (-87.6763559892 41.9012069941)   \n",
       "2                  -87.632109  POINT (-87.6321092196 41.9002656868)   \n",
       "3                  -87.649489  POINT (-87.6494887289 41.9226862843)   \n",
       "4                  -87.620993  POINT (-87.6209929134 41.8849871918)   \n",
       "\n",
       "   Community Areas  \n",
       "0               38  \n",
       "1               37  \n",
       "2               37  \n",
       "3               68  \n",
       "4               38  "
      ]
     },
     "execution_count": 12,
     "metadata": {},
     "output_type": "execute_result"
    }
   ],
   "source": [
    "taxi_obs=taxi_df.limit(5)\n",
    "taxi_obs.toPandas()"
   ]
  },
  {
   "cell_type": "markdown",
   "metadata": {},
   "source": [
    "The following columns can be deleted because they do not add value as a result of which they are unions or repetitions of other columns:\n",
    "\n",
    "    - Pickup Census Tract\t\n",
    "    - Dropoff Census Tract\n",
    "    - Pickup Centroid Location\n",
    "    - Dropoff Centroid Location\n",
    "    - Community Areas\n"
   ]
  },
  {
   "cell_type": "markdown",
   "metadata": {},
   "source": [
    "### 4.2 Study the dimensions of the dataset"
   ]
  },
  {
   "cell_type": "code",
   "execution_count": 13,
   "metadata": {},
   "outputs": [
    {
     "data": {
      "text/plain": [
       "112860054"
      ]
     },
     "execution_count": 13,
     "metadata": {},
     "output_type": "execute_result"
    }
   ],
   "source": [
    "taxi_df.count()"
   ]
  },
  {
   "cell_type": "code",
   "execution_count": 14,
   "metadata": {},
   "outputs": [
    {
     "data": {
      "text/plain": [
       "24"
      ]
     },
     "execution_count": 14,
     "metadata": {},
     "output_type": "execute_result"
    }
   ],
   "source": [
    "len(taxi_df.columns)"
   ]
  },
  {
   "cell_type": "markdown",
   "metadata": {},
   "source": [
    "### 4.3 Check the names and types of the variables"
   ]
  },
  {
   "cell_type": "code",
   "execution_count": 15,
   "metadata": {},
   "outputs": [
    {
     "name": "stdout",
     "output_type": "stream",
     "text": [
      "root\n",
      " |-- Trip ID: string (nullable = true)\n",
      " |-- Taxi ID: string (nullable = true)\n",
      " |-- Trip Start Timestamp: string (nullable = true)\n",
      " |-- Trip End Timestamp: string (nullable = true)\n",
      " |-- Trip Seconds: integer (nullable = true)\n",
      " |-- Trip Miles: double (nullable = true)\n",
      " |-- Pickup Census Tract: long (nullable = true)\n",
      " |-- Dropoff Census Tract: long (nullable = true)\n",
      " |-- Pickup Community Area: integer (nullable = true)\n",
      " |-- Dropoff Community Area: integer (nullable = true)\n",
      " |-- Fare: double (nullable = true)\n",
      " |-- Tips: double (nullable = true)\n",
      " |-- Tolls: double (nullable = true)\n",
      " |-- Extras: double (nullable = true)\n",
      " |-- Trip Total: double (nullable = true)\n",
      " |-- Payment Type: string (nullable = true)\n",
      " |-- Company: string (nullable = true)\n",
      " |-- Pickup Centroid Latitude: double (nullable = true)\n",
      " |-- Pickup Centroid Longitude: double (nullable = true)\n",
      " |-- Pickup Centroid Location: string (nullable = true)\n",
      " |-- Dropoff Centroid Latitude: double (nullable = true)\n",
      " |-- Dropoff Centroid Longitude: double (nullable = true)\n",
      " |-- Dropoff Centroid  Location: string (nullable = true)\n",
      " |-- Community Areas: integer (nullable = true)\n",
      "\n"
     ]
    }
   ],
   "source": [
    "taxi_df.printSchema()"
   ]
  },
  {
   "cell_type": "markdown",
   "metadata": {},
   "source": [
    "## 5 Data Wrangling"
   ]
  },
  {
   "cell_type": "markdown",
   "metadata": {},
   "source": [
    "### 4.4 Change the name of the variables to comply with good practices"
   ]
  },
  {
   "cell_type": "code",
   "execution_count": 16,
   "metadata": {},
   "outputs": [
    {
     "name": "stdout",
     "output_type": "stream",
     "text": [
      "root\n",
      " |-- trip_id: string (nullable = true)\n",
      " |-- taxi_id: string (nullable = true)\n",
      " |-- trip_start_timestamp: string (nullable = true)\n",
      " |-- trip_end_timestamp: string (nullable = true)\n",
      " |-- trip_seconds: integer (nullable = true)\n",
      " |-- trip_miles: double (nullable = true)\n",
      " |-- pickup_census_tract: long (nullable = true)\n",
      " |-- dropoff_census_tract: long (nullable = true)\n",
      " |-- pickup_community_area: integer (nullable = true)\n",
      " |-- dropoff_community_area: integer (nullable = true)\n",
      " |-- fare: double (nullable = true)\n",
      " |-- tips: double (nullable = true)\n",
      " |-- tolls: double (nullable = true)\n",
      " |-- extras: double (nullable = true)\n",
      " |-- trip_total: double (nullable = true)\n",
      " |-- payment_type: string (nullable = true)\n",
      " |-- company: string (nullable = true)\n",
      " |-- pickup_centroid_latitude: double (nullable = true)\n",
      " |-- pickup_centroid_longitude: double (nullable = true)\n",
      " |-- pickup_centroid_location: string (nullable = true)\n",
      " |-- dropoff_centroid_latitude: double (nullable = true)\n",
      " |-- dropoff_centroid_longitude: double (nullable = true)\n",
      " |-- dropoff_centroid__location: string (nullable = true)\n",
      " |-- community_areas: integer (nullable = true)\n",
      "\n"
     ]
    }
   ],
   "source": [
    "for col in taxi_df.columns:\n",
    "    new_col=col.lower().replace(\" \",\"_\")\n",
    "    taxi_df = taxi_df.withColumnRenamed(col,new_col)\n",
    "taxi_df.printSchema()"
   ]
  },
  {
   "cell_type": "markdown",
   "metadata": {},
   "source": [
    "### 4.5 Delete fields that do not add value"
   ]
  },
  {
   "cell_type": "code",
   "execution_count": 17,
   "metadata": {},
   "outputs": [],
   "source": [
    "#The following columns can be deleted because they do not add value as a result of which they are unions or \n",
    "#repetitions of other columns\n",
    "taxi_df = taxi_df.drop('pickup_census_tract',\n",
    "                       'dropoff_census_tract',\n",
    "                       'pickup_centroid_location',\n",
    "                       'dropoff_centroid__location',\n",
    "                       'community_areas')"
   ]
  },
  {
   "cell_type": "code",
   "execution_count": 18,
   "metadata": {},
   "outputs": [
    {
     "name": "stdout",
     "output_type": "stream",
     "text": [
      "root\n",
      " |-- trip_id: string (nullable = true)\n",
      " |-- taxi_id: string (nullable = true)\n",
      " |-- trip_start_timestamp: string (nullable = true)\n",
      " |-- trip_end_timestamp: string (nullable = true)\n",
      " |-- trip_seconds: integer (nullable = true)\n",
      " |-- trip_miles: double (nullable = true)\n",
      " |-- pickup_community_area: integer (nullable = true)\n",
      " |-- dropoff_community_area: integer (nullable = true)\n",
      " |-- fare: double (nullable = true)\n",
      " |-- tips: double (nullable = true)\n",
      " |-- tolls: double (nullable = true)\n",
      " |-- extras: double (nullable = true)\n",
      " |-- trip_total: double (nullable = true)\n",
      " |-- payment_type: string (nullable = true)\n",
      " |-- company: string (nullable = true)\n",
      " |-- pickup_centroid_latitude: double (nullable = true)\n",
      " |-- pickup_centroid_longitude: double (nullable = true)\n",
      " |-- dropoff_centroid_latitude: double (nullable = true)\n",
      " |-- dropoff_centroid_longitude: double (nullable = true)\n",
      "\n"
     ]
    }
   ],
   "source": [
    "taxi_df.printSchema()"
   ]
  },
  {
   "cell_type": "markdown",
   "metadata": {},
   "source": [
    "### 4.6 Manage the dates"
   ]
  },
  {
   "cell_type": "markdown",
   "metadata": {},
   "source": [
    "#### 4.6.1 Convert the dates from string format to date format"
   ]
  },
  {
   "cell_type": "code",
   "execution_count": 19,
   "metadata": {},
   "outputs": [
    {
     "name": "stdout",
     "output_type": "stream",
     "text": [
      "+----------------------+----------------------+\n",
      "|trip_start_timestamp  |trip_end_timestamp    |\n",
      "+----------------------+----------------------+\n",
      "|09/22/2015 05:30:00 PM|09/22/2015 05:45:00 PM|\n",
      "|09/17/2013 06:45:00 PM|09/17/2013 07:00:00 PM|\n",
      "|01/02/2016 10:30:00 PM|01/02/2016 10:30:00 PM|\n",
      "|12/15/2015 11:45:00 AM|12/15/2015 11:45:00 AM|\n",
      "|06/03/2013 07:00:00 AM|06/03/2013 07:15:00 AM|\n",
      "|07/08/2015 11:30:00 AM|07/08/2015 11:30:00 AM|\n",
      "|12/05/2016 03:30:00 PM|12/05/2016 03:30:00 PM|\n",
      "|11/30/2015 05:00:00 PM|11/30/2015 05:00:00 PM|\n",
      "|11/19/2016 03:45:00 AM|11/19/2016 04:00:00 AM|\n",
      "|04/18/2014 11:30:00 PM|04/18/2014 11:45:00 PM|\n",
      "|09/13/2013 05:45:00 PM|09/13/2013 06:00:00 PM|\n",
      "|05/30/2014 06:15:00 PM|05/30/2014 06:30:00 PM|\n",
      "|12/09/2016 02:00:00 PM|12/09/2016 02:00:00 PM|\n",
      "|04/13/2015 04:45:00 PM|04/13/2015 05:00:00 PM|\n",
      "|07/16/2013 06:30:00 PM|07/16/2013 06:45:00 PM|\n",
      "|11/28/2013 04:45:00 AM|11/28/2013 04:45:00 AM|\n",
      "|03/06/2014 08:30:00 AM|03/06/2014 08:30:00 AM|\n",
      "|05/14/2016 10:30:00 AM|05/14/2016 10:45:00 AM|\n",
      "|03/27/2017 02:00:00 PM|03/27/2017 02:00:00 PM|\n",
      "|04/27/2014 11:15:00 AM|04/27/2014 11:15:00 AM|\n",
      "+----------------------+----------------------+\n",
      "only showing top 20 rows\n",
      "\n"
     ]
    }
   ],
   "source": [
    "# Check the start trip and the end trip before change the format\n",
    "taxi_df.select(['trip_start_timestamp', 'trip_end_timestamp']).show(truncate=False)"
   ]
  },
  {
   "cell_type": "code",
   "execution_count": 20,
   "metadata": {},
   "outputs": [],
   "source": [
    "#Convert to date format ()\n",
    "taxi_df = taxi_df.withColumn(\"trip_start_timestamp\",\n",
    "                             F.from_unixtime(F.unix_timestamp(F.col(\"trip_start_timestamp\"),\n",
    "                                                           format=\"MM/dd/yyyy hh:mm:ss aa\")))\n",
    "taxi_df = taxi_df.withColumn(\"trip_end_timestamp\",\n",
    "                             F.from_unixtime(F.unix_timestamp(F.col(\"trip_end_timestamp\"),\n",
    "                                                           format=\"MM/dd/yyyy hh:mm:ss aa\")))"
   ]
  },
  {
   "cell_type": "code",
   "execution_count": 21,
   "metadata": {},
   "outputs": [
    {
     "name": "stdout",
     "output_type": "stream",
     "text": [
      "+--------------------+-------------------+\n",
      "|trip_start_timestamp|trip_end_timestamp |\n",
      "+--------------------+-------------------+\n",
      "|2015-09-22 17:30:00 |2015-09-22 17:45:00|\n",
      "|2013-09-17 18:45:00 |2013-09-17 19:00:00|\n",
      "|2016-01-02 22:30:00 |2016-01-02 22:30:00|\n",
      "|2015-12-15 11:45:00 |2015-12-15 11:45:00|\n",
      "|2013-06-03 07:00:00 |2013-06-03 07:15:00|\n",
      "|2015-07-08 11:30:00 |2015-07-08 11:30:00|\n",
      "|2016-12-05 15:30:00 |2016-12-05 15:30:00|\n",
      "|2015-11-30 17:00:00 |2015-11-30 17:00:00|\n",
      "|2016-11-19 03:45:00 |2016-11-19 04:00:00|\n",
      "|2014-04-18 23:30:00 |2014-04-18 23:45:00|\n",
      "|2013-09-13 17:45:00 |2013-09-13 18:00:00|\n",
      "|2014-05-30 18:15:00 |2014-05-30 18:30:00|\n",
      "|2016-12-09 14:00:00 |2016-12-09 14:00:00|\n",
      "|2015-04-13 16:45:00 |2015-04-13 17:00:00|\n",
      "|2013-07-16 18:30:00 |2013-07-16 18:45:00|\n",
      "|2013-11-28 04:45:00 |2013-11-28 04:45:00|\n",
      "|2014-03-06 08:30:00 |2014-03-06 08:30:00|\n",
      "|2016-05-14 10:30:00 |2016-05-14 10:45:00|\n",
      "|2017-03-27 14:00:00 |2017-03-27 14:00:00|\n",
      "|2014-04-27 11:15:00 |2014-04-27 11:15:00|\n",
      "+--------------------+-------------------+\n",
      "only showing top 20 rows\n",
      "\n"
     ]
    }
   ],
   "source": [
    "#Check the result\n",
    "taxi_df.select(['trip_start_timestamp', 'trip_end_timestamp']).show(truncate=False)"
   ]
  },
  {
   "cell_type": "markdown",
   "metadata": {},
   "source": [
    "#### 4.6.2 Check the extreme values of the dates"
   ]
  },
  {
   "cell_type": "code",
   "execution_count": 22,
   "metadata": {},
   "outputs": [
    {
     "name": "stdout",
     "output_type": "stream",
     "text": [
      "+-------------------------+-------------------------+\n",
      "|max(trip_start_timestamp)|min(trip_start_timestamp)|\n",
      "+-------------------------+-------------------------+\n",
      "|      2017-08-01 00:00:00|      2013-01-01 00:00:00|\n",
      "+-------------------------+-------------------------+\n",
      "\n"
     ]
    }
   ],
   "source": [
    "taxi_df.select(F.max('trip_start_timestamp'),F.min('trip_start_timestamp')).show()"
   ]
  },
  {
   "cell_type": "code",
   "execution_count": 23,
   "metadata": {},
   "outputs": [
    {
     "name": "stdout",
     "output_type": "stream",
     "text": [
      "+-----------------------+-----------------------+\n",
      "|max(trip_end_timestamp)|min(trip_end_timestamp)|\n",
      "+-----------------------+-----------------------+\n",
      "|    2017-08-01 15:30:00|    1900-01-01 00:00:00|\n",
      "+-----------------------+-----------------------+\n",
      "\n"
     ]
    }
   ],
   "source": [
    "taxi_df.select(F.max('trip_end_timestamp'),F.min('trip_end_timestamp')).show()"
   ]
  },
  {
   "cell_type": "markdown",
   "metadata": {},
   "source": [
    "### 4.7 Check duplicates"
   ]
  },
  {
   "cell_type": "code",
   "execution_count": 24,
   "metadata": {},
   "outputs": [
    {
     "data": {
      "text/plain": [
       "112860054"
      ]
     },
     "execution_count": 24,
     "metadata": {},
     "output_type": "execute_result"
    }
   ],
   "source": [
    "taxi_df.dropDuplicates(['trip_id', 'taxi_id']).count()"
   ]
  },
  {
   "cell_type": "markdown",
   "metadata": {},
   "source": [
    "There is not duplicates"
   ]
  },
  {
   "cell_type": "markdown",
   "metadata": {},
   "source": [
    "### 4.8 Study if there are variables that always or practically always have the same value"
   ]
  },
  {
   "cell_type": "markdown",
   "metadata": {},
   "source": [
    "Separate the dataframe in two to realize our analysis:\n",
    "    \n",
    "    - One dataframe with numeric columns\n",
    "    - One dataframe with categorical columns"
   ]
  },
  {
   "cell_type": "code",
   "execution_count": 25,
   "metadata": {},
   "outputs": [],
   "source": [
    "n_rows = taxi_df.count()\n",
    "numeric_vars = []\n",
    "categoric_vars = []\n",
    "\n",
    "for col, tipo in taxi_df.dtypes:\n",
    "    if tipo!=\"string\":\n",
    "        numeric_vars.append(col)\n",
    "    else:\n",
    "        categoric_vars.append(col)     "
   ]
  },
  {
   "cell_type": "code",
   "execution_count": 26,
   "metadata": {},
   "outputs": [],
   "source": [
    "# We delete trip_id from our analysis because it is the only value that allows us to identify travel and we know it´s\n",
    "# an unique value (it has not duplicates)\n",
    "categoric_vars.remove('trip_id')"
   ]
  },
  {
   "cell_type": "markdown",
   "metadata": {},
   "source": [
    "#### 4.8.1 Categoric columns"
   ]
  },
  {
   "cell_type": "code",
   "execution_count": 27,
   "metadata": {
    "scrolled": false
   },
   "outputs": [
    {
     "name": "stdout",
     "output_type": "stream",
     "text": [
      "taxi_id\n",
      "+--------------------+-----+-------------+\n",
      "|             taxi_id|count|frecuencia(%)|\n",
      "+--------------------+-----+-------------+\n",
      "|aebf720288b80a8ee...|59800|         0.05|\n",
      "|f68eb3233f3e33e98...|53713|         0.05|\n",
      "|d3a5f1452b4a1db2a...|53237|         0.05|\n",
      "|774c16d2c0c72290e...|52971|         0.05|\n",
      "|9eb860ce5cb7ff8e3...|52835|         0.05|\n",
      "|a21e9e59e7c6a55f3...|52322|         0.05|\n",
      "|01910e6c9e129a9a7...|52055|         0.05|\n",
      "|ffc2a618ad19a63fa...|52044|         0.05|\n",
      "|53f28dea0e1172c28...|51701|         0.05|\n",
      "|9d69a11bc339eab6a...|51446|         0.05|\n",
      "|5ba3a19b228cd79e8...|51131|         0.05|\n",
      "|0861cb74337c620cb...|51055|         0.05|\n",
      "|b2a007b1410c7208a...|50975|         0.05|\n",
      "|1158f25979ad78fd3...|50913|         0.05|\n",
      "|74b9b3ba2f90ab6df...|50442|         0.04|\n",
      "|89bfd3f9c1a6014be...|49765|         0.04|\n",
      "|842e2b1cd011fab01...|49633|         0.04|\n",
      "|4f189764b8d9b6f71...|49422|         0.04|\n",
      "|7bdac954f2be7f55a...|49337|         0.04|\n",
      "|4f1e94982e6851725...|49144|         0.04|\n",
      "+--------------------+-----+-------------+\n",
      "only showing top 20 rows\n",
      "\n",
      "trip_start_timestamp\n",
      "+--------------------+-----+-------------+\n",
      "|trip_start_timestamp|count|frecuencia(%)|\n",
      "+--------------------+-----+-------------+\n",
      "|                null|19849|         0.02|\n",
      "| 2014-11-06 19:00:00| 3446|          0.0|\n",
      "| 2015-11-01 01:30:00| 3032|          0.0|\n",
      "| 2015-11-01 01:45:00| 3025|          0.0|\n",
      "| 2013-11-03 01:15:00| 2979|          0.0|\n",
      "| 2015-11-01 01:15:00| 2943|          0.0|\n",
      "| 2013-11-03 01:30:00| 2832|          0.0|\n",
      "| 2013-11-03 01:45:00| 2827|          0.0|\n",
      "| 2014-11-02 01:15:00| 2752|          0.0|\n",
      "| 2013-05-23 16:30:00| 2714|          0.0|\n",
      "| 2014-03-15 20:45:00| 2663|          0.0|\n",
      "| 2014-11-02 01:45:00| 2635|          0.0|\n",
      "| 2014-03-15 21:15:00| 2612|          0.0|\n",
      "| 2014-03-15 21:00:00| 2598|          0.0|\n",
      "| 2014-03-15 19:30:00| 2591|          0.0|\n",
      "| 2014-03-15 20:30:00| 2586|          0.0|\n",
      "| 2014-11-02 01:30:00| 2582|          0.0|\n",
      "| 2014-03-15 21:30:00| 2575|          0.0|\n",
      "| 2014-03-15 19:00:00| 2571|          0.0|\n",
      "| 2014-03-15 20:00:00| 2570|          0.0|\n",
      "+--------------------+-----+-------------+\n",
      "only showing top 20 rows\n",
      "\n",
      "trip_end_timestamp\n",
      "+-------------------+-----+-------------+\n",
      "| trip_end_timestamp|count|frecuencia(%)|\n",
      "+-------------------+-----+-------------+\n",
      "|               null|36021|         0.03|\n",
      "|2014-11-06 19:00:00| 3490|          0.0|\n",
      "|2015-11-01 01:30:00| 3033|          0.0|\n",
      "|2013-11-03 01:15:00| 2938|          0.0|\n",
      "|2015-11-01 01:45:00| 2935|          0.0|\n",
      "|2013-11-03 01:30:00| 2918|          0.0|\n",
      "|2015-11-01 01:15:00| 2846|          0.0|\n",
      "|2013-11-03 01:45:00| 2829|          0.0|\n",
      "|2014-11-02 01:15:00| 2821|          0.0|\n",
      "|2013-05-23 16:30:00| 2723|          0.0|\n",
      "|2014-03-15 20:45:00| 2712|          0.0|\n",
      "|2014-11-02 01:30:00| 2686|          0.0|\n",
      "|2014-03-15 21:15:00| 2643|          0.0|\n",
      "|2014-03-15 20:00:00| 2625|          0.0|\n",
      "|2014-03-15 21:00:00| 2621|          0.0|\n",
      "|2014-03-15 21:30:00| 2605|          0.0|\n",
      "|2014-03-15 19:45:00| 2591|          0.0|\n",
      "|2014-03-15 19:30:00| 2589|          0.0|\n",
      "|2014-11-02 01:45:00| 2581|          0.0|\n",
      "|2014-03-15 20:30:00| 2577|          0.0|\n",
      "+-------------------+-----+-------------+\n",
      "only showing top 20 rows\n",
      "\n",
      "payment_type\n",
      "+------------+--------+-------------+\n",
      "|payment_type|   count|frecuencia(%)|\n",
      "+------------+--------+-------------+\n",
      "|        Cash|67703399|        59.99|\n",
      "| Credit Card|44087311|        39.06|\n",
      "|   No Charge|  720341|         0.64|\n",
      "|     Unknown|  243626|         0.22|\n",
      "|     Dispute|   61094|         0.05|\n",
      "|       Pcard|   29700|         0.03|\n",
      "|      Prcard|   14164|         0.01|\n",
      "|      Mobile|     396|          0.0|\n",
      "|    Way2ride|      23|          0.0|\n",
      "+------------+--------+-------------+\n",
      "\n",
      "company\n",
      "+--------------------+--------+-------------+\n",
      "|             company|   count|frecuencia(%)|\n",
      "+--------------------+--------+-------------+\n",
      "|                null|41205229|        36.51|\n",
      "|Taxi Affiliation ...|32569932|        28.86|\n",
      "|Dispatch Taxi Aff...|10182943|         9.02|\n",
      "|Blue Ribbon Taxi ...| 7711437|         6.83|\n",
      "|Choice Taxi Assoc...| 6020703|         5.33|\n",
      "|Chicago Elite Cab...| 5264168|         4.66|\n",
      "|Northwest Managem...| 3691995|         3.27|\n",
      "|KOAM Taxi Associa...| 1563230|         1.39|\n",
      "| Top Cab Affiliation| 1033287|         0.92|\n",
      "|Chicago Elite Cab...| 1023109|         0.91|\n",
      "|T.A.S. - Payment ...|  775641|         0.69|\n",
      "|Chicago Medallion...|  439747|         0.39|\n",
      "|Suburban Dispatch...|  417463|         0.37|\n",
      "|Chicago Medallion...|  357219|         0.32|\n",
      "|Park Ridge Taxi a...|   22429|         0.02|\n",
      "|3201 - C&D Cab Co...|   18109|         0.02|\n",
      "|3011 - 66308 JBL ...|   16826|         0.01|\n",
      "|6743 - 78771 Luha...|   16800|         0.01|\n",
      "|0118 - 42111 Godf...|   16528|         0.01|\n",
      "|1085 - 72312 N an...|   14957|         0.01|\n",
      "+--------------------+--------+-------------+\n",
      "only showing top 20 rows\n",
      "\n"
     ]
    }
   ],
   "source": [
    "for col in categoric_vars:\n",
    "    print(col)\n",
    "    taxi_df.groupby(col).count().sort(F.col(\"count\").desc()).withColumn(\"frecuencia(%)\",\n",
    "                  F.round((100*F.col(\"count\")/n_rows),2)).show()"
   ]
  },
  {
   "cell_type": "markdown",
   "metadata": {},
   "source": [
    "We have observed that in the column 'payment_type' there is the value 'Unknown', so we are going to convert it to null"
   ]
  },
  {
   "cell_type": "code",
   "execution_count": 28,
   "metadata": {},
   "outputs": [],
   "source": [
    "taxi_df = taxi_df.withColumn('payment_type',\n",
    "                            F.when(F.col('payment_type')=='Unknown',None).otherwise(F.col('payment_type')))"
   ]
  },
  {
   "cell_type": "code",
   "execution_count": 29,
   "metadata": {},
   "outputs": [
    {
     "name": "stdout",
     "output_type": "stream",
     "text": [
      "payment_type\n",
      "+------------+--------+-------------+\n",
      "|payment_type|   count|frecuencia(%)|\n",
      "+------------+--------+-------------+\n",
      "|        Cash|67703399|        59.99|\n",
      "| Credit Card|44087311|        39.06|\n",
      "|   No Charge|  720341|         0.64|\n",
      "|        null|  243626|         0.22|\n",
      "|     Dispute|   61094|         0.05|\n",
      "|       Pcard|   29700|         0.03|\n",
      "|      Prcard|   14164|         0.01|\n",
      "|      Mobile|     396|          0.0|\n",
      "|    Way2ride|      23|          0.0|\n",
      "+------------+--------+-------------+\n",
      "\n"
     ]
    }
   ],
   "source": [
    "#Check that 'Unknown' value has been converted to null\n",
    "print('payment_type')\n",
    "taxi_df.groupby('payment_type').count().sort(F.col(\"count\").desc()).withColumn(\"frecuencia(%)\",\n",
    "                                                                    F.round((100*F.col(\"count\")/n_rows),2)).show()"
   ]
  },
  {
   "cell_type": "markdown",
   "metadata": {},
   "source": [
    "#### 4.8.2 Numeric columns"
   ]
  },
  {
   "cell_type": "code",
   "execution_count": 30,
   "metadata": {
    "scrolled": false
   },
   "outputs": [
    {
     "name": "stdout",
     "output_type": "stream",
     "text": [
      "trip_seconds\n",
      "+------------+-------+-------------+\n",
      "|trip_seconds|  count|frecuencia(%)|\n",
      "+------------+-------+-------------+\n",
      "|           0|9223119|         8.17|\n",
      "|         360|7656937|         6.78|\n",
      "|         420|7563126|          6.7|\n",
      "|         300|7203627|         6.38|\n",
      "|         480|7096002|         6.29|\n",
      "|         540|6464109|         5.73|\n",
      "|         240|6048981|         5.36|\n",
      "|         600|5766878|         5.11|\n",
      "|         660|5081404|          4.5|\n",
      "|         720|4432931|         3.93|\n",
      "|         180|4178873|          3.7|\n",
      "|         780|3829466|         3.39|\n",
      "|         840|3283975|         2.91|\n",
      "|         900|2802779|         2.48|\n",
      "|         960|2385938|         2.11|\n",
      "|         120|2165776|         1.92|\n",
      "|        1020|2040405|         1.81|\n",
      "|        1080|1761459|         1.56|\n",
      "|        1140|1555697|         1.38|\n",
      "|          60|1416459|         1.26|\n",
      "+------------+-------+-------------+\n",
      "only showing top 20 rows\n",
      "\n",
      "trip_miles\n",
      "+----------+--------+-------------+\n",
      "|trip_miles|   count|frecuencia(%)|\n",
      "+----------+--------+-------------+\n",
      "|       0.0|33452754|        29.64|\n",
      "|       0.1| 3910277|         3.46|\n",
      "|       1.0| 3135477|         2.78|\n",
      "|       0.8| 2986093|         2.65|\n",
      "|       0.9| 2956945|         2.62|\n",
      "|       1.1| 2954281|         2.62|\n",
      "|       0.7| 2775987|         2.46|\n",
      "|       1.2| 2498313|         2.21|\n",
      "|       0.6| 2392807|         2.12|\n",
      "|       1.3| 2261539|          2.0|\n",
      "|       1.4| 2061798|         1.83|\n",
      "|       0.5| 1987080|         1.76|\n",
      "|       1.5| 1907677|         1.69|\n",
      "|       0.2| 1783591|         1.58|\n",
      "|       1.6| 1748645|         1.55|\n",
      "|       1.7| 1633771|         1.45|\n",
      "|       0.4| 1576861|          1.4|\n",
      "|       1.8| 1490991|         1.32|\n",
      "|       0.3| 1413338|         1.25|\n",
      "|       1.9| 1341125|         1.19|\n",
      "+----------+--------+-------------+\n",
      "only showing top 20 rows\n",
      "\n",
      "pickup_community_area\n",
      "+---------------------+--------+-------------+\n",
      "|pickup_community_area|   count|frecuencia(%)|\n",
      "+---------------------+--------+-------------+\n",
      "|                    8|32104338|        28.45|\n",
      "|                   32|21477142|        19.03|\n",
      "|                 null|16782342|        14.87|\n",
      "|                   28| 8481004|         7.51|\n",
      "|                    6| 6815397|         6.04|\n",
      "|                   76| 5853830|         5.19|\n",
      "|                    7| 5477208|         4.85|\n",
      "|                   24| 3575711|         3.17|\n",
      "|                   33| 2204222|         1.95|\n",
      "|                    3| 1643982|         1.46|\n",
      "|                   56| 1619459|         1.43|\n",
      "|                   22| 1184590|         1.05|\n",
      "|                   77| 1073453|         0.95|\n",
      "|                    5|  651750|         0.58|\n",
      "|                    4|  481611|         0.43|\n",
      "|                   16|  389669|         0.35|\n",
      "|                    1|  378175|         0.34|\n",
      "|                    2|  367825|         0.33|\n",
      "|                   41|  367159|         0.33|\n",
      "|                   21|  285627|         0.25|\n",
      "+---------------------+--------+-------------+\n",
      "only showing top 20 rows\n",
      "\n",
      "dropoff_community_area\n",
      "+----------------------+--------+-------------+\n",
      "|dropoff_community_area|   count|frecuencia(%)|\n",
      "+----------------------+--------+-------------+\n",
      "|                     8|28201515|        24.99|\n",
      "|                  null|19095838|        16.92|\n",
      "|                    32|18480324|        16.37|\n",
      "|                    28| 9267949|         8.21|\n",
      "|                     6| 7021590|         6.22|\n",
      "|                     7| 6275255|         5.56|\n",
      "|                    24| 4532021|         4.02|\n",
      "|                    76| 3540993|         3.14|\n",
      "|                    33| 2831048|         2.51|\n",
      "|                     3| 1912080|         1.69|\n",
      "|                    22| 1757540|         1.56|\n",
      "|                    56| 1228219|         1.09|\n",
      "|                    77| 1196975|         1.06|\n",
      "|                     5|  975628|         0.86|\n",
      "|                     4|  766347|         0.68|\n",
      "|                    16|  555426|         0.49|\n",
      "|                     1|  548907|         0.49|\n",
      "|                     2|  496842|         0.44|\n",
      "|                    41|  493909|         0.44|\n",
      "|                    21|  448696|          0.4|\n",
      "+----------------------+--------+-------------+\n",
      "only showing top 20 rows\n",
      "\n",
      "fare\n",
      "+----+-------+-------------+\n",
      "|fare|  count|frecuencia(%)|\n",
      "+----+-------+-------------+\n",
      "|6.25|3300003|         2.92|\n",
      "|5.25|3097592|         2.74|\n",
      "|3.25|3079785|         2.73|\n",
      "|7.25|2685194|         2.38|\n",
      "|5.85|2455308|         2.18|\n",
      "|5.65|2453665|         2.17|\n",
      "|6.05|2431820|         2.15|\n",
      "|5.45|2396652|         2.12|\n",
      "|6.45|2285616|         2.03|\n",
      "|6.65|2200097|         1.95|\n",
      "|5.05|2153287|         1.91|\n",
      "|6.85|2101725|         1.86|\n",
      "|8.25|2037433|         1.81|\n",
      "|7.05|1998966|         1.77|\n",
      "|7.45|1778297|         1.58|\n",
      "|7.65|1682609|         1.49|\n",
      "|4.65|1597602|         1.42|\n",
      "|7.85|1592248|         1.41|\n",
      "|9.25|1533711|         1.36|\n",
      "|8.05|1519600|         1.35|\n",
      "+----+-------+-------------+\n",
      "only showing top 20 rows\n",
      "\n",
      "tips\n",
      "+----+--------+-------------+\n",
      "|tips|   count|frecuencia(%)|\n",
      "+----+--------+-------------+\n",
      "| 0.0|71257536|        63.14|\n",
      "| 2.0|12378618|        10.97|\n",
      "| 3.0| 4424145|         3.92|\n",
      "| 1.0| 3560867|         3.16|\n",
      "| 4.0| 1137359|         1.01|\n",
      "| 5.0| 1132766|          1.0|\n",
      "| 1.5|  793367|          0.7|\n",
      "| 6.0|  374040|         0.33|\n",
      "|10.0|  284482|         0.25|\n",
      "| 2.5|  263538|         0.23|\n",
      "|2.05|  260420|         0.23|\n",
      "| 8.0|  243735|         0.22|\n",
      "|2.25|  235698|         0.21|\n",
      "| 7.0|  233283|         0.21|\n",
      "|1.25|  181686|         0.16|\n",
      "|2.65|  181490|         0.16|\n",
      "|2.45|  180886|         0.16|\n",
      "|3.05|  167624|         0.15|\n",
      "|2.15|  166791|         0.15|\n",
      "|2.55|  154465|         0.14|\n",
      "+----+--------+-------------+\n",
      "only showing top 20 rows\n",
      "\n",
      "tolls\n",
      "+-----+---------+-------------+\n",
      "|tolls|    count|frecuencia(%)|\n",
      "+-----+---------+-------------+\n",
      "|  0.0|112784373|        99.93|\n",
      "|  1.5|    13220|         0.01|\n",
      "|  1.9|    12133|         0.01|\n",
      "| 50.0|     8701|         0.01|\n",
      "|  3.0|     7739|         0.01|\n",
      "|  2.0|     7589|         0.01|\n",
      "|  4.0|     3091|          0.0|\n",
      "|  1.0|     2618|          0.0|\n",
      "| 25.0|     1118|          0.0|\n",
      "| null|     1076|          0.0|\n",
      "|  4.5|     1042|          0.0|\n",
      "|  5.0|     1034|          0.0|\n",
      "|  6.0|      974|          0.0|\n",
      "|  3.6|      838|          0.0|\n",
      "|  3.8|      824|          0.0|\n",
      "| 0.95|      652|          0.0|\n",
      "| 0.75|      635|          0.0|\n",
      "|  2.4|      550|          0.0|\n",
      "|  3.4|      492|          0.0|\n",
      "| 65.0|      465|          0.0|\n",
      "+-----+---------+-------------+\n",
      "only showing top 20 rows\n",
      "\n",
      "extras\n",
      "+------+--------+-------------+\n",
      "|extras|   count|frecuencia(%)|\n",
      "+------+--------+-------------+\n",
      "|   0.0|70346812|        62.33|\n",
      "|   1.0|20570683|        18.23|\n",
      "|   2.0| 9241815|         8.19|\n",
      "|   1.5| 5144257|         4.56|\n",
      "|   3.0| 2161271|         1.92|\n",
      "|   4.0| 1908185|         1.69|\n",
      "|   2.5|  748883|         0.66|\n",
      "|   5.0|  556607|         0.49|\n",
      "|   0.5|  400331|         0.35|\n",
      "|   3.5|  363597|         0.32|\n",
      "|   6.0|  128031|         0.11|\n",
      "|   5.5|  108014|          0.1|\n",
      "|   4.5|  100615|         0.09|\n",
      "|   7.0|   60047|         0.05|\n",
      "|   8.0|   38509|         0.03|\n",
      "|   6.5|   36708|         0.03|\n",
      "|  0.75|   36066|         0.03|\n",
      "|  10.0|   31680|         0.03|\n",
      "|  20.0|   30180|         0.03|\n",
      "|  25.0|   27971|         0.02|\n",
      "+------+--------+-------------+\n",
      "only showing top 20 rows\n",
      "\n",
      "trip_total\n",
      "+----------+-------+-------------+\n",
      "|trip_total|  count|frecuencia(%)|\n",
      "+----------+-------+-------------+\n",
      "|      7.25|2284008|         2.02|\n",
      "|      3.25|2230957|         1.98|\n",
      "|      6.25|2215652|         1.96|\n",
      "|      8.25|2103601|         1.86|\n",
      "|      5.25|1764531|         1.56|\n",
      "|      9.25|1736484|         1.54|\n",
      "|      6.65|1653878|         1.47|\n",
      "|      7.05|1641211|         1.45|\n",
      "|      6.45|1640883|         1.45|\n",
      "|      6.05|1609530|         1.43|\n",
      "|      6.85|1592429|         1.41|\n",
      "|      7.45|1590583|         1.41|\n",
      "|      7.65|1562236|         1.38|\n",
      "|      8.05|1502673|         1.33|\n",
      "|      7.85|1498512|         1.33|\n",
      "|      5.65|1481788|         1.31|\n",
      "|      5.85|1438254|         1.27|\n",
      "|     10.25|1405681|         1.25|\n",
      "|      5.45|1397737|         1.24|\n",
      "|      8.65|1341033|         1.19|\n",
      "+----------+-------+-------------+\n",
      "only showing top 20 rows\n",
      "\n",
      "pickup_centroid_latitude\n",
      "+------------------------+--------+-------------+\n",
      "|pickup_centroid_latitude|   count|frecuencia(%)|\n",
      "+------------------------+--------+-------------+\n",
      "|                    null|16780361|        14.87|\n",
      "|            41.880994471|10007490|         8.87|\n",
      "|            41.884987192| 5817480|         5.15|\n",
      "|            41.899602111| 4710264|         4.17|\n",
      "|            41.892507781| 4477579|         3.97|\n",
      "|             41.97907082| 4073139|         3.61|\n",
      "|            41.892042136| 4052324|         3.59|\n",
      "|            41.944226601| 3610053|          3.2|\n",
      "|            41.879255084| 3241766|         2.87|\n",
      "|            41.890922026| 2721247|         2.41|\n",
      "|            41.878865584| 2523588|         2.24|\n",
      "|             41.89321636| 2495453|         2.21|\n",
      "|            41.899155613| 2377074|         2.11|\n",
      "|            41.922686284| 2174934|         1.93|\n",
      "|            41.892072635| 1954904|         1.73|\n",
      "|            41.885300022| 1937035|         1.72|\n",
      "|            41.901206994| 1923425|          1.7|\n",
      "|            41.877406123| 1900933|         1.68|\n",
      "|            41.898331794| 1815946|         1.61|\n",
      "|            41.980264315| 1779042|         1.58|\n",
      "+------------------------+--------+-------------+\n",
      "only showing top 20 rows\n",
      "\n",
      "pickup_centroid_longitude\n"
     ]
    },
    {
     "name": "stdout",
     "output_type": "stream",
     "text": [
      "+-------------------------+--------+-------------+\n",
      "|pickup_centroid_longitude|   count|frecuencia(%)|\n",
      "+-------------------------+--------+-------------+\n",
      "|                     null|16780361|        14.87|\n",
      "|            -87.632746489|10007490|         8.87|\n",
      "|            -87.620992913| 5817480|         5.15|\n",
      "|            -87.633308037| 4710264|         4.17|\n",
      "|            -87.626214906| 4477579|         3.97|\n",
      "|            -87.903039661| 4073139|         3.61|\n",
      "|             -87.63186395| 4052324|         3.59|\n",
      "|            -87.655998182| 3610053|          3.2|\n",
      "|            -87.642648998| 3241766|         2.87|\n",
      "|            -87.618868355| 2721247|         2.41|\n",
      "|            -87.625192142| 2523588|         2.24|\n",
      "|             -87.63784421| 2495453|         2.21|\n",
      "|            -87.626210532| 2377074|         2.11|\n",
      "|            -87.649488729| 2174934|         1.93|\n",
      "|            -87.628874157| 1954904|         1.73|\n",
      "|            -87.642808466| 1937035|         1.72|\n",
      "|            -87.676355989| 1923425|          1.7|\n",
      "|            -87.621971652| 1900933|         1.68|\n",
      "|            -87.620762865| 1815946|         1.61|\n",
      "|            -87.913624596| 1779042|         1.58|\n",
      "+-------------------------+--------+-------------+\n",
      "only showing top 20 rows\n",
      "\n",
      "dropoff_centroid_latitude\n",
      "+-------------------------+--------+-------------+\n",
      "|dropoff_centroid_latitude|   count|frecuencia(%)|\n",
      "+-------------------------+--------+-------------+\n",
      "|                     null|18912561|        16.76|\n",
      "|             41.880994471| 8733923|         7.74|\n",
      "|             41.884987192| 5085352|         4.51|\n",
      "|             41.892507781| 3504159|          3.1|\n",
      "|             41.892042136| 3464383|         3.07|\n",
      "|             41.944226601| 3360422|         2.98|\n",
      "|             41.879255084| 3007653|         2.66|\n",
      "|             41.899602111| 2957402|         2.62|\n",
      "|              41.97907082| 2803153|         2.48|\n",
      "|             41.890922026| 2706143|          2.4|\n",
      "|              41.89321636| 2654648|         2.35|\n",
      "|             41.901206994| 2196778|         1.95|\n",
      "|             41.899155613| 2168188|         1.92|\n",
      "|             41.922686284| 2110665|         1.87|\n",
      "|             41.885300022| 1930477|         1.71|\n",
      "|             41.859349715| 1874086|         1.66|\n",
      "|              41.89503345| 1847653|         1.64|\n",
      "|             41.877406123| 1829737|         1.62|\n",
      "|             41.898331794| 1607048|         1.42|\n",
      "|             41.892072635| 1498261|         1.33|\n",
      "+-------------------------+--------+-------------+\n",
      "only showing top 20 rows\n",
      "\n",
      "dropoff_centroid_longitude\n",
      "+--------------------------+--------+-------------+\n",
      "|dropoff_centroid_longitude|   count|frecuencia(%)|\n",
      "+--------------------------+--------+-------------+\n",
      "|                      null|18912561|        16.76|\n",
      "|             -87.632746489| 8733923|         7.74|\n",
      "|             -87.620992913| 5085352|         4.51|\n",
      "|             -87.626214906| 3504159|          3.1|\n",
      "|              -87.63186395| 3464383|         3.07|\n",
      "|             -87.655998182| 3360422|         2.98|\n",
      "|             -87.642648998| 3007653|         2.66|\n",
      "|             -87.633308037| 2957402|         2.62|\n",
      "|             -87.903039661| 2803153|         2.48|\n",
      "|             -87.618868355| 2706143|          2.4|\n",
      "|              -87.63784421| 2654648|         2.35|\n",
      "|             -87.676355989| 2196778|         1.95|\n",
      "|             -87.626210532| 2168188|         1.92|\n",
      "|             -87.649488729| 2110665|         1.87|\n",
      "|             -87.642808466| 1930477|         1.71|\n",
      "|             -87.617358006| 1874086|         1.66|\n",
      "|             -87.619710672| 1847653|         1.64|\n",
      "|             -87.621971652| 1829737|         1.62|\n",
      "|             -87.620762865| 1607048|         1.42|\n",
      "|             -87.628874157| 1498261|         1.33|\n",
      "+--------------------------+--------+-------------+\n",
      "only showing top 20 rows\n",
      "\n"
     ]
    }
   ],
   "source": [
    "for col in numeric_vars:\n",
    "    print(col)\n",
    "    taxi_df.groupby(col).count().sort(F.col(\"count\").desc()).withColumn(\"frecuencia(%)\",\n",
    "                  F.round((100*F.col(\"count\")/n_rows),2)).show()"
   ]
  },
  {
   "cell_type": "markdown",
   "metadata": {},
   "source": [
    "### 4.9 Study the null values "
   ]
  },
  {
   "cell_type": "markdown",
   "metadata": {},
   "source": [
    "### 4.9.1 Get the number of nulls"
   ]
  },
  {
   "cell_type": "code",
   "execution_count": 31,
   "metadata": {},
   "outputs": [
    {
     "ename": "NameError",
     "evalue": "name 'nulos' is not defined",
     "output_type": "error",
     "traceback": [
      "\u001b[0;31m---------------------------------------------------------------------------\u001b[0m",
      "\u001b[0;31mNameError\u001b[0m                                 Traceback (most recent call last)",
      "\u001b[0;32m<ipython-input-31-cb2500c6c5c9>\u001b[0m in \u001b[0;36m<module>\u001b[0;34m\u001b[0m\n\u001b[1;32m      5\u001b[0m     \u001b[0mnulls\u001b[0m\u001b[0;34m[\u001b[0m\u001b[0mcolumn\u001b[0m\u001b[0;34m]\u001b[0m\u001b[0;34m=\u001b[0m\u001b[0;34m[\u001b[0m\u001b[0mn_nulls\u001b[0m\u001b[0;34m,\u001b[0m\u001b[0mround\u001b[0m\u001b[0;34m(\u001b[0m\u001b[0mperc_nulls\u001b[0m\u001b[0;34m,\u001b[0m\u001b[0;36m2\u001b[0m\u001b[0;34m)\u001b[0m\u001b[0;34m]\u001b[0m\u001b[0;34m\u001b[0m\u001b[0;34m\u001b[0m\u001b[0m\n\u001b[1;32m      6\u001b[0m \u001b[0;34m\u001b[0m\u001b[0m\n\u001b[0;32m----> 7\u001b[0;31m \u001b[0mnulls_df\u001b[0m \u001b[0;34m=\u001b[0m \u001b[0mpd\u001b[0m\u001b[0;34m.\u001b[0m\u001b[0mDataFrame\u001b[0m\u001b[0;34m(\u001b[0m\u001b[0mnulos\u001b[0m\u001b[0;34m)\u001b[0m\u001b[0;34m.\u001b[0m\u001b[0mT\u001b[0m\u001b[0;34m\u001b[0m\u001b[0;34m\u001b[0m\u001b[0m\n\u001b[0m\u001b[1;32m      8\u001b[0m \u001b[0mnulls_df\u001b[0m\u001b[0;34m.\u001b[0m\u001b[0mcolumns\u001b[0m \u001b[0;34m=\u001b[0m \u001b[0;34m[\u001b[0m\u001b[0;34m'nulls'\u001b[0m\u001b[0;34m,\u001b[0m\u001b[0;34m'% nulls'\u001b[0m\u001b[0;34m]\u001b[0m\u001b[0;34m\u001b[0m\u001b[0;34m\u001b[0m\u001b[0m\n\u001b[1;32m      9\u001b[0m \u001b[0mnulls_df\u001b[0m\u001b[0;34m\u001b[0m\u001b[0;34m\u001b[0m\u001b[0m\n",
      "\u001b[0;31mNameError\u001b[0m: name 'nulos' is not defined"
     ]
    }
   ],
   "source": [
    "nulls = {}\n",
    "for column in taxi_df.columns:\n",
    "    n_nulls = taxi_df.filter(F.col(column).isNull()).count()\n",
    "    perc_nulls = 100 * n_nulls / n_rows\n",
    "    nulls[column]=[n_nulls,round(perc_nulls,2)]\n",
    "\n",
    "nulls_df = pd.DataFrame(nulls).T\n",
    "nulls_df.columns = ['nulls','% nulls']\n",
    "nulls_df"
   ]
  },
  {
   "cell_type": "code",
   "execution_count": 32,
   "metadata": {},
   "outputs": [
    {
     "data": {
      "text/html": [
       "<div>\n",
       "<style scoped>\n",
       "    .dataframe tbody tr th:only-of-type {\n",
       "        vertical-align: middle;\n",
       "    }\n",
       "\n",
       "    .dataframe tbody tr th {\n",
       "        vertical-align: top;\n",
       "    }\n",
       "\n",
       "    .dataframe thead th {\n",
       "        text-align: right;\n",
       "    }\n",
       "</style>\n",
       "<table border=\"1\" class=\"dataframe\">\n",
       "  <thead>\n",
       "    <tr style=\"text-align: right;\">\n",
       "      <th></th>\n",
       "      <th>nulls</th>\n",
       "      <th>% nulls</th>\n",
       "    </tr>\n",
       "  </thead>\n",
       "  <tbody>\n",
       "    <tr>\n",
       "      <th>trip_id</th>\n",
       "      <td>0.0</td>\n",
       "      <td>0.00</td>\n",
       "    </tr>\n",
       "    <tr>\n",
       "      <th>taxi_id</th>\n",
       "      <td>0.0</td>\n",
       "      <td>0.00</td>\n",
       "    </tr>\n",
       "    <tr>\n",
       "      <th>trip_start_timestamp</th>\n",
       "      <td>19849.0</td>\n",
       "      <td>0.02</td>\n",
       "    </tr>\n",
       "    <tr>\n",
       "      <th>trip_end_timestamp</th>\n",
       "      <td>36021.0</td>\n",
       "      <td>0.03</td>\n",
       "    </tr>\n",
       "    <tr>\n",
       "      <th>trip_seconds</th>\n",
       "      <td>1289707.0</td>\n",
       "      <td>1.14</td>\n",
       "    </tr>\n",
       "    <tr>\n",
       "      <th>trip_miles</th>\n",
       "      <td>633.0</td>\n",
       "      <td>0.00</td>\n",
       "    </tr>\n",
       "    <tr>\n",
       "      <th>pickup_community_area</th>\n",
       "      <td>16782342.0</td>\n",
       "      <td>14.87</td>\n",
       "    </tr>\n",
       "    <tr>\n",
       "      <th>dropoff_community_area</th>\n",
       "      <td>19095838.0</td>\n",
       "      <td>16.92</td>\n",
       "    </tr>\n",
       "    <tr>\n",
       "      <th>fare</th>\n",
       "      <td>1076.0</td>\n",
       "      <td>0.00</td>\n",
       "    </tr>\n",
       "    <tr>\n",
       "      <th>tips</th>\n",
       "      <td>1076.0</td>\n",
       "      <td>0.00</td>\n",
       "    </tr>\n",
       "    <tr>\n",
       "      <th>tolls</th>\n",
       "      <td>1076.0</td>\n",
       "      <td>0.00</td>\n",
       "    </tr>\n",
       "    <tr>\n",
       "      <th>extras</th>\n",
       "      <td>1076.0</td>\n",
       "      <td>0.00</td>\n",
       "    </tr>\n",
       "    <tr>\n",
       "      <th>trip_total</th>\n",
       "      <td>1076.0</td>\n",
       "      <td>0.00</td>\n",
       "    </tr>\n",
       "    <tr>\n",
       "      <th>payment_type</th>\n",
       "      <td>243626.0</td>\n",
       "      <td>0.22</td>\n",
       "    </tr>\n",
       "    <tr>\n",
       "      <th>company</th>\n",
       "      <td>41205229.0</td>\n",
       "      <td>36.51</td>\n",
       "    </tr>\n",
       "    <tr>\n",
       "      <th>pickup_centroid_latitude</th>\n",
       "      <td>16780361.0</td>\n",
       "      <td>14.87</td>\n",
       "    </tr>\n",
       "    <tr>\n",
       "      <th>pickup_centroid_longitude</th>\n",
       "      <td>16780361.0</td>\n",
       "      <td>14.87</td>\n",
       "    </tr>\n",
       "    <tr>\n",
       "      <th>dropoff_centroid_latitude</th>\n",
       "      <td>18912561.0</td>\n",
       "      <td>16.76</td>\n",
       "    </tr>\n",
       "    <tr>\n",
       "      <th>dropoff_centroid_longitude</th>\n",
       "      <td>18912561.0</td>\n",
       "      <td>16.76</td>\n",
       "    </tr>\n",
       "  </tbody>\n",
       "</table>\n",
       "</div>"
      ],
      "text/plain": [
       "                                 nulls  % nulls\n",
       "trip_id                            0.0     0.00\n",
       "taxi_id                            0.0     0.00\n",
       "trip_start_timestamp           19849.0     0.02\n",
       "trip_end_timestamp             36021.0     0.03\n",
       "trip_seconds                 1289707.0     1.14\n",
       "trip_miles                       633.0     0.00\n",
       "pickup_community_area       16782342.0    14.87\n",
       "dropoff_community_area      19095838.0    16.92\n",
       "fare                            1076.0     0.00\n",
       "tips                            1076.0     0.00\n",
       "tolls                           1076.0     0.00\n",
       "extras                          1076.0     0.00\n",
       "trip_total                      1076.0     0.00\n",
       "payment_type                  243626.0     0.22\n",
       "company                     41205229.0    36.51\n",
       "pickup_centroid_latitude    16780361.0    14.87\n",
       "pickup_centroid_longitude   16780361.0    14.87\n",
       "dropoff_centroid_latitude   18912561.0    16.76\n",
       "dropoff_centroid_longitude  18912561.0    16.76"
      ]
     },
     "execution_count": 32,
     "metadata": {},
     "output_type": "execute_result"
    }
   ],
   "source": [
    "nulls_df = pd.DataFrame(nulls).T\n",
    "nulls_df.columns = ['nulls','% nulls']\n",
    "nulls_df"
   ]
  },
  {
   "cell_type": "markdown",
   "metadata": {},
   "source": [
    "### 4.9.2 Plot the number of nulls"
   ]
  },
  {
   "cell_type": "code",
   "execution_count": 34,
   "metadata": {},
   "outputs": [
    {
     "data": {
      "text/plain": [
       "<matplotlib.axes._subplots.AxesSubplot at 0x110e1a978>"
      ]
     },
     "execution_count": 34,
     "metadata": {},
     "output_type": "execute_result"
    },
    {
     "data": {
      "image/png": "[encoded data removed]",
      "text/plain": [
       "<Figure size 720x720 with 1 Axes>"
      ]
     },
     "metadata": {
      "needs_background": "light"
     },
     "output_type": "display_data"
    }
   ],
   "source": [
    "nulls_df.sort_values('% nulls').plot.barh(y='% nulls',figsize=(10,10))"
   ]
  },
  {
   "cell_type": "markdown",
   "metadata": {},
   "source": [
    "### 4.10 Study outliers"
   ]
  },
  {
   "cell_type": "code",
   "execution_count": 35,
   "metadata": {},
   "outputs": [
    {
     "name": "stdout",
     "output_type": "stream",
     "text": [
      "trip_seconds\n"
     ]
    },
    {
     "ename": "Py4JJavaError",
     "evalue": "An error occurred while calling o523.approxQuantile.\n: org.apache.spark.SparkException: Job aborted due to stage failure: Task 0 in stage 93.0 failed 1 times, most recent failure: Lost task 0.0 in stage 93.0 (TID 4073, localhost, executor driver): ExecutorLostFailure (executor driver exited caused by one of the running tasks) Reason: Executor heartbeat timed out after 3110931 ms\nDriver stacktrace:\n\tat org.apache.spark.scheduler.DAGScheduler.org$apache$spark$scheduler$DAGScheduler$$failJobAndIndependentStages(DAGScheduler.scala:1887)\n\tat org.apache.spark.scheduler.DAGScheduler$$anonfun$abortStage$1.apply(DAGScheduler.scala:1875)\n\tat org.apache.spark.scheduler.DAGScheduler$$anonfun$abortStage$1.apply(DAGScheduler.scala:1874)\n\tat scala.collection.mutable.ResizableArray$class.foreach(ResizableArray.scala:59)\n\tat scala.collection.mutable.ArrayBuffer.foreach(ArrayBuffer.scala:48)\n\tat org.apache.spark.scheduler.DAGScheduler.abortStage(DAGScheduler.scala:1874)\n\tat org.apache.spark.scheduler.DAGScheduler$$anonfun$handleTaskSetFailed$1.apply(DAGScheduler.scala:926)\n\tat org.apache.spark.scheduler.DAGScheduler$$anonfun$handleTaskSetFailed$1.apply(DAGScheduler.scala:926)\n\tat scala.Option.foreach(Option.scala:257)\n\tat org.apache.spark.scheduler.DAGScheduler.handleTaskSetFailed(DAGScheduler.scala:926)\n\tat org.apache.spark.scheduler.DAGSchedulerEventProcessLoop.doOnReceive(DAGScheduler.scala:2108)\n\tat org.apache.spark.scheduler.DAGSchedulerEventProcessLoop.onReceive(DAGScheduler.scala:2057)\n\tat org.apache.spark.scheduler.DAGSchedulerEventProcessLoop.onReceive(DAGScheduler.scala:2046)\n\tat org.apache.spark.util.EventLoop$$anon$1.run(EventLoop.scala:49)\n\tat org.apache.spark.scheduler.DAGScheduler.runJob(DAGScheduler.scala:737)\n\tat org.apache.spark.SparkContext.runJob(SparkContext.scala:2061)\n\tat org.apache.spark.SparkContext.runJob(SparkContext.scala:2158)\n\tat org.apache.spark.rdd.RDD$$anonfun$fold$1.apply(RDD.scala:1098)\n\tat org.apache.spark.rdd.RDDOperationScope$.withScope(RDDOperationScope.scala:151)\n\tat org.apache.spark.rdd.RDDOperationScope$.withScope(RDDOperationScope.scala:112)\n\tat org.apache.spark.rdd.RDD.withScope(RDD.scala:363)\n\tat org.apache.spark.rdd.RDD.fold(RDD.scala:1092)\n\tat org.apache.spark.rdd.RDD$$anonfun$treeAggregate$1.apply(RDD.scala:1161)\n\tat org.apache.spark.rdd.RDDOperationScope$.withScope(RDDOperationScope.scala:151)\n\tat org.apache.spark.rdd.RDDOperationScope$.withScope(RDDOperationScope.scala:112)\n\tat org.apache.spark.rdd.RDD.withScope(RDD.scala:363)\n\tat org.apache.spark.rdd.RDD.treeAggregate(RDD.scala:1137)\n\tat org.apache.spark.sql.execution.stat.StatFunctions$.multipleApproxQuantiles(StatFunctions.scala:102)\n\tat org.apache.spark.sql.DataFrameStatFunctions.approxQuantile(DataFrameStatFunctions.scala:100)\n\tat org.apache.spark.sql.DataFrameStatFunctions.approxQuantile(DataFrameStatFunctions.scala:115)\n\tat sun.reflect.NativeMethodAccessorImpl.invoke0(Native Method)\n\tat sun.reflect.NativeMethodAccessorImpl.invoke(NativeMethodAccessorImpl.java:62)\n\tat sun.reflect.DelegatingMethodAccessorImpl.invoke(DelegatingMethodAccessorImpl.java:43)\n\tat java.lang.reflect.Method.invoke(Method.java:498)\n\tat py4j.reflection.MethodInvoker.invoke(MethodInvoker.java:244)\n\tat py4j.reflection.ReflectionEngine.invoke(ReflectionEngine.java:357)\n\tat py4j.Gateway.invoke(Gateway.java:282)\n\tat py4j.commands.AbstractCommand.invokeMethod(AbstractCommand.java:132)\n\tat py4j.commands.CallCommand.execute(CallCommand.java:79)\n\tat py4j.GatewayConnection.run(GatewayConnection.java:238)\n\tat java.lang.Thread.run(Thread.java:748)\n",
     "output_type": "error",
     "traceback": [
      "\u001b[0;31m---------------------------------------------------------------------------\u001b[0m",
      "\u001b[0;31mPy4JJavaError\u001b[0m                             Traceback (most recent call last)",
      "\u001b[0;32m<ipython-input-35-a2ba61f36fa6>\u001b[0m in \u001b[0;36m<module>\u001b[0;34m\u001b[0m\n\u001b[1;32m      5\u001b[0m                                 \u001b[0mF\u001b[0m\u001b[0;34m.\u001b[0m\u001b[0mmax\u001b[0m\u001b[0;34m(\u001b[0m\u001b[0mnum_var\u001b[0m\u001b[0;34m)\u001b[0m\u001b[0;34m.\u001b[0m\u001b[0malias\u001b[0m\u001b[0;34m(\u001b[0m\u001b[0;34m\"max\"\u001b[0m\u001b[0;34m)\u001b[0m\u001b[0;34m,\u001b[0m\u001b[0;34m\u001b[0m\u001b[0;34m\u001b[0m\u001b[0m\n\u001b[1;32m      6\u001b[0m                                 F.round(F.stddev(num_var), 2).alias(\"stddv\"))\n\u001b[0;32m----> 7\u001b[0;31m     \u001b[0mq1\u001b[0m\u001b[0;34m,\u001b[0m \u001b[0mmedian\u001b[0m\u001b[0;34m,\u001b[0m \u001b[0mq3\u001b[0m \u001b[0;34m=\u001b[0m \u001b[0mtaxi_df\u001b[0m\u001b[0;34m.\u001b[0m\u001b[0mapproxQuantile\u001b[0m\u001b[0;34m(\u001b[0m\u001b[0mnum_var\u001b[0m\u001b[0;34m,\u001b[0m \u001b[0;34m[\u001b[0m\u001b[0;36m0.25\u001b[0m\u001b[0;34m,\u001b[0m \u001b[0;36m0.5\u001b[0m\u001b[0;34m,\u001b[0m \u001b[0;36m0.75\u001b[0m\u001b[0;34m]\u001b[0m\u001b[0;34m,\u001b[0m \u001b[0;36m0\u001b[0m\u001b[0;34m)\u001b[0m\u001b[0;34m\u001b[0m\u001b[0;34m\u001b[0m\u001b[0m\n\u001b[0m\u001b[1;32m      8\u001b[0m     \u001b[0mdescribe\u001b[0m \u001b[0;34m=\u001b[0m \u001b[0mdescribe\u001b[0m\u001b[0;34m.\u001b[0m\u001b[0mwithColumn\u001b[0m\u001b[0;34m(\u001b[0m\u001b[0;34m\"q1\"\u001b[0m\u001b[0;34m,\u001b[0m \u001b[0mF\u001b[0m\u001b[0;34m.\u001b[0m\u001b[0mlit\u001b[0m\u001b[0;34m(\u001b[0m\u001b[0mq1\u001b[0m\u001b[0;34m)\u001b[0m\u001b[0;34m)\u001b[0m\u001b[0;34m\u001b[0m\u001b[0;34m\u001b[0m\u001b[0m\n\u001b[1;32m      9\u001b[0m     \u001b[0mdescribe\u001b[0m \u001b[0;34m=\u001b[0m \u001b[0mdescribe\u001b[0m\u001b[0;34m.\u001b[0m\u001b[0mwithColumn\u001b[0m\u001b[0;34m(\u001b[0m\u001b[0;34m\"median\"\u001b[0m\u001b[0;34m,\u001b[0m \u001b[0mF\u001b[0m\u001b[0;34m.\u001b[0m\u001b[0mlit\u001b[0m\u001b[0;34m(\u001b[0m\u001b[0mmedian\u001b[0m\u001b[0;34m)\u001b[0m\u001b[0;34m)\u001b[0m\u001b[0;34m\u001b[0m\u001b[0;34m\u001b[0m\u001b[0m\n",
      "\u001b[0;32m/anaconda3/lib/python3.6/site-packages/pyspark/sql/dataframe.py\u001b[0m in \u001b[0;36mapproxQuantile\u001b[0;34m(self, col, probabilities, relativeError)\u001b[0m\n\u001b[1;32m   1882\u001b[0m         \u001b[0mrelativeError\u001b[0m \u001b[0;34m=\u001b[0m \u001b[0mfloat\u001b[0m\u001b[0;34m(\u001b[0m\u001b[0mrelativeError\u001b[0m\u001b[0;34m)\u001b[0m\u001b[0;34m\u001b[0m\u001b[0;34m\u001b[0m\u001b[0m\n\u001b[1;32m   1883\u001b[0m \u001b[0;34m\u001b[0m\u001b[0m\n\u001b[0;32m-> 1884\u001b[0;31m         \u001b[0mjaq\u001b[0m \u001b[0;34m=\u001b[0m \u001b[0mself\u001b[0m\u001b[0;34m.\u001b[0m\u001b[0m_jdf\u001b[0m\u001b[0;34m.\u001b[0m\u001b[0mstat\u001b[0m\u001b[0;34m(\u001b[0m\u001b[0;34m)\u001b[0m\u001b[0;34m.\u001b[0m\u001b[0mapproxQuantile\u001b[0m\u001b[0;34m(\u001b[0m\u001b[0mcol\u001b[0m\u001b[0;34m,\u001b[0m \u001b[0mprobabilities\u001b[0m\u001b[0;34m,\u001b[0m \u001b[0mrelativeError\u001b[0m\u001b[0;34m)\u001b[0m\u001b[0;34m\u001b[0m\u001b[0;34m\u001b[0m\u001b[0m\n\u001b[0m\u001b[1;32m   1885\u001b[0m         \u001b[0mjaq_list\u001b[0m \u001b[0;34m=\u001b[0m \u001b[0;34m[\u001b[0m\u001b[0mlist\u001b[0m\u001b[0;34m(\u001b[0m\u001b[0mj\u001b[0m\u001b[0;34m)\u001b[0m \u001b[0;32mfor\u001b[0m \u001b[0mj\u001b[0m \u001b[0;32min\u001b[0m \u001b[0mjaq\u001b[0m\u001b[0;34m]\u001b[0m\u001b[0;34m\u001b[0m\u001b[0;34m\u001b[0m\u001b[0m\n\u001b[1;32m   1886\u001b[0m         \u001b[0;32mreturn\u001b[0m \u001b[0mjaq_list\u001b[0m\u001b[0;34m[\u001b[0m\u001b[0;36m0\u001b[0m\u001b[0;34m]\u001b[0m \u001b[0;32mif\u001b[0m \u001b[0misStr\u001b[0m \u001b[0;32melse\u001b[0m \u001b[0mjaq_list\u001b[0m\u001b[0;34m\u001b[0m\u001b[0;34m\u001b[0m\u001b[0m\n",
      "\u001b[0;32m/anaconda3/lib/python3.6/site-packages/pyspark/python/lib/py4j-0.10.7-src.zip/py4j/java_gateway.py\u001b[0m in \u001b[0;36m__call__\u001b[0;34m(self, *args)\u001b[0m\n\u001b[1;32m   1255\u001b[0m         \u001b[0manswer\u001b[0m \u001b[0;34m=\u001b[0m \u001b[0mself\u001b[0m\u001b[0;34m.\u001b[0m\u001b[0mgateway_client\u001b[0m\u001b[0;34m.\u001b[0m\u001b[0msend_command\u001b[0m\u001b[0;34m(\u001b[0m\u001b[0mcommand\u001b[0m\u001b[0;34m)\u001b[0m\u001b[0;34m\u001b[0m\u001b[0;34m\u001b[0m\u001b[0m\n\u001b[1;32m   1256\u001b[0m         return_value = get_return_value(\n\u001b[0;32m-> 1257\u001b[0;31m             answer, self.gateway_client, self.target_id, self.name)\n\u001b[0m\u001b[1;32m   1258\u001b[0m \u001b[0;34m\u001b[0m\u001b[0m\n\u001b[1;32m   1259\u001b[0m         \u001b[0;32mfor\u001b[0m \u001b[0mtemp_arg\u001b[0m \u001b[0;32min\u001b[0m \u001b[0mtemp_args\u001b[0m\u001b[0;34m:\u001b[0m\u001b[0;34m\u001b[0m\u001b[0;34m\u001b[0m\u001b[0m\n",
      "\u001b[0;32m/anaconda3/lib/python3.6/site-packages/pyspark/sql/utils.py\u001b[0m in \u001b[0;36mdeco\u001b[0;34m(*a, **kw)\u001b[0m\n\u001b[1;32m     61\u001b[0m     \u001b[0;32mdef\u001b[0m \u001b[0mdeco\u001b[0m\u001b[0;34m(\u001b[0m\u001b[0;34m*\u001b[0m\u001b[0ma\u001b[0m\u001b[0;34m,\u001b[0m \u001b[0;34m**\u001b[0m\u001b[0mkw\u001b[0m\u001b[0;34m)\u001b[0m\u001b[0;34m:\u001b[0m\u001b[0;34m\u001b[0m\u001b[0;34m\u001b[0m\u001b[0m\n\u001b[1;32m     62\u001b[0m         \u001b[0;32mtry\u001b[0m\u001b[0;34m:\u001b[0m\u001b[0;34m\u001b[0m\u001b[0;34m\u001b[0m\u001b[0m\n\u001b[0;32m---> 63\u001b[0;31m             \u001b[0;32mreturn\u001b[0m \u001b[0mf\u001b[0m\u001b[0;34m(\u001b[0m\u001b[0;34m*\u001b[0m\u001b[0ma\u001b[0m\u001b[0;34m,\u001b[0m \u001b[0;34m**\u001b[0m\u001b[0mkw\u001b[0m\u001b[0;34m)\u001b[0m\u001b[0;34m\u001b[0m\u001b[0;34m\u001b[0m\u001b[0m\n\u001b[0m\u001b[1;32m     64\u001b[0m         \u001b[0;32mexcept\u001b[0m \u001b[0mpy4j\u001b[0m\u001b[0;34m.\u001b[0m\u001b[0mprotocol\u001b[0m\u001b[0;34m.\u001b[0m\u001b[0mPy4JJavaError\u001b[0m \u001b[0;32mas\u001b[0m \u001b[0me\u001b[0m\u001b[0;34m:\u001b[0m\u001b[0;34m\u001b[0m\u001b[0;34m\u001b[0m\u001b[0m\n\u001b[1;32m     65\u001b[0m             \u001b[0ms\u001b[0m \u001b[0;34m=\u001b[0m \u001b[0me\u001b[0m\u001b[0;34m.\u001b[0m\u001b[0mjava_exception\u001b[0m\u001b[0;34m.\u001b[0m\u001b[0mtoString\u001b[0m\u001b[0;34m(\u001b[0m\u001b[0;34m)\u001b[0m\u001b[0;34m\u001b[0m\u001b[0;34m\u001b[0m\u001b[0m\n",
      "\u001b[0;32m/anaconda3/lib/python3.6/site-packages/pyspark/python/lib/py4j-0.10.7-src.zip/py4j/protocol.py\u001b[0m in \u001b[0;36mget_return_value\u001b[0;34m(answer, gateway_client, target_id, name)\u001b[0m\n\u001b[1;32m    326\u001b[0m                 raise Py4JJavaError(\n\u001b[1;32m    327\u001b[0m                     \u001b[0;34m\"An error occurred while calling {0}{1}{2}.\\n\"\u001b[0m\u001b[0;34m.\u001b[0m\u001b[0;34m\u001b[0m\u001b[0;34m\u001b[0m\u001b[0m\n\u001b[0;32m--> 328\u001b[0;31m                     format(target_id, \".\", name), value)\n\u001b[0m\u001b[1;32m    329\u001b[0m             \u001b[0;32melse\u001b[0m\u001b[0;34m:\u001b[0m\u001b[0;34m\u001b[0m\u001b[0;34m\u001b[0m\u001b[0m\n\u001b[1;32m    330\u001b[0m                 raise Py4JError(\n",
      "\u001b[0;31mPy4JJavaError\u001b[0m: An error occurred while calling o523.approxQuantile.\n: org.apache.spark.SparkException: Job aborted due to stage failure: Task 0 in stage 93.0 failed 1 times, most recent failure: Lost task 0.0 in stage 93.0 (TID 4073, localhost, executor driver): ExecutorLostFailure (executor driver exited caused by one of the running tasks) Reason: Executor heartbeat timed out after 3110931 ms\nDriver stacktrace:\n\tat org.apache.spark.scheduler.DAGScheduler.org$apache$spark$scheduler$DAGScheduler$$failJobAndIndependentStages(DAGScheduler.scala:1887)\n\tat org.apache.spark.scheduler.DAGScheduler$$anonfun$abortStage$1.apply(DAGScheduler.scala:1875)\n\tat org.apache.spark.scheduler.DAGScheduler$$anonfun$abortStage$1.apply(DAGScheduler.scala:1874)\n\tat scala.collection.mutable.ResizableArray$class.foreach(ResizableArray.scala:59)\n\tat scala.collection.mutable.ArrayBuffer.foreach(ArrayBuffer.scala:48)\n\tat org.apache.spark.scheduler.DAGScheduler.abortStage(DAGScheduler.scala:1874)\n\tat org.apache.spark.scheduler.DAGScheduler$$anonfun$handleTaskSetFailed$1.apply(DAGScheduler.scala:926)\n\tat org.apache.spark.scheduler.DAGScheduler$$anonfun$handleTaskSetFailed$1.apply(DAGScheduler.scala:926)\n\tat scala.Option.foreach(Option.scala:257)\n\tat org.apache.spark.scheduler.DAGScheduler.handleTaskSetFailed(DAGScheduler.scala:926)\n\tat org.apache.spark.scheduler.DAGSchedulerEventProcessLoop.doOnReceive(DAGScheduler.scala:2108)\n\tat org.apache.spark.scheduler.DAGSchedulerEventProcessLoop.onReceive(DAGScheduler.scala:2057)\n\tat org.apache.spark.scheduler.DAGSchedulerEventProcessLoop.onReceive(DAGScheduler.scala:2046)\n\tat org.apache.spark.util.EventLoop$$anon$1.run(EventLoop.scala:49)\n\tat org.apache.spark.scheduler.DAGScheduler.runJob(DAGScheduler.scala:737)\n\tat org.apache.spark.SparkContext.runJob(SparkContext.scala:2061)\n\tat org.apache.spark.SparkContext.runJob(SparkContext.scala:2158)\n\tat org.apache.spark.rdd.RDD$$anonfun$fold$1.apply(RDD.scala:1098)\n\tat org.apache.spark.rdd.RDDOperationScope$.withScope(RDDOperationScope.scala:151)\n\tat org.apache.spark.rdd.RDDOperationScope$.withScope(RDDOperationScope.scala:112)\n\tat org.apache.spark.rdd.RDD.withScope(RDD.scala:363)\n\tat org.apache.spark.rdd.RDD.fold(RDD.scala:1092)\n\tat org.apache.spark.rdd.RDD$$anonfun$treeAggregate$1.apply(RDD.scala:1161)\n\tat org.apache.spark.rdd.RDDOperationScope$.withScope(RDDOperationScope.scala:151)\n\tat org.apache.spark.rdd.RDDOperationScope$.withScope(RDDOperationScope.scala:112)\n\tat org.apache.spark.rdd.RDD.withScope(RDD.scala:363)\n\tat org.apache.spark.rdd.RDD.treeAggregate(RDD.scala:1137)\n\tat org.apache.spark.sql.execution.stat.StatFunctions$.multipleApproxQuantiles(StatFunctions.scala:102)\n\tat org.apache.spark.sql.DataFrameStatFunctions.approxQuantile(DataFrameStatFunctions.scala:100)\n\tat org.apache.spark.sql.DataFrameStatFunctions.approxQuantile(DataFrameStatFunctions.scala:115)\n\tat sun.reflect.NativeMethodAccessorImpl.invoke0(Native Method)\n\tat sun.reflect.NativeMethodAccessorImpl.invoke(NativeMethodAccessorImpl.java:62)\n\tat sun.reflect.DelegatingMethodAccessorImpl.invoke(DelegatingMethodAccessorImpl.java:43)\n\tat java.lang.reflect.Method.invoke(Method.java:498)\n\tat py4j.reflection.MethodInvoker.invoke(MethodInvoker.java:244)\n\tat py4j.reflection.ReflectionEngine.invoke(ReflectionEngine.java:357)\n\tat py4j.Gateway.invoke(Gateway.java:282)\n\tat py4j.commands.AbstractCommand.invokeMethod(AbstractCommand.java:132)\n\tat py4j.commands.CallCommand.execute(CallCommand.java:79)\n\tat py4j.GatewayConnection.run(GatewayConnection.java:238)\n\tat java.lang.Thread.run(Thread.java:748)\n"
     ]
    }
   ],
   "source": [
    "for num_var in numeric_vars:\n",
    "    print(num_var)\n",
    "    describe = taxi_df.select(F.round(F.mean(num_var), 2).alias(\"mean\"),\n",
    "                                F.min(num_var).alias(\"min\"),\n",
    "                                F.max(num_var).alias(\"max\"),\n",
    "                                F.round(F.stddev(num_var), 2).alias(\"stddv\"))\n",
    "    q1, median, q3 = taxi_df.approxQuantile(num_var, [0.25, 0.5, 0.75], 0)\n",
    "    describe = describe.withColumn(\"q1\", F.lit(q1))\n",
    "    describe = describe.withColumn(\"median\", F.lit(median))\n",
    "    describe = describe.withColumn(\"q3\", F.lit(q3))\n",
    "    describe = describe.withColumn(\"iqr\", F.lit(q3-q1))\n",
    "    describe.show()"
   ]
  },
  {
   "cell_type": "markdown",
   "metadata": {},
   "source": [
    "## 5 Clean the dataset"
   ]
  },
  {
   "cell_type": "markdown",
   "metadata": {},
   "source": [
    "### 5.1 Drop the trips with null values"
   ]
  },
  {
   "cell_type": "code",
   "execution_count": null,
   "metadata": {},
   "outputs": [],
   "source": [
    "taxi_df = taxi_df.dropna(how='any',\n",
    "                         subset=['trip_id',\n",
    "                                  'taxi_id',\n",
    "                                  'trip_start_timestamp',\n",
    "                                  'trip_end_timestamp',\n",
    "                                  'trip_seconds',\n",
    "                                  'trip_miles',\n",
    "                                  'pickup_community_area',\n",
    "                                  'dropoff_community_area',\n",
    "                                  'fare',\n",
    "                                  'tips',\n",
    "                                  'tolls',\n",
    "                                  'extras',\n",
    "                                  'trip_total',\n",
    "                                  'payment_type',\n",
    "                                  'company',\n",
    "                                  'pickup_centroid_latitude',\n",
    "                                  'pickup_centroid_longitude',\n",
    "                                  'dropoff_centroid_latitude',\n",
    "                                  'dropoff_centroid_longitude'])"
   ]
  },
  {
   "cell_type": "code",
   "execution_count": null,
   "metadata": {},
   "outputs": [],
   "source": [
    "taxi_df.count()"
   ]
  },
  {
   "cell_type": "markdown",
   "metadata": {},
   "source": [
    "### 5.2 Drop the trips with extrange values"
   ]
  },
  {
   "cell_type": "code",
   "execution_count": null,
   "metadata": {},
   "outputs": [],
   "source": [
    "taxi_df = taxi_df.filter((F.col(\"trip_start_timestamp\") <= (F.col(\"trip_end_timestamp\"))) &\n",
    "                (F.col(\"trip_seconds\") > 0) &\n",
    "                (F.col(\"trip_miles\") > 0) &\n",
    "                (F.col(\"fare\") > 0) &\n",
    "                (F.col(\"tips\") >= 0) &\n",
    "                (F.col(\"tolls\") >= 0) &\n",
    "                (F.col(\"extras\") >= 0) &\n",
    "                (F.col(\"trip_total\") > 0))"
   ]
  },
  {
   "cell_type": "code",
   "execution_count": null,
   "metadata": {},
   "outputs": [],
   "source": [
    "taxi_df.count()"
   ]
  }
 ],
 "metadata": {
  "kernelspec": {
   "display_name": "Python 3",
   "language": "python",
   "name": "python3"
  },
  "language_info": {
   "codemirror_mode": {
    "name": "ipython",
    "version": 3
   },
   "file_extension": ".py",
   "mimetype": "text/x-python",
   "name": "python",
   "nbconvert_exporter": "python",
   "pygments_lexer": "ipython3",
   "version": "3.6.8"
  }
 },
 "nbformat": 4,
 "nbformat_minor": 2
}
