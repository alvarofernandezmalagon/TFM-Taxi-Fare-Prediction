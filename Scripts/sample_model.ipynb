{
 "cells": [
  {
   "cell_type": "markdown",
   "metadata": {},
   "source": [
    "# Analysis and Modelling\n",
    "\n",
    "The objective of this notebook is to carry out the exploration of different modeling methods, which will allow us to observe which one best adapts to our data and its hyperparameters.\n",
    "\n",
    "The first thing we will do is to test the different models and calculate the hyperparameters that best fit our dataset. For this we will model with the example csv `taxi_model_sample001.csv` obtained in the notebook `final_eda.ipynb`.\n",
    "\n",
    "Once we have chosen the model and the hyperparameters we will model with the complete csv `taxi_model.csv` in the notebook `final_model.ipynb`."
   ]
  },
  {
   "cell_type": "markdown",
   "metadata": {},
   "source": [
    "## Chicago Coordinates \n",
    "-87.6244212, 41.8755616"
   ]
  },
  {
   "cell_type": "markdown",
   "metadata": {},
   "source": [
    "## 1 Load the libraries"
   ]
  },
  {
   "cell_type": "code",
   "execution_count": 1,
   "metadata": {},
   "outputs": [],
   "source": [
    "# We load the libraries we are going to use in our analysis\n",
    "\n",
    "# Libraries to manage our dataset\n",
    "%matplotlib inline\n",
    "import pandas as pd\n",
    "import numpy as np\n",
    "from datetime import datetime\n",
    "from math import sqrt\n",
    "import matplotlib.pyplot as plt\n",
    "pd.options.display.max_columns = None\n",
    "\n",
    "# Libraries for modelling\n",
    "from sklearn.model_selection import train_test_split\n",
    "from sklearn.tree import DecisionTreeRegressor\n",
    "from sklearn.ensemble import RandomForestRegressor\n",
    "from sklearn.ensemble import BaggingRegressor\n",
    "from xgboost import XGBRegressor\n",
    "\n",
    "# A library that will allow us to measure how good our model is.\n",
    "from sklearn.metrics import mean_squared_error"
   ]
  },
  {
   "cell_type": "markdown",
   "metadata": {},
   "source": [
    "## 2 Read the data"
   ]
  },
  {
   "cell_type": "markdown",
   "metadata": {},
   "source": [
    "In this section we are going to load our sample dataset and we are going to divide it in train, validation and test. While train and validation will use it to get the best model, the test will save it to finally check how good is the model created."
   ]
  },
  {
   "cell_type": "markdown",
   "metadata": {},
   "source": [
    "### 2.1 We load csv example"
   ]
  },
  {
   "cell_type": "code",
   "execution_count": 2,
   "metadata": {},
   "outputs": [],
   "source": [
    "chicago_trips = pd.read_csv('../Data/taxi_model_sample001.csv')"
   ]
  },
  {
   "cell_type": "markdown",
   "metadata": {},
   "source": [
    "### 2.2 We check that it has been loaded correctly"
   ]
  },
  {
   "cell_type": "code",
   "execution_count": 3,
   "metadata": {},
   "outputs": [
    {
     "data": {
      "text/html": [
       "<div>\n",
       "<style scoped>\n",
       "    .dataframe tbody tr th:only-of-type {\n",
       "        vertical-align: middle;\n",
       "    }\n",
       "\n",
       "    .dataframe tbody tr th {\n",
       "        vertical-align: top;\n",
       "    }\n",
       "\n",
       "    .dataframe thead th {\n",
       "        text-align: right;\n",
       "    }\n",
       "</style>\n",
       "<table border=\"1\" class=\"dataframe\">\n",
       "  <thead>\n",
       "    <tr style=\"text-align: right;\">\n",
       "      <th></th>\n",
       "      <th>trip_id</th>\n",
       "      <th>trip_seconds</th>\n",
       "      <th>pickup_community_area</th>\n",
       "      <th>dropoff_community_area</th>\n",
       "      <th>fare</th>\n",
       "      <th>payment_type</th>\n",
       "      <th>company</th>\n",
       "      <th>pickup_centroid_latitude</th>\n",
       "      <th>pickup_centroid_longitude</th>\n",
       "      <th>dropoff_centroid_latitude</th>\n",
       "      <th>dropoff_centroid_longitude</th>\n",
       "      <th>humidity</th>\n",
       "      <th>pressure</th>\n",
       "      <th>temperature</th>\n",
       "      <th>weather_description</th>\n",
       "      <th>wind_direction</th>\n",
       "      <th>wind_speed</th>\n",
       "      <th>year</th>\n",
       "      <th>month</th>\n",
       "      <th>day</th>\n",
       "      <th>week_day</th>\n",
       "      <th>hour</th>\n",
       "      <th>minute</th>\n",
       "      <th>distance_miles</th>\n",
       "      <th>distance_ord</th>\n",
       "      <th>distance_mdw</th>\n",
       "      <th>taxi_id_ind</th>\n",
       "      <th>payment_type_ind</th>\n",
       "    </tr>\n",
       "  </thead>\n",
       "  <tbody>\n",
       "    <tr>\n",
       "      <th>73119</th>\n",
       "      <td>3b456ff0a3fde82d1dcb79bce9f899c646a47022</td>\n",
       "      <td>840</td>\n",
       "      <td>24</td>\n",
       "      <td>32</td>\n",
       "      <td>9.25</td>\n",
       "      <td>Cash</td>\n",
       "      <td>Taxi Affiliation Services</td>\n",
       "      <td>41.892658</td>\n",
       "      <td>-87.652534</td>\n",
       "      <td>41.880994</td>\n",
       "      <td>-87.632746</td>\n",
       "      <td>93.0</td>\n",
       "      <td>1018.0</td>\n",
       "      <td>291.290000</td>\n",
       "      <td>fog</td>\n",
       "      <td>72.0</td>\n",
       "      <td>1.0</td>\n",
       "      <td>2016</td>\n",
       "      <td>8</td>\n",
       "      <td>1</td>\n",
       "      <td>2</td>\n",
       "      <td>9</td>\n",
       "      <td>0</td>\n",
       "      <td>1.588142</td>\n",
       "      <td>18.426138</td>\n",
       "      <td>10.096882</td>\n",
       "      <td>735</td>\n",
       "      <td>0</td>\n",
       "    </tr>\n",
       "    <tr>\n",
       "      <th>82342</th>\n",
       "      <td>363263966144ea8c885a9a51f5b34ee68b7ba2bf</td>\n",
       "      <td>1500</td>\n",
       "      <td>32</td>\n",
       "      <td>76</td>\n",
       "      <td>36.25</td>\n",
       "      <td>Credit Card</td>\n",
       "      <td>Taxi Affiliation Services</td>\n",
       "      <td>41.880994</td>\n",
       "      <td>-87.632746</td>\n",
       "      <td>41.979071</td>\n",
       "      <td>-87.903040</td>\n",
       "      <td>100.0</td>\n",
       "      <td>1034.0</td>\n",
       "      <td>265.065000</td>\n",
       "      <td>few clouds</td>\n",
       "      <td>221.0</td>\n",
       "      <td>5.0</td>\n",
       "      <td>2015</td>\n",
       "      <td>1</td>\n",
       "      <td>15</td>\n",
       "      <td>5</td>\n",
       "      <td>14</td>\n",
       "      <td>15</td>\n",
       "      <td>19.885248</td>\n",
       "      <td>0.120623</td>\n",
       "      <td>10.561540</td>\n",
       "      <td>247</td>\n",
       "      <td>1</td>\n",
       "    </tr>\n",
       "    <tr>\n",
       "      <th>257266</th>\n",
       "      <td>e0d3bbe414b76ddf37508fe98960355be9a121db</td>\n",
       "      <td>360</td>\n",
       "      <td>8</td>\n",
       "      <td>32</td>\n",
       "      <td>5.65</td>\n",
       "      <td>Credit Card</td>\n",
       "      <td>Taxi Affiliation Services</td>\n",
       "      <td>41.892042</td>\n",
       "      <td>-87.631864</td>\n",
       "      <td>41.884987</td>\n",
       "      <td>-87.620993</td>\n",
       "      <td>97.0</td>\n",
       "      <td>1031.0</td>\n",
       "      <td>287.059000</td>\n",
       "      <td>light rain</td>\n",
       "      <td>32.0</td>\n",
       "      <td>1.0</td>\n",
       "      <td>2014</td>\n",
       "      <td>6</td>\n",
       "      <td>26</td>\n",
       "      <td>5</td>\n",
       "      <td>17</td>\n",
       "      <td>15</td>\n",
       "      <td>0.895981</td>\n",
       "      <td>19.797888</td>\n",
       "      <td>11.096865</td>\n",
       "      <td>1064</td>\n",
       "      <td>1</td>\n",
       "    </tr>\n",
       "    <tr>\n",
       "      <th>82771</th>\n",
       "      <td>4eaad09f9a58fb1392392331e540cd5a8b663510</td>\n",
       "      <td>360</td>\n",
       "      <td>8</td>\n",
       "      <td>32</td>\n",
       "      <td>5.75</td>\n",
       "      <td>Credit Card</td>\n",
       "      <td>Dispatch Taxi Affiliation</td>\n",
       "      <td>41.892508</td>\n",
       "      <td>-87.626215</td>\n",
       "      <td>41.880994</td>\n",
       "      <td>-87.632746</td>\n",
       "      <td>93.0</td>\n",
       "      <td>1012.0</td>\n",
       "      <td>294.890000</td>\n",
       "      <td>light rain</td>\n",
       "      <td>355.0</td>\n",
       "      <td>0.0</td>\n",
       "      <td>2016</td>\n",
       "      <td>8</td>\n",
       "      <td>16</td>\n",
       "      <td>3</td>\n",
       "      <td>8</td>\n",
       "      <td>45</td>\n",
       "      <td>0.914452</td>\n",
       "      <td>19.983967</td>\n",
       "      <td>10.561540</td>\n",
       "      <td>114</td>\n",
       "      <td>1</td>\n",
       "    </tr>\n",
       "    <tr>\n",
       "      <th>110525</th>\n",
       "      <td>a99194b9786b54690d8c5f8c265fcdba8051fb4d</td>\n",
       "      <td>420</td>\n",
       "      <td>32</td>\n",
       "      <td>33</td>\n",
       "      <td>6.45</td>\n",
       "      <td>Cash</td>\n",
       "      <td>Taxi Affiliation Services</td>\n",
       "      <td>41.878866</td>\n",
       "      <td>-87.625192</td>\n",
       "      <td>41.857184</td>\n",
       "      <td>-87.620335</td>\n",
       "      <td>73.0</td>\n",
       "      <td>1026.0</td>\n",
       "      <td>270.108965</td>\n",
       "      <td>broken clouds</td>\n",
       "      <td>269.0</td>\n",
       "      <td>6.0</td>\n",
       "      <td>2015</td>\n",
       "      <td>12</td>\n",
       "      <td>31</td>\n",
       "      <td>5</td>\n",
       "      <td>17</td>\n",
       "      <td>45</td>\n",
       "      <td>1.534466</td>\n",
       "      <td>20.525505</td>\n",
       "      <td>10.376098</td>\n",
       "      <td>280</td>\n",
       "      <td>0</td>\n",
       "    </tr>\n",
       "  </tbody>\n",
       "</table>\n",
       "</div>"
      ],
      "text/plain": [
       "                                         trip_id  trip_seconds  \\\n",
       "73119   3b456ff0a3fde82d1dcb79bce9f899c646a47022           840   \n",
       "82342   363263966144ea8c885a9a51f5b34ee68b7ba2bf          1500   \n",
       "257266  e0d3bbe414b76ddf37508fe98960355be9a121db           360   \n",
       "82771   4eaad09f9a58fb1392392331e540cd5a8b663510           360   \n",
       "110525  a99194b9786b54690d8c5f8c265fcdba8051fb4d           420   \n",
       "\n",
       "        pickup_community_area  dropoff_community_area   fare payment_type  \\\n",
       "73119                      24                      32   9.25         Cash   \n",
       "82342                      32                      76  36.25  Credit Card   \n",
       "257266                      8                      32   5.65  Credit Card   \n",
       "82771                       8                      32   5.75  Credit Card   \n",
       "110525                     32                      33   6.45         Cash   \n",
       "\n",
       "                          company  pickup_centroid_latitude  \\\n",
       "73119   Taxi Affiliation Services                 41.892658   \n",
       "82342   Taxi Affiliation Services                 41.880994   \n",
       "257266  Taxi Affiliation Services                 41.892042   \n",
       "82771   Dispatch Taxi Affiliation                 41.892508   \n",
       "110525  Taxi Affiliation Services                 41.878866   \n",
       "\n",
       "        pickup_centroid_longitude  dropoff_centroid_latitude  \\\n",
       "73119                  -87.652534                  41.880994   \n",
       "82342                  -87.632746                  41.979071   \n",
       "257266                 -87.631864                  41.884987   \n",
       "82771                  -87.626215                  41.880994   \n",
       "110525                 -87.625192                  41.857184   \n",
       "\n",
       "        dropoff_centroid_longitude  humidity  pressure  temperature  \\\n",
       "73119                   -87.632746      93.0    1018.0   291.290000   \n",
       "82342                   -87.903040     100.0    1034.0   265.065000   \n",
       "257266                  -87.620993      97.0    1031.0   287.059000   \n",
       "82771                   -87.632746      93.0    1012.0   294.890000   \n",
       "110525                  -87.620335      73.0    1026.0   270.108965   \n",
       "\n",
       "       weather_description  wind_direction  wind_speed  year  month  day  \\\n",
       "73119                  fog            72.0         1.0  2016      8    1   \n",
       "82342           few clouds           221.0         5.0  2015      1   15   \n",
       "257266          light rain            32.0         1.0  2014      6   26   \n",
       "82771           light rain           355.0         0.0  2016      8   16   \n",
       "110525       broken clouds           269.0         6.0  2015     12   31   \n",
       "\n",
       "        week_day  hour  minute  distance_miles  distance_ord  distance_mdw  \\\n",
       "73119          2     9       0        1.588142     18.426138     10.096882   \n",
       "82342          5    14      15       19.885248      0.120623     10.561540   \n",
       "257266         5    17      15        0.895981     19.797888     11.096865   \n",
       "82771          3     8      45        0.914452     19.983967     10.561540   \n",
       "110525         5    17      45        1.534466     20.525505     10.376098   \n",
       "\n",
       "        taxi_id_ind  payment_type_ind  \n",
       "73119           735                 0  \n",
       "82342           247                 1  \n",
       "257266         1064                 1  \n",
       "82771           114                 1  \n",
       "110525          280                 0  "
      ]
     },
     "execution_count": 3,
     "metadata": {},
     "output_type": "execute_result"
    }
   ],
   "source": [
    "chicago_trips.sample(5)"
   ]
  },
  {
   "cell_type": "code",
   "execution_count": 4,
   "metadata": {},
   "outputs": [
    {
     "data": {
      "text/plain": [
       "trip_id                        object\n",
       "trip_seconds                    int64\n",
       "pickup_community_area           int64\n",
       "dropoff_community_area          int64\n",
       "fare                          float64\n",
       "payment_type                   object\n",
       "company                        object\n",
       "pickup_centroid_latitude      float64\n",
       "pickup_centroid_longitude     float64\n",
       "dropoff_centroid_latitude     float64\n",
       "dropoff_centroid_longitude    float64\n",
       "humidity                      float64\n",
       "pressure                      float64\n",
       "temperature                   float64\n",
       "weather_description            object\n",
       "wind_direction                float64\n",
       "wind_speed                    float64\n",
       "year                            int64\n",
       "month                           int64\n",
       "day                             int64\n",
       "week_day                        int64\n",
       "hour                            int64\n",
       "minute                          int64\n",
       "distance_miles                float64\n",
       "distance_ord                  float64\n",
       "distance_mdw                  float64\n",
       "taxi_id_ind                     int64\n",
       "payment_type_ind                int64\n",
       "dtype: object"
      ]
     },
     "execution_count": 4,
     "metadata": {},
     "output_type": "execute_result"
    }
   ],
   "source": [
    "chicago_trips.dtypes"
   ]
  },
  {
   "cell_type": "markdown",
   "metadata": {},
   "source": [
    "### 2.3 We eliminate the feautures that are not useful"
   ]
  },
  {
   "cell_type": "code",
   "execution_count": 5,
   "metadata": {},
   "outputs": [],
   "source": [
    "chicago_trips = chicago_trips.drop(['trip_id','trip_seconds'],axis=1)"
   ]
  },
  {
   "cell_type": "markdown",
   "metadata": {},
   "source": [
    "### 2.4 We convert string variables to dummies"
   ]
  },
  {
   "cell_type": "code",
   "execution_count": 6,
   "metadata": {},
   "outputs": [],
   "source": [
    "chicago_trips = pd.get_dummies(chicago_trips)"
   ]
  },
  {
   "cell_type": "markdown",
   "metadata": {},
   "source": [
    "### 2.5 We divide our dataset into train, validation and test"
   ]
  },
  {
   "cell_type": "markdown",
   "metadata": {},
   "source": [
    "#### 2.5.1 Train data"
   ]
  },
  {
   "cell_type": "code",
   "execution_count": 7,
   "metadata": {},
   "outputs": [],
   "source": [
    "chicago_train = chicago_trips[(chicago_trips['year']<2016) |\n",
    "                             ((chicago_trips['year']==2016) & (chicago_trips['month']<=1))]"
   ]
  },
  {
   "cell_type": "code",
   "execution_count": 8,
   "metadata": {},
   "outputs": [
    {
     "data": {
      "text/plain": [
       "(207004, 172)"
      ]
     },
     "execution_count": 8,
     "metadata": {},
     "output_type": "execute_result"
    }
   ],
   "source": [
    "chicago_train.shape"
   ]
  },
  {
   "cell_type": "code",
   "execution_count": 9,
   "metadata": {},
   "outputs": [],
   "source": [
    "train_target = np.ravel(chicago_train[['fare']])\n",
    "train_predictors = chicago_train.drop(['fare'],axis=1)"
   ]
  },
  {
   "cell_type": "markdown",
   "metadata": {},
   "source": [
    "#### 2.5.2 Validation and Test data"
   ]
  },
  {
   "cell_type": "code",
   "execution_count": 10,
   "metadata": {},
   "outputs": [],
   "source": [
    "chicago_test_val = chicago_trips[(chicago_trips['year']==2017) |\n",
    "                             ((chicago_trips['year']==2016) & (chicago_trips['month']>1))]"
   ]
  },
  {
   "cell_type": "code",
   "execution_count": 11,
   "metadata": {},
   "outputs": [
    {
     "data": {
      "text/plain": [
       "(74806, 172)"
      ]
     },
     "execution_count": 11,
     "metadata": {},
     "output_type": "execute_result"
    }
   ],
   "source": [
    "chicago_test_val.shape"
   ]
  },
  {
   "cell_type": "code",
   "execution_count": 12,
   "metadata": {},
   "outputs": [],
   "source": [
    "chicago_test_val_target = np.ravel(chicago_test_val[['fare']])\n",
    "chicago_test_val_predictors = chicago_test_val.drop(['fare'],axis=1)"
   ]
  },
  {
   "cell_type": "code",
   "execution_count": 13,
   "metadata": {},
   "outputs": [],
   "source": [
    "# We get the validation and test data\n",
    "validation_predictors,test_predictors, validation_target, test_target = train_test_split(chicago_test_val_predictors, \n",
    "                                                                                         chicago_test_val_target, \n",
    "                                                                                         test_size=0.38, \n",
    "                                                                                         random_state=42)\n"
   ]
  },
  {
   "cell_type": "code",
   "execution_count": 14,
   "metadata": {},
   "outputs": [],
   "source": [
    "# We erase disk memory space\n",
    "del chicago_test_val, chicago_test_val_predictors, chicago_test_val_target, chicago_train, chicago_trips"
   ]
  },
  {
   "cell_type": "markdown",
   "metadata": {},
   "source": [
    "### 2.6 We create the function that will allow us to measure how good our model is"
   ]
  },
  {
   "cell_type": "code",
   "execution_count": 15,
   "metadata": {},
   "outputs": [],
   "source": [
    "def rmse(target,predictors):\n",
    "    return sqrt(mean_squared_error(target, predictors))"
   ]
  },
  {
   "cell_type": "markdown",
   "metadata": {},
   "source": [
    "## 3 Check the best model and depth"
   ]
  },
  {
   "cell_type": "markdown",
   "metadata": {},
   "source": [
    "In this section we are going to test different models and obtain the optimum depth for this model assigning to all models 100 estimators."
   ]
  },
  {
   "cell_type": "markdown",
   "metadata": {},
   "source": [
    "### 3.1 DECISION TREE"
   ]
  },
  {
   "cell_type": "markdown",
   "metadata": {},
   "source": [
    "#### 3.1.1 Check the model"
   ]
  },
  {
   "cell_type": "code",
   "execution_count": 16,
   "metadata": {
    "scrolled": false
   },
   "outputs": [
    {
     "name": "stdout",
     "output_type": "stream",
     "text": [
      "Depth: 2\n",
      "For a 2 depth the RMSE_train is 3.22321 $, the RMSE_val is 4.61579 $ and the difference 1.39257 $\n",
      "Depth: 3\n",
      "For a 3 depth the RMSE_train is 2.77754 $, the RMSE_val is 4.19796 $ and the difference 1.42042 $\n",
      "Depth: 4\n",
      "For a 4 depth the RMSE_train is 2.53839 $, the RMSE_val is 4.04359 $ and the difference 1.50520 $\n",
      "Depth: 5\n",
      "For a 5 depth the RMSE_train is 2.39222 $, the RMSE_val is 3.14756 $ and the difference 0.75535 $\n",
      "Depth: 6\n",
      "For a 6 depth the RMSE_train is 2.32315 $, the RMSE_val is 3.17908 $ and the difference 0.85593 $\n",
      "Depth: 7\n",
      "For a 7 depth the RMSE_train is 2.26233 $, the RMSE_val is 3.11728 $ and the difference 0.85496 $\n",
      "Depth: 8\n",
      "For a 8 depth the RMSE_train is 2.20524 $, the RMSE_val is 2.97061 $ and the difference 0.76536 $\n",
      "Depth: 9\n",
      "For a 9 depth the RMSE_train is 2.14923 $, the RMSE_val is 2.99724 $ and the difference 0.84801 $\n",
      "Depth: 10\n",
      "For a 10 depth the RMSE_train is 2.08729 $, the RMSE_val is 3.08963 $ and the difference 1.00234 $\n",
      "Depth: 11\n",
      "For a 11 depth the RMSE_train is 2.02683 $, the RMSE_val is 3.26617 $ and the difference 1.23934 $\n",
      "Depth: 12\n",
      "For a 12 depth the RMSE_train is 1.95074 $, the RMSE_val is 3.17844 $ and the difference 1.22770 $\n",
      "Depth: 13\n",
      "For a 13 depth the RMSE_train is 1.87464 $, the RMSE_val is 3.32005 $ and the difference 1.44542 $\n",
      "Depth: 14\n",
      "For a 14 depth the RMSE_train is 1.80006 $, the RMSE_val is 3.51532 $ and the difference 1.71526 $\n",
      "Depth: 15\n",
      "For a 15 depth the RMSE_train is 1.72260 $, the RMSE_val is 3.63767 $ and the difference 1.91507 $\n",
      "Depth: 16\n",
      "For a 16 depth the RMSE_train is 1.62695 $, the RMSE_val is 3.57167 $ and the difference 1.94471 $\n",
      "Depth: 17\n",
      "For a 17 depth the RMSE_train is 1.53906 $, the RMSE_val is 3.66591 $ and the difference 2.12684 $\n",
      "CPU times: user 49.5 s, sys: 4.36 s, total: 53.8 s\n",
      "Wall time: 53.5 s\n"
     ]
    }
   ],
   "source": [
    "%%time\n",
    "dicc_dt={}\n",
    "for depth in range(2,18):\n",
    "    print('Depth: %d' % (depth))\n",
    "    \n",
    "    # We train the model\n",
    "    taxi_model_dt = DecisionTreeRegressor(max_depth=depth,random_state=13)\n",
    "    \n",
    "    # We fit the model\n",
    "    taxi_model_dt.fit(train_predictors, train_target)\n",
    "    \n",
    "    # We predict train and validation\n",
    "    train_predictions = taxi_model_dt.predict(train_predictors)\n",
    "    val_predictions = taxi_model_dt.predict(validation_predictors)\n",
    "    \n",
    "    # We get the errors\n",
    "    error_train = rmse(train_target, train_predictions)\n",
    "    error_val = rmse(validation_target, val_predictions)\n",
    "    difference = error_val - error_train\n",
    "    \n",
    "    # We save the errors and the difference in a dictionary\n",
    "    dicc_dt[str(depth)]= [error_train,error_val,difference]\n",
    "    print ('For a %d depth the RMSE_train is %.5f $, the RMSE_val is %.5f $ and the difference %.5f $'\n",
    "               % (depth,error_train,error_val,difference)) "
   ]
  },
  {
   "cell_type": "markdown",
   "metadata": {},
   "source": [
    "#### 3.1.2 Check the best depth "
   ]
  },
  {
   "cell_type": "code",
   "execution_count": 17,
   "metadata": {},
   "outputs": [
    {
     "data": {
      "text/plain": [
       "('17', [1.539063955104273, 3.6659089323353196, 2.1268449772310465])"
      ]
     },
     "execution_count": 17,
     "metadata": {},
     "output_type": "execute_result"
    }
   ],
   "source": [
    "# Best depth based on minimum error based on train data\n",
    "min(dicc_dt.items(), key=lambda x: x[1][0])"
   ]
  },
  {
   "cell_type": "code",
   "execution_count": 18,
   "metadata": {},
   "outputs": [
    {
     "data": {
      "text/plain": [
       "('8', [2.205243523404725, 2.9706078466742185, 0.7653643232694933])"
      ]
     },
     "execution_count": 18,
     "metadata": {},
     "output_type": "execute_result"
    }
   ],
   "source": [
    "# Best depth based on minimum error based on validation data\n",
    "min(dicc_dt.items(), key=lambda x: x[1][1])"
   ]
  },
  {
   "cell_type": "code",
   "execution_count": 19,
   "metadata": {},
   "outputs": [
    {
     "data": {
      "text/plain": [
       "('5', [2.3922157789278247, 3.147561784387652, 0.7553460054598276])"
      ]
     },
     "execution_count": 19,
     "metadata": {},
     "output_type": "execute_result"
    }
   ],
   "source": [
    "# Best depth based on difference of errors\n",
    "min(dicc_dt.items(), key=lambda x: x[1][2])"
   ]
  },
  {
   "cell_type": "markdown",
   "metadata": {},
   "source": [
    "#### 3.1.3 Plot the errors and difference on the basis of the depth"
   ]
  },
  {
   "cell_type": "code",
   "execution_count": 20,
   "metadata": {},
   "outputs": [
    {
     "data": {
      "text/html": [
       "<div>\n",
       "<style scoped>\n",
       "    .dataframe tbody tr th:only-of-type {\n",
       "        vertical-align: middle;\n",
       "    }\n",
       "\n",
       "    .dataframe tbody tr th {\n",
       "        vertical-align: top;\n",
       "    }\n",
       "\n",
       "    .dataframe thead th {\n",
       "        text-align: right;\n",
       "    }\n",
       "</style>\n",
       "<table border=\"1\" class=\"dataframe\">\n",
       "  <thead>\n",
       "    <tr style=\"text-align: right;\">\n",
       "      <th></th>\n",
       "      <th>error_train</th>\n",
       "      <th>error_val</th>\n",
       "      <th>difference</th>\n",
       "    </tr>\n",
       "  </thead>\n",
       "  <tbody>\n",
       "    <tr>\n",
       "      <th>2</th>\n",
       "      <td>3.223212</td>\n",
       "      <td>4.615786</td>\n",
       "      <td>1.392574</td>\n",
       "    </tr>\n",
       "    <tr>\n",
       "      <th>3</th>\n",
       "      <td>2.777536</td>\n",
       "      <td>4.197956</td>\n",
       "      <td>1.420420</td>\n",
       "    </tr>\n",
       "    <tr>\n",
       "      <th>4</th>\n",
       "      <td>2.538392</td>\n",
       "      <td>4.043590</td>\n",
       "      <td>1.505198</td>\n",
       "    </tr>\n",
       "    <tr>\n",
       "      <th>5</th>\n",
       "      <td>2.392216</td>\n",
       "      <td>3.147562</td>\n",
       "      <td>0.755346</td>\n",
       "    </tr>\n",
       "    <tr>\n",
       "      <th>6</th>\n",
       "      <td>2.323148</td>\n",
       "      <td>3.179078</td>\n",
       "      <td>0.855931</td>\n",
       "    </tr>\n",
       "    <tr>\n",
       "      <th>7</th>\n",
       "      <td>2.262329</td>\n",
       "      <td>3.117284</td>\n",
       "      <td>0.854955</td>\n",
       "    </tr>\n",
       "    <tr>\n",
       "      <th>8</th>\n",
       "      <td>2.205244</td>\n",
       "      <td>2.970608</td>\n",
       "      <td>0.765364</td>\n",
       "    </tr>\n",
       "    <tr>\n",
       "      <th>9</th>\n",
       "      <td>2.149227</td>\n",
       "      <td>2.997238</td>\n",
       "      <td>0.848011</td>\n",
       "    </tr>\n",
       "    <tr>\n",
       "      <th>10</th>\n",
       "      <td>2.087285</td>\n",
       "      <td>3.089628</td>\n",
       "      <td>1.002343</td>\n",
       "    </tr>\n",
       "    <tr>\n",
       "      <th>11</th>\n",
       "      <td>2.026829</td>\n",
       "      <td>3.266168</td>\n",
       "      <td>1.239339</td>\n",
       "    </tr>\n",
       "    <tr>\n",
       "      <th>12</th>\n",
       "      <td>1.950737</td>\n",
       "      <td>3.178442</td>\n",
       "      <td>1.227705</td>\n",
       "    </tr>\n",
       "    <tr>\n",
       "      <th>13</th>\n",
       "      <td>1.874638</td>\n",
       "      <td>3.320053</td>\n",
       "      <td>1.445415</td>\n",
       "    </tr>\n",
       "    <tr>\n",
       "      <th>14</th>\n",
       "      <td>1.800058</td>\n",
       "      <td>3.515317</td>\n",
       "      <td>1.715259</td>\n",
       "    </tr>\n",
       "    <tr>\n",
       "      <th>15</th>\n",
       "      <td>1.722597</td>\n",
       "      <td>3.637666</td>\n",
       "      <td>1.915068</td>\n",
       "    </tr>\n",
       "    <tr>\n",
       "      <th>16</th>\n",
       "      <td>1.626954</td>\n",
       "      <td>3.571666</td>\n",
       "      <td>1.944712</td>\n",
       "    </tr>\n",
       "    <tr>\n",
       "      <th>17</th>\n",
       "      <td>1.539064</td>\n",
       "      <td>3.665909</td>\n",
       "      <td>2.126845</td>\n",
       "    </tr>\n",
       "  </tbody>\n",
       "</table>\n",
       "</div>"
      ],
      "text/plain": [
       "    error_train  error_val  difference\n",
       "2      3.223212   4.615786    1.392574\n",
       "3      2.777536   4.197956    1.420420\n",
       "4      2.538392   4.043590    1.505198\n",
       "5      2.392216   3.147562    0.755346\n",
       "6      2.323148   3.179078    0.855931\n",
       "7      2.262329   3.117284    0.854955\n",
       "8      2.205244   2.970608    0.765364\n",
       "9      2.149227   2.997238    0.848011\n",
       "10     2.087285   3.089628    1.002343\n",
       "11     2.026829   3.266168    1.239339\n",
       "12     1.950737   3.178442    1.227705\n",
       "13     1.874638   3.320053    1.445415\n",
       "14     1.800058   3.515317    1.715259\n",
       "15     1.722597   3.637666    1.915068\n",
       "16     1.626954   3.571666    1.944712\n",
       "17     1.539064   3.665909    2.126845"
      ]
     },
     "execution_count": 20,
     "metadata": {},
     "output_type": "execute_result"
    }
   ],
   "source": [
    "# We convert the dictionary to Dataframe\n",
    "dt_df = pd.DataFrame.from_dict(dicc_dt).T\n",
    "dt_df.columns=['error_train','error_val','difference']\n",
    "dt_df"
   ]
  },
  {
   "cell_type": "code",
   "execution_count": 21,
   "metadata": {},
   "outputs": [
    {
     "data": {
      "image/png": "[encoded data removed]",
      "text/plain": [
       "<Figure size 2160x720 with 1 Axes>"
      ]
     },
     "metadata": {
      "needs_background": "light"
     },
     "output_type": "display_data"
    }
   ],
   "source": [
    "# We plot the results\n",
    "ax = dt_df.plot(kind='line', style='.-',figsize=(30, 10),fontsize=12, rot=0)\n",
    "ax.set_title('RMSE $ DECISION TREE', fontsize=40)\n",
    "ax.set_xlabel(\"Depth_Estimators\", fontsize=20)\n",
    "ax.set_ylabel(\"Rmse $\", fontsize=20)\n",
    "ax.legend(fontsize=20)\n",
    "\n",
    "plt.show()"
   ]
  },
  {
   "cell_type": "markdown",
   "metadata": {},
   "source": [
    "The optimum depth for a decision tree would be 5 based on the validation error and the difference between errors."
   ]
  },
  {
   "cell_type": "markdown",
   "metadata": {},
   "source": [
    "### 3.2 RANDOM FOREST"
   ]
  },
  {
   "cell_type": "markdown",
   "metadata": {},
   "source": [
    "#### 3.2.1 Check the model"
   ]
  },
  {
   "cell_type": "code",
   "execution_count": 22,
   "metadata": {},
   "outputs": [
    {
     "name": "stdout",
     "output_type": "stream",
     "text": [
      "Depth: 2\n",
      "For a 2 depth and 100 estimators the RMSE_train is 3.20478 $, the RMSE_val is 4.60455 $ and the difference 1.39978 $\n",
      "Depth: 3\n",
      "For a 3 depth and 100 estimators the RMSE_train is 2.73840 $, the RMSE_val is 4.18866 $ and the difference 1.45026 $\n",
      "Depth: 4\n",
      "For a 4 depth and 100 estimators the RMSE_train is 2.50336 $, the RMSE_val is 4.01478 $ and the difference 1.51142 $\n",
      "Depth: 5\n",
      "For a 5 depth and 100 estimators the RMSE_train is 2.37261 $, the RMSE_val is 3.25419 $ and the difference 0.88158 $\n",
      "Depth: 6\n",
      "For a 6 depth and 100 estimators the RMSE_train is 2.29540 $, the RMSE_val is 3.05171 $ and the difference 0.75631 $\n",
      "Depth: 7\n",
      "For a 7 depth and 100 estimators the RMSE_train is 2.22590 $, the RMSE_val is 2.95891 $ and the difference 0.73301 $\n",
      "Depth: 8\n",
      "For a 8 depth and 100 estimators the RMSE_train is 2.16231 $, the RMSE_val is 2.85006 $ and the difference 0.68774 $\n",
      "Depth: 9\n",
      "For a 9 depth and 100 estimators the RMSE_train is 2.10073 $, the RMSE_val is 2.78565 $ and the difference 0.68492 $\n",
      "Depth: 10\n",
      "For a 10 depth and 100 estimators the RMSE_train is 2.03733 $, the RMSE_val is 2.74538 $ and the difference 0.70806 $\n",
      "Depth: 11\n",
      "For a 11 depth and 100 estimators the RMSE_train is 1.97365 $, the RMSE_val is 2.72485 $ and the difference 0.75120 $\n",
      "Depth: 12\n",
      "For a 12 depth and 100 estimators the RMSE_train is 1.90619 $, the RMSE_val is 2.71354 $ and the difference 0.80735 $\n",
      "Depth: 13\n",
      "For a 13 depth and 100 estimators the RMSE_train is 1.83421 $, the RMSE_val is 2.70404 $ and the difference 0.86983 $\n",
      "Depth: 14\n",
      "For a 14 depth and 100 estimators the RMSE_train is 1.75914 $, the RMSE_val is 2.69405 $ and the difference 0.93491 $\n",
      "Depth: 15\n",
      "For a 15 depth and 100 estimators the RMSE_train is 1.68123 $, the RMSE_val is 2.68863 $ and the difference 1.00739 $\n",
      "Depth: 16\n",
      "For a 16 depth and 100 estimators the RMSE_train is 1.59876 $, the RMSE_val is 2.68705 $ and the difference 1.08829 $\n",
      "Depth: 17\n",
      "For a 17 depth and 100 estimators the RMSE_train is 1.51608 $, the RMSE_val is 2.68778 $ and the difference 1.17170 $\n",
      "CPU times: user 1h 21min 46s, sys: 12.5 s, total: 1h 21min 59s\n",
      "Wall time: 10min 51s\n"
     ]
    }
   ],
   "source": [
    "%%time\n",
    "dicc_rf={}\n",
    "estimator = 100\n",
    "for depth in range(2,18):\n",
    "    print('Depth: %d' % (depth))\n",
    "    \n",
    "    # We train the model\n",
    "    taxi_model_rf = RandomForestRegressor(max_depth=depth,\n",
    "                                          n_estimators=estimator,\n",
    "                                          n_jobs=-1,\n",
    "                                          random_state=13)\n",
    "    \n",
    "    # We fit the model\n",
    "    taxi_model_rf.fit(train_predictors, train_target)                                    \n",
    "    \n",
    "    # We predict train and validation\n",
    "    train_predictions = taxi_model_rf.predict(train_predictors)\n",
    "    val_predictions = taxi_model_rf.predict(validation_predictors)\n",
    "    \n",
    "    # We get the errors\n",
    "    error_train = rmse(train_target, train_predictions)\n",
    "    error_val = rmse(validation_target, val_predictions)\n",
    "    difference = error_val - error_train\n",
    "    \n",
    "    # We save the errors and the difference in a dictionary\n",
    "    dicc_rf[str(depth)]= [error_train,error_val,difference]\n",
    "    print ('For a %d depth and %d estimators the RMSE_train is %.5f $, the RMSE_val is %.5f $ and the difference %.5f $'\n",
    "               % (depth,estimator,error_train,error_val,difference))  \n",
    "            "
   ]
  },
  {
   "cell_type": "markdown",
   "metadata": {},
   "source": [
    "#### 3.2.2 Check the best depth "
   ]
  },
  {
   "cell_type": "code",
   "execution_count": 23,
   "metadata": {},
   "outputs": [
    {
     "data": {
      "text/plain": [
       "('17', [1.5160792466419717, 2.6877796470656725, 1.1717004004237008])"
      ]
     },
     "execution_count": 23,
     "metadata": {},
     "output_type": "execute_result"
    }
   ],
   "source": [
    "# Best depth based on minimum error based on train data\n",
    "min(dicc_rf.items(), key=lambda x: x[1][0])"
   ]
  },
  {
   "cell_type": "code",
   "execution_count": 24,
   "metadata": {},
   "outputs": [
    {
     "data": {
      "text/plain": [
       "('16', [1.5987643069268935, 2.687050301484727, 1.0882859945578336])"
      ]
     },
     "execution_count": 24,
     "metadata": {},
     "output_type": "execute_result"
    }
   ],
   "source": [
    "# Best depth based on minimum error based on validation data\n",
    "min(dicc_rf.items(), key=lambda x: x[1][1])"
   ]
  },
  {
   "cell_type": "code",
   "execution_count": 25,
   "metadata": {},
   "outputs": [
    {
     "data": {
      "text/plain": [
       "('9', [2.100732543431772, 2.7856540000448327, 0.6849214566130608])"
      ]
     },
     "execution_count": 25,
     "metadata": {},
     "output_type": "execute_result"
    }
   ],
   "source": [
    "# Best depth based on difference of errors\n",
    "min(dicc_rf.items(), key=lambda x: x[1][2])"
   ]
  },
  {
   "cell_type": "markdown",
   "metadata": {},
   "source": [
    "#### 3.2.3 Plot the errors and difference on the basis of the depth"
   ]
  },
  {
   "cell_type": "code",
   "execution_count": 26,
   "metadata": {},
   "outputs": [
    {
     "data": {
      "text/html": [
       "<div>\n",
       "<style scoped>\n",
       "    .dataframe tbody tr th:only-of-type {\n",
       "        vertical-align: middle;\n",
       "    }\n",
       "\n",
       "    .dataframe tbody tr th {\n",
       "        vertical-align: top;\n",
       "    }\n",
       "\n",
       "    .dataframe thead th {\n",
       "        text-align: right;\n",
       "    }\n",
       "</style>\n",
       "<table border=\"1\" class=\"dataframe\">\n",
       "  <thead>\n",
       "    <tr style=\"text-align: right;\">\n",
       "      <th></th>\n",
       "      <th>error_train</th>\n",
       "      <th>error_val</th>\n",
       "      <th>difference</th>\n",
       "    </tr>\n",
       "  </thead>\n",
       "  <tbody>\n",
       "    <tr>\n",
       "      <th>2</th>\n",
       "      <td>3.204778</td>\n",
       "      <td>4.604553</td>\n",
       "      <td>1.399775</td>\n",
       "    </tr>\n",
       "    <tr>\n",
       "      <th>3</th>\n",
       "      <td>2.738396</td>\n",
       "      <td>4.188659</td>\n",
       "      <td>1.450263</td>\n",
       "    </tr>\n",
       "    <tr>\n",
       "      <th>4</th>\n",
       "      <td>2.503355</td>\n",
       "      <td>4.014779</td>\n",
       "      <td>1.511424</td>\n",
       "    </tr>\n",
       "    <tr>\n",
       "      <th>5</th>\n",
       "      <td>2.372612</td>\n",
       "      <td>3.254190</td>\n",
       "      <td>0.881578</td>\n",
       "    </tr>\n",
       "    <tr>\n",
       "      <th>6</th>\n",
       "      <td>2.295399</td>\n",
       "      <td>3.051706</td>\n",
       "      <td>0.756306</td>\n",
       "    </tr>\n",
       "    <tr>\n",
       "      <th>7</th>\n",
       "      <td>2.225898</td>\n",
       "      <td>2.958908</td>\n",
       "      <td>0.733010</td>\n",
       "    </tr>\n",
       "    <tr>\n",
       "      <th>8</th>\n",
       "      <td>2.162311</td>\n",
       "      <td>2.850056</td>\n",
       "      <td>0.687745</td>\n",
       "    </tr>\n",
       "    <tr>\n",
       "      <th>9</th>\n",
       "      <td>2.100733</td>\n",
       "      <td>2.785654</td>\n",
       "      <td>0.684921</td>\n",
       "    </tr>\n",
       "    <tr>\n",
       "      <th>10</th>\n",
       "      <td>2.037329</td>\n",
       "      <td>2.745384</td>\n",
       "      <td>0.708056</td>\n",
       "    </tr>\n",
       "    <tr>\n",
       "      <th>11</th>\n",
       "      <td>1.973647</td>\n",
       "      <td>2.724846</td>\n",
       "      <td>0.751198</td>\n",
       "    </tr>\n",
       "    <tr>\n",
       "      <th>12</th>\n",
       "      <td>1.906190</td>\n",
       "      <td>2.713541</td>\n",
       "      <td>0.807351</td>\n",
       "    </tr>\n",
       "    <tr>\n",
       "      <th>13</th>\n",
       "      <td>1.834215</td>\n",
       "      <td>2.704043</td>\n",
       "      <td>0.869828</td>\n",
       "    </tr>\n",
       "    <tr>\n",
       "      <th>14</th>\n",
       "      <td>1.759137</td>\n",
       "      <td>2.694051</td>\n",
       "      <td>0.934913</td>\n",
       "    </tr>\n",
       "    <tr>\n",
       "      <th>15</th>\n",
       "      <td>1.681233</td>\n",
       "      <td>2.688627</td>\n",
       "      <td>1.007394</td>\n",
       "    </tr>\n",
       "    <tr>\n",
       "      <th>16</th>\n",
       "      <td>1.598764</td>\n",
       "      <td>2.687050</td>\n",
       "      <td>1.088286</td>\n",
       "    </tr>\n",
       "    <tr>\n",
       "      <th>17</th>\n",
       "      <td>1.516079</td>\n",
       "      <td>2.687780</td>\n",
       "      <td>1.171700</td>\n",
       "    </tr>\n",
       "  </tbody>\n",
       "</table>\n",
       "</div>"
      ],
      "text/plain": [
       "    error_train  error_val  difference\n",
       "2      3.204778   4.604553    1.399775\n",
       "3      2.738396   4.188659    1.450263\n",
       "4      2.503355   4.014779    1.511424\n",
       "5      2.372612   3.254190    0.881578\n",
       "6      2.295399   3.051706    0.756306\n",
       "7      2.225898   2.958908    0.733010\n",
       "8      2.162311   2.850056    0.687745\n",
       "9      2.100733   2.785654    0.684921\n",
       "10     2.037329   2.745384    0.708056\n",
       "11     1.973647   2.724846    0.751198\n",
       "12     1.906190   2.713541    0.807351\n",
       "13     1.834215   2.704043    0.869828\n",
       "14     1.759137   2.694051    0.934913\n",
       "15     1.681233   2.688627    1.007394\n",
       "16     1.598764   2.687050    1.088286\n",
       "17     1.516079   2.687780    1.171700"
      ]
     },
     "execution_count": 26,
     "metadata": {},
     "output_type": "execute_result"
    }
   ],
   "source": [
    "# We convert the dictionary to Dataframe\n",
    "rf_df = pd.DataFrame.from_dict(dicc_rf).T\n",
    "rf_df.columns=['error_train','error_val','difference']\n",
    "rf_df"
   ]
  },
  {
   "cell_type": "code",
   "execution_count": 27,
   "metadata": {},
   "outputs": [
    {
     "data": {
      "image/png": "[encoded data removed]",
      "text/plain": [
       "<Figure size 2160x720 with 1 Axes>"
      ]
     },
     "metadata": {
      "needs_background": "light"
     },
     "output_type": "display_data"
    }
   ],
   "source": [
    "# We plot the results\n",
    "ax = rf_df.plot(kind='line', style='.-',figsize=(30, 10),fontsize=12, rot=0)\n",
    "ax.set_title('RMSE $ RANDOM FOREST (100 estimators)', fontsize=40)\n",
    "ax.set_xlabel(\"Depth_Estimators\", fontsize=20)\n",
    "ax.set_ylabel(\"Rmse $\", fontsize=20)\n",
    "ax.legend(fontsize=20)\n",
    "\n",
    "plt.show()"
   ]
  },
  {
   "cell_type": "markdown",
   "metadata": {},
   "source": [
    "The optimum depth for a random forest would be 9 based on the the difference between errors because for more depth the validation error keeps going down and never reaches a minimum which would cause overfitting."
   ]
  },
  {
   "cell_type": "markdown",
   "metadata": {},
   "source": [
    "### 3.3 XGBOOST"
   ]
  },
  {
   "cell_type": "markdown",
   "metadata": {},
   "source": [
    "#### 3.3.1 Check the model"
   ]
  },
  {
   "cell_type": "code",
   "execution_count": 28,
   "metadata": {},
   "outputs": [
    {
     "name": "stdout",
     "output_type": "stream",
     "text": [
      "Depth: 2\n",
      "For a 2 depth and 100 estimators the RMSE_train is 2.46482 $, the RMSE_val is 3.36748 $ and the difference 0.90266 $\n",
      "Depth: 3\n",
      "For a 3 depth and 100 estimators the RMSE_train is 2.31898 $, the RMSE_val is 2.86816 $ and the difference 0.54918 $\n",
      "Depth: 4\n",
      "For a 4 depth and 100 estimators the RMSE_train is 2.23378 $, the RMSE_val is 2.71952 $ and the difference 0.48574 $\n",
      "Depth: 5\n",
      "For a 5 depth and 100 estimators the RMSE_train is 2.16823 $, the RMSE_val is 2.66883 $ and the difference 0.50060 $\n",
      "Depth: 6\n",
      "For a 6 depth and 100 estimators the RMSE_train is 2.11245 $, the RMSE_val is 2.64973 $ and the difference 0.53727 $\n",
      "Depth: 7\n",
      "For a 7 depth and 100 estimators the RMSE_train is 2.04512 $, the RMSE_val is 2.60196 $ and the difference 0.55684 $\n",
      "Depth: 8\n",
      "For a 8 depth and 100 estimators the RMSE_train is 1.97372 $, the RMSE_val is 2.64469 $ and the difference 0.67097 $\n",
      "Depth: 9\n",
      "For a 9 depth and 100 estimators the RMSE_train is 1.89676 $, the RMSE_val is 2.65315 $ and the difference 0.75639 $\n",
      "Depth: 10\n",
      "For a 10 depth and 100 estimators the RMSE_train is 1.81038 $, the RMSE_val is 2.69235 $ and the difference 0.88198 $\n",
      "Depth: 11\n",
      "For a 11 depth and 100 estimators the RMSE_train is 1.72461 $, the RMSE_val is 2.74907 $ and the difference 1.02446 $\n",
      "Depth: 12\n",
      "For a 12 depth and 100 estimators the RMSE_train is 1.63340 $, the RMSE_val is 2.82642 $ and the difference 1.19301 $\n",
      "Depth: 13\n",
      "For a 13 depth and 100 estimators the RMSE_train is 1.53306 $, the RMSE_val is 2.86367 $ and the difference 1.33061 $\n",
      "Depth: 14\n",
      "For a 14 depth and 100 estimators the RMSE_train is 1.41724 $, the RMSE_val is 2.86671 $ and the difference 1.44946 $\n",
      "Depth: 15\n",
      "For a 15 depth and 100 estimators the RMSE_train is 1.30808 $, the RMSE_val is 2.87502 $ and the difference 1.56694 $\n",
      "Depth: 16\n",
      "For a 16 depth and 100 estimators the RMSE_train is 1.19570 $, the RMSE_val is 2.87428 $ and the difference 1.67858 $\n",
      "Depth: 17\n",
      "For a 17 depth and 100 estimators the RMSE_train is 1.07319 $, the RMSE_val is 2.91464 $ and the difference 1.84145 $\n",
      "CPU times: user 1h 31min 41s, sys: 21.9 s, total: 1h 32min 3s\n",
      "Wall time: 1h 31min 24s\n"
     ]
    }
   ],
   "source": [
    "%%time\n",
    "dicc_xgb={}\n",
    "estimator = 100\n",
    "for depth in range(2,18):\n",
    "    print('Depth: %d' % (depth))\n",
    "    \n",
    "    # We train the model\n",
    "    taxi_model_xgb = XGBRegressor(max_depth=depth,\n",
    "                                  learning_rate=0.05,\n",
    "                                  n_estimators=estimator,\n",
    "                                  n_jobs=-1,\n",
    "                                  seed=13)\n",
    "    \n",
    "    # We fit the model\n",
    "    taxi_model_xgb.fit(train_predictors,\n",
    "                       train_target,\n",
    "                       early_stopping_rounds=5,\n",
    "                       eval_set=[(validation_predictors, validation_target)],\n",
    "                       verbose=False)\n",
    "    \n",
    "    # We predict train and validation\n",
    "    train_predictions = taxi_model_xgb.predict(train_predictors)\n",
    "    val_predictions = taxi_model_xgb.predict(validation_predictors)\n",
    "    \n",
    "    # We get the errors\n",
    "    error_train = rmse(train_target, train_predictions)\n",
    "    error_val = rmse(validation_target, val_predictions)\n",
    "    difference = error_val - error_train\n",
    "    \n",
    "    # We save the errors and the difference in a dictionary\n",
    "    dicc_xgb[str(depth) + '_' + str(estimator)]= [error_train,error_val,difference]\n",
    "    print ('For a %d depth and %d estimators the RMSE_train is %.5f $, the RMSE_val is %.5f $ and the difference %.5f $'\n",
    "               % (depth,estimator, error_train,error_val,difference))\n",
    "    "
   ]
  },
  {
   "cell_type": "markdown",
   "metadata": {},
   "source": [
    "#### 3.3.2 Check the best depth "
   ]
  },
  {
   "cell_type": "code",
   "execution_count": 29,
   "metadata": {},
   "outputs": [
    {
     "data": {
      "text/plain": [
       "('17_100', [1.073192748536469, 2.914644933914223, 1.841452185377754])"
      ]
     },
     "execution_count": 29,
     "metadata": {},
     "output_type": "execute_result"
    }
   ],
   "source": [
    "# Best depth based on minimum error based on train data\n",
    "min(dicc_xgb.items(), key=lambda x: x[1][0])"
   ]
  },
  {
   "cell_type": "code",
   "execution_count": 30,
   "metadata": {},
   "outputs": [
    {
     "data": {
      "text/plain": [
       "('7_100', [2.045118711469265, 2.601960813818772, 0.5568421023495072])"
      ]
     },
     "execution_count": 30,
     "metadata": {},
     "output_type": "execute_result"
    }
   ],
   "source": [
    "# Best depth based on minimum error based on validation data\n",
    "min(dicc_xgb.items(), key=lambda x: x[1][1])"
   ]
  },
  {
   "cell_type": "code",
   "execution_count": 31,
   "metadata": {},
   "outputs": [
    {
     "data": {
      "text/plain": [
       "('4_100', [2.2337750779852907, 2.7195162237248884, 0.4857411457395977])"
      ]
     },
     "execution_count": 31,
     "metadata": {},
     "output_type": "execute_result"
    }
   ],
   "source": [
    "# Best depth based on difference of errors\n",
    "min(dicc_xgb.items(), key=lambda x: x[1][2])"
   ]
  },
  {
   "cell_type": "markdown",
   "metadata": {},
   "source": [
    "#### 3.3.3 Plot the errors and difference on the basis of the depth"
   ]
  },
  {
   "cell_type": "code",
   "execution_count": 32,
   "metadata": {},
   "outputs": [
    {
     "data": {
      "text/html": [
       "<div>\n",
       "<style scoped>\n",
       "    .dataframe tbody tr th:only-of-type {\n",
       "        vertical-align: middle;\n",
       "    }\n",
       "\n",
       "    .dataframe tbody tr th {\n",
       "        vertical-align: top;\n",
       "    }\n",
       "\n",
       "    .dataframe thead th {\n",
       "        text-align: right;\n",
       "    }\n",
       "</style>\n",
       "<table border=\"1\" class=\"dataframe\">\n",
       "  <thead>\n",
       "    <tr style=\"text-align: right;\">\n",
       "      <th></th>\n",
       "      <th>error_train</th>\n",
       "      <th>error_val</th>\n",
       "      <th>difference</th>\n",
       "    </tr>\n",
       "  </thead>\n",
       "  <tbody>\n",
       "    <tr>\n",
       "      <th>2_100</th>\n",
       "      <td>2.464816</td>\n",
       "      <td>3.367478</td>\n",
       "      <td>0.902662</td>\n",
       "    </tr>\n",
       "    <tr>\n",
       "      <th>3_100</th>\n",
       "      <td>2.318984</td>\n",
       "      <td>2.868159</td>\n",
       "      <td>0.549176</td>\n",
       "    </tr>\n",
       "    <tr>\n",
       "      <th>4_100</th>\n",
       "      <td>2.233775</td>\n",
       "      <td>2.719516</td>\n",
       "      <td>0.485741</td>\n",
       "    </tr>\n",
       "    <tr>\n",
       "      <th>5_100</th>\n",
       "      <td>2.168227</td>\n",
       "      <td>2.668828</td>\n",
       "      <td>0.500601</td>\n",
       "    </tr>\n",
       "    <tr>\n",
       "      <th>6_100</th>\n",
       "      <td>2.112454</td>\n",
       "      <td>2.649727</td>\n",
       "      <td>0.537274</td>\n",
       "    </tr>\n",
       "    <tr>\n",
       "      <th>7_100</th>\n",
       "      <td>2.045119</td>\n",
       "      <td>2.601961</td>\n",
       "      <td>0.556842</td>\n",
       "    </tr>\n",
       "    <tr>\n",
       "      <th>8_100</th>\n",
       "      <td>1.973720</td>\n",
       "      <td>2.644692</td>\n",
       "      <td>0.670972</td>\n",
       "    </tr>\n",
       "    <tr>\n",
       "      <th>9_100</th>\n",
       "      <td>1.896760</td>\n",
       "      <td>2.653151</td>\n",
       "      <td>0.756391</td>\n",
       "    </tr>\n",
       "    <tr>\n",
       "      <th>10_100</th>\n",
       "      <td>1.810376</td>\n",
       "      <td>2.692354</td>\n",
       "      <td>0.881977</td>\n",
       "    </tr>\n",
       "    <tr>\n",
       "      <th>11_100</th>\n",
       "      <td>1.724614</td>\n",
       "      <td>2.749075</td>\n",
       "      <td>1.024461</td>\n",
       "    </tr>\n",
       "    <tr>\n",
       "      <th>12_100</th>\n",
       "      <td>1.633405</td>\n",
       "      <td>2.826417</td>\n",
       "      <td>1.193013</td>\n",
       "    </tr>\n",
       "    <tr>\n",
       "      <th>13_100</th>\n",
       "      <td>1.533063</td>\n",
       "      <td>2.863671</td>\n",
       "      <td>1.330608</td>\n",
       "    </tr>\n",
       "    <tr>\n",
       "      <th>14_100</th>\n",
       "      <td>1.417244</td>\n",
       "      <td>2.866708</td>\n",
       "      <td>1.449464</td>\n",
       "    </tr>\n",
       "    <tr>\n",
       "      <th>15_100</th>\n",
       "      <td>1.308077</td>\n",
       "      <td>2.875016</td>\n",
       "      <td>1.566939</td>\n",
       "    </tr>\n",
       "    <tr>\n",
       "      <th>16_100</th>\n",
       "      <td>1.195702</td>\n",
       "      <td>2.874284</td>\n",
       "      <td>1.678582</td>\n",
       "    </tr>\n",
       "    <tr>\n",
       "      <th>17_100</th>\n",
       "      <td>1.073193</td>\n",
       "      <td>2.914645</td>\n",
       "      <td>1.841452</td>\n",
       "    </tr>\n",
       "  </tbody>\n",
       "</table>\n",
       "</div>"
      ],
      "text/plain": [
       "        error_train  error_val  difference\n",
       "2_100      2.464816   3.367478    0.902662\n",
       "3_100      2.318984   2.868159    0.549176\n",
       "4_100      2.233775   2.719516    0.485741\n",
       "5_100      2.168227   2.668828    0.500601\n",
       "6_100      2.112454   2.649727    0.537274\n",
       "7_100      2.045119   2.601961    0.556842\n",
       "8_100      1.973720   2.644692    0.670972\n",
       "9_100      1.896760   2.653151    0.756391\n",
       "10_100     1.810376   2.692354    0.881977\n",
       "11_100     1.724614   2.749075    1.024461\n",
       "12_100     1.633405   2.826417    1.193013\n",
       "13_100     1.533063   2.863671    1.330608\n",
       "14_100     1.417244   2.866708    1.449464\n",
       "15_100     1.308077   2.875016    1.566939\n",
       "16_100     1.195702   2.874284    1.678582\n",
       "17_100     1.073193   2.914645    1.841452"
      ]
     },
     "execution_count": 32,
     "metadata": {},
     "output_type": "execute_result"
    }
   ],
   "source": [
    "# We convert the dictionary to Dataframe\n",
    "xgb_df = pd.DataFrame.from_dict(dicc_xgb).T\n",
    "xgb_df.columns=['error_train','error_val','difference']\n",
    "xgb_df"
   ]
  },
  {
   "cell_type": "code",
   "execution_count": 33,
   "metadata": {},
   "outputs": [
    {
     "data": {
      "image/png": "[encoded data removed]",
      "text/plain": [
       "<Figure size 2160x720 with 1 Axes>"
      ]
     },
     "metadata": {
      "needs_background": "light"
     },
     "output_type": "display_data"
    }
   ],
   "source": [
    "# We plot the results\n",
    "ax = xgb_df.plot(kind='line', style='.-',figsize=(30, 10),fontsize=12, rot=0)\n",
    "ax.set_title('RMSE $ XGBOOST (100 estimators)', fontsize=40)\n",
    "ax.set_xlabel(\"Depth_Estimators\", fontsize=20)\n",
    "ax.set_ylabel(\"Rmse $\", fontsize=20)\n",
    "ax.legend(fontsize=20)\n",
    "\n",
    "plt.show()"
   ]
  },
  {
   "cell_type": "markdown",
   "metadata": {},
   "source": [
    "The optimum depth for a Xgboost would be 7 based on the validation error and the difference between errors because more depth would cause overfitting."
   ]
  },
  {
   "cell_type": "markdown",
   "metadata": {},
   "source": [
    "### 3.4 BAGGING REGRESSOR + DECISION TREE"
   ]
  },
  {
   "cell_type": "markdown",
   "metadata": {},
   "source": [
    "#### 3.4.1 Check the model"
   ]
  },
  {
   "cell_type": "code",
   "execution_count": 34,
   "metadata": {},
   "outputs": [
    {
     "name": "stdout",
     "output_type": "stream",
     "text": [
      "Depth: 2\n",
      "For a 2 depth and 100 estimators the RMSE_train is 3.20478 $, the RMSE_val is 4.60455 $ and the difference 1.39977 $\n",
      "Depth: 3\n"
     ]
    },
    {
     "name": "stderr",
     "output_type": "stream",
     "text": [
      "/anaconda3/lib/python3.6/site-packages/sklearn/externals/joblib/externals/loky/process_executor.py:706: UserWarning: A worker stopped while some jobs were given to the executor. This can be caused by a too short worker timeout or by a memory leak.\n",
      "  \"timeout or by a memory leak.\", UserWarning\n"
     ]
    },
    {
     "name": "stdout",
     "output_type": "stream",
     "text": [
      "For a 3 depth and 100 estimators the RMSE_train is 2.73840 $, the RMSE_val is 4.18866 $ and the difference 1.45026 $\n",
      "Depth: 4\n",
      "For a 4 depth and 100 estimators the RMSE_train is 2.50336 $, the RMSE_val is 4.01478 $ and the difference 1.51142 $\n",
      "Depth: 5\n",
      "For a 5 depth and 100 estimators the RMSE_train is 2.37262 $, the RMSE_val is 3.25419 $ and the difference 0.88157 $\n",
      "Depth: 6\n",
      "For a 6 depth and 100 estimators the RMSE_train is 2.29547 $, the RMSE_val is 3.05297 $ and the difference 0.75750 $\n",
      "Depth: 7\n",
      "For a 7 depth and 100 estimators the RMSE_train is 2.22579 $, the RMSE_val is 2.95937 $ and the difference 0.73358 $\n",
      "Depth: 8\n",
      "For a 8 depth and 100 estimators the RMSE_train is 2.16219 $, the RMSE_val is 2.84994 $ and the difference 0.68774 $\n",
      "Depth: 9\n",
      "For a 9 depth and 100 estimators the RMSE_train is 2.10076 $, the RMSE_val is 2.77990 $ and the difference 0.67913 $\n",
      "Depth: 10\n",
      "For a 10 depth and 100 estimators the RMSE_train is 2.03749 $, the RMSE_val is 2.74495 $ and the difference 0.70746 $\n",
      "Depth: 11\n",
      "For a 11 depth and 100 estimators the RMSE_train is 1.97320 $, the RMSE_val is 2.72652 $ and the difference 0.75332 $\n",
      "Depth: 12\n",
      "For a 12 depth and 100 estimators the RMSE_train is 1.90591 $, the RMSE_val is 2.71495 $ and the difference 0.80904 $\n",
      "Depth: 13\n",
      "For a 13 depth and 100 estimators the RMSE_train is 1.83430 $, the RMSE_val is 2.70478 $ and the difference 0.87048 $\n",
      "Depth: 14\n",
      "For a 14 depth and 100 estimators the RMSE_train is 1.75895 $, the RMSE_val is 2.69593 $ and the difference 0.93698 $\n",
      "Depth: 15\n",
      "For a 15 depth and 100 estimators the RMSE_train is 1.68131 $, the RMSE_val is 2.68674 $ and the difference 1.00543 $\n",
      "Depth: 16\n",
      "For a 16 depth and 100 estimators the RMSE_train is 1.59909 $, the RMSE_val is 2.68462 $ and the difference 1.08553 $\n",
      "Depth: 17\n",
      "For a 17 depth and 100 estimators the RMSE_train is 1.51613 $, the RMSE_val is 2.68659 $ and the difference 1.17046 $\n",
      "CPU times: user 19.5 s, sys: 13.3 s, total: 32.9 s\n",
      "Wall time: 20min 1s\n"
     ]
    }
   ],
   "source": [
    "%%time\n",
    "dicc_bg={}\n",
    "estimator = 100\n",
    "for depth in range(2,18):\n",
    "    print('Depth: %d' % (depth))    \n",
    "    \n",
    "    # We train the model\n",
    "    taxi_model_bg= BaggingRegressor(base_estimator = DecisionTreeRegressor(max_depth=depth,\n",
    "                                                                           random_state=13),\n",
    "                                    n_estimators = estimator,\n",
    "                                    n_jobs= -1,\n",
    "                                    random_state=13)\n",
    "    \n",
    "    # We fit the model\n",
    "    taxi_model_bg.fit(train_predictors, train_target)\n",
    "    \n",
    "    # We predict train and validation\n",
    "    train_predictions = taxi_model_bg.predict(train_predictors)\n",
    "    val_predictions = taxi_model_bg.predict(validation_predictors)\n",
    "    \n",
    "    # We get the errors\n",
    "    error_train = rmse(train_target, train_predictions)\n",
    "    error_val = rmse(validation_target, val_predictions)\n",
    "    difference = error_val - error_train\n",
    "    \n",
    "    # We save the errors and the difference in a dictionary\n",
    "    dicc_bg[str(depth) + '_' + str(estimator)]= [error_train,error_val,difference]\n",
    "    print ('For a %d depth and %d estimators the RMSE_train is %.5f $, the RMSE_val is %.5f $ and the difference %.5f $'\n",
    "            % (depth,estimator,error_train,error_val,difference))\n",
    "     "
   ]
  },
  {
   "cell_type": "markdown",
   "metadata": {},
   "source": [
    "#### 3.4.2 Check the best depth "
   ]
  },
  {
   "cell_type": "code",
   "execution_count": 35,
   "metadata": {},
   "outputs": [
    {
     "data": {
      "text/plain": [
       "('17_100', [1.5161327309094321, 2.6865915427794063, 1.1704588118699741])"
      ]
     },
     "execution_count": 35,
     "metadata": {},
     "output_type": "execute_result"
    }
   ],
   "source": [
    "# Best depth based on minimum error based on train data\n",
    "min(dicc_bg.items(), key=lambda x: x[1][0])"
   ]
  },
  {
   "cell_type": "code",
   "execution_count": 36,
   "metadata": {},
   "outputs": [
    {
     "data": {
      "text/plain": [
       "('16_100', [1.5990949062624198, 2.6846248573787057, 1.085529951116286])"
      ]
     },
     "execution_count": 36,
     "metadata": {},
     "output_type": "execute_result"
    }
   ],
   "source": [
    "# Best depth based on minimum error based on validation data\n",
    "min(dicc_bg.items(), key=lambda x: x[1][1])"
   ]
  },
  {
   "cell_type": "code",
   "execution_count": 37,
   "metadata": {},
   "outputs": [
    {
     "data": {
      "text/plain": [
       "('9_100', [2.100763927832051, 2.7798959552378237, 0.6791320274057728])"
      ]
     },
     "execution_count": 37,
     "metadata": {},
     "output_type": "execute_result"
    }
   ],
   "source": [
    "# Best depth based on difference\n",
    "min(dicc_bg.items(), key=lambda x: x[1][2])"
   ]
  },
  {
   "cell_type": "markdown",
   "metadata": {},
   "source": [
    "#### 3.4.3 Plot the errors and difference on the basis of the depth"
   ]
  },
  {
   "cell_type": "code",
   "execution_count": 38,
   "metadata": {},
   "outputs": [
    {
     "data": {
      "text/html": [
       "<div>\n",
       "<style scoped>\n",
       "    .dataframe tbody tr th:only-of-type {\n",
       "        vertical-align: middle;\n",
       "    }\n",
       "\n",
       "    .dataframe tbody tr th {\n",
       "        vertical-align: top;\n",
       "    }\n",
       "\n",
       "    .dataframe thead th {\n",
       "        text-align: right;\n",
       "    }\n",
       "</style>\n",
       "<table border=\"1\" class=\"dataframe\">\n",
       "  <thead>\n",
       "    <tr style=\"text-align: right;\">\n",
       "      <th></th>\n",
       "      <th>error_train</th>\n",
       "      <th>error_val</th>\n",
       "      <th>difference</th>\n",
       "    </tr>\n",
       "  </thead>\n",
       "  <tbody>\n",
       "    <tr>\n",
       "      <th>2_100</th>\n",
       "      <td>3.204778</td>\n",
       "      <td>4.604552</td>\n",
       "      <td>1.399774</td>\n",
       "    </tr>\n",
       "    <tr>\n",
       "      <th>3_100</th>\n",
       "      <td>2.738396</td>\n",
       "      <td>4.188658</td>\n",
       "      <td>1.450262</td>\n",
       "    </tr>\n",
       "    <tr>\n",
       "      <th>4_100</th>\n",
       "      <td>2.503356</td>\n",
       "      <td>4.014778</td>\n",
       "      <td>1.511423</td>\n",
       "    </tr>\n",
       "    <tr>\n",
       "      <th>5_100</th>\n",
       "      <td>2.372619</td>\n",
       "      <td>3.254189</td>\n",
       "      <td>0.881570</td>\n",
       "    </tr>\n",
       "    <tr>\n",
       "      <th>6_100</th>\n",
       "      <td>2.295473</td>\n",
       "      <td>3.052972</td>\n",
       "      <td>0.757499</td>\n",
       "    </tr>\n",
       "    <tr>\n",
       "      <th>7_100</th>\n",
       "      <td>2.225788</td>\n",
       "      <td>2.959370</td>\n",
       "      <td>0.733581</td>\n",
       "    </tr>\n",
       "    <tr>\n",
       "      <th>8_100</th>\n",
       "      <td>2.162190</td>\n",
       "      <td>2.849935</td>\n",
       "      <td>0.687745</td>\n",
       "    </tr>\n",
       "    <tr>\n",
       "      <th>9_100</th>\n",
       "      <td>2.100764</td>\n",
       "      <td>2.779896</td>\n",
       "      <td>0.679132</td>\n",
       "    </tr>\n",
       "    <tr>\n",
       "      <th>10_100</th>\n",
       "      <td>2.037492</td>\n",
       "      <td>2.744952</td>\n",
       "      <td>0.707461</td>\n",
       "    </tr>\n",
       "    <tr>\n",
       "      <th>11_100</th>\n",
       "      <td>1.973201</td>\n",
       "      <td>2.726520</td>\n",
       "      <td>0.753320</td>\n",
       "    </tr>\n",
       "    <tr>\n",
       "      <th>12_100</th>\n",
       "      <td>1.905908</td>\n",
       "      <td>2.714952</td>\n",
       "      <td>0.809044</td>\n",
       "    </tr>\n",
       "    <tr>\n",
       "      <th>13_100</th>\n",
       "      <td>1.834302</td>\n",
       "      <td>2.704778</td>\n",
       "      <td>0.870476</td>\n",
       "    </tr>\n",
       "    <tr>\n",
       "      <th>14_100</th>\n",
       "      <td>1.758947</td>\n",
       "      <td>2.695928</td>\n",
       "      <td>0.936981</td>\n",
       "    </tr>\n",
       "    <tr>\n",
       "      <th>15_100</th>\n",
       "      <td>1.681312</td>\n",
       "      <td>2.686742</td>\n",
       "      <td>1.005430</td>\n",
       "    </tr>\n",
       "    <tr>\n",
       "      <th>16_100</th>\n",
       "      <td>1.599095</td>\n",
       "      <td>2.684625</td>\n",
       "      <td>1.085530</td>\n",
       "    </tr>\n",
       "    <tr>\n",
       "      <th>17_100</th>\n",
       "      <td>1.516133</td>\n",
       "      <td>2.686592</td>\n",
       "      <td>1.170459</td>\n",
       "    </tr>\n",
       "  </tbody>\n",
       "</table>\n",
       "</div>"
      ],
      "text/plain": [
       "        error_train  error_val  difference\n",
       "2_100      3.204778   4.604552    1.399774\n",
       "3_100      2.738396   4.188658    1.450262\n",
       "4_100      2.503356   4.014778    1.511423\n",
       "5_100      2.372619   3.254189    0.881570\n",
       "6_100      2.295473   3.052972    0.757499\n",
       "7_100      2.225788   2.959370    0.733581\n",
       "8_100      2.162190   2.849935    0.687745\n",
       "9_100      2.100764   2.779896    0.679132\n",
       "10_100     2.037492   2.744952    0.707461\n",
       "11_100     1.973201   2.726520    0.753320\n",
       "12_100     1.905908   2.714952    0.809044\n",
       "13_100     1.834302   2.704778    0.870476\n",
       "14_100     1.758947   2.695928    0.936981\n",
       "15_100     1.681312   2.686742    1.005430\n",
       "16_100     1.599095   2.684625    1.085530\n",
       "17_100     1.516133   2.686592    1.170459"
      ]
     },
     "execution_count": 38,
     "metadata": {},
     "output_type": "execute_result"
    }
   ],
   "source": [
    "# We convert the dictionary to Dataframe\n",
    "bg_df = pd.DataFrame.from_dict(dicc_bg).T\n",
    "bg_df.columns=['error_train','error_val','difference']\n",
    "bg_df"
   ]
  },
  {
   "cell_type": "code",
   "execution_count": 39,
   "metadata": {},
   "outputs": [
    {
     "data": {
      "image/png": "[encoded data removed]",
      "text/plain": [
       "<Figure size 2160x720 with 1 Axes>"
      ]
     },
     "metadata": {
      "needs_background": "light"
     },
     "output_type": "display_data"
    }
   ],
   "source": [
    "# We plot the results\n",
    "ax = bg_df.plot(kind='line', style='.-',figsize=(30, 10),fontsize=12, rot=0)\n",
    "ax.set_title('RMSE $ BAGGING REGRESSOR (100 estimators)', fontsize=40)\n",
    "ax.set_xlabel(\"Depth_Estimators\", fontsize=20)\n",
    "ax.set_ylabel(\"Rmse $\", fontsize=20)\n",
    "ax.legend(fontsize=20)\n",
    "\n",
    "plt.show()"
   ]
  },
  {
   "cell_type": "markdown",
   "metadata": {},
   "source": [
    "The optimum depth for a Bagging Regressor + Decision Tree would be 9 based on the the difference between errors because for more depth the validation error keeps going down and never reaches a minimum which would cause overfitting."
   ]
  },
  {
   "cell_type": "markdown",
   "metadata": {},
   "source": [
    "### 3.5 BAGGING REGRESSOR + XGBOOST"
   ]
  },
  {
   "cell_type": "markdown",
   "metadata": {},
   "source": [
    "For this model we are going to test with a depth between 5 and 8 because for the Xgboost model we tested previously was the one with which we got the best results."
   ]
  },
  {
   "cell_type": "markdown",
   "metadata": {},
   "source": [
    "#### 3.5.1 Check the model"
   ]
  },
  {
   "cell_type": "code",
   "execution_count": 40,
   "metadata": {},
   "outputs": [
    {
     "name": "stdout",
     "output_type": "stream",
     "text": [
      "Depth: 5\n",
      "For a 5 depth and 100 estimators the RMSE_train is 2.09891 $, the RMSE_val is 2.54096 $ and the difference 0.44205 $\n",
      "Depth: 6\n"
     ]
    },
    {
     "name": "stderr",
     "output_type": "stream",
     "text": [
      "/anaconda3/lib/python3.6/site-packages/sklearn/externals/joblib/externals/loky/process_executor.py:706: UserWarning: A worker stopped while some jobs were given to the executor. This can be caused by a too short worker timeout or by a memory leak.\n",
      "  \"timeout or by a memory leak.\", UserWarning\n"
     ]
    },
    {
     "name": "stdout",
     "output_type": "stream",
     "text": [
      "For a 6 depth and 100 estimators the RMSE_train is 2.03877 $, the RMSE_val is 2.52958 $ and the difference 0.49081 $\n",
      "Depth: 7\n",
      "For a 7 depth and 100 estimators the RMSE_train is 1.97137 $, the RMSE_val is 2.55081 $ and the difference 0.57944 $\n",
      "Depth: 8\n"
     ]
    },
    {
     "name": "stderr",
     "output_type": "stream",
     "text": [
      "/anaconda3/lib/python3.6/site-packages/sklearn/externals/joblib/externals/loky/process_executor.py:706: UserWarning: A worker stopped while some jobs were given to the executor. This can be caused by a too short worker timeout or by a memory leak.\n",
      "  \"timeout or by a memory leak.\", UserWarning\n"
     ]
    },
    {
     "name": "stdout",
     "output_type": "stream",
     "text": [
      "For a 8 depth and 100 estimators the RMSE_train is 1.90200 $, the RMSE_val is 2.56337 $ and the difference 0.66137 $\n",
      "CPU times: user 4.18 s, sys: 2.83 s, total: 7.01 s\n",
      "Wall time: 1h 31s\n"
     ]
    }
   ],
   "source": [
    "%%time\n",
    "dicc_bg_xgb={}\n",
    "estimator = 100\n",
    "for depth in range(5,9):\n",
    "    print('Depth: %d' % (depth))    \n",
    "    \n",
    "    # We train the model\n",
    "    taxi_model_bg_xgb = BaggingRegressor(XGBRegressor(max_depth=depth,\n",
    "                                                     learning_rate=0.1,\n",
    "                                                     n_estimators=estimator,\n",
    "                                                     n_jobs=-1,\n",
    "                                                     seed=13),\n",
    "                                        n_jobs= -1,\n",
    "                                        random_state=13)\n",
    "    \n",
    "    # We fit the model\n",
    "    taxi_model_bg_xgb.fit(train_predictors, train_target)\n",
    "\n",
    "    # We predict train and validation\n",
    "    train_predictions = taxi_model_bg_xgb.predict(train_predictors)\n",
    "    val_predictions = taxi_model_bg_xgb.predict(validation_predictors)\n",
    "    \n",
    "    # We get the errors\n",
    "    error_train = rmse(train_target, train_predictions)\n",
    "    error_val = rmse(validation_target, val_predictions)\n",
    "    difference = error_val - error_train\n",
    "    \n",
    "    # We save the errors and the difference in a dictionary\n",
    "    dicc_bg_xgb[str(depth) + '_' + str(estimator)]= [error_train,error_val,difference]\n",
    "    \n",
    "    print ('For a %d depth and %d estimators the RMSE_train is %.5f $, the RMSE_val is %.5f $ and the difference %.5f $'\n",
    "            % (depth,estimator,error_train,error_val,difference))"
   ]
  },
  {
   "cell_type": "markdown",
   "metadata": {},
   "source": [
    "#### 3.5.2 Check the best depth "
   ]
  },
  {
   "cell_type": "code",
   "execution_count": 41,
   "metadata": {},
   "outputs": [
    {
     "data": {
      "text/plain": [
       "('8_100', [1.902002743158091, 2.5633680695417556, 0.6613653263836645])"
      ]
     },
     "execution_count": 41,
     "metadata": {},
     "output_type": "execute_result"
    }
   ],
   "source": [
    "# Best depth based on minimum error based on train data\n",
    "min(dicc_bg_xgb.items(), key=lambda x: x[1][0])"
   ]
  },
  {
   "cell_type": "code",
   "execution_count": 42,
   "metadata": {},
   "outputs": [
    {
     "data": {
      "text/plain": [
       "('6_100', [2.038769326726742, 2.529580383251115, 0.49081105652437307])"
      ]
     },
     "execution_count": 42,
     "metadata": {},
     "output_type": "execute_result"
    }
   ],
   "source": [
    "# Best depth based on minimum error based on validation data\n",
    "min(dicc_bg_xgb.items(), key=lambda x: x[1][1])"
   ]
  },
  {
   "cell_type": "code",
   "execution_count": 43,
   "metadata": {},
   "outputs": [
    {
     "data": {
      "text/plain": [
       "('5_100', [2.0989069363264847, 2.5409596517788353, 0.4420527154523506])"
      ]
     },
     "execution_count": 43,
     "metadata": {},
     "output_type": "execute_result"
    }
   ],
   "source": [
    "# Best depth based on difference of errors\n",
    "min(dicc_bg_xgb.items(), key=lambda x: x[1][2])"
   ]
  },
  {
   "cell_type": "markdown",
   "metadata": {},
   "source": [
    "#### 3.5.3 Plot the errors and difference on the basis of the depth"
   ]
  },
  {
   "cell_type": "code",
   "execution_count": 44,
   "metadata": {},
   "outputs": [
    {
     "data": {
      "text/html": [
       "<div>\n",
       "<style scoped>\n",
       "    .dataframe tbody tr th:only-of-type {\n",
       "        vertical-align: middle;\n",
       "    }\n",
       "\n",
       "    .dataframe tbody tr th {\n",
       "        vertical-align: top;\n",
       "    }\n",
       "\n",
       "    .dataframe thead th {\n",
       "        text-align: right;\n",
       "    }\n",
       "</style>\n",
       "<table border=\"1\" class=\"dataframe\">\n",
       "  <thead>\n",
       "    <tr style=\"text-align: right;\">\n",
       "      <th></th>\n",
       "      <th>error_train</th>\n",
       "      <th>error_val</th>\n",
       "      <th>difference</th>\n",
       "    </tr>\n",
       "  </thead>\n",
       "  <tbody>\n",
       "    <tr>\n",
       "      <th>5_100</th>\n",
       "      <td>2.098907</td>\n",
       "      <td>2.540960</td>\n",
       "      <td>0.442053</td>\n",
       "    </tr>\n",
       "    <tr>\n",
       "      <th>6_100</th>\n",
       "      <td>2.038769</td>\n",
       "      <td>2.529580</td>\n",
       "      <td>0.490811</td>\n",
       "    </tr>\n",
       "    <tr>\n",
       "      <th>7_100</th>\n",
       "      <td>1.971367</td>\n",
       "      <td>2.550807</td>\n",
       "      <td>0.579440</td>\n",
       "    </tr>\n",
       "    <tr>\n",
       "      <th>8_100</th>\n",
       "      <td>1.902003</td>\n",
       "      <td>2.563368</td>\n",
       "      <td>0.661365</td>\n",
       "    </tr>\n",
       "  </tbody>\n",
       "</table>\n",
       "</div>"
      ],
      "text/plain": [
       "       error_train  error_val  difference\n",
       "5_100     2.098907   2.540960    0.442053\n",
       "6_100     2.038769   2.529580    0.490811\n",
       "7_100     1.971367   2.550807    0.579440\n",
       "8_100     1.902003   2.563368    0.661365"
      ]
     },
     "execution_count": 44,
     "metadata": {},
     "output_type": "execute_result"
    }
   ],
   "source": [
    "# We convert the dictionary to Dataframe\n",
    "bg_xgb_df = pd.DataFrame.from_dict(dicc_bg_xgb).T\n",
    "bg_xgb_df.columns=['error_train','error_val','difference']\n",
    "bg_xgb_df"
   ]
  },
  {
   "cell_type": "code",
   "execution_count": 45,
   "metadata": {},
   "outputs": [
    {
     "data": {
      "image/png": "[encoded data removed]",
      "text/plain": [
       "<Figure size 2160x720 with 1 Axes>"
      ]
     },
     "metadata": {
      "needs_background": "light"
     },
     "output_type": "display_data"
    }
   ],
   "source": [
    "# We plot the results\n",
    "ax = bg_xgb_df.plot(kind='line', style='.-',figsize=(30, 10),fontsize=12, rot=0)\n",
    "ax.set_title('RMSE $ BAGGING REGRESSOR + XGBOOST (100 estimators)', fontsize=40)\n",
    "ax.set_xlabel(\"Depth_Estimators\", fontsize=20)\n",
    "ax.set_ylabel(\"Rmse $\", fontsize=20)\n",
    "ax.legend(fontsize=20)\n",
    "\n",
    "plt.show()"
   ]
  },
  {
   "cell_type": "markdown",
   "metadata": {},
   "source": [
    "The optimum depth for a Bagging Regressor + Xgboost 5 based on the validation error and the difference between errors because more depth would cause overfitting."
   ]
  },
  {
   "cell_type": "markdown",
   "metadata": {},
   "source": [
    "### 3.6 Delete variables stored in memory"
   ]
  },
  {
   "cell_type": "markdown",
   "metadata": {},
   "source": [
    "We eliminate the variables stored in memory that we are not going to use from now on to free up space."
   ]
  },
  {
   "cell_type": "code",
   "execution_count": 46,
   "metadata": {},
   "outputs": [],
   "source": [
    "del bg_df, bg_xgb_df, depth, dicc_bg, dicc_bg_xgb, dicc_dt, dicc_rf, dicc_xgb, difference, dt_df, error_train,\\\n",
    "error_val, estimator, rf_df, taxi_model_bg, taxi_model_bg_xgb, taxi_model_dt, taxi_model_rf, taxi_model_xgb, xgb_df"
   ]
  },
  {
   "cell_type": "markdown",
   "metadata": {},
   "source": [
    "Based on the 5 models tested, we will choose the number of estimators for a model Bagging Regressor + Xgboost with depth 5 that is the best result obtained."
   ]
  },
  {
   "cell_type": "markdown",
   "metadata": {},
   "source": [
    "## 4 Check the chosen model and chose max estimators"
   ]
  },
  {
   "cell_type": "markdown",
   "metadata": {},
   "source": [
    "### BAGGING REGRESSOR + XGBOOST with depth 5"
   ]
  },
  {
   "cell_type": "markdown",
   "metadata": {},
   "source": [
    "Starting from the chosen model: Bagging + Xgboost with a depth of 5 we are going to choose the number of estimators."
   ]
  },
  {
   "cell_type": "markdown",
   "metadata": {},
   "source": [
    "### 4.1 Check the model"
   ]
  },
  {
   "cell_type": "code",
   "execution_count": 47,
   "metadata": {},
   "outputs": [
    {
     "name": "stdout",
     "output_type": "stream",
     "text": [
      "Depth: 5\n",
      "For a 5 depth and 10 estimators the RMSE_train is 6.01486 $, the RMSE_val is 8.07262 $ and the difference 2.05776 $\n",
      "For a 5 depth and 20 estimators the RMSE_train is 2.98938 $, the RMSE_val is 4.30637 $ and the difference 1.31699 $\n"
     ]
    },
    {
     "name": "stderr",
     "output_type": "stream",
     "text": [
      "/anaconda3/lib/python3.6/site-packages/sklearn/externals/joblib/externals/loky/process_executor.py:706: UserWarning: A worker stopped while some jobs were given to the executor. This can be caused by a too short worker timeout or by a memory leak.\n",
      "  \"timeout or by a memory leak.\", UserWarning\n"
     ]
    },
    {
     "name": "stdout",
     "output_type": "stream",
     "text": [
      "For a 5 depth and 30 estimators the RMSE_train is 2.32929 $, the RMSE_val is 3.10783 $ and the difference 0.77854 $\n"
     ]
    },
    {
     "name": "stderr",
     "output_type": "stream",
     "text": [
      "/anaconda3/lib/python3.6/site-packages/sklearn/externals/joblib/externals/loky/process_executor.py:706: UserWarning: A worker stopped while some jobs were given to the executor. This can be caused by a too short worker timeout or by a memory leak.\n",
      "  \"timeout or by a memory leak.\", UserWarning\n"
     ]
    },
    {
     "name": "stdout",
     "output_type": "stream",
     "text": [
      "For a 5 depth and 40 estimators the RMSE_train is 2.20561 $, the RMSE_val is 2.75015 $ and the difference 0.54454 $\n"
     ]
    },
    {
     "name": "stderr",
     "output_type": "stream",
     "text": [
      "/anaconda3/lib/python3.6/site-packages/sklearn/externals/joblib/externals/loky/process_executor.py:706: UserWarning: A worker stopped while some jobs were given to the executor. This can be caused by a too short worker timeout or by a memory leak.\n",
      "  \"timeout or by a memory leak.\", UserWarning\n"
     ]
    },
    {
     "name": "stdout",
     "output_type": "stream",
     "text": [
      "For a 5 depth and 50 estimators the RMSE_train is 2.16959 $, the RMSE_val is 2.64285 $ and the difference 0.47326 $\n"
     ]
    },
    {
     "name": "stderr",
     "output_type": "stream",
     "text": [
      "/anaconda3/lib/python3.6/site-packages/sklearn/externals/joblib/externals/loky/process_executor.py:706: UserWarning: A worker stopped while some jobs were given to the executor. This can be caused by a too short worker timeout or by a memory leak.\n",
      "  \"timeout or by a memory leak.\", UserWarning\n"
     ]
    },
    {
     "name": "stdout",
     "output_type": "stream",
     "text": [
      "For a 5 depth and 60 estimators the RMSE_train is 2.14961 $, the RMSE_val is 2.59226 $ and the difference 0.44264 $\n",
      "For a 5 depth and 70 estimators the RMSE_train is 2.13300 $, the RMSE_val is 2.56981 $ and the difference 0.43680 $\n"
     ]
    },
    {
     "name": "stderr",
     "output_type": "stream",
     "text": [
      "/anaconda3/lib/python3.6/site-packages/sklearn/externals/joblib/externals/loky/process_executor.py:706: UserWarning: A worker stopped while some jobs were given to the executor. This can be caused by a too short worker timeout or by a memory leak.\n",
      "  \"timeout or by a memory leak.\", UserWarning\n"
     ]
    },
    {
     "name": "stdout",
     "output_type": "stream",
     "text": [
      "For a 5 depth and 80 estimators the RMSE_train is 2.11917 $, the RMSE_val is 2.55788 $ and the difference 0.43871 $\n"
     ]
    },
    {
     "name": "stderr",
     "output_type": "stream",
     "text": [
      "/anaconda3/lib/python3.6/site-packages/sklearn/externals/joblib/externals/loky/process_executor.py:706: UserWarning: A worker stopped while some jobs were given to the executor. This can be caused by a too short worker timeout or by a memory leak.\n",
      "  \"timeout or by a memory leak.\", UserWarning\n"
     ]
    },
    {
     "name": "stdout",
     "output_type": "stream",
     "text": [
      "For a 5 depth and 90 estimators the RMSE_train is 2.10811 $, the RMSE_val is 2.54784 $ and the difference 0.43973 $\n"
     ]
    },
    {
     "name": "stderr",
     "output_type": "stream",
     "text": [
      "/anaconda3/lib/python3.6/site-packages/sklearn/externals/joblib/externals/loky/process_executor.py:706: UserWarning: A worker stopped while some jobs were given to the executor. This can be caused by a too short worker timeout or by a memory leak.\n",
      "  \"timeout or by a memory leak.\", UserWarning\n"
     ]
    },
    {
     "name": "stdout",
     "output_type": "stream",
     "text": [
      "For a 5 depth and 100 estimators the RMSE_train is 2.09891 $, the RMSE_val is 2.54096 $ and the difference 0.44205 $\n"
     ]
    },
    {
     "name": "stderr",
     "output_type": "stream",
     "text": [
      "/anaconda3/lib/python3.6/site-packages/sklearn/externals/joblib/externals/loky/process_executor.py:706: UserWarning: A worker stopped while some jobs were given to the executor. This can be caused by a too short worker timeout or by a memory leak.\n",
      "  \"timeout or by a memory leak.\", UserWarning\n"
     ]
    },
    {
     "name": "stdout",
     "output_type": "stream",
     "text": [
      "For a 5 depth and 110 estimators the RMSE_train is 2.09043 $, the RMSE_val is 2.53666 $ and the difference 0.44622 $\n"
     ]
    },
    {
     "name": "stderr",
     "output_type": "stream",
     "text": [
      "/anaconda3/lib/python3.6/site-packages/sklearn/externals/joblib/externals/loky/process_executor.py:706: UserWarning: A worker stopped while some jobs were given to the executor. This can be caused by a too short worker timeout or by a memory leak.\n",
      "  \"timeout or by a memory leak.\", UserWarning\n"
     ]
    },
    {
     "name": "stdout",
     "output_type": "stream",
     "text": [
      "For a 5 depth and 120 estimators the RMSE_train is 2.08266 $, the RMSE_val is 2.53630 $ and the difference 0.45364 $\n"
     ]
    },
    {
     "name": "stderr",
     "output_type": "stream",
     "text": [
      "/anaconda3/lib/python3.6/site-packages/sklearn/externals/joblib/externals/loky/process_executor.py:706: UserWarning: A worker stopped while some jobs were given to the executor. This can be caused by a too short worker timeout or by a memory leak.\n",
      "  \"timeout or by a memory leak.\", UserWarning\n"
     ]
    },
    {
     "name": "stdout",
     "output_type": "stream",
     "text": [
      "For a 5 depth and 130 estimators the RMSE_train is 2.07624 $, the RMSE_val is 2.53427 $ and the difference 0.45803 $\n"
     ]
    },
    {
     "name": "stderr",
     "output_type": "stream",
     "text": [
      "/anaconda3/lib/python3.6/site-packages/sklearn/externals/joblib/externals/loky/process_executor.py:706: UserWarning: A worker stopped while some jobs were given to the executor. This can be caused by a too short worker timeout or by a memory leak.\n",
      "  \"timeout or by a memory leak.\", UserWarning\n"
     ]
    },
    {
     "name": "stdout",
     "output_type": "stream",
     "text": [
      "For a 5 depth and 140 estimators the RMSE_train is 2.06986 $, the RMSE_val is 2.53064 $ and the difference 0.46078 $\n",
      "CPU times: user 14.4 s, sys: 9.5 s, total: 23.9 s\n",
      "Wall time: 2h 11min 49s\n"
     ]
    }
   ],
   "source": [
    "%%time\n",
    "dicc_bg_xgb={}\n",
    "for depth in range(5,6):\n",
    "    print('Depth: %d' % (depth))\n",
    "    for estimator in range(10,141,10):\n",
    "        \n",
    "        # We train the model\n",
    "        taxi_model_bg_xgb = BaggingRegressor(XGBRegressor(max_depth=depth,\n",
    "                                                          learning_rate=0.1,\n",
    "                                                          n_estimators=estimator,\n",
    "                                                          n_jobs=-1,\n",
    "                                                          seed=13),\n",
    "                                             n_jobs= -1,\n",
    "                                             random_state=13)\n",
    "        \n",
    "        # We fit the model\n",
    "        taxi_model_bg_xgb.fit(train_predictors, train_target)\n",
    "        \n",
    "        # We predict train and validation\n",
    "        train_predictions = taxi_model_bg_xgb.predict(train_predictors)\n",
    "        val_predictions = taxi_model_bg_xgb.predict(validation_predictors)\n",
    "        \n",
    "        # We get the errors\n",
    "        error_train = rmse(train_target, train_predictions)\n",
    "        error_val = rmse(validation_target, val_predictions)\n",
    "        difference = error_val - error_train\n",
    "        \n",
    "        # We save the errors and the difference in a dictionary\n",
    "        dicc_bg_xgb[str(depth) + '_' + str(estimator)]= [error_train,error_val,difference]\n",
    "        \n",
    "        print ('For a %d depth and %d estimators the RMSE_train is %.5f $, the RMSE_val is %.5f $ and the difference %.5f $'\n",
    "            % (depth,estimator,error_train,error_val,difference))\n",
    "        "
   ]
  },
  {
   "cell_type": "markdown",
   "metadata": {},
   "source": [
    "### 4.2 Check the best depth "
   ]
  },
  {
   "cell_type": "code",
   "execution_count": 48,
   "metadata": {},
   "outputs": [
    {
     "data": {
      "text/plain": [
       "('5_140', [2.0698588433855507, 2.5306406639371937, 0.46078182055164296])"
      ]
     },
     "execution_count": 48,
     "metadata": {},
     "output_type": "execute_result"
    }
   ],
   "source": [
    "# Best depth based on minimum error based on train data\n",
    "min(dicc_bg_xgb.items(), key=lambda x: x[1][0])"
   ]
  },
  {
   "cell_type": "code",
   "execution_count": 49,
   "metadata": {},
   "outputs": [
    {
     "data": {
      "text/plain": [
       "('5_140', [2.0698588433855507, 2.5306406639371937, 0.46078182055164296])"
      ]
     },
     "execution_count": 49,
     "metadata": {},
     "output_type": "execute_result"
    }
   ],
   "source": [
    "# Best depth based on minimum error based on validation data\n",
    "min(dicc_bg_xgb.items(), key=lambda x: x[1][1])"
   ]
  },
  {
   "cell_type": "code",
   "execution_count": 50,
   "metadata": {},
   "outputs": [
    {
     "data": {
      "text/plain": [
       "('5_70', [2.133002843685436, 2.5698052934213216, 0.43680244973588556])"
      ]
     },
     "execution_count": 50,
     "metadata": {},
     "output_type": "execute_result"
    }
   ],
   "source": [
    "# Best depth based on difference of errors\n",
    "min(dicc_bg_xgb.items(), key=lambda x: x[1][2])"
   ]
  },
  {
   "cell_type": "markdown",
   "metadata": {},
   "source": [
    "### 4.3 Plot the errors and difference on the basis of the estimators"
   ]
  },
  {
   "cell_type": "code",
   "execution_count": 51,
   "metadata": {},
   "outputs": [
    {
     "data": {
      "text/html": [
       "<div>\n",
       "<style scoped>\n",
       "    .dataframe tbody tr th:only-of-type {\n",
       "        vertical-align: middle;\n",
       "    }\n",
       "\n",
       "    .dataframe tbody tr th {\n",
       "        vertical-align: top;\n",
       "    }\n",
       "\n",
       "    .dataframe thead th {\n",
       "        text-align: right;\n",
       "    }\n",
       "</style>\n",
       "<table border=\"1\" class=\"dataframe\">\n",
       "  <thead>\n",
       "    <tr style=\"text-align: right;\">\n",
       "      <th></th>\n",
       "      <th>error_train</th>\n",
       "      <th>error_val</th>\n",
       "      <th>difference</th>\n",
       "    </tr>\n",
       "  </thead>\n",
       "  <tbody>\n",
       "    <tr>\n",
       "      <th>5_10</th>\n",
       "      <td>6.014860</td>\n",
       "      <td>8.072621</td>\n",
       "      <td>2.057761</td>\n",
       "    </tr>\n",
       "    <tr>\n",
       "      <th>5_20</th>\n",
       "      <td>2.989384</td>\n",
       "      <td>4.306374</td>\n",
       "      <td>1.316991</td>\n",
       "    </tr>\n",
       "    <tr>\n",
       "      <th>5_30</th>\n",
       "      <td>2.329288</td>\n",
       "      <td>3.107832</td>\n",
       "      <td>0.778544</td>\n",
       "    </tr>\n",
       "    <tr>\n",
       "      <th>5_40</th>\n",
       "      <td>2.205610</td>\n",
       "      <td>2.750151</td>\n",
       "      <td>0.544541</td>\n",
       "    </tr>\n",
       "    <tr>\n",
       "      <th>5_50</th>\n",
       "      <td>2.169591</td>\n",
       "      <td>2.642855</td>\n",
       "      <td>0.473264</td>\n",
       "    </tr>\n",
       "    <tr>\n",
       "      <th>5_60</th>\n",
       "      <td>2.149613</td>\n",
       "      <td>2.592257</td>\n",
       "      <td>0.442644</td>\n",
       "    </tr>\n",
       "    <tr>\n",
       "      <th>5_70</th>\n",
       "      <td>2.133003</td>\n",
       "      <td>2.569805</td>\n",
       "      <td>0.436802</td>\n",
       "    </tr>\n",
       "    <tr>\n",
       "      <th>5_80</th>\n",
       "      <td>2.119174</td>\n",
       "      <td>2.557884</td>\n",
       "      <td>0.438711</td>\n",
       "    </tr>\n",
       "    <tr>\n",
       "      <th>5_90</th>\n",
       "      <td>2.108108</td>\n",
       "      <td>2.547837</td>\n",
       "      <td>0.439729</td>\n",
       "    </tr>\n",
       "    <tr>\n",
       "      <th>5_100</th>\n",
       "      <td>2.098907</td>\n",
       "      <td>2.540960</td>\n",
       "      <td>0.442053</td>\n",
       "    </tr>\n",
       "    <tr>\n",
       "      <th>5_110</th>\n",
       "      <td>2.090435</td>\n",
       "      <td>2.536658</td>\n",
       "      <td>0.446223</td>\n",
       "    </tr>\n",
       "    <tr>\n",
       "      <th>5_120</th>\n",
       "      <td>2.082656</td>\n",
       "      <td>2.536298</td>\n",
       "      <td>0.453642</td>\n",
       "    </tr>\n",
       "    <tr>\n",
       "      <th>5_130</th>\n",
       "      <td>2.076239</td>\n",
       "      <td>2.534272</td>\n",
       "      <td>0.458034</td>\n",
       "    </tr>\n",
       "    <tr>\n",
       "      <th>5_140</th>\n",
       "      <td>2.069859</td>\n",
       "      <td>2.530641</td>\n",
       "      <td>0.460782</td>\n",
       "    </tr>\n",
       "  </tbody>\n",
       "</table>\n",
       "</div>"
      ],
      "text/plain": [
       "       error_train  error_val  difference\n",
       "5_10      6.014860   8.072621    2.057761\n",
       "5_20      2.989384   4.306374    1.316991\n",
       "5_30      2.329288   3.107832    0.778544\n",
       "5_40      2.205610   2.750151    0.544541\n",
       "5_50      2.169591   2.642855    0.473264\n",
       "5_60      2.149613   2.592257    0.442644\n",
       "5_70      2.133003   2.569805    0.436802\n",
       "5_80      2.119174   2.557884    0.438711\n",
       "5_90      2.108108   2.547837    0.439729\n",
       "5_100     2.098907   2.540960    0.442053\n",
       "5_110     2.090435   2.536658    0.446223\n",
       "5_120     2.082656   2.536298    0.453642\n",
       "5_130     2.076239   2.534272    0.458034\n",
       "5_140     2.069859   2.530641    0.460782"
      ]
     },
     "execution_count": 51,
     "metadata": {},
     "output_type": "execute_result"
    }
   ],
   "source": [
    "# We convert the dictionary to Dataframe\n",
    "bg_xgb_df = pd.DataFrame.from_dict(dicc_bg_xgb).T\n",
    "bg_xgb_df.columns=['error_train','error_val','difference']\n",
    "bg_xgb_df"
   ]
  },
  {
   "cell_type": "code",
   "execution_count": 52,
   "metadata": {},
   "outputs": [
    {
     "data": {
      "image/png": "[encoded data removed]",
      "text/plain": [
       "<Figure size 2160x720 with 1 Axes>"
      ]
     },
     "metadata": {
      "needs_background": "light"
     },
     "output_type": "display_data"
    }
   ],
   "source": [
    "# We plot the results\n",
    "ax = bg_xgb_df.plot(kind='line', style='.-',figsize=(30, 10),fontsize=12, rot=0)\n",
    "ax.set_title('RMSE $ BAGGING REGRESSOR + XGBOOST (5 Depth)', fontsize=40)\n",
    "ax.set_xlabel(\"Estimators\", fontsize=20)\n",
    "ax.set_ylabel(\"Rmse $\", fontsize=20)\n",
    "ax.legend(fontsize=20)\n",
    "\n",
    "plt.show()"
   ]
  },
  {
   "cell_type": "markdown",
   "metadata": {},
   "source": [
    "Based on this last analysis we have already found the best hyperparameters so we will now try to predict for a Bagging Regressor + Xgboost model with depth 5 and 120 estimators."
   ]
  },
  {
   "cell_type": "markdown",
   "metadata": {},
   "source": [
    "## 5 Bagging + Xgboost with depth 5 and 120 estimators sample dataset"
   ]
  },
  {
   "cell_type": "markdown",
   "metadata": {},
   "source": [
    "Let's measure below how good our model is by predicting the test data fares  that we separate at the beginning of the notebook."
   ]
  },
  {
   "cell_type": "code",
   "execution_count": 53,
   "metadata": {},
   "outputs": [
    {
     "name": "stdout",
     "output_type": "stream",
     "text": [
      "Starting to train at 2019-05-15 19:40:19.482787\n",
      "Finished train at 2019-05-15 19:40:19.485752\n",
      "Starting to fit at 2019-05-15 19:40:19.485810\n",
      "Finished fit at 2019-05-15 19:55:59.873723\n",
      "Starting to predict at 2019-05-15 19:55:59.873977\n"
     ]
    },
    {
     "name": "stderr",
     "output_type": "stream",
     "text": [
      "/anaconda3/lib/python3.6/site-packages/sklearn/externals/joblib/externals/loky/process_executor.py:706: UserWarning: A worker stopped while some jobs were given to the executor. This can be caused by a too short worker timeout or by a memory leak.\n",
      "  \"timeout or by a memory leak.\", UserWarning\n"
     ]
    },
    {
     "name": "stdout",
     "output_type": "stream",
     "text": [
      "Finished predict at 2019-05-15 19:56:16.421183\n",
      "For a 5 depth and 120 estimators the RMSE_train is 2.08266 $, the RMSE_val is 2.53630 $ and the difference 0.45364 $\n",
      "For a 5 depth and 120 estimators the RMSE_test is 2.61125 $\n",
      "CPU times: user 1.25 s, sys: 951 ms, total: 2.2 s\n",
      "Wall time: 15min 56s\n"
     ]
    }
   ],
   "source": [
    "%%time\n",
    "\n",
    "depth = 5\n",
    "estimator = 120\n",
    "print('Starting to train at %s' %(datetime.now()))\n",
    "taxi_model_bg_xgb = BaggingRegressor(XGBRegressor(max_depth=depth,\n",
    "                                                  learning_rate=0.1,\n",
    "                                                  n_estimators=estimator,\n",
    "                                                  n_jobs=-1,\n",
    "                                                  seed=13),\n",
    "                                     n_jobs= -1,\n",
    "                                     random_state=13)\n",
    "print('Finished train at %s' %(datetime.now()))\n",
    "\n",
    "print('Starting to fit at %s' %(datetime.now()))\n",
    "taxi_model_bg_xgb.fit(train_predictors, train_target)\n",
    "print('Finished fit at %s' %(datetime.now()))\n",
    "\n",
    "print('Starting to predict at %s' %(datetime.now()))\n",
    "train_predictions = taxi_model_bg_xgb.predict(train_predictors)\n",
    "val_predictions = taxi_model_bg_xgb.predict(validation_predictors)\n",
    "test_predictions = taxi_model_bg_xgb.predict(test_predictors)\n",
    "print('Finished predict at %s' %(datetime.now()))\n",
    "\n",
    "error_train = rmse(train_target, train_predictions)\n",
    "error_val = rmse(validation_target, val_predictions)\n",
    "error_test = rmse(test_target, test_predictions)\n",
    "difference = error_val - error_train\n",
    "    \n",
    "print ('For a %d depth and %d estimators the RMSE_train is %.5f $, the RMSE_val is %.5f $ and the difference %.5f $'\n",
    "        % (depth,estimator,error_train,error_val,difference))\n",
    "\n",
    "print ('For a %d depth and %d estimators the RMSE_test is %.5f $'\n",
    "        % (depth, estimator, error_test))\n"
   ]
  },
  {
   "cell_type": "markdown",
   "metadata": {},
   "source": [
    "## 7 Conclusion"
   ]
  },
  {
   "cell_type": "markdown",
   "metadata": {},
   "source": [
    "After this analysis that has allowed us to choose the model that best suits the data and its hyperparameters, we have tested it with our data test and we have obtained an RMSE of $2.61.\n",
    "\n",
    "Now what we are going to do is to test this model with the complete dataset in the notebook `final_eda.ipynb`"
   ]
  }
 ],
 "metadata": {
  "kernelspec": {
   "display_name": "Python 3",
   "language": "python",
   "name": "python3"
  },
  "language_info": {
   "codemirror_mode": {
    "name": "ipython",
    "version": 3
   },
   "file_extension": ".py",
   "mimetype": "text/x-python",
   "name": "python",
   "nbconvert_exporter": "python",
   "pygments_lexer": "ipython3",
   "version": "3.6.8"
  }
 },
 "nbformat": 4,
 "nbformat_minor": 2
}
