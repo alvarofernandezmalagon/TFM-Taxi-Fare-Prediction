{
 "cells": [
  {
   "cell_type": "code",
   "execution_count": 1,
   "metadata": {},
   "outputs": [],
   "source": [
    "%matplotlib inline\n",
    "import pandas as pd\n",
    "import numpy as np\n",
    "from math import sqrt\n",
    "import matplotlib.pyplot as plt\n",
    "pd.options.display.max_columns = None\n",
    "\n",
    "import altair as alt\n",
    "alt.renderers.enable(\"notebook\")\n",
    "\n",
    "from sklearn.model_selection import train_test_split\n",
    "from sklearn.tree import DecisionTreeRegressor\n",
    "from sklearn.ensemble import RandomForestRegressor\n",
    "from sklearn.ensemble import BaggingRegressor\n",
    "from xgboost import XGBRegressor\n",
    "from sklearn.ensemble import AdaBoostRegressor\n",
    "\n",
    "from sklearn.metrics import mean_squared_error"
   ]
  },
  {
   "cell_type": "code",
   "execution_count": 2,
   "metadata": {},
   "outputs": [],
   "source": [
    "chicago_trips = pd.read_csv('../Data/taxi_model_sample001.csv')"
   ]
  },
  {
   "cell_type": "code",
   "execution_count": 3,
   "metadata": {},
   "outputs": [
    {
     "data": {
      "text/html": [
       "<div>\n",
       "<style scoped>\n",
       "    .dataframe tbody tr th:only-of-type {\n",
       "        vertical-align: middle;\n",
       "    }\n",
       "\n",
       "    .dataframe tbody tr th {\n",
       "        vertical-align: top;\n",
       "    }\n",
       "\n",
       "    .dataframe thead th {\n",
       "        text-align: right;\n",
       "    }\n",
       "</style>\n",
       "<table border=\"1\" class=\"dataframe\">\n",
       "  <thead>\n",
       "    <tr style=\"text-align: right;\">\n",
       "      <th></th>\n",
       "      <th>trip_id</th>\n",
       "      <th>trip_seconds</th>\n",
       "      <th>pickup_community_area</th>\n",
       "      <th>dropoff_community_area</th>\n",
       "      <th>fare</th>\n",
       "      <th>payment_type</th>\n",
       "      <th>company</th>\n",
       "      <th>pickup_centroid_latitude</th>\n",
       "      <th>pickup_centroid_longitude</th>\n",
       "      <th>dropoff_centroid_latitude</th>\n",
       "      <th>dropoff_centroid_longitude</th>\n",
       "      <th>humidity</th>\n",
       "      <th>pressure</th>\n",
       "      <th>temperature</th>\n",
       "      <th>weather_description</th>\n",
       "      <th>wind_direction</th>\n",
       "      <th>wind_speed</th>\n",
       "      <th>year</th>\n",
       "      <th>month</th>\n",
       "      <th>day</th>\n",
       "      <th>week_day</th>\n",
       "      <th>hour</th>\n",
       "      <th>minute</th>\n",
       "      <th>distance_miles</th>\n",
       "      <th>distance_ord</th>\n",
       "      <th>distance_mdw</th>\n",
       "      <th>taxi_id_ind</th>\n",
       "      <th>payment_type_ind</th>\n",
       "    </tr>\n",
       "  </thead>\n",
       "  <tbody>\n",
       "    <tr>\n",
       "      <th>88813</th>\n",
       "      <td>877efc2b299a9ee93ef0e774924e017dc589ec37</td>\n",
       "      <td>660</td>\n",
       "      <td>32</td>\n",
       "      <td>24</td>\n",
       "      <td>11.45</td>\n",
       "      <td>Cash</td>\n",
       "      <td>KOAM Taxi Association</td>\n",
       "      <td>41.878866</td>\n",
       "      <td>-87.625192</td>\n",
       "      <td>41.901207</td>\n",
       "      <td>-87.676356</td>\n",
       "      <td>57.0</td>\n",
       "      <td>1013.0</td>\n",
       "      <td>281.040000</td>\n",
       "      <td>scattered clouds</td>\n",
       "      <td>20.0</td>\n",
       "      <td>5.0</td>\n",
       "      <td>2014</td>\n",
       "      <td>4</td>\n",
       "      <td>26</td>\n",
       "      <td>7</td>\n",
       "      <td>11</td>\n",
       "      <td>15</td>\n",
       "      <td>3.860697</td>\n",
       "      <td>16.676077</td>\n",
       "      <td>9.534686</td>\n",
       "      <td>775</td>\n",
       "      <td>0</td>\n",
       "    </tr>\n",
       "    <tr>\n",
       "      <th>250703</th>\n",
       "      <td>50346afe97f7d8d588c87c89313000a14c5f72b5</td>\n",
       "      <td>660</td>\n",
       "      <td>32</td>\n",
       "      <td>8</td>\n",
       "      <td>7.85</td>\n",
       "      <td>Cash</td>\n",
       "      <td>Dispatch Taxi Affiliation</td>\n",
       "      <td>41.880994</td>\n",
       "      <td>-87.632746</td>\n",
       "      <td>41.890922</td>\n",
       "      <td>-87.618868</td>\n",
       "      <td>69.0</td>\n",
       "      <td>1027.0</td>\n",
       "      <td>290.898333</td>\n",
       "      <td>light rain</td>\n",
       "      <td>160.0</td>\n",
       "      <td>6.0</td>\n",
       "      <td>2015</td>\n",
       "      <td>5</td>\n",
       "      <td>17</td>\n",
       "      <td>1</td>\n",
       "      <td>17</td>\n",
       "      <td>30</td>\n",
       "      <td>1.179617</td>\n",
       "      <td>19.983967</td>\n",
       "      <td>10.561540</td>\n",
       "      <td>650</td>\n",
       "      <td>0</td>\n",
       "    </tr>\n",
       "    <tr>\n",
       "      <th>239994</th>\n",
       "      <td>5e85ff0e6d52642077a9a07382521ef520407e8c</td>\n",
       "      <td>360</td>\n",
       "      <td>32</td>\n",
       "      <td>32</td>\n",
       "      <td>5.65</td>\n",
       "      <td>Cash</td>\n",
       "      <td>Northwest Management LLC</td>\n",
       "      <td>41.870607</td>\n",
       "      <td>-87.622173</td>\n",
       "      <td>41.880994</td>\n",
       "      <td>-87.632746</td>\n",
       "      <td>80.0</td>\n",
       "      <td>1021.0</td>\n",
       "      <td>273.520000</td>\n",
       "      <td>overcast clouds</td>\n",
       "      <td>10.0</td>\n",
       "      <td>4.0</td>\n",
       "      <td>2014</td>\n",
       "      <td>3</td>\n",
       "      <td>29</td>\n",
       "      <td>7</td>\n",
       "      <td>10</td>\n",
       "      <td>0</td>\n",
       "      <td>1.024405</td>\n",
       "      <td>19.983967</td>\n",
       "      <td>10.561540</td>\n",
       "      <td>1348</td>\n",
       "      <td>0</td>\n",
       "    </tr>\n",
       "    <tr>\n",
       "      <th>208640</th>\n",
       "      <td>03e5360d9b8e85f4be3a6d5e48e043dc877fa312</td>\n",
       "      <td>1200</td>\n",
       "      <td>6</td>\n",
       "      <td>76</td>\n",
       "      <td>30.25</td>\n",
       "      <td>Cash</td>\n",
       "      <td>Taxi Affiliation Services</td>\n",
       "      <td>41.944227</td>\n",
       "      <td>-87.655998</td>\n",
       "      <td>41.980264</td>\n",
       "      <td>-87.913625</td>\n",
       "      <td>59.0</td>\n",
       "      <td>1049.0</td>\n",
       "      <td>254.237333</td>\n",
       "      <td>sky is clear</td>\n",
       "      <td>220.0</td>\n",
       "      <td>2.0</td>\n",
       "      <td>2015</td>\n",
       "      <td>3</td>\n",
       "      <td>6</td>\n",
       "      <td>6</td>\n",
       "      <td>5</td>\n",
       "      <td>45</td>\n",
       "      <td>17.993132</td>\n",
       "      <td>0.626293</td>\n",
       "      <td>12.797410</td>\n",
       "      <td>552</td>\n",
       "      <td>0</td>\n",
       "    </tr>\n",
       "    <tr>\n",
       "      <th>80127</th>\n",
       "      <td>c1d76ae742b8736be1dac9ace6bbd693ba63c5be</td>\n",
       "      <td>660</td>\n",
       "      <td>8</td>\n",
       "      <td>7</td>\n",
       "      <td>9.50</td>\n",
       "      <td>Cash</td>\n",
       "      <td>Chicago Medallion Management</td>\n",
       "      <td>41.899602</td>\n",
       "      <td>-87.633308</td>\n",
       "      <td>41.922686</td>\n",
       "      <td>-87.649489</td>\n",
       "      <td>55.0</td>\n",
       "      <td>1018.0</td>\n",
       "      <td>293.960000</td>\n",
       "      <td>sky is clear</td>\n",
       "      <td>350.0</td>\n",
       "      <td>5.0</td>\n",
       "      <td>2017</td>\n",
       "      <td>6</td>\n",
       "      <td>6</td>\n",
       "      <td>3</td>\n",
       "      <td>17</td>\n",
       "      <td>0</td>\n",
       "      <td>1.947754</td>\n",
       "      <td>18.072117</td>\n",
       "      <td>11.375130</td>\n",
       "      <td>2349</td>\n",
       "      <td>0</td>\n",
       "    </tr>\n",
       "  </tbody>\n",
       "</table>\n",
       "</div>"
      ],
      "text/plain": [
       "                                         trip_id  trip_seconds  \\\n",
       "88813   877efc2b299a9ee93ef0e774924e017dc589ec37           660   \n",
       "250703  50346afe97f7d8d588c87c89313000a14c5f72b5           660   \n",
       "239994  5e85ff0e6d52642077a9a07382521ef520407e8c           360   \n",
       "208640  03e5360d9b8e85f4be3a6d5e48e043dc877fa312          1200   \n",
       "80127   c1d76ae742b8736be1dac9ace6bbd693ba63c5be           660   \n",
       "\n",
       "        pickup_community_area  dropoff_community_area   fare payment_type  \\\n",
       "88813                      32                      24  11.45         Cash   \n",
       "250703                     32                       8   7.85         Cash   \n",
       "239994                     32                      32   5.65         Cash   \n",
       "208640                      6                      76  30.25         Cash   \n",
       "80127                       8                       7   9.50         Cash   \n",
       "\n",
       "                             company  pickup_centroid_latitude  \\\n",
       "88813          KOAM Taxi Association                 41.878866   \n",
       "250703     Dispatch Taxi Affiliation                 41.880994   \n",
       "239994      Northwest Management LLC                 41.870607   \n",
       "208640     Taxi Affiliation Services                 41.944227   \n",
       "80127   Chicago Medallion Management                 41.899602   \n",
       "\n",
       "        pickup_centroid_longitude  dropoff_centroid_latitude  \\\n",
       "88813                  -87.625192                  41.901207   \n",
       "250703                 -87.632746                  41.890922   \n",
       "239994                 -87.622173                  41.880994   \n",
       "208640                 -87.655998                  41.980264   \n",
       "80127                  -87.633308                  41.922686   \n",
       "\n",
       "        dropoff_centroid_longitude  humidity  pressure  temperature  \\\n",
       "88813                   -87.676356      57.0    1013.0   281.040000   \n",
       "250703                  -87.618868      69.0    1027.0   290.898333   \n",
       "239994                  -87.632746      80.0    1021.0   273.520000   \n",
       "208640                  -87.913625      59.0    1049.0   254.237333   \n",
       "80127                   -87.649489      55.0    1018.0   293.960000   \n",
       "\n",
       "       weather_description  wind_direction  wind_speed  year  month  day  \\\n",
       "88813     scattered clouds            20.0         5.0  2014      4   26   \n",
       "250703          light rain           160.0         6.0  2015      5   17   \n",
       "239994     overcast clouds            10.0         4.0  2014      3   29   \n",
       "208640        sky is clear           220.0         2.0  2015      3    6   \n",
       "80127         sky is clear           350.0         5.0  2017      6    6   \n",
       "\n",
       "        week_day  hour  minute  distance_miles  distance_ord  distance_mdw  \\\n",
       "88813          7    11      15        3.860697     16.676077      9.534686   \n",
       "250703         1    17      30        1.179617     19.983967     10.561540   \n",
       "239994         7    10       0        1.024405     19.983967     10.561540   \n",
       "208640         6     5      45       17.993132      0.626293     12.797410   \n",
       "80127          3    17       0        1.947754     18.072117     11.375130   \n",
       "\n",
       "        taxi_id_ind  payment_type_ind  \n",
       "88813           775                 0  \n",
       "250703          650                 0  \n",
       "239994         1348                 0  \n",
       "208640          552                 0  \n",
       "80127          2349                 0  "
      ]
     },
     "execution_count": 3,
     "metadata": {},
     "output_type": "execute_result"
    }
   ],
   "source": [
    "chicago_trips.sample(5)"
   ]
  },
  {
   "cell_type": "code",
   "execution_count": 4,
   "metadata": {},
   "outputs": [
    {
     "data": {
      "text/plain": [
       "trip_id                        object\n",
       "trip_seconds                    int64\n",
       "pickup_community_area           int64\n",
       "dropoff_community_area          int64\n",
       "fare                          float64\n",
       "payment_type                   object\n",
       "company                        object\n",
       "pickup_centroid_latitude      float64\n",
       "pickup_centroid_longitude     float64\n",
       "dropoff_centroid_latitude     float64\n",
       "dropoff_centroid_longitude    float64\n",
       "humidity                      float64\n",
       "pressure                      float64\n",
       "temperature                   float64\n",
       "weather_description            object\n",
       "wind_direction                float64\n",
       "wind_speed                    float64\n",
       "year                            int64\n",
       "month                           int64\n",
       "day                             int64\n",
       "week_day                        int64\n",
       "hour                            int64\n",
       "minute                          int64\n",
       "distance_miles                float64\n",
       "distance_ord                  float64\n",
       "distance_mdw                  float64\n",
       "taxi_id_ind                     int64\n",
       "payment_type_ind                int64\n",
       "dtype: object"
      ]
     },
     "execution_count": 4,
     "metadata": {},
     "output_type": "execute_result"
    }
   ],
   "source": [
    "chicago_trips.dtypes"
   ]
  },
  {
   "cell_type": "code",
   "execution_count": 5,
   "metadata": {},
   "outputs": [],
   "source": [
    "chicago_trips = chicago_trips.drop(['trip_id','trip_seconds'],axis=1)"
   ]
  },
  {
   "cell_type": "code",
   "execution_count": 6,
   "metadata": {},
   "outputs": [],
   "source": [
    "chicago_trips = pd.get_dummies(chicago_trips)"
   ]
  },
  {
   "cell_type": "code",
   "execution_count": 7,
   "metadata": {},
   "outputs": [],
   "source": [
    "chicago_train = chicago_trips[(chicago_trips['year']<2016) |\n",
    "                             ((chicago_trips['year']==2016) & (chicago_trips['month']<=1))]"
   ]
  },
  {
   "cell_type": "code",
   "execution_count": 8,
   "metadata": {},
   "outputs": [
    {
     "data": {
      "text/plain": [
       "(206977, 172)"
      ]
     },
     "execution_count": 8,
     "metadata": {},
     "output_type": "execute_result"
    }
   ],
   "source": [
    "chicago_train.shape"
   ]
  },
  {
   "cell_type": "code",
   "execution_count": 9,
   "metadata": {},
   "outputs": [],
   "source": [
    "train_target = np.ravel(chicago_train[['fare']])\n",
    "train_predictors = chicago_train.drop(['fare'],axis=1)"
   ]
  },
  {
   "cell_type": "code",
   "execution_count": 10,
   "metadata": {},
   "outputs": [],
   "source": [
    "chicago_test_val = chicago_trips[(chicago_trips['year']==2017) |\n",
    "                             ((chicago_trips['year']==2016) & (chicago_trips['month']>1))]"
   ]
  },
  {
   "cell_type": "code",
   "execution_count": 11,
   "metadata": {},
   "outputs": [
    {
     "data": {
      "text/plain": [
       "(74645, 172)"
      ]
     },
     "execution_count": 11,
     "metadata": {},
     "output_type": "execute_result"
    }
   ],
   "source": [
    "chicago_test_val.shape"
   ]
  },
  {
   "cell_type": "code",
   "execution_count": 12,
   "metadata": {},
   "outputs": [],
   "source": [
    "chicago_test_val_target = np.ravel(chicago_test_val[['fare']])\n",
    "chicago_test_val_predictors = chicago_test_val.drop(['fare'],axis=1)"
   ]
  },
  {
   "cell_type": "code",
   "execution_count": 13,
   "metadata": {},
   "outputs": [],
   "source": [
    "validation_predictors,test_predictors, validation_target, test_target = train_test_split(chicago_test_val_predictors, \n",
    "                                                                                         chicago_test_val_target, \n",
    "                                                                                         test_size=0.38, \n",
    "                                                                                         random_state=42)\n",
    "\n",
    "train_target = np.ravel(chicago_train[['fare']])"
   ]
  },
  {
   "cell_type": "code",
   "execution_count": 14,
   "metadata": {},
   "outputs": [],
   "source": [
    "del chicago_test_val, chicago_test_val_predictors, chicago_test_val_target, chicago_train, chicago_trips,"
   ]
  },
  {
   "cell_type": "code",
   "execution_count": 15,
   "metadata": {},
   "outputs": [],
   "source": [
    "def rmse(target,predictors):\n",
    "    return sqrt(mean_squared_error(target, predictors))"
   ]
  },
  {
   "cell_type": "markdown",
   "metadata": {},
   "source": [
    "## DECISION TREE"
   ]
  },
  {
   "cell_type": "code",
   "execution_count": 16,
   "metadata": {
    "scrolled": true
   },
   "outputs": [
    {
     "name": "stdout",
     "output_type": "stream",
     "text": [
      "Depth: 2\n",
      "For a 2 depth the RMSE_train is 3.19190 $, the RMSE_val is 4.67036 $ and the difference 1.47847 $\n",
      "Depth: 3\n",
      "For a 3 depth the RMSE_train is 2.74364 $, the RMSE_val is 4.27453 $ and the difference 1.53089 $\n",
      "Depth: 4\n",
      "For a 4 depth the RMSE_train is 2.53374 $, the RMSE_val is 4.07055 $ and the difference 1.53682 $\n",
      "Depth: 5\n",
      "For a 5 depth the RMSE_train is 2.38114 $, the RMSE_val is 3.85131 $ and the difference 1.47017 $\n",
      "Depth: 6\n",
      "For a 6 depth the RMSE_train is 2.30764 $, the RMSE_val is 3.05415 $ and the difference 0.74651 $\n",
      "Depth: 7\n",
      "For a 7 depth the RMSE_train is 2.24247 $, the RMSE_val is 2.96382 $ and the difference 0.72135 $\n",
      "Depth: 8\n",
      "For a 8 depth the RMSE_train is 2.18080 $, the RMSE_val is 2.97718 $ and the difference 0.79639 $\n",
      "Depth: 9\n",
      "For a 9 depth the RMSE_train is 2.11989 $, the RMSE_val is 4.38145 $ and the difference 2.26156 $\n",
      "Depth: 10\n",
      "For a 10 depth the RMSE_train is 2.06228 $, the RMSE_val is 4.37851 $ and the difference 2.31622 $\n",
      "Depth: 11\n",
      "For a 11 depth the RMSE_train is 2.00323 $, the RMSE_val is 4.44860 $ and the difference 2.44537 $\n",
      "Depth: 12\n",
      "For a 12 depth the RMSE_train is 1.93828 $, the RMSE_val is 4.65244 $ and the difference 2.71416 $\n",
      "Depth: 13\n",
      "For a 13 depth the RMSE_train is 1.86750 $, the RMSE_val is 4.83289 $ and the difference 2.96539 $\n",
      "Depth: 14\n",
      "For a 14 depth the RMSE_train is 1.79849 $, the RMSE_val is 4.37859 $ and the difference 2.58010 $\n",
      "CPU times: user 35.6 s, sys: 3.64 s, total: 39.3 s\n",
      "Wall time: 38.8 s\n"
     ]
    }
   ],
   "source": [
    "%%time\n",
    "dicc_dt={}\n",
    "for depth in range(2,15):\n",
    "    print('Depth: %d' % (depth))\n",
    "    taxi_model_dt = DecisionTreeRegressor(max_depth=depth,random_state=13)\n",
    "    \n",
    "    taxi_model_dt.fit(train_predictors, train_target)\n",
    "    \n",
    "    train_predictions = taxi_model_dt.predict(train_predictors)\n",
    "    val_predictions = taxi_model_dt.predict(validation_predictors)\n",
    "    \n",
    "    error_train = rmse(train_target, train_predictions)\n",
    "    error_val = rmse(validation_target, val_predictions)\n",
    "    difference = error_val - error_train\n",
    "    \n",
    "    dicc_dt[str(depth)]= [error_train,error_val,difference]\n",
    "    print ('For a %d depth the RMSE_train is %.5f $, the RMSE_val is %.5f $ and the difference %.5f $'\n",
    "               % (depth,error_train,error_val,difference)) "
   ]
  },
  {
   "cell_type": "code",
   "execution_count": 17,
   "metadata": {},
   "outputs": [
    {
     "data": {
      "text/plain": [
       "('14', [1.7984890911964497, 4.378592597095931, 2.5801035058994817])"
      ]
     },
     "execution_count": 17,
     "metadata": {},
     "output_type": "execute_result"
    }
   ],
   "source": [
    "min(dicc_dt.items(), key=lambda x: x[1][0])"
   ]
  },
  {
   "cell_type": "code",
   "execution_count": 18,
   "metadata": {},
   "outputs": [
    {
     "data": {
      "text/plain": [
       "('7', [2.242467594023435, 2.963820720290686, 0.721353126267251])"
      ]
     },
     "execution_count": 18,
     "metadata": {},
     "output_type": "execute_result"
    }
   ],
   "source": [
    "min(dicc_dt.items(), key=lambda x: x[1][1])"
   ]
  },
  {
   "cell_type": "code",
   "execution_count": 19,
   "metadata": {},
   "outputs": [
    {
     "data": {
      "text/plain": [
       "('7', [2.242467594023435, 2.963820720290686, 0.721353126267251])"
      ]
     },
     "execution_count": 19,
     "metadata": {},
     "output_type": "execute_result"
    }
   ],
   "source": [
    "min(dicc_dt.items(), key=lambda x: x[1][2])"
   ]
  },
  {
   "cell_type": "markdown",
   "metadata": {},
   "source": [
    "## RANDOM FOREST"
   ]
  },
  {
   "cell_type": "code",
   "execution_count": 19,
   "metadata": {},
   "outputs": [
    {
     "name": "stdout",
     "output_type": "stream",
     "text": [
      "Depth: 2\n",
      "For a 2 depth and 100 estimators the RMSE_train is 3.17849 $, the RMSE_val is 4.66310 $ and the difference 1.48461 $\n",
      "Depth: 3\n",
      "For a 3 depth and 100 estimators the RMSE_train is 2.70733 $, the RMSE_val is 4.24974 $ and the difference 1.54241 $\n",
      "Depth: 4\n",
      "For a 4 depth and 100 estimators the RMSE_train is 2.48478 $, the RMSE_val is 4.04609 $ and the difference 1.56131 $\n",
      "Depth: 5\n",
      "For a 5 depth and 100 estimators the RMSE_train is 2.35051 $, the RMSE_val is 3.62166 $ and the difference 1.27115 $\n",
      "Depth: 6\n",
      "For a 6 depth and 100 estimators the RMSE_train is 2.26968 $, the RMSE_val is 3.03562 $ and the difference 0.76595 $\n",
      "Depth: 7\n",
      "For a 7 depth and 100 estimators the RMSE_train is 2.20020 $, the RMSE_val is 2.89855 $ and the difference 0.69835 $\n",
      "Depth: 8\n",
      "For a 8 depth and 100 estimators the RMSE_train is 2.13895 $, the RMSE_val is 2.76071 $ and the difference 0.62176 $\n",
      "Depth: 9\n",
      "For a 9 depth and 100 estimators the RMSE_train is 2.07821 $, the RMSE_val is 2.70698 $ and the difference 0.62876 $\n",
      "Depth: 10\n",
      "For a 10 depth and 100 estimators the RMSE_train is 2.01771 $, the RMSE_val is 2.67196 $ and the difference 0.65425 $\n",
      "Depth: 11\n",
      "For a 11 depth and 100 estimators the RMSE_train is 1.95483 $, the RMSE_val is 2.67277 $ and the difference 0.71794 $\n",
      "Depth: 12\n",
      "For a 12 depth and 100 estimators the RMSE_train is 1.89033 $, the RMSE_val is 2.67937 $ and the difference 0.78904 $\n",
      "Depth: 13\n",
      "For a 13 depth and 100 estimators the RMSE_train is 1.82035 $, the RMSE_val is 2.69382 $ and the difference 0.87347 $\n",
      "Depth: 14\n",
      "For a 14 depth and 100 estimators the RMSE_train is 1.74521 $, the RMSE_val is 2.69885 $ and the difference 0.95364 $\n",
      "CPU times: user 1h 3min 51s, sys: 18.4 s, total: 1h 4min 9s\n",
      "Wall time: 10min 13s\n"
     ]
    }
   ],
   "source": [
    "%%time\n",
    "dicc_rf={}\n",
    "estimator = 100\n",
    "for depth in range(2,15):\n",
    "    print('Depth: %d' % (depth))\n",
    "    taxi_model_rf = RandomForestRegressor(max_depth=depth,\n",
    "                                          n_estimators=estimator,\n",
    "                                          n_jobs=-1,\n",
    "                                          random_state=13)\n",
    "    \n",
    "    taxi_model_rf.fit(train_predictors, train_target)                                    \n",
    "    \n",
    "    train_predictions = taxi_model_rf.predict(train_predictors)\n",
    "    val_predictions = taxi_model_rf.predict(validation_predictors)\n",
    "    \n",
    "    error_train = rmse(train_target, train_predictions)\n",
    "    error_val = rmse(validation_target, val_predictions)\n",
    "    difference = error_val - error_train\n",
    "    \n",
    "    dicc_rf[str(depth)]= [error_train,error_val,difference]\n",
    "    print ('For a %d depth and %d estimators the RMSE_train is %.5f $, the RMSE_val is %.5f $ and the difference %.5f $'\n",
    "               % (depth,estimator,error_train,error_val,difference))  \n",
    "            "
   ]
  },
  {
   "cell_type": "code",
   "execution_count": 20,
   "metadata": {},
   "outputs": [
    {
     "data": {
      "text/plain": [
       "('14', [1.7452094994588234, 2.6988454358189475, 0.9536359363601241])"
      ]
     },
     "execution_count": 20,
     "metadata": {},
     "output_type": "execute_result"
    }
   ],
   "source": [
    "min(dicc_rf.items(), key=lambda x: x[1][0])"
   ]
  },
  {
   "cell_type": "code",
   "execution_count": 21,
   "metadata": {},
   "outputs": [
    {
     "data": {
      "text/plain": [
       "('10', [2.017711359586667, 2.6719590465333813, 0.6542476869467144])"
      ]
     },
     "execution_count": 21,
     "metadata": {},
     "output_type": "execute_result"
    }
   ],
   "source": [
    "min(dicc_rf.items(), key=lambda x: x[1][1])"
   ]
  },
  {
   "cell_type": "code",
   "execution_count": 22,
   "metadata": {},
   "outputs": [
    {
     "data": {
      "text/plain": [
       "('8', [2.1389487017489706, 2.760711324189831, 0.6217626224408606])"
      ]
     },
     "execution_count": 22,
     "metadata": {},
     "output_type": "execute_result"
    }
   ],
   "source": [
    "min(dicc_rf.items(), key=lambda x: x[1][2])"
   ]
  },
  {
   "cell_type": "markdown",
   "metadata": {},
   "source": [
    "## XGBOOST"
   ]
  },
  {
   "cell_type": "code",
   "execution_count": 16,
   "metadata": {},
   "outputs": [
    {
     "name": "stdout",
     "output_type": "stream",
     "text": [
      "Depth: 2\n",
      "For a 2 depth the RMSE_train is 2.31917 $, the RMSE_val is 2.83356 $ and the difference 0.51440 $\n",
      "Depth: 3\n",
      "For a 3 depth the RMSE_train is 2.21039 $, the RMSE_val is 2.60742 $ and the difference 0.39702 $\n",
      "Depth: 4\n",
      "For a 4 depth the RMSE_train is 2.13788 $, the RMSE_val is 2.50796 $ and the difference 0.37008 $\n",
      "Depth: 5\n",
      "For a 5 depth the RMSE_train is 2.07930 $, the RMSE_val is 2.48920 $ and the difference 0.40990 $\n",
      "Depth: 6\n",
      "For a 6 depth the RMSE_train is 2.04049 $, the RMSE_val is 2.52300 $ and the difference 0.48251 $\n",
      "Depth: 7\n",
      "For a 7 depth the RMSE_train is 2.00226 $, the RMSE_val is 2.54588 $ and the difference 0.54362 $\n",
      "Depth: 8\n",
      "For a 8 depth the RMSE_train is 1.91177 $, the RMSE_val is 2.55509 $ and the difference 0.64332 $\n",
      "Depth: 9\n",
      "For a 9 depth the RMSE_train is 1.87239 $, the RMSE_val is 2.69990 $ and the difference 0.82751 $\n",
      "CPU times: user 24min 23s, sys: 12.4 s, total: 24min 35s\n",
      "Wall time: 24min 16s\n"
     ]
    }
   ],
   "source": [
    "%%time\n",
    "dicc_xgb={}\n",
    "estimator = 100\n",
    "for depth in range(2,10):\n",
    "    print('Depth: %d' % (depth))\n",
    "    \n",
    "    taxi_model_xgb = XGBRegressor(max_depth=depth,\n",
    "                                  learning_rate=0.05,\n",
    "                                  n_estimators=estimator,\n",
    "                                  n_jobs=-1)\n",
    "    \n",
    "    taxi_model_xgb.fit(train_predictors,\n",
    "                       train_target,\n",
    "                       early_stopping_rounds=5,\n",
    "                       eval_set=[(validation_predictors, validation_target)],\n",
    "                       verbose=False)\n",
    "    \n",
    "    train_predictions = taxi_model_xgb.predict(train_predictors)\n",
    "    val_predictions = taxi_model_xgb.predict(validation_predictors)\n",
    "    \n",
    "    error_train = rmse(train_target, train_predictions)\n",
    "    error_val = rmse(validation_target, val_predictions)\n",
    "    difference = error_val - error_train\n",
    "    \n",
    "    dicc_xgb[str(depth) + '_' + str(estimator)]= [error_train,error_val,difference]\n",
    "    print ('For a %d depth and %d estimatorsthe RMSE_train is %.5f $, the RMSE_val is %.5f $ and the difference %.5f $'\n",
    "               % (depth,estimator, error_train,error_val,difference))\n",
    "    "
   ]
  },
  {
   "cell_type": "code",
   "execution_count": 17,
   "metadata": {},
   "outputs": [
    {
     "data": {
      "text/plain": [
       "('9_100', [1.8723851172763226, 2.699896880138007, 0.8275117628616846])"
      ]
     },
     "execution_count": 17,
     "metadata": {},
     "output_type": "execute_result"
    }
   ],
   "source": [
    "min(dicc_xgb.items(), key=lambda x: x[1][0])"
   ]
  },
  {
   "cell_type": "code",
   "execution_count": 18,
   "metadata": {},
   "outputs": [
    {
     "data": {
      "text/plain": [
       "('5_100', [2.079298129977469, 2.489202763001754, 0.40990463302428504])"
      ]
     },
     "execution_count": 18,
     "metadata": {},
     "output_type": "execute_result"
    }
   ],
   "source": [
    "min(dicc_xgb.items(), key=lambda x: x[1][1])"
   ]
  },
  {
   "cell_type": "code",
   "execution_count": 19,
   "metadata": {},
   "outputs": [
    {
     "data": {
      "text/plain": [
       "('4_100', [2.1378810011360967, 2.507960139981517, 0.3700791388454201])"
      ]
     },
     "execution_count": 19,
     "metadata": {},
     "output_type": "execute_result"
    }
   ],
   "source": [
    "min(dicc_xgb.items(), key=lambda x: x[1][2])"
   ]
  },
  {
   "cell_type": "markdown",
   "metadata": {},
   "source": [
    "## BAGGING REGRESSOR"
   ]
  },
  {
   "cell_type": "code",
   "execution_count": 37,
   "metadata": {},
   "outputs": [
    {
     "name": "stdout",
     "output_type": "stream",
     "text": [
      "Depth: 11\n"
     ]
    },
    {
     "name": "stderr",
     "output_type": "stream",
     "text": [
      "/anaconda3/lib/python3.6/site-packages/sklearn/ensemble/bagging.py:397: DataConversionWarning: A column-vector y was passed when a 1d array was expected. Please change the shape of y to (n_samples, ), for example using ravel().\n",
      "  return column_or_1d(y, warn=True)\n"
     ]
    },
    {
     "name": "stdout",
     "output_type": "stream",
     "text": [
      "For a 11 depth and 100 estimator the RMSE_train is 1.95488 $, the RMSE_val is 2.67923 $ and the difference 0.72435 $\n",
      "Depth: 12\n"
     ]
    },
    {
     "name": "stderr",
     "output_type": "stream",
     "text": [
      "/anaconda3/lib/python3.6/site-packages/sklearn/ensemble/bagging.py:397: DataConversionWarning: A column-vector y was passed when a 1d array was expected. Please change the shape of y to (n_samples, ), for example using ravel().\n",
      "  return column_or_1d(y, warn=True)\n"
     ]
    },
    {
     "name": "stdout",
     "output_type": "stream",
     "text": [
      "For a 12 depth and 100 estimator the RMSE_train is 1.89040 $, the RMSE_val is 2.68096 $ and the difference 0.79056 $\n",
      "Depth: 13\n"
     ]
    },
    {
     "name": "stderr",
     "output_type": "stream",
     "text": [
      "/anaconda3/lib/python3.6/site-packages/sklearn/ensemble/bagging.py:397: DataConversionWarning: A column-vector y was passed when a 1d array was expected. Please change the shape of y to (n_samples, ), for example using ravel().\n",
      "  return column_or_1d(y, warn=True)\n"
     ]
    },
    {
     "name": "stdout",
     "output_type": "stream",
     "text": [
      "For a 13 depth and 100 estimator the RMSE_train is 1.82033 $, the RMSE_val is 2.67898 $ and the difference 0.85866 $\n",
      "Depth: 14\n"
     ]
    },
    {
     "name": "stderr",
     "output_type": "stream",
     "text": [
      "/anaconda3/lib/python3.6/site-packages/sklearn/ensemble/bagging.py:397: DataConversionWarning: A column-vector y was passed when a 1d array was expected. Please change the shape of y to (n_samples, ), for example using ravel().\n",
      "  return column_or_1d(y, warn=True)\n"
     ]
    },
    {
     "name": "stdout",
     "output_type": "stream",
     "text": [
      "For a 14 depth and 100 estimator the RMSE_train is 1.74517 $, the RMSE_val is 2.69343 $ and the difference 0.94826 $\n",
      "Depth: 15\n"
     ]
    },
    {
     "name": "stderr",
     "output_type": "stream",
     "text": [
      "/anaconda3/lib/python3.6/site-packages/sklearn/ensemble/bagging.py:397: DataConversionWarning: A column-vector y was passed when a 1d array was expected. Please change the shape of y to (n_samples, ), for example using ravel().\n",
      "  return column_or_1d(y, warn=True)\n"
     ]
    },
    {
     "name": "stdout",
     "output_type": "stream",
     "text": [
      "For a 15 depth and 100 estimator the RMSE_train is 1.66568 $, the RMSE_val is 2.68176 $ and the difference 1.01608 $\n",
      "Depth: 16\n"
     ]
    },
    {
     "name": "stderr",
     "output_type": "stream",
     "text": [
      "/anaconda3/lib/python3.6/site-packages/sklearn/ensemble/bagging.py:397: DataConversionWarning: A column-vector y was passed when a 1d array was expected. Please change the shape of y to (n_samples, ), for example using ravel().\n",
      "  return column_or_1d(y, warn=True)\n"
     ]
    },
    {
     "name": "stdout",
     "output_type": "stream",
     "text": [
      "For a 16 depth and 100 estimator the RMSE_train is 1.58538 $, the RMSE_val is 2.68332 $ and the difference 1.09794 $\n",
      "Depth: 17\n"
     ]
    },
    {
     "name": "stderr",
     "output_type": "stream",
     "text": [
      "/anaconda3/lib/python3.6/site-packages/sklearn/ensemble/bagging.py:397: DataConversionWarning: A column-vector y was passed when a 1d array was expected. Please change the shape of y to (n_samples, ), for example using ravel().\n",
      "  return column_or_1d(y, warn=True)\n"
     ]
    },
    {
     "name": "stdout",
     "output_type": "stream",
     "text": [
      "For a 17 depth and 100 estimator the RMSE_train is 1.50423 $, the RMSE_val is 2.69000 $ and the difference 1.18577 $\n",
      "Depth: 18\n"
     ]
    },
    {
     "name": "stderr",
     "output_type": "stream",
     "text": [
      "/anaconda3/lib/python3.6/site-packages/sklearn/ensemble/bagging.py:397: DataConversionWarning: A column-vector y was passed when a 1d array was expected. Please change the shape of y to (n_samples, ), for example using ravel().\n",
      "  return column_or_1d(y, warn=True)\n"
     ]
    },
    {
     "name": "stdout",
     "output_type": "stream",
     "text": [
      "For a 18 depth and 100 estimator the RMSE_train is 1.42334 $, the RMSE_val is 2.68903 $ and the difference 1.26569 $\n",
      "Depth: 19\n"
     ]
    },
    {
     "name": "stderr",
     "output_type": "stream",
     "text": [
      "/anaconda3/lib/python3.6/site-packages/sklearn/ensemble/bagging.py:397: DataConversionWarning: A column-vector y was passed when a 1d array was expected. Please change the shape of y to (n_samples, ), for example using ravel().\n",
      "  return column_or_1d(y, warn=True)\n"
     ]
    },
    {
     "name": "stdout",
     "output_type": "stream",
     "text": [
      "For a 19 depth and 100 estimator the RMSE_train is 1.34489 $, the RMSE_val is 2.69056 $ and the difference 1.34567 $\n",
      "CPU times: user 15.4 s, sys: 12.6 s, total: 27.9 s\n",
      "Wall time: 18min 12s\n"
     ]
    }
   ],
   "source": [
    "%%time\n",
    "dicc_bg={}\n",
    "estimator = 100\n",
    "for depth in range(3,16):\n",
    "    print('Depth: %d' % (depth))    \n",
    "    \n",
    "    taxi_model_bg= BaggingRegressor(base_estimator = DecisionTreeRegressor(max_depth=depth,\n",
    "                                                                           random_state=13),\n",
    "                                    n_estimators = 100,\n",
    "                                    n_jobs= -1,\n",
    "                                    random_state=13)\n",
    "    \n",
    "    taxi_model_bg.fit(train_predictors, train_target)\n",
    "\n",
    "    train_predictions = taxi_model_bg.predict(train_predictors)\n",
    "    val_predictions = taxi_model_bg.predict(validation_predictors)\n",
    "\n",
    "    error_train = rmse(train_target, train_predictions)\n",
    "    error_val = rmse(validation_target, val_predictions)\n",
    "    difference = error_val - error_train\n",
    "    \n",
    "    dicc_bg[str(depth) + '_' + str(estimator)]= [error_train,error_val,difference]\n",
    "    print ('For a %d depth and %d estimator the RMSE_train is %.5f $, the RMSE_val is %.5f $ and the difference %.5f $'\n",
    "            % (depth,estimator,error_train,error_val,difference))\n",
    "    \n",
    "    "
   ]
  },
  {
   "cell_type": "code",
   "execution_count": 39,
   "metadata": {},
   "outputs": [
    {
     "data": {
      "text/plain": [
       "('19_100', [1.3448893006630633, 2.6905579192108475, 1.3456686185477842])"
      ]
     },
     "execution_count": 39,
     "metadata": {},
     "output_type": "execute_result"
    }
   ],
   "source": [
    "min(dicc_bg.items(), key=lambda x: x[1][0])"
   ]
  },
  {
   "cell_type": "code",
   "execution_count": 40,
   "metadata": {},
   "outputs": [
    {
     "data": {
      "text/plain": [
       "('13_100', [1.8203261438320244, 2.678982604173621, 0.8586564603415965])"
      ]
     },
     "execution_count": 40,
     "metadata": {},
     "output_type": "execute_result"
    }
   ],
   "source": [
    "min(dicc_bg.items(), key=lambda x: x[1][1])"
   ]
  },
  {
   "cell_type": "code",
   "execution_count": 41,
   "metadata": {},
   "outputs": [
    {
     "data": {
      "text/plain": [
       "('11_100', [1.954876857760605, 2.6792264323575044, 0.7243495745968993])"
      ]
     },
     "execution_count": 41,
     "metadata": {},
     "output_type": "execute_result"
    }
   ],
   "source": [
    "min(dicc_bg.items(), key=lambda x: x[1][2])"
   ]
  },
  {
   "cell_type": "markdown",
   "metadata": {},
   "source": [
    "## XGBOOST"
   ]
  },
  {
   "cell_type": "code",
   "execution_count": 16,
   "metadata": {
    "collapsed": true
   },
   "outputs": [
    {
     "name": "stdout",
     "output_type": "stream",
     "text": [
      "Depth: 5\n",
      "For a 5 depth and 140 estimators the RMSE_train is 2.05545 $, the RMSE_val is 2.47616 $ and the difference 0.42071 $\n",
      "For a 5 depth and 141 estimators the RMSE_train is 2.05545 $, the RMSE_val is 2.47616 $ and the difference 0.42071 $\n"
     ]
    },
    {
     "ename": "KeyboardInterrupt",
     "evalue": "",
     "output_type": "error",
     "traceback": [
      "\u001b[0;31m---------------------------------------------------------------------------\u001b[0m",
      "\u001b[0;31mKeyboardInterrupt\u001b[0m                         Traceback (most recent call last)",
      "\u001b[0;32m<timed exec>\u001b[0m in \u001b[0;36m<module>\u001b[0;34m\u001b[0m\n",
      "\u001b[0;32m/anaconda3/lib/python3.6/site-packages/xgboost/sklearn.py\u001b[0m in \u001b[0;36mfit\u001b[0;34m(self, X, y, sample_weight, eval_set, eval_metric, early_stopping_rounds, verbose, xgb_model, sample_weight_eval_set, callbacks)\u001b[0m\n\u001b[1;32m    371\u001b[0m                               \u001b[0mevals_result\u001b[0m\u001b[0;34m=\u001b[0m\u001b[0mevals_result\u001b[0m\u001b[0;34m,\u001b[0m \u001b[0mobj\u001b[0m\u001b[0;34m=\u001b[0m\u001b[0mobj\u001b[0m\u001b[0;34m,\u001b[0m \u001b[0mfeval\u001b[0m\u001b[0;34m=\u001b[0m\u001b[0mfeval\u001b[0m\u001b[0;34m,\u001b[0m\u001b[0;34m\u001b[0m\u001b[0;34m\u001b[0m\u001b[0m\n\u001b[1;32m    372\u001b[0m                               \u001b[0mverbose_eval\u001b[0m\u001b[0;34m=\u001b[0m\u001b[0mverbose\u001b[0m\u001b[0;34m,\u001b[0m \u001b[0mxgb_model\u001b[0m\u001b[0;34m=\u001b[0m\u001b[0mxgb_model\u001b[0m\u001b[0;34m,\u001b[0m\u001b[0;34m\u001b[0m\u001b[0;34m\u001b[0m\u001b[0m\n\u001b[0;32m--> 373\u001b[0;31m                               callbacks=callbacks)\n\u001b[0m\u001b[1;32m    374\u001b[0m \u001b[0;34m\u001b[0m\u001b[0m\n\u001b[1;32m    375\u001b[0m         \u001b[0;32mif\u001b[0m \u001b[0mevals_result\u001b[0m\u001b[0;34m:\u001b[0m\u001b[0;34m\u001b[0m\u001b[0;34m\u001b[0m\u001b[0m\n",
      "\u001b[0;32m/anaconda3/lib/python3.6/site-packages/xgboost/training.py\u001b[0m in \u001b[0;36mtrain\u001b[0;34m(params, dtrain, num_boost_round, evals, obj, feval, maximize, early_stopping_rounds, evals_result, verbose_eval, xgb_model, callbacks, learning_rates)\u001b[0m\n\u001b[1;32m    214\u001b[0m                            \u001b[0mevals\u001b[0m\u001b[0;34m=\u001b[0m\u001b[0mevals\u001b[0m\u001b[0;34m,\u001b[0m\u001b[0;34m\u001b[0m\u001b[0;34m\u001b[0m\u001b[0m\n\u001b[1;32m    215\u001b[0m                            \u001b[0mobj\u001b[0m\u001b[0;34m=\u001b[0m\u001b[0mobj\u001b[0m\u001b[0;34m,\u001b[0m \u001b[0mfeval\u001b[0m\u001b[0;34m=\u001b[0m\u001b[0mfeval\u001b[0m\u001b[0;34m,\u001b[0m\u001b[0;34m\u001b[0m\u001b[0;34m\u001b[0m\u001b[0m\n\u001b[0;32m--> 216\u001b[0;31m                            xgb_model=xgb_model, callbacks=callbacks)\n\u001b[0m\u001b[1;32m    217\u001b[0m \u001b[0;34m\u001b[0m\u001b[0m\n\u001b[1;32m    218\u001b[0m \u001b[0;34m\u001b[0m\u001b[0m\n",
      "\u001b[0;32m/anaconda3/lib/python3.6/site-packages/xgboost/training.py\u001b[0m in \u001b[0;36m_train_internal\u001b[0;34m(params, dtrain, num_boost_round, evals, obj, feval, xgb_model, callbacks)\u001b[0m\n\u001b[1;32m     72\u001b[0m         \u001b[0;31m# Skip the first update if it is a recovery step.\u001b[0m\u001b[0;34m\u001b[0m\u001b[0;34m\u001b[0m\u001b[0;34m\u001b[0m\u001b[0m\n\u001b[1;32m     73\u001b[0m         \u001b[0;32mif\u001b[0m \u001b[0mversion\u001b[0m \u001b[0;34m%\u001b[0m \u001b[0;36m2\u001b[0m \u001b[0;34m==\u001b[0m \u001b[0;36m0\u001b[0m\u001b[0;34m:\u001b[0m\u001b[0;34m\u001b[0m\u001b[0;34m\u001b[0m\u001b[0m\n\u001b[0;32m---> 74\u001b[0;31m             \u001b[0mbst\u001b[0m\u001b[0;34m.\u001b[0m\u001b[0mupdate\u001b[0m\u001b[0;34m(\u001b[0m\u001b[0mdtrain\u001b[0m\u001b[0;34m,\u001b[0m \u001b[0mi\u001b[0m\u001b[0;34m,\u001b[0m \u001b[0mobj\u001b[0m\u001b[0;34m)\u001b[0m\u001b[0;34m\u001b[0m\u001b[0;34m\u001b[0m\u001b[0m\n\u001b[0m\u001b[1;32m     75\u001b[0m             \u001b[0mbst\u001b[0m\u001b[0;34m.\u001b[0m\u001b[0msave_rabit_checkpoint\u001b[0m\u001b[0;34m(\u001b[0m\u001b[0;34m)\u001b[0m\u001b[0;34m\u001b[0m\u001b[0;34m\u001b[0m\u001b[0m\n\u001b[1;32m     76\u001b[0m             \u001b[0mversion\u001b[0m \u001b[0;34m+=\u001b[0m \u001b[0;36m1\u001b[0m\u001b[0;34m\u001b[0m\u001b[0;34m\u001b[0m\u001b[0m\n",
      "\u001b[0;32m/anaconda3/lib/python3.6/site-packages/xgboost/core.py\u001b[0m in \u001b[0;36mupdate\u001b[0;34m(self, dtrain, iteration, fobj)\u001b[0m\n\u001b[1;32m   1043\u001b[0m         \u001b[0;32mif\u001b[0m \u001b[0mfobj\u001b[0m \u001b[0;32mis\u001b[0m \u001b[0;32mNone\u001b[0m\u001b[0;34m:\u001b[0m\u001b[0;34m\u001b[0m\u001b[0;34m\u001b[0m\u001b[0m\n\u001b[1;32m   1044\u001b[0m             _check_call(_LIB.XGBoosterUpdateOneIter(self.handle, ctypes.c_int(iteration),\n\u001b[0;32m-> 1045\u001b[0;31m                                                     dtrain.handle))\n\u001b[0m\u001b[1;32m   1046\u001b[0m         \u001b[0;32melse\u001b[0m\u001b[0;34m:\u001b[0m\u001b[0;34m\u001b[0m\u001b[0;34m\u001b[0m\u001b[0m\n\u001b[1;32m   1047\u001b[0m             \u001b[0mpred\u001b[0m \u001b[0;34m=\u001b[0m \u001b[0mself\u001b[0m\u001b[0;34m.\u001b[0m\u001b[0mpredict\u001b[0m\u001b[0;34m(\u001b[0m\u001b[0mdtrain\u001b[0m\u001b[0;34m)\u001b[0m\u001b[0;34m\u001b[0m\u001b[0;34m\u001b[0m\u001b[0m\n",
      "\u001b[0;31mKeyboardInterrupt\u001b[0m: "
     ]
    }
   ],
   "source": [
    "%%time\n",
    "dicc_xgb={}\n",
    "estimator = 100\n",
    "for depth in range(5,6):\n",
    "    print('Depth: %d' % (depth))\n",
    "    for estimator in range(80,170,2):\n",
    "        taxi_model_xgb = XGBRegressor(max_depth=depth,\n",
    "                                      learning_rate=0.1,\n",
    "                                      n_estimators=estimator,\n",
    "                                      n_jobs=-1)\n",
    "    \n",
    "        taxi_model_xgb.fit(train_predictors,\n",
    "                           train_target,\n",
    "                           early_stopping_rounds=5,\n",
    "                           eval_set=[(validation_predictors, validation_target)],\n",
    "                           verbose=False)\n",
    "    \n",
    "        train_predictions = taxi_model_xgb.predict(train_predictors)\n",
    "        val_predictions = taxi_model_xgb.predict(validation_predictors)\n",
    "    \n",
    "        error_train = rmse(train_target, train_predictions)\n",
    "        error_val = rmse(validation_target, val_predictions)\n",
    "        difference = error_val - error_train\n",
    "    \n",
    "        dicc_xgb[str(depth) + '_' + str(estimator)]= [error_train,error_val,difference]\n",
    "        print ('For a %d depth and %d estimators the RMSE_train is %.5f $, the RMSE_val is %.5f $ and the difference %.5f $'\n",
    "               % (depth,estimator, error_train,error_val,difference))"
   ]
  },
  {
   "cell_type": "code",
   "execution_count": 30,
   "metadata": {},
   "outputs": [
    {
     "data": {
      "text/plain": [
       "('5_140', [2.0554481837217, 2.476160793077591, 0.42071260935589105])"
      ]
     },
     "execution_count": 30,
     "metadata": {},
     "output_type": "execute_result"
    }
   ],
   "source": [
    "min(dicc_xgb.items(), key=lambda x: x[1][0])"
   ]
  },
  {
   "cell_type": "code",
   "execution_count": 31,
   "metadata": {},
   "outputs": [
    {
     "data": {
      "text/plain": [
       "('5_140', [2.0554481837217, 2.476160793077591, 0.42071260935589105])"
      ]
     },
     "execution_count": 31,
     "metadata": {},
     "output_type": "execute_result"
    }
   ],
   "source": [
    "min(dicc_xgb.items(), key=lambda x: x[1][1])"
   ]
  },
  {
   "cell_type": "code",
   "execution_count": 32,
   "metadata": {},
   "outputs": [
    {
     "data": {
      "text/plain": [
       "('5_80', [2.0978493835211767, 2.503664419638038, 0.40581503611686154])"
      ]
     },
     "execution_count": 32,
     "metadata": {},
     "output_type": "execute_result"
    }
   ],
   "source": [
    "min(dicc_xgb.items(), key=lambda x: x[1][2])"
   ]
  },
  {
   "cell_type": "code",
   "execution_count": null,
   "metadata": {},
   "outputs": [],
   "source": [
    "xgb_df = pd.DataFrame.from_dict(dicc_xgb).T\n",
    "xgb_df.columns=['error_train','error_val','difference']\n",
    "xgb_df.head()"
   ]
  },
  {
   "cell_type": "code",
   "execution_count": null,
   "metadata": {},
   "outputs": [],
   "source": [
    "ax = adab_df.plot(kind='line', style='.-',figsize=(30, 10),fontsize=12, rot=0)\n",
    "ax.set_title('RMSE $', fontsize=40)\n",
    "ax.set_xlabel(\"Depth_Estimators\", fontsize=20)\n",
    "ax.set_ylabel(\"Rmse $\", fontsize=20)\n",
    "ax.legend(fontsize=20)\n",
    "\n",
    "plt.show()"
   ]
  },
  {
   "cell_type": "code",
   "execution_count": null,
   "metadata": {},
   "outputs": [],
   "source": []
  }
 ],
 "metadata": {
  "kernelspec": {
   "display_name": "Python 3",
   "language": "python",
   "name": "python3"
  },
  "language_info": {
   "codemirror_mode": {
    "name": "ipython",
    "version": 3
   },
   "file_extension": ".py",
   "mimetype": "text/x-python",
   "name": "python",
   "nbconvert_exporter": "python",
   "pygments_lexer": "ipython3",
   "version": "3.6.8"
  }
 },
 "nbformat": 4,
 "nbformat_minor": 2
}
