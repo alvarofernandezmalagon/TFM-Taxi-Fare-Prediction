{
 "cells": [
  {
   "cell_type": "markdown",
   "metadata": {},
   "source": [
    "# Analysis and Modelling\n",
    "\n",
    "The objective of this notebook is to carry out the exploration of different modeling methods, which will allow us to observe which one best adapts to our data and its hyperparameters.\n",
    "\n",
    "The first thing we will do is to test the different models and calculate the hyperparameters that best fit our dataset. For this we will model with the example csv `taxi_model_sample001.csv` obtained in the notebook `final_eda.ipynb`.\n",
    "\n",
    "Once we have chosen the model and the hyperparameters we will model with the complete csv `taxi_model.csv` in the notebook `final_model.ipynb`."
   ]
  },
  {
   "cell_type": "markdown",
   "metadata": {},
   "source": [
    "## Chicago Coordinates \n",
    "-87.6244212, 41.8755616"
   ]
  },
  {
   "cell_type": "markdown",
   "metadata": {},
   "source": [
    "## 1 Load the libraries"
   ]
  },
  {
   "cell_type": "code",
   "execution_count": 1,
   "metadata": {},
   "outputs": [],
   "source": [
    "# We load the libraries we are going to use in our analysis\n",
    "\n",
    "# Libraries to manage our dataset\n",
    "%matplotlib inline\n",
    "import pandas as pd\n",
    "import numpy as np\n",
    "from datetime import datetime\n",
    "from math import sqrt\n",
    "import matplotlib.pyplot as plt\n",
    "pd.options.display.max_columns = None\n",
    "\n",
    "# Libraries for modelling\n",
    "from sklearn.model_selection import train_test_split\n",
    "from sklearn.tree import DecisionTreeRegressor\n",
    "from sklearn.ensemble import RandomForestRegressor\n",
    "from sklearn.ensemble import BaggingRegressor\n",
    "from xgboost import XGBRegressor\n",
    "\n",
    "# A library that will allow us to measure how good our model is.\n",
    "from sklearn.metrics import mean_squared_error"
   ]
  },
  {
   "cell_type": "markdown",
   "metadata": {},
   "source": [
    "## 2 Read the data"
   ]
  },
  {
   "cell_type": "markdown",
   "metadata": {},
   "source": [
    "In this section we are going to load our sample dataset and we are going to divide it in train, validation and test. While train and validation will use it to get the best model, the test will save it to finally check how good is the model created."
   ]
  },
  {
   "cell_type": "markdown",
   "metadata": {},
   "source": [
    "### 2.1 We load csv example"
   ]
  },
  {
   "cell_type": "code",
   "execution_count": 2,
   "metadata": {},
   "outputs": [],
   "source": [
    "chicago_trips = pd.read_csv('../Data/taxi_model_sample001.csv')"
   ]
  },
  {
   "cell_type": "markdown",
   "metadata": {},
   "source": [
    "### 2.2 We check that it has been loaded correctly"
   ]
  },
  {
   "cell_type": "code",
   "execution_count": 3,
   "metadata": {},
   "outputs": [
    {
     "data": {
      "text/html": [
       "<div>\n",
       "<style scoped>\n",
       "    .dataframe tbody tr th:only-of-type {\n",
       "        vertical-align: middle;\n",
       "    }\n",
       "\n",
       "    .dataframe tbody tr th {\n",
       "        vertical-align: top;\n",
       "    }\n",
       "\n",
       "    .dataframe thead th {\n",
       "        text-align: right;\n",
       "    }\n",
       "</style>\n",
       "<table border=\"1\" class=\"dataframe\">\n",
       "  <thead>\n",
       "    <tr style=\"text-align: right;\">\n",
       "      <th></th>\n",
       "      <th>trip_id</th>\n",
       "      <th>trip_seconds</th>\n",
       "      <th>pickup_community_area</th>\n",
       "      <th>dropoff_community_area</th>\n",
       "      <th>fare</th>\n",
       "      <th>payment_type</th>\n",
       "      <th>company</th>\n",
       "      <th>pickup_centroid_latitude</th>\n",
       "      <th>pickup_centroid_longitude</th>\n",
       "      <th>dropoff_centroid_latitude</th>\n",
       "      <th>dropoff_centroid_longitude</th>\n",
       "      <th>humidity</th>\n",
       "      <th>pressure</th>\n",
       "      <th>temperature</th>\n",
       "      <th>weather_description</th>\n",
       "      <th>wind_direction</th>\n",
       "      <th>wind_speed</th>\n",
       "      <th>year</th>\n",
       "      <th>month</th>\n",
       "      <th>day</th>\n",
       "      <th>week_day</th>\n",
       "      <th>hour</th>\n",
       "      <th>minute</th>\n",
       "      <th>distance_miles</th>\n",
       "      <th>distance_ord</th>\n",
       "      <th>distance_mdw</th>\n",
       "      <th>taxi_id_ind</th>\n",
       "      <th>payment_type_ind</th>\n",
       "    </tr>\n",
       "  </thead>\n",
       "  <tbody>\n",
       "    <tr>\n",
       "      <th>269236</th>\n",
       "      <td>48fb602fbf334acba0ad4e230fb026d8a5cda11c</td>\n",
       "      <td>600</td>\n",
       "      <td>32</td>\n",
       "      <td>33</td>\n",
       "      <td>10.00</td>\n",
       "      <td>Cash</td>\n",
       "      <td>Dispatch Taxi Affiliation</td>\n",
       "      <td>41.884987</td>\n",
       "      <td>-87.620993</td>\n",
       "      <td>41.849247</td>\n",
       "      <td>-87.624135</td>\n",
       "      <td>71.0</td>\n",
       "      <td>1017.0</td>\n",
       "      <td>298.1500</td>\n",
       "      <td>few clouds</td>\n",
       "      <td>252.0</td>\n",
       "      <td>3.0</td>\n",
       "      <td>2016</td>\n",
       "      <td>6</td>\n",
       "      <td>20</td>\n",
       "      <td>2</td>\n",
       "      <td>9</td>\n",
       "      <td>30</td>\n",
       "      <td>2.477602</td>\n",
       "      <td>20.663214</td>\n",
       "      <td>9.891721</td>\n",
       "      <td>116</td>\n",
       "      <td>0</td>\n",
       "    </tr>\n",
       "    <tr>\n",
       "      <th>144557</th>\n",
       "      <td>7fbbfdce8c21504e347dba7d9086a8a91c46e9ba</td>\n",
       "      <td>600</td>\n",
       "      <td>32</td>\n",
       "      <td>32</td>\n",
       "      <td>7.05</td>\n",
       "      <td>Credit Card</td>\n",
       "      <td>Taxi Affiliation Services</td>\n",
       "      <td>41.884987</td>\n",
       "      <td>-87.620993</td>\n",
       "      <td>41.880994</td>\n",
       "      <td>-87.632746</td>\n",
       "      <td>90.0</td>\n",
       "      <td>1035.0</td>\n",
       "      <td>266.2795</td>\n",
       "      <td>snow</td>\n",
       "      <td>157.0</td>\n",
       "      <td>4.0</td>\n",
       "      <td>2015</td>\n",
       "      <td>3</td>\n",
       "      <td>3</td>\n",
       "      <td>3</td>\n",
       "      <td>9</td>\n",
       "      <td>30</td>\n",
       "      <td>0.858484</td>\n",
       "      <td>19.983967</td>\n",
       "      <td>10.561540</td>\n",
       "      <td>693</td>\n",
       "      <td>1</td>\n",
       "    </tr>\n",
       "    <tr>\n",
       "      <th>179179</th>\n",
       "      <td>4cf5ae684936a5af64c9fe207aeaa1be2e89c0c2</td>\n",
       "      <td>900</td>\n",
       "      <td>7</td>\n",
       "      <td>77</td>\n",
       "      <td>10.65</td>\n",
       "      <td>Cash</td>\n",
       "      <td>Dispatch Taxi Affiliation</td>\n",
       "      <td>41.922686</td>\n",
       "      <td>-87.649489</td>\n",
       "      <td>41.986712</td>\n",
       "      <td>-87.663416</td>\n",
       "      <td>93.0</td>\n",
       "      <td>1026.0</td>\n",
       "      <td>293.9540</td>\n",
       "      <td>sky is clear</td>\n",
       "      <td>37.0</td>\n",
       "      <td>3.0</td>\n",
       "      <td>2014</td>\n",
       "      <td>8</td>\n",
       "      <td>18</td>\n",
       "      <td>2</td>\n",
       "      <td>0</td>\n",
       "      <td>45</td>\n",
       "      <td>4.525012</td>\n",
       "      <td>16.700655</td>\n",
       "      <td>11.820235</td>\n",
       "      <td>1185</td>\n",
       "      <td>0</td>\n",
       "    </tr>\n",
       "    <tr>\n",
       "      <th>251340</th>\n",
       "      <td>e357e21ce9b5a4784328a053c366dbe09a855c26</td>\n",
       "      <td>480</td>\n",
       "      <td>8</td>\n",
       "      <td>32</td>\n",
       "      <td>6.85</td>\n",
       "      <td>Credit Card</td>\n",
       "      <td>Dispatch Taxi Affiliation</td>\n",
       "      <td>41.892042</td>\n",
       "      <td>-87.631864</td>\n",
       "      <td>41.870607</td>\n",
       "      <td>-87.622173</td>\n",
       "      <td>68.0</td>\n",
       "      <td>1021.0</td>\n",
       "      <td>291.8300</td>\n",
       "      <td>scattered clouds</td>\n",
       "      <td>70.0</td>\n",
       "      <td>6.0</td>\n",
       "      <td>2015</td>\n",
       "      <td>10</td>\n",
       "      <td>7</td>\n",
       "      <td>4</td>\n",
       "      <td>21</td>\n",
       "      <td>45</td>\n",
       "      <td>1.624888</td>\n",
       "      <td>19.797888</td>\n",
       "      <td>10.738379</td>\n",
       "      <td>363</td>\n",
       "      <td>1</td>\n",
       "    </tr>\n",
       "    <tr>\n",
       "      <th>135207</th>\n",
       "      <td>6f9ef1b512678f4de3ea4c714cc692dbe1e36bd0</td>\n",
       "      <td>360</td>\n",
       "      <td>8</td>\n",
       "      <td>28</td>\n",
       "      <td>5.65</td>\n",
       "      <td>Cash</td>\n",
       "      <td>Northwest Management LLC</td>\n",
       "      <td>41.893216</td>\n",
       "      <td>-87.637844</td>\n",
       "      <td>41.885300</td>\n",
       "      <td>-87.642808</td>\n",
       "      <td>86.0</td>\n",
       "      <td>1027.0</td>\n",
       "      <td>290.0765</td>\n",
       "      <td>light rain</td>\n",
       "      <td>211.0</td>\n",
       "      <td>2.0</td>\n",
       "      <td>2015</td>\n",
       "      <td>6</td>\n",
       "      <td>15</td>\n",
       "      <td>2</td>\n",
       "      <td>9</td>\n",
       "      <td>45</td>\n",
       "      <td>0.645561</td>\n",
       "      <td>19.228525</td>\n",
       "      <td>10.221773</td>\n",
       "      <td>325</td>\n",
       "      <td>0</td>\n",
       "    </tr>\n",
       "  </tbody>\n",
       "</table>\n",
       "</div>"
      ],
      "text/plain": [
       "                                         trip_id  trip_seconds  \\\n",
       "269236  48fb602fbf334acba0ad4e230fb026d8a5cda11c           600   \n",
       "144557  7fbbfdce8c21504e347dba7d9086a8a91c46e9ba           600   \n",
       "179179  4cf5ae684936a5af64c9fe207aeaa1be2e89c0c2           900   \n",
       "251340  e357e21ce9b5a4784328a053c366dbe09a855c26           480   \n",
       "135207  6f9ef1b512678f4de3ea4c714cc692dbe1e36bd0           360   \n",
       "\n",
       "        pickup_community_area  dropoff_community_area   fare payment_type  \\\n",
       "269236                     32                      33  10.00         Cash   \n",
       "144557                     32                      32   7.05  Credit Card   \n",
       "179179                      7                      77  10.65         Cash   \n",
       "251340                      8                      32   6.85  Credit Card   \n",
       "135207                      8                      28   5.65         Cash   \n",
       "\n",
       "                          company  pickup_centroid_latitude  \\\n",
       "269236  Dispatch Taxi Affiliation                 41.884987   \n",
       "144557  Taxi Affiliation Services                 41.884987   \n",
       "179179  Dispatch Taxi Affiliation                 41.922686   \n",
       "251340  Dispatch Taxi Affiliation                 41.892042   \n",
       "135207   Northwest Management LLC                 41.893216   \n",
       "\n",
       "        pickup_centroid_longitude  dropoff_centroid_latitude  \\\n",
       "269236                 -87.620993                  41.849247   \n",
       "144557                 -87.620993                  41.880994   \n",
       "179179                 -87.649489                  41.986712   \n",
       "251340                 -87.631864                  41.870607   \n",
       "135207                 -87.637844                  41.885300   \n",
       "\n",
       "        dropoff_centroid_longitude  humidity  pressure  temperature  \\\n",
       "269236                  -87.624135      71.0    1017.0     298.1500   \n",
       "144557                  -87.632746      90.0    1035.0     266.2795   \n",
       "179179                  -87.663416      93.0    1026.0     293.9540   \n",
       "251340                  -87.622173      68.0    1021.0     291.8300   \n",
       "135207                  -87.642808      86.0    1027.0     290.0765   \n",
       "\n",
       "       weather_description  wind_direction  wind_speed  year  month  day  \\\n",
       "269236          few clouds           252.0         3.0  2016      6   20   \n",
       "144557                snow           157.0         4.0  2015      3    3   \n",
       "179179        sky is clear            37.0         3.0  2014      8   18   \n",
       "251340    scattered clouds            70.0         6.0  2015     10    7   \n",
       "135207          light rain           211.0         2.0  2015      6   15   \n",
       "\n",
       "        week_day  hour  minute  distance_miles  distance_ord  distance_mdw  \\\n",
       "269236         2     9      30        2.477602     20.663214      9.891721   \n",
       "144557         3     9      30        0.858484     19.983967     10.561540   \n",
       "179179         2     0      45        4.525012     16.700655     11.820235   \n",
       "251340         4    21      45        1.624888     19.797888     10.738379   \n",
       "135207         2     9      45        0.645561     19.228525     10.221773   \n",
       "\n",
       "        taxi_id_ind  payment_type_ind  \n",
       "269236          116                 0  \n",
       "144557          693                 1  \n",
       "179179         1185                 0  \n",
       "251340          363                 1  \n",
       "135207          325                 0  "
      ]
     },
     "execution_count": 3,
     "metadata": {},
     "output_type": "execute_result"
    }
   ],
   "source": [
    "chicago_trips.sample(5)"
   ]
  },
  {
   "cell_type": "code",
   "execution_count": 4,
   "metadata": {},
   "outputs": [
    {
     "data": {
      "text/plain": [
       "trip_id                        object\n",
       "trip_seconds                    int64\n",
       "pickup_community_area           int64\n",
       "dropoff_community_area          int64\n",
       "fare                          float64\n",
       "payment_type                   object\n",
       "company                        object\n",
       "pickup_centroid_latitude      float64\n",
       "pickup_centroid_longitude     float64\n",
       "dropoff_centroid_latitude     float64\n",
       "dropoff_centroid_longitude    float64\n",
       "humidity                      float64\n",
       "pressure                      float64\n",
       "temperature                   float64\n",
       "weather_description            object\n",
       "wind_direction                float64\n",
       "wind_speed                    float64\n",
       "year                            int64\n",
       "month                           int64\n",
       "day                             int64\n",
       "week_day                        int64\n",
       "hour                            int64\n",
       "minute                          int64\n",
       "distance_miles                float64\n",
       "distance_ord                  float64\n",
       "distance_mdw                  float64\n",
       "taxi_id_ind                     int64\n",
       "payment_type_ind                int64\n",
       "dtype: object"
      ]
     },
     "execution_count": 4,
     "metadata": {},
     "output_type": "execute_result"
    }
   ],
   "source": [
    "chicago_trips.dtypes"
   ]
  },
  {
   "cell_type": "markdown",
   "metadata": {},
   "source": [
    "### 2.3 We eliminate the feautures that are not useful"
   ]
  },
  {
   "cell_type": "code",
   "execution_count": 5,
   "metadata": {},
   "outputs": [],
   "source": [
    "chicago_trips = chicago_trips.drop(['trip_id','trip_seconds','taxi_id_ind','payment_type_ind'],axis=1)"
   ]
  },
  {
   "cell_type": "code",
   "execution_count": 6,
   "metadata": {},
   "outputs": [
    {
     "data": {
      "text/plain": [
       "pickup_community_area           int64\n",
       "dropoff_community_area          int64\n",
       "fare                          float64\n",
       "payment_type                   object\n",
       "company                        object\n",
       "pickup_centroid_latitude      float64\n",
       "pickup_centroid_longitude     float64\n",
       "dropoff_centroid_latitude     float64\n",
       "dropoff_centroid_longitude    float64\n",
       "humidity                      float64\n",
       "pressure                      float64\n",
       "temperature                   float64\n",
       "weather_description            object\n",
       "wind_direction                float64\n",
       "wind_speed                    float64\n",
       "year                            int64\n",
       "month                           int64\n",
       "day                             int64\n",
       "week_day                        int64\n",
       "hour                            int64\n",
       "minute                          int64\n",
       "distance_miles                float64\n",
       "distance_ord                  float64\n",
       "distance_mdw                  float64\n",
       "dtype: object"
      ]
     },
     "execution_count": 6,
     "metadata": {},
     "output_type": "execute_result"
    }
   ],
   "source": [
    "chicago_trips.dtypes"
   ]
  },
  {
   "cell_type": "markdown",
   "metadata": {},
   "source": [
    "### 2.4 We convert string variables to dummies"
   ]
  },
  {
   "cell_type": "code",
   "execution_count": 7,
   "metadata": {},
   "outputs": [],
   "source": [
    "chicago_trips = pd.get_dummies(chicago_trips)"
   ]
  },
  {
   "cell_type": "markdown",
   "metadata": {},
   "source": [
    "### 2.5 We divide our dataset into train, validation and test"
   ]
  },
  {
   "cell_type": "markdown",
   "metadata": {},
   "source": [
    "We do not do cross validation because it would not make sense to use 2017 data to predict 2015."
   ]
  },
  {
   "cell_type": "markdown",
   "metadata": {},
   "source": [
    "#### 2.5.1 Train data"
   ]
  },
  {
   "cell_type": "code",
   "execution_count": 8,
   "metadata": {},
   "outputs": [],
   "source": [
    "chicago_train = chicago_trips[(chicago_trips['year']<2016) |\n",
    "                             ((chicago_trips['year']==2016) & (chicago_trips['month']<=1))]"
   ]
  },
  {
   "cell_type": "code",
   "execution_count": 9,
   "metadata": {},
   "outputs": [
    {
     "data": {
      "text/plain": [
       "(207004, 170)"
      ]
     },
     "execution_count": 9,
     "metadata": {},
     "output_type": "execute_result"
    }
   ],
   "source": [
    "chicago_train.shape"
   ]
  },
  {
   "cell_type": "code",
   "execution_count": 10,
   "metadata": {},
   "outputs": [],
   "source": [
    "train_target = np.ravel(chicago_train[['fare']])\n",
    "train_predictors = chicago_train.drop(['fare'],axis=1)"
   ]
  },
  {
   "cell_type": "markdown",
   "metadata": {},
   "source": [
    "#### 2.5.2 Validation and Test data"
   ]
  },
  {
   "cell_type": "code",
   "execution_count": 11,
   "metadata": {},
   "outputs": [],
   "source": [
    "chicago_test_val = chicago_trips[(chicago_trips['year']==2017) |\n",
    "                             ((chicago_trips['year']==2016) & (chicago_trips['month']>1))]"
   ]
  },
  {
   "cell_type": "code",
   "execution_count": 12,
   "metadata": {},
   "outputs": [
    {
     "data": {
      "text/plain": [
       "(74806, 170)"
      ]
     },
     "execution_count": 12,
     "metadata": {},
     "output_type": "execute_result"
    }
   ],
   "source": [
    "chicago_test_val.shape"
   ]
  },
  {
   "cell_type": "code",
   "execution_count": 13,
   "metadata": {},
   "outputs": [],
   "source": [
    "chicago_test_val_target = np.ravel(chicago_test_val[['fare']])\n",
    "chicago_test_val_predictors = chicago_test_val.drop(['fare'],axis=1)"
   ]
  },
  {
   "cell_type": "code",
   "execution_count": 14,
   "metadata": {},
   "outputs": [],
   "source": [
    "# We get the validation and test data\n",
    "validation_predictors,test_predictors, validation_target, test_target = train_test_split(chicago_test_val_predictors, \n",
    "                                                                                         chicago_test_val_target, \n",
    "                                                                                         test_size=0.38, \n",
    "                                                                                         random_state=42)\n"
   ]
  },
  {
   "cell_type": "code",
   "execution_count": 15,
   "metadata": {},
   "outputs": [],
   "source": [
    "# We erase disk memory space\n",
    "del chicago_test_val, chicago_test_val_predictors, chicago_test_val_target, chicago_train, chicago_trips"
   ]
  },
  {
   "cell_type": "markdown",
   "metadata": {},
   "source": [
    "### 2.6 We create the function that will allow us to measure how good our model is"
   ]
  },
  {
   "cell_type": "code",
   "execution_count": 16,
   "metadata": {},
   "outputs": [],
   "source": [
    "def rmse(target,predictors):\n",
    "    return sqrt(mean_squared_error(target, predictors))"
   ]
  },
  {
   "cell_type": "markdown",
   "metadata": {},
   "source": [
    "## 3 Check the best model and depth"
   ]
  },
  {
   "cell_type": "markdown",
   "metadata": {},
   "source": [
    "In this section we are going to test different models and obtain the optimum depth for this model assigning to all models 100 estimators."
   ]
  },
  {
   "cell_type": "markdown",
   "metadata": {},
   "source": [
    "### 3.1 DECISION TREE"
   ]
  },
  {
   "cell_type": "markdown",
   "metadata": {},
   "source": [
    "#### 3.1.1 Check the model"
   ]
  },
  {
   "cell_type": "code",
   "execution_count": 17,
   "metadata": {
    "scrolled": false
   },
   "outputs": [
    {
     "name": "stdout",
     "output_type": "stream",
     "text": [
      "Depth: 2\n",
      "For a 2 depth the RMSE_train is 3.22321 $, the RMSE_val is 4.61579 $ and the difference 1.39257 $\n",
      "Depth: 3\n",
      "For a 3 depth the RMSE_train is 2.77754 $, the RMSE_val is 4.19796 $ and the difference 1.42042 $\n",
      "Depth: 4\n",
      "For a 4 depth the RMSE_train is 2.53839 $, the RMSE_val is 4.04359 $ and the difference 1.50520 $\n",
      "Depth: 5\n",
      "For a 5 depth the RMSE_train is 2.40275 $, the RMSE_val is 3.14695 $ and the difference 0.74420 $\n",
      "Depth: 6\n",
      "For a 6 depth the RMSE_train is 2.33466 $, the RMSE_val is 3.05898 $ and the difference 0.72431 $\n",
      "Depth: 7\n",
      "For a 7 depth the RMSE_train is 2.27349 $, the RMSE_val is 3.00672 $ and the difference 0.73323 $\n",
      "Depth: 8\n",
      "For a 8 depth the RMSE_train is 2.22661 $, the RMSE_val is 2.80826 $ and the difference 0.58164 $\n",
      "Depth: 9\n",
      "For a 9 depth the RMSE_train is 2.17460 $, the RMSE_val is 2.89294 $ and the difference 0.71834 $\n",
      "Depth: 10\n",
      "For a 10 depth the RMSE_train is 2.10985 $, the RMSE_val is 2.97511 $ and the difference 0.86526 $\n",
      "Depth: 11\n",
      "For a 11 depth the RMSE_train is 2.04877 $, the RMSE_val is 3.15119 $ and the difference 1.10242 $\n",
      "Depth: 12\n",
      "For a 12 depth the RMSE_train is 1.98047 $, the RMSE_val is 3.16955 $ and the difference 1.18908 $\n",
      "Depth: 13\n",
      "For a 13 depth the RMSE_train is 1.90502 $, the RMSE_val is 3.26279 $ and the difference 1.35777 $\n",
      "Depth: 14\n",
      "For a 14 depth the RMSE_train is 1.81092 $, the RMSE_val is 3.46662 $ and the difference 1.65570 $\n",
      "Depth: 15\n",
      "For a 15 depth the RMSE_train is 1.72190 $, the RMSE_val is 3.38665 $ and the difference 1.66475 $\n",
      "Depth: 16\n",
      "For a 16 depth the RMSE_train is 1.62682 $, the RMSE_val is 3.57450 $ and the difference 1.94768 $\n",
      "Depth: 17\n",
      "For a 17 depth the RMSE_train is 1.52136 $, the RMSE_val is 3.40733 $ and the difference 1.88598 $\n",
      "CPU times: user 47.2 s, sys: 4.46 s, total: 51.6 s\n",
      "Wall time: 51.7 s\n"
     ]
    }
   ],
   "source": [
    "%%time\n",
    "dicc_dt={}\n",
    "for depth in range(2,18):\n",
    "    print('Depth: %d' % (depth))\n",
    "    \n",
    "    # We train the model\n",
    "    taxi_model_dt = DecisionTreeRegressor(max_depth=depth,random_state=13)\n",
    "    \n",
    "    # We fit the model\n",
    "    taxi_model_dt.fit(train_predictors, train_target)\n",
    "    \n",
    "    # We predict train and validation\n",
    "    train_predictions = taxi_model_dt.predict(train_predictors)\n",
    "    val_predictions = taxi_model_dt.predict(validation_predictors)\n",
    "    \n",
    "    # We get the errors\n",
    "    error_train = rmse(train_target, train_predictions)\n",
    "    error_val = rmse(validation_target, val_predictions)\n",
    "    difference = error_val - error_train\n",
    "    \n",
    "    # We save the errors and the difference in a dictionary\n",
    "    dicc_dt[str(depth)]= [error_train,error_val,difference]\n",
    "    print ('For a %d depth the RMSE_train is %.5f $, the RMSE_val is %.5f $ and the difference %.5f $'\n",
    "               % (depth,error_train,error_val,difference)) "
   ]
  },
  {
   "cell_type": "markdown",
   "metadata": {},
   "source": [
    "#### 3.1.2 Check the best depth "
   ]
  },
  {
   "cell_type": "code",
   "execution_count": 18,
   "metadata": {},
   "outputs": [
    {
     "data": {
      "text/plain": [
       "('17', [1.521356654005601, 3.407332838434179, 1.8859761844285778])"
      ]
     },
     "execution_count": 18,
     "metadata": {},
     "output_type": "execute_result"
    }
   ],
   "source": [
    "# Best depth based on minimum error based on train data\n",
    "min(dicc_dt.items(), key=lambda x: x[1][0])"
   ]
  },
  {
   "cell_type": "code",
   "execution_count": 19,
   "metadata": {},
   "outputs": [
    {
     "data": {
      "text/plain": [
       "('8', [2.2266113736261373, 2.8082554364183983, 0.581644062792261])"
      ]
     },
     "execution_count": 19,
     "metadata": {},
     "output_type": "execute_result"
    }
   ],
   "source": [
    "# Best depth based on minimum error based on validation data\n",
    "min(dicc_dt.items(), key=lambda x: x[1][1])"
   ]
  },
  {
   "cell_type": "code",
   "execution_count": 20,
   "metadata": {},
   "outputs": [
    {
     "data": {
      "text/plain": [
       "('8', [2.2266113736261373, 2.8082554364183983, 0.581644062792261])"
      ]
     },
     "execution_count": 20,
     "metadata": {},
     "output_type": "execute_result"
    }
   ],
   "source": [
    "# Best depth based on difference of errors\n",
    "min(dicc_dt.items(), key=lambda x: x[1][2])"
   ]
  },
  {
   "cell_type": "markdown",
   "metadata": {},
   "source": [
    "#### 3.1.3 Plot the errors and difference on the basis of the depth"
   ]
  },
  {
   "cell_type": "code",
   "execution_count": 21,
   "metadata": {},
   "outputs": [
    {
     "data": {
      "text/html": [
       "<div>\n",
       "<style scoped>\n",
       "    .dataframe tbody tr th:only-of-type {\n",
       "        vertical-align: middle;\n",
       "    }\n",
       "\n",
       "    .dataframe tbody tr th {\n",
       "        vertical-align: top;\n",
       "    }\n",
       "\n",
       "    .dataframe thead th {\n",
       "        text-align: right;\n",
       "    }\n",
       "</style>\n",
       "<table border=\"1\" class=\"dataframe\">\n",
       "  <thead>\n",
       "    <tr style=\"text-align: right;\">\n",
       "      <th></th>\n",
       "      <th>error_train</th>\n",
       "      <th>error_val</th>\n",
       "      <th>difference</th>\n",
       "    </tr>\n",
       "  </thead>\n",
       "  <tbody>\n",
       "    <tr>\n",
       "      <th>2</th>\n",
       "      <td>3.223212</td>\n",
       "      <td>4.615786</td>\n",
       "      <td>1.392574</td>\n",
       "    </tr>\n",
       "    <tr>\n",
       "      <th>3</th>\n",
       "      <td>2.777536</td>\n",
       "      <td>4.197956</td>\n",
       "      <td>1.420420</td>\n",
       "    </tr>\n",
       "    <tr>\n",
       "      <th>4</th>\n",
       "      <td>2.538392</td>\n",
       "      <td>4.043590</td>\n",
       "      <td>1.505198</td>\n",
       "    </tr>\n",
       "    <tr>\n",
       "      <th>5</th>\n",
       "      <td>2.402749</td>\n",
       "      <td>3.146945</td>\n",
       "      <td>0.744197</td>\n",
       "    </tr>\n",
       "    <tr>\n",
       "      <th>6</th>\n",
       "      <td>2.334665</td>\n",
       "      <td>3.058977</td>\n",
       "      <td>0.724312</td>\n",
       "    </tr>\n",
       "    <tr>\n",
       "      <th>7</th>\n",
       "      <td>2.273489</td>\n",
       "      <td>3.006716</td>\n",
       "      <td>0.733227</td>\n",
       "    </tr>\n",
       "    <tr>\n",
       "      <th>8</th>\n",
       "      <td>2.226611</td>\n",
       "      <td>2.808255</td>\n",
       "      <td>0.581644</td>\n",
       "    </tr>\n",
       "    <tr>\n",
       "      <th>9</th>\n",
       "      <td>2.174600</td>\n",
       "      <td>2.892939</td>\n",
       "      <td>0.718340</td>\n",
       "    </tr>\n",
       "    <tr>\n",
       "      <th>10</th>\n",
       "      <td>2.109846</td>\n",
       "      <td>2.975109</td>\n",
       "      <td>0.865263</td>\n",
       "    </tr>\n",
       "    <tr>\n",
       "      <th>11</th>\n",
       "      <td>2.048765</td>\n",
       "      <td>3.151190</td>\n",
       "      <td>1.102425</td>\n",
       "    </tr>\n",
       "    <tr>\n",
       "      <th>12</th>\n",
       "      <td>1.980467</td>\n",
       "      <td>3.169546</td>\n",
       "      <td>1.189079</td>\n",
       "    </tr>\n",
       "    <tr>\n",
       "      <th>13</th>\n",
       "      <td>1.905024</td>\n",
       "      <td>3.262794</td>\n",
       "      <td>1.357769</td>\n",
       "    </tr>\n",
       "    <tr>\n",
       "      <th>14</th>\n",
       "      <td>1.810924</td>\n",
       "      <td>3.466620</td>\n",
       "      <td>1.655696</td>\n",
       "    </tr>\n",
       "    <tr>\n",
       "      <th>15</th>\n",
       "      <td>1.721901</td>\n",
       "      <td>3.386654</td>\n",
       "      <td>1.664753</td>\n",
       "    </tr>\n",
       "    <tr>\n",
       "      <th>16</th>\n",
       "      <td>1.626822</td>\n",
       "      <td>3.574498</td>\n",
       "      <td>1.947676</td>\n",
       "    </tr>\n",
       "    <tr>\n",
       "      <th>17</th>\n",
       "      <td>1.521357</td>\n",
       "      <td>3.407333</td>\n",
       "      <td>1.885976</td>\n",
       "    </tr>\n",
       "  </tbody>\n",
       "</table>\n",
       "</div>"
      ],
      "text/plain": [
       "    error_train  error_val  difference\n",
       "2      3.223212   4.615786    1.392574\n",
       "3      2.777536   4.197956    1.420420\n",
       "4      2.538392   4.043590    1.505198\n",
       "5      2.402749   3.146945    0.744197\n",
       "6      2.334665   3.058977    0.724312\n",
       "7      2.273489   3.006716    0.733227\n",
       "8      2.226611   2.808255    0.581644\n",
       "9      2.174600   2.892939    0.718340\n",
       "10     2.109846   2.975109    0.865263\n",
       "11     2.048765   3.151190    1.102425\n",
       "12     1.980467   3.169546    1.189079\n",
       "13     1.905024   3.262794    1.357769\n",
       "14     1.810924   3.466620    1.655696\n",
       "15     1.721901   3.386654    1.664753\n",
       "16     1.626822   3.574498    1.947676\n",
       "17     1.521357   3.407333    1.885976"
      ]
     },
     "execution_count": 21,
     "metadata": {},
     "output_type": "execute_result"
    }
   ],
   "source": [
    "# We convert the dictionary to Dataframe\n",
    "dt_df = pd.DataFrame.from_dict(dicc_dt).T\n",
    "dt_df.columns=['error_train','error_val','difference']\n",
    "dt_df"
   ]
  },
  {
   "cell_type": "code",
   "execution_count": 22,
   "metadata": {},
   "outputs": [
    {
     "data": {
      "image/png": "[encoded data removed]",
      "text/plain": [
       "<Figure size 2160x720 with 1 Axes>"
      ]
     },
     "metadata": {
      "needs_background": "light"
     },
     "output_type": "display_data"
    }
   ],
   "source": [
    "# We plot the results\n",
    "ax = dt_df.plot(kind='line', style='.-',figsize=(30, 10),fontsize=14 , rot=0)\n",
    "ax.set_title('RMSE $ DECISION TREE', fontsize=40)\n",
    "ax.set_xlabel(\"Depth_Estimators\", fontsize=20)\n",
    "ax.set_ylabel(\"Rmse $\", fontsize=20)\n",
    "ax.legend(fontsize=20)\n",
    "\n",
    "plt.show()"
   ]
  },
  {
   "cell_type": "markdown",
   "metadata": {},
   "source": [
    "The optimum depth for a decision tree would be 8 based on the validation error and the difference between errors."
   ]
  },
  {
   "cell_type": "markdown",
   "metadata": {},
   "source": [
    "### 3.2 RANDOM FOREST"
   ]
  },
  {
   "cell_type": "markdown",
   "metadata": {},
   "source": [
    "#### 3.2.1 Check the model"
   ]
  },
  {
   "cell_type": "code",
   "execution_count": 23,
   "metadata": {},
   "outputs": [
    {
     "name": "stdout",
     "output_type": "stream",
     "text": [
      "Depth: 2\n",
      "For a 2 depth and 100 estimators the RMSE_train is 3.20478 $, the RMSE_val is 4.60455 $ and the difference 1.39978 $\n",
      "Depth: 3\n",
      "For a 3 depth and 100 estimators the RMSE_train is 2.73840 $, the RMSE_val is 4.18866 $ and the difference 1.45026 $\n",
      "Depth: 4\n",
      "For a 4 depth and 100 estimators the RMSE_train is 2.50335 $, the RMSE_val is 4.01478 $ and the difference 1.51142 $\n",
      "Depth: 5\n",
      "For a 5 depth and 100 estimators the RMSE_train is 2.38181 $, the RMSE_val is 3.25319 $ and the difference 0.87138 $\n",
      "Depth: 6\n",
      "For a 6 depth and 100 estimators the RMSE_train is 2.30750 $, the RMSE_val is 3.04712 $ and the difference 0.73963 $\n",
      "Depth: 7\n",
      "For a 7 depth and 100 estimators the RMSE_train is 2.24550 $, the RMSE_val is 2.94136 $ and the difference 0.69586 $\n",
      "Depth: 8\n",
      "For a 8 depth and 100 estimators the RMSE_train is 2.19016 $, the RMSE_val is 2.83719 $ and the difference 0.64703 $\n",
      "Depth: 9\n",
      "For a 9 depth and 100 estimators the RMSE_train is 2.13232 $, the RMSE_val is 2.77163 $ and the difference 0.63930 $\n",
      "Depth: 10\n",
      "For a 10 depth and 100 estimators the RMSE_train is 2.06956 $, the RMSE_val is 2.72742 $ and the difference 0.65787 $\n",
      "Depth: 11\n",
      "For a 11 depth and 100 estimators the RMSE_train is 2.00366 $, the RMSE_val is 2.70509 $ and the difference 0.70143 $\n",
      "Depth: 12\n",
      "For a 12 depth and 100 estimators the RMSE_train is 1.93186 $, the RMSE_val is 2.69367 $ and the difference 0.76181 $\n",
      "Depth: 13\n",
      "For a 13 depth and 100 estimators the RMSE_train is 1.85497 $, the RMSE_val is 2.68230 $ and the difference 0.82733 $\n",
      "Depth: 14\n",
      "For a 14 depth and 100 estimators the RMSE_train is 1.77488 $, the RMSE_val is 2.67717 $ and the difference 0.90229 $\n",
      "Depth: 15\n",
      "For a 15 depth and 100 estimators the RMSE_train is 1.69113 $, the RMSE_val is 2.67062 $ and the difference 0.97949 $\n",
      "Depth: 16\n",
      "For a 16 depth and 100 estimators the RMSE_train is 1.60534 $, the RMSE_val is 2.67170 $ and the difference 1.06636 $\n",
      "Depth: 17\n",
      "For a 17 depth and 100 estimators the RMSE_train is 1.51856 $, the RMSE_val is 2.67330 $ and the difference 1.15475 $\n",
      "CPU times: user 1h 23min, sys: 14.6 s, total: 1h 23min 15s\n",
      "Wall time: 11min 11s\n"
     ]
    }
   ],
   "source": [
    "%%time\n",
    "dicc_rf={}\n",
    "estimator = 100\n",
    "for depth in range(2,18):\n",
    "    print('Depth: %d' % (depth))\n",
    "    \n",
    "    # We train the model\n",
    "    taxi_model_rf = RandomForestRegressor(max_depth=depth,\n",
    "                                          n_estimators=estimator,\n",
    "                                          n_jobs=-1,\n",
    "                                          random_state=13)\n",
    "    \n",
    "    # We fit the model\n",
    "    taxi_model_rf.fit(train_predictors, train_target)                                    \n",
    "    \n",
    "    # We predict train and validation\n",
    "    train_predictions = taxi_model_rf.predict(train_predictors)\n",
    "    val_predictions = taxi_model_rf.predict(validation_predictors)\n",
    "    \n",
    "    # We get the errors\n",
    "    error_train = rmse(train_target, train_predictions)\n",
    "    error_val = rmse(validation_target, val_predictions)\n",
    "    difference = error_val - error_train\n",
    "    \n",
    "    # We save the errors and the difference in a dictionary\n",
    "    dicc_rf[str(depth)]= [error_train,error_val,difference]\n",
    "    print ('For a %d depth and %d estimators the RMSE_train is %.5f $, the RMSE_val is %.5f $ and the difference %.5f $'\n",
    "               % (depth,estimator,error_train,error_val,difference))  \n",
    "            "
   ]
  },
  {
   "cell_type": "markdown",
   "metadata": {},
   "source": [
    "#### 3.2.2 Check the best depth "
   ]
  },
  {
   "cell_type": "code",
   "execution_count": 24,
   "metadata": {},
   "outputs": [
    {
     "data": {
      "text/plain": [
       "('17', [1.5185552894897398, 2.6733037794813064, 1.1547484899915665])"
      ]
     },
     "execution_count": 24,
     "metadata": {},
     "output_type": "execute_result"
    }
   ],
   "source": [
    "# Best depth based on minimum error based on train data\n",
    "min(dicc_rf.items(), key=lambda x: x[1][0])"
   ]
  },
  {
   "cell_type": "code",
   "execution_count": 25,
   "metadata": {},
   "outputs": [
    {
     "data": {
      "text/plain": [
       "('15', [1.6911342498724955, 2.670621024359623, 0.9794867744871274])"
      ]
     },
     "execution_count": 25,
     "metadata": {},
     "output_type": "execute_result"
    }
   ],
   "source": [
    "# Best depth based on minimum error based on validation data\n",
    "min(dicc_rf.items(), key=lambda x: x[1][1])"
   ]
  },
  {
   "cell_type": "code",
   "execution_count": 26,
   "metadata": {},
   "outputs": [
    {
     "data": {
      "text/plain": [
       "('9', [2.132321910177741, 2.771625067944318, 0.6393031577665771])"
      ]
     },
     "execution_count": 26,
     "metadata": {},
     "output_type": "execute_result"
    }
   ],
   "source": [
    "# Best depth based on difference of errors\n",
    "min(dicc_rf.items(), key=lambda x: x[1][2])"
   ]
  },
  {
   "cell_type": "markdown",
   "metadata": {},
   "source": [
    "#### 3.2.3 Plot the errors and difference on the basis of the depth"
   ]
  },
  {
   "cell_type": "code",
   "execution_count": 27,
   "metadata": {},
   "outputs": [
    {
     "data": {
      "text/html": [
       "<div>\n",
       "<style scoped>\n",
       "    .dataframe tbody tr th:only-of-type {\n",
       "        vertical-align: middle;\n",
       "    }\n",
       "\n",
       "    .dataframe tbody tr th {\n",
       "        vertical-align: top;\n",
       "    }\n",
       "\n",
       "    .dataframe thead th {\n",
       "        text-align: right;\n",
       "    }\n",
       "</style>\n",
       "<table border=\"1\" class=\"dataframe\">\n",
       "  <thead>\n",
       "    <tr style=\"text-align: right;\">\n",
       "      <th></th>\n",
       "      <th>error_train</th>\n",
       "      <th>error_val</th>\n",
       "      <th>difference</th>\n",
       "    </tr>\n",
       "  </thead>\n",
       "  <tbody>\n",
       "    <tr>\n",
       "      <th>2</th>\n",
       "      <td>3.204778</td>\n",
       "      <td>4.604553</td>\n",
       "      <td>1.399775</td>\n",
       "    </tr>\n",
       "    <tr>\n",
       "      <th>3</th>\n",
       "      <td>2.738396</td>\n",
       "      <td>4.188659</td>\n",
       "      <td>1.450263</td>\n",
       "    </tr>\n",
       "    <tr>\n",
       "      <th>4</th>\n",
       "      <td>2.503355</td>\n",
       "      <td>4.014779</td>\n",
       "      <td>1.511425</td>\n",
       "    </tr>\n",
       "    <tr>\n",
       "      <th>5</th>\n",
       "      <td>2.381809</td>\n",
       "      <td>3.253193</td>\n",
       "      <td>0.871384</td>\n",
       "    </tr>\n",
       "    <tr>\n",
       "      <th>6</th>\n",
       "      <td>2.307495</td>\n",
       "      <td>3.047124</td>\n",
       "      <td>0.739628</td>\n",
       "    </tr>\n",
       "    <tr>\n",
       "      <th>7</th>\n",
       "      <td>2.245502</td>\n",
       "      <td>2.941362</td>\n",
       "      <td>0.695860</td>\n",
       "    </tr>\n",
       "    <tr>\n",
       "      <th>8</th>\n",
       "      <td>2.190159</td>\n",
       "      <td>2.837193</td>\n",
       "      <td>0.647034</td>\n",
       "    </tr>\n",
       "    <tr>\n",
       "      <th>9</th>\n",
       "      <td>2.132322</td>\n",
       "      <td>2.771625</td>\n",
       "      <td>0.639303</td>\n",
       "    </tr>\n",
       "    <tr>\n",
       "      <th>10</th>\n",
       "      <td>2.069556</td>\n",
       "      <td>2.727421</td>\n",
       "      <td>0.657865</td>\n",
       "    </tr>\n",
       "    <tr>\n",
       "      <th>11</th>\n",
       "      <td>2.003661</td>\n",
       "      <td>2.705087</td>\n",
       "      <td>0.701427</td>\n",
       "    </tr>\n",
       "    <tr>\n",
       "      <th>12</th>\n",
       "      <td>1.931863</td>\n",
       "      <td>2.693671</td>\n",
       "      <td>0.761808</td>\n",
       "    </tr>\n",
       "    <tr>\n",
       "      <th>13</th>\n",
       "      <td>1.854971</td>\n",
       "      <td>2.682299</td>\n",
       "      <td>0.827328</td>\n",
       "    </tr>\n",
       "    <tr>\n",
       "      <th>14</th>\n",
       "      <td>1.774882</td>\n",
       "      <td>2.677175</td>\n",
       "      <td>0.902292</td>\n",
       "    </tr>\n",
       "    <tr>\n",
       "      <th>15</th>\n",
       "      <td>1.691134</td>\n",
       "      <td>2.670621</td>\n",
       "      <td>0.979487</td>\n",
       "    </tr>\n",
       "    <tr>\n",
       "      <th>16</th>\n",
       "      <td>1.605337</td>\n",
       "      <td>2.671698</td>\n",
       "      <td>1.066361</td>\n",
       "    </tr>\n",
       "    <tr>\n",
       "      <th>17</th>\n",
       "      <td>1.518555</td>\n",
       "      <td>2.673304</td>\n",
       "      <td>1.154748</td>\n",
       "    </tr>\n",
       "  </tbody>\n",
       "</table>\n",
       "</div>"
      ],
      "text/plain": [
       "    error_train  error_val  difference\n",
       "2      3.204778   4.604553    1.399775\n",
       "3      2.738396   4.188659    1.450263\n",
       "4      2.503355   4.014779    1.511425\n",
       "5      2.381809   3.253193    0.871384\n",
       "6      2.307495   3.047124    0.739628\n",
       "7      2.245502   2.941362    0.695860\n",
       "8      2.190159   2.837193    0.647034\n",
       "9      2.132322   2.771625    0.639303\n",
       "10     2.069556   2.727421    0.657865\n",
       "11     2.003661   2.705087    0.701427\n",
       "12     1.931863   2.693671    0.761808\n",
       "13     1.854971   2.682299    0.827328\n",
       "14     1.774882   2.677175    0.902292\n",
       "15     1.691134   2.670621    0.979487\n",
       "16     1.605337   2.671698    1.066361\n",
       "17     1.518555   2.673304    1.154748"
      ]
     },
     "execution_count": 27,
     "metadata": {},
     "output_type": "execute_result"
    }
   ],
   "source": [
    "# We convert the dictionary to Dataframe\n",
    "rf_df = pd.DataFrame.from_dict(dicc_rf).T\n",
    "rf_df.columns=['error_train','error_val','difference']\n",
    "rf_df"
   ]
  },
  {
   "cell_type": "code",
   "execution_count": 28,
   "metadata": {},
   "outputs": [
    {
     "data": {
      "image/png": "[encoded data removed]",
      "text/plain": [
       "<Figure size 2160x720 with 1 Axes>"
      ]
     },
     "metadata": {
      "needs_background": "light"
     },
     "output_type": "display_data"
    }
   ],
   "source": [
    "# We plot the results\n",
    "ax = rf_df.plot(kind='line', style='.-',figsize=(30, 10),fontsize=14, rot=0)\n",
    "ax.set_title('RMSE $ RANDOM FOREST (100 estimators)', fontsize=40)\n",
    "ax.set_xlabel(\"Depth_Estimators\", fontsize=20)\n",
    "ax.set_ylabel(\"Rmse $\", fontsize=20)\n",
    "ax.legend(fontsize=20)\n",
    "\n",
    "plt.show()"
   ]
  },
  {
   "cell_type": "markdown",
   "metadata": {},
   "source": [
    "The optimum depth for a random forest would be 9 based on the the difference between errors because for more depth the validation error keeps going down and never reaches a minimum which would cause overfitting."
   ]
  },
  {
   "cell_type": "markdown",
   "metadata": {},
   "source": [
    "### 3.3 XGBOOST"
   ]
  },
  {
   "cell_type": "markdown",
   "metadata": {},
   "source": [
    "#### 3.3.1 Check the model"
   ]
  },
  {
   "cell_type": "code",
   "execution_count": 29,
   "metadata": {},
   "outputs": [
    {
     "name": "stdout",
     "output_type": "stream",
     "text": [
      "Depth: 2\n",
      "For a 2 depth and 100 estimators the RMSE_train is 2.46565 $, the RMSE_val is 3.36767 $ and the difference 0.90201 $\n",
      "Depth: 3\n",
      "For a 3 depth and 100 estimators the RMSE_train is 2.32672 $, the RMSE_val is 2.85943 $ and the difference 0.53270 $\n",
      "Depth: 4\n",
      "For a 4 depth and 100 estimators the RMSE_train is 2.25353 $, the RMSE_val is 2.70142 $ and the difference 0.44789 $\n",
      "Depth: 5\n",
      "For a 5 depth and 100 estimators the RMSE_train is 2.19358 $, the RMSE_val is 2.62989 $ and the difference 0.43631 $\n",
      "Depth: 6\n",
      "For a 6 depth and 100 estimators the RMSE_train is 2.13933 $, the RMSE_val is 2.59465 $ and the difference 0.45532 $\n",
      "Depth: 7\n",
      "For a 7 depth and 100 estimators the RMSE_train is 2.07856 $, the RMSE_val is 2.57736 $ and the difference 0.49880 $\n",
      "Depth: 8\n",
      "For a 8 depth and 100 estimators the RMSE_train is 2.01613 $, the RMSE_val is 2.60245 $ and the difference 0.58632 $\n",
      "Depth: 9\n",
      "For a 9 depth and 100 estimators the RMSE_train is 1.94378 $, the RMSE_val is 2.62289 $ and the difference 0.67911 $\n",
      "Depth: 10\n",
      "For a 10 depth and 100 estimators the RMSE_train is 1.86250 $, the RMSE_val is 2.69631 $ and the difference 0.83381 $\n",
      "Depth: 11\n",
      "For a 11 depth and 100 estimators the RMSE_train is 1.77031 $, the RMSE_val is 2.72554 $ and the difference 0.95523 $\n",
      "Depth: 12\n",
      "For a 12 depth and 100 estimators the RMSE_train is 1.67155 $, the RMSE_val is 2.76320 $ and the difference 1.09164 $\n",
      "Depth: 13\n",
      "For a 13 depth and 100 estimators the RMSE_train is 1.56681 $, the RMSE_val is 2.79597 $ and the difference 1.22916 $\n",
      "Depth: 14\n",
      "For a 14 depth and 100 estimators the RMSE_train is 1.45242 $, the RMSE_val is 2.78545 $ and the difference 1.33303 $\n",
      "Depth: 15\n",
      "For a 15 depth and 100 estimators the RMSE_train is 1.34090 $, the RMSE_val is 2.81543 $ and the difference 1.47453 $\n",
      "Depth: 16\n",
      "For a 16 depth and 100 estimators the RMSE_train is 1.20017 $, the RMSE_val is 2.83560 $ and the difference 1.63543 $\n",
      "Depth: 17\n",
      "For a 17 depth and 100 estimators the RMSE_train is 1.07987 $, the RMSE_val is 2.84241 $ and the difference 1.76254 $\n",
      "CPU times: user 1h 33min 37s, sys: 26.7 s, total: 1h 34min 4s\n",
      "Wall time: 1h 33min 26s\n"
     ]
    }
   ],
   "source": [
    "%%time\n",
    "dicc_xgb={}\n",
    "estimator = 100\n",
    "for depth in range(2,18):\n",
    "    print('Depth: %d' % (depth))\n",
    "    \n",
    "    # We train the model\n",
    "    taxi_model_xgb = XGBRegressor(max_depth=depth,\n",
    "                                  learning_rate=0.05,\n",
    "                                  n_estimators=estimator,\n",
    "                                  n_jobs=-1,\n",
    "                                  seed=13)\n",
    "    \n",
    "    # We fit the model\n",
    "    taxi_model_xgb.fit(train_predictors,\n",
    "                       train_target,\n",
    "                       early_stopping_rounds=5,\n",
    "                       eval_set=[(validation_predictors, validation_target)],\n",
    "                       verbose=False)\n",
    "    \n",
    "    # We predict train and validation\n",
    "    train_predictions = taxi_model_xgb.predict(train_predictors)\n",
    "    val_predictions = taxi_model_xgb.predict(validation_predictors)\n",
    "    \n",
    "    # We get the errors\n",
    "    error_train = rmse(train_target, train_predictions)\n",
    "    error_val = rmse(validation_target, val_predictions)\n",
    "    difference = error_val - error_train\n",
    "    \n",
    "    # We save the errors and the difference in a dictionary\n",
    "    dicc_xgb[str(depth) + '_' + str(estimator)]= [error_train,error_val,difference]\n",
    "    print ('For a %d depth and %d estimators the RMSE_train is %.5f $, the RMSE_val is %.5f $ and the difference %.5f $'\n",
    "               % (depth,estimator, error_train,error_val,difference))\n",
    "    "
   ]
  },
  {
   "cell_type": "markdown",
   "metadata": {},
   "source": [
    "#### 3.3.2 Check the best depth "
   ]
  },
  {
   "cell_type": "code",
   "execution_count": 30,
   "metadata": {},
   "outputs": [
    {
     "data": {
      "text/plain": [
       "('17_100', [1.0798698119961578, 2.8424070885176094, 1.7625372765214515])"
      ]
     },
     "execution_count": 30,
     "metadata": {},
     "output_type": "execute_result"
    }
   ],
   "source": [
    "# Best depth based on minimum error based on train data\n",
    "min(dicc_xgb.items(), key=lambda x: x[1][0])"
   ]
  },
  {
   "cell_type": "code",
   "execution_count": 31,
   "metadata": {},
   "outputs": [
    {
     "data": {
      "text/plain": [
       "('7_100', [2.0785568599792663, 2.577359560367112, 0.49880270038784547])"
      ]
     },
     "execution_count": 31,
     "metadata": {},
     "output_type": "execute_result"
    }
   ],
   "source": [
    "# Best depth based on minimum error based on validation data\n",
    "min(dicc_xgb.items(), key=lambda x: x[1][1])"
   ]
  },
  {
   "cell_type": "code",
   "execution_count": 32,
   "metadata": {},
   "outputs": [
    {
     "data": {
      "text/plain": [
       "('5_100', [2.193581188042179, 2.6298915287187574, 0.43631034067657826])"
      ]
     },
     "execution_count": 32,
     "metadata": {},
     "output_type": "execute_result"
    }
   ],
   "source": [
    "# Best depth based on difference of errors\n",
    "min(dicc_xgb.items(), key=lambda x: x[1][2])"
   ]
  },
  {
   "cell_type": "markdown",
   "metadata": {},
   "source": [
    "#### 3.3.3 Plot the errors and difference on the basis of the depth"
   ]
  },
  {
   "cell_type": "code",
   "execution_count": 33,
   "metadata": {},
   "outputs": [
    {
     "data": {
      "text/html": [
       "<div>\n",
       "<style scoped>\n",
       "    .dataframe tbody tr th:only-of-type {\n",
       "        vertical-align: middle;\n",
       "    }\n",
       "\n",
       "    .dataframe tbody tr th {\n",
       "        vertical-align: top;\n",
       "    }\n",
       "\n",
       "    .dataframe thead th {\n",
       "        text-align: right;\n",
       "    }\n",
       "</style>\n",
       "<table border=\"1\" class=\"dataframe\">\n",
       "  <thead>\n",
       "    <tr style=\"text-align: right;\">\n",
       "      <th></th>\n",
       "      <th>error_train</th>\n",
       "      <th>error_val</th>\n",
       "      <th>difference</th>\n",
       "    </tr>\n",
       "  </thead>\n",
       "  <tbody>\n",
       "    <tr>\n",
       "      <th>2_100</th>\n",
       "      <td>2.465651</td>\n",
       "      <td>3.367665</td>\n",
       "      <td>0.902015</td>\n",
       "    </tr>\n",
       "    <tr>\n",
       "      <th>3_100</th>\n",
       "      <td>2.326722</td>\n",
       "      <td>2.859425</td>\n",
       "      <td>0.532703</td>\n",
       "    </tr>\n",
       "    <tr>\n",
       "      <th>4_100</th>\n",
       "      <td>2.253529</td>\n",
       "      <td>2.701417</td>\n",
       "      <td>0.447888</td>\n",
       "    </tr>\n",
       "    <tr>\n",
       "      <th>5_100</th>\n",
       "      <td>2.193581</td>\n",
       "      <td>2.629892</td>\n",
       "      <td>0.436310</td>\n",
       "    </tr>\n",
       "    <tr>\n",
       "      <th>6_100</th>\n",
       "      <td>2.139330</td>\n",
       "      <td>2.594650</td>\n",
       "      <td>0.455320</td>\n",
       "    </tr>\n",
       "    <tr>\n",
       "      <th>7_100</th>\n",
       "      <td>2.078557</td>\n",
       "      <td>2.577360</td>\n",
       "      <td>0.498803</td>\n",
       "    </tr>\n",
       "    <tr>\n",
       "      <th>8_100</th>\n",
       "      <td>2.016132</td>\n",
       "      <td>2.602453</td>\n",
       "      <td>0.586321</td>\n",
       "    </tr>\n",
       "    <tr>\n",
       "      <th>9_100</th>\n",
       "      <td>1.943776</td>\n",
       "      <td>2.622889</td>\n",
       "      <td>0.679113</td>\n",
       "    </tr>\n",
       "    <tr>\n",
       "      <th>10_100</th>\n",
       "      <td>1.862503</td>\n",
       "      <td>2.696314</td>\n",
       "      <td>0.833811</td>\n",
       "    </tr>\n",
       "    <tr>\n",
       "      <th>11_100</th>\n",
       "      <td>1.770314</td>\n",
       "      <td>2.725540</td>\n",
       "      <td>0.955227</td>\n",
       "    </tr>\n",
       "    <tr>\n",
       "      <th>12_100</th>\n",
       "      <td>1.671555</td>\n",
       "      <td>2.763197</td>\n",
       "      <td>1.091642</td>\n",
       "    </tr>\n",
       "    <tr>\n",
       "      <th>13_100</th>\n",
       "      <td>1.566813</td>\n",
       "      <td>2.795970</td>\n",
       "      <td>1.229158</td>\n",
       "    </tr>\n",
       "    <tr>\n",
       "      <th>14_100</th>\n",
       "      <td>1.452424</td>\n",
       "      <td>2.785453</td>\n",
       "      <td>1.333029</td>\n",
       "    </tr>\n",
       "    <tr>\n",
       "      <th>15_100</th>\n",
       "      <td>1.340899</td>\n",
       "      <td>2.815428</td>\n",
       "      <td>1.474529</td>\n",
       "    </tr>\n",
       "    <tr>\n",
       "      <th>16_100</th>\n",
       "      <td>1.200172</td>\n",
       "      <td>2.835597</td>\n",
       "      <td>1.635425</td>\n",
       "    </tr>\n",
       "    <tr>\n",
       "      <th>17_100</th>\n",
       "      <td>1.079870</td>\n",
       "      <td>2.842407</td>\n",
       "      <td>1.762537</td>\n",
       "    </tr>\n",
       "  </tbody>\n",
       "</table>\n",
       "</div>"
      ],
      "text/plain": [
       "        error_train  error_val  difference\n",
       "2_100      2.465651   3.367665    0.902015\n",
       "3_100      2.326722   2.859425    0.532703\n",
       "4_100      2.253529   2.701417    0.447888\n",
       "5_100      2.193581   2.629892    0.436310\n",
       "6_100      2.139330   2.594650    0.455320\n",
       "7_100      2.078557   2.577360    0.498803\n",
       "8_100      2.016132   2.602453    0.586321\n",
       "9_100      1.943776   2.622889    0.679113\n",
       "10_100     1.862503   2.696314    0.833811\n",
       "11_100     1.770314   2.725540    0.955227\n",
       "12_100     1.671555   2.763197    1.091642\n",
       "13_100     1.566813   2.795970    1.229158\n",
       "14_100     1.452424   2.785453    1.333029\n",
       "15_100     1.340899   2.815428    1.474529\n",
       "16_100     1.200172   2.835597    1.635425\n",
       "17_100     1.079870   2.842407    1.762537"
      ]
     },
     "execution_count": 33,
     "metadata": {},
     "output_type": "execute_result"
    }
   ],
   "source": [
    "# We convert the dictionary to Dataframe\n",
    "xgb_df = pd.DataFrame.from_dict(dicc_xgb).T\n",
    "xgb_df.columns=['error_train','error_val','difference']\n",
    "xgb_df"
   ]
  },
  {
   "cell_type": "code",
   "execution_count": 34,
   "metadata": {},
   "outputs": [
    {
     "data": {
      "image/png": "[encoded data removed]",
      "text/plain": [
       "<Figure size 2160x720 with 1 Axes>"
      ]
     },
     "metadata": {
      "needs_background": "light"
     },
     "output_type": "display_data"
    }
   ],
   "source": [
    "# We plot the results\n",
    "ax = xgb_df.plot(kind='line', style='.-',figsize=(30, 10),fontsize=14, rot=0)\n",
    "ax.set_title('RMSE $ XGBOOST (100 estimators)', fontsize=40)\n",
    "ax.set_xlabel(\"Depth_Estimators\", fontsize=20)\n",
    "ax.set_ylabel(\"Rmse $\", fontsize=20)\n",
    "ax.legend(fontsize=20)\n",
    "\n",
    "plt.show()"
   ]
  },
  {
   "cell_type": "markdown",
   "metadata": {},
   "source": [
    "The optimum depth for a Xgboost would be 7 based on the validation error and the difference between errors because more depth would cause overfitting."
   ]
  },
  {
   "cell_type": "markdown",
   "metadata": {},
   "source": [
    "### 3.4 BAGGING REGRESSOR + DECISION TREE"
   ]
  },
  {
   "cell_type": "markdown",
   "metadata": {},
   "source": [
    "#### 3.4.1 Check the model"
   ]
  },
  {
   "cell_type": "code",
   "execution_count": 35,
   "metadata": {},
   "outputs": [
    {
     "name": "stdout",
     "output_type": "stream",
     "text": [
      "Depth: 2\n",
      "For a 2 depth and 100 estimators the RMSE_train is 3.20478 $, the RMSE_val is 4.60455 $ and the difference 1.39977 $\n",
      "Depth: 3\n",
      "For a 3 depth and 100 estimators the RMSE_train is 2.73840 $, the RMSE_val is 4.18866 $ and the difference 1.45026 $\n",
      "Depth: 4\n",
      "For a 4 depth and 100 estimators the RMSE_train is 2.50336 $, the RMSE_val is 4.01478 $ and the difference 1.51142 $\n",
      "Depth: 5\n",
      "For a 5 depth and 100 estimators the RMSE_train is 2.38182 $, the RMSE_val is 3.25316 $ and the difference 0.87134 $\n",
      "Depth: 6\n",
      "For a 6 depth and 100 estimators the RMSE_train is 2.30748 $, the RMSE_val is 3.04730 $ and the difference 0.73982 $\n",
      "Depth: 7\n",
      "For a 7 depth and 100 estimators the RMSE_train is 2.24541 $, the RMSE_val is 2.94123 $ and the difference 0.69582 $\n",
      "Depth: 8\n",
      "For a 8 depth and 100 estimators the RMSE_train is 2.19013 $, the RMSE_val is 2.83195 $ and the difference 0.64183 $\n",
      "Depth: 9\n",
      "For a 9 depth and 100 estimators the RMSE_train is 2.13207 $, the RMSE_val is 2.76961 $ and the difference 0.63754 $\n",
      "Depth: 10\n",
      "For a 10 depth and 100 estimators the RMSE_train is 2.06944 $, the RMSE_val is 2.72932 $ and the difference 0.65988 $\n",
      "Depth: 11\n",
      "For a 11 depth and 100 estimators the RMSE_train is 2.00342 $, the RMSE_val is 2.70692 $ and the difference 0.70350 $\n",
      "Depth: 12\n",
      "For a 12 depth and 100 estimators the RMSE_train is 1.93183 $, the RMSE_val is 2.69086 $ and the difference 0.75903 $\n",
      "Depth: 13\n",
      "For a 13 depth and 100 estimators the RMSE_train is 1.85467 $, the RMSE_val is 2.67755 $ and the difference 0.82287 $\n",
      "Depth: 14\n",
      "For a 14 depth and 100 estimators the RMSE_train is 1.77443 $, the RMSE_val is 2.67789 $ and the difference 0.90346 $\n",
      "Depth: 15\n",
      "For a 15 depth and 100 estimators the RMSE_train is 1.69087 $, the RMSE_val is 2.67532 $ and the difference 0.98444 $\n",
      "Depth: 16\n",
      "For a 16 depth and 100 estimators the RMSE_train is 1.60518 $, the RMSE_val is 2.67630 $ and the difference 1.07112 $\n",
      "Depth: 17\n",
      "For a 17 depth and 100 estimators the RMSE_train is 1.51825 $, the RMSE_val is 2.67274 $ and the difference 1.15449 $\n",
      "CPU times: user 24.8 s, sys: 18.6 s, total: 43.4 s\n",
      "Wall time: 27min 40s\n"
     ]
    }
   ],
   "source": [
    "%%time\n",
    "dicc_bg={}\n",
    "estimator = 100\n",
    "for depth in range(2,18):\n",
    "    print('Depth: %d' % (depth))    \n",
    "    \n",
    "    # We train the model\n",
    "    taxi_model_bg= BaggingRegressor(base_estimator = DecisionTreeRegressor(max_depth=depth,\n",
    "                                                                           random_state=13),\n",
    "                                    n_estimators = estimator,\n",
    "                                    n_jobs= -1,\n",
    "                                    random_state=13)\n",
    "    \n",
    "    # We fit the model\n",
    "    taxi_model_bg.fit(train_predictors, train_target)\n",
    "    \n",
    "    # We predict train and validation\n",
    "    train_predictions = taxi_model_bg.predict(train_predictors)\n",
    "    val_predictions = taxi_model_bg.predict(validation_predictors)\n",
    "    \n",
    "    # We get the errors\n",
    "    error_train = rmse(train_target, train_predictions)\n",
    "    error_val = rmse(validation_target, val_predictions)\n",
    "    difference = error_val - error_train\n",
    "    \n",
    "    # We save the errors and the difference in a dictionary\n",
    "    dicc_bg[str(depth) + '_' + str(estimator)]= [error_train,error_val,difference]\n",
    "    print ('For a %d depth and %d estimators the RMSE_train is %.5f $, the RMSE_val is %.5f $ and the difference %.5f $'\n",
    "            % (depth,estimator,error_train,error_val,difference))\n",
    "     "
   ]
  },
  {
   "cell_type": "markdown",
   "metadata": {},
   "source": [
    "#### 3.4.2 Check the best depth "
   ]
  },
  {
   "cell_type": "code",
   "execution_count": 36,
   "metadata": {},
   "outputs": [
    {
     "data": {
      "text/plain": [
       "('17_100', [1.5182488466514323, 2.6727400837278465, 1.1544912370764142])"
      ]
     },
     "execution_count": 36,
     "metadata": {},
     "output_type": "execute_result"
    }
   ],
   "source": [
    "# Best depth based on minimum error based on train data\n",
    "min(dicc_bg.items(), key=lambda x: x[1][0])"
   ]
  },
  {
   "cell_type": "code",
   "execution_count": 37,
   "metadata": {},
   "outputs": [
    {
     "data": {
      "text/plain": [
       "('17_100', [1.5182488466514323, 2.6727400837278465, 1.1544912370764142])"
      ]
     },
     "execution_count": 37,
     "metadata": {},
     "output_type": "execute_result"
    }
   ],
   "source": [
    "# Best depth based on minimum error based on validation data\n",
    "min(dicc_bg.items(), key=lambda x: x[1][1])"
   ]
  },
  {
   "cell_type": "code",
   "execution_count": 38,
   "metadata": {},
   "outputs": [
    {
     "data": {
      "text/plain": [
       "('9_100', [2.1320673375080106, 2.769608101132415, 0.6375407636244046])"
      ]
     },
     "execution_count": 38,
     "metadata": {},
     "output_type": "execute_result"
    }
   ],
   "source": [
    "# Best depth based on difference\n",
    "min(dicc_bg.items(), key=lambda x: x[1][2])"
   ]
  },
  {
   "cell_type": "markdown",
   "metadata": {},
   "source": [
    "#### 3.4.3 Plot the errors and difference on the basis of the depth"
   ]
  },
  {
   "cell_type": "code",
   "execution_count": 39,
   "metadata": {},
   "outputs": [
    {
     "data": {
      "text/html": [
       "<div>\n",
       "<style scoped>\n",
       "    .dataframe tbody tr th:only-of-type {\n",
       "        vertical-align: middle;\n",
       "    }\n",
       "\n",
       "    .dataframe tbody tr th {\n",
       "        vertical-align: top;\n",
       "    }\n",
       "\n",
       "    .dataframe thead th {\n",
       "        text-align: right;\n",
       "    }\n",
       "</style>\n",
       "<table border=\"1\" class=\"dataframe\">\n",
       "  <thead>\n",
       "    <tr style=\"text-align: right;\">\n",
       "      <th></th>\n",
       "      <th>error_train</th>\n",
       "      <th>error_val</th>\n",
       "      <th>difference</th>\n",
       "    </tr>\n",
       "  </thead>\n",
       "  <tbody>\n",
       "    <tr>\n",
       "      <th>2_100</th>\n",
       "      <td>3.204778</td>\n",
       "      <td>4.604552</td>\n",
       "      <td>1.399774</td>\n",
       "    </tr>\n",
       "    <tr>\n",
       "      <th>3_100</th>\n",
       "      <td>2.738396</td>\n",
       "      <td>4.188658</td>\n",
       "      <td>1.450262</td>\n",
       "    </tr>\n",
       "    <tr>\n",
       "      <th>4_100</th>\n",
       "      <td>2.503356</td>\n",
       "      <td>4.014778</td>\n",
       "      <td>1.511423</td>\n",
       "    </tr>\n",
       "    <tr>\n",
       "      <th>5_100</th>\n",
       "      <td>2.381816</td>\n",
       "      <td>3.253155</td>\n",
       "      <td>0.871339</td>\n",
       "    </tr>\n",
       "    <tr>\n",
       "      <th>6_100</th>\n",
       "      <td>2.307479</td>\n",
       "      <td>3.047298</td>\n",
       "      <td>0.739819</td>\n",
       "    </tr>\n",
       "    <tr>\n",
       "      <th>7_100</th>\n",
       "      <td>2.245408</td>\n",
       "      <td>2.941233</td>\n",
       "      <td>0.695824</td>\n",
       "    </tr>\n",
       "    <tr>\n",
       "      <th>8_100</th>\n",
       "      <td>2.190127</td>\n",
       "      <td>2.831952</td>\n",
       "      <td>0.641825</td>\n",
       "    </tr>\n",
       "    <tr>\n",
       "      <th>9_100</th>\n",
       "      <td>2.132067</td>\n",
       "      <td>2.769608</td>\n",
       "      <td>0.637541</td>\n",
       "    </tr>\n",
       "    <tr>\n",
       "      <th>10_100</th>\n",
       "      <td>2.069442</td>\n",
       "      <td>2.729319</td>\n",
       "      <td>0.659878</td>\n",
       "    </tr>\n",
       "    <tr>\n",
       "      <th>11_100</th>\n",
       "      <td>2.003415</td>\n",
       "      <td>2.706917</td>\n",
       "      <td>0.703502</td>\n",
       "    </tr>\n",
       "    <tr>\n",
       "      <th>12_100</th>\n",
       "      <td>1.931830</td>\n",
       "      <td>2.690856</td>\n",
       "      <td>0.759026</td>\n",
       "    </tr>\n",
       "    <tr>\n",
       "      <th>13_100</th>\n",
       "      <td>1.854673</td>\n",
       "      <td>2.677545</td>\n",
       "      <td>0.822872</td>\n",
       "    </tr>\n",
       "    <tr>\n",
       "      <th>14_100</th>\n",
       "      <td>1.774432</td>\n",
       "      <td>2.677890</td>\n",
       "      <td>0.903458</td>\n",
       "    </tr>\n",
       "    <tr>\n",
       "      <th>15_100</th>\n",
       "      <td>1.690872</td>\n",
       "      <td>2.675316</td>\n",
       "      <td>0.984444</td>\n",
       "    </tr>\n",
       "    <tr>\n",
       "      <th>16_100</th>\n",
       "      <td>1.605178</td>\n",
       "      <td>2.676298</td>\n",
       "      <td>1.071120</td>\n",
       "    </tr>\n",
       "    <tr>\n",
       "      <th>17_100</th>\n",
       "      <td>1.518249</td>\n",
       "      <td>2.672740</td>\n",
       "      <td>1.154491</td>\n",
       "    </tr>\n",
       "  </tbody>\n",
       "</table>\n",
       "</div>"
      ],
      "text/plain": [
       "        error_train  error_val  difference\n",
       "2_100      3.204778   4.604552    1.399774\n",
       "3_100      2.738396   4.188658    1.450262\n",
       "4_100      2.503356   4.014778    1.511423\n",
       "5_100      2.381816   3.253155    0.871339\n",
       "6_100      2.307479   3.047298    0.739819\n",
       "7_100      2.245408   2.941233    0.695824\n",
       "8_100      2.190127   2.831952    0.641825\n",
       "9_100      2.132067   2.769608    0.637541\n",
       "10_100     2.069442   2.729319    0.659878\n",
       "11_100     2.003415   2.706917    0.703502\n",
       "12_100     1.931830   2.690856    0.759026\n",
       "13_100     1.854673   2.677545    0.822872\n",
       "14_100     1.774432   2.677890    0.903458\n",
       "15_100     1.690872   2.675316    0.984444\n",
       "16_100     1.605178   2.676298    1.071120\n",
       "17_100     1.518249   2.672740    1.154491"
      ]
     },
     "execution_count": 39,
     "metadata": {},
     "output_type": "execute_result"
    }
   ],
   "source": [
    "# We convert the dictionary to Dataframe\n",
    "bg_df = pd.DataFrame.from_dict(dicc_bg).T\n",
    "bg_df.columns=['error_train','error_val','difference']\n",
    "bg_df"
   ]
  },
  {
   "cell_type": "code",
   "execution_count": 40,
   "metadata": {},
   "outputs": [
    {
     "data": {
      "image/png": "[encoded data removed]",
      "text/plain": [
       "<Figure size 2160x720 with 1 Axes>"
      ]
     },
     "metadata": {
      "needs_background": "light"
     },
     "output_type": "display_data"
    }
   ],
   "source": [
    "# We plot the results\n",
    "ax = bg_df.plot(kind='line', style='.-',figsize=(30, 10),fontsize=14, rot=0)\n",
    "ax.set_title('RMSE $ BAGGING REGRESSOR (100 estimators)', fontsize=40)\n",
    "ax.set_xlabel(\"Depth_Estimators\", fontsize=20)\n",
    "ax.set_ylabel(\"Rmse $\", fontsize=20)\n",
    "ax.legend(fontsize=20)\n",
    "\n",
    "plt.show()"
   ]
  },
  {
   "cell_type": "markdown",
   "metadata": {},
   "source": [
    "The optimum depth for a Bagging Regressor + Decision Tree would be 10 based on the the difference between errors because for more depth the validation error keeps going down and never reaches a minimum which would cause overfitting."
   ]
  },
  {
   "cell_type": "markdown",
   "metadata": {},
   "source": [
    "### 3.5 BAGGING REGRESSOR + XGBOOST"
   ]
  },
  {
   "cell_type": "markdown",
   "metadata": {},
   "source": [
    "For this model we are going to test with a depth between 5 and 8 because for the Xgboost model we tested previously was the one with which we got the best results."
   ]
  },
  {
   "cell_type": "markdown",
   "metadata": {},
   "source": [
    "#### 3.5.1 Check the model"
   ]
  },
  {
   "cell_type": "code",
   "execution_count": 41,
   "metadata": {},
   "outputs": [
    {
     "name": "stdout",
     "output_type": "stream",
     "text": [
      "Depth: 5\n",
      "For a 5 depth and 100 estimators the RMSE_train is 2.12494 $, the RMSE_val is 2.52493 $ and the difference 0.39999 $\n",
      "Depth: 6\n"
     ]
    },
    {
     "name": "stderr",
     "output_type": "stream",
     "text": [
      "/anaconda3/lib/python3.6/site-packages/sklearn/externals/joblib/externals/loky/process_executor.py:706: UserWarning: A worker stopped while some jobs were given to the executor. This can be caused by a too short worker timeout or by a memory leak.\n",
      "  \"timeout or by a memory leak.\", UserWarning\n"
     ]
    },
    {
     "name": "stdout",
     "output_type": "stream",
     "text": [
      "For a 6 depth and 100 estimators the RMSE_train is 2.07021 $, the RMSE_val is 2.51874 $ and the difference 0.44852 $\n",
      "Depth: 7\n"
     ]
    },
    {
     "name": "stderr",
     "output_type": "stream",
     "text": [
      "/anaconda3/lib/python3.6/site-packages/sklearn/externals/joblib/externals/loky/process_executor.py:706: UserWarning: A worker stopped while some jobs were given to the executor. This can be caused by a too short worker timeout or by a memory leak.\n",
      "  \"timeout or by a memory leak.\", UserWarning\n"
     ]
    },
    {
     "name": "stdout",
     "output_type": "stream",
     "text": [
      "For a 7 depth and 100 estimators the RMSE_train is 2.00663 $, the RMSE_val is 2.51926 $ and the difference 0.51262 $\n",
      "Depth: 8\n"
     ]
    },
    {
     "name": "stderr",
     "output_type": "stream",
     "text": [
      "/anaconda3/lib/python3.6/site-packages/sklearn/externals/joblib/externals/loky/process_executor.py:706: UserWarning: A worker stopped while some jobs were given to the executor. This can be caused by a too short worker timeout or by a memory leak.\n",
      "  \"timeout or by a memory leak.\", UserWarning\n"
     ]
    },
    {
     "name": "stdout",
     "output_type": "stream",
     "text": [
      "For a 8 depth and 100 estimators the RMSE_train is 1.93983 $, the RMSE_val is 2.55918 $ and the difference 0.61935 $\n",
      "CPU times: user 4.94 s, sys: 3.45 s, total: 8.39 s\n",
      "Wall time: 1h 15min 36s\n"
     ]
    }
   ],
   "source": [
    "%%time\n",
    "dicc_bg_xgb={}\n",
    "estimator = 100\n",
    "for depth in range(5,9):\n",
    "    print('Depth: %d' % (depth))    \n",
    "    \n",
    "    # We train the model\n",
    "    taxi_model_bg_xgb = BaggingRegressor(XGBRegressor(max_depth=depth,\n",
    "                                                     learning_rate=0.1,\n",
    "                                                     n_estimators=estimator,\n",
    "                                                     n_jobs=-1,\n",
    "                                                     seed=13),\n",
    "                                        n_jobs= -1,\n",
    "                                        random_state=13)\n",
    "    \n",
    "    # We fit the model\n",
    "    taxi_model_bg_xgb.fit(train_predictors, train_target)\n",
    "\n",
    "    # We predict train and validation\n",
    "    train_predictions = taxi_model_bg_xgb.predict(train_predictors)\n",
    "    val_predictions = taxi_model_bg_xgb.predict(validation_predictors)\n",
    "    \n",
    "    # We get the errors\n",
    "    error_train = rmse(train_target, train_predictions)\n",
    "    error_val = rmse(validation_target, val_predictions)\n",
    "    difference = error_val - error_train\n",
    "    \n",
    "    # We save the errors and the difference in a dictionary\n",
    "    dicc_bg_xgb[str(depth) + '_' + str(estimator)]= [error_train,error_val,difference]\n",
    "    \n",
    "    print ('For a %d depth and %d estimators the RMSE_train is %.5f $, the RMSE_val is %.5f $ and the difference %.5f $'\n",
    "            % (depth,estimator,error_train,error_val,difference))"
   ]
  },
  {
   "cell_type": "markdown",
   "metadata": {},
   "source": [
    "#### 3.5.2 Check the best depth "
   ]
  },
  {
   "cell_type": "code",
   "execution_count": 42,
   "metadata": {},
   "outputs": [
    {
     "data": {
      "text/plain": [
       "('8_100', [1.9398270229299088, 2.559177946398303, 0.619350923468394])"
      ]
     },
     "execution_count": 42,
     "metadata": {},
     "output_type": "execute_result"
    }
   ],
   "source": [
    "# Best depth based on minimum error based on train data\n",
    "min(dicc_bg_xgb.items(), key=lambda x: x[1][0])"
   ]
  },
  {
   "cell_type": "code",
   "execution_count": 43,
   "metadata": {},
   "outputs": [
    {
     "data": {
      "text/plain": [
       "('6_100', [2.0702131150735474, 2.5187356810714596, 0.4485225659979122])"
      ]
     },
     "execution_count": 43,
     "metadata": {},
     "output_type": "execute_result"
    }
   ],
   "source": [
    "# Best depth based on minimum error based on validation data\n",
    "min(dicc_bg_xgb.items(), key=lambda x: x[1][1])"
   ]
  },
  {
   "cell_type": "code",
   "execution_count": 44,
   "metadata": {},
   "outputs": [
    {
     "data": {
      "text/plain": [
       "('5_100', [2.124941334039914, 2.5249325904008493, 0.39999125636093513])"
      ]
     },
     "execution_count": 44,
     "metadata": {},
     "output_type": "execute_result"
    }
   ],
   "source": [
    "# Best depth based on difference of errors\n",
    "min(dicc_bg_xgb.items(), key=lambda x: x[1][2])"
   ]
  },
  {
   "cell_type": "markdown",
   "metadata": {},
   "source": [
    "#### 3.5.3 Plot the errors and difference on the basis of the depth"
   ]
  },
  {
   "cell_type": "code",
   "execution_count": 45,
   "metadata": {},
   "outputs": [
    {
     "data": {
      "text/html": [
       "<div>\n",
       "<style scoped>\n",
       "    .dataframe tbody tr th:only-of-type {\n",
       "        vertical-align: middle;\n",
       "    }\n",
       "\n",
       "    .dataframe tbody tr th {\n",
       "        vertical-align: top;\n",
       "    }\n",
       "\n",
       "    .dataframe thead th {\n",
       "        text-align: right;\n",
       "    }\n",
       "</style>\n",
       "<table border=\"1\" class=\"dataframe\">\n",
       "  <thead>\n",
       "    <tr style=\"text-align: right;\">\n",
       "      <th></th>\n",
       "      <th>error_train</th>\n",
       "      <th>error_val</th>\n",
       "      <th>difference</th>\n",
       "    </tr>\n",
       "  </thead>\n",
       "  <tbody>\n",
       "    <tr>\n",
       "      <th>5_100</th>\n",
       "      <td>2.124941</td>\n",
       "      <td>2.524933</td>\n",
       "      <td>0.399991</td>\n",
       "    </tr>\n",
       "    <tr>\n",
       "      <th>6_100</th>\n",
       "      <td>2.070213</td>\n",
       "      <td>2.518736</td>\n",
       "      <td>0.448523</td>\n",
       "    </tr>\n",
       "    <tr>\n",
       "      <th>7_100</th>\n",
       "      <td>2.006631</td>\n",
       "      <td>2.519255</td>\n",
       "      <td>0.512624</td>\n",
       "    </tr>\n",
       "    <tr>\n",
       "      <th>8_100</th>\n",
       "      <td>1.939827</td>\n",
       "      <td>2.559178</td>\n",
       "      <td>0.619351</td>\n",
       "    </tr>\n",
       "  </tbody>\n",
       "</table>\n",
       "</div>"
      ],
      "text/plain": [
       "       error_train  error_val  difference\n",
       "5_100     2.124941   2.524933    0.399991\n",
       "6_100     2.070213   2.518736    0.448523\n",
       "7_100     2.006631   2.519255    0.512624\n",
       "8_100     1.939827   2.559178    0.619351"
      ]
     },
     "execution_count": 45,
     "metadata": {},
     "output_type": "execute_result"
    }
   ],
   "source": [
    "# We convert the dictionary to Dataframe\n",
    "bg_xgb_df = pd.DataFrame.from_dict(dicc_bg_xgb).T\n",
    "bg_xgb_df.columns=['error_train','error_val','difference']\n",
    "bg_xgb_df"
   ]
  },
  {
   "cell_type": "code",
   "execution_count": 46,
   "metadata": {},
   "outputs": [
    {
     "data": {
      "image/png": "[encoded data removed]",
      "text/plain": [
       "<Figure size 2160x720 with 1 Axes>"
      ]
     },
     "metadata": {
      "needs_background": "light"
     },
     "output_type": "display_data"
    }
   ],
   "source": [
    "# We plot the results\n",
    "ax = bg_xgb_df.plot(kind='line', style='.-',figsize=(30, 10),fontsize=12, rot=0)\n",
    "ax.set_title('RMSE $ BAGGING REGRESSOR + XGBOOST (100 estimators)', fontsize=40)\n",
    "ax.set_xlabel(\"Depth_Estimators\", fontsize=20)\n",
    "ax.set_ylabel(\"Rmse $\", fontsize=20)\n",
    "ax.legend(fontsize=20)\n",
    "\n",
    "plt.show()"
   ]
  },
  {
   "cell_type": "markdown",
   "metadata": {},
   "source": [
    "The optimum depth for a Bagging Regressor + Xgboost 5 based on the validation error and the difference between errors because more depth would cause overfitting."
   ]
  },
  {
   "cell_type": "markdown",
   "metadata": {},
   "source": [
    "### 3.6 Delete variables stored in memory"
   ]
  },
  {
   "cell_type": "markdown",
   "metadata": {},
   "source": [
    "We eliminate the variables stored in memory that we are not going to use from now on to free up space."
   ]
  },
  {
   "cell_type": "code",
   "execution_count": 47,
   "metadata": {},
   "outputs": [],
   "source": [
    "del bg_df, bg_xgb_df, depth, dicc_bg, dicc_bg_xgb, dicc_dt, dicc_rf, dicc_xgb, difference, dt_df, error_train,\\\n",
    "error_val, estimator, rf_df, taxi_model_bg, taxi_model_bg_xgb, taxi_model_dt, taxi_model_rf, taxi_model_xgb, xgb_df"
   ]
  },
  {
   "cell_type": "markdown",
   "metadata": {},
   "source": [
    "Based on the 5 models tested, we will choose the number of estimators for a model Bagging Regressor + Xgboost with depth 5 that is the best result obtained."
   ]
  },
  {
   "cell_type": "markdown",
   "metadata": {},
   "source": [
    "## 4 Check the chosen model and chose max estimators"
   ]
  },
  {
   "cell_type": "markdown",
   "metadata": {},
   "source": [
    "### BAGGING REGRESSOR + XGBOOST with depth 5"
   ]
  },
  {
   "cell_type": "markdown",
   "metadata": {},
   "source": [
    "Starting from the chosen model: Bagging + Xgboost with a depth of 5 we are going to choose the number of estimators."
   ]
  },
  {
   "cell_type": "markdown",
   "metadata": {},
   "source": [
    "### 4.1 Check the model"
   ]
  },
  {
   "cell_type": "code",
   "execution_count": 48,
   "metadata": {},
   "outputs": [
    {
     "name": "stdout",
     "output_type": "stream",
     "text": [
      "Depth: 5\n",
      "For a 5 depth and 10 estimators the RMSE_train is 6.01706 $, the RMSE_val is 8.09621 $ and the difference 2.07916 $\n",
      "For a 5 depth and 20 estimators the RMSE_train is 3.00056 $, the RMSE_val is 4.32464 $ and the difference 1.32408 $\n"
     ]
    },
    {
     "name": "stderr",
     "output_type": "stream",
     "text": [
      "/anaconda3/lib/python3.6/site-packages/sklearn/externals/joblib/externals/loky/process_executor.py:706: UserWarning: A worker stopped while some jobs were given to the executor. This can be caused by a too short worker timeout or by a memory leak.\n",
      "  \"timeout or by a memory leak.\", UserWarning\n"
     ]
    },
    {
     "name": "stdout",
     "output_type": "stream",
     "text": [
      "For a 5 depth and 30 estimators the RMSE_train is 2.34634 $, the RMSE_val is 3.10498 $ and the difference 0.75864 $\n",
      "For a 5 depth and 40 estimators the RMSE_train is 2.22710 $, the RMSE_val is 2.74743 $ and the difference 0.52033 $\n",
      "For a 5 depth and 50 estimators the RMSE_train is 2.19327 $, the RMSE_val is 2.63071 $ and the difference 0.43744 $\n",
      "For a 5 depth and 60 estimators the RMSE_train is 2.17412 $, the RMSE_val is 2.57977 $ and the difference 0.40565 $\n"
     ]
    },
    {
     "name": "stderr",
     "output_type": "stream",
     "text": [
      "/anaconda3/lib/python3.6/site-packages/sklearn/externals/joblib/externals/loky/process_executor.py:706: UserWarning: A worker stopped while some jobs were given to the executor. This can be caused by a too short worker timeout or by a memory leak.\n",
      "  \"timeout or by a memory leak.\", UserWarning\n"
     ]
    },
    {
     "name": "stdout",
     "output_type": "stream",
     "text": [
      "For a 5 depth and 70 estimators the RMSE_train is 2.15732 $, the RMSE_val is 2.55719 $ and the difference 0.39987 $\n"
     ]
    },
    {
     "name": "stderr",
     "output_type": "stream",
     "text": [
      "/anaconda3/lib/python3.6/site-packages/sklearn/externals/joblib/externals/loky/process_executor.py:706: UserWarning: A worker stopped while some jobs were given to the executor. This can be caused by a too short worker timeout or by a memory leak.\n",
      "  \"timeout or by a memory leak.\", UserWarning\n"
     ]
    },
    {
     "name": "stdout",
     "output_type": "stream",
     "text": [
      "For a 5 depth and 80 estimators the RMSE_train is 2.14436 $, the RMSE_val is 2.54244 $ and the difference 0.39808 $\n",
      "For a 5 depth and 90 estimators the RMSE_train is 2.13375 $, the RMSE_val is 2.53252 $ and the difference 0.39877 $\n",
      "For a 5 depth and 100 estimators the RMSE_train is 2.12494 $, the RMSE_val is 2.52493 $ and the difference 0.39999 $\n"
     ]
    },
    {
     "name": "stderr",
     "output_type": "stream",
     "text": [
      "/anaconda3/lib/python3.6/site-packages/sklearn/externals/joblib/externals/loky/process_executor.py:706: UserWarning: A worker stopped while some jobs were given to the executor. This can be caused by a too short worker timeout or by a memory leak.\n",
      "  \"timeout or by a memory leak.\", UserWarning\n"
     ]
    },
    {
     "name": "stdout",
     "output_type": "stream",
     "text": [
      "For a 5 depth and 110 estimators the RMSE_train is 2.11725 $, the RMSE_val is 2.51916 $ and the difference 0.40191 $\n"
     ]
    },
    {
     "name": "stderr",
     "output_type": "stream",
     "text": [
      "/anaconda3/lib/python3.6/site-packages/sklearn/externals/joblib/externals/loky/process_executor.py:706: UserWarning: A worker stopped while some jobs were given to the executor. This can be caused by a too short worker timeout or by a memory leak.\n",
      "  \"timeout or by a memory leak.\", UserWarning\n"
     ]
    },
    {
     "name": "stdout",
     "output_type": "stream",
     "text": [
      "For a 5 depth and 120 estimators the RMSE_train is 2.11045 $, the RMSE_val is 2.51431 $ and the difference 0.40386 $\n",
      "For a 5 depth and 130 estimators the RMSE_train is 2.10407 $, the RMSE_val is 2.51038 $ and the difference 0.40631 $\n"
     ]
    },
    {
     "name": "stderr",
     "output_type": "stream",
     "text": [
      "/anaconda3/lib/python3.6/site-packages/sklearn/externals/joblib/externals/loky/process_executor.py:706: UserWarning: A worker stopped while some jobs were given to the executor. This can be caused by a too short worker timeout or by a memory leak.\n",
      "  \"timeout or by a memory leak.\", UserWarning\n"
     ]
    },
    {
     "name": "stdout",
     "output_type": "stream",
     "text": [
      "For a 5 depth and 140 estimators the RMSE_train is 2.09868 $, the RMSE_val is 2.50761 $ and the difference 0.40893 $\n",
      "CPU times: user 15.9 s, sys: 10.2 s, total: 26.1 s\n",
      "Wall time: 2h 16min 18s\n"
     ]
    }
   ],
   "source": [
    "%%time\n",
    "dicc_bg_xgb={}\n",
    "for depth in range(5,6):\n",
    "    print('Depth: %d' % (depth))\n",
    "    for estimator in range(10,141,10):\n",
    "        \n",
    "        # We train the model\n",
    "        taxi_model_bg_xgb = BaggingRegressor(XGBRegressor(max_depth=depth,\n",
    "                                                          learning_rate=0.1,\n",
    "                                                          n_estimators=estimator,\n",
    "                                                          n_jobs=-1,\n",
    "                                                          seed=13),\n",
    "                                             n_jobs= -1,\n",
    "                                             random_state=13)\n",
    "        \n",
    "        # We fit the model\n",
    "        taxi_model_bg_xgb.fit(train_predictors, train_target)\n",
    "        \n",
    "        # We predict train and validation\n",
    "        train_predictions = taxi_model_bg_xgb.predict(train_predictors)\n",
    "        val_predictions = taxi_model_bg_xgb.predict(validation_predictors)\n",
    "        \n",
    "        # We get the errors\n",
    "        error_train = rmse(train_target, train_predictions)\n",
    "        error_val = rmse(validation_target, val_predictions)\n",
    "        difference = error_val - error_train\n",
    "        \n",
    "        # We save the errors and the difference in a dictionary\n",
    "        dicc_bg_xgb[str(depth) + '_' + str(estimator)]= [error_train,error_val,difference]\n",
    "        \n",
    "        print ('For a %d depth and %d estimators the RMSE_train is %.5f $, the RMSE_val is %.5f $ and the difference %.5f $'\n",
    "            % (depth,estimator,error_train,error_val,difference))\n",
    "        "
   ]
  },
  {
   "cell_type": "markdown",
   "metadata": {},
   "source": [
    "### 4.2 Check the best depth "
   ]
  },
  {
   "cell_type": "code",
   "execution_count": 49,
   "metadata": {},
   "outputs": [
    {
     "data": {
      "text/plain": [
       "('5_140', [2.09868057241416, 2.5076058192100925, 0.40892524679593256])"
      ]
     },
     "execution_count": 49,
     "metadata": {},
     "output_type": "execute_result"
    }
   ],
   "source": [
    "# Best depth based on minimum error based on train data\n",
    "min(dicc_bg_xgb.items(), key=lambda x: x[1][0])"
   ]
  },
  {
   "cell_type": "code",
   "execution_count": 50,
   "metadata": {},
   "outputs": [
    {
     "data": {
      "text/plain": [
       "('5_140', [2.09868057241416, 2.5076058192100925, 0.40892524679593256])"
      ]
     },
     "execution_count": 50,
     "metadata": {},
     "output_type": "execute_result"
    }
   ],
   "source": [
    "# Best depth based on minimum error based on validation data\n",
    "min(dicc_bg_xgb.items(), key=lambda x: x[1][1])"
   ]
  },
  {
   "cell_type": "code",
   "execution_count": 51,
   "metadata": {},
   "outputs": [
    {
     "data": {
      "text/plain": [
       "('5_80', [2.1443628379426194, 2.5424398419022207, 0.3980770039596013])"
      ]
     },
     "execution_count": 51,
     "metadata": {},
     "output_type": "execute_result"
    }
   ],
   "source": [
    "# Best depth based on difference of errors\n",
    "min(dicc_bg_xgb.items(), key=lambda x: x[1][2])"
   ]
  },
  {
   "cell_type": "markdown",
   "metadata": {},
   "source": [
    "### 4.3 Plot the errors and difference on the basis of the estimators"
   ]
  },
  {
   "cell_type": "code",
   "execution_count": 52,
   "metadata": {},
   "outputs": [
    {
     "data": {
      "text/html": [
       "<div>\n",
       "<style scoped>\n",
       "    .dataframe tbody tr th:only-of-type {\n",
       "        vertical-align: middle;\n",
       "    }\n",
       "\n",
       "    .dataframe tbody tr th {\n",
       "        vertical-align: top;\n",
       "    }\n",
       "\n",
       "    .dataframe thead th {\n",
       "        text-align: right;\n",
       "    }\n",
       "</style>\n",
       "<table border=\"1\" class=\"dataframe\">\n",
       "  <thead>\n",
       "    <tr style=\"text-align: right;\">\n",
       "      <th></th>\n",
       "      <th>error_train</th>\n",
       "      <th>error_val</th>\n",
       "      <th>difference</th>\n",
       "    </tr>\n",
       "  </thead>\n",
       "  <tbody>\n",
       "    <tr>\n",
       "      <th>5_10</th>\n",
       "      <td>6.017057</td>\n",
       "      <td>8.096214</td>\n",
       "      <td>2.079157</td>\n",
       "    </tr>\n",
       "    <tr>\n",
       "      <th>5_20</th>\n",
       "      <td>3.000561</td>\n",
       "      <td>4.324643</td>\n",
       "      <td>1.324082</td>\n",
       "    </tr>\n",
       "    <tr>\n",
       "      <th>5_30</th>\n",
       "      <td>2.346342</td>\n",
       "      <td>3.104982</td>\n",
       "      <td>0.758639</td>\n",
       "    </tr>\n",
       "    <tr>\n",
       "      <th>5_40</th>\n",
       "      <td>2.227097</td>\n",
       "      <td>2.747430</td>\n",
       "      <td>0.520333</td>\n",
       "    </tr>\n",
       "    <tr>\n",
       "      <th>5_50</th>\n",
       "      <td>2.193268</td>\n",
       "      <td>2.630708</td>\n",
       "      <td>0.437440</td>\n",
       "    </tr>\n",
       "    <tr>\n",
       "      <th>5_60</th>\n",
       "      <td>2.174118</td>\n",
       "      <td>2.579768</td>\n",
       "      <td>0.405650</td>\n",
       "    </tr>\n",
       "    <tr>\n",
       "      <th>5_70</th>\n",
       "      <td>2.157319</td>\n",
       "      <td>2.557193</td>\n",
       "      <td>0.399873</td>\n",
       "    </tr>\n",
       "    <tr>\n",
       "      <th>5_80</th>\n",
       "      <td>2.144363</td>\n",
       "      <td>2.542440</td>\n",
       "      <td>0.398077</td>\n",
       "    </tr>\n",
       "    <tr>\n",
       "      <th>5_90</th>\n",
       "      <td>2.133750</td>\n",
       "      <td>2.532517</td>\n",
       "      <td>0.398768</td>\n",
       "    </tr>\n",
       "    <tr>\n",
       "      <th>5_100</th>\n",
       "      <td>2.124941</td>\n",
       "      <td>2.524933</td>\n",
       "      <td>0.399991</td>\n",
       "    </tr>\n",
       "    <tr>\n",
       "      <th>5_110</th>\n",
       "      <td>2.117248</td>\n",
       "      <td>2.519156</td>\n",
       "      <td>0.401908</td>\n",
       "    </tr>\n",
       "    <tr>\n",
       "      <th>5_120</th>\n",
       "      <td>2.110447</td>\n",
       "      <td>2.514306</td>\n",
       "      <td>0.403859</td>\n",
       "    </tr>\n",
       "    <tr>\n",
       "      <th>5_130</th>\n",
       "      <td>2.104073</td>\n",
       "      <td>2.510381</td>\n",
       "      <td>0.406307</td>\n",
       "    </tr>\n",
       "    <tr>\n",
       "      <th>5_140</th>\n",
       "      <td>2.098681</td>\n",
       "      <td>2.507606</td>\n",
       "      <td>0.408925</td>\n",
       "    </tr>\n",
       "  </tbody>\n",
       "</table>\n",
       "</div>"
      ],
      "text/plain": [
       "       error_train  error_val  difference\n",
       "5_10      6.017057   8.096214    2.079157\n",
       "5_20      3.000561   4.324643    1.324082\n",
       "5_30      2.346342   3.104982    0.758639\n",
       "5_40      2.227097   2.747430    0.520333\n",
       "5_50      2.193268   2.630708    0.437440\n",
       "5_60      2.174118   2.579768    0.405650\n",
       "5_70      2.157319   2.557193    0.399873\n",
       "5_80      2.144363   2.542440    0.398077\n",
       "5_90      2.133750   2.532517    0.398768\n",
       "5_100     2.124941   2.524933    0.399991\n",
       "5_110     2.117248   2.519156    0.401908\n",
       "5_120     2.110447   2.514306    0.403859\n",
       "5_130     2.104073   2.510381    0.406307\n",
       "5_140     2.098681   2.507606    0.408925"
      ]
     },
     "execution_count": 52,
     "metadata": {},
     "output_type": "execute_result"
    }
   ],
   "source": [
    "# We convert the dictionary to Dataframe\n",
    "bg_xgb_df = pd.DataFrame.from_dict(dicc_bg_xgb).T\n",
    "bg_xgb_df.columns=['error_train','error_val','difference']\n",
    "bg_xgb_df"
   ]
  },
  {
   "cell_type": "code",
   "execution_count": 53,
   "metadata": {},
   "outputs": [
    {
     "data": {
      "image/png": "[encoded data removed]",
      "text/plain": [
       "<Figure size 2160x720 with 1 Axes>"
      ]
     },
     "metadata": {
      "needs_background": "light"
     },
     "output_type": "display_data"
    }
   ],
   "source": [
    "# We plot the results\n",
    "ax = bg_xgb_df.plot(kind='line', style='.-',figsize=(30, 10),fontsize=12, rot=0)\n",
    "ax.set_title('RMSE $ BAGGING REGRESSOR + XGBOOST (5 Depth)', fontsize=40)\n",
    "ax.set_xlabel(\"Estimators\", fontsize=20)\n",
    "ax.set_ylabel(\"Rmse $\", fontsize=20)\n",
    "ax.legend(fontsize=20)\n",
    "\n",
    "plt.show()"
   ]
  },
  {
   "cell_type": "markdown",
   "metadata": {},
   "source": [
    "Based on this last analysis we have already found the best hyperparameters so we will now try to predict for a Bagging Regressor + Xgboost model with depth 5 and 120 estimators."
   ]
  },
  {
   "cell_type": "markdown",
   "metadata": {},
   "source": [
    "## 5 Bagging + Xgboost with depth 5 and 120 estimators sample dataset"
   ]
  },
  {
   "cell_type": "markdown",
   "metadata": {},
   "source": [
    "Let's measure below how good our model is by predicting the test data fares  that we separate at the beginning of the notebook."
   ]
  },
  {
   "cell_type": "code",
   "execution_count": 54,
   "metadata": {},
   "outputs": [
    {
     "name": "stdout",
     "output_type": "stream",
     "text": [
      "Starting to train at 2019-05-16 07:34:45.119098\n",
      "Finished train at 2019-05-16 07:34:45.121062\n",
      "Starting to fit at 2019-05-16 07:34:45.121114\n",
      "Finished fit at 2019-05-16 07:47:39.921083\n",
      "Starting to predict at 2019-05-16 07:47:39.921665\n"
     ]
    },
    {
     "name": "stderr",
     "output_type": "stream",
     "text": [
      "/anaconda3/lib/python3.6/site-packages/sklearn/externals/joblib/externals/loky/process_executor.py:706: UserWarning: A worker stopped while some jobs were given to the executor. This can be caused by a too short worker timeout or by a memory leak.\n",
      "  \"timeout or by a memory leak.\", UserWarning\n"
     ]
    },
    {
     "name": "stdout",
     "output_type": "stream",
     "text": [
      "Finished predict at 2019-05-16 07:47:52.237383\n",
      "For a 5 depth and 120 estimators the RMSE_train is 2.11045 $, the RMSE_val is 2.51431 $ and the difference 0.40386 $\n",
      "For a 5 depth and 120 estimators the RMSE_test is 2.59997 $\n",
      "CPU times: user 1.18 s, sys: 738 ms, total: 1.92 s\n",
      "Wall time: 13min 7s\n"
     ]
    }
   ],
   "source": [
    "%%time\n",
    "\n",
    "depth = 5\n",
    "estimator = 120\n",
    "print('Starting to train at %s' %(datetime.now()))\n",
    "taxi_model_bg_xgb = BaggingRegressor(XGBRegressor(max_depth=depth,\n",
    "                                                  learning_rate=0.1,\n",
    "                                                  n_estimators=estimator,\n",
    "                                                  n_jobs=-1,\n",
    "                                                  seed=13),\n",
    "                                     n_jobs= -1,\n",
    "                                     random_state=13)\n",
    "print('Finished train at %s' %(datetime.now()))\n",
    "\n",
    "print('Starting to fit at %s' %(datetime.now()))\n",
    "taxi_model_bg_xgb.fit(train_predictors, train_target)\n",
    "print('Finished fit at %s' %(datetime.now()))\n",
    "\n",
    "print('Starting to predict at %s' %(datetime.now()))\n",
    "train_predictions = taxi_model_bg_xgb.predict(train_predictors)\n",
    "val_predictions = taxi_model_bg_xgb.predict(validation_predictors)\n",
    "test_predictions = taxi_model_bg_xgb.predict(test_predictors)\n",
    "print('Finished predict at %s' %(datetime.now()))\n",
    "\n",
    "error_train = rmse(train_target, train_predictions)\n",
    "error_val = rmse(validation_target, val_predictions)\n",
    "error_test = rmse(test_target, test_predictions)\n",
    "difference = error_val - error_train\n",
    "    \n",
    "print ('For a %d depth and %d estimators the RMSE_train is %.5f $, the RMSE_val is %.5f $ and the difference %.5f $'\n",
    "        % (depth,estimator,error_train,error_val,difference))\n",
    "\n",
    "print ('For a %d depth and %d estimators the RMSE_test is %.5f $'\n",
    "        % (depth, estimator, error_test))\n"
   ]
  },
  {
   "cell_type": "markdown",
   "metadata": {},
   "source": [
    "## 6 Conclusion"
   ]
  },
  {
   "cell_type": "markdown",
   "metadata": {},
   "source": [
    "After this analysis that has allowed us to choose the model that best suits the data and its hyperparameters, we have tested it with our data test and we have obtained an RMSE of $2.60.\n",
    "\n",
    "Now what we are going to do is to test this model with the complete dataset in the notebook `final_eda.ipynb`"
   ]
  },
  {
   "cell_type": "markdown",
   "metadata": {},
   "source": [
    "## 7 Save the model in a pickle"
   ]
  },
  {
   "cell_type": "code",
   "execution_count": 55,
   "metadata": {},
   "outputs": [],
   "source": [
    "import pickle\n",
    "# Dump the trained decision tree classifier with Pickle\n",
    "bagging_xgb_pkl_filename = 'bagging_xgboost_d5_es120.pkl'\n",
    "# Open the file to save as pkl file\n",
    "bagging_xgb_pkl = open(bagging_xgb_pkl_filename, 'wb')\n",
    "pickle.dump(taxi_model_bg_xgb, bagging_xgb_pkl)\n",
    "# Close the pickle instances\n",
    "bagging_xgb_pkl.close()"
   ]
  }
 ],
 "metadata": {
  "kernelspec": {
   "display_name": "Python 3",
   "language": "python",
   "name": "python3"
  },
  "language_info": {
   "codemirror_mode": {
    "name": "ipython",
    "version": 3
   },
   "file_extension": ".py",
   "mimetype": "text/x-python",
   "name": "python",
   "nbconvert_exporter": "python",
   "pygments_lexer": "ipython3",
   "version": "3.6.8"
  }
 },
 "nbformat": 4,
 "nbformat_minor": 2
}
