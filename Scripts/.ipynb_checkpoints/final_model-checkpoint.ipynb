{
 "cells": [
  {
   "cell_type": "markdown",
   "metadata": {},
   "source": [
    "# Modelling all the Data\n",
    "\n",
    "After the analysis performed with `taxi_model_sample001.csv` in the notebook `model_sample.ipynb` to see which model is best suited and its hyperparameters, we will perform the modeling of `taxi_model.csv` and check which is its RMSE_test"
   ]
  },
  {
   "cell_type": "markdown",
   "metadata": {},
   "source": [
    "## Chicago Coordinates \n",
    "-87.6244212, 41.8755616"
   ]
  },
  {
   "cell_type": "markdown",
   "metadata": {},
   "source": [
    "## 1 Load the libraries"
   ]
  },
  {
   "cell_type": "code",
   "execution_count": 1,
   "metadata": {},
   "outputs": [],
   "source": [
    "# We load the libraries we are going to use in our analysis\n",
    "\n",
    "# Libraries to manage our dataset\n",
    "import pandas as pd\n",
    "import numpy as np\n",
    "from datetime import datetime\n",
    "from math import sqrt\n",
    "pd.options.display.max_columns = None\n",
    "\n",
    "# Libraries for modelling\n",
    "from sklearn.model_selection import train_test_split\n",
    "from sklearn.tree import DecisionTreeRegressor\n",
    "from sklearn.ensemble import RandomForestRegressor\n",
    "from sklearn.ensemble import BaggingRegressor\n",
    "from xgboost import XGBRegressor\n",
    "\n",
    "# A library that will allow us to measure how good our model is.\n",
    "from sklearn.metrics import mean_squared_error"
   ]
  },
  {
   "cell_type": "markdown",
   "metadata": {},
   "source": [
    "## 2 Bagging + Xgboost with depth 5 and 120 estimators full dataset"
   ]
  },
  {
   "cell_type": "markdown",
   "metadata": {},
   "source": [
    "Let's measure below how good our model is by predicting the rates of the test data that we separate at the beginning of the notebook but this time with all the data not with the sample created."
   ]
  },
  {
   "cell_type": "code",
   "execution_count": null,
   "metadata": {},
   "outputs": [
    {
     "name": "stdout",
     "output_type": "stream",
     "text": [
      "Starting to read the data at 2019-05-15 20:24:13.707040\n",
      "Finished read the data at 2019-05-15 20:27:11.020409\n",
      "Starting to split the data in train, validation and test at 2019-05-15 20:27:11.030756\n",
      "The train dataset shape is: 20654033,176\n",
      "The valitation/test dataset shape is: 7480182,176\n",
      "The train predictors shape is 20654033,175 and the train target shape is 20654033\n",
      "The validation predictors shape is 4637712,175 and the validation target shape is 4637712\n",
      "The test predictors shape is 2842470,175 and the test target shape is 2842470\n",
      "Finished split the data in train, validation and test at 2019-05-15 20:30:09.067242\n",
      "Starting to train at 2019-05-15 20:30:09.069402\n",
      "Finished train at 2019-05-15 20:30:09.078221\n",
      "Starting to fit at 2019-05-15 20:30:09.078306\n"
     ]
    }
   ],
   "source": [
    "%%time\n",
    "\n",
    "print('Starting to read the data at %s' %(datetime.now()))\n",
    "chicago_trips = pd.read_csv('../Data/taxi_model.csv')\n",
    "chicago_trips = chicago_trips.drop(['trip_id','trip_seconds'],axis=1)\n",
    "print('Finished read the data at %s' %(datetime.now()))\n",
    "\n",
    "print('Starting to split the data in train, validation and test at %s' %(datetime.now()))\n",
    "chicago_trips = pd.get_dummies(chicago_trips)\n",
    "chicago_train = chicago_trips[(chicago_trips['year']<2016) |\n",
    "                             ((chicago_trips['year']==2016) & (chicago_trips['month']<=1))]\n",
    "\n",
    "chicago_test_val = chicago_trips[(chicago_trips['year']==2017) |\n",
    "                             ((chicago_trips['year']==2016) & (chicago_trips['month']>1))]\n",
    "\n",
    "print('The train dataset shape is: %d,%d' %(chicago_train.shape[0],chicago_train.shape[1]))\n",
    "print('The valitation/test dataset shape is: %d,%d' %(chicago_test_val.shape[0],chicago_test_val.shape[1]))\n",
    "\n",
    "\n",
    "train_target = np.ravel(chicago_train[['fare']])\n",
    "train_predictors = chicago_train.drop(['fare'],axis=1)\n",
    "\n",
    "chicago_test_val_target = np.ravel(chicago_test_val[['fare']])\n",
    "chicago_test_val_predictors = chicago_test_val.drop(['fare'],axis=1)\n",
    "\n",
    "validation_predictors,test_predictors, validation_target, test_target = train_test_split(chicago_test_val_predictors, \n",
    "                                                                                         chicago_test_val_target, \n",
    "                                                                                         test_size=0.38,\n",
    "                                                                                         random_state=42)\n",
    "\n",
    "print('The train predictors shape is %d,%d and the train target shape is %d' %(train_predictors.shape[0],\n",
    "                                                                                  train_predictors.shape[1],\n",
    "                                                                                  train_target.shape[0]))\n",
    "\n",
    "print('The validation predictors shape is %d,%d and the validation target shape is %d' \n",
    "      %(validation_predictors.shape[0],validation_predictors.shape[1],\n",
    "        validation_target.shape[0]))\n",
    "\n",
    "print('The test predictors shape is %d,%d and the test target shape is %d' %(test_predictors.shape[0],\n",
    "                                                                          test_predictors.shape[1],\n",
    "                                                                          test_target.shape[0]))\n",
    "\n",
    "del chicago_test_val, chicago_test_val_predictors, chicago_test_val_target, chicago_train, chicago_trips\n",
    "\n",
    "print('Finished split the data in train, validation and test at %s' %(datetime.now()))\n",
    "\n",
    "depth = 5\n",
    "estimator = 120\n",
    "\n",
    "print('Starting to train at %s' %(datetime.now()))\n",
    "taxi_model_bg_xgb = BaggingRegressor(XGBRegressor(max_depth=depth,\n",
    "                                                  learning_rate=0.1,\n",
    "                                                  n_estimators=estimator,\n",
    "                                                  n_jobs=-1,\n",
    "                                                  seed=13),\n",
    "                                     n_jobs= -1,\n",
    "                                     random_state=13)\n",
    "print('Finished train at %s' %(datetime.now()))\n",
    "\n",
    "print('Starting to fit at %s' %(datetime.now()))\n",
    "taxi_model_bg_xgb.fit(train_predictors, train_target)\n",
    "print('Finished fit at %s' %(datetime.now()))\n",
    "\n",
    "print('Starting to predict at %s' %(datetime.now()))\n",
    "train_predictions = taxi_model_bg_xgb.predict(train_predictors)\n",
    "val_predictions = taxi_model_bg_xgb.predict(validation_predictors)\n",
    "test_predictions = taxi_model_bg_xgb.predict(test_predictors)\n",
    "print('Finished predict at %s' %(datetime.now()))\n",
    "\n",
    "error_train = rmse(train_target, train_predictions)\n",
    "error_val = rmse(validation_target, val_predictions)\n",
    "error_test = rmse(test_target, test_predictions)\n",
    "difference = error_val - error_train\n",
    "    \n",
    "\n",
    "print ('For a %d depth and %d estimators the RMSE_train is %.5f $, the RMSE_val is %.5f $ and the difference %.5f $'\n",
    "        % (depth,estimator, error_train,error_val,difference))\n",
    "\n",
    "print ('For a %d depth and %d estimators the RMSE_test is %.5f $'\n",
    "        % (depth, estimator, error_test))\n"
   ]
  },
  {
   "cell_type": "markdown",
   "metadata": {},
   "source": [
    "## 3 Conclusion"
   ]
  }
 ],
 "metadata": {
  "kernelspec": {
   "display_name": "Python 3",
   "language": "python",
   "name": "python3"
  },
  "language_info": {
   "codemirror_mode": {
    "name": "ipython",
    "version": 3
   },
   "file_extension": ".py",
   "mimetype": "text/x-python",
   "name": "python",
   "nbconvert_exporter": "python",
   "pygments_lexer": "ipython3",
   "version": "3.6.8"
  }
 },
 "nbformat": 4,
 "nbformat_minor": 2
}
