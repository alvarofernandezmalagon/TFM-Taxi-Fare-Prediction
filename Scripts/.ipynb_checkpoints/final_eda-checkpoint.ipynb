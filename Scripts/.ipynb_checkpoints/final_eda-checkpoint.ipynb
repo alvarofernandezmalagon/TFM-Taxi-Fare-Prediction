{
 "cells": [
  {
   "cell_type": "markdown",
   "metadata": {
    "colab_type": "text",
    "id": "udmNndH9-E5H"
   },
   "source": [
    "# Initial Exploratory Taxi Trip DataSet\n",
    "\n",
    "The objective of this notebook is to carry out a final analysis of the taxi trips in Chicago together with the dataset of the weather in Chicago."
   ]
  },
  {
   "cell_type": "markdown",
   "metadata": {},
   "source": [
    "## Chicago Coordinates \n",
    "-87.6244212, 41.8755616"
   ]
  },
  {
   "cell_type": "markdown",
   "metadata": {},
   "source": [
    "## 1 Create our environment"
   ]
  },
  {
   "cell_type": "markdown",
   "metadata": {},
   "source": [
    "### 1.1 Create the Spark Session"
   ]
  },
  {
   "cell_type": "code",
   "execution_count": 1,
   "metadata": {},
   "outputs": [],
   "source": [
    "import findspark\n",
    "findspark.init()"
   ]
  },
  {
   "cell_type": "code",
   "execution_count": 2,
   "metadata": {},
   "outputs": [],
   "source": [
    "from pyspark.sql import SparkSession, SQLContext\n",
    "from pyspark import SparkConf, SparkContext"
   ]
  },
  {
   "cell_type": "code",
   "execution_count": 3,
   "metadata": {},
   "outputs": [],
   "source": [
    "sc_conf = SparkConf()"
   ]
  },
  {
   "cell_type": "code",
   "execution_count": 4,
   "metadata": {},
   "outputs": [
    {
     "data": {
      "text/plain": [
       "<pyspark.conf.SparkConf at 0x10f3b3b38>"
      ]
     },
     "execution_count": 4,
     "metadata": {},
     "output_type": "execute_result"
    }
   ],
   "source": [
    "sc_conf.set('spark.driver.port', '62678')\n",
    "sc_conf.set('spark.rdd.compress', 'True')\n",
    "sc_conf.set('spark.driver.host', '127.0.0.1')\n",
    "sc_conf.set('spark.serializer.objectStreamReset', '100')\n",
    "sc_conf.set('spark.master', 'local[*]')\n",
    "sc_conf.set('spark.executor.id', 'driver')\n",
    "sc_conf.set('spark.submit.deployMode', 'client')\n",
    "sc_conf.set('spark.ui.showConsoleProgress', 'true')\n",
    "sc_conf.set('spark.app.name', 'pyspark-shell')\n",
    "sc_conf.set(\"spark.executor.memory\",\"6g\")\n",
    "sc_conf.set(\"spark.driver.memory\",\"6g\")"
   ]
  },
  {
   "cell_type": "code",
   "execution_count": 5,
   "metadata": {},
   "outputs": [
    {
     "data": {
      "text/plain": [
       "dict_items([('spark.driver.port', '62678'), ('spark.rdd.compress', 'True'), ('spark.driver.host', '127.0.0.1'), ('spark.serializer.objectStreamReset', '100'), ('spark.master', 'local[*]'), ('spark.executor.id', 'driver'), ('spark.submit.deployMode', 'client'), ('spark.ui.showConsoleProgress', 'true'), ('spark.app.name', 'pyspark-shell'), ('spark.executor.memory', '6g'), ('spark.driver.memory', '6g')])"
      ]
     },
     "execution_count": 5,
     "metadata": {},
     "output_type": "execute_result"
    }
   ],
   "source": [
    "sc_conf.getAll()"
   ]
  },
  {
   "cell_type": "code",
   "execution_count": 6,
   "metadata": {},
   "outputs": [],
   "source": [
    "sc = SparkContext(conf=sc_conf)"
   ]
  },
  {
   "cell_type": "code",
   "execution_count": 7,
   "metadata": {},
   "outputs": [],
   "source": [
    "sql = SQLContext(sc)"
   ]
  },
  {
   "cell_type": "code",
   "execution_count": 8,
   "metadata": {},
   "outputs": [
    {
     "data": {
      "text/html": [
       "\n",
       "            <div>\n",
       "                <p><b>SparkSession - in-memory</b></p>\n",
       "                \n",
       "        <div>\n",
       "            <p><b>SparkContext</b></p>\n",
       "\n",
       "            <p><a href=\"http://127.0.0.1:4040\">Spark UI</a></p>\n",
       "\n",
       "            <dl>\n",
       "              <dt>Version</dt>\n",
       "                <dd><code>v2.4.0</code></dd>\n",
       "              <dt>Master</dt>\n",
       "                <dd><code>local[*]</code></dd>\n",
       "              <dt>AppName</dt>\n",
       "                <dd><code>pyspark-shell</code></dd>\n",
       "            </dl>\n",
       "        </div>\n",
       "        \n",
       "            </div>\n",
       "        "
      ],
      "text/plain": [
       "<pyspark.sql.session.SparkSession at 0x1189b2c50>"
      ]
     },
     "execution_count": 8,
     "metadata": {},
     "output_type": "execute_result"
    }
   ],
   "source": [
    "session = sql.sparkSession\n",
    "session"
   ]
  },
  {
   "cell_type": "code",
   "execution_count": 9,
   "metadata": {},
   "outputs": [
    {
     "data": {
      "text/plain": [
       "[('spark.executor.memory', '6g'),\n",
       " ('spark.driver.port', '62678'),\n",
       " ('spark.driver.host', '127.0.0.1'),\n",
       " ('spark.driver.memory', '6g'),\n",
       " ('spark.rdd.compress', 'True'),\n",
       " ('spark.serializer.objectStreamReset', '100'),\n",
       " ('spark.master', 'local[*]'),\n",
       " ('spark.executor.id', 'driver'),\n",
       " ('spark.submit.deployMode', 'client'),\n",
       " ('spark.ui.showConsoleProgress', 'true'),\n",
       " ('spark.app.name', 'pyspark-shell'),\n",
       " ('spark.app.id', 'local-1556574253198')]"
      ]
     },
     "execution_count": 9,
     "metadata": {},
     "output_type": "execute_result"
    }
   ],
   "source": [
    "session.sparkContext.getConf().getAll()"
   ]
  },
  {
   "cell_type": "markdown",
   "metadata": {},
   "source": [
    "## 2 Load the libraries"
   ]
  },
  {
   "cell_type": "code",
   "execution_count": 10,
   "metadata": {},
   "outputs": [],
   "source": [
    "%matplotlib inline\n",
    "\n",
    "from pyspark.sql import SparkSession\n",
    "from pyspark.sql.types import *\n",
    "from pyspark.sql import functions as F\n",
    "from pyspark.sql import types as T\n",
    "import pandas as pd\n",
    "import numpy as np\n",
    "import matplotlib.pyplot as plt\n",
    "import seaborn as sns\n",
    "pd.options.display.max_columns = None"
   ]
  },
  {
   "cell_type": "markdown",
   "metadata": {
    "colab_type": "text",
    "id": "Ny3gv2lV-E5P"
   },
   "source": [
    "## 3 Read the data"
   ]
  },
  {
   "cell_type": "markdown",
   "metadata": {},
   "source": [
    "### 2.1 Taxi trips"
   ]
  },
  {
   "cell_type": "code",
   "execution_count": 11,
   "metadata": {},
   "outputs": [],
   "source": [
    "taxi_schema = StructType([\n",
    "    StructField(\"trip_id\", StringType(), nullable = True),\n",
    "    StructField(\"taxi_id\", StringType(), nullable = True),\n",
    "    StructField(\"trip_start_timestamp\", TimestampType(), nullable = True),\n",
    "    StructField(\"trip_end_timestamp\", TimestampType(), nullable = True),\n",
    "    StructField(\"trip_seconds\", IntegerType(), nullable = True),\n",
    "    StructField(\"trip_miles\", DoubleType(), nullable = True),\n",
    "    StructField(\"pickup_community_area\", IntegerType(), nullable = True),\n",
    "    StructField(\"dropoff_community_area\", IntegerType(), nullable = True),\n",
    "    StructField(\"fare\", DoubleType(), nullable = True),\n",
    "    StructField(\"tips\", DoubleType(), nullable = True),\n",
    "    StructField(\"tolls\", DoubleType(), nullable = True),\n",
    "    StructField(\"extras\", DoubleType(), nullable = True),\n",
    "    StructField(\"trip_total\", DoubleType(), nullable = True),\n",
    "    StructField(\"payment_type\", StringType(), nullable = True),\n",
    "    StructField(\"company\", StringType(), nullable = True),\n",
    "    StructField(\"pickup_centroid_latitude\", DoubleType(), nullable = True),\n",
    "    StructField(\"pickup_centroid_longitude\", DoubleType(), nullable = True),\n",
    "    StructField(\"dropoff_centroid_latitude\", DoubleType(), nullable = True),\n",
    "    StructField(\"dropoff_centroid_longitude\", DoubleType(), nullable = True)])"
   ]
  },
  {
   "cell_type": "code",
   "execution_count": 12,
   "metadata": {},
   "outputs": [],
   "source": [
    "taxi_trips = session.read.csv('../Data/chicago_data_clean.csv',\n",
    "                              header=True,\n",
    "                              schema=taxi_schema)"
   ]
  },
  {
   "cell_type": "code",
   "execution_count": 13,
   "metadata": {},
   "outputs": [],
   "source": [
    "taxi_trips.write.parquet(\"../Data/taxi_trips.parquet\")"
   ]
  },
  {
   "cell_type": "code",
   "execution_count": 14,
   "metadata": {},
   "outputs": [],
   "source": [
    "taxi_trips = session.read.parquet(\"../Data/taxi_trips.parquet\")"
   ]
  },
  {
   "cell_type": "markdown",
   "metadata": {},
   "source": [
    "#### 2.1.1 Check the correct load "
   ]
  },
  {
   "cell_type": "code",
   "execution_count": 15,
   "metadata": {},
   "outputs": [
    {
     "name": "stdout",
     "output_type": "stream",
     "text": [
      "+--------------------+--------------------+--------------------+-------------------+------------+----------+---------------------+----------------------+-----+----+-----+------+----------+------------+--------------------+------------------------+-------------------------+-------------------------+--------------------------+\n",
      "|             trip_id|             taxi_id|trip_start_timestamp| trip_end_timestamp|trip_seconds|trip_miles|pickup_community_area|dropoff_community_area| fare|tips|tolls|extras|trip_total|payment_type|             company|pickup_centroid_latitude|pickup_centroid_longitude|dropoff_centroid_latitude|dropoff_centroid_longitude|\n",
      "+--------------------+--------------------+--------------------+-------------------+------------+----------+---------------------+----------------------+-----+----+-----+------+----------+------------+--------------------+------------------------+-------------------------+-------------------------+--------------------------+\n",
      "|fe9a92bfa69619749...|970061a1beb6a38b3...| 2017-05-02 16:45:00|2017-05-02 17:00:00|         480|       1.5|                    8|                     7| 7.25| 0.0|  0.0|   1.0|      8.25|        Cash|Dispatch Taxi Aff...|            41.899602111|            -87.633308037|             41.922686284|             -87.649488729|\n",
      "|fe9a934b04428c2f8...|34374a0a0e0845353...| 2014-02-14 10:30:00|2014-02-14 10:30:00|         600|       2.2|                   28|                    32| 8.25| 0.0|  0.0|   0.0|      8.25|        Cash|Dispatch Taxi Aff...|            41.879066994|       -87.65700502700001|             41.884987192|             -87.620992913|\n",
      "|fe9a935bba33847d9...|68f360f3c1cee4fc8...| 2013-08-04 10:00:00|2013-08-04 10:15:00|        1440|       1.1|                   76|                    31|37.05| 0.0|  0.0|   2.0|     39.05|        Cash|Taxi Affiliation ...|            41.980264315|            -87.913624596|             41.850266366|        -87.66756931200001|\n",
      "|fe9a9385ac6d28e25...|df713d3e792da0c30...| 2013-03-31 10:15:00|2013-03-31 10:30:00|         600|      24.0|                    8|                    32| 8.85| 2.0|  0.0|   0.0|     10.85| Credit Card|Taxi Affiliation ...|            41.900265687|             -87.63210922|       41.870607371999995|             -87.622172937|\n",
      "|fe9a939b56e2769b6...|69d98995876c80f61...| 2015-07-07 16:45:00|2015-07-07 17:00:00|         540|       1.5|                   32|                     8| 7.25| 2.0|  0.0|   0.0|      9.25| Credit Card|Taxi Affiliation ...|            41.880994471|            -87.632746489|       41.891971508000005|             -87.612945414|\n",
      "+--------------------+--------------------+--------------------+-------------------+------------+----------+---------------------+----------------------+-----+----+-----+------+----------+------------+--------------------+------------------------+-------------------------+-------------------------+--------------------------+\n",
      "only showing top 5 rows\n",
      "\n"
     ]
    }
   ],
   "source": [
    "taxi_trips.show(5)"
   ]
  },
  {
   "cell_type": "code",
   "execution_count": 16,
   "metadata": {},
   "outputs": [
    {
     "name": "stdout",
     "output_type": "stream",
     "text": [
      "root\n",
      " |-- trip_id: string (nullable = true)\n",
      " |-- taxi_id: string (nullable = true)\n",
      " |-- trip_start_timestamp: timestamp (nullable = true)\n",
      " |-- trip_end_timestamp: timestamp (nullable = true)\n",
      " |-- trip_seconds: integer (nullable = true)\n",
      " |-- trip_miles: double (nullable = true)\n",
      " |-- pickup_community_area: integer (nullable = true)\n",
      " |-- dropoff_community_area: integer (nullable = true)\n",
      " |-- fare: double (nullable = true)\n",
      " |-- tips: double (nullable = true)\n",
      " |-- tolls: double (nullable = true)\n",
      " |-- extras: double (nullable = true)\n",
      " |-- trip_total: double (nullable = true)\n",
      " |-- payment_type: string (nullable = true)\n",
      " |-- company: string (nullable = true)\n",
      " |-- pickup_centroid_latitude: double (nullable = true)\n",
      " |-- pickup_centroid_longitude: double (nullable = true)\n",
      " |-- dropoff_centroid_latitude: double (nullable = true)\n",
      " |-- dropoff_centroid_longitude: double (nullable = true)\n",
      "\n"
     ]
    }
   ],
   "source": [
    "taxi_trips.printSchema()"
   ]
  },
  {
   "cell_type": "markdown",
   "metadata": {},
   "source": [
    "#### 2.1.2 Study the dimensions of the dataset"
   ]
  },
  {
   "cell_type": "code",
   "execution_count": 17,
   "metadata": {},
   "outputs": [
    {
     "data": {
      "text/plain": [
       "29755922"
      ]
     },
     "execution_count": 17,
     "metadata": {},
     "output_type": "execute_result"
    }
   ],
   "source": [
    "taxi_trips.count()"
   ]
  },
  {
   "cell_type": "code",
   "execution_count": 18,
   "metadata": {},
   "outputs": [
    {
     "data": {
      "text/plain": [
       "19"
      ]
     },
     "execution_count": 18,
     "metadata": {},
     "output_type": "execute_result"
    }
   ],
   "source": [
    "len(taxi_trips.columns)"
   ]
  },
  {
   "cell_type": "markdown",
   "metadata": {},
   "source": [
    "### 2.2 Chicago Weather"
   ]
  },
  {
   "cell_type": "code",
   "execution_count": 19,
   "metadata": {},
   "outputs": [],
   "source": [
    "weather_schema = StructType([\n",
    "    StructField(\"datetime\", TimestampType(), nullable = True),\n",
    "    StructField(\"humidity\", DoubleType(), nullable = True),\n",
    "    StructField(\"pressure\", DoubleType(), nullable = True),\n",
    "    StructField(\"temperature\", DoubleType(), nullable = True),\n",
    "    StructField(\"weather_description\", StringType(), nullable = True),\n",
    "    StructField(\"wind_direction\", DoubleType(), nullable = True),\n",
    "    StructField(\"wind_speed\", DoubleType(), nullable = True)])"
   ]
  },
  {
   "cell_type": "code",
   "execution_count": 20,
   "metadata": {},
   "outputs": [],
   "source": [
    "chicago_weather = session.read.csv('../Data/Chicago_weather.csv.gz',\n",
    "                              header=True,\n",
    "                              schema=weather_schema)"
   ]
  },
  {
   "cell_type": "code",
   "execution_count": 21,
   "metadata": {},
   "outputs": [],
   "source": [
    "chicago_weather.write.parquet(\"../Data/chicago_weather.parquet\")"
   ]
  },
  {
   "cell_type": "code",
   "execution_count": 22,
   "metadata": {},
   "outputs": [],
   "source": [
    "chicago_weather = session.read.parquet(\"../Data/chicago_weather.parquet\")"
   ]
  },
  {
   "cell_type": "markdown",
   "metadata": {},
   "source": [
    "#### 2.2.1 Check the correct load"
   ]
  },
  {
   "cell_type": "code",
   "execution_count": 23,
   "metadata": {},
   "outputs": [
    {
     "name": "stdout",
     "output_type": "stream",
     "text": [
      "+-------------------+--------+--------+------------------+-------------------+--------------+----------+\n",
      "|           datetime|humidity|pressure|       temperature|weather_description|wind_direction|wind_speed|\n",
      "+-------------------+--------+--------+------------------+-------------------+--------------+----------+\n",
      "|2012-10-01 13:00:00|    71.0|  1014.0|            284.01|    overcast clouds|           0.0|       0.0|\n",
      "|2012-10-01 14:00:00|    70.0|  1014.0|284.05469097400004|    overcast clouds|           0.0|       0.0|\n",
      "|2012-10-01 15:00:00|    70.0|  1014.0|     284.177412183|    overcast clouds|           0.0|       0.0|\n",
      "|2012-10-01 16:00:00|    70.0|  1014.0|     284.300133393|    overcast clouds|           0.0|       0.0|\n",
      "|2012-10-01 17:00:00|    69.0|  1014.0|284.42285460200003|    overcast clouds|           0.0|       0.0|\n",
      "+-------------------+--------+--------+------------------+-------------------+--------------+----------+\n",
      "only showing top 5 rows\n",
      "\n"
     ]
    }
   ],
   "source": [
    "chicago_weather.show(5)"
   ]
  },
  {
   "cell_type": "code",
   "execution_count": 24,
   "metadata": {},
   "outputs": [
    {
     "name": "stdout",
     "output_type": "stream",
     "text": [
      "root\n",
      " |-- datetime: timestamp (nullable = true)\n",
      " |-- humidity: double (nullable = true)\n",
      " |-- pressure: double (nullable = true)\n",
      " |-- temperature: double (nullable = true)\n",
      " |-- weather_description: string (nullable = true)\n",
      " |-- wind_direction: double (nullable = true)\n",
      " |-- wind_speed: double (nullable = true)\n",
      "\n"
     ]
    }
   ],
   "source": [
    "chicago_weather.printSchema()"
   ]
  },
  {
   "cell_type": "markdown",
   "metadata": {},
   "source": [
    "#### 2.2.2 Study the dimensions of the dataset"
   ]
  },
  {
   "cell_type": "code",
   "execution_count": 25,
   "metadata": {},
   "outputs": [
    {
     "data": {
      "text/plain": [
       "45252"
      ]
     },
     "execution_count": 25,
     "metadata": {},
     "output_type": "execute_result"
    }
   ],
   "source": [
    "chicago_weather.count()"
   ]
  },
  {
   "cell_type": "code",
   "execution_count": 26,
   "metadata": {},
   "outputs": [
    {
     "data": {
      "text/plain": [
       "7"
      ]
     },
     "execution_count": 26,
     "metadata": {},
     "output_type": "execute_result"
    }
   ],
   "source": [
    "len(chicago_weather.columns)"
   ]
  },
  {
   "cell_type": "markdown",
   "metadata": {},
   "source": [
    "## 3 Join both Dataset"
   ]
  },
  {
   "cell_type": "markdown",
   "metadata": {},
   "source": [
    "### 3.1 Define the keys to join both dataset"
   ]
  },
  {
   "cell_type": "markdown",
   "metadata": {},
   "source": [
    "#### 3.1.1 Taxi Trips"
   ]
  },
  {
   "cell_type": "code",
   "execution_count": 27,
   "metadata": {},
   "outputs": [],
   "source": [
    "# We create a computed field from column 'trip_start_timestamp' and convert it to string format with the aim of \n",
    "# then crossing by year, month, day and hour with the weather dataset\n",
    "taxi_trips = taxi_trips.withColumn(\"AUX_trip_start_timestamp\",\n",
    "                                   F.col(\"trip_start_timestamp\").cast(T.StringType()))"
   ]
  },
  {
   "cell_type": "markdown",
   "metadata": {},
   "source": [
    "#### 3.1.2 Weather"
   ]
  },
  {
   "cell_type": "code",
   "execution_count": 28,
   "metadata": {},
   "outputs": [],
   "source": [
    "# We create a computed field from column 'datetime' and convert it to string format with the aim of \n",
    "# then crossing by year, month, day and hour with the traxi_trips dataset\n",
    "chicago_weather = chicago_weather.withColumn(\"AUX_datetime\",\n",
    "                                             F.col(\"datetime\").cast(T.StringType()))"
   ]
  },
  {
   "cell_type": "markdown",
   "metadata": {},
   "source": [
    "### 3.2 Join both Datasets"
   ]
  },
  {
   "cell_type": "code",
   "execution_count": 29,
   "metadata": {},
   "outputs": [],
   "source": [
    "# We cross both datasets by year, month, day and hour\n",
    "taxi_trips = taxi_trips.join(chicago_weather,\n",
    "                             on=F.col('AUX_trip_start_timestamp')[0:13]==F.col('AUX_datetime')[0:13],\n",
    "                             how='left_outer')"
   ]
  },
  {
   "cell_type": "markdown",
   "metadata": {},
   "source": [
    "#### 3.2.1 Check the correct join of the data"
   ]
  },
  {
   "cell_type": "code",
   "execution_count": 30,
   "metadata": {},
   "outputs": [
    {
     "data": {
      "text/plain": [
       "29760901"
      ]
     },
     "execution_count": 30,
     "metadata": {},
     "output_type": "execute_result"
    }
   ],
   "source": [
    "taxi_trips.count()"
   ]
  },
  {
   "cell_type": "markdown",
   "metadata": {},
   "source": [
    "After the join, there have been generated duplicates that we must eliminate"
   ]
  },
  {
   "cell_type": "code",
   "execution_count": 31,
   "metadata": {},
   "outputs": [
    {
     "data": {
      "text/plain": [
       "28"
      ]
     },
     "execution_count": 31,
     "metadata": {},
     "output_type": "execute_result"
    }
   ],
   "source": [
    "len(taxi_trips.columns)"
   ]
  },
  {
   "cell_type": "code",
   "execution_count": 32,
   "metadata": {},
   "outputs": [
    {
     "data": {
      "text/html": [
       "<div>\n",
       "<style scoped>\n",
       "    .dataframe tbody tr th:only-of-type {\n",
       "        vertical-align: middle;\n",
       "    }\n",
       "\n",
       "    .dataframe tbody tr th {\n",
       "        vertical-align: top;\n",
       "    }\n",
       "\n",
       "    .dataframe thead th {\n",
       "        text-align: right;\n",
       "    }\n",
       "</style>\n",
       "<table border=\"1\" class=\"dataframe\">\n",
       "  <thead>\n",
       "    <tr style=\"text-align: right;\">\n",
       "      <th></th>\n",
       "      <th>trip_id</th>\n",
       "      <th>taxi_id</th>\n",
       "      <th>trip_start_timestamp</th>\n",
       "      <th>trip_end_timestamp</th>\n",
       "      <th>trip_seconds</th>\n",
       "      <th>trip_miles</th>\n",
       "      <th>pickup_community_area</th>\n",
       "      <th>dropoff_community_area</th>\n",
       "      <th>fare</th>\n",
       "      <th>tips</th>\n",
       "      <th>tolls</th>\n",
       "      <th>extras</th>\n",
       "      <th>trip_total</th>\n",
       "      <th>payment_type</th>\n",
       "      <th>company</th>\n",
       "      <th>pickup_centroid_latitude</th>\n",
       "      <th>pickup_centroid_longitude</th>\n",
       "      <th>dropoff_centroid_latitude</th>\n",
       "      <th>dropoff_centroid_longitude</th>\n",
       "      <th>AUX_trip_start_timestamp</th>\n",
       "      <th>datetime</th>\n",
       "      <th>humidity</th>\n",
       "      <th>pressure</th>\n",
       "      <th>temperature</th>\n",
       "      <th>weather_description</th>\n",
       "      <th>wind_direction</th>\n",
       "      <th>wind_speed</th>\n",
       "      <th>AUX_datetime</th>\n",
       "    </tr>\n",
       "  </thead>\n",
       "  <tbody>\n",
       "    <tr>\n",
       "      <th>0</th>\n",
       "      <td>fe9a92bfa6961974922c4df4b1f8ae27727eedd9</td>\n",
       "      <td>970061a1beb6a38b3952054ade845973522e145fa12c49...</td>\n",
       "      <td>2017-05-02 16:45:00</td>\n",
       "      <td>2017-05-02 17:00:00</td>\n",
       "      <td>480</td>\n",
       "      <td>1.5</td>\n",
       "      <td>8</td>\n",
       "      <td>7</td>\n",
       "      <td>7.25</td>\n",
       "      <td>0.0</td>\n",
       "      <td>0.0</td>\n",
       "      <td>1.0</td>\n",
       "      <td>8.25</td>\n",
       "      <td>Cash</td>\n",
       "      <td>Dispatch Taxi Affiliation</td>\n",
       "      <td>41.899602</td>\n",
       "      <td>-87.633308</td>\n",
       "      <td>41.922686</td>\n",
       "      <td>-87.649489</td>\n",
       "      <td>2017-05-02 16:45:00</td>\n",
       "      <td>2017-05-02 16:00:00</td>\n",
       "      <td>65.0</td>\n",
       "      <td>1006.0</td>\n",
       "      <td>280.64</td>\n",
       "      <td>overcast clouds</td>\n",
       "      <td>270.0</td>\n",
       "      <td>8.0</td>\n",
       "      <td>2017-05-02 16:00:00</td>\n",
       "    </tr>\n",
       "    <tr>\n",
       "      <th>1</th>\n",
       "      <td>fe9a934b04428c2f8a7776f81ba69e0853f91aa9</td>\n",
       "      <td>34374a0a0e084535388b552992e4ab4c06e7ca58817b77...</td>\n",
       "      <td>2014-02-14 10:30:00</td>\n",
       "      <td>2014-02-14 10:30:00</td>\n",
       "      <td>600</td>\n",
       "      <td>2.2</td>\n",
       "      <td>28</td>\n",
       "      <td>32</td>\n",
       "      <td>8.25</td>\n",
       "      <td>0.0</td>\n",
       "      <td>0.0</td>\n",
       "      <td>0.0</td>\n",
       "      <td>8.25</td>\n",
       "      <td>Cash</td>\n",
       "      <td>Dispatch Taxi Affiliation</td>\n",
       "      <td>41.879067</td>\n",
       "      <td>-87.657005</td>\n",
       "      <td>41.884987</td>\n",
       "      <td>-87.620993</td>\n",
       "      <td>2014-02-14 10:30:00</td>\n",
       "      <td>2014-02-14 10:00:00</td>\n",
       "      <td>72.0</td>\n",
       "      <td>1004.0</td>\n",
       "      <td>262.80</td>\n",
       "      <td>few clouds</td>\n",
       "      <td>270.0</td>\n",
       "      <td>6.0</td>\n",
       "      <td>2014-02-14 10:00:00</td>\n",
       "    </tr>\n",
       "    <tr>\n",
       "      <th>2</th>\n",
       "      <td>fe9a935bba33847d9555e37c1d03ccf25182bdd0</td>\n",
       "      <td>68f360f3c1cee4fc86d94c40008040dbffe2915edd3567...</td>\n",
       "      <td>2013-08-04 10:00:00</td>\n",
       "      <td>2013-08-04 10:15:00</td>\n",
       "      <td>1440</td>\n",
       "      <td>1.1</td>\n",
       "      <td>76</td>\n",
       "      <td>31</td>\n",
       "      <td>37.05</td>\n",
       "      <td>0.0</td>\n",
       "      <td>0.0</td>\n",
       "      <td>2.0</td>\n",
       "      <td>39.05</td>\n",
       "      <td>Cash</td>\n",
       "      <td>Taxi Affiliation Services</td>\n",
       "      <td>41.980264</td>\n",
       "      <td>-87.913625</td>\n",
       "      <td>41.850266</td>\n",
       "      <td>-87.667569</td>\n",
       "      <td>2013-08-04 10:00:00</td>\n",
       "      <td>2013-08-04 10:00:00</td>\n",
       "      <td>78.0</td>\n",
       "      <td>1014.0</td>\n",
       "      <td>291.13</td>\n",
       "      <td>overcast clouds</td>\n",
       "      <td>345.0</td>\n",
       "      <td>0.0</td>\n",
       "      <td>2013-08-04 10:00:00</td>\n",
       "    </tr>\n",
       "    <tr>\n",
       "      <th>3</th>\n",
       "      <td>fe9a9385ac6d28e2573833a73040f817db32c49e</td>\n",
       "      <td>df713d3e792da0c30d1362aab25c15def59a179a6f4115...</td>\n",
       "      <td>2013-03-31 10:15:00</td>\n",
       "      <td>2013-03-31 10:30:00</td>\n",
       "      <td>600</td>\n",
       "      <td>24.0</td>\n",
       "      <td>8</td>\n",
       "      <td>32</td>\n",
       "      <td>8.85</td>\n",
       "      <td>2.0</td>\n",
       "      <td>0.0</td>\n",
       "      <td>0.0</td>\n",
       "      <td>10.85</td>\n",
       "      <td>Credit Card</td>\n",
       "      <td>Taxi Affiliation Services</td>\n",
       "      <td>41.900266</td>\n",
       "      <td>-87.632109</td>\n",
       "      <td>41.870607</td>\n",
       "      <td>-87.622173</td>\n",
       "      <td>2013-03-31 10:15:00</td>\n",
       "      <td>2013-03-31 10:00:00</td>\n",
       "      <td>72.0</td>\n",
       "      <td>1023.0</td>\n",
       "      <td>272.32</td>\n",
       "      <td>few clouds</td>\n",
       "      <td>69.0</td>\n",
       "      <td>0.0</td>\n",
       "      <td>2013-03-31 10:00:00</td>\n",
       "    </tr>\n",
       "    <tr>\n",
       "      <th>4</th>\n",
       "      <td>fe9a939b56e2769b6c283ab65cc8087107ce099a</td>\n",
       "      <td>69d98995876c80f617a2884fac0a9ff87019a3cb7e519c...</td>\n",
       "      <td>2015-07-07 16:45:00</td>\n",
       "      <td>2015-07-07 17:00:00</td>\n",
       "      <td>540</td>\n",
       "      <td>1.5</td>\n",
       "      <td>32</td>\n",
       "      <td>8</td>\n",
       "      <td>7.25</td>\n",
       "      <td>2.0</td>\n",
       "      <td>0.0</td>\n",
       "      <td>0.0</td>\n",
       "      <td>9.25</td>\n",
       "      <td>Credit Card</td>\n",
       "      <td>Taxi Affiliation Services</td>\n",
       "      <td>41.880994</td>\n",
       "      <td>-87.632746</td>\n",
       "      <td>41.891972</td>\n",
       "      <td>-87.612945</td>\n",
       "      <td>2015-07-07 16:45:00</td>\n",
       "      <td>2015-07-07 16:00:00</td>\n",
       "      <td>59.0</td>\n",
       "      <td>1016.0</td>\n",
       "      <td>291.04</td>\n",
       "      <td>overcast clouds</td>\n",
       "      <td>10.0</td>\n",
       "      <td>8.0</td>\n",
       "      <td>2015-07-07 16:00:00</td>\n",
       "    </tr>\n",
       "  </tbody>\n",
       "</table>\n",
       "</div>"
      ],
      "text/plain": [
       "                                    trip_id  \\\n",
       "0  fe9a92bfa6961974922c4df4b1f8ae27727eedd9   \n",
       "1  fe9a934b04428c2f8a7776f81ba69e0853f91aa9   \n",
       "2  fe9a935bba33847d9555e37c1d03ccf25182bdd0   \n",
       "3  fe9a9385ac6d28e2573833a73040f817db32c49e   \n",
       "4  fe9a939b56e2769b6c283ab65cc8087107ce099a   \n",
       "\n",
       "                                             taxi_id trip_start_timestamp  \\\n",
       "0  970061a1beb6a38b3952054ade845973522e145fa12c49...  2017-05-02 16:45:00   \n",
       "1  34374a0a0e084535388b552992e4ab4c06e7ca58817b77...  2014-02-14 10:30:00   \n",
       "2  68f360f3c1cee4fc86d94c40008040dbffe2915edd3567...  2013-08-04 10:00:00   \n",
       "3  df713d3e792da0c30d1362aab25c15def59a179a6f4115...  2013-03-31 10:15:00   \n",
       "4  69d98995876c80f617a2884fac0a9ff87019a3cb7e519c...  2015-07-07 16:45:00   \n",
       "\n",
       "   trip_end_timestamp  trip_seconds  trip_miles  pickup_community_area  \\\n",
       "0 2017-05-02 17:00:00           480         1.5                      8   \n",
       "1 2014-02-14 10:30:00           600         2.2                     28   \n",
       "2 2013-08-04 10:15:00          1440         1.1                     76   \n",
       "3 2013-03-31 10:30:00           600        24.0                      8   \n",
       "4 2015-07-07 17:00:00           540         1.5                     32   \n",
       "\n",
       "   dropoff_community_area   fare  tips  tolls  extras  trip_total  \\\n",
       "0                       7   7.25   0.0    0.0     1.0        8.25   \n",
       "1                      32   8.25   0.0    0.0     0.0        8.25   \n",
       "2                      31  37.05   0.0    0.0     2.0       39.05   \n",
       "3                      32   8.85   2.0    0.0     0.0       10.85   \n",
       "4                       8   7.25   2.0    0.0     0.0        9.25   \n",
       "\n",
       "  payment_type                    company  pickup_centroid_latitude  \\\n",
       "0         Cash  Dispatch Taxi Affiliation                 41.899602   \n",
       "1         Cash  Dispatch Taxi Affiliation                 41.879067   \n",
       "2         Cash  Taxi Affiliation Services                 41.980264   \n",
       "3  Credit Card  Taxi Affiliation Services                 41.900266   \n",
       "4  Credit Card  Taxi Affiliation Services                 41.880994   \n",
       "\n",
       "   pickup_centroid_longitude  dropoff_centroid_latitude  \\\n",
       "0                 -87.633308                  41.922686   \n",
       "1                 -87.657005                  41.884987   \n",
       "2                 -87.913625                  41.850266   \n",
       "3                 -87.632109                  41.870607   \n",
       "4                 -87.632746                  41.891972   \n",
       "\n",
       "   dropoff_centroid_longitude AUX_trip_start_timestamp            datetime  \\\n",
       "0                  -87.649489      2017-05-02 16:45:00 2017-05-02 16:00:00   \n",
       "1                  -87.620993      2014-02-14 10:30:00 2014-02-14 10:00:00   \n",
       "2                  -87.667569      2013-08-04 10:00:00 2013-08-04 10:00:00   \n",
       "3                  -87.622173      2013-03-31 10:15:00 2013-03-31 10:00:00   \n",
       "4                  -87.612945      2015-07-07 16:45:00 2015-07-07 16:00:00   \n",
       "\n",
       "   humidity  pressure  temperature weather_description  wind_direction  \\\n",
       "0      65.0    1006.0       280.64     overcast clouds           270.0   \n",
       "1      72.0    1004.0       262.80          few clouds           270.0   \n",
       "2      78.0    1014.0       291.13     overcast clouds           345.0   \n",
       "3      72.0    1023.0       272.32          few clouds            69.0   \n",
       "4      59.0    1016.0       291.04     overcast clouds            10.0   \n",
       "\n",
       "   wind_speed         AUX_datetime  \n",
       "0         8.0  2017-05-02 16:00:00  \n",
       "1         6.0  2014-02-14 10:00:00  \n",
       "2         0.0  2013-08-04 10:00:00  \n",
       "3         0.0  2013-03-31 10:00:00  \n",
       "4         8.0  2015-07-07 16:00:00  "
      ]
     },
     "execution_count": 32,
     "metadata": {},
     "output_type": "execute_result"
    }
   ],
   "source": [
    "taxi_trips.limit(5).toPandas()"
   ]
  },
  {
   "cell_type": "markdown",
   "metadata": {},
   "source": [
    "#### 3.2.2 Drop  duplicate trips after the join"
   ]
  },
  {
   "cell_type": "code",
   "execution_count": 33,
   "metadata": {},
   "outputs": [],
   "source": [
    "taxi_trips = taxi_trips.dropDuplicates(['trip_id',\n",
    "                                        'taxi_id',\n",
    "                                        'trip_start_timestamp',\n",
    "                                        'trip_end_timestamp',\n",
    "                                        'trip_seconds',\n",
    "                                        'trip_miles',\n",
    "                                        'pickup_community_area',\n",
    "                                        'dropoff_community_area',\n",
    "                                        'fare',\n",
    "                                        'tips',\n",
    "                                        'tolls',\n",
    "                                        'extras',\n",
    "                                        'trip_total',\n",
    "                                        'payment_type',\n",
    "                                        'company',\n",
    "                                        'pickup_centroid_latitude',\n",
    "                                        'pickup_centroid_longitude',\n",
    "                                        'dropoff_centroid_latitude',\n",
    "                                        'dropoff_centroid_longitude'])"
   ]
  },
  {
   "cell_type": "code",
   "execution_count": 34,
   "metadata": {},
   "outputs": [
    {
     "data": {
      "text/plain": [
       "29755922"
      ]
     },
     "execution_count": 34,
     "metadata": {},
     "output_type": "execute_result"
    }
   ],
   "source": [
    "# We check that the number of duplicate trips have been eliminated\n",
    "taxi_trips.count()"
   ]
  },
  {
   "cell_type": "markdown",
   "metadata": {},
   "source": [
    "#### 3.2.2 Remove useless columns"
   ]
  },
  {
   "cell_type": "code",
   "execution_count": 35,
   "metadata": {},
   "outputs": [
    {
     "data": {
      "text/plain": [
       "['trip_id',\n",
       " 'taxi_id',\n",
       " 'trip_start_timestamp',\n",
       " 'trip_end_timestamp',\n",
       " 'trip_seconds',\n",
       " 'trip_miles',\n",
       " 'pickup_community_area',\n",
       " 'dropoff_community_area',\n",
       " 'fare',\n",
       " 'tips',\n",
       " 'tolls',\n",
       " 'extras',\n",
       " 'trip_total',\n",
       " 'payment_type',\n",
       " 'company',\n",
       " 'pickup_centroid_latitude',\n",
       " 'pickup_centroid_longitude',\n",
       " 'dropoff_centroid_latitude',\n",
       " 'dropoff_centroid_longitude',\n",
       " 'AUX_trip_start_timestamp',\n",
       " 'datetime',\n",
       " 'humidity',\n",
       " 'pressure',\n",
       " 'temperature',\n",
       " 'weather_description',\n",
       " 'wind_direction',\n",
       " 'wind_speed',\n",
       " 'AUX_datetime']"
      ]
     },
     "execution_count": 35,
     "metadata": {},
     "output_type": "execute_result"
    }
   ],
   "source": [
    "taxi_trips.columns"
   ]
  },
  {
   "cell_type": "code",
   "execution_count": 36,
   "metadata": {},
   "outputs": [],
   "source": [
    "taxi_trips = taxi_trips.drop('datetime',\n",
    "                             'AUX_datetime')"
   ]
  },
  {
   "cell_type": "markdown",
   "metadata": {},
   "source": [
    "#### 3.2.3 Check the dataset again"
   ]
  },
  {
   "cell_type": "code",
   "execution_count": 37,
   "metadata": {},
   "outputs": [
    {
     "data": {
      "text/plain": [
       "26"
      ]
     },
     "execution_count": 37,
     "metadata": {},
     "output_type": "execute_result"
    }
   ],
   "source": [
    "len(taxi_trips.columns)"
   ]
  },
  {
   "cell_type": "code",
   "execution_count": 38,
   "metadata": {},
   "outputs": [
    {
     "data": {
      "text/html": [
       "<div>\n",
       "<style scoped>\n",
       "    .dataframe tbody tr th:only-of-type {\n",
       "        vertical-align: middle;\n",
       "    }\n",
       "\n",
       "    .dataframe tbody tr th {\n",
       "        vertical-align: top;\n",
       "    }\n",
       "\n",
       "    .dataframe thead th {\n",
       "        text-align: right;\n",
       "    }\n",
       "</style>\n",
       "<table border=\"1\" class=\"dataframe\">\n",
       "  <thead>\n",
       "    <tr style=\"text-align: right;\">\n",
       "      <th></th>\n",
       "      <th>trip_id</th>\n",
       "      <th>taxi_id</th>\n",
       "      <th>trip_start_timestamp</th>\n",
       "      <th>trip_end_timestamp</th>\n",
       "      <th>trip_seconds</th>\n",
       "      <th>trip_miles</th>\n",
       "      <th>pickup_community_area</th>\n",
       "      <th>dropoff_community_area</th>\n",
       "      <th>fare</th>\n",
       "      <th>tips</th>\n",
       "      <th>tolls</th>\n",
       "      <th>extras</th>\n",
       "      <th>trip_total</th>\n",
       "      <th>payment_type</th>\n",
       "      <th>company</th>\n",
       "      <th>pickup_centroid_latitude</th>\n",
       "      <th>pickup_centroid_longitude</th>\n",
       "      <th>dropoff_centroid_latitude</th>\n",
       "      <th>dropoff_centroid_longitude</th>\n",
       "      <th>AUX_trip_start_timestamp</th>\n",
       "      <th>humidity</th>\n",
       "      <th>pressure</th>\n",
       "      <th>temperature</th>\n",
       "      <th>weather_description</th>\n",
       "      <th>wind_direction</th>\n",
       "      <th>wind_speed</th>\n",
       "    </tr>\n",
       "  </thead>\n",
       "  <tbody>\n",
       "    <tr>\n",
       "      <th>0</th>\n",
       "      <td>25aef066b51c7b4c370ce6d1fdd5384f67047c18</td>\n",
       "      <td>d092ee0cb44dc6fa5f6757a7ef07181c4ee3d25eed0bc4...</td>\n",
       "      <td>2014-03-16 01:30:00</td>\n",
       "      <td>2014-03-16 02:00:00</td>\n",
       "      <td>1800</td>\n",
       "      <td>16.1</td>\n",
       "      <td>32</td>\n",
       "      <td>54</td>\n",
       "      <td>58.25</td>\n",
       "      <td>0.0</td>\n",
       "      <td>0.0</td>\n",
       "      <td>4.5</td>\n",
       "      <td>62.75</td>\n",
       "      <td>Cash</td>\n",
       "      <td>Taxi Affiliation Services</td>\n",
       "      <td>41.878866</td>\n",
       "      <td>-87.625192</td>\n",
       "      <td>41.660136</td>\n",
       "      <td>-87.602848</td>\n",
       "      <td>2014-03-16 01:30:00</td>\n",
       "      <td>80.0</td>\n",
       "      <td>1023.0</td>\n",
       "      <td>272.1900</td>\n",
       "      <td>overcast clouds</td>\n",
       "      <td>60.0</td>\n",
       "      <td>7.0</td>\n",
       "    </tr>\n",
       "    <tr>\n",
       "      <th>1</th>\n",
       "      <td>375147e3577a7bd56b57b3d00b0c6321f6d765c8</td>\n",
       "      <td>2182f6ccc0b281edf72bc71d682add85a54eae959b5659...</td>\n",
       "      <td>2014-09-18 09:45:00</td>\n",
       "      <td>2014-09-18 10:00:00</td>\n",
       "      <td>1080</td>\n",
       "      <td>18.0</td>\n",
       "      <td>28</td>\n",
       "      <td>54</td>\n",
       "      <td>35.45</td>\n",
       "      <td>0.0</td>\n",
       "      <td>0.0</td>\n",
       "      <td>0.0</td>\n",
       "      <td>35.45</td>\n",
       "      <td>Cash</td>\n",
       "      <td>Choice Taxi Association</td>\n",
       "      <td>41.874005</td>\n",
       "      <td>-87.663518</td>\n",
       "      <td>41.660136</td>\n",
       "      <td>-87.602848</td>\n",
       "      <td>2014-09-18 09:45:00</td>\n",
       "      <td>99.0</td>\n",
       "      <td>1032.0</td>\n",
       "      <td>286.9395</td>\n",
       "      <td>sky is clear</td>\n",
       "      <td>262.0</td>\n",
       "      <td>1.0</td>\n",
       "    </tr>\n",
       "    <tr>\n",
       "      <th>2</th>\n",
       "      <td>85a9b45ee947abc2e4f7093b54cd47b71a7e6167</td>\n",
       "      <td>38c926561cf2221a4785159e39aef376ef08ddb3c6081c...</td>\n",
       "      <td>2016-06-18 23:45:00</td>\n",
       "      <td>2016-06-19 00:00:00</td>\n",
       "      <td>960</td>\n",
       "      <td>0.7</td>\n",
       "      <td>38</td>\n",
       "      <td>54</td>\n",
       "      <td>29.00</td>\n",
       "      <td>0.0</td>\n",
       "      <td>0.0</td>\n",
       "      <td>0.0</td>\n",
       "      <td>29.00</td>\n",
       "      <td>Cash</td>\n",
       "      <td>Taxi Affiliation Services</td>\n",
       "      <td>41.812949</td>\n",
       "      <td>-87.617860</td>\n",
       "      <td>41.660136</td>\n",
       "      <td>-87.602848</td>\n",
       "      <td>2016-06-18 23:45:00</td>\n",
       "      <td>36.0</td>\n",
       "      <td>1020.0</td>\n",
       "      <td>301.1800</td>\n",
       "      <td>light rain</td>\n",
       "      <td>77.0</td>\n",
       "      <td>3.0</td>\n",
       "    </tr>\n",
       "    <tr>\n",
       "      <th>3</th>\n",
       "      <td>56935737fc8af8ad8b71e0a118586d462bbb5608</td>\n",
       "      <td>fb318ecb67178004b27e8a37d5214da86679b46764daf8...</td>\n",
       "      <td>2016-03-18 13:45:00</td>\n",
       "      <td>2016-03-18 14:15:00</td>\n",
       "      <td>1800</td>\n",
       "      <td>20.9</td>\n",
       "      <td>32</td>\n",
       "      <td>55</td>\n",
       "      <td>51.50</td>\n",
       "      <td>0.0</td>\n",
       "      <td>0.0</td>\n",
       "      <td>0.0</td>\n",
       "      <td>51.50</td>\n",
       "      <td>Cash</td>\n",
       "      <td>Taxi Affiliation Services</td>\n",
       "      <td>41.878866</td>\n",
       "      <td>-87.625192</td>\n",
       "      <td>41.663671</td>\n",
       "      <td>-87.540936</td>\n",
       "      <td>2016-03-18 13:45:00</td>\n",
       "      <td>55.0</td>\n",
       "      <td>1018.0</td>\n",
       "      <td>275.2000</td>\n",
       "      <td>sky is clear</td>\n",
       "      <td>280.0</td>\n",
       "      <td>7.0</td>\n",
       "    </tr>\n",
       "    <tr>\n",
       "      <th>4</th>\n",
       "      <td>ab866a97d9f76ef70b081734cf452f705edfc137</td>\n",
       "      <td>12a6836fadda44701b6b28577ea4c56120cf38065701bd...</td>\n",
       "      <td>2016-06-15 10:30:00</td>\n",
       "      <td>2016-06-15 11:15:00</td>\n",
       "      <td>2340</td>\n",
       "      <td>1.5</td>\n",
       "      <td>56</td>\n",
       "      <td>55</td>\n",
       "      <td>61.75</td>\n",
       "      <td>0.0</td>\n",
       "      <td>0.0</td>\n",
       "      <td>4.0</td>\n",
       "      <td>65.75</td>\n",
       "      <td>Cash</td>\n",
       "      <td>Taxi Affiliation Services</td>\n",
       "      <td>41.792592</td>\n",
       "      <td>-87.769615</td>\n",
       "      <td>41.663671</td>\n",
       "      <td>-87.540936</td>\n",
       "      <td>2016-06-15 10:30:00</td>\n",
       "      <td>95.0</td>\n",
       "      <td>1005.0</td>\n",
       "      <td>293.2500</td>\n",
       "      <td>moderate rain</td>\n",
       "      <td>240.0</td>\n",
       "      <td>2.0</td>\n",
       "    </tr>\n",
       "  </tbody>\n",
       "</table>\n",
       "</div>"
      ],
      "text/plain": [
       "                                    trip_id  \\\n",
       "0  25aef066b51c7b4c370ce6d1fdd5384f67047c18   \n",
       "1  375147e3577a7bd56b57b3d00b0c6321f6d765c8   \n",
       "2  85a9b45ee947abc2e4f7093b54cd47b71a7e6167   \n",
       "3  56935737fc8af8ad8b71e0a118586d462bbb5608   \n",
       "4  ab866a97d9f76ef70b081734cf452f705edfc137   \n",
       "\n",
       "                                             taxi_id trip_start_timestamp  \\\n",
       "0  d092ee0cb44dc6fa5f6757a7ef07181c4ee3d25eed0bc4...  2014-03-16 01:30:00   \n",
       "1  2182f6ccc0b281edf72bc71d682add85a54eae959b5659...  2014-09-18 09:45:00   \n",
       "2  38c926561cf2221a4785159e39aef376ef08ddb3c6081c...  2016-06-18 23:45:00   \n",
       "3  fb318ecb67178004b27e8a37d5214da86679b46764daf8...  2016-03-18 13:45:00   \n",
       "4  12a6836fadda44701b6b28577ea4c56120cf38065701bd...  2016-06-15 10:30:00   \n",
       "\n",
       "   trip_end_timestamp  trip_seconds  trip_miles  pickup_community_area  \\\n",
       "0 2014-03-16 02:00:00          1800        16.1                     32   \n",
       "1 2014-09-18 10:00:00          1080        18.0                     28   \n",
       "2 2016-06-19 00:00:00           960         0.7                     38   \n",
       "3 2016-03-18 14:15:00          1800        20.9                     32   \n",
       "4 2016-06-15 11:15:00          2340         1.5                     56   \n",
       "\n",
       "   dropoff_community_area   fare  tips  tolls  extras  trip_total  \\\n",
       "0                      54  58.25   0.0    0.0     4.5       62.75   \n",
       "1                      54  35.45   0.0    0.0     0.0       35.45   \n",
       "2                      54  29.00   0.0    0.0     0.0       29.00   \n",
       "3                      55  51.50   0.0    0.0     0.0       51.50   \n",
       "4                      55  61.75   0.0    0.0     4.0       65.75   \n",
       "\n",
       "  payment_type                    company  pickup_centroid_latitude  \\\n",
       "0         Cash  Taxi Affiliation Services                 41.878866   \n",
       "1         Cash    Choice Taxi Association                 41.874005   \n",
       "2         Cash  Taxi Affiliation Services                 41.812949   \n",
       "3         Cash  Taxi Affiliation Services                 41.878866   \n",
       "4         Cash  Taxi Affiliation Services                 41.792592   \n",
       "\n",
       "   pickup_centroid_longitude  dropoff_centroid_latitude  \\\n",
       "0                 -87.625192                  41.660136   \n",
       "1                 -87.663518                  41.660136   \n",
       "2                 -87.617860                  41.660136   \n",
       "3                 -87.625192                  41.663671   \n",
       "4                 -87.769615                  41.663671   \n",
       "\n",
       "   dropoff_centroid_longitude AUX_trip_start_timestamp  humidity  pressure  \\\n",
       "0                  -87.602848      2014-03-16 01:30:00      80.0    1023.0   \n",
       "1                  -87.602848      2014-09-18 09:45:00      99.0    1032.0   \n",
       "2                  -87.602848      2016-06-18 23:45:00      36.0    1020.0   \n",
       "3                  -87.540936      2016-03-18 13:45:00      55.0    1018.0   \n",
       "4                  -87.540936      2016-06-15 10:30:00      95.0    1005.0   \n",
       "\n",
       "   temperature weather_description  wind_direction  wind_speed  \n",
       "0     272.1900     overcast clouds            60.0         7.0  \n",
       "1     286.9395        sky is clear           262.0         1.0  \n",
       "2     301.1800          light rain            77.0         3.0  \n",
       "3     275.2000        sky is clear           280.0         7.0  \n",
       "4     293.2500       moderate rain           240.0         2.0  "
      ]
     },
     "execution_count": 38,
     "metadata": {},
     "output_type": "execute_result"
    }
   ],
   "source": [
    "taxi_trips.limit(5).toPandas()"
   ]
  },
  {
   "cell_type": "code",
   "execution_count": 39,
   "metadata": {},
   "outputs": [
    {
     "name": "stdout",
     "output_type": "stream",
     "text": [
      "root\n",
      " |-- trip_id: string (nullable = true)\n",
      " |-- taxi_id: string (nullable = true)\n",
      " |-- trip_start_timestamp: timestamp (nullable = true)\n",
      " |-- trip_end_timestamp: timestamp (nullable = true)\n",
      " |-- trip_seconds: integer (nullable = true)\n",
      " |-- trip_miles: double (nullable = true)\n",
      " |-- pickup_community_area: integer (nullable = true)\n",
      " |-- dropoff_community_area: integer (nullable = true)\n",
      " |-- fare: double (nullable = true)\n",
      " |-- tips: double (nullable = true)\n",
      " |-- tolls: double (nullable = true)\n",
      " |-- extras: double (nullable = true)\n",
      " |-- trip_total: double (nullable = true)\n",
      " |-- payment_type: string (nullable = true)\n",
      " |-- company: string (nullable = true)\n",
      " |-- pickup_centroid_latitude: double (nullable = true)\n",
      " |-- pickup_centroid_longitude: double (nullable = true)\n",
      " |-- dropoff_centroid_latitude: double (nullable = true)\n",
      " |-- dropoff_centroid_longitude: double (nullable = true)\n",
      " |-- AUX_trip_start_timestamp: string (nullable = true)\n",
      " |-- humidity: double (nullable = true)\n",
      " |-- pressure: double (nullable = true)\n",
      " |-- temperature: double (nullable = true)\n",
      " |-- weather_description: string (nullable = true)\n",
      " |-- wind_direction: double (nullable = true)\n",
      " |-- wind_speed: double (nullable = true)\n",
      "\n"
     ]
    }
   ],
   "source": [
    "taxi_trips.printSchema()"
   ]
  },
  {
   "cell_type": "code",
   "execution_count": 40,
   "metadata": {},
   "outputs": [],
   "source": [
    "taxi_trips.write.parquet(\"../Data/taxi_weather_trips.parquet\")"
   ]
  },
  {
   "cell_type": "code",
   "execution_count": 41,
   "metadata": {},
   "outputs": [],
   "source": [
    "taxi_trips = session.read.parquet(\"../Data/taxi_weather_trips.parquet\")"
   ]
  },
  {
   "cell_type": "markdown",
   "metadata": {
    "colab_type": "text",
    "id": "LUspvkJU-E5w"
   },
   "source": [
    "## 4 Outliers"
   ]
  },
  {
   "cell_type": "markdown",
   "metadata": {},
   "source": [
    "### 4.1 Get the descriptive statistics of some variables"
   ]
  },
  {
   "cell_type": "code",
   "execution_count": 42,
   "metadata": {},
   "outputs": [],
   "source": [
    "# We select the variables, we are going to analyze\n",
    "analysed_variables = ['trip_seconds',\n",
    "                      'trip_miles',\n",
    "                      'fare',\n",
    "                      'tips',\n",
    "                      'tolls',\n",
    "                      'extras',\n",
    "                      'trip_total',\n",
    "                      'humidity',\n",
    "                      'pressure',\n",
    "                      'temperature',\n",
    "                      'wind_direction',\n",
    "                      'wind_speed']"
   ]
  },
  {
   "cell_type": "markdown",
   "metadata": {},
   "source": [
    "# We get the descriptive statistis of these variables\n",
    "for var in analysed_variables:\n",
    "    print(var)\n",
    "    describe = taxi_trips.select(F.round(F.mean(var), 2).alias(\"mean\"),\n",
    "                                F.min(var).alias(\"min\"),\n",
    "                                F.max(var).alias(\"max\"),\n",
    "                                F.round(F.stddev(var), 2).alias(\"stddv\"))\n",
    "    q1, median, q3 = taxi_trips.approxQuantile(var, [0.25, 0.5, 0.75], 0)\n",
    "    iqr = q3 - q1\n",
    "    describe = describe.withColumn(\"q1\", F.lit(q1))\n",
    "    describe = describe.withColumn(\"median\", F.lit(median))\n",
    "    describe = describe.withColumn(\"q3\", F.lit(q3))\n",
    "    describe = describe.withColumn(\"iqr\", F.lit(iqr))\n",
    "    describe = describe.withColumn(\"threshold\", 1.5*F.lit(iqr))\n",
    "    describe.show()\n",
    "    thresholds[var]=[describe.take(1)[0][8],\n",
    "                           describe.take(1)[0][4],\n",
    "                           describe.take(1)[0][6]]"
   ]
  },
  {
   "cell_type": "code",
   "execution_count": 43,
   "metadata": {},
   "outputs": [
    {
     "name": "stdout",
     "output_type": "stream",
     "text": [
      "trip_seconds\n",
      "+------+---+-----+------+-----+------+------+-----+---------+\n",
      "|  mean|min|  max| stddv|   q1|median|    q3|  iqr|threshold|\n",
      "+------+---+-----+------+-----+------+------+-----+---------+\n",
      "|883.11|120|83520|757.98|420.0| 660.0|1080.0|660.0|   2640.0|\n",
      "+------+---+-----+------+-----+------+------+-----+---------+\n",
      "\n",
      "trip_miles\n",
      "+----+---+------+-----+---+------+---+---+---------+\n",
      "|mean|min|   max|stddv| q1|median| q3|iqr|threshold|\n",
      "+----+---+------+-----+---+------+---+---+---------+\n",
      "|4.26|0.6|1998.1| 8.58|1.1|   1.8|4.2|3.1|     12.4|\n",
      "+----+---+------+-----+---+------+---+---+---------+\n",
      "\n",
      "fare\n",
      "+-----+----+-------+-----+----+------+-----+---+---------+\n",
      "| mean| min|    max|stddv|  q1|median|   q3|iqr|threshold|\n",
      "+-----+----+-------+-----+----+------+-----+---+---------+\n",
      "|13.55|0.01|3963.92|11.22|6.45|  8.65|14.75|8.3|     33.2|\n",
      "+-----+----+-------+-----+----+------+-----+---+---------+\n",
      "\n",
      "tips\n",
      "+----+---+-----+-----+---+------+---+---+---------+\n",
      "|mean|min|  max|stddv| q1|median| q3|iqr|threshold|\n",
      "+----+---+-----+-----+---+------+---+---+---------+\n",
      "|1.47|0.0|500.0| 2.51|0.0|   0.0|2.0|2.0|      8.0|\n",
      "+----+---+-----+-----+---+------+---+---+---------+\n",
      "\n",
      "tolls\n",
      "+----+---+-------+-----+---+------+---+---+---------+\n",
      "|mean|min|    max|stddv| q1|median| q3|iqr|threshold|\n",
      "+----+---+-------+-----+---+------+---+---+---------+\n",
      "| 0.0|0.0|1999.98| 0.59|0.0|   0.0|0.0|0.0|      0.0|\n",
      "+----+---+-------+-----+---+------+---+---+---------+\n",
      "\n",
      "extras\n",
      "+----+---+-------+-----+---+------+---+---+---------+\n",
      "|mean|min|    max|stddv| q1|median| q3|iqr|threshold|\n",
      "+----+---+-------+-----+---+------+---+---+---------+\n",
      "| 0.9|0.0|9989.05|23.76|0.0|   0.0|1.0|1.0|      4.0|\n",
      "+----+---+-------+-----+---+------+---+---+---------+\n",
      "\n",
      "trip_total\n",
      "+-----+----+-------+-----+---+------+-----+-----------------+------------------+\n",
      "| mean| min|    max|stddv| q1|median|   q3|              iqr|         threshold|\n",
      "+-----+----+-------+-----+---+------+-----+-----------------+------------------+\n",
      "|15.91|0.01|9999.82|27.35|7.5| 10.17|16.65|9.149999999999999|36.599999999999994|\n",
      "+-----+----+-------+-----+---+------+-----+-----------------+------------------+\n",
      "\n",
      "humidity\n",
      "+-----+---+-----+-----+----+------+----+----+---------+\n",
      "| mean|min|  max|stddv|  q1|median|  q3| iqr|threshold|\n",
      "+-----+---+-----+-----+----+------+----+----+---------+\n",
      "|74.84|9.0|100.0|19.36|61.0|  78.0|90.0|29.0|    116.0|\n",
      "+-----+---+-----+-----+----+------+----+----+---------+\n",
      "\n",
      "pressure\n",
      "+-------+-----+------+-----+------+------+------+----+---------+\n",
      "|   mean|  min|   max|stddv|    q1|median|    q3| iqr|threshold|\n",
      "+-------+-----+------+-----+------+------+------+----+---------+\n",
      "|1020.52|941.0|1077.0|10.93|1013.0|1019.0|1028.0|15.0|     60.0|\n",
      "+-------+-----+------+-----+------+------+------+----+---------+\n",
      "\n",
      "temperature\n",
      "+------+------+------+-----+--------+-------+-------+------------------+----------------+\n",
      "|  mean|   min|   max|stddv|      q1| median|     q3|               iqr|       threshold|\n",
      "+------+------+------+-----+--------+-------+-------+------------------+----------------+\n",
      "|283.73|248.89|308.48|11.33|275.4155|284.755|292.931|17.515499999999975|70.0619999999999|\n",
      "+------+------+------+-----+--------+-------+-------+------------------+----------------+\n",
      "\n",
      "wind_direction\n",
      "+-----+---+-----+-----+-----+------+-----+-----+---------+\n",
      "| mean|min|  max|stddv|   q1|median|   q3|  iqr|threshold|\n",
      "+-----+---+-----+-----+-----+------+-----+-----+---------+\n",
      "|190.3|0.0|360.0|98.26|110.0| 201.0|270.0|160.0|    640.0|\n",
      "+-----+---+-----+-----+-----+------+-----+-----+---------+\n",
      "\n",
      "wind_speed\n",
      "+----+---+----+-----+---+------+---+---+---------+\n",
      "|mean|min| max|stddv| q1|median| q3|iqr|threshold|\n",
      "+----+---+----+-----+---+------+---+---+---------+\n",
      "|3.94|0.0|25.0| 2.31|2.0|   4.0|5.0|3.0|     12.0|\n",
      "+----+---+----+-----+---+------+---+---+---------+\n",
      "\n"
     ]
    }
   ],
   "source": [
    "# We get the descriptive statistis of these variables\n",
    "thresholds={}\n",
    "for var in analysed_variables:\n",
    "    print(var)\n",
    "    describe = taxi_trips.select(F.round(F.mean(var), 2).alias(\"mean\"),\n",
    "                                F.min(var).alias(\"min\"),\n",
    "                                F.max(var).alias(\"max\"),\n",
    "                                F.round(F.stddev(var), 2).alias(\"stddv\"))\n",
    "    q1, median, q3 = taxi_trips.approxQuantile(var, [0.25, 0.5, 0.75], 0)\n",
    "    iqr = q3 - q1\n",
    "    describe = describe.withColumn(\"q1\", F.lit(q1))\n",
    "    describe = describe.withColumn(\"median\", F.lit(median))\n",
    "    describe = describe.withColumn(\"q3\", F.lit(q3))\n",
    "    describe = describe.withColumn(\"iqr\", F.lit(iqr))\n",
    "    describe = describe.withColumn(\"threshold\", 4*F.lit(iqr))\n",
    "    describe.show()\n",
    "    describe_list = describe.collect()\n",
    "    for value in describe_list:\n",
    "        element = [i for i in value]\n",
    "        thresholds[var]=[element[8],\n",
    "                         element[4],\n",
    "                         element[6]]"
   ]
  },
  {
   "cell_type": "markdown",
   "metadata": {},
   "source": [
    "## 4.2 Get the number of outliers and the percentage"
   ]
  },
  {
   "cell_type": "code",
   "execution_count": 44,
   "metadata": {},
   "outputs": [
    {
     "data": {
      "text/html": [
       "<div>\n",
       "<style scoped>\n",
       "    .dataframe tbody tr th:only-of-type {\n",
       "        vertical-align: middle;\n",
       "    }\n",
       "\n",
       "    .dataframe tbody tr th {\n",
       "        vertical-align: top;\n",
       "    }\n",
       "\n",
       "    .dataframe thead th {\n",
       "        text-align: right;\n",
       "    }\n",
       "</style>\n",
       "<table border=\"1\" class=\"dataframe\">\n",
       "  <thead>\n",
       "    <tr style=\"text-align: right;\">\n",
       "      <th></th>\n",
       "      <th>outliers_number</th>\n",
       "      <th>% outliers</th>\n",
       "    </tr>\n",
       "  </thead>\n",
       "  <tbody>\n",
       "    <tr>\n",
       "      <th>trip_seconds</th>\n",
       "      <td>264643.0</td>\n",
       "      <td>0.889379</td>\n",
       "    </tr>\n",
       "    <tr>\n",
       "      <th>trip_miles</th>\n",
       "      <td>2003290.0</td>\n",
       "      <td>6.732408</td>\n",
       "    </tr>\n",
       "    <tr>\n",
       "      <th>fare</th>\n",
       "      <td>218973.0</td>\n",
       "      <td>0.735897</td>\n",
       "    </tr>\n",
       "    <tr>\n",
       "      <th>tips</th>\n",
       "      <td>325196.0</td>\n",
       "      <td>1.092878</td>\n",
       "    </tr>\n",
       "    <tr>\n",
       "      <th>tolls</th>\n",
       "      <td>5399.0</td>\n",
       "      <td>0.018144</td>\n",
       "    </tr>\n",
       "    <tr>\n",
       "      <th>extras</th>\n",
       "      <td>113923.0</td>\n",
       "      <td>0.382858</td>\n",
       "    </tr>\n",
       "    <tr>\n",
       "      <th>trip_total</th>\n",
       "      <td>680559.0</td>\n",
       "      <td>2.287138</td>\n",
       "    </tr>\n",
       "    <tr>\n",
       "      <th>humidity</th>\n",
       "      <td>0.0</td>\n",
       "      <td>0.000000</td>\n",
       "    </tr>\n",
       "    <tr>\n",
       "      <th>pressure</th>\n",
       "      <td>3205.0</td>\n",
       "      <td>0.010771</td>\n",
       "    </tr>\n",
       "    <tr>\n",
       "      <th>temperature</th>\n",
       "      <td>0.0</td>\n",
       "      <td>0.000000</td>\n",
       "    </tr>\n",
       "    <tr>\n",
       "      <th>wind_direction</th>\n",
       "      <td>0.0</td>\n",
       "      <td>0.000000</td>\n",
       "    </tr>\n",
       "    <tr>\n",
       "      <th>wind_speed</th>\n",
       "      <td>7598.0</td>\n",
       "      <td>0.025534</td>\n",
       "    </tr>\n",
       "  </tbody>\n",
       "</table>\n",
       "</div>"
      ],
      "text/plain": [
       "                outliers_number  % outliers\n",
       "trip_seconds           264643.0    0.889379\n",
       "trip_miles            2003290.0    6.732408\n",
       "fare                   218973.0    0.735897\n",
       "tips                   325196.0    1.092878\n",
       "tolls                    5399.0    0.018144\n",
       "extras                 113923.0    0.382858\n",
       "trip_total             680559.0    2.287138\n",
       "humidity                    0.0    0.000000\n",
       "pressure                 3205.0    0.010771\n",
       "temperature                 0.0    0.000000\n",
       "wind_direction              0.0    0.000000\n",
       "wind_speed               7598.0    0.025534"
      ]
     },
     "execution_count": 44,
     "metadata": {},
     "output_type": "execute_result"
    }
   ],
   "source": [
    "outliers = {}\n",
    "n_rows=taxi_trips.count()\n",
    "for i in thresholds:\n",
    "    outlier = taxi_trips.filter(F.col(i) < (thresholds[i][1]-thresholds[i][0])).count() \\\n",
    "    + taxi_trips[F.col(i) > (thresholds[i][2]+thresholds[i][0])].count()\n",
    "    outliers[i] = [outlier,outlier/n_rows*100]\n",
    "df_outliers = pd.DataFrame(outliers).T\n",
    "df_outliers.columns = ['outliers_number','% outliers']\n",
    "df_outliers"
   ]
  },
  {
   "cell_type": "markdown",
   "metadata": {},
   "source": [
    "## 4.3 Plot the outliers"
   ]
  },
  {
   "cell_type": "code",
   "execution_count": 45,
   "metadata": {},
   "outputs": [
    {
     "data": {
      "image/png": "[encoded data removed]",
      "text/plain": [
       "<Figure size 1080x720 with 1 Axes>"
      ]
     },
     "metadata": {
      "needs_background": "light"
     },
     "output_type": "display_data"
    }
   ],
   "source": [
    "ax=df_outliers['% outliers'].plot(kind='bar', title =\"Outliers\", figsize=(15, 10), \\\n",
    "                                         fontsize=12, rot=45)\n",
    "ax.set_xlabel(\"Features\", fontsize=12)\n",
    "ax.set_ylabel(\"% outliers\", fontsize=12)\n",
    "plt.show()"
   ]
  },
  {
   "cell_type": "markdown",
   "metadata": {},
   "source": [
    "taxi_trips = taxi_trips.filter((F.unix_timestamp('trip_end_timestamp', format=\"MM/dd/yyyy hh:mm:ss aa\")\n",
    "                  - F.unix_timestamp('trip_start_timestamp', format=\"MM/dd/yyyy hh:mm:ss aa\")+1800)\\\n",
    "                  >=F.col('trip_seconds'))"
   ]
  },
  {
   "cell_type": "markdown",
   "metadata": {},
   "source": [
    "## 4.4 Remove trips with extrange values"
   ]
  },
  {
   "cell_type": "markdown",
   "metadata": {},
   "source": [
    "### 4.4.1 Number of trips depending on the filter per duration"
   ]
  },
  {
   "cell_type": "code",
   "execution_count": 46,
   "metadata": {},
   "outputs": [
    {
     "data": {
      "text/html": [
       "<div>\n",
       "<style scoped>\n",
       "    .dataframe tbody tr th:only-of-type {\n",
       "        vertical-align: middle;\n",
       "    }\n",
       "\n",
       "    .dataframe tbody tr th {\n",
       "        vertical-align: top;\n",
       "    }\n",
       "\n",
       "    .dataframe thead th {\n",
       "        text-align: right;\n",
       "    }\n",
       "</style>\n",
       "<table border=\"1\" class=\"dataframe\">\n",
       "  <thead>\n",
       "    <tr style=\"text-align: right;\">\n",
       "      <th></th>\n",
       "      <th>duration_hours</th>\n",
       "      <th>number_trips</th>\n",
       "    </tr>\n",
       "  </thead>\n",
       "  <tbody>\n",
       "    <tr>\n",
       "      <th>0</th>\n",
       "      <td>1.0</td>\n",
       "      <td>29442674</td>\n",
       "    </tr>\n",
       "    <tr>\n",
       "      <th>1</th>\n",
       "      <td>1.5</td>\n",
       "      <td>29724767</td>\n",
       "    </tr>\n",
       "    <tr>\n",
       "      <th>2</th>\n",
       "      <td>2.0</td>\n",
       "      <td>29747043</td>\n",
       "    </tr>\n",
       "    <tr>\n",
       "      <th>3</th>\n",
       "      <td>2.5</td>\n",
       "      <td>29751696</td>\n",
       "    </tr>\n",
       "    <tr>\n",
       "      <th>4</th>\n",
       "      <td>3.0</td>\n",
       "      <td>29753475</td>\n",
       "    </tr>\n",
       "  </tbody>\n",
       "</table>\n",
       "</div>"
      ],
      "text/plain": [
       "   duration_hours  number_trips\n",
       "0             1.0      29442674\n",
       "1             1.5      29724767\n",
       "2             2.0      29747043\n",
       "3             2.5      29751696\n",
       "4             3.0      29753475"
      ]
     },
     "execution_count": 46,
     "metadata": {},
     "output_type": "execute_result"
    }
   ],
   "source": [
    "# We get the number of trips per duration\n",
    "hours = [1,1.5,2,2.5,3]\n",
    "dicc_trip_seconds={}\n",
    "for duration in hours:\n",
    "    duration = duration * 3600\n",
    "    dicc_trip_seconds[duration/3600] = [taxi_trips.filter(F.col('trip_seconds') <= duration).count()]\n",
    "\n",
    "# We convert it to pandas    \n",
    "trip_duration = (pd.DataFrame(dicc_trip_seconds).T).reset_index()\n",
    "trip_duration.columns = ['duration_hours','number_trips']\n",
    "trip_duration"
   ]
  },
  {
   "cell_type": "markdown",
   "metadata": {},
   "source": [
    "### 4.4.2 Number of trips depending on the filter per path length"
   ]
  },
  {
   "cell_type": "code",
   "execution_count": 47,
   "metadata": {},
   "outputs": [
    {
     "data": {
      "text/html": [
       "<div>\n",
       "<style scoped>\n",
       "    .dataframe tbody tr th:only-of-type {\n",
       "        vertical-align: middle;\n",
       "    }\n",
       "\n",
       "    .dataframe tbody tr th {\n",
       "        vertical-align: top;\n",
       "    }\n",
       "\n",
       "    .dataframe thead th {\n",
       "        text-align: right;\n",
       "    }\n",
       "</style>\n",
       "<table border=\"1\" class=\"dataframe\">\n",
       "  <thead>\n",
       "    <tr style=\"text-align: right;\">\n",
       "      <th></th>\n",
       "      <th>length_miles</th>\n",
       "      <th>number_trips</th>\n",
       "    </tr>\n",
       "  </thead>\n",
       "  <tbody>\n",
       "    <tr>\n",
       "      <th>0</th>\n",
       "      <td>10</td>\n",
       "      <td>26093092</td>\n",
       "    </tr>\n",
       "    <tr>\n",
       "      <th>1</th>\n",
       "      <td>15</td>\n",
       "      <td>27416807</td>\n",
       "    </tr>\n",
       "    <tr>\n",
       "      <th>2</th>\n",
       "      <td>20</td>\n",
       "      <td>29435329</td>\n",
       "    </tr>\n",
       "    <tr>\n",
       "      <th>3</th>\n",
       "      <td>50</td>\n",
       "      <td>29697991</td>\n",
       "    </tr>\n",
       "    <tr>\n",
       "      <th>4</th>\n",
       "      <td>100</td>\n",
       "      <td>29726312</td>\n",
       "    </tr>\n",
       "  </tbody>\n",
       "</table>\n",
       "</div>"
      ],
      "text/plain": [
       "  length_miles  number_trips\n",
       "0           10      26093092\n",
       "1           15      27416807\n",
       "2           20      29435329\n",
       "3           50      29697991\n",
       "4          100      29726312"
      ]
     },
     "execution_count": 47,
     "metadata": {},
     "output_type": "execute_result"
    }
   ],
   "source": [
    "# We get the number of trips per path length\n",
    "miles = [10,15,20,50,100]\n",
    "dicc_trip_miles={}\n",
    "for length in miles:\n",
    "    dicc_trip_miles[str(length)] = [taxi_trips.filter(F.col('trip_miles') <= length).count()]\n",
    "\n",
    "# We convert it to pandas    \n",
    "trip_length = (pd.DataFrame(dicc_trip_miles).T).reset_index()\n",
    "trip_length.columns = ['length_miles','number_trips']\n",
    "trip_length"
   ]
  },
  {
   "cell_type": "markdown",
   "metadata": {},
   "source": [
    "### 4.4.3 Number of trips depending on the filter per fare"
   ]
  },
  {
   "cell_type": "code",
   "execution_count": 48,
   "metadata": {},
   "outputs": [
    {
     "data": {
      "text/html": [
       "<div>\n",
       "<style scoped>\n",
       "    .dataframe tbody tr th:only-of-type {\n",
       "        vertical-align: middle;\n",
       "    }\n",
       "\n",
       "    .dataframe tbody tr th {\n",
       "        vertical-align: top;\n",
       "    }\n",
       "\n",
       "    .dataframe thead th {\n",
       "        text-align: right;\n",
       "    }\n",
       "</style>\n",
       "<table border=\"1\" class=\"dataframe\">\n",
       "  <thead>\n",
       "    <tr style=\"text-align: right;\">\n",
       "      <th></th>\n",
       "      <th>fares_$</th>\n",
       "      <th>number_trips</th>\n",
       "    </tr>\n",
       "  </thead>\n",
       "  <tbody>\n",
       "    <tr>\n",
       "      <th>0</th>\n",
       "      <td>100</td>\n",
       "      <td>29752238</td>\n",
       "    </tr>\n",
       "    <tr>\n",
       "      <th>1</th>\n",
       "      <td>200</td>\n",
       "      <td>29755613</td>\n",
       "    </tr>\n",
       "    <tr>\n",
       "      <th>2</th>\n",
       "      <td>500</td>\n",
       "      <td>29755889</td>\n",
       "    </tr>\n",
       "  </tbody>\n",
       "</table>\n",
       "</div>"
      ],
      "text/plain": [
       "  fares_$  number_trips\n",
       "0     100      29752238\n",
       "1     200      29755613\n",
       "2     500      29755889"
      ]
     },
     "execution_count": 48,
     "metadata": {},
     "output_type": "execute_result"
    }
   ],
   "source": [
    "# We get the number of trips per fares\n",
    "fares = [100,200,500]\n",
    "dicc_trip_fare={}\n",
    "for fare in fares:\n",
    "    dicc_trip_fare[str(fare)] = [taxi_trips.filter(F.col('fare') <= fare).count()]\n",
    "\n",
    "# We convert it to pandas    \n",
    "trip_fare = (pd.DataFrame(dicc_trip_fare).T).reset_index()\n",
    "trip_fare.columns = ['fares_$','number_trips']\n",
    "trip_fare"
   ]
  },
  {
   "cell_type": "markdown",
   "metadata": {},
   "source": [
    "### 4.4.4 Number of trips depending on the filter per toll"
   ]
  },
  {
   "cell_type": "code",
   "execution_count": 49,
   "metadata": {},
   "outputs": [
    {
     "data": {
      "text/html": [
       "<div>\n",
       "<style scoped>\n",
       "    .dataframe tbody tr th:only-of-type {\n",
       "        vertical-align: middle;\n",
       "    }\n",
       "\n",
       "    .dataframe tbody tr th {\n",
       "        vertical-align: top;\n",
       "    }\n",
       "\n",
       "    .dataframe thead th {\n",
       "        text-align: right;\n",
       "    }\n",
       "</style>\n",
       "<table border=\"1\" class=\"dataframe\">\n",
       "  <thead>\n",
       "    <tr style=\"text-align: right;\">\n",
       "      <th></th>\n",
       "      <th>tolls_$</th>\n",
       "      <th>number_trips</th>\n",
       "    </tr>\n",
       "  </thead>\n",
       "  <tbody>\n",
       "    <tr>\n",
       "      <th>0</th>\n",
       "      <td>5</td>\n",
       "      <td>29755583</td>\n",
       "    </tr>\n",
       "    <tr>\n",
       "      <th>1</th>\n",
       "      <td>10</td>\n",
       "      <td>29755847</td>\n",
       "    </tr>\n",
       "    <tr>\n",
       "      <th>2</th>\n",
       "      <td>20</td>\n",
       "      <td>29755881</td>\n",
       "    </tr>\n",
       "    <tr>\n",
       "      <th>3</th>\n",
       "      <td>50</td>\n",
       "      <td>29755896</td>\n",
       "    </tr>\n",
       "    <tr>\n",
       "      <th>4</th>\n",
       "      <td>100</td>\n",
       "      <td>29755908</td>\n",
       "    </tr>\n",
       "  </tbody>\n",
       "</table>\n",
       "</div>"
      ],
      "text/plain": [
       "  tolls_$  number_trips\n",
       "0       5      29755583\n",
       "1      10      29755847\n",
       "2      20      29755881\n",
       "3      50      29755896\n",
       "4     100      29755908"
      ]
     },
     "execution_count": 49,
     "metadata": {},
     "output_type": "execute_result"
    }
   ],
   "source": [
    "# We get the number of trips per tolls\n",
    "tolls = [5,10,20,50,100]\n",
    "dicc_trip_toll={}\n",
    "for toll in tolls:\n",
    "    dicc_trip_toll[str(toll)] = [taxi_trips.filter(F.col('tolls') <= toll).count()]\n",
    "\n",
    "# We convert it to pandas    \n",
    "trip_toll = (pd.DataFrame(dicc_trip_toll).T).reset_index()\n",
    "trip_toll.columns = ['tolls_$','number_trips']\n",
    "trip_toll"
   ]
  },
  {
   "cell_type": "markdown",
   "metadata": {},
   "source": [
    "### 4.4.5 Number of trips depending on the filter per extra"
   ]
  },
  {
   "cell_type": "code",
   "execution_count": 50,
   "metadata": {},
   "outputs": [
    {
     "data": {
      "text/html": [
       "<div>\n",
       "<style scoped>\n",
       "    .dataframe tbody tr th:only-of-type {\n",
       "        vertical-align: middle;\n",
       "    }\n",
       "\n",
       "    .dataframe tbody tr th {\n",
       "        vertical-align: top;\n",
       "    }\n",
       "\n",
       "    .dataframe thead th {\n",
       "        text-align: right;\n",
       "    }\n",
       "</style>\n",
       "<table border=\"1\" class=\"dataframe\">\n",
       "  <thead>\n",
       "    <tr style=\"text-align: right;\">\n",
       "      <th></th>\n",
       "      <th>extras_$</th>\n",
       "      <th>number_trips</th>\n",
       "    </tr>\n",
       "  </thead>\n",
       "  <tbody>\n",
       "    <tr>\n",
       "      <th>0</th>\n",
       "      <td>5</td>\n",
       "      <td>29641999</td>\n",
       "    </tr>\n",
       "    <tr>\n",
       "      <th>1</th>\n",
       "      <td>10</td>\n",
       "      <td>29738954</td>\n",
       "    </tr>\n",
       "    <tr>\n",
       "      <th>2</th>\n",
       "      <td>20</td>\n",
       "      <td>29750726</td>\n",
       "    </tr>\n",
       "    <tr>\n",
       "      <th>3</th>\n",
       "      <td>50</td>\n",
       "      <td>29753959</td>\n",
       "    </tr>\n",
       "    <tr>\n",
       "      <th>4</th>\n",
       "      <td>100</td>\n",
       "      <td>29754810</td>\n",
       "    </tr>\n",
       "    <tr>\n",
       "      <th>5</th>\n",
       "      <td>1000</td>\n",
       "      <td>29755146</td>\n",
       "    </tr>\n",
       "  </tbody>\n",
       "</table>\n",
       "</div>"
      ],
      "text/plain": [
       "  extras_$  number_trips\n",
       "0        5      29641999\n",
       "1       10      29738954\n",
       "2       20      29750726\n",
       "3       50      29753959\n",
       "4      100      29754810\n",
       "5     1000      29755146"
      ]
     },
     "execution_count": 50,
     "metadata": {},
     "output_type": "execute_result"
    }
   ],
   "source": [
    "# We get the number of trips per extra\n",
    "extras = [5,10,20,50,100,1000]\n",
    "dicc_trip_extra={}\n",
    "for extra in extras:\n",
    "    dicc_trip_extra[str(extra)] = [taxi_trips.filter(F.col('extras') <= extra).count()]\n",
    "\n",
    "# We convert it to pandas    \n",
    "trip_extra = (pd.DataFrame(dicc_trip_extra).T).reset_index()\n",
    "trip_extra.columns = ['extras_$','number_trips']\n",
    "trip_extra"
   ]
  },
  {
   "cell_type": "markdown",
   "metadata": {},
   "source": [
    "### 4.4.6 Number of trips depending per type of payment"
   ]
  },
  {
   "cell_type": "code",
   "execution_count": 51,
   "metadata": {},
   "outputs": [
    {
     "data": {
      "image/png": "[encoded data removed]",
      "text/plain": [
       "<Figure size 1080x720 with 1 Axes>"
      ]
     },
     "metadata": {
      "needs_background": "light"
     },
     "output_type": "display_data"
    }
   ],
   "source": [
    "# We get the number of trips per payment\n",
    "payment_type = taxi_trips.groupby(\"payment_type\").count().sort('count',ascending=False).toPandas()\n",
    "\n",
    "# We convert it to pandas    \n",
    "payment_type.columns = ['payment_type','number_trips']\n",
    "\n",
    "# Plot it\n",
    "ax = payment_type['number_trips'].plot(kind='bar', title =\"number trips per type of payment\", figsize=(15, 10), \\\n",
    "                                         fontsize=12, rot=45)\n",
    "ax.set_xlabel(\"extra_$\", fontsize=12)\n",
    "ax.set_ylabel(\"number_trips\", fontsize=12)\n",
    "plt.show()"
   ]
  },
  {
   "cell_type": "markdown",
   "metadata": {},
   "source": [
    "### 4.4.7 Filter the trips"
   ]
  },
  {
   "cell_type": "code",
   "execution_count": 52,
   "metadata": {},
   "outputs": [
    {
     "name": "stdout",
     "output_type": "stream",
     "text": [
      "Number of trips with outliers:  29755922\n",
      "Number of trips without outliers:  28392241\n"
     ]
    }
   ],
   "source": [
    "# We filter the dataframe after our study\n",
    "print('Number of trips with outliers: ',taxi_trips.count())\n",
    "taxi_trips = taxi_trips.filter((F.col('trip_seconds') <= 3600)& \n",
    "                  ((F.col('trip_miles')<=100)|((F.col('trip_miles')>=100)&(F.col('trip_seconds') >= 2700)))&\n",
    "                  (F.col('fare') <= 100)&\n",
    "                  (F.col('fare')>F.col('tips'))&\n",
    "                  (F.col('tips') <= (0.4*F.col('fare')))&\n",
    "                  (F.col('tolls')<=20)&\n",
    "                  (F.col('extras')<=20))\n",
    "print('Number of trips without outliers: ',taxi_trips.count())"
   ]
  },
  {
   "cell_type": "markdown",
   "metadata": {},
   "source": [
    "After our analysis we will delete the trips with trips in dispute or no charge to model it"
   ]
  },
  {
   "cell_type": "markdown",
   "metadata": {},
   "source": [
    "## 5 Exploratory data analysis"
   ]
  },
  {
   "cell_type": "markdown",
   "metadata": {},
   "source": [
    "taxi_trips = taxi_trips.sample(fraction=0.1,seed=42)"
   ]
  },
  {
   "cell_type": "code",
   "execution_count": 53,
   "metadata": {},
   "outputs": [],
   "source": [
    "taxi_trips.write.parquet(\"../Data/taxi_df.parquet\")"
   ]
  },
  {
   "cell_type": "code",
   "execution_count": 54,
   "metadata": {},
   "outputs": [],
   "source": [
    "taxi_trips = session.read.parquet(\"../Data/taxi_df.parquet\")"
   ]
  },
  {
   "cell_type": "markdown",
   "metadata": {},
   "source": [
    "### 5.1 Analysis trips, fare and  tip per year, year-month and day of week"
   ]
  },
  {
   "cell_type": "markdown",
   "metadata": {},
   "source": [
    "#### 5.1.1 Year"
   ]
  },
  {
   "cell_type": "code",
   "execution_count": 55,
   "metadata": {},
   "outputs": [],
   "source": [
    "df_trips_year = taxi_trips.groupby(F.year(\"trip_start_timestamp\").alias(\"year\"))\\\n",
    "                          .agg(F.count('taxi_id').alias('trips_number'),\n",
    "                               F.sum('fare').alias('total_fare'),\n",
    "                               F.sum('tips').alias('total_tips'),                               \n",
    "                               F.mean('tips').alias('tips_mean'))\\\n",
    "                          .sort('year').toPandas()"
   ]
  },
  {
   "cell_type": "markdown",
   "metadata": {},
   "source": [
    "##### 5.1.1.1 Number of trips by year"
   ]
  },
  {
   "cell_type": "code",
   "execution_count": 56,
   "metadata": {},
   "outputs": [
    {
     "data": {
      "image/png": "[encoded data removed]",
      "text/plain": [
       "<Figure size 720x432 with 1 Axes>"
      ]
     },
     "metadata": {
      "needs_background": "light"
     },
     "output_type": "display_data"
    }
   ],
   "source": [
    "f, axes = plt.subplots(sharey=True, figsize=(10, 6))\n",
    "sns.barplot(x=df_trips_year[\"year\"], y=df_trips_year[\"trips_number\"]).set_title('Trips by Year $');"
   ]
  },
  {
   "cell_type": "markdown",
   "metadata": {},
   "source": [
    "##### 5.1.1.2 Total fare by year"
   ]
  },
  {
   "cell_type": "code",
   "execution_count": 57,
   "metadata": {},
   "outputs": [
    {
     "data": {
      "image/png": "[encoded data removed]",
      "text/plain": [
       "<Figure size 720x432 with 1 Axes>"
      ]
     },
     "metadata": {
      "needs_background": "light"
     },
     "output_type": "display_data"
    }
   ],
   "source": [
    "f, axes = plt.subplots( sharey=True, figsize=(10, 6))\n",
    "sns.barplot(x=df_trips_year[\"year\"], y=df_trips_year['total_fare']).set_title('Total Fare by Year $');"
   ]
  },
  {
   "cell_type": "markdown",
   "metadata": {},
   "source": [
    "##### 5.1.1.3 Total tips by year"
   ]
  },
  {
   "cell_type": "code",
   "execution_count": 58,
   "metadata": {},
   "outputs": [
    {
     "data": {
      "image/png": "[encoded data removed]",
      "text/plain": [
       "<Figure size 720x432 with 1 Axes>"
      ]
     },
     "metadata": {
      "needs_background": "light"
     },
     "output_type": "display_data"
    }
   ],
   "source": [
    "f, axes = plt.subplots(sharey=True, figsize=(10, 6))\n",
    "sns.barplot(x=df_trips_year[\"year\"], y=df_trips_year[\"total_tips\"]).set_title('Total Tips by Year $');"
   ]
  },
  {
   "cell_type": "markdown",
   "metadata": {},
   "source": [
    "##### 5.1.1.4 Mean of tips per year"
   ]
  },
  {
   "cell_type": "code",
   "execution_count": 59,
   "metadata": {},
   "outputs": [
    {
     "data": {
      "image/png": "[encoded data removed]",
      "text/plain": [
       "<Figure size 720x432 with 1 Axes>"
      ]
     },
     "metadata": {
      "needs_background": "light"
     },
     "output_type": "display_data"
    }
   ],
   "source": [
    "f, axes = plt.subplots(sharey=True, figsize=(10, 6))\n",
    "sns.barplot(x=df_trips_year[\"year\"], y=df_trips_year[\"tips_mean\"]).set_title('Mean Tips by Year $');"
   ]
  },
  {
   "cell_type": "markdown",
   "metadata": {},
   "source": [
    "#### 5.1.2 Year - Month"
   ]
  },
  {
   "cell_type": "code",
   "execution_count": 60,
   "metadata": {},
   "outputs": [],
   "source": [
    "df_trips_year_month = taxi_trips.groupby(F.col('AUX_trip_start_timestamp')[0:7].alias('year_month'))\\\n",
    "                          .agg(F.count('taxi_id').alias('trips_number'),\n",
    "                               F.sum('fare').alias('total_fare'),\n",
    "                               F.sum('tips').alias('total_tips'),                               \n",
    "                               F.mean('tips').alias('tips_mean'))\\\n",
    "                          .sort('year_month').toPandas()"
   ]
  },
  {
   "cell_type": "markdown",
   "metadata": {},
   "source": [
    "##### 5.1.2.1 Number of trips by year-month"
   ]
  },
  {
   "cell_type": "code",
   "execution_count": 61,
   "metadata": {},
   "outputs": [
    {
     "data": {
      "image/png": "[encoded data removed]",
      "text/plain": [
       "<Figure size 1440x576 with 1 Axes>"
      ]
     },
     "metadata": {
      "needs_background": "light"
     },
     "output_type": "display_data"
    }
   ],
   "source": [
    "f, axes = plt.subplots(sharey=True, figsize=(20, 8))\n",
    "sns.barplot(x=df_trips_year_month[\"year_month\"], \n",
    "            y=df_trips_year_month[\"trips_number\"]).set_title('Trips by Year-Month')\n",
    "axes.set_xticklabels(axes.get_xticklabels(), rotation = 60);"
   ]
  },
  {
   "cell_type": "markdown",
   "metadata": {},
   "source": [
    "#### 5.1.1.2 Total fare by year-month"
   ]
  },
  {
   "cell_type": "code",
   "execution_count": 62,
   "metadata": {},
   "outputs": [
    {
     "data": {
      "image/png": "[encoded data removed]",
      "text/plain": [
       "<Figure size 1440x576 with 1 Axes>"
      ]
     },
     "metadata": {
      "needs_background": "light"
     },
     "output_type": "display_data"
    }
   ],
   "source": [
    "f, axes = plt.subplots(sharey=True, figsize=(20, 8))\n",
    "sns.barplot(x=df_trips_year_month[\"year_month\"], \n",
    "            y=df_trips_year_month[\"total_fare\"]).set_title('Total Fare by Year-Month')\n",
    "axes.set_xticklabels(axes.get_xticklabels(), rotation = 60);"
   ]
  },
  {
   "cell_type": "markdown",
   "metadata": {},
   "source": [
    "#### 5.1.2.3 Total tips by month"
   ]
  },
  {
   "cell_type": "code",
   "execution_count": 63,
   "metadata": {},
   "outputs": [
    {
     "data": {
      "image/png": "[encoded data removed]",
      "text/plain": [
       "<Figure size 1440x576 with 1 Axes>"
      ]
     },
     "metadata": {
      "needs_background": "light"
     },
     "output_type": "display_data"
    }
   ],
   "source": [
    "f, axes = plt.subplots(sharey=True, figsize=(20, 8))\n",
    "sns.barplot(x=df_trips_year_month[\"year_month\"], \n",
    "            y=df_trips_year_month[\"total_tips\"]).set_title('Total Tips by Year-Month')\n",
    "axes.set_xticklabels(axes.get_xticklabels(), rotation = 60);"
   ]
  },
  {
   "cell_type": "markdown",
   "metadata": {},
   "source": [
    "#### 5.1.2.4 Mean tips by month"
   ]
  },
  {
   "cell_type": "code",
   "execution_count": 64,
   "metadata": {},
   "outputs": [
    {
     "data": {
      "image/png": "[encoded data removed]",
      "text/plain": [
       "<Figure size 1440x576 with 1 Axes>"
      ]
     },
     "metadata": {
      "needs_background": "light"
     },
     "output_type": "display_data"
    }
   ],
   "source": [
    "f, axes = plt.subplots(sharey=True, figsize=(20, 8))\n",
    "sns.barplot(x=df_trips_year_month[\"year_month\"], \n",
    "            y=df_trips_year_month[\"tips_mean\"]).set_title('Mean Tips by Year-Month')\n",
    "axes.set_xticklabels(axes.get_xticklabels(), rotation = 60);"
   ]
  },
  {
   "cell_type": "markdown",
   "metadata": {},
   "source": [
    "#### 5.1.3 WeekDay"
   ]
  },
  {
   "cell_type": "code",
   "execution_count": 65,
   "metadata": {},
   "outputs": [],
   "source": [
    "df_trips_dayweek = taxi_trips.groupby(F.dayofweek(\"trip_start_timestamp\").alias(\"dayweek\"))\\\n",
    "                          .agg(F.count('taxi_id').alias('trips_number'),\n",
    "                               F.sum('fare').alias('total_fare'),\n",
    "                               F.sum('tips').alias('total_tips'),\n",
    "                               F.mean('tips').alias('tips_mean'))\\\n",
    "                          .sort('dayweek').toPandas()"
   ]
  },
  {
   "cell_type": "markdown",
   "metadata": {},
   "source": [
    "##### 5.1.3.1 Number of trips by weekday"
   ]
  },
  {
   "cell_type": "code",
   "execution_count": 66,
   "metadata": {},
   "outputs": [
    {
     "data": {
      "image/png": "[encoded data removed]",
      "text/plain": [
       "<Figure size 720x432 with 1 Axes>"
      ]
     },
     "metadata": {
      "needs_background": "light"
     },
     "output_type": "display_data"
    }
   ],
   "source": [
    "f, axes = plt.subplots(sharey=True, figsize=(10, 6))\n",
    "sns.barplot(x=df_trips_dayweek[\"dayweek\"], y=df_trips_dayweek[\"trips_number\"]).set_title('Trips by Day of Week');"
   ]
  },
  {
   "cell_type": "markdown",
   "metadata": {},
   "source": [
    "#### 5.1.3.2 Total of fare by day of week"
   ]
  },
  {
   "cell_type": "code",
   "execution_count": 67,
   "metadata": {},
   "outputs": [
    {
     "data": {
      "image/png": "[encoded data removed]",
      "text/plain": [
       "<Figure size 720x432 with 1 Axes>"
      ]
     },
     "metadata": {
      "needs_background": "light"
     },
     "output_type": "display_data"
    }
   ],
   "source": [
    "f, axes = plt.subplots(sharey=True, figsize=(10, 6))\n",
    "sns.barplot(x=df_trips_dayweek[\"dayweek\"],\n",
    "            y=df_trips_dayweek['total_fare']).set_title('Total Fare by Day of week $');"
   ]
  },
  {
   "cell_type": "markdown",
   "metadata": {},
   "source": [
    "#### 5.1.3.3 Total of tips by day of week"
   ]
  },
  {
   "cell_type": "code",
   "execution_count": 68,
   "metadata": {},
   "outputs": [
    {
     "data": {
      "image/png": "[encoded data removed]",
      "text/plain": [
       "<Figure size 720x432 with 1 Axes>"
      ]
     },
     "metadata": {
      "needs_background": "light"
     },
     "output_type": "display_data"
    }
   ],
   "source": [
    "f, axes = plt.subplots(sharey=True, figsize=(10, 6))\n",
    "sns.barplot(x=df_trips_dayweek[\"dayweek\"],\n",
    "            y=df_trips_dayweek['total_tips']).set_title('Total of Tips by Day of week $');"
   ]
  },
  {
   "cell_type": "code",
   "execution_count": 69,
   "metadata": {},
   "outputs": [
    {
     "data": {
      "text/html": [
       "<div>\n",
       "<style scoped>\n",
       "    .dataframe tbody tr th:only-of-type {\n",
       "        vertical-align: middle;\n",
       "    }\n",
       "\n",
       "    .dataframe tbody tr th {\n",
       "        vertical-align: top;\n",
       "    }\n",
       "\n",
       "    .dataframe thead th {\n",
       "        text-align: right;\n",
       "    }\n",
       "</style>\n",
       "<table border=\"1\" class=\"dataframe\">\n",
       "  <thead>\n",
       "    <tr style=\"text-align: right;\">\n",
       "      <th></th>\n",
       "      <th>trip_id</th>\n",
       "      <th>taxi_id</th>\n",
       "      <th>trip_start_timestamp</th>\n",
       "      <th>trip_end_timestamp</th>\n",
       "      <th>trip_seconds</th>\n",
       "      <th>trip_miles</th>\n",
       "      <th>pickup_community_area</th>\n",
       "      <th>dropoff_community_area</th>\n",
       "      <th>fare</th>\n",
       "      <th>tips</th>\n",
       "      <th>tolls</th>\n",
       "      <th>extras</th>\n",
       "      <th>trip_total</th>\n",
       "      <th>payment_type</th>\n",
       "      <th>company</th>\n",
       "      <th>pickup_centroid_latitude</th>\n",
       "      <th>pickup_centroid_longitude</th>\n",
       "      <th>dropoff_centroid_latitude</th>\n",
       "      <th>dropoff_centroid_longitude</th>\n",
       "      <th>AUX_trip_start_timestamp</th>\n",
       "      <th>humidity</th>\n",
       "      <th>pressure</th>\n",
       "      <th>temperature</th>\n",
       "      <th>weather_description</th>\n",
       "      <th>wind_direction</th>\n",
       "      <th>wind_speed</th>\n",
       "    </tr>\n",
       "  </thead>\n",
       "  <tbody>\n",
       "    <tr>\n",
       "      <th>0</th>\n",
       "      <td>17c5513869e70d8b13bd0f867e25093277e66490</td>\n",
       "      <td>02ed22eae97d54edcd84d5546ca287aeb086bb46cfc12e...</td>\n",
       "      <td>2016-02-22 15:15:00</td>\n",
       "      <td>2016-02-22 16:15:00</td>\n",
       "      <td>3420</td>\n",
       "      <td>1.1</td>\n",
       "      <td>56</td>\n",
       "      <td>54</td>\n",
       "      <td>50.25</td>\n",
       "      <td>0.0</td>\n",
       "      <td>0.0</td>\n",
       "      <td>5.0</td>\n",
       "      <td>55.25</td>\n",
       "      <td>Cash</td>\n",
       "      <td>Taxi Affiliation Services</td>\n",
       "      <td>41.792592</td>\n",
       "      <td>-87.769615</td>\n",
       "      <td>41.660136</td>\n",
       "      <td>-87.602848</td>\n",
       "      <td>2016-02-22 15:15:00</td>\n",
       "      <td>80.0</td>\n",
       "      <td>1022.0</td>\n",
       "      <td>274.060000</td>\n",
       "      <td>mist</td>\n",
       "      <td>54.0</td>\n",
       "      <td>2.0</td>\n",
       "    </tr>\n",
       "    <tr>\n",
       "      <th>1</th>\n",
       "      <td>496ed6a3d29b6f10e65288d71ff839a958710e3e</td>\n",
       "      <td>a3460f34db4558e799a895b6468d4730cc1e69f1cfd780...</td>\n",
       "      <td>2015-05-16 10:30:00</td>\n",
       "      <td>2015-05-16 11:15:00</td>\n",
       "      <td>2340</td>\n",
       "      <td>23.3</td>\n",
       "      <td>7</td>\n",
       "      <td>54</td>\n",
       "      <td>47.05</td>\n",
       "      <td>0.0</td>\n",
       "      <td>0.0</td>\n",
       "      <td>1.0</td>\n",
       "      <td>48.05</td>\n",
       "      <td>Cash</td>\n",
       "      <td>Dispatch Taxi Affiliation</td>\n",
       "      <td>41.922686</td>\n",
       "      <td>-87.649489</td>\n",
       "      <td>41.660136</td>\n",
       "      <td>-87.602848</td>\n",
       "      <td>2015-05-16 10:30:00</td>\n",
       "      <td>83.0</td>\n",
       "      <td>1029.0</td>\n",
       "      <td>285.782333</td>\n",
       "      <td>scattered clouds</td>\n",
       "      <td>172.0</td>\n",
       "      <td>2.0</td>\n",
       "    </tr>\n",
       "  </tbody>\n",
       "</table>\n",
       "</div>"
      ],
      "text/plain": [
       "                                    trip_id  \\\n",
       "0  17c5513869e70d8b13bd0f867e25093277e66490   \n",
       "1  496ed6a3d29b6f10e65288d71ff839a958710e3e   \n",
       "\n",
       "                                             taxi_id trip_start_timestamp  \\\n",
       "0  02ed22eae97d54edcd84d5546ca287aeb086bb46cfc12e...  2016-02-22 15:15:00   \n",
       "1  a3460f34db4558e799a895b6468d4730cc1e69f1cfd780...  2015-05-16 10:30:00   \n",
       "\n",
       "   trip_end_timestamp  trip_seconds  trip_miles  pickup_community_area  \\\n",
       "0 2016-02-22 16:15:00          3420         1.1                     56   \n",
       "1 2015-05-16 11:15:00          2340        23.3                      7   \n",
       "\n",
       "   dropoff_community_area   fare  tips  tolls  extras  trip_total  \\\n",
       "0                      54  50.25   0.0    0.0     5.0       55.25   \n",
       "1                      54  47.05   0.0    0.0     1.0       48.05   \n",
       "\n",
       "  payment_type                    company  pickup_centroid_latitude  \\\n",
       "0         Cash  Taxi Affiliation Services                 41.792592   \n",
       "1         Cash  Dispatch Taxi Affiliation                 41.922686   \n",
       "\n",
       "   pickup_centroid_longitude  dropoff_centroid_latitude  \\\n",
       "0                 -87.769615                  41.660136   \n",
       "1                 -87.649489                  41.660136   \n",
       "\n",
       "   dropoff_centroid_longitude AUX_trip_start_timestamp  humidity  pressure  \\\n",
       "0                  -87.602848      2016-02-22 15:15:00      80.0    1022.0   \n",
       "1                  -87.602848      2015-05-16 10:30:00      83.0    1029.0   \n",
       "\n",
       "   temperature weather_description  wind_direction  wind_speed  \n",
       "0   274.060000                mist            54.0         2.0  \n",
       "1   285.782333    scattered clouds           172.0         2.0  "
      ]
     },
     "execution_count": 69,
     "metadata": {},
     "output_type": "execute_result"
    }
   ],
   "source": [
    "taxi_trips.limit(2).toPandas()"
   ]
  },
  {
   "cell_type": "markdown",
   "metadata": {},
   "source": [
    "### 5.2 Analysis trips, fare, trip miles and trip duratinon by company"
   ]
  },
  {
   "cell_type": "code",
   "execution_count": 70,
   "metadata": {},
   "outputs": [],
   "source": [
    "df_company = taxi_trips.groupby(F.col('company'))\\\n",
    "                          .agg(F.count('taxi_id').alias('trips_number'),\n",
    "                               F.sum('fare').alias('total_fare'),\n",
    "                               F.mean('fare').alias('fare_mean'),                               \n",
    "                               F.mean('tips').alias('tips_mean'),\n",
    "                               F.mean('trip_miles').alias('miles_mean'),\n",
    "                               F.lit(F.mean('trip_seconds')/60).alias('duration_mean'))"
   ]
  },
  {
   "cell_type": "markdown",
   "metadata": {},
   "source": [
    "#### 5.2.1 TOP 10 Total Trips by Company"
   ]
  },
  {
   "cell_type": "code",
   "execution_count": 71,
   "metadata": {},
   "outputs": [
    {
     "data": {
      "text/html": [
       "<div>\n",
       "<style scoped>\n",
       "    .dataframe tbody tr th:only-of-type {\n",
       "        vertical-align: middle;\n",
       "    }\n",
       "\n",
       "    .dataframe tbody tr th {\n",
       "        vertical-align: top;\n",
       "    }\n",
       "\n",
       "    .dataframe thead th {\n",
       "        text-align: right;\n",
       "    }\n",
       "</style>\n",
       "<table border=\"1\" class=\"dataframe\">\n",
       "  <thead>\n",
       "    <tr style=\"text-align: right;\">\n",
       "      <th></th>\n",
       "      <th>company</th>\n",
       "      <th>trips_number</th>\n",
       "      <th>total_fare</th>\n",
       "      <th>fare_mean</th>\n",
       "      <th>tips_mean</th>\n",
       "      <th>miles_mean</th>\n",
       "      <th>duration_mean</th>\n",
       "    </tr>\n",
       "  </thead>\n",
       "  <tbody>\n",
       "    <tr>\n",
       "      <th>0</th>\n",
       "      <td>Taxi Affiliation Services</td>\n",
       "      <td>12282824</td>\n",
       "      <td>1.745618e+08</td>\n",
       "      <td>14.211841</td>\n",
       "      <td>1.421602</td>\n",
       "      <td>4.217479</td>\n",
       "      <td>15.042493</td>\n",
       "    </tr>\n",
       "    <tr>\n",
       "      <th>1</th>\n",
       "      <td>Dispatch Taxi Affiliation</td>\n",
       "      <td>6593185</td>\n",
       "      <td>7.953855e+07</td>\n",
       "      <td>12.063729</td>\n",
       "      <td>1.162642</td>\n",
       "      <td>3.941599</td>\n",
       "      <td>13.015117</td>\n",
       "    </tr>\n",
       "    <tr>\n",
       "      <th>2</th>\n",
       "      <td>Choice Taxi Association</td>\n",
       "      <td>3768826</td>\n",
       "      <td>4.923743e+07</td>\n",
       "      <td>13.064396</td>\n",
       "      <td>1.462052</td>\n",
       "      <td>4.381395</td>\n",
       "      <td>14.063563</td>\n",
       "    </tr>\n",
       "    <tr>\n",
       "      <th>3</th>\n",
       "      <td>Northwest Management LLC</td>\n",
       "      <td>2310484</td>\n",
       "      <td>2.736808e+07</td>\n",
       "      <td>11.845173</td>\n",
       "      <td>1.154844</td>\n",
       "      <td>3.787711</td>\n",
       "      <td>13.067729</td>\n",
       "    </tr>\n",
       "    <tr>\n",
       "      <th>4</th>\n",
       "      <td>KOAM Taxi Association</td>\n",
       "      <td>1287161</td>\n",
       "      <td>1.647145e+07</td>\n",
       "      <td>12.796725</td>\n",
       "      <td>1.202305</td>\n",
       "      <td>4.177149</td>\n",
       "      <td>13.935964</td>\n",
       "    </tr>\n",
       "    <tr>\n",
       "      <th>5</th>\n",
       "      <td>Top Cab Affiliation</td>\n",
       "      <td>812440</td>\n",
       "      <td>1.056165e+07</td>\n",
       "      <td>12.999917</td>\n",
       "      <td>1.146560</td>\n",
       "      <td>4.217252</td>\n",
       "      <td>13.810755</td>\n",
       "    </tr>\n",
       "    <tr>\n",
       "      <th>6</th>\n",
       "      <td>Chicago Medallion Leasing INC</td>\n",
       "      <td>329834</td>\n",
       "      <td>4.214278e+06</td>\n",
       "      <td>12.776966</td>\n",
       "      <td>1.351881</td>\n",
       "      <td>3.839286</td>\n",
       "      <td>13.366260</td>\n",
       "    </tr>\n",
       "    <tr>\n",
       "      <th>7</th>\n",
       "      <td>Blue Ribbon Taxi Association Inc.</td>\n",
       "      <td>313007</td>\n",
       "      <td>1.006373e+07</td>\n",
       "      <td>32.105527</td>\n",
       "      <td>4.036771</td>\n",
       "      <td>1.676139</td>\n",
       "      <td>30.617205</td>\n",
       "    </tr>\n",
       "    <tr>\n",
       "      <th>8</th>\n",
       "      <td>Chicago Medallion Management</td>\n",
       "      <td>244799</td>\n",
       "      <td>3.004126e+06</td>\n",
       "      <td>12.271805</td>\n",
       "      <td>1.211729</td>\n",
       "      <td>3.524006</td>\n",
       "      <td>13.076471</td>\n",
       "    </tr>\n",
       "    <tr>\n",
       "      <th>9</th>\n",
       "      <td>3201 - C&amp;D Cab Co Inc</td>\n",
       "      <td>15222</td>\n",
       "      <td>1.682760e+05</td>\n",
       "      <td>11.054792</td>\n",
       "      <td>0.950626</td>\n",
       "      <td>3.421272</td>\n",
       "      <td>12.623965</td>\n",
       "    </tr>\n",
       "  </tbody>\n",
       "</table>\n",
       "</div>"
      ],
      "text/plain": [
       "                             company  trips_number    total_fare  fare_mean  \\\n",
       "0          Taxi Affiliation Services      12282824  1.745618e+08  14.211841   \n",
       "1          Dispatch Taxi Affiliation       6593185  7.953855e+07  12.063729   \n",
       "2            Choice Taxi Association       3768826  4.923743e+07  13.064396   \n",
       "3           Northwest Management LLC       2310484  2.736808e+07  11.845173   \n",
       "4              KOAM Taxi Association       1287161  1.647145e+07  12.796725   \n",
       "5                Top Cab Affiliation        812440  1.056165e+07  12.999917   \n",
       "6      Chicago Medallion Leasing INC        329834  4.214278e+06  12.776966   \n",
       "7  Blue Ribbon Taxi Association Inc.        313007  1.006373e+07  32.105527   \n",
       "8       Chicago Medallion Management        244799  3.004126e+06  12.271805   \n",
       "9              3201 - C&D Cab Co Inc         15222  1.682760e+05  11.054792   \n",
       "\n",
       "   tips_mean  miles_mean  duration_mean  \n",
       "0   1.421602    4.217479      15.042493  \n",
       "1   1.162642    3.941599      13.015117  \n",
       "2   1.462052    4.381395      14.063563  \n",
       "3   1.154844    3.787711      13.067729  \n",
       "4   1.202305    4.177149      13.935964  \n",
       "5   1.146560    4.217252      13.810755  \n",
       "6   1.351881    3.839286      13.366260  \n",
       "7   4.036771    1.676139      30.617205  \n",
       "8   1.211729    3.524006      13.076471  \n",
       "9   0.950626    3.421272      12.623965  "
      ]
     },
     "execution_count": 71,
     "metadata": {},
     "output_type": "execute_result"
    }
   ],
   "source": [
    "company_trips = df_company.sort('trips_number',ascending=False).limit(10).toPandas()\n",
    "company_trips"
   ]
  },
  {
   "cell_type": "code",
   "execution_count": 72,
   "metadata": {},
   "outputs": [
    {
     "data": {
      "image/png": "[encoded data removed]",
      "text/plain": [
       "<Figure size 720x432 with 1 Axes>"
      ]
     },
     "metadata": {
      "needs_background": "light"
     },
     "output_type": "display_data"
    }
   ],
   "source": [
    "f, axes = plt.subplots(sharey=True, figsize=(10, 6))\n",
    "sns.barplot(x=company_trips[\"company\"],\n",
    "            y=company_trips['trips_number']).set_title('TOP 10 Total Trips by Company')\n",
    "axes.set_xticklabels(axes.get_xticklabels(), rotation = 60);"
   ]
  },
  {
   "cell_type": "markdown",
   "metadata": {},
   "source": [
    "#### 5.2.2 TOP 10 Total Fare by Company"
   ]
  },
  {
   "cell_type": "code",
   "execution_count": 73,
   "metadata": {},
   "outputs": [
    {
     "data": {
      "text/html": [
       "<div>\n",
       "<style scoped>\n",
       "    .dataframe tbody tr th:only-of-type {\n",
       "        vertical-align: middle;\n",
       "    }\n",
       "\n",
       "    .dataframe tbody tr th {\n",
       "        vertical-align: top;\n",
       "    }\n",
       "\n",
       "    .dataframe thead th {\n",
       "        text-align: right;\n",
       "    }\n",
       "</style>\n",
       "<table border=\"1\" class=\"dataframe\">\n",
       "  <thead>\n",
       "    <tr style=\"text-align: right;\">\n",
       "      <th></th>\n",
       "      <th>company</th>\n",
       "      <th>trips_number</th>\n",
       "      <th>total_fare</th>\n",
       "      <th>fare_mean</th>\n",
       "      <th>tips_mean</th>\n",
       "      <th>miles_mean</th>\n",
       "      <th>duration_mean</th>\n",
       "    </tr>\n",
       "  </thead>\n",
       "  <tbody>\n",
       "    <tr>\n",
       "      <th>0</th>\n",
       "      <td>Taxi Affiliation Services</td>\n",
       "      <td>12282824</td>\n",
       "      <td>1.745618e+08</td>\n",
       "      <td>14.211841</td>\n",
       "      <td>1.421602</td>\n",
       "      <td>4.217479</td>\n",
       "      <td>15.042493</td>\n",
       "    </tr>\n",
       "    <tr>\n",
       "      <th>1</th>\n",
       "      <td>Dispatch Taxi Affiliation</td>\n",
       "      <td>6593185</td>\n",
       "      <td>7.953855e+07</td>\n",
       "      <td>12.063729</td>\n",
       "      <td>1.162642</td>\n",
       "      <td>3.941599</td>\n",
       "      <td>13.015117</td>\n",
       "    </tr>\n",
       "    <tr>\n",
       "      <th>2</th>\n",
       "      <td>Choice Taxi Association</td>\n",
       "      <td>3768826</td>\n",
       "      <td>4.923743e+07</td>\n",
       "      <td>13.064396</td>\n",
       "      <td>1.462052</td>\n",
       "      <td>4.381395</td>\n",
       "      <td>14.063563</td>\n",
       "    </tr>\n",
       "    <tr>\n",
       "      <th>3</th>\n",
       "      <td>Northwest Management LLC</td>\n",
       "      <td>2310484</td>\n",
       "      <td>2.736808e+07</td>\n",
       "      <td>11.845173</td>\n",
       "      <td>1.154844</td>\n",
       "      <td>3.787711</td>\n",
       "      <td>13.067729</td>\n",
       "    </tr>\n",
       "    <tr>\n",
       "      <th>4</th>\n",
       "      <td>KOAM Taxi Association</td>\n",
       "      <td>1287161</td>\n",
       "      <td>1.647145e+07</td>\n",
       "      <td>12.796725</td>\n",
       "      <td>1.202305</td>\n",
       "      <td>4.177149</td>\n",
       "      <td>13.935964</td>\n",
       "    </tr>\n",
       "    <tr>\n",
       "      <th>5</th>\n",
       "      <td>Top Cab Affiliation</td>\n",
       "      <td>812440</td>\n",
       "      <td>1.056165e+07</td>\n",
       "      <td>12.999917</td>\n",
       "      <td>1.146560</td>\n",
       "      <td>4.217252</td>\n",
       "      <td>13.810755</td>\n",
       "    </tr>\n",
       "    <tr>\n",
       "      <th>6</th>\n",
       "      <td>Blue Ribbon Taxi Association Inc.</td>\n",
       "      <td>313007</td>\n",
       "      <td>1.006373e+07</td>\n",
       "      <td>32.105527</td>\n",
       "      <td>4.036771</td>\n",
       "      <td>1.676139</td>\n",
       "      <td>30.617205</td>\n",
       "    </tr>\n",
       "    <tr>\n",
       "      <th>7</th>\n",
       "      <td>Chicago Medallion Leasing INC</td>\n",
       "      <td>329834</td>\n",
       "      <td>4.214278e+06</td>\n",
       "      <td>12.776966</td>\n",
       "      <td>1.351881</td>\n",
       "      <td>3.839286</td>\n",
       "      <td>13.366260</td>\n",
       "    </tr>\n",
       "    <tr>\n",
       "      <th>8</th>\n",
       "      <td>Chicago Medallion Management</td>\n",
       "      <td>244799</td>\n",
       "      <td>3.004126e+06</td>\n",
       "      <td>12.271805</td>\n",
       "      <td>1.211729</td>\n",
       "      <td>3.524006</td>\n",
       "      <td>13.076471</td>\n",
       "    </tr>\n",
       "    <tr>\n",
       "      <th>9</th>\n",
       "      <td>0118 - 42111 Godfrey S.Awir</td>\n",
       "      <td>13402</td>\n",
       "      <td>1.860279e+05</td>\n",
       "      <td>13.880607</td>\n",
       "      <td>1.303558</td>\n",
       "      <td>4.512088</td>\n",
       "      <td>14.972094</td>\n",
       "    </tr>\n",
       "  </tbody>\n",
       "</table>\n",
       "</div>"
      ],
      "text/plain": [
       "                             company  trips_number    total_fare  fare_mean  \\\n",
       "0          Taxi Affiliation Services      12282824  1.745618e+08  14.211841   \n",
       "1          Dispatch Taxi Affiliation       6593185  7.953855e+07  12.063729   \n",
       "2            Choice Taxi Association       3768826  4.923743e+07  13.064396   \n",
       "3           Northwest Management LLC       2310484  2.736808e+07  11.845173   \n",
       "4              KOAM Taxi Association       1287161  1.647145e+07  12.796725   \n",
       "5                Top Cab Affiliation        812440  1.056165e+07  12.999917   \n",
       "6  Blue Ribbon Taxi Association Inc.        313007  1.006373e+07  32.105527   \n",
       "7      Chicago Medallion Leasing INC        329834  4.214278e+06  12.776966   \n",
       "8       Chicago Medallion Management        244799  3.004126e+06  12.271805   \n",
       "9        0118 - 42111 Godfrey S.Awir         13402  1.860279e+05  13.880607   \n",
       "\n",
       "   tips_mean  miles_mean  duration_mean  \n",
       "0   1.421602    4.217479      15.042493  \n",
       "1   1.162642    3.941599      13.015117  \n",
       "2   1.462052    4.381395      14.063563  \n",
       "3   1.154844    3.787711      13.067729  \n",
       "4   1.202305    4.177149      13.935964  \n",
       "5   1.146560    4.217252      13.810755  \n",
       "6   4.036771    1.676139      30.617205  \n",
       "7   1.351881    3.839286      13.366260  \n",
       "8   1.211729    3.524006      13.076471  \n",
       "9   1.303558    4.512088      14.972094  "
      ]
     },
     "execution_count": 73,
     "metadata": {},
     "output_type": "execute_result"
    }
   ],
   "source": [
    "company_total_fare = df_company.sort('total_fare',ascending=False).limit(10).toPandas()\n",
    "company_total_fare"
   ]
  },
  {
   "cell_type": "code",
   "execution_count": 74,
   "metadata": {},
   "outputs": [
    {
     "data": {
      "image/png": "[encoded data removed]",
      "text/plain": [
       "<Figure size 720x432 with 1 Axes>"
      ]
     },
     "metadata": {
      "needs_background": "light"
     },
     "output_type": "display_data"
    }
   ],
   "source": [
    "f, axes = plt.subplots(sharey=True, figsize=(10, 6))\n",
    "sns.barplot(x=company_total_fare[\"company\"],\n",
    "            y=company_total_fare['total_fare']).set_title('TOP 10 Total Fare by Company')\n",
    "axes.set_xticklabels(axes.get_xticklabels(), rotation = 60);"
   ]
  },
  {
   "cell_type": "markdown",
   "metadata": {},
   "source": [
    "#### 5.2.3 TOP 10 Mean Fare by Company"
   ]
  },
  {
   "cell_type": "code",
   "execution_count": 75,
   "metadata": {},
   "outputs": [
    {
     "data": {
      "text/html": [
       "<div>\n",
       "<style scoped>\n",
       "    .dataframe tbody tr th:only-of-type {\n",
       "        vertical-align: middle;\n",
       "    }\n",
       "\n",
       "    .dataframe tbody tr th {\n",
       "        vertical-align: top;\n",
       "    }\n",
       "\n",
       "    .dataframe thead th {\n",
       "        text-align: right;\n",
       "    }\n",
       "</style>\n",
       "<table border=\"1\" class=\"dataframe\">\n",
       "  <thead>\n",
       "    <tr style=\"text-align: right;\">\n",
       "      <th></th>\n",
       "      <th>company</th>\n",
       "      <th>trips_number</th>\n",
       "      <th>total_fare</th>\n",
       "      <th>fare_mean</th>\n",
       "      <th>tips_mean</th>\n",
       "      <th>miles_mean</th>\n",
       "      <th>duration_mean</th>\n",
       "    </tr>\n",
       "  </thead>\n",
       "  <tbody>\n",
       "    <tr>\n",
       "      <th>0</th>\n",
       "      <td>4732 - Maude Lamy</td>\n",
       "      <td>2</td>\n",
       "      <td>77.75</td>\n",
       "      <td>38.875000</td>\n",
       "      <td>0.000000</td>\n",
       "      <td>14.050000</td>\n",
       "      <td>32.500000</td>\n",
       "    </tr>\n",
       "    <tr>\n",
       "      <th>1</th>\n",
       "      <td>3669 - 85800 Jordan Taxi Inc</td>\n",
       "      <td>487</td>\n",
       "      <td>16342.25</td>\n",
       "      <td>33.556982</td>\n",
       "      <td>3.236222</td>\n",
       "      <td>13.418686</td>\n",
       "      <td>30.934292</td>\n",
       "    </tr>\n",
       "    <tr>\n",
       "      <th>2</th>\n",
       "      <td>Blue Ribbon Taxi Association Inc.</td>\n",
       "      <td>313007</td>\n",
       "      <td>10063734.35</td>\n",
       "      <td>32.105527</td>\n",
       "      <td>4.036771</td>\n",
       "      <td>1.676139</td>\n",
       "      <td>30.617205</td>\n",
       "    </tr>\n",
       "    <tr>\n",
       "      <th>3</th>\n",
       "      <td>2241 - 44667 - Felman Corp, Manuel Alonso</td>\n",
       "      <td>582</td>\n",
       "      <td>17296.50</td>\n",
       "      <td>29.719072</td>\n",
       "      <td>4.833797</td>\n",
       "      <td>11.277835</td>\n",
       "      <td>30.489691</td>\n",
       "    </tr>\n",
       "    <tr>\n",
       "      <th>4</th>\n",
       "      <td>2241 - 44667 Manuel Alonso</td>\n",
       "      <td>2306</td>\n",
       "      <td>60900.85</td>\n",
       "      <td>26.409735</td>\n",
       "      <td>4.136921</td>\n",
       "      <td>11.123114</td>\n",
       "      <td>29.449696</td>\n",
       "    </tr>\n",
       "    <tr>\n",
       "      <th>5</th>\n",
       "      <td>2823 - 73307 Lee Express Inc</td>\n",
       "      <td>1466</td>\n",
       "      <td>36686.00</td>\n",
       "      <td>25.024557</td>\n",
       "      <td>3.908499</td>\n",
       "      <td>8.728445</td>\n",
       "      <td>25.887449</td>\n",
       "    </tr>\n",
       "    <tr>\n",
       "      <th>6</th>\n",
       "      <td>Chicago Independents</td>\n",
       "      <td>1098</td>\n",
       "      <td>26868.50</td>\n",
       "      <td>24.470401</td>\n",
       "      <td>3.432131</td>\n",
       "      <td>7.093443</td>\n",
       "      <td>18.883424</td>\n",
       "    </tr>\n",
       "    <tr>\n",
       "      <th>7</th>\n",
       "      <td>2241 - Manuel Alonso</td>\n",
       "      <td>799</td>\n",
       "      <td>18211.55</td>\n",
       "      <td>22.792929</td>\n",
       "      <td>2.768185</td>\n",
       "      <td>9.787735</td>\n",
       "      <td>25.702128</td>\n",
       "    </tr>\n",
       "    <tr>\n",
       "      <th>8</th>\n",
       "      <td>4053 - 40193 Adwar H. Nikola</td>\n",
       "      <td>4690</td>\n",
       "      <td>99918.55</td>\n",
       "      <td>21.304595</td>\n",
       "      <td>3.118548</td>\n",
       "      <td>8.285394</td>\n",
       "      <td>19.943284</td>\n",
       "    </tr>\n",
       "    <tr>\n",
       "      <th>9</th>\n",
       "      <td>3721 - Santamaria Express, Alvaro Santamaria</td>\n",
       "      <td>709</td>\n",
       "      <td>13827.75</td>\n",
       "      <td>19.503173</td>\n",
       "      <td>3.118322</td>\n",
       "      <td>5.999295</td>\n",
       "      <td>17.341326</td>\n",
       "    </tr>\n",
       "  </tbody>\n",
       "</table>\n",
       "</div>"
      ],
      "text/plain": [
       "                                        company  trips_number   total_fare  \\\n",
       "0                             4732 - Maude Lamy             2        77.75   \n",
       "1                  3669 - 85800 Jordan Taxi Inc           487     16342.25   \n",
       "2             Blue Ribbon Taxi Association Inc.        313007  10063734.35   \n",
       "3     2241 - 44667 - Felman Corp, Manuel Alonso           582     17296.50   \n",
       "4                    2241 - 44667 Manuel Alonso          2306     60900.85   \n",
       "5                  2823 - 73307 Lee Express Inc          1466     36686.00   \n",
       "6                          Chicago Independents          1098     26868.50   \n",
       "7                          2241 - Manuel Alonso           799     18211.55   \n",
       "8                  4053 - 40193 Adwar H. Nikola          4690     99918.55   \n",
       "9  3721 - Santamaria Express, Alvaro Santamaria           709     13827.75   \n",
       "\n",
       "   fare_mean  tips_mean  miles_mean  duration_mean  \n",
       "0  38.875000   0.000000   14.050000      32.500000  \n",
       "1  33.556982   3.236222   13.418686      30.934292  \n",
       "2  32.105527   4.036771    1.676139      30.617205  \n",
       "3  29.719072   4.833797   11.277835      30.489691  \n",
       "4  26.409735   4.136921   11.123114      29.449696  \n",
       "5  25.024557   3.908499    8.728445      25.887449  \n",
       "6  24.470401   3.432131    7.093443      18.883424  \n",
       "7  22.792929   2.768185    9.787735      25.702128  \n",
       "8  21.304595   3.118548    8.285394      19.943284  \n",
       "9  19.503173   3.118322    5.999295      17.341326  "
      ]
     },
     "execution_count": 75,
     "metadata": {},
     "output_type": "execute_result"
    }
   ],
   "source": [
    "company_mean_fare = df_company.sort('fare_mean',ascending=False).limit(10).toPandas()\n",
    "company_mean_fare"
   ]
  },
  {
   "cell_type": "code",
   "execution_count": 76,
   "metadata": {},
   "outputs": [
    {
     "data": {
      "image/png": "[encoded data removed]",
      "text/plain": [
       "<Figure size 720x432 with 1 Axes>"
      ]
     },
     "metadata": {
      "needs_background": "light"
     },
     "output_type": "display_data"
    }
   ],
   "source": [
    "f, axes = plt.subplots(sharey=True, figsize=(10, 6))\n",
    "sns.barplot(x=company_mean_fare[\"company\"],\n",
    "            y=company_mean_fare['fare_mean']).set_title('TOP 10 Mean Fare by Company')\n",
    "axes.set_xticklabels(axes.get_xticklabels(), rotation = 60);"
   ]
  },
  {
   "cell_type": "markdown",
   "metadata": {},
   "source": [
    "#### 5.2.4 TOP 10 Mean Tips by Company"
   ]
  },
  {
   "cell_type": "code",
   "execution_count": 77,
   "metadata": {},
   "outputs": [
    {
     "data": {
      "text/html": [
       "<div>\n",
       "<style scoped>\n",
       "    .dataframe tbody tr th:only-of-type {\n",
       "        vertical-align: middle;\n",
       "    }\n",
       "\n",
       "    .dataframe tbody tr th {\n",
       "        vertical-align: top;\n",
       "    }\n",
       "\n",
       "    .dataframe thead th {\n",
       "        text-align: right;\n",
       "    }\n",
       "</style>\n",
       "<table border=\"1\" class=\"dataframe\">\n",
       "  <thead>\n",
       "    <tr style=\"text-align: right;\">\n",
       "      <th></th>\n",
       "      <th>company</th>\n",
       "      <th>trips_number</th>\n",
       "      <th>total_fare</th>\n",
       "      <th>fare_mean</th>\n",
       "      <th>tips_mean</th>\n",
       "      <th>miles_mean</th>\n",
       "      <th>duration_mean</th>\n",
       "    </tr>\n",
       "  </thead>\n",
       "  <tbody>\n",
       "    <tr>\n",
       "      <th>0</th>\n",
       "      <td>2241 - 44667 - Felman Corp, Manuel Alonso</td>\n",
       "      <td>582</td>\n",
       "      <td>17296.50</td>\n",
       "      <td>29.719072</td>\n",
       "      <td>4.833797</td>\n",
       "      <td>11.277835</td>\n",
       "      <td>30.489691</td>\n",
       "    </tr>\n",
       "    <tr>\n",
       "      <th>1</th>\n",
       "      <td>2241 - 44667 Manuel Alonso</td>\n",
       "      <td>2306</td>\n",
       "      <td>60900.85</td>\n",
       "      <td>26.409735</td>\n",
       "      <td>4.136921</td>\n",
       "      <td>11.123114</td>\n",
       "      <td>29.449696</td>\n",
       "    </tr>\n",
       "    <tr>\n",
       "      <th>2</th>\n",
       "      <td>Blue Ribbon Taxi Association Inc.</td>\n",
       "      <td>313007</td>\n",
       "      <td>10063734.35</td>\n",
       "      <td>32.105527</td>\n",
       "      <td>4.036771</td>\n",
       "      <td>1.676139</td>\n",
       "      <td>30.617205</td>\n",
       "    </tr>\n",
       "    <tr>\n",
       "      <th>3</th>\n",
       "      <td>2823 - 73307 Lee Express Inc</td>\n",
       "      <td>1466</td>\n",
       "      <td>36686.00</td>\n",
       "      <td>25.024557</td>\n",
       "      <td>3.908499</td>\n",
       "      <td>8.728445</td>\n",
       "      <td>25.887449</td>\n",
       "    </tr>\n",
       "    <tr>\n",
       "      <th>4</th>\n",
       "      <td>Chicago Independents</td>\n",
       "      <td>1098</td>\n",
       "      <td>26868.50</td>\n",
       "      <td>24.470401</td>\n",
       "      <td>3.432131</td>\n",
       "      <td>7.093443</td>\n",
       "      <td>18.883424</td>\n",
       "    </tr>\n",
       "    <tr>\n",
       "      <th>5</th>\n",
       "      <td>3669 - 85800 Jordan Taxi Inc</td>\n",
       "      <td>487</td>\n",
       "      <td>16342.25</td>\n",
       "      <td>33.556982</td>\n",
       "      <td>3.236222</td>\n",
       "      <td>13.418686</td>\n",
       "      <td>30.934292</td>\n",
       "    </tr>\n",
       "    <tr>\n",
       "      <th>6</th>\n",
       "      <td>4053 - 40193 Adwar H. Nikola</td>\n",
       "      <td>4690</td>\n",
       "      <td>99918.55</td>\n",
       "      <td>21.304595</td>\n",
       "      <td>3.118548</td>\n",
       "      <td>8.285394</td>\n",
       "      <td>19.943284</td>\n",
       "    </tr>\n",
       "    <tr>\n",
       "      <th>7</th>\n",
       "      <td>3721 - Santamaria Express, Alvaro Santamaria</td>\n",
       "      <td>709</td>\n",
       "      <td>13827.75</td>\n",
       "      <td>19.503173</td>\n",
       "      <td>3.118322</td>\n",
       "      <td>5.999295</td>\n",
       "      <td>17.341326</td>\n",
       "    </tr>\n",
       "    <tr>\n",
       "      <th>8</th>\n",
       "      <td>2241 - Manuel Alonso</td>\n",
       "      <td>799</td>\n",
       "      <td>18211.55</td>\n",
       "      <td>22.792929</td>\n",
       "      <td>2.768185</td>\n",
       "      <td>9.787735</td>\n",
       "      <td>25.702128</td>\n",
       "    </tr>\n",
       "    <tr>\n",
       "      <th>9</th>\n",
       "      <td>4623 - 27290 Jay Kim</td>\n",
       "      <td>7424</td>\n",
       "      <td>126671.05</td>\n",
       "      <td>17.062372</td>\n",
       "      <td>2.394328</td>\n",
       "      <td>6.097710</td>\n",
       "      <td>17.790409</td>\n",
       "    </tr>\n",
       "  </tbody>\n",
       "</table>\n",
       "</div>"
      ],
      "text/plain": [
       "                                        company  trips_number   total_fare  \\\n",
       "0     2241 - 44667 - Felman Corp, Manuel Alonso           582     17296.50   \n",
       "1                    2241 - 44667 Manuel Alonso          2306     60900.85   \n",
       "2             Blue Ribbon Taxi Association Inc.        313007  10063734.35   \n",
       "3                  2823 - 73307 Lee Express Inc          1466     36686.00   \n",
       "4                          Chicago Independents          1098     26868.50   \n",
       "5                  3669 - 85800 Jordan Taxi Inc           487     16342.25   \n",
       "6                  4053 - 40193 Adwar H. Nikola          4690     99918.55   \n",
       "7  3721 - Santamaria Express, Alvaro Santamaria           709     13827.75   \n",
       "8                          2241 - Manuel Alonso           799     18211.55   \n",
       "9                          4623 - 27290 Jay Kim          7424    126671.05   \n",
       "\n",
       "   fare_mean  tips_mean  miles_mean  duration_mean  \n",
       "0  29.719072   4.833797   11.277835      30.489691  \n",
       "1  26.409735   4.136921   11.123114      29.449696  \n",
       "2  32.105527   4.036771    1.676139      30.617205  \n",
       "3  25.024557   3.908499    8.728445      25.887449  \n",
       "4  24.470401   3.432131    7.093443      18.883424  \n",
       "5  33.556982   3.236222   13.418686      30.934292  \n",
       "6  21.304595   3.118548    8.285394      19.943284  \n",
       "7  19.503173   3.118322    5.999295      17.341326  \n",
       "8  22.792929   2.768185    9.787735      25.702128  \n",
       "9  17.062372   2.394328    6.097710      17.790409  "
      ]
     },
     "execution_count": 77,
     "metadata": {},
     "output_type": "execute_result"
    }
   ],
   "source": [
    "company_mean_tips = df_company.sort('tips_mean',ascending=False).limit(10).toPandas()\n",
    "company_mean_tips"
   ]
  },
  {
   "cell_type": "code",
   "execution_count": 78,
   "metadata": {},
   "outputs": [
    {
     "data": {
      "image/png": "[encoded data removed]",
      "text/plain": [
       "<Figure size 720x432 with 1 Axes>"
      ]
     },
     "metadata": {
      "needs_background": "light"
     },
     "output_type": "display_data"
    }
   ],
   "source": [
    "f, axes = plt.subplots(sharey=True, figsize=(10, 6))\n",
    "sns.barplot(x=company_mean_tips[\"company\"],\n",
    "            y=company_mean_tips['tips_mean']).set_title('TOP 10 Mean Tips by Company')\n",
    "axes.set_xticklabels(axes.get_xticklabels(), rotation = 60);"
   ]
  },
  {
   "cell_type": "markdown",
   "metadata": {},
   "source": [
    "#### 5.2.5 TOP 10 Longest Trips(miles) by Company"
   ]
  },
  {
   "cell_type": "code",
   "execution_count": 79,
   "metadata": {},
   "outputs": [
    {
     "data": {
      "text/html": [
       "<div>\n",
       "<style scoped>\n",
       "    .dataframe tbody tr th:only-of-type {\n",
       "        vertical-align: middle;\n",
       "    }\n",
       "\n",
       "    .dataframe tbody tr th {\n",
       "        vertical-align: top;\n",
       "    }\n",
       "\n",
       "    .dataframe thead th {\n",
       "        text-align: right;\n",
       "    }\n",
       "</style>\n",
       "<table border=\"1\" class=\"dataframe\">\n",
       "  <thead>\n",
       "    <tr style=\"text-align: right;\">\n",
       "      <th></th>\n",
       "      <th>company</th>\n",
       "      <th>trips_number</th>\n",
       "      <th>total_fare</th>\n",
       "      <th>fare_mean</th>\n",
       "      <th>tips_mean</th>\n",
       "      <th>miles_mean</th>\n",
       "      <th>duration_mean</th>\n",
       "    </tr>\n",
       "  </thead>\n",
       "  <tbody>\n",
       "    <tr>\n",
       "      <th>0</th>\n",
       "      <td>4732 - Maude Lamy</td>\n",
       "      <td>2</td>\n",
       "      <td>77.75</td>\n",
       "      <td>38.875000</td>\n",
       "      <td>0.000000</td>\n",
       "      <td>14.050000</td>\n",
       "      <td>32.500000</td>\n",
       "    </tr>\n",
       "    <tr>\n",
       "      <th>1</th>\n",
       "      <td>3669 - 85800 Jordan Taxi Inc</td>\n",
       "      <td>487</td>\n",
       "      <td>16342.25</td>\n",
       "      <td>33.556982</td>\n",
       "      <td>3.236222</td>\n",
       "      <td>13.418686</td>\n",
       "      <td>30.934292</td>\n",
       "    </tr>\n",
       "    <tr>\n",
       "      <th>2</th>\n",
       "      <td>2241 - 44667 - Felman Corp, Manuel Alonso</td>\n",
       "      <td>582</td>\n",
       "      <td>17296.50</td>\n",
       "      <td>29.719072</td>\n",
       "      <td>4.833797</td>\n",
       "      <td>11.277835</td>\n",
       "      <td>30.489691</td>\n",
       "    </tr>\n",
       "    <tr>\n",
       "      <th>3</th>\n",
       "      <td>2241 - 44667 Manuel Alonso</td>\n",
       "      <td>2306</td>\n",
       "      <td>60900.85</td>\n",
       "      <td>26.409735</td>\n",
       "      <td>4.136921</td>\n",
       "      <td>11.123114</td>\n",
       "      <td>29.449696</td>\n",
       "    </tr>\n",
       "    <tr>\n",
       "      <th>4</th>\n",
       "      <td>2241 - Manuel Alonso</td>\n",
       "      <td>799</td>\n",
       "      <td>18211.55</td>\n",
       "      <td>22.792929</td>\n",
       "      <td>2.768185</td>\n",
       "      <td>9.787735</td>\n",
       "      <td>25.702128</td>\n",
       "    </tr>\n",
       "    <tr>\n",
       "      <th>5</th>\n",
       "      <td>2823 - 73307 Lee Express Inc</td>\n",
       "      <td>1466</td>\n",
       "      <td>36686.00</td>\n",
       "      <td>25.024557</td>\n",
       "      <td>3.908499</td>\n",
       "      <td>8.728445</td>\n",
       "      <td>25.887449</td>\n",
       "    </tr>\n",
       "    <tr>\n",
       "      <th>6</th>\n",
       "      <td>4053 - 40193 Adwar H. Nikola</td>\n",
       "      <td>4690</td>\n",
       "      <td>99918.55</td>\n",
       "      <td>21.304595</td>\n",
       "      <td>3.118548</td>\n",
       "      <td>8.285394</td>\n",
       "      <td>19.943284</td>\n",
       "    </tr>\n",
       "    <tr>\n",
       "      <th>7</th>\n",
       "      <td>1408 - 89599 Donald Barnes</td>\n",
       "      <td>1462</td>\n",
       "      <td>27557.45</td>\n",
       "      <td>18.849145</td>\n",
       "      <td>1.960178</td>\n",
       "      <td>7.704172</td>\n",
       "      <td>21.176471</td>\n",
       "    </tr>\n",
       "    <tr>\n",
       "      <th>8</th>\n",
       "      <td>2823 - 73307 Seung Lee</td>\n",
       "      <td>3664</td>\n",
       "      <td>68913.35</td>\n",
       "      <td>18.808229</td>\n",
       "      <td>2.353450</td>\n",
       "      <td>7.336326</td>\n",
       "      <td>21.588155</td>\n",
       "    </tr>\n",
       "    <tr>\n",
       "      <th>9</th>\n",
       "      <td>Chicago Independents</td>\n",
       "      <td>1098</td>\n",
       "      <td>26868.50</td>\n",
       "      <td>24.470401</td>\n",
       "      <td>3.432131</td>\n",
       "      <td>7.093443</td>\n",
       "      <td>18.883424</td>\n",
       "    </tr>\n",
       "  </tbody>\n",
       "</table>\n",
       "</div>"
      ],
      "text/plain": [
       "                                     company  trips_number  total_fare  \\\n",
       "0                          4732 - Maude Lamy             2       77.75   \n",
       "1               3669 - 85800 Jordan Taxi Inc           487    16342.25   \n",
       "2  2241 - 44667 - Felman Corp, Manuel Alonso           582    17296.50   \n",
       "3                 2241 - 44667 Manuel Alonso          2306    60900.85   \n",
       "4                       2241 - Manuel Alonso           799    18211.55   \n",
       "5               2823 - 73307 Lee Express Inc          1466    36686.00   \n",
       "6               4053 - 40193 Adwar H. Nikola          4690    99918.55   \n",
       "7                 1408 - 89599 Donald Barnes          1462    27557.45   \n",
       "8                     2823 - 73307 Seung Lee          3664    68913.35   \n",
       "9                       Chicago Independents          1098    26868.50   \n",
       "\n",
       "   fare_mean  tips_mean  miles_mean  duration_mean  \n",
       "0  38.875000   0.000000   14.050000      32.500000  \n",
       "1  33.556982   3.236222   13.418686      30.934292  \n",
       "2  29.719072   4.833797   11.277835      30.489691  \n",
       "3  26.409735   4.136921   11.123114      29.449696  \n",
       "4  22.792929   2.768185    9.787735      25.702128  \n",
       "5  25.024557   3.908499    8.728445      25.887449  \n",
       "6  21.304595   3.118548    8.285394      19.943284  \n",
       "7  18.849145   1.960178    7.704172      21.176471  \n",
       "8  18.808229   2.353450    7.336326      21.588155  \n",
       "9  24.470401   3.432131    7.093443      18.883424  "
      ]
     },
     "execution_count": 79,
     "metadata": {},
     "output_type": "execute_result"
    }
   ],
   "source": [
    "company_lenght_mean = df_company.sort('miles_mean',ascending=False).limit(10).toPandas()\n",
    "company_lenght_mean"
   ]
  },
  {
   "cell_type": "code",
   "execution_count": 80,
   "metadata": {},
   "outputs": [
    {
     "data": {
      "image/png": "[encoded data removed]",
      "text/plain": [
       "<Figure size 720x432 with 1 Axes>"
      ]
     },
     "metadata": {
      "needs_background": "light"
     },
     "output_type": "display_data"
    }
   ],
   "source": [
    "f, axes = plt.subplots(sharey=True, figsize=(10, 6))\n",
    "sns.barplot(x=company_lenght_mean[\"company\"],\n",
    "            y=company_lenght_mean['miles_mean']).set_title('TOP 10 Longest Trips (miles) by Company')\n",
    "axes.set_xticklabels(axes.get_xticklabels(), rotation = 60);"
   ]
  },
  {
   "cell_type": "markdown",
   "metadata": {},
   "source": [
    "#### 5.2.6 TOP 10 Longest Trips(minutes) by Company"
   ]
  },
  {
   "cell_type": "code",
   "execution_count": 81,
   "metadata": {},
   "outputs": [
    {
     "data": {
      "text/html": [
       "<div>\n",
       "<style scoped>\n",
       "    .dataframe tbody tr th:only-of-type {\n",
       "        vertical-align: middle;\n",
       "    }\n",
       "\n",
       "    .dataframe tbody tr th {\n",
       "        vertical-align: top;\n",
       "    }\n",
       "\n",
       "    .dataframe thead th {\n",
       "        text-align: right;\n",
       "    }\n",
       "</style>\n",
       "<table border=\"1\" class=\"dataframe\">\n",
       "  <thead>\n",
       "    <tr style=\"text-align: right;\">\n",
       "      <th></th>\n",
       "      <th>company</th>\n",
       "      <th>trips_number</th>\n",
       "      <th>total_fare</th>\n",
       "      <th>fare_mean</th>\n",
       "      <th>tips_mean</th>\n",
       "      <th>miles_mean</th>\n",
       "      <th>duration_mean</th>\n",
       "    </tr>\n",
       "  </thead>\n",
       "  <tbody>\n",
       "    <tr>\n",
       "      <th>0</th>\n",
       "      <td>4732 - Maude Lamy</td>\n",
       "      <td>2</td>\n",
       "      <td>77.75</td>\n",
       "      <td>38.875000</td>\n",
       "      <td>0.000000</td>\n",
       "      <td>14.050000</td>\n",
       "      <td>32.500000</td>\n",
       "    </tr>\n",
       "    <tr>\n",
       "      <th>1</th>\n",
       "      <td>3669 - 85800 Jordan Taxi Inc</td>\n",
       "      <td>487</td>\n",
       "      <td>16342.25</td>\n",
       "      <td>33.556982</td>\n",
       "      <td>3.236222</td>\n",
       "      <td>13.418686</td>\n",
       "      <td>30.934292</td>\n",
       "    </tr>\n",
       "    <tr>\n",
       "      <th>2</th>\n",
       "      <td>Blue Ribbon Taxi Association Inc.</td>\n",
       "      <td>313007</td>\n",
       "      <td>10063734.35</td>\n",
       "      <td>32.105527</td>\n",
       "      <td>4.036771</td>\n",
       "      <td>1.676139</td>\n",
       "      <td>30.617205</td>\n",
       "    </tr>\n",
       "    <tr>\n",
       "      <th>3</th>\n",
       "      <td>2241 - 44667 - Felman Corp, Manuel Alonso</td>\n",
       "      <td>582</td>\n",
       "      <td>17296.50</td>\n",
       "      <td>29.719072</td>\n",
       "      <td>4.833797</td>\n",
       "      <td>11.277835</td>\n",
       "      <td>30.489691</td>\n",
       "    </tr>\n",
       "    <tr>\n",
       "      <th>4</th>\n",
       "      <td>2241 - 44667 Manuel Alonso</td>\n",
       "      <td>2306</td>\n",
       "      <td>60900.85</td>\n",
       "      <td>26.409735</td>\n",
       "      <td>4.136921</td>\n",
       "      <td>11.123114</td>\n",
       "      <td>29.449696</td>\n",
       "    </tr>\n",
       "    <tr>\n",
       "      <th>5</th>\n",
       "      <td>2823 - 73307 Lee Express Inc</td>\n",
       "      <td>1466</td>\n",
       "      <td>36686.00</td>\n",
       "      <td>25.024557</td>\n",
       "      <td>3.908499</td>\n",
       "      <td>8.728445</td>\n",
       "      <td>25.887449</td>\n",
       "    </tr>\n",
       "    <tr>\n",
       "      <th>6</th>\n",
       "      <td>2241 - Manuel Alonso</td>\n",
       "      <td>799</td>\n",
       "      <td>18211.55</td>\n",
       "      <td>22.792929</td>\n",
       "      <td>2.768185</td>\n",
       "      <td>9.787735</td>\n",
       "      <td>25.702128</td>\n",
       "    </tr>\n",
       "    <tr>\n",
       "      <th>7</th>\n",
       "      <td>2823 - 73307 Seung Lee</td>\n",
       "      <td>3664</td>\n",
       "      <td>68913.35</td>\n",
       "      <td>18.808229</td>\n",
       "      <td>2.353450</td>\n",
       "      <td>7.336326</td>\n",
       "      <td>21.588155</td>\n",
       "    </tr>\n",
       "    <tr>\n",
       "      <th>8</th>\n",
       "      <td>1408 - 89599 Donald Barnes</td>\n",
       "      <td>1462</td>\n",
       "      <td>27557.45</td>\n",
       "      <td>18.849145</td>\n",
       "      <td>1.960178</td>\n",
       "      <td>7.704172</td>\n",
       "      <td>21.176471</td>\n",
       "    </tr>\n",
       "    <tr>\n",
       "      <th>9</th>\n",
       "      <td>2823 - Seung Lee</td>\n",
       "      <td>335</td>\n",
       "      <td>5757.15</td>\n",
       "      <td>17.185522</td>\n",
       "      <td>1.231493</td>\n",
       "      <td>6.712239</td>\n",
       "      <td>20.731343</td>\n",
       "    </tr>\n",
       "  </tbody>\n",
       "</table>\n",
       "</div>"
      ],
      "text/plain": [
       "                                     company  trips_number   total_fare  \\\n",
       "0                          4732 - Maude Lamy             2        77.75   \n",
       "1               3669 - 85800 Jordan Taxi Inc           487     16342.25   \n",
       "2          Blue Ribbon Taxi Association Inc.        313007  10063734.35   \n",
       "3  2241 - 44667 - Felman Corp, Manuel Alonso           582     17296.50   \n",
       "4                 2241 - 44667 Manuel Alonso          2306     60900.85   \n",
       "5               2823 - 73307 Lee Express Inc          1466     36686.00   \n",
       "6                       2241 - Manuel Alonso           799     18211.55   \n",
       "7                     2823 - 73307 Seung Lee          3664     68913.35   \n",
       "8                 1408 - 89599 Donald Barnes          1462     27557.45   \n",
       "9                           2823 - Seung Lee           335      5757.15   \n",
       "\n",
       "   fare_mean  tips_mean  miles_mean  duration_mean  \n",
       "0  38.875000   0.000000   14.050000      32.500000  \n",
       "1  33.556982   3.236222   13.418686      30.934292  \n",
       "2  32.105527   4.036771    1.676139      30.617205  \n",
       "3  29.719072   4.833797   11.277835      30.489691  \n",
       "4  26.409735   4.136921   11.123114      29.449696  \n",
       "5  25.024557   3.908499    8.728445      25.887449  \n",
       "6  22.792929   2.768185    9.787735      25.702128  \n",
       "7  18.808229   2.353450    7.336326      21.588155  \n",
       "8  18.849145   1.960178    7.704172      21.176471  \n",
       "9  17.185522   1.231493    6.712239      20.731343  "
      ]
     },
     "execution_count": 81,
     "metadata": {},
     "output_type": "execute_result"
    }
   ],
   "source": [
    "company_duration_mean = df_company.sort('duration_mean',ascending=False).limit(10).toPandas()\n",
    "company_duration_mean"
   ]
  },
  {
   "cell_type": "code",
   "execution_count": 82,
   "metadata": {},
   "outputs": [
    {
     "data": {
      "image/png": "[encoded data removed]",
      "text/plain": [
       "<Figure size 720x432 with 1 Axes>"
      ]
     },
     "metadata": {
      "needs_background": "light"
     },
     "output_type": "display_data"
    }
   ],
   "source": [
    "f, axes = plt.subplots(sharey=True, figsize=(10, 6))\n",
    "sns.barplot(x=company_duration_mean[\"company\"],\n",
    "            y=company_duration_mean['duration_mean']).set_title('TOP 10 Longest Trips (minutes) by Company')\n",
    "axes.set_xticklabels(axes.get_xticklabels(), rotation = 60);"
   ]
  },
  {
   "cell_type": "markdown",
   "metadata": {},
   "source": [
    "Except \"Blue Ribbon Taxi Association Inc. the rest of the companies that collect the most, that make the most trips, that hahave highest mean fares, that make the longest trips are not among the 10 companies with the highest average fare."
   ]
  }
 ],
 "metadata": {
  "colab": {
   "collapsed_sections": [],
   "name": "python_workshop.ipynb",
   "provenance": [],
   "version": "0.3.2"
  },
  "kernelspec": {
   "display_name": "Python 3",
   "language": "python",
   "name": "python3"
  },
  "language_info": {
   "codemirror_mode": {
    "name": "ipython",
    "version": 3
   },
   "file_extension": ".py",
   "mimetype": "text/x-python",
   "name": "python",
   "nbconvert_exporter": "python",
   "pygments_lexer": "ipython3",
   "version": "3.6.8"
  },
  "toc": {
   "base_numbering": 1,
   "nav_menu": {},
   "number_sections": true,
   "sideBar": true,
   "skip_h1_title": false,
   "title_cell": "Table of Contents",
   "title_sidebar": "Contents",
   "toc_cell": false,
   "toc_position": {},
   "toc_section_display": true,
   "toc_window_display": false
  }
 },
 "nbformat": 4,
 "nbformat_minor": 1
}
