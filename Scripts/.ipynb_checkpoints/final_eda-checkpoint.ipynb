{
 "cells": [
  {
   "cell_type": "markdown",
   "metadata": {
    "colab_type": "text",
    "id": "udmNndH9-E5H"
   },
   "source": [
    "# Initial Exploratory Taxi Trip DataSet\n",
    "\n",
    "The objective of this notebook is to carry out a final analysis of the taxi trips in Chicago together with the dataset of the weather in Chicago and eliminate possible trips that have erroneous data and have not been eliminated in the previous filters."
   ]
  },
  {
   "cell_type": "markdown",
   "metadata": {},
   "source": [
    "## Chicago Coordinates \n",
    "-87.6244212, 41.8755616"
   ]
  },
  {
   "cell_type": "markdown",
   "metadata": {},
   "source": [
    "## 1 Create our environment"
   ]
  },
  {
   "cell_type": "markdown",
   "metadata": {},
   "source": [
    "In this section we are going to create the Spark session"
   ]
  },
  {
   "cell_type": "code",
   "execution_count": 1,
   "metadata": {},
   "outputs": [],
   "source": [
    "import findspark\n",
    "findspark.init()"
   ]
  },
  {
   "cell_type": "code",
   "execution_count": 2,
   "metadata": {},
   "outputs": [],
   "source": [
    "from pyspark.sql import SparkSession, SQLContext\n",
    "from pyspark import SparkConf, SparkContext"
   ]
  },
  {
   "cell_type": "code",
   "execution_count": 3,
   "metadata": {},
   "outputs": [],
   "source": [
    "sc_conf = SparkConf()"
   ]
  },
  {
   "cell_type": "code",
   "execution_count": 4,
   "metadata": {},
   "outputs": [
    {
     "data": {
      "text/plain": [
       "<pyspark.conf.SparkConf at 0x1122c1c50>"
      ]
     },
     "execution_count": 4,
     "metadata": {},
     "output_type": "execute_result"
    }
   ],
   "source": [
    "sc_conf.set('spark.driver.port', '62678')\n",
    "sc_conf.set('spark.rdd.compress', 'True')\n",
    "sc_conf.set('spark.driver.host', '127.0.0.1')\n",
    "sc_conf.set('spark.serializer.objectStreamReset', '100')\n",
    "sc_conf.set('spark.master', 'local[*]')\n",
    "sc_conf.set('spark.executor.id', 'driver')\n",
    "sc_conf.set('spark.submit.deployMode', 'client')\n",
    "sc_conf.set('spark.ui.showConsoleProgress', 'true')\n",
    "sc_conf.set('spark.app.name', 'pyspark-shell')\n",
    "sc_conf.set(\"spark.executor.memory\",\"6g\")\n",
    "sc_conf.set(\"spark.driver.memory\",\"6g\")"
   ]
  },
  {
   "cell_type": "code",
   "execution_count": 5,
   "metadata": {},
   "outputs": [
    {
     "data": {
      "text/plain": [
       "dict_items([('spark.driver.port', '62678'), ('spark.rdd.compress', 'True'), ('spark.driver.host', '127.0.0.1'), ('spark.serializer.objectStreamReset', '100'), ('spark.master', 'local[*]'), ('spark.executor.id', 'driver'), ('spark.submit.deployMode', 'client'), ('spark.ui.showConsoleProgress', 'true'), ('spark.app.name', 'pyspark-shell'), ('spark.executor.memory', '6g'), ('spark.driver.memory', '6g')])"
      ]
     },
     "execution_count": 5,
     "metadata": {},
     "output_type": "execute_result"
    }
   ],
   "source": [
    "sc_conf.getAll()"
   ]
  },
  {
   "cell_type": "code",
   "execution_count": 6,
   "metadata": {},
   "outputs": [],
   "source": [
    "sc = SparkContext(conf=sc_conf)"
   ]
  },
  {
   "cell_type": "code",
   "execution_count": 7,
   "metadata": {},
   "outputs": [],
   "source": [
    "sql = SQLContext(sc)"
   ]
  },
  {
   "cell_type": "code",
   "execution_count": 8,
   "metadata": {},
   "outputs": [
    {
     "data": {
      "text/html": [
       "\n",
       "            <div>\n",
       "                <p><b>SparkSession - in-memory</b></p>\n",
       "                \n",
       "        <div>\n",
       "            <p><b>SparkContext</b></p>\n",
       "\n",
       "            <p><a href=\"http://127.0.0.1:4040\">Spark UI</a></p>\n",
       "\n",
       "            <dl>\n",
       "              <dt>Version</dt>\n",
       "                <dd><code>v2.4.0</code></dd>\n",
       "              <dt>Master</dt>\n",
       "                <dd><code>local[*]</code></dd>\n",
       "              <dt>AppName</dt>\n",
       "                <dd><code>pyspark-shell</code></dd>\n",
       "            </dl>\n",
       "        </div>\n",
       "        \n",
       "            </div>\n",
       "        "
      ],
      "text/plain": [
       "<pyspark.sql.session.SparkSession at 0x11f274128>"
      ]
     },
     "execution_count": 8,
     "metadata": {},
     "output_type": "execute_result"
    }
   ],
   "source": [
    "session = sql.sparkSession\n",
    "session"
   ]
  },
  {
   "cell_type": "code",
   "execution_count": 9,
   "metadata": {},
   "outputs": [
    {
     "data": {
      "text/plain": [
       "[('spark.executor.memory', '6g'),\n",
       " ('spark.driver.port', '62678'),\n",
       " ('spark.driver.host', '127.0.0.1'),\n",
       " ('spark.driver.memory', '6g'),\n",
       " ('spark.rdd.compress', 'True'),\n",
       " ('spark.serializer.objectStreamReset', '100'),\n",
       " ('spark.master', 'local[*]'),\n",
       " ('spark.executor.id', 'driver'),\n",
       " ('spark.submit.deployMode', 'client'),\n",
       " ('spark.ui.showConsoleProgress', 'true'),\n",
       " ('spark.app.name', 'pyspark-shell'),\n",
       " ('spark.app.id', 'local-1557775041619')]"
      ]
     },
     "execution_count": 9,
     "metadata": {},
     "output_type": "execute_result"
    }
   ],
   "source": [
    "session.sparkContext.getConf().getAll()"
   ]
  },
  {
   "cell_type": "markdown",
   "metadata": {},
   "source": [
    "## 2 Load the libraries"
   ]
  },
  {
   "cell_type": "code",
   "execution_count": 10,
   "metadata": {},
   "outputs": [],
   "source": [
    "# We load the libraries we are going to use in our analysis\n",
    "%matplotlib inline\n",
    "\n",
    "import shutil\n",
    "import os \n",
    "from pyspark.sql import SparkSession\n",
    "from pyspark.sql.types import *\n",
    "from pyspark.sql import functions as F\n",
    "from pyspark.sql import types as T\n",
    "from pyspark.ml.feature import StringIndexer\n",
    "from pyspark.mllib.stat import Statistics\n",
    "from pyspark.mllib.linalg import Vectors\n",
    "import pandas as pd\n",
    "import numpy as np\n",
    "import matplotlib.pyplot as plt\n",
    "import seaborn as sns\n",
    "pd.options.display.max_columns = None"
   ]
  },
  {
   "cell_type": "markdown",
   "metadata": {
    "colab_type": "text",
    "id": "Ny3gv2lV-E5P"
   },
   "source": [
    "## 3 Read the data"
   ]
  },
  {
   "cell_type": "markdown",
   "metadata": {},
   "source": [
    "In this section what we are going to do is to load the datasets of Chicago Taxi Trips and Chicago Weather."
   ]
  },
  {
   "cell_type": "markdown",
   "metadata": {},
   "source": [
    "### 2.1 Taxi trips"
   ]
  },
  {
   "cell_type": "code",
   "execution_count": 11,
   "metadata": {},
   "outputs": [],
   "source": [
    "# Before loading our dataset, we define the type of fields it has \n",
    "taxi_schema = StructType([\n",
    "    StructField(\"trip_id\", StringType(), nullable = True),\n",
    "    StructField(\"taxi_id\", StringType(), nullable = True),\n",
    "    StructField(\"trip_start_timestamp\", TimestampType(), nullable = True),\n",
    "    StructField(\"trip_end_timestamp\", TimestampType(), nullable = True),\n",
    "    StructField(\"trip_seconds\", IntegerType(), nullable = True),\n",
    "    StructField(\"trip_miles\", DoubleType(), nullable = True),\n",
    "    StructField(\"pickup_community_area\", IntegerType(), nullable = True),\n",
    "    StructField(\"dropoff_community_area\", IntegerType(), nullable = True),\n",
    "    StructField(\"fare\", DoubleType(), nullable = True),\n",
    "    StructField(\"tips\", DoubleType(), nullable = True),\n",
    "    StructField(\"tolls\", DoubleType(), nullable = True),\n",
    "    StructField(\"extras\", DoubleType(), nullable = True),\n",
    "    StructField(\"trip_total\", DoubleType(), nullable = True),\n",
    "    StructField(\"payment_type\", StringType(), nullable = True),\n",
    "    StructField(\"company\", StringType(), nullable = True),\n",
    "    StructField(\"pickup_centroid_latitude\", DoubleType(), nullable = True),\n",
    "    StructField(\"pickup_centroid_longitude\", DoubleType(), nullable = True),\n",
    "    StructField(\"dropoff_centroid_latitude\", DoubleType(), nullable = True),\n",
    "    StructField(\"dropoff_centroid_longitude\", DoubleType(), nullable = True)])"
   ]
  },
  {
   "cell_type": "code",
   "execution_count": 12,
   "metadata": {},
   "outputs": [],
   "source": [
    "# We load the data of Chicago Taxi Trips\n",
    "taxi_trips = session.read.csv('../Data/taxi_chicago_filter.csv',\n",
    "                              header=True,\n",
    "                              schema=taxi_schema)"
   ]
  },
  {
   "cell_type": "code",
   "execution_count": 13,
   "metadata": {},
   "outputs": [],
   "source": [
    "# We write our data in parquet and load it again\n",
    "taxi_trips.write.parquet(\"../Data/temp/taxi_trips.parquet\")\n",
    "taxi_trips = session.read.parquet(\"../Data/temp/taxi_trips.parquet\")"
   ]
  },
  {
   "cell_type": "markdown",
   "metadata": {},
   "source": [
    "#### 2.1.1 Check the correct load "
   ]
  },
  {
   "cell_type": "code",
   "execution_count": 14,
   "metadata": {},
   "outputs": [
    {
     "name": "stdout",
     "output_type": "stream",
     "text": [
      "+--------------------+--------------------+--------------------+-------------------+------------+----------+---------------------+----------------------+-----+----+-----+------+----------+------------+--------------------+------------------------+-------------------------+-------------------------+--------------------------+\n",
      "|             trip_id|             taxi_id|trip_start_timestamp| trip_end_timestamp|trip_seconds|trip_miles|pickup_community_area|dropoff_community_area| fare|tips|tolls|extras|trip_total|payment_type|             company|pickup_centroid_latitude|pickup_centroid_longitude|dropoff_centroid_latitude|dropoff_centroid_longitude|\n",
      "+--------------------+--------------------+--------------------+-------------------+------------+----------+---------------------+----------------------+-----+----+-----+------+----------+------------+--------------------+------------------------+-------------------------+-------------------------+--------------------------+\n",
      "|fd7ca20775773ffc5...|b597697c5b962a3f3...| 2015-12-11 08:00:00|2015-12-11 08:15:00|         300|       0.9|                    8|                    28| 5.65| 0.0|  0.0|   0.0|      5.65|        Cash|KOAM Taxi Associa...|             41.89321636|             -87.63784421|             41.885300022|             -87.642808466|\n",
      "|fd7ca2611fd6add8a...|b6881e07d2abb8b6a...| 2014-12-13 14:30:00|2014-12-13 15:00:00|        1860|      17.2|                    8|                    76|35.65| 7.5|  0.0|   2.0|     45.15| Credit Card|Taxi Affiliation ...|            41.892507781|            -87.626214906|              41.97907082|             -87.903039661|\n",
      "|fd7ca28deeef5b1e0...|159b1d5b970137f6b...| 2015-02-27 17:15:00|2015-02-27 18:00:00|        2820|      10.1|                   33|                    77|26.85|5.35|  0.0|   0.0|      32.2| Credit Card|Taxi Affiliation ...|            41.849246754|            -87.624135298|             41.979912445|             -87.664188242|\n",
      "|fd7ca2b529d9cddf0...|54fda80b28cfa29ae...| 2014-07-10 16:45:00|2014-07-10 17:15:00|        1620|       4.5|                   32|                     8|15.65| 0.0|  0.0|   0.0|     15.65|        Cash|Taxi Affiliation ...|            41.880994471|            -87.632746489|             41.892072635|             -87.628874157|\n",
      "|fd7ca2e384bc13759...|f3e9e9bb02a72ad6b...| 2015-04-21 19:45:00|2015-04-21 20:15:00|        1680|      10.0|                   76|                    15|22.25|7.25|  0.0|   2.0|      31.5| Credit Card|Northwest Managem...|            41.980264315|            -87.913624596|             41.954027649|             -87.763399032|\n",
      "+--------------------+--------------------+--------------------+-------------------+------------+----------+---------------------+----------------------+-----+----+-----+------+----------+------------+--------------------+------------------------+-------------------------+-------------------------+--------------------------+\n",
      "only showing top 5 rows\n",
      "\n"
     ]
    }
   ],
   "source": [
    "taxi_trips.show(5)"
   ]
  },
  {
   "cell_type": "code",
   "execution_count": null,
   "metadata": {},
   "outputs": [
    {
     "name": "stdout",
     "output_type": "stream",
     "text": [
      "root\n",
      " |-- trip_id: string (nullable = true)\n",
      " |-- taxi_id: string (nullable = true)\n",
      " |-- trip_start_timestamp: timestamp (nullable = true)\n",
      " |-- trip_end_timestamp: timestamp (nullable = true)\n",
      " |-- trip_seconds: integer (nullable = true)\n",
      " |-- trip_miles: double (nullable = true)\n",
      " |-- pickup_community_area: integer (nullable = true)\n",
      " |-- dropoff_community_area: integer (nullable = true)\n",
      " |-- fare: double (nullable = true)\n",
      " |-- tips: double (nullable = true)\n",
      " |-- tolls: double (nullable = true)\n",
      " |-- extras: double (nullable = true)\n",
      " |-- trip_total: double (nullable = true)\n",
      " |-- payment_type: string (nullable = true)\n",
      " |-- company: string (nullable = true)\n",
      " |-- pickup_centroid_latitude: double (nullable = true)\n",
      " |-- pickup_centroid_longitude: double (nullable = true)\n",
      " |-- dropoff_centroid_latitude: double (nullable = true)\n",
      " |-- dropoff_centroid_longitude: double (nullable = true)\n",
      "\n"
     ]
    }
   ],
   "source": [
    "# We check the columns types\n",
    "taxi_trips.printSchema()"
   ]
  },
  {
   "cell_type": "markdown",
   "metadata": {},
   "source": [
    "#### 2.1.2 Study the dimensions of the dataset"
   ]
  },
  {
   "cell_type": "code",
   "execution_count": null,
   "metadata": {},
   "outputs": [
    {
     "data": {
      "text/plain": [
       "29755922"
      ]
     },
     "execution_count": 16,
     "metadata": {},
     "output_type": "execute_result"
    }
   ],
   "source": [
    "taxi_trips.count()"
   ]
  },
  {
   "cell_type": "code",
   "execution_count": null,
   "metadata": {},
   "outputs": [
    {
     "data": {
      "text/plain": [
       "19"
      ]
     },
     "execution_count": 17,
     "metadata": {},
     "output_type": "execute_result"
    }
   ],
   "source": [
    "len(taxi_trips.columns)"
   ]
  },
  {
   "cell_type": "markdown",
   "metadata": {},
   "source": [
    "### 2.2 Chicago Weather"
   ]
  },
  {
   "cell_type": "code",
   "execution_count": null,
   "metadata": {},
   "outputs": [],
   "source": [
    "# Before loading our dataset, we define the type of fields it has \n",
    "weather_schema = StructType([\n",
    "    StructField(\"datetime\", TimestampType(), nullable = True),\n",
    "    StructField(\"humidity\", DoubleType(), nullable = True),\n",
    "    StructField(\"pressure\", DoubleType(), nullable = True),\n",
    "    StructField(\"temperature\", DoubleType(), nullable = True),\n",
    "    StructField(\"weather_description\", StringType(), nullable = True),\n",
    "    StructField(\"wind_direction\", DoubleType(), nullable = True),\n",
    "    StructField(\"wind_speed\", DoubleType(), nullable = True)])"
   ]
  },
  {
   "cell_type": "code",
   "execution_count": null,
   "metadata": {},
   "outputs": [],
   "source": [
    "# We load the data of Chicago Weather\n",
    "chicago_weather = session.read.csv('../Data/Chicago_weather.csv.gz',\n",
    "                              header=True,\n",
    "                              schema=weather_schema)"
   ]
  },
  {
   "cell_type": "code",
   "execution_count": null,
   "metadata": {},
   "outputs": [],
   "source": [
    "# We write our data in parquet and load it again\n",
    "chicago_weather.write.parquet(\"../Data/temp/chicago_weather.parquet\")\n",
    "chicago_weather = session.read.parquet(\"../Data/temp/chicago_weather.parquet\")"
   ]
  },
  {
   "cell_type": "markdown",
   "metadata": {},
   "source": [
    "#### 2.2.1 Check the correct load"
   ]
  },
  {
   "cell_type": "code",
   "execution_count": null,
   "metadata": {},
   "outputs": [
    {
     "name": "stdout",
     "output_type": "stream",
     "text": [
      "+-------------------+--------+--------+------------------+-------------------+--------------+----------+\n",
      "|           datetime|humidity|pressure|       temperature|weather_description|wind_direction|wind_speed|\n",
      "+-------------------+--------+--------+------------------+-------------------+--------------+----------+\n",
      "|2012-10-01 13:00:00|    71.0|  1014.0|            284.01|    overcast clouds|           0.0|       0.0|\n",
      "|2012-10-01 14:00:00|    70.0|  1014.0|284.05469097400004|    overcast clouds|           0.0|       0.0|\n",
      "|2012-10-01 15:00:00|    70.0|  1014.0|     284.177412183|    overcast clouds|           0.0|       0.0|\n",
      "|2012-10-01 16:00:00|    70.0|  1014.0|     284.300133393|    overcast clouds|           0.0|       0.0|\n",
      "|2012-10-01 17:00:00|    69.0|  1014.0|284.42285460200003|    overcast clouds|           0.0|       0.0|\n",
      "+-------------------+--------+--------+------------------+-------------------+--------------+----------+\n",
      "only showing top 5 rows\n",
      "\n"
     ]
    }
   ],
   "source": [
    "chicago_weather.show(5)"
   ]
  },
  {
   "cell_type": "code",
   "execution_count": null,
   "metadata": {},
   "outputs": [
    {
     "name": "stdout",
     "output_type": "stream",
     "text": [
      "root\n",
      " |-- datetime: timestamp (nullable = true)\n",
      " |-- humidity: double (nullable = true)\n",
      " |-- pressure: double (nullable = true)\n",
      " |-- temperature: double (nullable = true)\n",
      " |-- weather_description: string (nullable = true)\n",
      " |-- wind_direction: double (nullable = true)\n",
      " |-- wind_speed: double (nullable = true)\n",
      "\n"
     ]
    }
   ],
   "source": [
    "# We check the columns types\n",
    "chicago_weather.printSchema()"
   ]
  },
  {
   "cell_type": "markdown",
   "metadata": {},
   "source": [
    "#### 2.2.2 Study the dimensions of the dataset"
   ]
  },
  {
   "cell_type": "code",
   "execution_count": null,
   "metadata": {},
   "outputs": [
    {
     "data": {
      "text/plain": [
       "45252"
      ]
     },
     "execution_count": 23,
     "metadata": {},
     "output_type": "execute_result"
    }
   ],
   "source": [
    "chicago_weather.count()"
   ]
  },
  {
   "cell_type": "code",
   "execution_count": null,
   "metadata": {},
   "outputs": [
    {
     "data": {
      "text/plain": [
       "7"
      ]
     },
     "execution_count": 24,
     "metadata": {},
     "output_type": "execute_result"
    }
   ],
   "source": [
    "len(chicago_weather.columns)"
   ]
  },
  {
   "cell_type": "markdown",
   "metadata": {},
   "source": [
    "## 3 Join both Dataset"
   ]
  },
  {
   "cell_type": "markdown",
   "metadata": {},
   "source": [
    "In this section what we are going to join the datasets of Chicago Taxi Trips and Chicago Weather."
   ]
  },
  {
   "cell_type": "markdown",
   "metadata": {},
   "source": [
    "### 3.1 Define the keys to join both dataset"
   ]
  },
  {
   "cell_type": "markdown",
   "metadata": {},
   "source": [
    "#### 3.1.1 Taxi Trips"
   ]
  },
  {
   "cell_type": "code",
   "execution_count": null,
   "metadata": {},
   "outputs": [],
   "source": [
    "# We create a computed field from column 'trip_start_timestamp' and convert it to string format with the aim of \n",
    "# then crossing by year, month, day and hour with the weather dataset\n",
    "taxi_trips = taxi_trips.withColumn(\"AUX_trip_start_timestamp\",\n",
    "                                   F.col(\"trip_start_timestamp\").cast(T.StringType()))"
   ]
  },
  {
   "cell_type": "markdown",
   "metadata": {},
   "source": [
    "#### 3.1.2 Weather"
   ]
  },
  {
   "cell_type": "code",
   "execution_count": null,
   "metadata": {},
   "outputs": [],
   "source": [
    "# We create a computed field from column 'datetime' and convert it to string format with the aim of \n",
    "# then crossing by year, month, day and hour with the traxi_trips dataset\n",
    "chicago_weather = chicago_weather.withColumn(\"AUX_datetime\",\n",
    "                                             F.col(\"datetime\").cast(T.StringType()))"
   ]
  },
  {
   "cell_type": "markdown",
   "metadata": {},
   "source": [
    "### 3.2 Join both Datasets"
   ]
  },
  {
   "cell_type": "code",
   "execution_count": null,
   "metadata": {},
   "outputs": [],
   "source": [
    "# We cross both datasets by year, month, day and hour\n",
    "taxi_trips = taxi_trips.join(chicago_weather,\n",
    "                             on=F.col('AUX_trip_start_timestamp')[0:13]==F.col('AUX_datetime')[0:13],\n",
    "                             how='left_outer')"
   ]
  },
  {
   "cell_type": "markdown",
   "metadata": {},
   "source": [
    "#### 3.2.1 Check the correct join of the data"
   ]
  },
  {
   "cell_type": "code",
   "execution_count": null,
   "metadata": {},
   "outputs": [
    {
     "data": {
      "text/plain": [
       "29760901"
      ]
     },
     "execution_count": 28,
     "metadata": {},
     "output_type": "execute_result"
    }
   ],
   "source": [
    "taxi_trips.count()"
   ]
  },
  {
   "cell_type": "markdown",
   "metadata": {},
   "source": [
    "After the join, there have been generated duplicates that we must eliminate"
   ]
  },
  {
   "cell_type": "code",
   "execution_count": null,
   "metadata": {},
   "outputs": [
    {
     "data": {
      "text/plain": [
       "28"
      ]
     },
     "execution_count": 29,
     "metadata": {},
     "output_type": "execute_result"
    }
   ],
   "source": [
    "len(taxi_trips.columns)"
   ]
  },
  {
   "cell_type": "code",
   "execution_count": null,
   "metadata": {},
   "outputs": [
    {
     "data": {
      "text/html": [
       "<div>\n",
       "<style scoped>\n",
       "    .dataframe tbody tr th:only-of-type {\n",
       "        vertical-align: middle;\n",
       "    }\n",
       "\n",
       "    .dataframe tbody tr th {\n",
       "        vertical-align: top;\n",
       "    }\n",
       "\n",
       "    .dataframe thead th {\n",
       "        text-align: right;\n",
       "    }\n",
       "</style>\n",
       "<table border=\"1\" class=\"dataframe\">\n",
       "  <thead>\n",
       "    <tr style=\"text-align: right;\">\n",
       "      <th></th>\n",
       "      <th>trip_id</th>\n",
       "      <th>taxi_id</th>\n",
       "      <th>trip_start_timestamp</th>\n",
       "      <th>trip_end_timestamp</th>\n",
       "      <th>trip_seconds</th>\n",
       "      <th>trip_miles</th>\n",
       "      <th>pickup_community_area</th>\n",
       "      <th>dropoff_community_area</th>\n",
       "      <th>fare</th>\n",
       "      <th>tips</th>\n",
       "      <th>tolls</th>\n",
       "      <th>extras</th>\n",
       "      <th>trip_total</th>\n",
       "      <th>payment_type</th>\n",
       "      <th>company</th>\n",
       "      <th>pickup_centroid_latitude</th>\n",
       "      <th>pickup_centroid_longitude</th>\n",
       "      <th>dropoff_centroid_latitude</th>\n",
       "      <th>dropoff_centroid_longitude</th>\n",
       "      <th>AUX_trip_start_timestamp</th>\n",
       "      <th>datetime</th>\n",
       "      <th>humidity</th>\n",
       "      <th>pressure</th>\n",
       "      <th>temperature</th>\n",
       "      <th>weather_description</th>\n",
       "      <th>wind_direction</th>\n",
       "      <th>wind_speed</th>\n",
       "      <th>AUX_datetime</th>\n",
       "    </tr>\n",
       "  </thead>\n",
       "  <tbody>\n",
       "    <tr>\n",
       "      <th>0</th>\n",
       "      <td>fd7ca20775773ffc5426f012bb13a8e39b21d5ba</td>\n",
       "      <td>b597697c5b962a3f36ed67d274ec82ed1b72232c537b5a...</td>\n",
       "      <td>2015-12-11 08:00:00</td>\n",
       "      <td>2015-12-11 08:15:00</td>\n",
       "      <td>300</td>\n",
       "      <td>0.9</td>\n",
       "      <td>8</td>\n",
       "      <td>28</td>\n",
       "      <td>5.65</td>\n",
       "      <td>0.00</td>\n",
       "      <td>0.0</td>\n",
       "      <td>0.0</td>\n",
       "      <td>5.65</td>\n",
       "      <td>Cash</td>\n",
       "      <td>KOAM Taxi Association</td>\n",
       "      <td>41.893216</td>\n",
       "      <td>-87.637844</td>\n",
       "      <td>41.885300</td>\n",
       "      <td>-87.642808</td>\n",
       "      <td>2015-12-11 08:00:00</td>\n",
       "      <td>2015-12-11 08:00:00</td>\n",
       "      <td>61.0</td>\n",
       "      <td>1005.0</td>\n",
       "      <td>280.940000</td>\n",
       "      <td>sky is clear</td>\n",
       "      <td>220.0</td>\n",
       "      <td>2.0</td>\n",
       "      <td>2015-12-11 08:00:00</td>\n",
       "    </tr>\n",
       "    <tr>\n",
       "      <th>1</th>\n",
       "      <td>fd7ca2611fd6add8ab90cfa53d24867f72a3c63c</td>\n",
       "      <td>b6881e07d2abb8b6adb5a0962079be3ed8f197afc8127e...</td>\n",
       "      <td>2014-12-13 14:30:00</td>\n",
       "      <td>2014-12-13 15:00:00</td>\n",
       "      <td>1860</td>\n",
       "      <td>17.2</td>\n",
       "      <td>8</td>\n",
       "      <td>76</td>\n",
       "      <td>35.65</td>\n",
       "      <td>7.50</td>\n",
       "      <td>0.0</td>\n",
       "      <td>2.0</td>\n",
       "      <td>45.15</td>\n",
       "      <td>Credit Card</td>\n",
       "      <td>Taxi Affiliation Services</td>\n",
       "      <td>41.892508</td>\n",
       "      <td>-87.626215</td>\n",
       "      <td>41.979071</td>\n",
       "      <td>-87.903040</td>\n",
       "      <td>2014-12-13 14:30:00</td>\n",
       "      <td>2014-12-13 14:00:00</td>\n",
       "      <td>100.0</td>\n",
       "      <td>1037.0</td>\n",
       "      <td>276.479667</td>\n",
       "      <td>scattered clouds</td>\n",
       "      <td>239.0</td>\n",
       "      <td>4.0</td>\n",
       "      <td>2014-12-13 14:00:00</td>\n",
       "    </tr>\n",
       "    <tr>\n",
       "      <th>2</th>\n",
       "      <td>fd7ca28deeef5b1e011d953f132d1363c73f6cb7</td>\n",
       "      <td>159b1d5b970137f6b7afee927fd34913c2dfafe07f4f63...</td>\n",
       "      <td>2015-02-27 17:15:00</td>\n",
       "      <td>2015-02-27 18:00:00</td>\n",
       "      <td>2820</td>\n",
       "      <td>10.1</td>\n",
       "      <td>33</td>\n",
       "      <td>77</td>\n",
       "      <td>26.85</td>\n",
       "      <td>5.35</td>\n",
       "      <td>0.0</td>\n",
       "      <td>0.0</td>\n",
       "      <td>32.20</td>\n",
       "      <td>Credit Card</td>\n",
       "      <td>Taxi Affiliation Services</td>\n",
       "      <td>41.849247</td>\n",
       "      <td>-87.624135</td>\n",
       "      <td>41.979912</td>\n",
       "      <td>-87.664188</td>\n",
       "      <td>2015-02-27 17:15:00</td>\n",
       "      <td>2015-02-27 17:00:00</td>\n",
       "      <td>96.0</td>\n",
       "      <td>1051.0</td>\n",
       "      <td>259.549000</td>\n",
       "      <td>sky is clear</td>\n",
       "      <td>287.0</td>\n",
       "      <td>3.0</td>\n",
       "      <td>2015-02-27 17:00:00</td>\n",
       "    </tr>\n",
       "    <tr>\n",
       "      <th>3</th>\n",
       "      <td>fd7ca2b529d9cddf08e914e9ab9149d192618507</td>\n",
       "      <td>54fda80b28cfa29ae2fcd9bfee10b6ab21f4530e1d883a...</td>\n",
       "      <td>2014-07-10 16:45:00</td>\n",
       "      <td>2014-07-10 17:15:00</td>\n",
       "      <td>1620</td>\n",
       "      <td>4.5</td>\n",
       "      <td>32</td>\n",
       "      <td>8</td>\n",
       "      <td>15.65</td>\n",
       "      <td>0.00</td>\n",
       "      <td>0.0</td>\n",
       "      <td>0.0</td>\n",
       "      <td>15.65</td>\n",
       "      <td>Cash</td>\n",
       "      <td>Taxi Affiliation Services</td>\n",
       "      <td>41.880994</td>\n",
       "      <td>-87.632746</td>\n",
       "      <td>41.892073</td>\n",
       "      <td>-87.628874</td>\n",
       "      <td>2014-07-10 16:45:00</td>\n",
       "      <td>2014-07-10 16:00:00</td>\n",
       "      <td>60.0</td>\n",
       "      <td>1022.0</td>\n",
       "      <td>296.600000</td>\n",
       "      <td>broken clouds</td>\n",
       "      <td>0.0</td>\n",
       "      <td>3.0</td>\n",
       "      <td>2014-07-10 16:00:00</td>\n",
       "    </tr>\n",
       "    <tr>\n",
       "      <th>4</th>\n",
       "      <td>fd7ca2e384bc137591760eb9fe5804b563e3e26c</td>\n",
       "      <td>f3e9e9bb02a72ad6b998d51c08c17c6791a929a1a8d61d...</td>\n",
       "      <td>2015-04-21 19:45:00</td>\n",
       "      <td>2015-04-21 20:15:00</td>\n",
       "      <td>1680</td>\n",
       "      <td>10.0</td>\n",
       "      <td>76</td>\n",
       "      <td>15</td>\n",
       "      <td>22.25</td>\n",
       "      <td>7.25</td>\n",
       "      <td>0.0</td>\n",
       "      <td>2.0</td>\n",
       "      <td>31.50</td>\n",
       "      <td>Credit Card</td>\n",
       "      <td>Northwest Management LLC</td>\n",
       "      <td>41.980264</td>\n",
       "      <td>-87.913625</td>\n",
       "      <td>41.954028</td>\n",
       "      <td>-87.763399</td>\n",
       "      <td>2015-04-21 19:45:00</td>\n",
       "      <td>2015-04-21 19:00:00</td>\n",
       "      <td>69.0</td>\n",
       "      <td>1016.0</td>\n",
       "      <td>280.485667</td>\n",
       "      <td>broken clouds</td>\n",
       "      <td>265.0</td>\n",
       "      <td>8.0</td>\n",
       "      <td>2015-04-21 19:00:00</td>\n",
       "    </tr>\n",
       "  </tbody>\n",
       "</table>\n",
       "</div>"
      ],
      "text/plain": [
       "                                    trip_id  \\\n",
       "0  fd7ca20775773ffc5426f012bb13a8e39b21d5ba   \n",
       "1  fd7ca2611fd6add8ab90cfa53d24867f72a3c63c   \n",
       "2  fd7ca28deeef5b1e011d953f132d1363c73f6cb7   \n",
       "3  fd7ca2b529d9cddf08e914e9ab9149d192618507   \n",
       "4  fd7ca2e384bc137591760eb9fe5804b563e3e26c   \n",
       "\n",
       "                                             taxi_id trip_start_timestamp  \\\n",
       "0  b597697c5b962a3f36ed67d274ec82ed1b72232c537b5a...  2015-12-11 08:00:00   \n",
       "1  b6881e07d2abb8b6adb5a0962079be3ed8f197afc8127e...  2014-12-13 14:30:00   \n",
       "2  159b1d5b970137f6b7afee927fd34913c2dfafe07f4f63...  2015-02-27 17:15:00   \n",
       "3  54fda80b28cfa29ae2fcd9bfee10b6ab21f4530e1d883a...  2014-07-10 16:45:00   \n",
       "4  f3e9e9bb02a72ad6b998d51c08c17c6791a929a1a8d61d...  2015-04-21 19:45:00   \n",
       "\n",
       "   trip_end_timestamp  trip_seconds  trip_miles  pickup_community_area  \\\n",
       "0 2015-12-11 08:15:00           300         0.9                      8   \n",
       "1 2014-12-13 15:00:00          1860        17.2                      8   \n",
       "2 2015-02-27 18:00:00          2820        10.1                     33   \n",
       "3 2014-07-10 17:15:00          1620         4.5                     32   \n",
       "4 2015-04-21 20:15:00          1680        10.0                     76   \n",
       "\n",
       "   dropoff_community_area   fare  tips  tolls  extras  trip_total  \\\n",
       "0                      28   5.65  0.00    0.0     0.0        5.65   \n",
       "1                      76  35.65  7.50    0.0     2.0       45.15   \n",
       "2                      77  26.85  5.35    0.0     0.0       32.20   \n",
       "3                       8  15.65  0.00    0.0     0.0       15.65   \n",
       "4                      15  22.25  7.25    0.0     2.0       31.50   \n",
       "\n",
       "  payment_type                    company  pickup_centroid_latitude  \\\n",
       "0         Cash      KOAM Taxi Association                 41.893216   \n",
       "1  Credit Card  Taxi Affiliation Services                 41.892508   \n",
       "2  Credit Card  Taxi Affiliation Services                 41.849247   \n",
       "3         Cash  Taxi Affiliation Services                 41.880994   \n",
       "4  Credit Card   Northwest Management LLC                 41.980264   \n",
       "\n",
       "   pickup_centroid_longitude  dropoff_centroid_latitude  \\\n",
       "0                 -87.637844                  41.885300   \n",
       "1                 -87.626215                  41.979071   \n",
       "2                 -87.624135                  41.979912   \n",
       "3                 -87.632746                  41.892073   \n",
       "4                 -87.913625                  41.954028   \n",
       "\n",
       "   dropoff_centroid_longitude AUX_trip_start_timestamp            datetime  \\\n",
       "0                  -87.642808      2015-12-11 08:00:00 2015-12-11 08:00:00   \n",
       "1                  -87.903040      2014-12-13 14:30:00 2014-12-13 14:00:00   \n",
       "2                  -87.664188      2015-02-27 17:15:00 2015-02-27 17:00:00   \n",
       "3                  -87.628874      2014-07-10 16:45:00 2014-07-10 16:00:00   \n",
       "4                  -87.763399      2015-04-21 19:45:00 2015-04-21 19:00:00   \n",
       "\n",
       "   humidity  pressure  temperature weather_description  wind_direction  \\\n",
       "0      61.0    1005.0   280.940000        sky is clear           220.0   \n",
       "1     100.0    1037.0   276.479667    scattered clouds           239.0   \n",
       "2      96.0    1051.0   259.549000        sky is clear           287.0   \n",
       "3      60.0    1022.0   296.600000       broken clouds             0.0   \n",
       "4      69.0    1016.0   280.485667       broken clouds           265.0   \n",
       "\n",
       "   wind_speed         AUX_datetime  \n",
       "0         2.0  2015-12-11 08:00:00  \n",
       "1         4.0  2014-12-13 14:00:00  \n",
       "2         3.0  2015-02-27 17:00:00  \n",
       "3         3.0  2014-07-10 16:00:00  \n",
       "4         8.0  2015-04-21 19:00:00  "
      ]
     },
     "execution_count": 30,
     "metadata": {},
     "output_type": "execute_result"
    }
   ],
   "source": [
    "taxi_trips.limit(5).toPandas()"
   ]
  },
  {
   "cell_type": "markdown",
   "metadata": {},
   "source": [
    "#### 3.2.2 Drop  duplicate trips after the join"
   ]
  },
  {
   "cell_type": "code",
   "execution_count": null,
   "metadata": {},
   "outputs": [],
   "source": [
    "# We drop the duplicates generated. For that we select the axes \n",
    "taxi_trips = taxi_trips.dropDuplicates(['trip_id',\n",
    "                                        'taxi_id',\n",
    "                                        'trip_start_timestamp',\n",
    "                                        'trip_end_timestamp',\n",
    "                                        'trip_seconds',\n",
    "                                        'trip_miles',\n",
    "                                        'pickup_community_area',\n",
    "                                        'dropoff_community_area',\n",
    "                                        'fare',\n",
    "                                        'tips',\n",
    "                                        'tolls',\n",
    "                                        'extras',\n",
    "                                        'trip_total',\n",
    "                                        'payment_type',\n",
    "                                        'company',\n",
    "                                        'pickup_centroid_latitude',\n",
    "                                        'pickup_centroid_longitude',\n",
    "                                        'dropoff_centroid_latitude',\n",
    "                                        'dropoff_centroid_longitude'])"
   ]
  },
  {
   "cell_type": "code",
   "execution_count": null,
   "metadata": {},
   "outputs": [
    {
     "data": {
      "text/plain": [
       "29755922"
      ]
     },
     "execution_count": 32,
     "metadata": {},
     "output_type": "execute_result"
    }
   ],
   "source": [
    "# We find that duplicate trips have been eliminated\n",
    "taxi_trips.count()"
   ]
  },
  {
   "cell_type": "markdown",
   "metadata": {},
   "source": [
    "#### 3.2.2 Remove useless columns"
   ]
  },
  {
   "cell_type": "code",
   "execution_count": null,
   "metadata": {},
   "outputs": [
    {
     "data": {
      "text/plain": [
       "['trip_id',\n",
       " 'taxi_id',\n",
       " 'trip_start_timestamp',\n",
       " 'trip_end_timestamp',\n",
       " 'trip_seconds',\n",
       " 'trip_miles',\n",
       " 'pickup_community_area',\n",
       " 'dropoff_community_area',\n",
       " 'fare',\n",
       " 'tips',\n",
       " 'tolls',\n",
       " 'extras',\n",
       " 'trip_total',\n",
       " 'payment_type',\n",
       " 'company',\n",
       " 'pickup_centroid_latitude',\n",
       " 'pickup_centroid_longitude',\n",
       " 'dropoff_centroid_latitude',\n",
       " 'dropoff_centroid_longitude',\n",
       " 'AUX_trip_start_timestamp',\n",
       " 'datetime',\n",
       " 'humidity',\n",
       " 'pressure',\n",
       " 'temperature',\n",
       " 'weather_description',\n",
       " 'wind_direction',\n",
       " 'wind_speed',\n",
       " 'AUX_datetime']"
      ]
     },
     "execution_count": 33,
     "metadata": {},
     "output_type": "execute_result"
    }
   ],
   "source": [
    "#  We check the columns of the dataset\n",
    "taxi_trips.columns"
   ]
  },
  {
   "cell_type": "code",
   "execution_count": null,
   "metadata": {},
   "outputs": [],
   "source": [
    "#And we eliminate the ones that are duplicated\n",
    "taxi_trips = taxi_trips.drop('datetime',\n",
    "                             'AUX_datetime')"
   ]
  },
  {
   "cell_type": "markdown",
   "metadata": {},
   "source": [
    "#### 3.2.3 Check the dataset again"
   ]
  },
  {
   "cell_type": "code",
   "execution_count": null,
   "metadata": {},
   "outputs": [
    {
     "data": {
      "text/plain": [
       "26"
      ]
     },
     "execution_count": 35,
     "metadata": {},
     "output_type": "execute_result"
    }
   ],
   "source": [
    "len(taxi_trips.columns)"
   ]
  },
  {
   "cell_type": "code",
   "execution_count": null,
   "metadata": {},
   "outputs": [
    {
     "data": {
      "text/html": [
       "<div>\n",
       "<style scoped>\n",
       "    .dataframe tbody tr th:only-of-type {\n",
       "        vertical-align: middle;\n",
       "    }\n",
       "\n",
       "    .dataframe tbody tr th {\n",
       "        vertical-align: top;\n",
       "    }\n",
       "\n",
       "    .dataframe thead th {\n",
       "        text-align: right;\n",
       "    }\n",
       "</style>\n",
       "<table border=\"1\" class=\"dataframe\">\n",
       "  <thead>\n",
       "    <tr style=\"text-align: right;\">\n",
       "      <th></th>\n",
       "      <th>trip_id</th>\n",
       "      <th>taxi_id</th>\n",
       "      <th>trip_start_timestamp</th>\n",
       "      <th>trip_end_timestamp</th>\n",
       "      <th>trip_seconds</th>\n",
       "      <th>trip_miles</th>\n",
       "      <th>pickup_community_area</th>\n",
       "      <th>dropoff_community_area</th>\n",
       "      <th>fare</th>\n",
       "      <th>tips</th>\n",
       "      <th>tolls</th>\n",
       "      <th>extras</th>\n",
       "      <th>trip_total</th>\n",
       "      <th>payment_type</th>\n",
       "      <th>company</th>\n",
       "      <th>pickup_centroid_latitude</th>\n",
       "      <th>pickup_centroid_longitude</th>\n",
       "      <th>dropoff_centroid_latitude</th>\n",
       "      <th>dropoff_centroid_longitude</th>\n",
       "      <th>AUX_trip_start_timestamp</th>\n",
       "      <th>humidity</th>\n",
       "      <th>pressure</th>\n",
       "      <th>temperature</th>\n",
       "      <th>weather_description</th>\n",
       "      <th>wind_direction</th>\n",
       "      <th>wind_speed</th>\n",
       "    </tr>\n",
       "  </thead>\n",
       "  <tbody>\n",
       "    <tr>\n",
       "      <th>0</th>\n",
       "      <td>25aef066b51c7b4c370ce6d1fdd5384f67047c18</td>\n",
       "      <td>d092ee0cb44dc6fa5f6757a7ef07181c4ee3d25eed0bc4...</td>\n",
       "      <td>2014-03-16 01:30:00</td>\n",
       "      <td>2014-03-16 02:00:00</td>\n",
       "      <td>1800</td>\n",
       "      <td>16.1</td>\n",
       "      <td>32</td>\n",
       "      <td>54</td>\n",
       "      <td>58.25</td>\n",
       "      <td>0.0</td>\n",
       "      <td>0.0</td>\n",
       "      <td>4.5</td>\n",
       "      <td>62.75</td>\n",
       "      <td>Cash</td>\n",
       "      <td>Taxi Affiliation Services</td>\n",
       "      <td>41.878866</td>\n",
       "      <td>-87.625192</td>\n",
       "      <td>41.660136</td>\n",
       "      <td>-87.602848</td>\n",
       "      <td>2014-03-16 01:30:00</td>\n",
       "      <td>80.0</td>\n",
       "      <td>1023.0</td>\n",
       "      <td>272.190</td>\n",
       "      <td>overcast clouds</td>\n",
       "      <td>60.0</td>\n",
       "      <td>7.0</td>\n",
       "    </tr>\n",
       "    <tr>\n",
       "      <th>1</th>\n",
       "      <td>8cbdd8b93c1730da858467e69470f81d103fa66d</td>\n",
       "      <td>0b12c0f0c81641a43904bbce23657b88b23abf83aaaed6...</td>\n",
       "      <td>2014-11-22 09:45:00</td>\n",
       "      <td>2014-11-22 10:00:00</td>\n",
       "      <td>1260</td>\n",
       "      <td>17.8</td>\n",
       "      <td>28</td>\n",
       "      <td>54</td>\n",
       "      <td>35.85</td>\n",
       "      <td>0.0</td>\n",
       "      <td>0.0</td>\n",
       "      <td>0.0</td>\n",
       "      <td>35.85</td>\n",
       "      <td>Cash</td>\n",
       "      <td>Taxi Affiliation Services</td>\n",
       "      <td>41.874005</td>\n",
       "      <td>-87.663518</td>\n",
       "      <td>41.660136</td>\n",
       "      <td>-87.602848</td>\n",
       "      <td>2014-11-22 09:45:00</td>\n",
       "      <td>100.0</td>\n",
       "      <td>1034.0</td>\n",
       "      <td>275.616</td>\n",
       "      <td>light rain</td>\n",
       "      <td>208.0</td>\n",
       "      <td>9.0</td>\n",
       "    </tr>\n",
       "    <tr>\n",
       "      <th>2</th>\n",
       "      <td>b51cd2c700d637d9c7e834bb738cf8a1409fedd1</td>\n",
       "      <td>0b12c0f0c81641a43904bbce23657b88b23abf83aaaed6...</td>\n",
       "      <td>2016-03-06 09:30:00</td>\n",
       "      <td>2016-03-06 09:45:00</td>\n",
       "      <td>1140</td>\n",
       "      <td>18.1</td>\n",
       "      <td>28</td>\n",
       "      <td>54</td>\n",
       "      <td>44.25</td>\n",
       "      <td>0.0</td>\n",
       "      <td>0.0</td>\n",
       "      <td>0.0</td>\n",
       "      <td>44.25</td>\n",
       "      <td>Cash</td>\n",
       "      <td>Taxi Affiliation Services</td>\n",
       "      <td>41.874005</td>\n",
       "      <td>-87.663518</td>\n",
       "      <td>41.660136</td>\n",
       "      <td>-87.602848</td>\n",
       "      <td>2016-03-06 09:30:00</td>\n",
       "      <td>80.0</td>\n",
       "      <td>1025.0</td>\n",
       "      <td>274.150</td>\n",
       "      <td>overcast clouds</td>\n",
       "      <td>175.0</td>\n",
       "      <td>4.0</td>\n",
       "    </tr>\n",
       "    <tr>\n",
       "      <th>3</th>\n",
       "      <td>39846cf69124e7c3c6fb3add96e2fd6f180fc8b2</td>\n",
       "      <td>c6147dad19c7f61319ff0644f1b59ef2a077c3274fbb94...</td>\n",
       "      <td>2013-06-07 08:00:00</td>\n",
       "      <td>2013-06-07 08:30:00</td>\n",
       "      <td>1380</td>\n",
       "      <td>18.6</td>\n",
       "      <td>28</td>\n",
       "      <td>55</td>\n",
       "      <td>37.45</td>\n",
       "      <td>0.0</td>\n",
       "      <td>0.0</td>\n",
       "      <td>0.0</td>\n",
       "      <td>37.45</td>\n",
       "      <td>Cash</td>\n",
       "      <td>Dispatch Taxi Affiliation</td>\n",
       "      <td>41.874005</td>\n",
       "      <td>-87.663518</td>\n",
       "      <td>41.663671</td>\n",
       "      <td>-87.540936</td>\n",
       "      <td>2013-06-07 08:00:00</td>\n",
       "      <td>82.0</td>\n",
       "      <td>1012.0</td>\n",
       "      <td>285.950</td>\n",
       "      <td>light rain</td>\n",
       "      <td>53.0</td>\n",
       "      <td>2.0</td>\n",
       "    </tr>\n",
       "    <tr>\n",
       "      <th>4</th>\n",
       "      <td>56935737fc8af8ad8b71e0a118586d462bbb5608</td>\n",
       "      <td>fb318ecb67178004b27e8a37d5214da86679b46764daf8...</td>\n",
       "      <td>2016-03-18 13:45:00</td>\n",
       "      <td>2016-03-18 14:15:00</td>\n",
       "      <td>1800</td>\n",
       "      <td>20.9</td>\n",
       "      <td>32</td>\n",
       "      <td>55</td>\n",
       "      <td>51.50</td>\n",
       "      <td>0.0</td>\n",
       "      <td>0.0</td>\n",
       "      <td>0.0</td>\n",
       "      <td>51.50</td>\n",
       "      <td>Cash</td>\n",
       "      <td>Taxi Affiliation Services</td>\n",
       "      <td>41.878866</td>\n",
       "      <td>-87.625192</td>\n",
       "      <td>41.663671</td>\n",
       "      <td>-87.540936</td>\n",
       "      <td>2016-03-18 13:45:00</td>\n",
       "      <td>55.0</td>\n",
       "      <td>1018.0</td>\n",
       "      <td>275.200</td>\n",
       "      <td>sky is clear</td>\n",
       "      <td>280.0</td>\n",
       "      <td>7.0</td>\n",
       "    </tr>\n",
       "  </tbody>\n",
       "</table>\n",
       "</div>"
      ],
      "text/plain": [
       "                                    trip_id  \\\n",
       "0  25aef066b51c7b4c370ce6d1fdd5384f67047c18   \n",
       "1  8cbdd8b93c1730da858467e69470f81d103fa66d   \n",
       "2  b51cd2c700d637d9c7e834bb738cf8a1409fedd1   \n",
       "3  39846cf69124e7c3c6fb3add96e2fd6f180fc8b2   \n",
       "4  56935737fc8af8ad8b71e0a118586d462bbb5608   \n",
       "\n",
       "                                             taxi_id trip_start_timestamp  \\\n",
       "0  d092ee0cb44dc6fa5f6757a7ef07181c4ee3d25eed0bc4...  2014-03-16 01:30:00   \n",
       "1  0b12c0f0c81641a43904bbce23657b88b23abf83aaaed6...  2014-11-22 09:45:00   \n",
       "2  0b12c0f0c81641a43904bbce23657b88b23abf83aaaed6...  2016-03-06 09:30:00   \n",
       "3  c6147dad19c7f61319ff0644f1b59ef2a077c3274fbb94...  2013-06-07 08:00:00   \n",
       "4  fb318ecb67178004b27e8a37d5214da86679b46764daf8...  2016-03-18 13:45:00   \n",
       "\n",
       "   trip_end_timestamp  trip_seconds  trip_miles  pickup_community_area  \\\n",
       "0 2014-03-16 02:00:00          1800        16.1                     32   \n",
       "1 2014-11-22 10:00:00          1260        17.8                     28   \n",
       "2 2016-03-06 09:45:00          1140        18.1                     28   \n",
       "3 2013-06-07 08:30:00          1380        18.6                     28   \n",
       "4 2016-03-18 14:15:00          1800        20.9                     32   \n",
       "\n",
       "   dropoff_community_area   fare  tips  tolls  extras  trip_total  \\\n",
       "0                      54  58.25   0.0    0.0     4.5       62.75   \n",
       "1                      54  35.85   0.0    0.0     0.0       35.85   \n",
       "2                      54  44.25   0.0    0.0     0.0       44.25   \n",
       "3                      55  37.45   0.0    0.0     0.0       37.45   \n",
       "4                      55  51.50   0.0    0.0     0.0       51.50   \n",
       "\n",
       "  payment_type                    company  pickup_centroid_latitude  \\\n",
       "0         Cash  Taxi Affiliation Services                 41.878866   \n",
       "1         Cash  Taxi Affiliation Services                 41.874005   \n",
       "2         Cash  Taxi Affiliation Services                 41.874005   \n",
       "3         Cash  Dispatch Taxi Affiliation                 41.874005   \n",
       "4         Cash  Taxi Affiliation Services                 41.878866   \n",
       "\n",
       "   pickup_centroid_longitude  dropoff_centroid_latitude  \\\n",
       "0                 -87.625192                  41.660136   \n",
       "1                 -87.663518                  41.660136   \n",
       "2                 -87.663518                  41.660136   \n",
       "3                 -87.663518                  41.663671   \n",
       "4                 -87.625192                  41.663671   \n",
       "\n",
       "   dropoff_centroid_longitude AUX_trip_start_timestamp  humidity  pressure  \\\n",
       "0                  -87.602848      2014-03-16 01:30:00      80.0    1023.0   \n",
       "1                  -87.602848      2014-11-22 09:45:00     100.0    1034.0   \n",
       "2                  -87.602848      2016-03-06 09:30:00      80.0    1025.0   \n",
       "3                  -87.540936      2013-06-07 08:00:00      82.0    1012.0   \n",
       "4                  -87.540936      2016-03-18 13:45:00      55.0    1018.0   \n",
       "\n",
       "   temperature weather_description  wind_direction  wind_speed  \n",
       "0      272.190     overcast clouds            60.0         7.0  \n",
       "1      275.616          light rain           208.0         9.0  \n",
       "2      274.150     overcast clouds           175.0         4.0  \n",
       "3      285.950          light rain            53.0         2.0  \n",
       "4      275.200        sky is clear           280.0         7.0  "
      ]
     },
     "execution_count": 36,
     "metadata": {},
     "output_type": "execute_result"
    }
   ],
   "source": [
    "taxi_trips.limit(5).toPandas()"
   ]
  },
  {
   "cell_type": "code",
   "execution_count": null,
   "metadata": {},
   "outputs": [
    {
     "name": "stdout",
     "output_type": "stream",
     "text": [
      "root\n",
      " |-- trip_id: string (nullable = true)\n",
      " |-- taxi_id: string (nullable = true)\n",
      " |-- trip_start_timestamp: timestamp (nullable = true)\n",
      " |-- trip_end_timestamp: timestamp (nullable = true)\n",
      " |-- trip_seconds: integer (nullable = true)\n",
      " |-- trip_miles: double (nullable = true)\n",
      " |-- pickup_community_area: integer (nullable = true)\n",
      " |-- dropoff_community_area: integer (nullable = true)\n",
      " |-- fare: double (nullable = true)\n",
      " |-- tips: double (nullable = true)\n",
      " |-- tolls: double (nullable = true)\n",
      " |-- extras: double (nullable = true)\n",
      " |-- trip_total: double (nullable = true)\n",
      " |-- payment_type: string (nullable = true)\n",
      " |-- company: string (nullable = true)\n",
      " |-- pickup_centroid_latitude: double (nullable = true)\n",
      " |-- pickup_centroid_longitude: double (nullable = true)\n",
      " |-- dropoff_centroid_latitude: double (nullable = true)\n",
      " |-- dropoff_centroid_longitude: double (nullable = true)\n",
      " |-- AUX_trip_start_timestamp: string (nullable = true)\n",
      " |-- humidity: double (nullable = true)\n",
      " |-- pressure: double (nullable = true)\n",
      " |-- temperature: double (nullable = true)\n",
      " |-- weather_description: string (nullable = true)\n",
      " |-- wind_direction: double (nullable = true)\n",
      " |-- wind_speed: double (nullable = true)\n",
      "\n"
     ]
    }
   ],
   "source": [
    "taxi_trips.printSchema()"
   ]
  },
  {
   "cell_type": "code",
   "execution_count": null,
   "metadata": {},
   "outputs": [],
   "source": [
    "#We save the dataset in parquet and we load it again\n",
    "taxi_trips.write.parquet(\"../Data/temp/taxi_weather_trips.parquet\")\n",
    "taxi_trips = session.read.parquet(\"../Data/temp/taxi_weather_trips.parquet\")"
   ]
  },
  {
   "cell_type": "markdown",
   "metadata": {
    "colab_type": "text",
    "id": "LUspvkJU-E5w"
   },
   "source": [
    "## 4 Outliers"
   ]
  },
  {
   "cell_type": "markdown",
   "metadata": {},
   "source": [
    "In this section what we are going to do is to analyze the union of both datasets and filter those trips that have strange values.\n"
   ]
  },
  {
   "cell_type": "code",
   "execution_count": null,
   "metadata": {},
   "outputs": [],
   "source": [
    "# We are going to create the column speed in miles/h to analyze the trips which later we will eliminate\n",
    "taxi_trips = taxi_trips.withColumn(\"speed\",\n",
    "                                   3600*(F.col(\"trip_miles\")/F.col(\"trip_seconds\")).cast(T.FloatType()))"
   ]
  },
  {
   "cell_type": "markdown",
   "metadata": {},
   "source": [
    "### 4.1 Get the descriptive statistics of some variables"
   ]
  },
  {
   "cell_type": "code",
   "execution_count": null,
   "metadata": {},
   "outputs": [],
   "source": [
    "# We select the variables, we are going to analyze\n",
    "analysed_variables = ['trip_seconds',\n",
    "                      'trip_miles',\n",
    "                      'speed',\n",
    "                      'fare',\n",
    "                      'tips',\n",
    "                      'tolls',\n",
    "                      'extras',\n",
    "                      'trip_total',\n",
    "                      'humidity',\n",
    "                      'pressure',\n",
    "                      'temperature',\n",
    "                      'wind_direction',\n",
    "                      'wind_speed']"
   ]
  },
  {
   "cell_type": "code",
   "execution_count": null,
   "metadata": {},
   "outputs": [
    {
     "name": "stdout",
     "output_type": "stream",
     "text": [
      "trip_seconds\n",
      "+------+---+-----+------+-----+------+------+-----+---------+\n",
      "|  mean|min|  max| stddv|   q1|median|    q3|  iqr|threshold|\n",
      "+------+---+-----+------+-----+------+------+-----+---------+\n",
      "|883.11|120|83520|757.98|420.0| 660.0|1080.0|660.0|    990.0|\n",
      "+------+---+-----+------+-----+------+------+-----+---------+\n",
      "\n",
      "trip_miles\n",
      "+----+---+------+-----+---+------+---+---+---------+\n",
      "|mean|min|   max|stddv| q1|median| q3|iqr|threshold|\n",
      "+----+---+------+-----+---+------+---+---+---------+\n",
      "|4.26|0.6|1998.1| 8.58|1.1|   1.8|4.2|3.1|     4.65|\n",
      "+----+---+------+-----+---+------+---+---+---------+\n",
      "\n",
      "speed\n",
      "+-----+----------+-------+-----+---+------+----+---+---------+\n",
      "| mean|       min|    max|stddv| q1|median|  q3|iqr|threshold|\n",
      "+-----+----------+-------+-----+---+------+----+---+---------+\n",
      "|16.33|0.02962963|57492.0|40.26|9.0|  12.0|18.0|9.0|     13.5|\n",
      "+-----+----------+-------+-----+---+------+----+---+---------+\n",
      "\n",
      "fare\n",
      "+-----+----+-------+-----+----+------+-----+---+------------------+\n",
      "| mean| min|    max|stddv|  q1|median|   q3|iqr|         threshold|\n",
      "+-----+----+-------+-----+----+------+-----+---+------------------+\n",
      "|13.55|0.01|3963.92|11.22|6.45|  8.65|14.75|8.3|12.450000000000001|\n",
      "+-----+----+-------+-----+----+------+-----+---+------------------+\n",
      "\n",
      "tips\n",
      "+----+---+-----+-----+---+------+---+---+---------+\n",
      "|mean|min|  max|stddv| q1|median| q3|iqr|threshold|\n",
      "+----+---+-----+-----+---+------+---+---+---------+\n",
      "|1.47|0.0|500.0| 2.51|0.0|   0.0|2.0|2.0|      3.0|\n",
      "+----+---+-----+-----+---+------+---+---+---------+\n",
      "\n",
      "tolls\n",
      "+----+---+-------+-----+---+------+---+---+---------+\n",
      "|mean|min|    max|stddv| q1|median| q3|iqr|threshold|\n",
      "+----+---+-------+-----+---+------+---+---+---------+\n",
      "| 0.0|0.0|1999.98| 0.59|0.0|   0.0|0.0|0.0|      0.0|\n",
      "+----+---+-------+-----+---+------+---+---+---------+\n",
      "\n",
      "extras\n"
     ]
    }
   ],
   "source": [
    "# We get the descriptive stadistics of these columns\n",
    "thresholds={}\n",
    "for var in analysed_variables:\n",
    "    print(var)\n",
    "    describe = taxi_trips.select(F.round(F.mean(var), 2).alias(\"mean\"),\n",
    "                                F.min(var).alias(\"min\"),\n",
    "                                F.max(var).alias(\"max\"),\n",
    "                                F.round(F.stddev(var), 2).alias(\"stddv\"))\n",
    "    q1, median, q3 = taxi_trips.approxQuantile(var, [0.25, 0.5, 0.75], 0)\n",
    "    iqr = q3 - q1\n",
    "    describe = describe.withColumn(\"q1\", F.lit(q1))\n",
    "    describe = describe.withColumn(\"median\", F.lit(median))\n",
    "    describe = describe.withColumn(\"q3\", F.lit(q3))\n",
    "    describe = describe.withColumn(\"iqr\", F.lit(iqr))\n",
    "    describe = describe.withColumn(\"threshold\", 1.5*F.lit(iqr))\n",
    "    describe.show()\n",
    "    describe_list = describe.collect()\n",
    "    for value in describe_list:\n",
    "        element = [i for i in value]\n",
    "        thresholds[var]=[element[8],\n",
    "                         element[4],\n",
    "                         element[6]]"
   ]
  },
  {
   "cell_type": "code",
   "execution_count": null,
   "metadata": {},
   "outputs": [],
   "source": [
    "#We get the number of taxis in the dataset\n",
    "taxi_trips.agg(F.countDistinct(F.col('taxi_id')).alias('taxis_chicago')).show()"
   ]
  },
  {
   "cell_type": "code",
   "execution_count": null,
   "metadata": {},
   "outputs": [],
   "source": [
    "#We get the number of distinct payment methods\n",
    "taxi_trips.agg(F.countDistinct(F.col('payment_type')).alias('payment_methods')).show()"
   ]
  },
  {
   "cell_type": "code",
   "execution_count": null,
   "metadata": {},
   "outputs": [],
   "source": [
    "#We get the number of distinct companies\n",
    "taxi_trips.agg(F.countDistinct(F.col('company')).alias('companies')).show()"
   ]
  },
  {
   "cell_type": "code",
   "execution_count": null,
   "metadata": {},
   "outputs": [],
   "source": [
    "#We get the number of distinct weather descriptions\n",
    "taxi_trips.agg(F.countDistinct(F.col('weather_description')).alias('weather_descriptions')).show()"
   ]
  },
  {
   "cell_type": "markdown",
   "metadata": {},
   "source": [
    "## 4.2 Get the number of outliers and the percentage"
   ]
  },
  {
   "cell_type": "code",
   "execution_count": null,
   "metadata": {},
   "outputs": [],
   "source": [
    "# After the statistical analysis we obtain the number of outliers and the percentage of these over the total.\n",
    "outliers = {}\n",
    "n_rows=taxi_trips.count()\n",
    "for i in thresholds:\n",
    "    outlier = taxi_trips.filter(F.col(i) < (thresholds[i][1]-thresholds[i][0])).count() \\\n",
    "    + taxi_trips[F.col(i) > (thresholds[i][2]+thresholds[i][0])].count()\n",
    "    outliers[i] = [outlier,outlier/n_rows*100]\n",
    "df_outliers = pd.DataFrame(outliers).T\n",
    "df_outliers.columns = ['outliers_number','%_outliers']\n",
    "df_outliers = df_outliers.sort_values('%_outliers',ascending=False)\n",
    "df_outliers"
   ]
  },
  {
   "cell_type": "markdown",
   "metadata": {},
   "source": [
    "## 4.3 Plot the outliers"
   ]
  },
  {
   "cell_type": "code",
   "execution_count": null,
   "metadata": {},
   "outputs": [],
   "source": [
    "# We plot the percentage of outliers obtained\n",
    "ax=df_outliers['%_outliers'].plot(kind='bar', title =\"Outliers\", figsize=(15, 10), \\\n",
    "                                         fontsize=12, rot=45)\n",
    "ax.set_xlabel(\"Features\", fontsize=12)\n",
    "ax.set_ylabel(\"%_outliers\", fontsize=12)\n",
    "plt.show()"
   ]
  },
  {
   "cell_type": "markdown",
   "metadata": {},
   "source": [
    "## 4.4 Remove trips with extrange values"
   ]
  },
  {
   "cell_type": "markdown",
   "metadata": {},
   "source": [
    "We are not going to use the ouliers obtained but we are going to analyze the columns susceptible of being eliminated by strange values after analyzing their statistical characteristics."
   ]
  },
  {
   "cell_type": "markdown",
   "metadata": {},
   "source": [
    "### 4.4.1 Number of trips depending on the filter by duration"
   ]
  },
  {
   "cell_type": "code",
   "execution_count": null,
   "metadata": {},
   "outputs": [],
   "source": [
    "# We get the number of trips by duration\n",
    "hours = [1,1.5,2,2.5,3]\n",
    "dicc_trip_seconds={}\n",
    "for duration in hours:\n",
    "    duration = duration * 3600\n",
    "    dicc_trip_seconds[duration/3600] = [taxi_trips.filter(F.col('trip_seconds') <= duration).count()]\n",
    "\n",
    "# We convert it to pandas    \n",
    "trip_duration = (pd.DataFrame(dicc_trip_seconds).T).reset_index()\n",
    "trip_duration.columns = ['duration_hours','number_trips']\n",
    "trip_duration"
   ]
  },
  {
   "cell_type": "markdown",
   "metadata": {},
   "source": [
    "### 4.4.2 Number of trips depending on the filter by path length"
   ]
  },
  {
   "cell_type": "code",
   "execution_count": null,
   "metadata": {},
   "outputs": [],
   "source": [
    "# We get the number of trips by path length\n",
    "miles = [10,15,20,50,100]\n",
    "dicc_trip_miles={}\n",
    "for length in miles:\n",
    "    dicc_trip_miles[str(length)] = [taxi_trips.filter(F.col('trip_miles') <= length).count()]\n",
    "\n",
    "# We convert it to pandas    \n",
    "trip_length = (pd.DataFrame(dicc_trip_miles).T).reset_index()\n",
    "trip_length.columns = ['length_miles','number_trips']\n",
    "trip_length"
   ]
  },
  {
   "cell_type": "markdown",
   "metadata": {},
   "source": [
    "### 4.4.3 Number of trips depending on the filter by fare"
   ]
  },
  {
   "cell_type": "code",
   "execution_count": null,
   "metadata": {},
   "outputs": [],
   "source": [
    "# We get the number of trips by fare\n",
    "fares = [100,200,500]\n",
    "dicc_trip_fare={}\n",
    "for fare in fares:\n",
    "    dicc_trip_fare[str(fare)] = [taxi_trips.filter(F.col('fare') <= fare).count()]\n",
    "\n",
    "# We convert it to pandas    \n",
    "trip_fare = (pd.DataFrame(dicc_trip_fare).T).reset_index()\n",
    "trip_fare.columns = ['fares_$','number_trips']\n",
    "trip_fare"
   ]
  },
  {
   "cell_type": "markdown",
   "metadata": {},
   "source": [
    "### 4.4.4 Number of trips depending on the filter by toll"
   ]
  },
  {
   "cell_type": "code",
   "execution_count": null,
   "metadata": {},
   "outputs": [],
   "source": [
    "# We get the number of trips by tolls\n",
    "tolls = [5,10,20,50,100]\n",
    "dicc_trip_toll={}\n",
    "for toll in tolls:\n",
    "    dicc_trip_toll[str(toll)] = [taxi_trips.filter(F.col('tolls') <= toll).count()]\n",
    "\n",
    "# We convert it to pandas    \n",
    "trip_toll = (pd.DataFrame(dicc_trip_toll).T).reset_index()\n",
    "trip_toll.columns = ['tolls_$','number_trips']\n",
    "trip_toll"
   ]
  },
  {
   "cell_type": "markdown",
   "metadata": {},
   "source": [
    "### 4.4.5 Number of trips depending on the filter by extra"
   ]
  },
  {
   "cell_type": "code",
   "execution_count": null,
   "metadata": {},
   "outputs": [],
   "source": [
    "# We get the number of trips by extra\n",
    "extras = [5,10,20,50,100,1000]\n",
    "dicc_trip_extra={}\n",
    "for extra in extras:\n",
    "    dicc_trip_extra[str(extra)] = [taxi_trips.filter(F.col('extras') <= extra).count()]\n",
    "\n",
    "# We convert it to pandas    \n",
    "trip_extra = (pd.DataFrame(dicc_trip_extra).T).reset_index()\n",
    "trip_extra.columns = ['extras_$','number_trips']\n",
    "trip_extra"
   ]
  },
  {
   "cell_type": "markdown",
   "metadata": {},
   "source": [
    "### 4.4.6 Number of trips depending by type of payment"
   ]
  },
  {
   "cell_type": "code",
   "execution_count": null,
   "metadata": {},
   "outputs": [],
   "source": [
    "# We get the number of trips by payment\n",
    "payment_type = taxi_trips.groupby(\"payment_type\").count().sort('count',ascending=False).toPandas()\n",
    "\n",
    "# We convert it to pandas    \n",
    "payment_type.columns = ['payment_type','number_trips']\n",
    "payment_type"
   ]
  },
  {
   "cell_type": "markdown",
   "metadata": {},
   "source": [
    "## 4.5 Filter the trips"
   ]
  },
  {
   "cell_type": "code",
   "execution_count": null,
   "metadata": {},
   "outputs": [],
   "source": [
    "# We filter the dataframe after our study\n",
    "print('Number of trips with outliers: ',taxi_trips.count())\n",
    "taxi_trips = taxi_trips.filter((F.col('trip_seconds') <= 3600)& \n",
    "                  (F.col('trip_miles')<=150)&\n",
    "                  (F.col('speed')<=120)&\n",
    "                  (F.col('fare') <= 100) & \n",
    "                  (F.col('fare')>=3.25) &\n",
    "                  (F.col('fare')>F.col('tips'))&\n",
    "                  (F.col('tips') <= (0.4*F.col('fare')))&\n",
    "                  (F.col('tolls')<=20)&\n",
    "                  (F.col('extras')<=20))\n",
    "print('Number of trips without outliers: ',taxi_trips.count())"
   ]
  },
  {
   "cell_type": "code",
   "execution_count": null,
   "metadata": {},
   "outputs": [],
   "source": [
    "taxi_trips.write.parquet(\"../Data/temp/taxi_df.parquet\")"
   ]
  },
  {
   "cell_type": "code",
   "execution_count": null,
   "metadata": {},
   "outputs": [],
   "source": [
    "taxi_trips = session.read.parquet(\"../Data/temp/taxi_df.parquet\")"
   ]
  },
  {
   "cell_type": "markdown",
   "metadata": {},
   "source": [
    "## 4.6 Stadistics after the filter"
   ]
  },
  {
   "cell_type": "code",
   "execution_count": null,
   "metadata": {},
   "outputs": [],
   "source": [
    "# We get the descriptive statistis of these variables again after the filtering carried out\n",
    "thresholds={}\n",
    "for var in analysed_variables:\n",
    "    print(var)\n",
    "    describe = taxi_trips.select(F.round(F.mean(var), 2).alias(\"mean\"),\n",
    "                                F.min(var).alias(\"min\"),\n",
    "                                F.max(var).alias(\"max\"),\n",
    "                                F.round(F.stddev(var), 2).alias(\"stddv\"))\n",
    "    q1, median, q3 = taxi_trips.approxQuantile(var, [0.25, 0.5, 0.75], 0)\n",
    "    iqr = q3 - q1\n",
    "    describe = describe.withColumn(\"q1\", F.lit(q1))\n",
    "    describe = describe.withColumn(\"median\", F.lit(median))\n",
    "    describe = describe.withColumn(\"q3\", F.lit(q3))\n",
    "    describe = describe.withColumn(\"iqr\", F.lit(iqr))\n",
    "    describe = describe.withColumn(\"threshold\", 1.5*F.lit(iqr))\n",
    "    describe.show()"
   ]
  },
  {
   "cell_type": "markdown",
   "metadata": {},
   "source": [
    "## 5 Exploratory data analysis"
   ]
  },
  {
   "cell_type": "markdown",
   "metadata": {},
   "source": [
    "### 5.1 Analysis trips, fare and  tip by year, year-month, day of week and hour"
   ]
  },
  {
   "cell_type": "markdown",
   "metadata": {},
   "source": [
    "We will analyze trips, fares and tips provided on trips made by year, year-month, day of the week and hour"
   ]
  },
  {
   "cell_type": "markdown",
   "metadata": {},
   "source": [
    "#### 5.1.1 Year"
   ]
  },
  {
   "cell_type": "code",
   "execution_count": null,
   "metadata": {},
   "outputs": [],
   "source": [
    "df_trips_year = taxi_trips.groupby(F.year(\"trip_start_timestamp\").alias(\"year\"))\\\n",
    "                          .agg(F.count('taxi_id').alias('trips_number'),\n",
    "                               F.sum('fare').alias('mean_fare'),\n",
    "                               F.sum('tips').alias('total_tips'),                               \n",
    "                               F.mean('tips').alias('tips_mean'))\\\n",
    "                          .sort('year').toPandas()"
   ]
  },
  {
   "cell_type": "markdown",
   "metadata": {},
   "source": [
    "##### 5.1.1.1 Number of trips by year"
   ]
  },
  {
   "cell_type": "code",
   "execution_count": null,
   "metadata": {},
   "outputs": [],
   "source": [
    "f, axes = plt.subplots(sharey=True, figsize=(10, 6))\n",
    "sns.barplot(x=df_trips_year[\"year\"], y=df_trips_year[\"trips_number\"]).set_title('Trips by Year $');"
   ]
  },
  {
   "cell_type": "markdown",
   "metadata": {},
   "source": [
    "##### 5.1.1.2 Mean fare by year"
   ]
  },
  {
   "cell_type": "code",
   "execution_count": null,
   "metadata": {},
   "outputs": [],
   "source": [
    "f, axes = plt.subplots( sharey=True, figsize=(10, 6))\n",
    "sns.barplot(x=df_trips_year[\"year\"], y=df_trips_year['mean_fare']).set_title('Mean Fare by Year $');"
   ]
  },
  {
   "cell_type": "markdown",
   "metadata": {},
   "source": [
    "##### 5.1.1.3 Total tips by year"
   ]
  },
  {
   "cell_type": "code",
   "execution_count": null,
   "metadata": {},
   "outputs": [],
   "source": [
    "f, axes = plt.subplots(sharey=True, figsize=(10, 6))\n",
    "sns.barplot(x=df_trips_year[\"year\"], y=df_trips_year[\"total_tips\"]).set_title('Total Tips by Year $');"
   ]
  },
  {
   "cell_type": "markdown",
   "metadata": {},
   "source": [
    "##### 5.1.1.4 Mean of tips per year"
   ]
  },
  {
   "cell_type": "code",
   "execution_count": null,
   "metadata": {},
   "outputs": [],
   "source": [
    "f, axes = plt.subplots(sharey=True, figsize=(10, 6))\n",
    "sns.barplot(x=df_trips_year[\"year\"], y=df_trips_year[\"tips_mean\"]).set_title('Mean Tips by Year $');"
   ]
  },
  {
   "cell_type": "markdown",
   "metadata": {},
   "source": [
    "#### 5.1.2 Year - Month"
   ]
  },
  {
   "cell_type": "code",
   "execution_count": null,
   "metadata": {},
   "outputs": [],
   "source": [
    "df_trips_year_month = taxi_trips.groupby(F.col('AUX_trip_start_timestamp')[0:7].alias('year_month'))\\\n",
    "                          .agg(F.count('taxi_id').alias('trips_number'),\n",
    "                               F.sum('fare').alias('mean_fare'),\n",
    "                               F.sum('tips').alias('total_tips'),                               \n",
    "                               F.mean('tips').alias('tips_mean'))\\\n",
    "                          .sort('year_month').toPandas()"
   ]
  },
  {
   "cell_type": "markdown",
   "metadata": {},
   "source": [
    "##### 5.1.2.1 Number of trips by year-month"
   ]
  },
  {
   "cell_type": "code",
   "execution_count": null,
   "metadata": {},
   "outputs": [],
   "source": [
    "f, axes = plt.subplots(sharey=True, figsize=(20, 8))\n",
    "sns.barplot(x=df_trips_year_month[\"year_month\"], \n",
    "            y=df_trips_year_month[\"trips_number\"]).set_title('Trips by Year-Month')\n",
    "axes.set_xticklabels(axes.get_xticklabels(), rotation = 60);"
   ]
  },
  {
   "cell_type": "markdown",
   "metadata": {},
   "source": [
    "#### 5.1.1.2 Mean fare by year-month"
   ]
  },
  {
   "cell_type": "code",
   "execution_count": null,
   "metadata": {},
   "outputs": [],
   "source": [
    "f, axes = plt.subplots(sharey=True, figsize=(20, 8))\n",
    "sns.barplot(x=df_trips_year_month[\"year_month\"], \n",
    "            y=df_trips_year_month[\"mean_fare\"]).set_title('Mean Fare by Year-Month')\n",
    "axes.set_xticklabels(axes.get_xticklabels(), rotation = 60);"
   ]
  },
  {
   "cell_type": "markdown",
   "metadata": {},
   "source": [
    "#### 5.1.2.3 Total tips by month"
   ]
  },
  {
   "cell_type": "code",
   "execution_count": null,
   "metadata": {},
   "outputs": [],
   "source": [
    "f, axes = plt.subplots(sharey=True, figsize=(20, 8))\n",
    "sns.barplot(x=df_trips_year_month[\"year_month\"], \n",
    "            y=df_trips_year_month[\"total_tips\"]).set_title('Total Tips by Year-Month')\n",
    "axes.set_xticklabels(axes.get_xticklabels(), rotation = 60);"
   ]
  },
  {
   "cell_type": "markdown",
   "metadata": {},
   "source": [
    "#### 5.1.2.4 Mean tips by month"
   ]
  },
  {
   "cell_type": "code",
   "execution_count": null,
   "metadata": {},
   "outputs": [],
   "source": [
    "f, axes = plt.subplots(sharey=True, figsize=(20, 8))\n",
    "sns.barplot(x=df_trips_year_month[\"year_month\"], \n",
    "            y=df_trips_year_month[\"tips_mean\"]).set_title('Mean Tips by Year-Month')\n",
    "axes.set_xticklabels(axes.get_xticklabels(), rotation = 60);"
   ]
  },
  {
   "cell_type": "markdown",
   "metadata": {},
   "source": [
    "#### 5.1.3 WeekDay"
   ]
  },
  {
   "cell_type": "code",
   "execution_count": null,
   "metadata": {},
   "outputs": [],
   "source": [
    "df_trips_dayweek = taxi_trips.groupby(F.dayofweek(\"trip_start_timestamp\").alias(\"dayweek\"))\\\n",
    "                          .agg(F.count('taxi_id').alias('trips_number'),\n",
    "                               F.sum('fare').alias('mean_fare'),\n",
    "                               F.sum('tips').alias('total_tips'),\n",
    "                               F.mean('tips').alias('tips_mean'))\\\n",
    "                          .sort('dayweek').toPandas()"
   ]
  },
  {
   "cell_type": "markdown",
   "metadata": {},
   "source": [
    "##### 5.1.3.1 Number of trips by weekday"
   ]
  },
  {
   "cell_type": "code",
   "execution_count": null,
   "metadata": {},
   "outputs": [],
   "source": [
    "f, axes = plt.subplots(sharey=True, figsize=(10, 6))\n",
    "sns.barplot(x=df_trips_dayweek[\"dayweek\"], y=df_trips_dayweek[\"trips_number\"]).set_title('Trips by Day of Week');"
   ]
  },
  {
   "cell_type": "markdown",
   "metadata": {},
   "source": [
    "#### 5.1.3.2 Mean fare by day of week"
   ]
  },
  {
   "cell_type": "code",
   "execution_count": null,
   "metadata": {},
   "outputs": [],
   "source": [
    "f, axes = plt.subplots(sharey=True, figsize=(10, 6))\n",
    "sns.barplot(x=df_trips_dayweek[\"dayweek\"],\n",
    "            y=df_trips_dayweek['mean_fare']).set_title('Mean Fare by Day of week $');"
   ]
  },
  {
   "cell_type": "markdown",
   "metadata": {},
   "source": [
    "#### 5.1.3.3 Total of tips by day of week"
   ]
  },
  {
   "cell_type": "code",
   "execution_count": null,
   "metadata": {},
   "outputs": [],
   "source": [
    "f, axes = plt.subplots(sharey=True, figsize=(10, 6))\n",
    "sns.barplot(x=df_trips_dayweek[\"dayweek\"],\n",
    "            y=df_trips_dayweek['total_tips']).set_title('Total of Tips by Day of week $');"
   ]
  },
  {
   "cell_type": "markdown",
   "metadata": {},
   "source": [
    "#### 5.1.4 Hour"
   ]
  },
  {
   "cell_type": "code",
   "execution_count": null,
   "metadata": {},
   "outputs": [],
   "source": [
    "df_trips_hour = taxi_trips.groupby(F.hour(\"trip_start_timestamp\").alias(\"hour\"))\\\n",
    "                          .agg(F.count('taxi_id').alias('trips_number'),\n",
    "                               F.mean('fare').alias('mean_fare'),\n",
    "                               F.sum('tips').alias('total_tips'),\n",
    "                               F.mean('tips').alias('tips_mean'),\n",
    "                               F.sum('tolls').alias('total_tolls'),\n",
    "                               F.mean('tolls').alias('tolls_mean'),)\\\n",
    "                          .sort('hour').toPandas()"
   ]
  },
  {
   "cell_type": "markdown",
   "metadata": {},
   "source": [
    "#### 5.1.4.1 Total trips by hour"
   ]
  },
  {
   "cell_type": "code",
   "execution_count": null,
   "metadata": {},
   "outputs": [],
   "source": [
    "f, axes = plt.subplots(sharey=True, figsize=(10, 6))\n",
    "sns.barplot(x=df_trips_hour[\"hour\"], y=df_trips_hour[\"trips_number\"]).set_title('Total Trips by Hour');"
   ]
  },
  {
   "cell_type": "markdown",
   "metadata": {},
   "source": [
    "#### 5.1.4.2 Mean fare by hour"
   ]
  },
  {
   "cell_type": "code",
   "execution_count": null,
   "metadata": {},
   "outputs": [],
   "source": [
    "f, axes = plt.subplots(sharey=True, figsize=(10, 6))\n",
    "sns.barplot(x=df_trips_hour[\"hour\"], y=df_trips_hour[\"mean_fare\"]).set_title('Mean Fare by Hour');"
   ]
  },
  {
   "cell_type": "markdown",
   "metadata": {},
   "source": [
    "#### 5.1.4.3 Total tips by hour"
   ]
  },
  {
   "cell_type": "code",
   "execution_count": null,
   "metadata": {},
   "outputs": [],
   "source": [
    "f, axes = plt.subplots(sharey=True, figsize=(10, 6))\n",
    "sns.barplot(x=df_trips_hour[\"hour\"], y=df_trips_hour[\"total_tips\"]).set_title('Total Tips by Hour');"
   ]
  },
  {
   "cell_type": "markdown",
   "metadata": {},
   "source": [
    "#### 5.1.4.4 Mean tips by hour"
   ]
  },
  {
   "cell_type": "code",
   "execution_count": null,
   "metadata": {},
   "outputs": [],
   "source": [
    "f, axes = plt.subplots(sharey=True, figsize=(10, 6))\n",
    "sns.barplot(x=df_trips_hour[\"hour\"], y=df_trips_hour[\"tips_mean\"]).set_title('Mean Tips by Hour');"
   ]
  },
  {
   "cell_type": "markdown",
   "metadata": {},
   "source": [
    "#### 5.1.4.5 Total tolls by hour"
   ]
  },
  {
   "cell_type": "code",
   "execution_count": null,
   "metadata": {},
   "outputs": [],
   "source": [
    "f, axes = plt.subplots(sharey=True, figsize=(10, 6))\n",
    "sns.barplot(x=df_trips_hour[\"hour\"], y=df_trips_hour[\"total_tolls\"]).set_title('Total Tolls by Hour');"
   ]
  },
  {
   "cell_type": "markdown",
   "metadata": {},
   "source": [
    "#### 5.1.4.6 Mean tolls by hour"
   ]
  },
  {
   "cell_type": "code",
   "execution_count": null,
   "metadata": {},
   "outputs": [],
   "source": [
    "f, axes = plt.subplots(sharey=True, figsize=(10, 6))\n",
    "sns.barplot(x=df_trips_hour[\"hour\"], y=df_trips_hour[\"tolls_mean\"]).set_title('Mean Tolls by Hour');"
   ]
  },
  {
   "cell_type": "markdown",
   "metadata": {},
   "source": [
    "We can observe how at 5, 6, 7 in the morning is when fewer trips are made but in which the average fare is higher which makes us think that longer trips are made as for example from or to the airport.\n",
    "\n",
    "Furthermore, we also observe how it is producing a decline in taxi trips as a result of the appearance of Uber."
   ]
  },
  {
   "cell_type": "markdown",
   "metadata": {},
   "source": [
    "### 5.2 Analysis trips, fare, trip miles and trip duration by company"
   ]
  },
  {
   "cell_type": "markdown",
   "metadata": {},
   "source": [
    "We will analyze trips, fare, trip miles and trip duration by company"
   ]
  },
  {
   "cell_type": "code",
   "execution_count": null,
   "metadata": {},
   "outputs": [],
   "source": [
    "df_company = taxi_trips.groupby(F.col('company'))\\\n",
    "                          .agg(F.count('taxi_id').alias('trips_number'),\n",
    "                               F.sum('fare').alias('total_fare'),\n",
    "                               F.mean('fare').alias('fare_mean'),                               \n",
    "                               F.mean('tips').alias('tips_mean'),\n",
    "                               F.mean('trip_miles').alias('miles_mean'),\n",
    "                               F.lit(F.mean('trip_seconds')/60).alias('duration_mean'))"
   ]
  },
  {
   "cell_type": "markdown",
   "metadata": {},
   "source": [
    "#### 5.2.1 TOP 10 Total Trips by Company"
   ]
  },
  {
   "cell_type": "code",
   "execution_count": null,
   "metadata": {},
   "outputs": [],
   "source": [
    "company_trips = df_company.sort('trips_number',ascending=False).limit(10).toPandas()\n",
    "company_trips"
   ]
  },
  {
   "cell_type": "code",
   "execution_count": null,
   "metadata": {},
   "outputs": [],
   "source": [
    "f, axes = plt.subplots(sharey=True, figsize=(10, 6))\n",
    "sns.barplot(x=company_trips[\"company\"],\n",
    "            y=company_trips['trips_number']).set_title('TOP 10 Total Trips by Company')\n",
    "axes.set_xticklabels(axes.get_xticklabels(), rotation = 60);"
   ]
  },
  {
   "cell_type": "markdown",
   "metadata": {},
   "source": [
    "#### 5.2.2 TOP 10 Total Fare by Company"
   ]
  },
  {
   "cell_type": "code",
   "execution_count": null,
   "metadata": {},
   "outputs": [],
   "source": [
    "company_total_fare = df_company.sort('total_fare',ascending=False).limit(10).toPandas()\n",
    "company_total_fare"
   ]
  },
  {
   "cell_type": "code",
   "execution_count": null,
   "metadata": {},
   "outputs": [],
   "source": [
    "f, axes = plt.subplots(sharey=True, figsize=(10, 6))\n",
    "sns.barplot(x=company_total_fare[\"company\"],\n",
    "            y=company_total_fare['total_fare']).set_title('TOP 10 Total Fare by Company')\n",
    "axes.set_xticklabels(axes.get_xticklabels(), rotation = 60);"
   ]
  },
  {
   "cell_type": "markdown",
   "metadata": {},
   "source": [
    "#### 5.2.3 TOP 10 Mean Fare by Company"
   ]
  },
  {
   "cell_type": "code",
   "execution_count": null,
   "metadata": {},
   "outputs": [],
   "source": [
    "company_mean_fare = df_company.sort('fare_mean',ascending=False).limit(10).toPandas()\n",
    "company_mean_fare"
   ]
  },
  {
   "cell_type": "code",
   "execution_count": null,
   "metadata": {},
   "outputs": [],
   "source": [
    "f, axes = plt.subplots(sharey=True, figsize=(10, 6))\n",
    "sns.barplot(x=company_mean_fare[\"company\"],\n",
    "            y=company_mean_fare['fare_mean']).set_title('TOP 10 Mean Fare by Company')\n",
    "axes.set_xticklabels(axes.get_xticklabels(), rotation = 60);"
   ]
  },
  {
   "cell_type": "markdown",
   "metadata": {},
   "source": [
    "#### 5.2.4 TOP 10 Mean Tips by Company"
   ]
  },
  {
   "cell_type": "code",
   "execution_count": null,
   "metadata": {},
   "outputs": [],
   "source": [
    "company_mean_tips = df_company.sort('tips_mean',ascending=False).limit(10).toPandas()\n",
    "company_mean_tips"
   ]
  },
  {
   "cell_type": "code",
   "execution_count": null,
   "metadata": {},
   "outputs": [],
   "source": [
    "f, axes = plt.subplots(sharey=True, figsize=(10, 6))\n",
    "sns.barplot(x=company_mean_tips[\"company\"],\n",
    "            y=company_mean_tips['tips_mean']).set_title('TOP 10 Mean Tips by Company')\n",
    "axes.set_xticklabels(axes.get_xticklabels(), rotation = 60);"
   ]
  },
  {
   "cell_type": "markdown",
   "metadata": {},
   "source": [
    "#### 5.2.5 TOP 10 Longest Trips(miles) by Company"
   ]
  },
  {
   "cell_type": "code",
   "execution_count": null,
   "metadata": {},
   "outputs": [],
   "source": [
    "company_lenght_mean = df_company.sort('miles_mean',ascending=False).limit(10).toPandas()\n",
    "company_lenght_mean"
   ]
  },
  {
   "cell_type": "code",
   "execution_count": null,
   "metadata": {},
   "outputs": [],
   "source": [
    "f, axes = plt.subplots(sharey=True, figsize=(10, 6))\n",
    "sns.barplot(x=company_lenght_mean[\"company\"],\n",
    "            y=company_lenght_mean['miles_mean']).set_title('TOP 10 Longest Trips (miles) by Company')\n",
    "axes.set_xticklabels(axes.get_xticklabels(), rotation = 60);"
   ]
  },
  {
   "cell_type": "markdown",
   "metadata": {},
   "source": [
    "#### 5.2.6 TOP 10 Longest Trips(minutes) by Company"
   ]
  },
  {
   "cell_type": "code",
   "execution_count": null,
   "metadata": {},
   "outputs": [],
   "source": [
    "company_duration_mean = df_company.sort('duration_mean',ascending=False).limit(10).toPandas()\n",
    "company_duration_mean"
   ]
  },
  {
   "cell_type": "code",
   "execution_count": null,
   "metadata": {},
   "outputs": [],
   "source": [
    "f, axes = plt.subplots(sharey=True, figsize=(10, 6))\n",
    "sns.barplot(x=company_duration_mean[\"company\"],\n",
    "            y=company_duration_mean['duration_mean']).set_title('TOP 10 Longest Trips (minutes) by Company')\n",
    "axes.set_xticklabels(axes.get_xticklabels(), rotation = 60);"
   ]
  },
  {
   "cell_type": "markdown",
   "metadata": {},
   "source": [
    "Except \"Blue Ribbon Taxi Association Inc. the rest of the companies that collect the most, that make the most trips, that have the highest mean fares, that make the longest trips are not among the 10 companies with the highest average fare."
   ]
  },
  {
   "cell_type": "markdown",
   "metadata": {},
   "source": [
    "### 5.3 Analysis trips, fare, trip miles and trip duratinon by weather description"
   ]
  },
  {
   "cell_type": "markdown",
   "metadata": {},
   "source": [
    "We will analyze trips, fare, trip miles and trip duration by weather description"
   ]
  },
  {
   "cell_type": "code",
   "execution_count": null,
   "metadata": {},
   "outputs": [],
   "source": [
    "df_weather_description = taxi_trips.groupby(F.col('weather_description'))\\\n",
    "                                   .agg(F.count('taxi_id').alias('trips_number'),\n",
    "                                        F.sum('fare').alias('total_fare'),\n",
    "                                        F.mean('fare').alias('fare_mean'),                               \n",
    "                                        F.mean('tips').alias('tips_mean'),\n",
    "                                        F.mean('trip_miles').alias('miles_mean'),\n",
    "                                        F.lit(F.mean('trip_seconds')/60).alias('duration_mean'))"
   ]
  },
  {
   "cell_type": "markdown",
   "metadata": {},
   "source": [
    "#### 5.3.1 TOP 15 Total Trips by Weather Description"
   ]
  },
  {
   "cell_type": "code",
   "execution_count": null,
   "metadata": {},
   "outputs": [],
   "source": [
    "weather_total_trips = df_weather_description.sort('trips_number',ascending=False).limit(15).toPandas()\n",
    "weather_total_trips"
   ]
  },
  {
   "cell_type": "code",
   "execution_count": null,
   "metadata": {},
   "outputs": [],
   "source": [
    "f, axes = plt.subplots(sharey=True, figsize=(10, 6))\n",
    "sns.barplot(x=weather_total_trips[\"weather_description\"],\n",
    "            y=weather_total_trips['trips_number']).set_title('TOP 15 Total Trips by Weather Description')\n",
    "axes.set_xticklabels(axes.get_xticklabels(), rotation = 60);"
   ]
  },
  {
   "cell_type": "markdown",
   "metadata": {},
   "source": [
    "#### 5.3.2 TOP 15 Total Fare by Weather Description"
   ]
  },
  {
   "cell_type": "code",
   "execution_count": null,
   "metadata": {},
   "outputs": [],
   "source": [
    "weather_total_fares = df_weather_description.sort('total_fare',ascending=False).limit(15).toPandas()\n",
    "weather_total_fares"
   ]
  },
  {
   "cell_type": "code",
   "execution_count": null,
   "metadata": {},
   "outputs": [],
   "source": [
    "f, axes = plt.subplots(sharey=True, figsize=(10, 6))\n",
    "sns.barplot(x=weather_total_fares[\"weather_description\"],\n",
    "            y=weather_total_fares['total_fare']).set_title('TOP 15 Total Fares by Weather Description')\n",
    "axes.set_xticklabels(axes.get_xticklabels(), rotation = 60);"
   ]
  },
  {
   "cell_type": "markdown",
   "metadata": {},
   "source": [
    "#### 5.3.3 TOP 15 Total Fare by Weather Description"
   ]
  },
  {
   "cell_type": "code",
   "execution_count": null,
   "metadata": {},
   "outputs": [],
   "source": [
    "weather_mean_fares = df_weather_description.sort('fare_mean',ascending=False).limit(15).toPandas()\n",
    "weather_mean_fares"
   ]
  },
  {
   "cell_type": "code",
   "execution_count": null,
   "metadata": {},
   "outputs": [],
   "source": [
    "f, axes = plt.subplots(sharey=True, figsize=(10, 6))\n",
    "sns.barplot(x=weather_mean_fares[\"weather_description\"],\n",
    "            y=weather_mean_fares['fare_mean']).set_title('TOP 15 Mean Fares by Weather Description')\n",
    "axes.set_xticklabels(axes.get_xticklabels(), rotation = 75);"
   ]
  },
  {
   "cell_type": "markdown",
   "metadata": {},
   "source": [
    "#### 5.3.4 TOP 15 Tips Mean by Weather Description"
   ]
  },
  {
   "cell_type": "code",
   "execution_count": null,
   "metadata": {},
   "outputs": [],
   "source": [
    "weather_mean_tips = df_weather_description.sort('tips_mean',ascending=False).limit(15).toPandas()\n",
    "weather_mean_tips"
   ]
  },
  {
   "cell_type": "code",
   "execution_count": null,
   "metadata": {},
   "outputs": [],
   "source": [
    "f, axes = plt.subplots(sharey=True, figsize=(10, 6))\n",
    "sns.barplot(x=weather_mean_tips[\"weather_description\"],\n",
    "            y=weather_mean_tips['tips_mean']).set_title('TOP 15 Mean Tips by Weather Description')\n",
    "axes.set_xticklabels(axes.get_xticklabels(), rotation = 75);"
   ]
  },
  {
   "cell_type": "markdown",
   "metadata": {},
   "source": [
    "#### 5.3.5 TOP 15 Longest Trips(miles)  by Weather Description"
   ]
  },
  {
   "cell_type": "code",
   "execution_count": null,
   "metadata": {},
   "outputs": [],
   "source": [
    "weather_lenght_mean = df_weather_description.sort('miles_mean',ascending=False).limit(15).toPandas()\n",
    "weather_lenght_mean"
   ]
  },
  {
   "cell_type": "code",
   "execution_count": null,
   "metadata": {},
   "outputs": [],
   "source": [
    "f, axes = plt.subplots(sharey=True, figsize=(10, 6))\n",
    "sns.barplot(x=weather_lenght_mean[\"weather_description\"],\n",
    "            y=weather_lenght_mean['miles_mean']).set_title('TOP 15 Longest Trips (miles) by Weather Description')\n",
    "axes.set_xticklabels(axes.get_xticklabels(), rotation = 75);"
   ]
  },
  {
   "cell_type": "markdown",
   "metadata": {},
   "source": [
    "#### 5.3.6 TOP 15 Longest Trips(minutes) by Weather Description"
   ]
  },
  {
   "cell_type": "code",
   "execution_count": null,
   "metadata": {},
   "outputs": [],
   "source": [
    "weather_duration_mean = df_weather_description.sort('duration_mean',ascending=False).limit(15).toPandas()\n",
    "weather_duration_mean"
   ]
  },
  {
   "cell_type": "code",
   "execution_count": null,
   "metadata": {},
   "outputs": [],
   "source": [
    "f, axes = plt.subplots(sharey=True, figsize=(10, 6))\n",
    "sns.barplot(x=weather_duration_mean[\"weather_description\"],\n",
    "            y=weather_duration_mean['duration_mean']).set_title('TOP 15 Longest Trips (minutes) by Weather Description')\n",
    "axes.set_xticklabels(axes.get_xticklabels(), rotation = 75);"
   ]
  },
  {
   "cell_type": "markdown",
   "metadata": {},
   "source": [
    "We can observe that while the largest number of trips and the largest total amount of money has been obtained by trips that had good weather or a little rain, the highest average fares, the highest tips and the longest trips have been in extreme conditions."
   ]
  },
  {
   "cell_type": "markdown",
   "metadata": {},
   "source": [
    "## 6 Feauture Engineering"
   ]
  },
  {
   "cell_type": "markdown",
   "metadata": {},
   "source": [
    "In this part of the notebook we are going to create new features referring to dates, distances and to convert the column of the taxi identifier."
   ]
  },
  {
   "cell_type": "markdown",
   "metadata": {},
   "source": [
    "### 6.1 Dates"
   ]
  },
  {
   "cell_type": "markdown",
   "metadata": {},
   "source": [
    "From column `trip_start_timestamp` we will get the fields:\n",
    "- Year\n",
    "- Month\n",
    "- Day\n",
    "- Week Day\n",
    "- Hour\n",
    "- Minute"
   ]
  },
  {
   "cell_type": "markdown",
   "metadata": {},
   "source": [
    "#### 6.1.1 Get the year "
   ]
  },
  {
   "cell_type": "code",
   "execution_count": null,
   "metadata": {},
   "outputs": [],
   "source": [
    "taxi_trips = taxi_trips.withColumn(\"year\",\n",
    "                                   F.year(\"trip_start_timestamp\").cast(T.IntegerType()))"
   ]
  },
  {
   "cell_type": "markdown",
   "metadata": {},
   "source": [
    "#### 6.1.2 Get the month "
   ]
  },
  {
   "cell_type": "code",
   "execution_count": null,
   "metadata": {},
   "outputs": [],
   "source": [
    "taxi_trips = taxi_trips.withColumn(\"month\",\n",
    "                                   F.month(\"trip_start_timestamp\").cast(T.IntegerType()))"
   ]
  },
  {
   "cell_type": "markdown",
   "metadata": {},
   "source": [
    "#### 6.1.3 Get the day "
   ]
  },
  {
   "cell_type": "code",
   "execution_count": null,
   "metadata": {},
   "outputs": [],
   "source": [
    "taxi_trips = taxi_trips.withColumn(\"day\",\n",
    "                                   F.dayofmonth(\"trip_start_timestamp\").cast(T.IntegerType()))"
   ]
  },
  {
   "cell_type": "markdown",
   "metadata": {},
   "source": [
    "#### 6.1.4 Get the week day "
   ]
  },
  {
   "cell_type": "code",
   "execution_count": null,
   "metadata": {},
   "outputs": [],
   "source": [
    "taxi_trips = taxi_trips.withColumn(\"week_day\",\n",
    "                                   F.dayofweek(\"trip_start_timestamp\").cast(T.IntegerType()))"
   ]
  },
  {
   "cell_type": "markdown",
   "metadata": {},
   "source": [
    "#### 6.1.5 Get the hour "
   ]
  },
  {
   "cell_type": "code",
   "execution_count": null,
   "metadata": {},
   "outputs": [],
   "source": [
    "taxi_trips = taxi_trips.withColumn(\"hour\",\n",
    "                                   F.hour(\"trip_start_timestamp\").cast(T.IntegerType()))"
   ]
  },
  {
   "cell_type": "markdown",
   "metadata": {},
   "source": [
    "#### 6.1.6 Get the minute "
   ]
  },
  {
   "cell_type": "code",
   "execution_count": null,
   "metadata": {},
   "outputs": [],
   "source": [
    "taxi_trips = taxi_trips.withColumn(\"minute\",\n",
    "                                   F.minute(\"trip_start_timestamp\").cast(T.IntegerType()))"
   ]
  },
  {
   "cell_type": "markdown",
   "metadata": {},
   "source": [
    "### 6.2 Distance"
   ]
  },
  {
   "cell_type": "markdown",
   "metadata": {},
   "source": [
    "We are going to create 3 fields that allow us to know the distance in miles that exists between the `PickUp Point` and the `DropOff Point`.\n",
    "\n",
    "In addition we will create two other fields that allow us to know the distance from airports `O'Hare International Airport` and `Midway International Airport` to the points of departure or arrival (the shortest distance will be obtained)"
   ]
  },
  {
   "cell_type": "markdown",
   "metadata": {},
   "source": [
    "#### 6.2.1 Get the distance between the pickup and dropoff points  "
   ]
  },
  {
   "cell_type": "code",
   "execution_count": null,
   "metadata": {},
   "outputs": [],
   "source": [
    "# We define the function to get the distance in miles\n",
    "def distance(pickup_lat, pickup_lon, dropoff_lat, dropoff_lon):\n",
    "\n",
    "    # Earth circumference in miles\n",
    "    equator_circumference = 24901.461\n",
    "    poles_circumference = 24859.73    \n",
    "    \n",
    "    # Compute distances along lat, lon dimensions\n",
    "    lat_distance = ((dropoff_lat - pickup_lat)*poles_circumference)/360\n",
    "    long_distance = ((dropoff_lon - pickup_lon)*equator_circumference)/360\n",
    "    \n",
    "    #Compute distance in a straight line\n",
    "    distance = (lat_distance**2 + long_distance**2)**0.5 \n",
    "    \n",
    "    return distance"
   ]
  },
  {
   "cell_type": "code",
   "execution_count": null,
   "metadata": {},
   "outputs": [],
   "source": [
    "# We get the udf\n",
    "distance_udf = F.udf(distance, T.FloatType())"
   ]
  },
  {
   "cell_type": "code",
   "execution_count": null,
   "metadata": {},
   "outputs": [],
   "source": [
    "# We get the new computad column\n",
    "taxi_trips = taxi_trips.withColumn(\"distance_miles\",\n",
    "                                   distance_udf(\"pickup_centroid_latitude\",\n",
    "                                                \"pickup_centroid_longitude\",\n",
    "                                                \"dropoff_centroid_latitude\",\n",
    "                                                \"dropoff_centroid_longitude\"))"
   ]
  },
  {
   "cell_type": "markdown",
   "metadata": {},
   "source": [
    "#### 6.2.2 Get the distance between the pickup and dropoff points with the airports of Chicago"
   ]
  },
  {
   "cell_type": "code",
   "execution_count": null,
   "metadata": {},
   "outputs": [],
   "source": [
    "\"\"\"\n",
    "ORD: O'Hare International Airport\n",
    "MDW: Midway International Airport\n",
    "\"\"\"\n",
    "ord_coord = [41.978611, -87.904722]\n",
    "mdw_coord = [41.786111, -87.7525]"
   ]
  },
  {
   "cell_type": "code",
   "execution_count": null,
   "metadata": {},
   "outputs": [],
   "source": [
    "# We define the function to get the shortest distance in miles to the airports\n",
    "def distance_airport(pickup_lat, pickup_lon, dropoff_lat, dropoff_lon,airport_lat,airport_lon):\n",
    "    \n",
    "    pickup_airport = distance(pickup_lat, pickup_lon, airport_lat, airport_lon) \n",
    "    airport_dropoff = distance(airport_lat, airport_lon, dropoff_lat, dropoff_lon) \n",
    "    return min(pickup_airport, airport_dropoff)\n",
    "\n",
    "# We get the udf\n",
    "distance_airport_udf = F.udf(distance_airport, T.FloatType())"
   ]
  },
  {
   "cell_type": "markdown",
   "metadata": {},
   "source": [
    "##### 6.2.2.1 Get the distance between the pickup and dropoff points with the O'Hare International Airport"
   ]
  },
  {
   "cell_type": "code",
   "execution_count": null,
   "metadata": {},
   "outputs": [],
   "source": [
    "taxi_trips = taxi_trips.withColumn(\"distance_ord\",\n",
    "                                   distance_airport_udf(\"pickup_centroid_latitude\",\n",
    "                                                        \"pickup_centroid_longitude\",\n",
    "                                                        \"dropoff_centroid_latitude\",\n",
    "                                                        \"dropoff_centroid_longitude\",\n",
    "                                                        F.lit(ord_coord[0]),\n",
    "                                                        F.lit(ord_coord[1])))"
   ]
  },
  {
   "cell_type": "markdown",
   "metadata": {},
   "source": [
    "##### 6.2.2.2 Get the distance between the pickup and dropoff points with the Midway International Airport"
   ]
  },
  {
   "cell_type": "code",
   "execution_count": null,
   "metadata": {},
   "outputs": [],
   "source": [
    "taxi_trips = taxi_trips.withColumn(\"distance_mdw\",\n",
    "                                   distance_airport_udf(\"pickup_centroid_latitude\",\n",
    "                                                        \"pickup_centroid_longitude\",\n",
    "                                                        \"dropoff_centroid_latitude\",\n",
    "                                                        \"dropoff_centroid_longitude\",\n",
    "                                                        F.lit(mdw_coord[0]),\n",
    "                                                        F.lit(mdw_coord[1])))"
   ]
  },
  {
   "cell_type": "code",
   "execution_count": null,
   "metadata": {},
   "outputs": [],
   "source": [
    "taxi_trips.write.parquet(\"../Data/temp/taxi_model.parquet\")"
   ]
  },
  {
   "cell_type": "code",
   "execution_count": null,
   "metadata": {},
   "outputs": [],
   "source": [
    "taxi_trips = session.read.parquet(\"../Data/temp/taxi_model.parquet\")"
   ]
  },
  {
   "cell_type": "markdown",
   "metadata": {},
   "source": [
    "### 6.3 Convert string variables to integer variables"
   ]
  },
  {
   "cell_type": "markdown",
   "metadata": {},
   "source": [
    "We are going to get the integer format from the string columns to integer value"
   ]
  },
  {
   "cell_type": "markdown",
   "metadata": {},
   "source": [
    "### 6.3.1 Dataset we are going to use to visualized"
   ]
  },
  {
   "cell_type": "code",
   "execution_count": null,
   "metadata": {},
   "outputs": [],
   "source": [
    "# We drop the columns that do not interest us for the visualization\n",
    "taxi_visualized = taxi_trips.drop('trip_end_timestamp',\n",
    "                                  'year',\n",
    "                                  'month',\n",
    "                                  'day',\n",
    "                                  'week_day',\n",
    "                                  'hour',\n",
    "                                  'minute',\n",
    "                                  'AUX_trip_start_timestamp',\n",
    "                                  'speed')"
   ]
  },
  {
   "cell_type": "code",
   "execution_count": null,
   "metadata": {},
   "outputs": [],
   "source": [
    "# We convert the taxi id string to integer\n",
    "enc_columns=['taxi_id']\n",
    "for column in enc_columns:\n",
    "    feauture_indexer = StringIndexer(inputCol=column,outputCol=column+\"_ind\")\n",
    "    indexer_model = feauture_indexer.fit(taxi_visualized)\n",
    "    taxi_visualized = indexer_model.transform(taxi_visualized)\n",
    "    taxi_visualized=taxi_visualized.withColumn(column+\"_ind\",F.col(column+\"_ind\").cast(T.IntegerType()))"
   ]
  },
  {
   "cell_type": "code",
   "execution_count": null,
   "metadata": {},
   "outputs": [],
   "source": [
    "# We define the function to change the csv names\n",
    "def change_file_name(path,extension='.csv'):\n",
    "    result = os.listdir(path)\n",
    "    file = list(filter(lambda x: x.endswith(extension), result))\n",
    "    old_path = path + file[0]\n",
    "    new_path = path[:-1] + extension\n",
    "    return os.rename(old_path, new_path)"
   ]
  },
  {
   "cell_type": "code",
   "execution_count": null,
   "metadata": {},
   "outputs": [],
   "source": [
    "# We get the dataset that we are going to use to visualized\n",
    "taxi_visualized.drop('taxi_id')\\\n",
    "               .repartition(1).write.save(\"../Data/taxi_visualized\",format=\"csv\",header=True)"
   ]
  },
  {
   "cell_type": "code",
   "execution_count": null,
   "metadata": {},
   "outputs": [],
   "source": [
    "#We change the csv name and delete the table\n",
    "change_file_name('../Data/taxi_visualized/')\n",
    "shutil.rmtree('../Data/taxi_visualized')"
   ]
  },
  {
   "cell_type": "code",
   "execution_count": null,
   "metadata": {},
   "outputs": [],
   "source": [
    "# We get a sample of the dataset that we are going to use to visualized with which we will build our tableau \n",
    "# and then use the complete dataset.\n",
    "taxi_visualized.sample(0.001).drop('taxi_id')\\\n",
    "               .repartition(1).write.save(\"../Data/taxi_visualized_sample\",format=\"csv\",header=True)"
   ]
  },
  {
   "cell_type": "code",
   "execution_count": null,
   "metadata": {},
   "outputs": [],
   "source": [
    "#We change the csv name and delete the table\n",
    "change_file_name('../Data/taxi_visualized_sample/')\n",
    "shutil.rmtree('../Data/taxi_visualized_sample')"
   ]
  },
  {
   "cell_type": "markdown",
   "metadata": {},
   "source": [
    "### 6.3.2 Dataset we are going to use to build the model"
   ]
  },
  {
   "cell_type": "code",
   "execution_count": null,
   "metadata": {},
   "outputs": [],
   "source": [
    "enc_columns=['taxi_id','payment_type','company','weather_description']"
   ]
  },
  {
   "cell_type": "code",
   "execution_count": null,
   "metadata": {},
   "outputs": [],
   "source": [
    "# We convert the enc_columns from string to integer\n",
    "for column in enc_columns:\n",
    "    feauture_indexer = StringIndexer(inputCol=column,outputCol=column+\"_ind\")\n",
    "    indexer_model = feauture_indexer.fit(taxi_trips)\n",
    "    taxi_trips = indexer_model.transform(taxi_trips)\n",
    "    taxi_trips = taxi_trips.withColumn(column+\"_ind\",F.col(column+\"_ind\").cast(T.IntegerType()))"
   ]
  },
  {
   "cell_type": "markdown",
   "metadata": {},
   "source": [
    "### 6.4 Delete the variables that we are not going to use to model"
   ]
  },
  {
   "cell_type": "code",
   "execution_count": null,
   "metadata": {},
   "outputs": [],
   "source": [
    "taxi_trips=taxi_trips.drop('trip_end_timestamp',\n",
    "                           'trip_miles',\n",
    "                           'tips',\n",
    "                           'tolls',\n",
    "                           'extras',\n",
    "                           'trip_total',\n",
    "                           'AUX_trip_start_timestamp',\n",
    "                           'speed')"
   ]
  },
  {
   "cell_type": "markdown",
   "metadata": {},
   "source": [
    "## 7 Correlation Matrix"
   ]
  },
  {
   "cell_type": "markdown",
   "metadata": {},
   "source": [
    "In this section we are going to build the correlation matrix to get an idea of the variables that most affect when it comes to obtaining the fare."
   ]
  },
  {
   "cell_type": "markdown",
   "metadata": {},
   "source": [
    "### 7.1 Get the variables to be used to construct the matrix"
   ]
  },
  {
   "cell_type": "code",
   "execution_count": null,
   "metadata": {},
   "outputs": [],
   "source": [
    "# We get the numerical variables to construct the matrix correlation\n",
    "numeric_vars = []\n",
    "for col, tipo in taxi_trips.dtypes:\n",
    "    if tipo==\"int\" or tipo==\"float\" or tipo==\"double\" :\n",
    "        numeric_vars.append(col)"
   ]
  },
  {
   "cell_type": "markdown",
   "metadata": {},
   "source": [
    "### 7.2 Construct the correlation matrix"
   ]
  },
  {
   "cell_type": "code",
   "execution_count": null,
   "metadata": {},
   "outputs": [],
   "source": [
    "numeric_df = taxi_trips.select(numeric_vars)\n",
    "corr_matrix = Statistics.corr(numeric_df.rdd.map(lambda x: Vectors.dense(x)))"
   ]
  },
  {
   "cell_type": "code",
   "execution_count": null,
   "metadata": {},
   "outputs": [],
   "source": [
    "corr_matrix = pd.DataFrame(corr_matrix, \n",
    "                           columns = numeric_vars, \n",
    "                           index = numeric_vars)"
   ]
  },
  {
   "cell_type": "code",
   "execution_count": null,
   "metadata": {},
   "outputs": [],
   "source": [
    "mask = np.zeros_like(corr_matrix, dtype=np.bool)\n",
    "index_mask = np.triu_indices_from(mask)\n",
    "mask[index_mask] = True"
   ]
  },
  {
   "cell_type": "code",
   "execution_count": null,
   "metadata": {},
   "outputs": [],
   "source": [
    "corr_matrix = corr_matrix.mask(mask)\n",
    "corr_matrix"
   ]
  },
  {
   "cell_type": "markdown",
   "metadata": {},
   "source": [
    "### 7.3 Plot the correlation matrix"
   ]
  },
  {
   "cell_type": "code",
   "execution_count": null,
   "metadata": {},
   "outputs": [],
   "source": [
    "# Generate a mask for the upper triangle\n",
    "mask = np.zeros_like(corr_matrix, dtype=np.bool)\n",
    "mask[np.triu_indices_from(mask)] = True\n",
    "\n",
    "# Set up the matplotlib figure\n",
    "f, ax = plt.subplots(figsize=(15, 15))\n",
    "\n",
    "# Generate a custom diverging colormap\n",
    "cmap = sns.diverging_palette(220, 10, as_cmap=True)\n",
    "\n",
    "# Draw the heatmap with the mask and correct aspect ratio\n",
    "sns.heatmap(corr_matrix, mask=mask, annot= True, fmt= '.1f',cmap='PiYG', vmin= -1, vmax=1,center=0,\n",
    "            square=True, linewidths=.5, cbar_kws={\"shrink\": .5});"
   ]
  },
  {
   "cell_type": "markdown",
   "metadata": {},
   "source": [
    "## 8 Get the final dataset to model"
   ]
  },
  {
   "cell_type": "markdown",
   "metadata": {},
   "source": [
    "### 8.1 Prepare the dataset we are going to use to model"
   ]
  },
  {
   "cell_type": "code",
   "execution_count": null,
   "metadata": {},
   "outputs": [],
   "source": [
    "taxi_trips.columns"
   ]
  },
  {
   "cell_type": "code",
   "execution_count": null,
   "metadata": {},
   "outputs": [],
   "source": [
    "# We sort the dataset by date\n",
    "taxi_trips=taxi_trips.sort('trip_start_timestamp')"
   ]
  },
  {
   "cell_type": "code",
   "execution_count": null,
   "metadata": {},
   "outputs": [],
   "source": [
    "# We delete the columns that are not useful for our model\n",
    "taxi_trips = taxi_trips.drop('taxi_id',\n",
    "                             'trip_start_timestamp',\n",
    "                             'taxi_id_ind'\n",
    "                             'payment_type_ind',\n",
    "                             'company_ind',\n",
    "                             'weather_description_ind')"
   ]
  },
  {
   "cell_type": "code",
   "execution_count": null,
   "metadata": {},
   "outputs": [],
   "source": [
    "taxi_trips.write.parquet(\"../Data/temp/taxi_model_final.parquet\")"
   ]
  },
  {
   "cell_type": "code",
   "execution_count": null,
   "metadata": {},
   "outputs": [],
   "source": [
    "taxi_trips = session.read.parquet(\"../Data/temp/taxi_model_final.parquet\")"
   ]
  },
  {
   "cell_type": "code",
   "execution_count": null,
   "metadata": {},
   "outputs": [],
   "source": [
    "taxi_trips = taxi_trips.filter(F.col('company')=='Taxi Affiliation Services')"
   ]
  },
  {
   "cell_type": "markdown",
   "metadata": {},
   "source": [
    "### 8.2 Save the full dataset"
   ]
  },
  {
   "cell_type": "code",
   "execution_count": null,
   "metadata": {},
   "outputs": [],
   "source": [
    "# We save the dataset we are goingt to use to model\n",
    "taxi_trips.repartition(1).write.save(\"../Data/taxi_model\",\n",
    "                                                      format=\"csv\",header=True)"
   ]
  },
  {
   "cell_type": "code",
   "execution_count": null,
   "metadata": {},
   "outputs": [],
   "source": [
    "#We change the csv name and delete the table\n",
    "change_file_name('../Data/taxi_model/')\n",
    "shutil.rmtree('../Data/taxi_model')"
   ]
  },
  {
   "cell_type": "code",
   "execution_count": null,
   "metadata": {},
   "outputs": [],
   "source": [
    "# We save the dataset we are going to use to build our model to later use the complete dataset\n",
    "taxi_trips.sample(0.01,seed=13).repartition(1).write.save(\"../Data/taxi_model_sample001\",\n",
    "                                                      format=\"csv\",header=True)"
   ]
  },
  {
   "cell_type": "code",
   "execution_count": null,
   "metadata": {},
   "outputs": [],
   "source": [
    "#We change the csv name and delete the table\n",
    "change_file_name('../Data/taxi_model_sample001/')\n",
    "shutil.rmtree('../Data/taxi_model_sample001')"
   ]
  },
  {
   "cell_type": "markdown",
   "metadata": {},
   "source": [
    "## 9 Conclusion"
   ]
  },
  {
   "cell_type": "markdown",
   "metadata": {},
   "source": [
    "Finally we have created the csv `taxi_model_sample001.csv` which is 1% of the entire dataset. This dataset will be used to build our model and calculate the hyperparameters that best suit our analysis. After calculating the hyperparameters we will train our complete dataset `taxi_model_sample.csv` with these hyperparameters and the method that best result contributes.\n",
    "\n",
    "Regarding the visualization, as we have done for the modeling, we will build our Tableau with the csv `taxi_visualized_sample.csv` for once built and visualized what we want to load the complete csv `taxi_visualized.csv`."
   ]
  },
  {
   "cell_type": "markdown",
   "metadata": {},
   "source": [
    "## 10 Delete the temporal folder"
   ]
  },
  {
   "cell_type": "code",
   "execution_count": null,
   "metadata": {},
   "outputs": [],
   "source": [
    "# We delete the temporal folder with the parquet files\n",
    "shutil.rmtree('../Data/temp')"
   ]
  }
 ],
 "metadata": {
  "colab": {
   "collapsed_sections": [],
   "name": "python_workshop.ipynb",
   "provenance": [],
   "version": "0.3.2"
  },
  "kernelspec": {
   "display_name": "Python 3",
   "language": "python",
   "name": "python3"
  },
  "language_info": {
   "codemirror_mode": {
    "name": "ipython",
    "version": 3
   },
   "file_extension": ".py",
   "mimetype": "text/x-python",
   "name": "python",
   "nbconvert_exporter": "python",
   "pygments_lexer": "ipython3",
   "version": "3.6.8"
  },
  "toc": {
   "base_numbering": 1,
   "nav_menu": {},
   "number_sections": true,
   "sideBar": true,
   "skip_h1_title": false,
   "title_cell": "Table of Contents",
   "title_sidebar": "Contents",
   "toc_cell": false,
   "toc_position": {},
   "toc_section_display": true,
   "toc_window_display": false
  }
 },
 "nbformat": 4,
 "nbformat_minor": 1
}
