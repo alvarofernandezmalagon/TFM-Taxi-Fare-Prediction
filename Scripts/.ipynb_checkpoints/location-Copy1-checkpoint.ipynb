{
 "cells": [
  {
   "cell_type": "code",
   "execution_count": 2,
   "metadata": {},
   "outputs": [],
   "source": [
    "import pandas as pd\n",
    "import matplotlib.pyplot as plt\n",
    "import numpy as np"
   ]
  },
  {
   "cell_type": "code",
   "execution_count": 3,
   "metadata": {},
   "outputs": [],
   "source": [
    "df_train =  pd.read_csv('../Data/taxi_chicago_filter/part-00000-44c385a4-f36a-431e-80a9-ec676819f97e-c000.csv',\n",
    "                        usecols = ['trip_id','pickup_centroid_latitude','pickup_centroid_longitude',\n",
    "                                   'dropoff_centroid_latitude','dropoff_centroid_longitude'])"
   ]
  },
  {
   "cell_type": "code",
   "execution_count": 4,
   "metadata": {},
   "outputs": [
    {
     "data": {
      "text/plain": [
       "22792581"
      ]
     },
     "execution_count": 4,
     "metadata": {},
     "output_type": "execute_result"
    }
   ],
   "source": [
    "len(df_train)"
   ]
  },
  {
   "cell_type": "code",
   "execution_count": 5,
   "metadata": {},
   "outputs": [],
   "source": [
    "# load image of Chigago map\n",
    "BB = (-87.95, -87.5306, 42.03, 41.66)\n",
    "chicago_map = plt.imread('../Data/maps/chicago_map.png')"
   ]
  },
  {
   "cell_type": "code",
   "execution_count": null,
   "metadata": {},
   "outputs": [],
   "source": [
    "def plot_on_map(df, BB, nyc_map, s=10, alpha=0.2):\n",
    "    fig, axs = plt.subplots(1, 2, figsize=(16,10))\n",
    "    axs[0].scatter(df.pickup_centroid_longitude, df.pickup_centroid_latitude, zorder=1, alpha=alpha, c='r', s=s)\n",
    "    axs[0].set_xlim((BB[0], BB[1]))\n",
    "    axs[0].set_ylim((BB[2], BB[3]))\n",
    "    axs[0].set_title('Pickup locations')\n",
    "    axs[0].imshow(nyc_map, zorder=0, extent=BB)\n",
    "\n",
    "    axs[1].scatter(df.dropoff_centroid_longitude, df.dropoff_centroid_latitude, zorder=1, alpha=alpha, c='r', s=s)\n",
    "    axs[1].set_xlim((BB[0], BB[1]))\n",
    "    axs[1].set_ylim((BB[2], BB[3]))\n",
    "    axs[1].set_title('Dropoff locations')\n",
    "    axs[1].imshow(nyc_map, zorder=0, extent=BB)"
   ]
  },
  {
   "cell_type": "code",
   "execution_count": null,
   "metadata": {},
   "outputs": [],
   "source": [
    "plot_on_map(df_train, BB, chicago_map, s=1, alpha=0.3)"
   ]
  },
  {
   "cell_type": "code",
   "execution_count": null,
   "metadata": {},
   "outputs": [],
   "source": [
    "# read nyc mask and turn into boolean map with\n",
    "# land = True, water = False\n",
    "chicago_mask = plt.imread('../Data/maps/chicago_edited_map.png')[:,:,0] > 0.8\n",
    "\n",
    "plt.figure(figsize=(8,8))\n",
    "plt.imshow(chicago_map, zorder=0)\n",
    "plt.imshow(chicago_mask, zorder=1, alpha=1); # note: True is show in black, False in white."
   ]
  },
  {
   "cell_type": "code",
   "execution_count": null,
   "metadata": {},
   "outputs": [],
   "source": [
    "# translate longitude/latitude coordinate into image xy coordinate\n",
    "def lonlat_to_xy(longitude, latitude, dx, dy, BB):\n",
    "    return (dx*(longitude - BB[0])/(BB[1]-BB[0])).astype('int'), \\\n",
    "           (dy - dy*(latitude - BB[2])/(BB[3]-BB[2])).astype('int')"
   ]
  },
  {
   "cell_type": "code",
   "execution_count": null,
   "metadata": {},
   "outputs": [],
   "source": [
    "pickup_x, pickup_y = lonlat_to_xy(df_train.pickup_centroid_longitude, df_train.pickup_centroid_latitude, \n",
    "                                  chicago_mask.shape[1], chicago_mask.shape[0], BB)\n",
    "dropoff_x, dropoff_y = lonlat_to_xy(df_train.dropoff_centroid_longitude, df_train.dropoff_centroid_latitude, \n",
    "                                  chicago_mask.shape[1], chicago_mask.shape[0], BB)"
   ]
  },
  {
   "cell_type": "code",
   "execution_count": null,
   "metadata": {},
   "outputs": [],
   "source": [
    "idx = (chicago_mask[pickup_y, pickup_x] & chicago_mask[dropoff_y, dropoff_x])\n",
    "print(\"Number of trips in water: {}\".format(np.sum(idx)))"
   ]
  },
  {
   "cell_type": "code",
   "execution_count": null,
   "metadata": {},
   "outputs": [],
   "source": [
    "def remove_datapoints_from_water(df):\n",
    "    def lonlat_to_xy(longitude, latitude, dx, dy, BB):\n",
    "        return (dx*(longitude - BB[0])/(BB[1]-BB[0])).astype('int'), \\\n",
    "               (dy - dy*(latitude - BB[2])/(BB[3]-BB[2])).astype('int')\n",
    "\n",
    "    # define bounding box\n",
    "    BB = (-87.95, -87.5306, 42.03, 41.66)\n",
    "    \n",
    "    # read nyc mask and turn into boolean map with\n",
    "    # land = True, water = False\n",
    "    nyc_mask = plt.imread('../Data/maps/chicago_edited_map.png')[:,:,0] > 0.8\n",
    "    \n",
    "    # calculate for each lon,lat coordinate the xy coordinate in the mask map\n",
    "    pickup_x, pickup_y = lonlat_to_xy(df.pickup_centroid_longitude, df.pickup_centroid_latitude, \n",
    "                                      nyc_mask.shape[1], nyc_mask.shape[0], BB)\n",
    "    dropoff_x, dropoff_y = lonlat_to_xy(df.dropoff_centroid_longitude, df.dropoff_centroid_latitude, \n",
    "                                      nyc_mask.shape[1], nyc_mask.shape[0], BB)    \n",
    "    # calculate boolean index\n",
    "    idx = nyc_mask[pickup_y, pickup_x] & nyc_mask[dropoff_y, dropoff_x]\n",
    "    \n",
    "    # return only datapoints on land\n",
    "    return df[~idx]"
   ]
  },
  {
   "cell_type": "code",
   "execution_count": null,
   "metadata": {},
   "outputs": [],
   "source": [
    "len(df_train)"
   ]
  },
  {
   "cell_type": "code",
   "execution_count": null,
   "metadata": {},
   "outputs": [],
   "source": [
    "df_train1 = remove_datapoints_from_water(df_train)"
   ]
  },
  {
   "cell_type": "code",
   "execution_count": null,
   "metadata": {},
   "outputs": [],
   "source": [
    "len(df_train1)"
   ]
  },
  {
   "cell_type": "code",
   "execution_count": null,
   "metadata": {},
   "outputs": [],
   "source": [
    "plot_on_map(df_train1, BB, chicago_map, s=1, alpha=0.3)"
   ]
  },
  {
   "cell_type": "code",
   "execution_count": null,
   "metadata": {},
   "outputs": [],
   "source": []
  }
 ],
 "metadata": {
  "kernelspec": {
   "display_name": "Python 3",
   "language": "python",
   "name": "python3"
  },
  "language_info": {
   "codemirror_mode": {
    "name": "ipython",
    "version": 3
   },
   "file_extension": ".py",
   "mimetype": "text/x-python",
   "name": "python",
   "nbconvert_exporter": "python",
   "pygments_lexer": "ipython3",
   "version": "3.6.8"
  }
 },
 "nbformat": 4,
 "nbformat_minor": 2
}
