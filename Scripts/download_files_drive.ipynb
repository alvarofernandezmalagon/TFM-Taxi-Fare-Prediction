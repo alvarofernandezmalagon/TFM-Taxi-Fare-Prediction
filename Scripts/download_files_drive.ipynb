{
 "cells": [
  {
   "cell_type": "markdown",
   "metadata": {},
   "source": [
    "# Download project data\n",
    "The objective of this notebook is to download the files that have been used in our project."
   ]
  },
  {
   "cell_type": "markdown",
   "metadata": {},
   "source": [
    "## Install library"
   ]
  },
  {
   "cell_type": "code",
   "execution_count": 1,
   "metadata": {},
   "outputs": [
    {
     "name": "stdout",
     "output_type": "stream",
     "text": [
      "Requirement already satisfied: googledrivedownloader in /anaconda3/lib/python3.6/site-packages (0.3)\r\n"
     ]
    }
   ],
   "source": [
    "!pip install googledrivedownloader"
   ]
  },
  {
   "cell_type": "markdown",
   "metadata": {},
   "source": [
    "## Import libraries"
   ]
  },
  {
   "cell_type": "code",
   "execution_count": 2,
   "metadata": {},
   "outputs": [],
   "source": [
    "from google_drive_downloader import GoogleDriveDownloader as gdd\n",
    "from datetime import datetime"
   ]
  },
  {
   "cell_type": "markdown",
   "metadata": {},
   "source": [
    "## Download the Data folder"
   ]
  },
  {
   "cell_type": "code",
   "execution_count": 3,
   "metadata": {},
   "outputs": [
    {
     "name": "stdout",
     "output_type": "stream",
     "text": [
      "Starting to unzip at 2019-05-15 13:01:39.572012\n",
      "Downloading 1hurkVt0P-_bas6Y-jYySrdeAdUk6v6Gf into ./Data.zip... Done.\n",
      "Finished unzip at 2019-05-15 13:08:10.865879\n"
     ]
    }
   ],
   "source": [
    "print('Starting to unzip at %s' %(datetime.now()))\n",
    "gdd.download_file_from_google_drive(file_id='1hurkVt0P-_bas6Y-jYySrdeAdUk6v6Gf',\n",
    "                                    dest_path='../Data.zip')\n",
    "print('Finished unzip at %s' %(datetime.now()))"
   ]
  },
  {
   "cell_type": "markdown",
   "metadata": {},
   "source": [
    "## Unzip the Data folder"
   ]
  },
  {
   "cell_type": "code",
   "execution_count": 4,
   "metadata": {},
   "outputs": [
    {
     "name": "stdout",
     "output_type": "stream",
     "text": [
      "Starting to unzip at 2019-05-15 13:08:10.872544\n",
      "Archive:  ./Data.zip\n",
      "   creating: ./Data/\n",
      "  inflating: ./Data/.DS_Store        \n",
      "   creating: ./Data/Community Areas/\n",
      "  inflating: ./Data/Community Areas/Community_Areas_and_Neigborhoods_City_of_Chicago.csv  \n",
      "  inflating: ./Data/Community Areas/Community_Areas_and_Neigborhoods_City_of_Chicago.xlsx  \n",
      "  inflating: ./Data/Taxi_Trips.csv.gz  \n",
      "   creating: ./Data/historical-hourly-weather-data/\n",
      "  inflating: ./Data/historical-hourly-weather-data/city_attributes.csv  \n",
      "  inflating: ./Data/historical-hourly-weather-data/humidity.csv  \n",
      "  inflating: ./Data/historical-hourly-weather-data/pressure.csv  \n",
      "  inflating: ./Data/historical-hourly-weather-data/temperature.csv  \n",
      "  inflating: ./Data/historical-hourly-weather-data/weather_description.csv  \n",
      "  inflating: ./Data/historical-hourly-weather-data/wind_direction.csv  \n",
      "  inflating: ./Data/historical-hourly-weather-data/wind_speed.csv  \n",
      "   creating: ./Data/maps/\n",
      "  inflating: ./Data/maps/.DS_Store   \n",
      "  inflating: ./Data/maps/chicago_edited_map.png  \n",
      " extracting: ./Data/maps/chicago_map.png  \n",
      "Finished unzip at 2019-05-15 13:09:57.640743\n"
     ]
    }
   ],
   "source": [
    "print('Starting to unzip at %s' %(datetime.now()))\n",
    "!unzip '../Data.zip' -d './'\n",
    "print('Finished unzip at %s' %(datetime.now()))"
   ]
  },
  {
   "cell_type": "markdown",
   "metadata": {},
   "source": [
    "## Remove the Data folder .zip"
   ]
  },
  {
   "cell_type": "code",
   "execution_count": 5,
   "metadata": {},
   "outputs": [],
   "source": [
    "rm '../Data.zip'"
   ]
  }
 ],
 "metadata": {
  "kernelspec": {
   "display_name": "Python 3",
   "language": "python",
   "name": "python3"
  },
  "language_info": {
   "codemirror_mode": {
    "name": "ipython",
    "version": 3
   },
   "file_extension": ".py",
   "mimetype": "text/x-python",
   "name": "python",
   "nbconvert_exporter": "python",
   "pygments_lexer": "ipython3",
   "version": "3.6.8"
  }
 },
 "nbformat": 4,
 "nbformat_minor": 2
}
